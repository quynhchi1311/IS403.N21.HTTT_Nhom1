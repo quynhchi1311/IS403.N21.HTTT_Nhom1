{
  "nbformat": 4,
  "nbformat_minor": 0,
  "metadata": {
    "colab": {
      "provenance": []
    },
    "kernelspec": {
      "name": "python3",
      "display_name": "Python 3"
    },
    "language_info": {
      "name": "python"
    }
  },
  "cells": [
    {
      "cell_type": "code",
      "execution_count": 1,
      "metadata": {
        "id": "sP9QBXr_bfYE"
      },
      "outputs": [],
      "source": [
        "# 1. Các thư viện cần thiết\n",
        "import numpy as np\n",
        "import pandas as pd\n",
        "import seaborn as sns\n",
        "import matplotlib.pyplot as plt\n",
        "from sklearn.preprocessing import MinMaxScaler\n",
        "from sklearn.linear_model import LinearRegression\n",
        "from statsmodels.tsa.statespace.sarimax import SARIMAX"
      ]
    },
    {
      "cell_type": "code",
      "source": [
        "from google.colab import drive\n",
        "drive.mount('/content/drive')"
      ],
      "metadata": {
        "colab": {
          "base_uri": "https://localhost:8080/"
        },
        "id": "-6Zsgb7lbrpN",
        "outputId": "e95da27c-f41a-4d55-a390-7dbfe4a1c332"
      },
      "execution_count": 2,
      "outputs": [
        {
          "output_type": "stream",
          "name": "stdout",
          "text": [
            "Mounted at /content/drive\n"
          ]
        }
      ]
    },
    {
      "cell_type": "code",
      "source": [
        "# 2. Đọc file dữ liệu chứng khoán XOM\n",
        "df_input = pd.read_csv('/content/drive/MyDrive/StockData/VLO.csv')\n",
        "\n",
        "# 3. Đọc file dữ liệu trên tập dữ liệu dùng làm biến ngoại sinh (exogenous)\n",
        "df_exo = pd.read_csv('/content/drive/MyDrive/StockData/DCOILWTICO.csv')"
      ],
      "metadata": {
        "id": "bOzVvrhcbu2f"
      },
      "execution_count": 3,
      "outputs": []
    },
    {
      "cell_type": "code",
      "source": [
        "# Đổi tên các cột DATE và DCOILWTICO\n",
        "df_exo = df_exo.rename(columns={'DATE': 'Date', 'DCOILWTICO': 'WTI Price'})\n",
        "\n",
        "# Chỉ lưu giữ các dòng trong df_exo có mà df_xom cũng có dựa trên cột ngày\n",
        "df_exo = df_exo[df_exo['Date'].isin(df_input['Date'])]\n",
        "\n",
        "# Thay thế các ô có giá trị '.' bằng NaN\n",
        "df_exo.replace('.', np.nan, inplace=True)\n",
        "\n",
        "# Chuyển đổi kiểu dữ liệu của cột 'WTI Price' thành float64\n",
        "df_exo['WTI Price'] = df_exo['WTI Price'].astype(float)\n",
        "\n",
        "# Tính giá trị trung bình của cột 'WTI Price'\n",
        "mean_value = df_exo['WTI Price'].mean()\n",
        "\n",
        "# Thay thế các NaN bằng giá trị trung bình\n",
        "df_exo['WTI Price'].fillna(mean_value, inplace=True)"
      ],
      "metadata": {
        "id": "Ibmj0WzueM2d"
      },
      "execution_count": 4,
      "outputs": []
    },
    {
      "cell_type": "code",
      "source": [
        "df = pd.merge(df_input, df_exo, on='Date')\n",
        "df.head(10)"
      ],
      "metadata": {
        "colab": {
          "base_uri": "https://localhost:8080/",
          "height": 363
        },
        "id": "KvifjhBTb3yt",
        "outputId": "f0eb5d8c-5afa-48bb-e938-ffa1332a0ecb"
      },
      "execution_count": 5,
      "outputs": [
        {
          "output_type": "execute_result",
          "data": {
            "text/plain": [
              "         Date       Open       High        Low      Close  Adj Close   Volume  \\\n",
              "0  2018-01-02  92.190002  93.139999  91.709999  92.800003  72.733246  3582900   \n",
              "1  2018-01-03  92.580002  93.470001  92.500000  93.290001  73.117287  3057600   \n",
              "2  2018-01-04  93.410004  93.620003  92.639999  93.589996  73.352409  2977000   \n",
              "3  2018-01-05  93.599998  94.300003  93.430000  94.029999  73.697281  2973800   \n",
              "4  2018-01-08  94.129997  94.370003  93.400002  94.220001  73.846191  2493400   \n",
              "5  2018-01-09  94.760002  94.959999  94.000000  94.099998  73.752144  3884900   \n",
              "6  2018-01-10  93.809998  94.650002  93.559998  94.150002  73.791344  2391800   \n",
              "7  2018-01-11  94.589996  94.610001  93.610001  94.550003  74.104836  2679700   \n",
              "8  2018-01-12  94.910004  97.000000  94.709999  96.750000  75.829109  2873400   \n",
              "9  2018-01-16  96.849998  97.550003  95.660004  96.150002  75.358849  3052500   \n",
              "\n",
              "   WTI Price  \n",
              "0      60.37  \n",
              "1      61.61  \n",
              "2      61.98  \n",
              "3      61.49  \n",
              "4      61.73  \n",
              "5      62.92  \n",
              "6      63.60  \n",
              "7      63.81  \n",
              "8      64.22  \n",
              "9      63.82  "
            ],
            "text/html": [
              "\n",
              "  <div id=\"df-644e7468-49cf-4843-bbb7-63cc23915765\">\n",
              "    <div class=\"colab-df-container\">\n",
              "      <div>\n",
              "<style scoped>\n",
              "    .dataframe tbody tr th:only-of-type {\n",
              "        vertical-align: middle;\n",
              "    }\n",
              "\n",
              "    .dataframe tbody tr th {\n",
              "        vertical-align: top;\n",
              "    }\n",
              "\n",
              "    .dataframe thead th {\n",
              "        text-align: right;\n",
              "    }\n",
              "</style>\n",
              "<table border=\"1\" class=\"dataframe\">\n",
              "  <thead>\n",
              "    <tr style=\"text-align: right;\">\n",
              "      <th></th>\n",
              "      <th>Date</th>\n",
              "      <th>Open</th>\n",
              "      <th>High</th>\n",
              "      <th>Low</th>\n",
              "      <th>Close</th>\n",
              "      <th>Adj Close</th>\n",
              "      <th>Volume</th>\n",
              "      <th>WTI Price</th>\n",
              "    </tr>\n",
              "  </thead>\n",
              "  <tbody>\n",
              "    <tr>\n",
              "      <th>0</th>\n",
              "      <td>2018-01-02</td>\n",
              "      <td>92.190002</td>\n",
              "      <td>93.139999</td>\n",
              "      <td>91.709999</td>\n",
              "      <td>92.800003</td>\n",
              "      <td>72.733246</td>\n",
              "      <td>3582900</td>\n",
              "      <td>60.37</td>\n",
              "    </tr>\n",
              "    <tr>\n",
              "      <th>1</th>\n",
              "      <td>2018-01-03</td>\n",
              "      <td>92.580002</td>\n",
              "      <td>93.470001</td>\n",
              "      <td>92.500000</td>\n",
              "      <td>93.290001</td>\n",
              "      <td>73.117287</td>\n",
              "      <td>3057600</td>\n",
              "      <td>61.61</td>\n",
              "    </tr>\n",
              "    <tr>\n",
              "      <th>2</th>\n",
              "      <td>2018-01-04</td>\n",
              "      <td>93.410004</td>\n",
              "      <td>93.620003</td>\n",
              "      <td>92.639999</td>\n",
              "      <td>93.589996</td>\n",
              "      <td>73.352409</td>\n",
              "      <td>2977000</td>\n",
              "      <td>61.98</td>\n",
              "    </tr>\n",
              "    <tr>\n",
              "      <th>3</th>\n",
              "      <td>2018-01-05</td>\n",
              "      <td>93.599998</td>\n",
              "      <td>94.300003</td>\n",
              "      <td>93.430000</td>\n",
              "      <td>94.029999</td>\n",
              "      <td>73.697281</td>\n",
              "      <td>2973800</td>\n",
              "      <td>61.49</td>\n",
              "    </tr>\n",
              "    <tr>\n",
              "      <th>4</th>\n",
              "      <td>2018-01-08</td>\n",
              "      <td>94.129997</td>\n",
              "      <td>94.370003</td>\n",
              "      <td>93.400002</td>\n",
              "      <td>94.220001</td>\n",
              "      <td>73.846191</td>\n",
              "      <td>2493400</td>\n",
              "      <td>61.73</td>\n",
              "    </tr>\n",
              "    <tr>\n",
              "      <th>5</th>\n",
              "      <td>2018-01-09</td>\n",
              "      <td>94.760002</td>\n",
              "      <td>94.959999</td>\n",
              "      <td>94.000000</td>\n",
              "      <td>94.099998</td>\n",
              "      <td>73.752144</td>\n",
              "      <td>3884900</td>\n",
              "      <td>62.92</td>\n",
              "    </tr>\n",
              "    <tr>\n",
              "      <th>6</th>\n",
              "      <td>2018-01-10</td>\n",
              "      <td>93.809998</td>\n",
              "      <td>94.650002</td>\n",
              "      <td>93.559998</td>\n",
              "      <td>94.150002</td>\n",
              "      <td>73.791344</td>\n",
              "      <td>2391800</td>\n",
              "      <td>63.60</td>\n",
              "    </tr>\n",
              "    <tr>\n",
              "      <th>7</th>\n",
              "      <td>2018-01-11</td>\n",
              "      <td>94.589996</td>\n",
              "      <td>94.610001</td>\n",
              "      <td>93.610001</td>\n",
              "      <td>94.550003</td>\n",
              "      <td>74.104836</td>\n",
              "      <td>2679700</td>\n",
              "      <td>63.81</td>\n",
              "    </tr>\n",
              "    <tr>\n",
              "      <th>8</th>\n",
              "      <td>2018-01-12</td>\n",
              "      <td>94.910004</td>\n",
              "      <td>97.000000</td>\n",
              "      <td>94.709999</td>\n",
              "      <td>96.750000</td>\n",
              "      <td>75.829109</td>\n",
              "      <td>2873400</td>\n",
              "      <td>64.22</td>\n",
              "    </tr>\n",
              "    <tr>\n",
              "      <th>9</th>\n",
              "      <td>2018-01-16</td>\n",
              "      <td>96.849998</td>\n",
              "      <td>97.550003</td>\n",
              "      <td>95.660004</td>\n",
              "      <td>96.150002</td>\n",
              "      <td>75.358849</td>\n",
              "      <td>3052500</td>\n",
              "      <td>63.82</td>\n",
              "    </tr>\n",
              "  </tbody>\n",
              "</table>\n",
              "</div>\n",
              "      <button class=\"colab-df-convert\" onclick=\"convertToInteractive('df-644e7468-49cf-4843-bbb7-63cc23915765')\"\n",
              "              title=\"Convert this dataframe to an interactive table.\"\n",
              "              style=\"display:none;\">\n",
              "        \n",
              "  <svg xmlns=\"http://www.w3.org/2000/svg\" height=\"24px\"viewBox=\"0 0 24 24\"\n",
              "       width=\"24px\">\n",
              "    <path d=\"M0 0h24v24H0V0z\" fill=\"none\"/>\n",
              "    <path d=\"M18.56 5.44l.94 2.06.94-2.06 2.06-.94-2.06-.94-.94-2.06-.94 2.06-2.06.94zm-11 1L8.5 8.5l.94-2.06 2.06-.94-2.06-.94L8.5 2.5l-.94 2.06-2.06.94zm10 10l.94 2.06.94-2.06 2.06-.94-2.06-.94-.94-2.06-.94 2.06-2.06.94z\"/><path d=\"M17.41 7.96l-1.37-1.37c-.4-.4-.92-.59-1.43-.59-.52 0-1.04.2-1.43.59L10.3 9.45l-7.72 7.72c-.78.78-.78 2.05 0 2.83L4 21.41c.39.39.9.59 1.41.59.51 0 1.02-.2 1.41-.59l7.78-7.78 2.81-2.81c.8-.78.8-2.07 0-2.86zM5.41 20L4 18.59l7.72-7.72 1.47 1.35L5.41 20z\"/>\n",
              "  </svg>\n",
              "      </button>\n",
              "      \n",
              "  <style>\n",
              "    .colab-df-container {\n",
              "      display:flex;\n",
              "      flex-wrap:wrap;\n",
              "      gap: 12px;\n",
              "    }\n",
              "\n",
              "    .colab-df-convert {\n",
              "      background-color: #E8F0FE;\n",
              "      border: none;\n",
              "      border-radius: 50%;\n",
              "      cursor: pointer;\n",
              "      display: none;\n",
              "      fill: #1967D2;\n",
              "      height: 32px;\n",
              "      padding: 0 0 0 0;\n",
              "      width: 32px;\n",
              "    }\n",
              "\n",
              "    .colab-df-convert:hover {\n",
              "      background-color: #E2EBFA;\n",
              "      box-shadow: 0px 1px 2px rgba(60, 64, 67, 0.3), 0px 1px 3px 1px rgba(60, 64, 67, 0.15);\n",
              "      fill: #174EA6;\n",
              "    }\n",
              "\n",
              "    [theme=dark] .colab-df-convert {\n",
              "      background-color: #3B4455;\n",
              "      fill: #D2E3FC;\n",
              "    }\n",
              "\n",
              "    [theme=dark] .colab-df-convert:hover {\n",
              "      background-color: #434B5C;\n",
              "      box-shadow: 0px 1px 3px 1px rgba(0, 0, 0, 0.15);\n",
              "      filter: drop-shadow(0px 1px 2px rgba(0, 0, 0, 0.3));\n",
              "      fill: #FFFFFF;\n",
              "    }\n",
              "  </style>\n",
              "\n",
              "      <script>\n",
              "        const buttonEl =\n",
              "          document.querySelector('#df-644e7468-49cf-4843-bbb7-63cc23915765 button.colab-df-convert');\n",
              "        buttonEl.style.display =\n",
              "          google.colab.kernel.accessAllowed ? 'block' : 'none';\n",
              "\n",
              "        async function convertToInteractive(key) {\n",
              "          const element = document.querySelector('#df-644e7468-49cf-4843-bbb7-63cc23915765');\n",
              "          const dataTable =\n",
              "            await google.colab.kernel.invokeFunction('convertToInteractive',\n",
              "                                                     [key], {});\n",
              "          if (!dataTable) return;\n",
              "\n",
              "          const docLinkHtml = 'Like what you see? Visit the ' +\n",
              "            '<a target=\"_blank\" href=https://colab.research.google.com/notebooks/data_table.ipynb>data table notebook</a>'\n",
              "            + ' to learn more about interactive tables.';\n",
              "          element.innerHTML = '';\n",
              "          dataTable['output_type'] = 'display_data';\n",
              "          await google.colab.output.renderOutput(dataTable, element);\n",
              "          const docLink = document.createElement('div');\n",
              "          docLink.innerHTML = docLinkHtml;\n",
              "          element.appendChild(docLink);\n",
              "        }\n",
              "      </script>\n",
              "    </div>\n",
              "  </div>\n",
              "  "
            ]
          },
          "metadata": {},
          "execution_count": 5
        }
      ]
    },
    {
      "cell_type": "code",
      "source": [
        "# 4. Chia train test validate theo tỉ lệ 6:2:2\n",
        "df = df[['Close', 'WTI Price']]\n",
        "df = df.dropna() # Drop missing values\n",
        "df = df.reset_index(drop=True) # Reset the index\n",
        "\n",
        "# Split the data into training, testing, and validation sets\n",
        "train_size = int(0.6 * len(df))\n",
        "test_size = int(0.2 * len(df))\n",
        "val_size = len(df) - train_size - test_size\n",
        "\n",
        "train_data = df[:train_size]\n",
        "test_data = df[train_size:train_size+test_size]\n",
        "val_data = df[train_size+test_size:]\n",
        "\n",
        "print(len(train_data))\n",
        "print(len(test_data))\n",
        "print(len(val_data))"
      ],
      "metadata": {
        "colab": {
          "base_uri": "https://localhost:8080/"
        },
        "id": "CGYTVXocd1yq",
        "outputId": "b4ebfa79-2d10-4809-d754-960cf23d9140"
      },
      "execution_count": 6,
      "outputs": [
        {
          "output_type": "stream",
          "name": "stdout",
          "text": [
            "801\n",
            "267\n",
            "268\n"
          ]
        }
      ]
    },
    {
      "cell_type": "code",
      "source": [
        "exo_arr = np.array(train_data['WTI Price'])\n",
        "data_arr = np.array(train_data['Close'])\n",
        "# vẽ biểu đồ scatter plot để xem sự tương quan giữa giá cổ phiếu XOM và giá trị biến ngoại sinh\n",
        "plt.scatter(x = data_arr, y = exo_arr)\n",
        "plt.show()"
      ],
      "metadata": {
        "colab": {
          "base_uri": "https://localhost:8080/",
          "height": 430
        },
        "id": "O5U3Bi-JhiXe",
        "outputId": "029e7add-04d8-4227-94e8-8a210d5f5722"
      },
      "execution_count": 7,
      "outputs": [
        {
          "output_type": "display_data",
          "data": {
            "text/plain": [
              "<Figure size 640x480 with 1 Axes>"
            ],
            "image/png": "[encoded data removed]"
          },
          "metadata": {}
        }
      ]
    },
    {
      "cell_type": "code",
      "source": [
        "# Tìm hệ số tương quan giữa 2 cột Close và giá trị biến ngoại sinh\n",
        "correlation = np.corrcoef(data_arr, exo_arr)[0, 1]\n",
        "\n",
        "# In kết quả\n",
        "print(\"Hệ số tương quan: \", correlation)"
      ],
      "metadata": {
        "colab": {
          "base_uri": "https://localhost:8080/"
        },
        "id": "g6I26Dn7kWj1",
        "outputId": "570c3670-bd7e-4a73-eaf8-329e20e290be"
      },
      "execution_count": 8,
      "outputs": [
        {
          "output_type": "stream",
          "name": "stdout",
          "text": [
            "Hệ số tương quan:  0.8364632305949692\n"
          ]
        }
      ]
    },
    {
      "cell_type": "code",
      "source": [
        "!pip install pmdarima"
      ],
      "metadata": {
        "colab": {
          "base_uri": "https://localhost:8080/"
        },
        "id": "Fki0udbIkhIO",
        "outputId": "338a4745-f38e-4125-ecd5-a6802d611e17"
      },
      "execution_count": 9,
      "outputs": [
        {
          "output_type": "stream",
          "name": "stdout",
          "text": [
            "Looking in indexes: https://pypi.org/simple, https://us-python.pkg.dev/colab-wheels/public/simple/\n",
            "Collecting pmdarima\n",
            "  Downloading pmdarima-2.0.3-cp310-cp310-manylinux_2_17_x86_64.manylinux2014_x86_64.manylinux_2_28_x86_64.whl (1.8 MB)\n",
            "\u001b[2K     \u001b[90m━━━━━━━━━━━━━━━━━━━━━━━━━━━━━━━━━━━━━━━━\u001b[0m \u001b[32m1.8/1.8 MB\u001b[0m \u001b[31m19.9 MB/s\u001b[0m eta \u001b[36m0:00:00\u001b[0m\n",
            "\u001b[?25hRequirement already satisfied: joblib>=0.11 in /usr/local/lib/python3.10/dist-packages (from pmdarima) (1.2.0)\n",
            "Requirement already satisfied: Cython!=0.29.18,!=0.29.31,>=0.29 in /usr/local/lib/python3.10/dist-packages (from pmdarima) (0.29.34)\n",
            "Requirement already satisfied: numpy>=1.21.2 in /usr/local/lib/python3.10/dist-packages (from pmdarima) (1.22.4)\n",
            "Requirement already satisfied: pandas>=0.19 in /usr/local/lib/python3.10/dist-packages (from pmdarima) (1.5.3)\n",
            "Requirement already satisfied: scikit-learn>=0.22 in /usr/local/lib/python3.10/dist-packages (from pmdarima) (1.2.2)\n",
            "Requirement already satisfied: scipy>=1.3.2 in /usr/local/lib/python3.10/dist-packages (from pmdarima) (1.10.1)\n",
            "Requirement already satisfied: statsmodels>=0.13.2 in /usr/local/lib/python3.10/dist-packages (from pmdarima) (0.13.5)\n",
            "Requirement already satisfied: urllib3 in /usr/local/lib/python3.10/dist-packages (from pmdarima) (1.26.15)\n",
            "Requirement already satisfied: setuptools!=50.0.0,>=38.6.0 in /usr/local/lib/python3.10/dist-packages (from pmdarima) (67.7.2)\n",
            "Requirement already satisfied: python-dateutil>=2.8.1 in /usr/local/lib/python3.10/dist-packages (from pandas>=0.19->pmdarima) (2.8.2)\n",
            "Requirement already satisfied: pytz>=2020.1 in /usr/local/lib/python3.10/dist-packages (from pandas>=0.19->pmdarima) (2022.7.1)\n",
            "Requirement already satisfied: threadpoolctl>=2.0.0 in /usr/local/lib/python3.10/dist-packages (from scikit-learn>=0.22->pmdarima) (3.1.0)\n",
            "Requirement already satisfied: patsy>=0.5.2 in /usr/local/lib/python3.10/dist-packages (from statsmodels>=0.13.2->pmdarima) (0.5.3)\n",
            "Requirement already satisfied: packaging>=21.3 in /usr/local/lib/python3.10/dist-packages (from statsmodels>=0.13.2->pmdarima) (23.1)\n",
            "Requirement already satisfied: six in /usr/local/lib/python3.10/dist-packages (from patsy>=0.5.2->statsmodels>=0.13.2->pmdarima) (1.16.0)\n",
            "Installing collected packages: pmdarima\n",
            "Successfully installed pmdarima-2.0.3\n"
          ]
        }
      ]
    },
    {
      "cell_type": "code",
      "source": [
        "# 3. Quá trình Training\n",
        "train_exo = train_data[[\"WTI Price\"]]\n",
        "\n",
        "# Sử dụng auto_arima kèm biến ngoại sinh tìm ra model tốt nhất\n",
        "from pmdarima.arima import auto_arima\n",
        "model = auto_arima(train_data['Close'],\n",
        "                      trace=True,\n",
        "                      error_action='ignore',\n",
        "                      suppress_warnings=True,\n",
        "                      exogenous= train_exo)\n",
        "\n",
        "# Gán các giá trị p, d, q vào các biến tương ứng\n",
        "p = model.order[0]\n",
        "d = model.order[1]\n",
        "q = model.order[2]"
      ],
      "metadata": {
        "colab": {
          "base_uri": "https://localhost:8080/"
        },
        "id": "upEPZhaOlHbs",
        "outputId": "fff820ac-4f6a-4398-d98f-2cef29d65a8f"
      },
      "execution_count": 10,
      "outputs": [
        {
          "output_type": "stream",
          "name": "stdout",
          "text": [
            "Performing stepwise search to minimize aic\n",
            " ARIMA(2,1,2)(0,0,0)[0] intercept   : AIC=3398.880, Time=0.60 sec\n",
            " ARIMA(0,1,0)(0,0,0)[0] intercept   : AIC=3398.141, Time=0.04 sec\n",
            " ARIMA(1,1,0)(0,0,0)[0] intercept   : AIC=3399.566, Time=0.17 sec\n",
            " ARIMA(0,1,1)(0,0,0)[0] intercept   : AIC=3399.606, Time=0.32 sec\n",
            " ARIMA(0,1,0)(0,0,0)[0]             : AIC=3396.222, Time=0.08 sec\n",
            " ARIMA(1,1,1)(0,0,0)[0] intercept   : AIC=3401.301, Time=0.65 sec\n",
            "\n",
            "Best model:  ARIMA(0,1,0)(0,0,0)[0]          \n",
            "Total fit time: 1.899 seconds\n"
          ]
        }
      ]
    },
    {
      "cell_type": "code",
      "source": [
        "# Khởi tạo mô hình ARIMAX với order=(p, d, q) và khai báo biến ngoại sinh\n",
        "model= SARIMAX(train_data['Close'],\n",
        " exog=train_exo,\n",
        " order=(p,d,q),\n",
        " enforce_invertibility=False, enforce_stationarity=False)\n",
        "\n",
        "# Fit mô hình bằng dữ liệu huấn luyện để tìm ra các giá trị tối ưu cho các tham số của mô hình\n",
        "model = model.fit()"
      ],
      "metadata": {
        "id": "wbsyLGjTvw9w"
      },
      "execution_count": 11,
      "outputs": []
    },
    {
      "cell_type": "code",
      "source": [
        "# 4. Quá trình testing\n",
        "x_test = np.array(test_data.index).reshape(-1, 1)\n",
        "y_test = np.array(test_data['Close'])\n",
        "test_exo = test_data[['WTI Price']]\n",
        "y_pred = model.forecast(steps=len(y_test), exog=test_exo)\n",
        "\n",
        "# 5. Quá trình Validate\n",
        "x_val= np.array(val_data.index).reshape(-1, 1)\n",
        "y_val = np.array(val_data['Close'])\n",
        "val_exo = val_data[['WTI Price']]\n",
        "y_pred_val =  model.forecast(steps=len(y_val), exog=val_exo)"
      ],
      "metadata": {
        "id": "3oroFPUqpUjk"
      },
      "execution_count": 12,
      "outputs": []
    },
    {
      "cell_type": "code",
      "source": [
        "# 6. Đánh giá độ chính xác thuật toán bằng RMSE\n",
        "# Tính MAPE\n",
        "def calculate_mape(y_true, y_pred):\n",
        "    return np.mean(np.abs((y_true - y_pred) / y_true)) * 100\n",
        "\n",
        "# Tính MDA\n",
        "def calculate_mda(y_true, y_pred):\n",
        "    y_true_diff = np.diff(y_true)\n",
        "    y_pred_diff = np.diff(y_pred)\n",
        "    correct_direction = np.sign(y_true_diff) == np.sign(y_pred_diff)\n",
        "    return np.mean(correct_direction) * 100\n",
        "\n",
        "# Tính toán RMSE, MAPE và MDA\n",
        "valid_rmse = np.sqrt(np.mean((y_val- y_pred_val) ** 2))\n",
        "test_rmse = np.sqrt(np.mean((y_test - y_pred) ** 2))\n",
        "\n",
        "valid_mape = calculate_mape(y_val, y_pred_val)\n",
        "test_mape = calculate_mape(y_test, y_pred)\n",
        "\n",
        "valid_mda = calculate_mda(np.squeeze(y_val), np.squeeze(y_pred_val))\n",
        "test_mda = calculate_mda(np.squeeze(y_test), np.squeeze(y_pred))\n",
        "\n",
        "# In kết quả\n",
        "print('Validation RMSE:', valid_rmse)\n",
        "print('Testing RMSE:', test_rmse)\n",
        "print('Validation MAPE:', valid_mape)\n",
        "print('Testing MAPE:', test_mape)\n",
        "print('Validation MDA:', valid_mda)\n",
        "print('Testing MDA:', test_mda)"
      ],
      "metadata": {
        "colab": {
          "base_uri": "https://localhost:8080/"
        },
        "id": "wkDjOQuKpZ-3",
        "outputId": "174dc555-ecae-4af2-b851-e91aeb59c739"
      },
      "execution_count": 13,
      "outputs": [
        {
          "output_type": "stream",
          "name": "stdout",
          "text": [
            "Validation RMSE: 46.10468293763784\n",
            "Testing RMSE: 7.675248266646902\n",
            "Validation MAPE: 35.589938116157924\n",
            "Testing MAPE: 8.640210323879227\n",
            "Validation MDA: 67.79026217228464\n",
            "Testing MDA: 65.78947368421053\n"
          ]
        }
      ]
    },
    {
      "cell_type": "code",
      "source": [
        "# 7.Vẽ hình\n",
        "plt.plot(train_data.index, train_data['Close'])\n",
        "plt.plot(test_data.index, test_data['Close'])\n",
        "plt.plot(val_data.index, val_data['Close'])\n",
        "plt.plot(test_data.index, y_pred)\n",
        "plt.plot(val_data.index, y_pred_val)\n",
        "plt.legend(['Train', 'ActualTest', 'PredictedTest','ActualValidate', 'PredictedValidate'])\n",
        "plt.title('ARIMAX 6:2:2 (VLO Stock Price)')\n",
        "plt.show()"
      ],
      "metadata": {
        "colab": {
          "base_uri": "https://localhost:8080/",
          "height": 452
        },
        "id": "nxIjc_6Ipf4Q",
        "outputId": "23c85ce1-7eaf-4809-c284-eace37be61bc"
      },
      "execution_count": 14,
      "outputs": [
        {
          "output_type": "display_data",
          "data": {
            "text/plain": [
              "<Figure size 640x480 with 1 Axes>"
            ],
            "image/png": "[encoded data removed]"
          },
          "metadata": {}
        }
      ]
    }
  ]
}