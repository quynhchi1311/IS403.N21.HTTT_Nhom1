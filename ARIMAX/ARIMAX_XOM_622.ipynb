{
  "nbformat": 4,
  "nbformat_minor": 0,
  "metadata": {
    "colab": {
      "provenance": []
    },
    "kernelspec": {
      "name": "python3",
      "display_name": "Python 3"
    },
    "language_info": {
      "name": "python"
    }
  },
  "cells": [
    {
      "cell_type": "code",
      "execution_count": 29,
      "metadata": {
        "id": "sP9QBXr_bfYE"
      },
      "outputs": [],
      "source": [
        "# 1. Các thư viện cần thiết\n",
        "import numpy as np\n",
        "import pandas as pd\n",
        "import seaborn as sns\n",
        "import matplotlib.pyplot as plt\n",
        "from sklearn.preprocessing import MinMaxScaler\n",
        "from sklearn.linear_model import LinearRegression\n",
        "from statsmodels.tsa.statespace.sarimax import SARIMAX"
      ]
    },
    {
      "cell_type": "code",
      "source": [
        "from google.colab import drive\n",
        "drive.mount('/content/drive')"
      ],
      "metadata": {
        "colab": {
          "base_uri": "https://localhost:8080/"
        },
        "id": "-6Zsgb7lbrpN",
        "outputId": "5c8df387-b0cd-4c22-97e8-662f20fae5e6"
      },
      "execution_count": 30,
      "outputs": [
        {
          "output_type": "stream",
          "name": "stdout",
          "text": [
            "Drive already mounted at /content/drive; to attempt to forcibly remount, call drive.mount(\"/content/drive\", force_remount=True).\n"
          ]
        }
      ]
    },
    {
      "cell_type": "code",
      "source": [
        "# 2. Đọc file dữ liệu chứng khoán XOM\n",
        "df_input = pd.read_csv('/content/drive/MyDrive/StockData/XOM.csv')\n",
        "\n",
        "# 3. Đọc file dữ liệu trên tập dữ liệu dùng làm biến ngoại sinh (exogenous)\n",
        "df_exo = pd.read_csv('/content/drive/MyDrive/StockData/DCOILWTICO.csv')"
      ],
      "metadata": {
        "id": "bOzVvrhcbu2f"
      },
      "execution_count": 31,
      "outputs": []
    },
    {
      "cell_type": "code",
      "source": [
        "# Đổi tên các cột DATE và DCOILWTICO\n",
        "df_exo = df_exo.rename(columns={'DATE': 'Date', 'DCOILWTICO': 'WTI Price'})\n",
        "\n",
        "# Chỉ lưu giữ các dòng trong df_exo có mà df_xom cũng có dựa trên cột ngày\n",
        "df_exo = df_exo[df_exo['Date'].isin(df_input['Date'])]\n",
        "\n",
        "# Thay thế các ô có giá trị '.' bằng NaN\n",
        "df_exo.replace('.', np.nan, inplace=True)\n",
        "\n",
        "# Chuyển đổi kiểu dữ liệu của cột 'WTI Price' thành float64\n",
        "df_exo['WTI Price'] = df_exo['WTI Price'].astype(float)\n",
        "\n",
        "# Tính giá trị trung bình của cột 'WTI Price'\n",
        "mean_value = df_exo['WTI Price'].mean()\n",
        "\n",
        "# Thay thế các NaN bằng giá trị trung bình\n",
        "df_exo['WTI Price'].fillna(mean_value, inplace=True)"
      ],
      "metadata": {
        "id": "Ibmj0WzueM2d"
      },
      "execution_count": 32,
      "outputs": []
    },
    {
      "cell_type": "code",
      "source": [
        "df = pd.merge(df_input, df_exo, on='Date')\n",
        "df.head(10)"
      ],
      "metadata": {
        "colab": {
          "base_uri": "https://localhost:8080/",
          "height": 363
        },
        "id": "KvifjhBTb3yt",
        "outputId": "dd4964ee-bf9d-4bf8-e157-237629c53f8a"
      },
      "execution_count": 33,
      "outputs": [
        {
          "output_type": "execute_result",
          "data": {
            "text/plain": [
              "         Date       Open       High        Low      Close  Adj Close  \\\n",
              "0  2018-01-02  83.820000  85.199997  83.660004  85.029999  64.879845   \n",
              "1  2018-01-03  85.160004  86.970001  84.820000  86.699997  66.154083   \n",
              "2  2018-01-04  86.790001  87.220001  86.430000  86.820000  66.245667   \n",
              "3  2018-01-05  86.750000  86.879997  85.709999  86.750000  66.192230   \n",
              "4  2018-01-08  86.699997  87.150002  86.599998  87.139999  66.489830   \n",
              "5  2018-01-09  86.940002  87.150002  86.650002  86.769997  66.207489   \n",
              "6  2018-01-10  87.000000  87.190002  85.980003  86.080002  65.681007   \n",
              "7  2018-01-11  86.360001  87.370003  85.930000  86.930000  66.329590   \n",
              "8  2018-01-12  87.199997  87.989998  87.180000  87.519997  66.779762   \n",
              "9  2018-01-16  87.739998  87.760002  86.599998  86.970001  66.360107   \n",
              "\n",
              "     Volume  WTI Price  \n",
              "0  11469300      60.37  \n",
              "1  13957700      61.61  \n",
              "2  10863000      61.98  \n",
              "3  11047600      61.49  \n",
              "4  10927100      61.73  \n",
              "5   8131600      62.92  \n",
              "6  10822300      63.60  \n",
              "7  14366000      63.81  \n",
              "8   9834500      64.22  \n",
              "9  10882800      63.82  "
            ],
            "text/html": [
              "\n",
              "  <div id=\"df-3601146f-e548-454a-83b5-2fb53284574c\">\n",
              "    <div class=\"colab-df-container\">\n",
              "      <div>\n",
              "<style scoped>\n",
              "    .dataframe tbody tr th:only-of-type {\n",
              "        vertical-align: middle;\n",
              "    }\n",
              "\n",
              "    .dataframe tbody tr th {\n",
              "        vertical-align: top;\n",
              "    }\n",
              "\n",
              "    .dataframe thead th {\n",
              "        text-align: right;\n",
              "    }\n",
              "</style>\n",
              "<table border=\"1\" class=\"dataframe\">\n",
              "  <thead>\n",
              "    <tr style=\"text-align: right;\">\n",
              "      <th></th>\n",
              "      <th>Date</th>\n",
              "      <th>Open</th>\n",
              "      <th>High</th>\n",
              "      <th>Low</th>\n",
              "      <th>Close</th>\n",
              "      <th>Adj Close</th>\n",
              "      <th>Volume</th>\n",
              "      <th>WTI Price</th>\n",
              "    </tr>\n",
              "  </thead>\n",
              "  <tbody>\n",
              "    <tr>\n",
              "      <th>0</th>\n",
              "      <td>2018-01-02</td>\n",
              "      <td>83.820000</td>\n",
              "      <td>85.199997</td>\n",
              "      <td>83.660004</td>\n",
              "      <td>85.029999</td>\n",
              "      <td>64.879845</td>\n",
              "      <td>11469300</td>\n",
              "      <td>60.37</td>\n",
              "    </tr>\n",
              "    <tr>\n",
              "      <th>1</th>\n",
              "      <td>2018-01-03</td>\n",
              "      <td>85.160004</td>\n",
              "      <td>86.970001</td>\n",
              "      <td>84.820000</td>\n",
              "      <td>86.699997</td>\n",
              "      <td>66.154083</td>\n",
              "      <td>13957700</td>\n",
              "      <td>61.61</td>\n",
              "    </tr>\n",
              "    <tr>\n",
              "      <th>2</th>\n",
              "      <td>2018-01-04</td>\n",
              "      <td>86.790001</td>\n",
              "      <td>87.220001</td>\n",
              "      <td>86.430000</td>\n",
              "      <td>86.820000</td>\n",
              "      <td>66.245667</td>\n",
              "      <td>10863000</td>\n",
              "      <td>61.98</td>\n",
              "    </tr>\n",
              "    <tr>\n",
              "      <th>3</th>\n",
              "      <td>2018-01-05</td>\n",
              "      <td>86.750000</td>\n",
              "      <td>86.879997</td>\n",
              "      <td>85.709999</td>\n",
              "      <td>86.750000</td>\n",
              "      <td>66.192230</td>\n",
              "      <td>11047600</td>\n",
              "      <td>61.49</td>\n",
              "    </tr>\n",
              "    <tr>\n",
              "      <th>4</th>\n",
              "      <td>2018-01-08</td>\n",
              "      <td>86.699997</td>\n",
              "      <td>87.150002</td>\n",
              "      <td>86.599998</td>\n",
              "      <td>87.139999</td>\n",
              "      <td>66.489830</td>\n",
              "      <td>10927100</td>\n",
              "      <td>61.73</td>\n",
              "    </tr>\n",
              "    <tr>\n",
              "      <th>5</th>\n",
              "      <td>2018-01-09</td>\n",
              "      <td>86.940002</td>\n",
              "      <td>87.150002</td>\n",
              "      <td>86.650002</td>\n",
              "      <td>86.769997</td>\n",
              "      <td>66.207489</td>\n",
              "      <td>8131600</td>\n",
              "      <td>62.92</td>\n",
              "    </tr>\n",
              "    <tr>\n",
              "      <th>6</th>\n",
              "      <td>2018-01-10</td>\n",
              "      <td>87.000000</td>\n",
              "      <td>87.190002</td>\n",
              "      <td>85.980003</td>\n",
              "      <td>86.080002</td>\n",
              "      <td>65.681007</td>\n",
              "      <td>10822300</td>\n",
              "      <td>63.60</td>\n",
              "    </tr>\n",
              "    <tr>\n",
              "      <th>7</th>\n",
              "      <td>2018-01-11</td>\n",
              "      <td>86.360001</td>\n",
              "      <td>87.370003</td>\n",
              "      <td>85.930000</td>\n",
              "      <td>86.930000</td>\n",
              "      <td>66.329590</td>\n",
              "      <td>14366000</td>\n",
              "      <td>63.81</td>\n",
              "    </tr>\n",
              "    <tr>\n",
              "      <th>8</th>\n",
              "      <td>2018-01-12</td>\n",
              "      <td>87.199997</td>\n",
              "      <td>87.989998</td>\n",
              "      <td>87.180000</td>\n",
              "      <td>87.519997</td>\n",
              "      <td>66.779762</td>\n",
              "      <td>9834500</td>\n",
              "      <td>64.22</td>\n",
              "    </tr>\n",
              "    <tr>\n",
              "      <th>9</th>\n",
              "      <td>2018-01-16</td>\n",
              "      <td>87.739998</td>\n",
              "      <td>87.760002</td>\n",
              "      <td>86.599998</td>\n",
              "      <td>86.970001</td>\n",
              "      <td>66.360107</td>\n",
              "      <td>10882800</td>\n",
              "      <td>63.82</td>\n",
              "    </tr>\n",
              "  </tbody>\n",
              "</table>\n",
              "</div>\n",
              "      <button class=\"colab-df-convert\" onclick=\"convertToInteractive('df-3601146f-e548-454a-83b5-2fb53284574c')\"\n",
              "              title=\"Convert this dataframe to an interactive table.\"\n",
              "              style=\"display:none;\">\n",
              "        \n",
              "  <svg xmlns=\"http://www.w3.org/2000/svg\" height=\"24px\"viewBox=\"0 0 24 24\"\n",
              "       width=\"24px\">\n",
              "    <path d=\"M0 0h24v24H0V0z\" fill=\"none\"/>\n",
              "    <path d=\"M18.56 5.44l.94 2.06.94-2.06 2.06-.94-2.06-.94-.94-2.06-.94 2.06-2.06.94zm-11 1L8.5 8.5l.94-2.06 2.06-.94-2.06-.94L8.5 2.5l-.94 2.06-2.06.94zm10 10l.94 2.06.94-2.06 2.06-.94-2.06-.94-.94-2.06-.94 2.06-2.06.94z\"/><path d=\"M17.41 7.96l-1.37-1.37c-.4-.4-.92-.59-1.43-.59-.52 0-1.04.2-1.43.59L10.3 9.45l-7.72 7.72c-.78.78-.78 2.05 0 2.83L4 21.41c.39.39.9.59 1.41.59.51 0 1.02-.2 1.41-.59l7.78-7.78 2.81-2.81c.8-.78.8-2.07 0-2.86zM5.41 20L4 18.59l7.72-7.72 1.47 1.35L5.41 20z\"/>\n",
              "  </svg>\n",
              "      </button>\n",
              "      \n",
              "  <style>\n",
              "    .colab-df-container {\n",
              "      display:flex;\n",
              "      flex-wrap:wrap;\n",
              "      gap: 12px;\n",
              "    }\n",
              "\n",
              "    .colab-df-convert {\n",
              "      background-color: #E8F0FE;\n",
              "      border: none;\n",
              "      border-radius: 50%;\n",
              "      cursor: pointer;\n",
              "      display: none;\n",
              "      fill: #1967D2;\n",
              "      height: 32px;\n",
              "      padding: 0 0 0 0;\n",
              "      width: 32px;\n",
              "    }\n",
              "\n",
              "    .colab-df-convert:hover {\n",
              "      background-color: #E2EBFA;\n",
              "      box-shadow: 0px 1px 2px rgba(60, 64, 67, 0.3), 0px 1px 3px 1px rgba(60, 64, 67, 0.15);\n",
              "      fill: #174EA6;\n",
              "    }\n",
              "\n",
              "    [theme=dark] .colab-df-convert {\n",
              "      background-color: #3B4455;\n",
              "      fill: #D2E3FC;\n",
              "    }\n",
              "\n",
              "    [theme=dark] .colab-df-convert:hover {\n",
              "      background-color: #434B5C;\n",
              "      box-shadow: 0px 1px 3px 1px rgba(0, 0, 0, 0.15);\n",
              "      filter: drop-shadow(0px 1px 2px rgba(0, 0, 0, 0.3));\n",
              "      fill: #FFFFFF;\n",
              "    }\n",
              "  </style>\n",
              "\n",
              "      <script>\n",
              "        const buttonEl =\n",
              "          document.querySelector('#df-3601146f-e548-454a-83b5-2fb53284574c button.colab-df-convert');\n",
              "        buttonEl.style.display =\n",
              "          google.colab.kernel.accessAllowed ? 'block' : 'none';\n",
              "\n",
              "        async function convertToInteractive(key) {\n",
              "          const element = document.querySelector('#df-3601146f-e548-454a-83b5-2fb53284574c');\n",
              "          const dataTable =\n",
              "            await google.colab.kernel.invokeFunction('convertToInteractive',\n",
              "                                                     [key], {});\n",
              "          if (!dataTable) return;\n",
              "\n",
              "          const docLinkHtml = 'Like what you see? Visit the ' +\n",
              "            '<a target=\"_blank\" href=https://colab.research.google.com/notebooks/data_table.ipynb>data table notebook</a>'\n",
              "            + ' to learn more about interactive tables.';\n",
              "          element.innerHTML = '';\n",
              "          dataTable['output_type'] = 'display_data';\n",
              "          await google.colab.output.renderOutput(dataTable, element);\n",
              "          const docLink = document.createElement('div');\n",
              "          docLink.innerHTML = docLinkHtml;\n",
              "          element.appendChild(docLink);\n",
              "        }\n",
              "      </script>\n",
              "    </div>\n",
              "  </div>\n",
              "  "
            ]
          },
          "metadata": {},
          "execution_count": 33
        }
      ]
    },
    {
      "cell_type": "code",
      "source": [
        "# 4. Chia train test validate theo tỉ lệ 6:2:2\n",
        "df = df[['Close', 'WTI Price']]\n",
        "df = df.dropna() # Drop missing values\n",
        "df = df.reset_index(drop=True) # Reset the index\n",
        "\n",
        "# Split the data into training, testing, and validation sets\n",
        "train_size = int(0.6 * len(df))\n",
        "test_size = int(0.2 * len(df))\n",
        "val_size = len(df) - train_size - test_size\n",
        "\n",
        "train_data = df[:train_size]\n",
        "test_data = df[train_size:train_size+test_size]\n",
        "val_data = df[train_size+test_size:]\n",
        "\n",
        "print(len(train_data))\n",
        "print(len(test_data))\n",
        "print(len(val_data))"
      ],
      "metadata": {
        "colab": {
          "base_uri": "https://localhost:8080/"
        },
        "id": "CGYTVXocd1yq",
        "outputId": "a661b1e1-b058-4600-e3fb-520c4157a00c"
      },
      "execution_count": 34,
      "outputs": [
        {
          "output_type": "stream",
          "name": "stdout",
          "text": [
            "802\n",
            "267\n",
            "268\n"
          ]
        }
      ]
    },
    {
      "cell_type": "code",
      "source": [
        "exo_arr = np.array(train_data['WTI Price'])\n",
        "data_arr = np.array(train_data['Close'])\n",
        "# vẽ biểu đồ scatter plot để xem sự tương quan giữa giá cổ phiếu XOM và giá trị biến ngoại sinh\n",
        "plt.scatter(x = data_arr, y = exo_arr)\n",
        "plt.show()"
      ],
      "metadata": {
        "colab": {
          "base_uri": "https://localhost:8080/",
          "height": 430
        },
        "id": "O5U3Bi-JhiXe",
        "outputId": "719f7f5f-2f68-4c0c-9a5d-f367b44386a6"
      },
      "execution_count": 35,
      "outputs": [
        {
          "output_type": "display_data",
          "data": {
            "text/plain": [
              "<Figure size 640x480 with 1 Axes>"
            ],
            "image/png": "[encoded data removed]"
          },
          "metadata": {}
        }
      ]
    },
    {
      "cell_type": "code",
      "source": [
        "# Tìm hệ số tương quan giữa 2 cột Close và giá trị biến ngoại sinh\n",
        "correlation = np.corrcoef(data_arr, exo_arr)[0, 1]\n",
        "\n",
        "# In kết quả\n",
        "print(\"Hệ số tương quan: \", correlation)"
      ],
      "metadata": {
        "colab": {
          "base_uri": "https://localhost:8080/"
        },
        "id": "g6I26Dn7kWj1",
        "outputId": "2926b63f-8b1e-4d5a-efc4-9df95f555bb1"
      },
      "execution_count": 36,
      "outputs": [
        {
          "output_type": "stream",
          "name": "stdout",
          "text": [
            "Hệ số tương quan:  0.8206539868076699\n"
          ]
        }
      ]
    },
    {
      "cell_type": "code",
      "source": [
        "!pip install pmdarima"
      ],
      "metadata": {
        "colab": {
          "base_uri": "https://localhost:8080/"
        },
        "id": "Fki0udbIkhIO",
        "outputId": "2053b207-2912-4e48-9859-816b83ccc0a1"
      },
      "execution_count": 37,
      "outputs": [
        {
          "output_type": "stream",
          "name": "stdout",
          "text": [
            "Looking in indexes: https://pypi.org/simple, https://us-python.pkg.dev/colab-wheels/public/simple/\n",
            "Requirement already satisfied: pmdarima in /usr/local/lib/python3.10/dist-packages (2.0.3)\n",
            "Requirement already satisfied: joblib>=0.11 in /usr/local/lib/python3.10/dist-packages (from pmdarima) (1.2.0)\n",
            "Requirement already satisfied: Cython!=0.29.18,!=0.29.31,>=0.29 in /usr/local/lib/python3.10/dist-packages (from pmdarima) (0.29.34)\n",
            "Requirement already satisfied: numpy>=1.21.2 in /usr/local/lib/python3.10/dist-packages (from pmdarima) (1.22.4)\n",
            "Requirement already satisfied: pandas>=0.19 in /usr/local/lib/python3.10/dist-packages (from pmdarima) (1.5.3)\n",
            "Requirement already satisfied: scikit-learn>=0.22 in /usr/local/lib/python3.10/dist-packages (from pmdarima) (1.2.2)\n",
            "Requirement already satisfied: scipy>=1.3.2 in /usr/local/lib/python3.10/dist-packages (from pmdarima) (1.10.1)\n",
            "Requirement already satisfied: statsmodels>=0.13.2 in /usr/local/lib/python3.10/dist-packages (from pmdarima) (0.13.5)\n",
            "Requirement already satisfied: urllib3 in /usr/local/lib/python3.10/dist-packages (from pmdarima) (1.26.15)\n",
            "Requirement already satisfied: setuptools!=50.0.0,>=38.6.0 in /usr/local/lib/python3.10/dist-packages (from pmdarima) (67.7.2)\n",
            "Requirement already satisfied: python-dateutil>=2.8.1 in /usr/local/lib/python3.10/dist-packages (from pandas>=0.19->pmdarima) (2.8.2)\n",
            "Requirement already satisfied: pytz>=2020.1 in /usr/local/lib/python3.10/dist-packages (from pandas>=0.19->pmdarima) (2022.7.1)\n",
            "Requirement already satisfied: threadpoolctl>=2.0.0 in /usr/local/lib/python3.10/dist-packages (from scikit-learn>=0.22->pmdarima) (3.1.0)\n",
            "Requirement already satisfied: patsy>=0.5.2 in /usr/local/lib/python3.10/dist-packages (from statsmodels>=0.13.2->pmdarima) (0.5.3)\n",
            "Requirement already satisfied: packaging>=21.3 in /usr/local/lib/python3.10/dist-packages (from statsmodels>=0.13.2->pmdarima) (23.1)\n",
            "Requirement already satisfied: six in /usr/local/lib/python3.10/dist-packages (from patsy>=0.5.2->statsmodels>=0.13.2->pmdarima) (1.16.0)\n"
          ]
        }
      ]
    },
    {
      "cell_type": "code",
      "source": [
        "# 3. Quá trình Training\n",
        "train_exo = train_data[[\"WTI Price\"]]\n",
        "\n",
        "# Sử dụng auto_arima kèm biến ngoại sinh tìm ra model tốt nhất\n",
        "from pmdarima.arima import auto_arima\n",
        "model = auto_arima(train_data['Close'],\n",
        "                      trace=True,\n",
        "                      error_action='ignore',\n",
        "                      suppress_warnings=True,\n",
        "                      exogenous= train_exo)\n",
        "\n",
        "# Gán các giá trị p, d, q vào các biến tương ứng\n",
        "p = model.order[0]\n",
        "d = model.order[1]\n",
        "q = model.order[2]"
      ],
      "metadata": {
        "colab": {
          "base_uri": "https://localhost:8080/"
        },
        "id": "upEPZhaOlHbs",
        "outputId": "94ac81aa-d0f3-4915-a99d-b6c0b0c0af06"
      },
      "execution_count": 38,
      "outputs": [
        {
          "output_type": "stream",
          "name": "stdout",
          "text": [
            "Performing stepwise search to minimize aic\n",
            " ARIMA(2,1,2)(0,0,0)[0] intercept   : AIC=2495.705, Time=2.13 sec\n",
            " ARIMA(0,1,0)(0,0,0)[0] intercept   : AIC=2499.343, Time=0.05 sec\n",
            " ARIMA(1,1,0)(0,0,0)[0] intercept   : AIC=2501.322, Time=0.09 sec\n",
            " ARIMA(0,1,1)(0,0,0)[0] intercept   : AIC=2501.324, Time=0.19 sec\n",
            " ARIMA(0,1,0)(0,0,0)[0]             : AIC=2497.854, Time=0.07 sec\n",
            " ARIMA(1,1,2)(0,0,0)[0] intercept   : AIC=2502.154, Time=0.70 sec\n",
            " ARIMA(2,1,1)(0,0,0)[0] intercept   : AIC=2502.294, Time=0.43 sec\n",
            " ARIMA(3,1,2)(0,0,0)[0] intercept   : AIC=2495.691, Time=5.76 sec\n",
            " ARIMA(3,1,1)(0,0,0)[0] intercept   : AIC=2504.196, Time=1.10 sec\n",
            " ARIMA(4,1,2)(0,0,0)[0] intercept   : AIC=2499.105, Time=6.08 sec\n",
            " ARIMA(3,1,3)(0,0,0)[0] intercept   : AIC=2502.639, Time=7.32 sec\n",
            " ARIMA(2,1,3)(0,0,0)[0] intercept   : AIC=2504.889, Time=3.51 sec\n",
            " ARIMA(4,1,1)(0,0,0)[0] intercept   : AIC=2504.037, Time=3.02 sec\n",
            " ARIMA(4,1,3)(0,0,0)[0] intercept   : AIC=2500.097, Time=8.31 sec\n",
            " ARIMA(3,1,2)(0,0,0)[0]             : AIC=2494.174, Time=2.19 sec\n",
            " ARIMA(2,1,2)(0,0,0)[0]             : AIC=2494.250, Time=2.80 sec\n",
            " ARIMA(3,1,1)(0,0,0)[0]             : AIC=2502.670, Time=0.45 sec\n",
            " ARIMA(4,1,2)(0,0,0)[0]             : AIC=2497.534, Time=1.50 sec\n",
            " ARIMA(3,1,3)(0,0,0)[0]             : AIC=2494.851, Time=1.40 sec\n",
            " ARIMA(2,1,1)(0,0,0)[0]             : AIC=2500.757, Time=0.20 sec\n",
            " ARIMA(2,1,3)(0,0,0)[0]             : AIC=2503.149, Time=0.53 sec\n",
            " ARIMA(4,1,1)(0,0,0)[0]             : AIC=2502.293, Time=0.56 sec\n",
            " ARIMA(4,1,3)(0,0,0)[0]             : AIC=2497.939, Time=3.20 sec\n",
            "\n",
            "Best model:  ARIMA(3,1,2)(0,0,0)[0]          \n",
            "Total fit time: 51.644 seconds\n"
          ]
        }
      ]
    },
    {
      "cell_type": "code",
      "source": [
        "# Khởi tạo mô hình SARIMAX với order=(2, 1, 2) và khai báo biến ngoại sinh\n",
        "model= SARIMAX(train_data['Close'],\n",
        " exog=train_exo,\n",
        " order=(p,d,q),\n",
        " enforce_invertibility=False, enforce_stationarity=False)\n",
        "\n",
        "# Fit mô hình bằng dữ liệu huấn luyện để tìm ra các giá trị tối ưu cho các tham số của mô hình\n",
        "model = model.fit()"
      ],
      "metadata": {
        "colab": {
          "base_uri": "https://localhost:8080/"
        },
        "id": "wbsyLGjTvw9w",
        "outputId": "e98d8d80-7eee-40c3-b49c-7b50e4ac0038"
      },
      "execution_count": 39,
      "outputs": [
        {
          "output_type": "stream",
          "name": "stderr",
          "text": [
            "/usr/local/lib/python3.10/dist-packages/statsmodels/base/model.py:604: ConvergenceWarning: Maximum Likelihood optimization failed to converge. Check mle_retvals\n",
            "  warnings.warn(\"Maximum Likelihood optimization failed to \"\n"
          ]
        }
      ]
    },
    {
      "cell_type": "code",
      "source": [
        "# 4. Quá trình testing\n",
        "x_test = np.array(test_data.index).reshape(-1, 1)\n",
        "y_test = np.array(test_data['Close'])\n",
        "test_exo = test_data[['WTI Price']]\n",
        "y_pred = model.forecast(steps=len(y_test), exog=test_exo)\n",
        "\n",
        "# 5. Quá trình Validate\n",
        "x_val= np.array(val_data.index).reshape(-1, 1)\n",
        "y_val = np.array(val_data['Close'])\n",
        "val_exo = val_data[['WTI Price']]\n",
        "y_pred_val =  model.forecast(steps=len(y_val), exog=val_exo)"
      ],
      "metadata": {
        "id": "3oroFPUqpUjk"
      },
      "execution_count": 40,
      "outputs": []
    },
    {
      "cell_type": "code",
      "source": [
        "# 6. Đánh giá độ chính xác thuật toán bằng RMSE\n",
        "# Tính MAPE\n",
        "def calculate_mape(y_true, y_pred):\n",
        "    return np.mean(np.abs((y_true - y_pred) / y_true)) * 100\n",
        "\n",
        "# Tính MDA\n",
        "def calculate_mda(y_true, y_pred):\n",
        "    y_true_diff = np.diff(y_true)\n",
        "    y_pred_diff = np.diff(y_pred)\n",
        "    correct_direction = np.sign(y_true_diff) == np.sign(y_pred_diff)\n",
        "    return np.mean(correct_direction) * 100\n",
        "\n",
        "# Tính toán RMSE, MAPE và MDA\n",
        "valid_rmse = np.sqrt(np.mean((y_val- y_pred_val) ** 2))\n",
        "test_rmse = np.sqrt(np.mean((y_test - y_pred) ** 2))\n",
        "\n",
        "valid_mape = calculate_mape(y_val, y_pred_val)\n",
        "test_mape = calculate_mape(y_test, y_pred)\n",
        "\n",
        "valid_mda = calculate_mda(np.squeeze(y_val), np.squeeze(y_pred_val))\n",
        "test_mda = calculate_mda(np.squeeze(y_test), np.squeeze(y_pred))\n",
        "\n",
        "# In kết quả\n",
        "print('Validation RMSE:', valid_rmse)\n",
        "print('Testing RMSE:', test_rmse)\n",
        "print('Validation MAPE:', valid_mape)\n",
        "print('Testing MAPE:', test_mape)\n",
        "print('Validation MDA:', valid_mda)\n",
        "print('Testing MDA:', test_mda)"
      ],
      "metadata": {
        "colab": {
          "base_uri": "https://localhost:8080/"
        },
        "id": "wkDjOQuKpZ-3",
        "outputId": "b8eb5f0c-88a8-42ef-fab1-90424fa25534"
      },
      "execution_count": 41,
      "outputs": [
        {
          "output_type": "stream",
          "name": "stdout",
          "text": [
            "Validation RMSE: 39.1955046391863\n",
            "Testing RMSE: 7.953906623079399\n",
            "Validation MAPE: 36.48894320067116\n",
            "Testing MAPE: 8.29590794352634\n",
            "Validation MDA: 73.03370786516854\n",
            "Testing MDA: 70.30075187969925\n"
          ]
        }
      ]
    },
    {
      "cell_type": "code",
      "source": [
        "# 7.Vẽ hình\n",
        "plt.plot(train_data.index, train_data['Close'])\n",
        "plt.plot(test_data.index, test_data['Close'])\n",
        "plt.plot(val_data.index, val_data['Close'])\n",
        "plt.plot(test_data.index, y_pred)\n",
        "plt.plot(val_data.index, y_pred_val)\n",
        "plt.legend(['Train', 'ActualTest', 'PredictedTest','ActualValidate', 'PredictedValidate'])\n",
        "plt.title('ARIMAX 6:2:2 (XOM Stock Price)')\n",
        "plt.show()"
      ],
      "metadata": {
        "colab": {
          "base_uri": "https://localhost:8080/",
          "height": 452
        },
        "id": "nxIjc_6Ipf4Q",
        "outputId": "fd39b568-2346-4457-ad4a-7780610e26e1"
      },
      "execution_count": 42,
      "outputs": [
        {
          "output_type": "display_data",
          "data": {
            "text/plain": [
              "<Figure size 640x480 with 1 Axes>"
            ],
            "image/png": "[encoded data removed]"
          },
          "metadata": {}
        }
      ]
    },
    {
      "cell_type": "code",
      "execution_count": 43,
      "metadata": {
        "id": "_sWBlSFqHOvc"
      },
      "outputs": [],
      "source": [
        "# 1. Các thư viện cần thiết\n",
        "import numpy as np\n",
        "import pandas as pd\n",
        "import seaborn as sns\n",
        "import matplotlib.pyplot as plt\n",
        "from sklearn.preprocessing import MinMaxScaler\n",
        "from sklearn.linear_model import LinearRegression\n",
        "from statsmodels.tsa.statespace.sarimax import SARIMAX"
      ]
    },
    {
      "cell_type": "code",
      "source": [
        "from google.colab import drive\n",
        "drive.mount('/content/drive')"
      ],
      "metadata": {
        "colab": {
          "base_uri": "https://localhost:8080/"
        },
        "outputId": "74606004-5785-45a7-bbaf-a1b408bc1be9",
        "id": "X2ZkGWjHHOvc"
      },
      "execution_count": 44,
      "outputs": [
        {
          "output_type": "stream",
          "name": "stdout",
          "text": [
            "Drive already mounted at /content/drive; to attempt to forcibly remount, call drive.mount(\"/content/drive\", force_remount=True).\n"
          ]
        }
      ]
    },
    {
      "cell_type": "code",
      "source": [
        "# 2. Đọc file dữ liệu chứng khoán XOM\n",
        "df_input = pd.read_csv('/content/drive/MyDrive/StockData/XOM.csv')\n",
        "\n",
        "# 3. Đọc file dữ liệu trên tập dữ liệu dùng làm biến ngoại sinh (exogenous)\n",
        "df_exo = pd.read_csv('/content/drive/MyDrive/StockData/DCOILWTICO.csv')"
      ],
      "metadata": {
        "id": "DcGd3iodHOvc"
      },
      "execution_count": 45,
      "outputs": []
    },
    {
      "cell_type": "code",
      "source": [
        "# Đổi tên các cột DATE và DCOILWTICO\n",
        "df_exo = df_exo.rename(columns={'DATE': 'Date', 'DCOILWTICO': 'WTI Price'})\n",
        "\n",
        "# Chỉ lưu giữ các dòng trong df_exo có mà df_xom cũng có dựa trên cột ngày\n",
        "df_exo = df_exo[df_exo['Date'].isin(df_input['Date'])]\n",
        "\n",
        "# Thay thế các ô có giá trị '.' bằng NaN\n",
        "df_exo.replace('.', np.nan, inplace=True)\n",
        "\n",
        "# Chuyển đổi kiểu dữ liệu của cột 'WTI Price' thành float64\n",
        "df_exo['WTI Price'] = df_exo['WTI Price'].astype(float)\n",
        "\n",
        "# Tính giá trị trung bình của cột 'WTI Price'\n",
        "mean_value = df_exo['WTI Price'].mean()\n",
        "\n",
        "# Thay thế các NaN bằng giá trị trung bình\n",
        "df_exo['WTI Price'].fillna(mean_value, inplace=True)"
      ],
      "metadata": {
        "id": "_SSjHmQ_HOvc"
      },
      "execution_count": 46,
      "outputs": []
    },
    {
      "cell_type": "code",
      "source": [
        "df = pd.merge(df_input, df_exo, on='Date')\n",
        "df.head(10)"
      ],
      "metadata": {
        "colab": {
          "base_uri": "https://localhost:8080/",
          "height": 363
        },
        "outputId": "d455c726-5e47-4ff9-97a6-21359eb04313",
        "id": "fFJjbyXiHOvc"
      },
      "execution_count": 47,
      "outputs": [
        {
          "output_type": "execute_result",
          "data": {
            "text/plain": [
              "         Date       Open       High        Low      Close  Adj Close  \\\n",
              "0  2018-01-02  83.820000  85.199997  83.660004  85.029999  64.879845   \n",
              "1  2018-01-03  85.160004  86.970001  84.820000  86.699997  66.154083   \n",
              "2  2018-01-04  86.790001  87.220001  86.430000  86.820000  66.245667   \n",
              "3  2018-01-05  86.750000  86.879997  85.709999  86.750000  66.192230   \n",
              "4  2018-01-08  86.699997  87.150002  86.599998  87.139999  66.489830   \n",
              "5  2018-01-09  86.940002  87.150002  86.650002  86.769997  66.207489   \n",
              "6  2018-01-10  87.000000  87.190002  85.980003  86.080002  65.681007   \n",
              "7  2018-01-11  86.360001  87.370003  85.930000  86.930000  66.329590   \n",
              "8  2018-01-12  87.199997  87.989998  87.180000  87.519997  66.779762   \n",
              "9  2018-01-16  87.739998  87.760002  86.599998  86.970001  66.360107   \n",
              "\n",
              "     Volume  WTI Price  \n",
              "0  11469300      60.37  \n",
              "1  13957700      61.61  \n",
              "2  10863000      61.98  \n",
              "3  11047600      61.49  \n",
              "4  10927100      61.73  \n",
              "5   8131600      62.92  \n",
              "6  10822300      63.60  \n",
              "7  14366000      63.81  \n",
              "8   9834500      64.22  \n",
              "9  10882800      63.82  "
            ],
            "text/html": [
              "\n",
              "  <div id=\"df-500d2591-a305-48c7-9e9e-92686cedb96f\">\n",
              "    <div class=\"colab-df-container\">\n",
              "      <div>\n",
              "<style scoped>\n",
              "    .dataframe tbody tr th:only-of-type {\n",
              "        vertical-align: middle;\n",
              "    }\n",
              "\n",
              "    .dataframe tbody tr th {\n",
              "        vertical-align: top;\n",
              "    }\n",
              "\n",
              "    .dataframe thead th {\n",
              "        text-align: right;\n",
              "    }\n",
              "</style>\n",
              "<table border=\"1\" class=\"dataframe\">\n",
              "  <thead>\n",
              "    <tr style=\"text-align: right;\">\n",
              "      <th></th>\n",
              "      <th>Date</th>\n",
              "      <th>Open</th>\n",
              "      <th>High</th>\n",
              "      <th>Low</th>\n",
              "      <th>Close</th>\n",
              "      <th>Adj Close</th>\n",
              "      <th>Volume</th>\n",
              "      <th>WTI Price</th>\n",
              "    </tr>\n",
              "  </thead>\n",
              "  <tbody>\n",
              "    <tr>\n",
              "      <th>0</th>\n",
              "      <td>2018-01-02</td>\n",
              "      <td>83.820000</td>\n",
              "      <td>85.199997</td>\n",
              "      <td>83.660004</td>\n",
              "      <td>85.029999</td>\n",
              "      <td>64.879845</td>\n",
              "      <td>11469300</td>\n",
              "      <td>60.37</td>\n",
              "    </tr>\n",
              "    <tr>\n",
              "      <th>1</th>\n",
              "      <td>2018-01-03</td>\n",
              "      <td>85.160004</td>\n",
              "      <td>86.970001</td>\n",
              "      <td>84.820000</td>\n",
              "      <td>86.699997</td>\n",
              "      <td>66.154083</td>\n",
              "      <td>13957700</td>\n",
              "      <td>61.61</td>\n",
              "    </tr>\n",
              "    <tr>\n",
              "      <th>2</th>\n",
              "      <td>2018-01-04</td>\n",
              "      <td>86.790001</td>\n",
              "      <td>87.220001</td>\n",
              "      <td>86.430000</td>\n",
              "      <td>86.820000</td>\n",
              "      <td>66.245667</td>\n",
              "      <td>10863000</td>\n",
              "      <td>61.98</td>\n",
              "    </tr>\n",
              "    <tr>\n",
              "      <th>3</th>\n",
              "      <td>2018-01-05</td>\n",
              "      <td>86.750000</td>\n",
              "      <td>86.879997</td>\n",
              "      <td>85.709999</td>\n",
              "      <td>86.750000</td>\n",
              "      <td>66.192230</td>\n",
              "      <td>11047600</td>\n",
              "      <td>61.49</td>\n",
              "    </tr>\n",
              "    <tr>\n",
              "      <th>4</th>\n",
              "      <td>2018-01-08</td>\n",
              "      <td>86.699997</td>\n",
              "      <td>87.150002</td>\n",
              "      <td>86.599998</td>\n",
              "      <td>87.139999</td>\n",
              "      <td>66.489830</td>\n",
              "      <td>10927100</td>\n",
              "      <td>61.73</td>\n",
              "    </tr>\n",
              "    <tr>\n",
              "      <th>5</th>\n",
              "      <td>2018-01-09</td>\n",
              "      <td>86.940002</td>\n",
              "      <td>87.150002</td>\n",
              "      <td>86.650002</td>\n",
              "      <td>86.769997</td>\n",
              "      <td>66.207489</td>\n",
              "      <td>8131600</td>\n",
              "      <td>62.92</td>\n",
              "    </tr>\n",
              "    <tr>\n",
              "      <th>6</th>\n",
              "      <td>2018-01-10</td>\n",
              "      <td>87.000000</td>\n",
              "      <td>87.190002</td>\n",
              "      <td>85.980003</td>\n",
              "      <td>86.080002</td>\n",
              "      <td>65.681007</td>\n",
              "      <td>10822300</td>\n",
              "      <td>63.60</td>\n",
              "    </tr>\n",
              "    <tr>\n",
              "      <th>7</th>\n",
              "      <td>2018-01-11</td>\n",
              "      <td>86.360001</td>\n",
              "      <td>87.370003</td>\n",
              "      <td>85.930000</td>\n",
              "      <td>86.930000</td>\n",
              "      <td>66.329590</td>\n",
              "      <td>14366000</td>\n",
              "      <td>63.81</td>\n",
              "    </tr>\n",
              "    <tr>\n",
              "      <th>8</th>\n",
              "      <td>2018-01-12</td>\n",
              "      <td>87.199997</td>\n",
              "      <td>87.989998</td>\n",
              "      <td>87.180000</td>\n",
              "      <td>87.519997</td>\n",
              "      <td>66.779762</td>\n",
              "      <td>9834500</td>\n",
              "      <td>64.22</td>\n",
              "    </tr>\n",
              "    <tr>\n",
              "      <th>9</th>\n",
              "      <td>2018-01-16</td>\n",
              "      <td>87.739998</td>\n",
              "      <td>87.760002</td>\n",
              "      <td>86.599998</td>\n",
              "      <td>86.970001</td>\n",
              "      <td>66.360107</td>\n",
              "      <td>10882800</td>\n",
              "      <td>63.82</td>\n",
              "    </tr>\n",
              "  </tbody>\n",
              "</table>\n",
              "</div>\n",
              "      <button class=\"colab-df-convert\" onclick=\"convertToInteractive('df-500d2591-a305-48c7-9e9e-92686cedb96f')\"\n",
              "              title=\"Convert this dataframe to an interactive table.\"\n",
              "              style=\"display:none;\">\n",
              "        \n",
              "  <svg xmlns=\"http://www.w3.org/2000/svg\" height=\"24px\"viewBox=\"0 0 24 24\"\n",
              "       width=\"24px\">\n",
              "    <path d=\"M0 0h24v24H0V0z\" fill=\"none\"/>\n",
              "    <path d=\"M18.56 5.44l.94 2.06.94-2.06 2.06-.94-2.06-.94-.94-2.06-.94 2.06-2.06.94zm-11 1L8.5 8.5l.94-2.06 2.06-.94-2.06-.94L8.5 2.5l-.94 2.06-2.06.94zm10 10l.94 2.06.94-2.06 2.06-.94-2.06-.94-.94-2.06-.94 2.06-2.06.94z\"/><path d=\"M17.41 7.96l-1.37-1.37c-.4-.4-.92-.59-1.43-.59-.52 0-1.04.2-1.43.59L10.3 9.45l-7.72 7.72c-.78.78-.78 2.05 0 2.83L4 21.41c.39.39.9.59 1.41.59.51 0 1.02-.2 1.41-.59l7.78-7.78 2.81-2.81c.8-.78.8-2.07 0-2.86zM5.41 20L4 18.59l7.72-7.72 1.47 1.35L5.41 20z\"/>\n",
              "  </svg>\n",
              "      </button>\n",
              "      \n",
              "  <style>\n",
              "    .colab-df-container {\n",
              "      display:flex;\n",
              "      flex-wrap:wrap;\n",
              "      gap: 12px;\n",
              "    }\n",
              "\n",
              "    .colab-df-convert {\n",
              "      background-color: #E8F0FE;\n",
              "      border: none;\n",
              "      border-radius: 50%;\n",
              "      cursor: pointer;\n",
              "      display: none;\n",
              "      fill: #1967D2;\n",
              "      height: 32px;\n",
              "      padding: 0 0 0 0;\n",
              "      width: 32px;\n",
              "    }\n",
              "\n",
              "    .colab-df-convert:hover {\n",
              "      background-color: #E2EBFA;\n",
              "      box-shadow: 0px 1px 2px rgba(60, 64, 67, 0.3), 0px 1px 3px 1px rgba(60, 64, 67, 0.15);\n",
              "      fill: #174EA6;\n",
              "    }\n",
              "\n",
              "    [theme=dark] .colab-df-convert {\n",
              "      background-color: #3B4455;\n",
              "      fill: #D2E3FC;\n",
              "    }\n",
              "\n",
              "    [theme=dark] .colab-df-convert:hover {\n",
              "      background-color: #434B5C;\n",
              "      box-shadow: 0px 1px 3px 1px rgba(0, 0, 0, 0.15);\n",
              "      filter: drop-shadow(0px 1px 2px rgba(0, 0, 0, 0.3));\n",
              "      fill: #FFFFFF;\n",
              "    }\n",
              "  </style>\n",
              "\n",
              "      <script>\n",
              "        const buttonEl =\n",
              "          document.querySelector('#df-500d2591-a305-48c7-9e9e-92686cedb96f button.colab-df-convert');\n",
              "        buttonEl.style.display =\n",
              "          google.colab.kernel.accessAllowed ? 'block' : 'none';\n",
              "\n",
              "        async function convertToInteractive(key) {\n",
              "          const element = document.querySelector('#df-500d2591-a305-48c7-9e9e-92686cedb96f');\n",
              "          const dataTable =\n",
              "            await google.colab.kernel.invokeFunction('convertToInteractive',\n",
              "                                                     [key], {});\n",
              "          if (!dataTable) return;\n",
              "\n",
              "          const docLinkHtml = 'Like what you see? Visit the ' +\n",
              "            '<a target=\"_blank\" href=https://colab.research.google.com/notebooks/data_table.ipynb>data table notebook</a>'\n",
              "            + ' to learn more about interactive tables.';\n",
              "          element.innerHTML = '';\n",
              "          dataTable['output_type'] = 'display_data';\n",
              "          await google.colab.output.renderOutput(dataTable, element);\n",
              "          const docLink = document.createElement('div');\n",
              "          docLink.innerHTML = docLinkHtml;\n",
              "          element.appendChild(docLink);\n",
              "        }\n",
              "      </script>\n",
              "    </div>\n",
              "  </div>\n",
              "  "
            ]
          },
          "metadata": {},
          "execution_count": 47
        }
      ]
    },
    {
      "cell_type": "code",
      "source": [
        "# 4. Chia train test validate theo tỉ lệ 6:2:2\n",
        "df = df[['Close', 'WTI Price']]\n",
        "df = df.dropna() # Drop missing values\n",
        "df = df.reset_index(drop=True) # Reset the index\n",
        "\n",
        "# Split the data into training, testing, and validation sets\n",
        "train_size = int(0.6 * len(df))\n",
        "test_size = int(0.2 * len(df))\n",
        "val_size = len(df) - train_size - test_size\n",
        "\n",
        "train_data = df[:train_size]\n",
        "test_data = df[train_size:train_size+test_size]\n",
        "val_data = df[train_size+test_size:]\n",
        "\n",
        "print(len(train_data))\n",
        "print(len(test_data))\n",
        "print(len(val_data))"
      ],
      "metadata": {
        "colab": {
          "base_uri": "https://localhost:8080/"
        },
        "outputId": "f4aa05e3-3b25-4647-cac0-3d782a5fac56",
        "id": "sFKmbjPfHOvc"
      },
      "execution_count": 48,
      "outputs": [
        {
          "output_type": "stream",
          "name": "stdout",
          "text": [
            "802\n",
            "267\n",
            "268\n"
          ]
        }
      ]
    },
    {
      "cell_type": "code",
      "source": [
        "exo_arr = np.array(train_data['WTI Price'])\n",
        "data_arr = np.array(train_data['Close'])\n",
        "# vẽ biểu đồ scatter plot để xem sự tương quan giữa giá cổ phiếu XOM và giá trị biến ngoại sinh\n",
        "plt.scatter(x = data_arr, y = exo_arr)\n",
        "plt.show()"
      ],
      "metadata": {
        "colab": {
          "base_uri": "https://localhost:8080/",
          "height": 430
        },
        "outputId": "7025894c-1f9d-4b4b-f803-50c5c0165e07",
        "id": "hHn4Ko6YHOvd"
      },
      "execution_count": 49,
      "outputs": [
        {
          "output_type": "display_data",
          "data": {
            "text/plain": [
              "<Figure size 640x480 with 1 Axes>"
            ],
            "image/png": "[encoded data removed]"
          },
          "metadata": {}
        }
      ]
    },
    {
      "cell_type": "code",
      "source": [
        "# Tìm hệ số tương quan giữa 2 cột Close và giá trị biến ngoại sinh\n",
        "correlation = np.corrcoef(data_arr, exo_arr)[0, 1]\n",
        "\n",
        "# In kết quả\n",
        "print(\"Hệ số tương quan: \", correlation)"
      ],
      "metadata": {
        "colab": {
          "base_uri": "https://localhost:8080/"
        },
        "outputId": "e5a1a6b9-fddd-490c-e708-a5e3a3e708e5",
        "id": "USLXVBPzHOvd"
      },
      "execution_count": 50,
      "outputs": [
        {
          "output_type": "stream",
          "name": "stdout",
          "text": [
            "Hệ số tương quan:  0.8206539868076699\n"
          ]
        }
      ]
    },
    {
      "cell_type": "code",
      "source": [
        "!pip install pmdarima"
      ],
      "metadata": {
        "colab": {
          "base_uri": "https://localhost:8080/"
        },
        "outputId": "2ced0d78-1daf-4702-be00-95cd2ca430e3",
        "id": "Hk_bJKlbHOvd"
      },
      "execution_count": 51,
      "outputs": [
        {
          "output_type": "stream",
          "name": "stdout",
          "text": [
            "Looking in indexes: https://pypi.org/simple, https://us-python.pkg.dev/colab-wheels/public/simple/\n",
            "Requirement already satisfied: pmdarima in /usr/local/lib/python3.10/dist-packages (2.0.3)\n",
            "Requirement already satisfied: joblib>=0.11 in /usr/local/lib/python3.10/dist-packages (from pmdarima) (1.2.0)\n",
            "Requirement already satisfied: Cython!=0.29.18,!=0.29.31,>=0.29 in /usr/local/lib/python3.10/dist-packages (from pmdarima) (0.29.34)\n",
            "Requirement already satisfied: numpy>=1.21.2 in /usr/local/lib/python3.10/dist-packages (from pmdarima) (1.22.4)\n",
            "Requirement already satisfied: pandas>=0.19 in /usr/local/lib/python3.10/dist-packages (from pmdarima) (1.5.3)\n",
            "Requirement already satisfied: scikit-learn>=0.22 in /usr/local/lib/python3.10/dist-packages (from pmdarima) (1.2.2)\n",
            "Requirement already satisfied: scipy>=1.3.2 in /usr/local/lib/python3.10/dist-packages (from pmdarima) (1.10.1)\n",
            "Requirement already satisfied: statsmodels>=0.13.2 in /usr/local/lib/python3.10/dist-packages (from pmdarima) (0.13.5)\n",
            "Requirement already satisfied: urllib3 in /usr/local/lib/python3.10/dist-packages (from pmdarima) (1.26.15)\n",
            "Requirement already satisfied: setuptools!=50.0.0,>=38.6.0 in /usr/local/lib/python3.10/dist-packages (from pmdarima) (67.7.2)\n",
            "Requirement already satisfied: python-dateutil>=2.8.1 in /usr/local/lib/python3.10/dist-packages (from pandas>=0.19->pmdarima) (2.8.2)\n",
            "Requirement already satisfied: pytz>=2020.1 in /usr/local/lib/python3.10/dist-packages (from pandas>=0.19->pmdarima) (2022.7.1)\n",
            "Requirement already satisfied: threadpoolctl>=2.0.0 in /usr/local/lib/python3.10/dist-packages (from scikit-learn>=0.22->pmdarima) (3.1.0)\n",
            "Requirement already satisfied: patsy>=0.5.2 in /usr/local/lib/python3.10/dist-packages (from statsmodels>=0.13.2->pmdarima) (0.5.3)\n",
            "Requirement already satisfied: packaging>=21.3 in /usr/local/lib/python3.10/dist-packages (from statsmodels>=0.13.2->pmdarima) (23.1)\n",
            "Requirement already satisfied: six in /usr/local/lib/python3.10/dist-packages (from patsy>=0.5.2->statsmodels>=0.13.2->pmdarima) (1.16.0)\n"
          ]
        }
      ]
    },
    {
      "cell_type": "code",
      "source": [
        "# 3. Quá trình Training\n",
        "train_exo = train_data[[\"WTI Price\"]]\n",
        "\n",
        "# Sử dụng auto_arima kèm biến ngoại sinh tìm ra model tốt nhất\n",
        "from pmdarima.arima import auto_arima\n",
        "model = auto_arima(train_data['Close'],\n",
        "                      trace=True,\n",
        "                      error_action='ignore',\n",
        "                      suppress_warnings=True,\n",
        "                      exogenous= train_exo)\n",
        "\n",
        "# Gán các giá trị p, d, q vào các biến tương ứng\n",
        "p = model.order[0]\n",
        "d = model.order[1]\n",
        "q = model.order[2]"
      ],
      "metadata": {
        "colab": {
          "base_uri": "https://localhost:8080/"
        },
        "outputId": "85686bb4-bebd-42c4-d2e5-38590a6fba17",
        "id": "uciA__oRHOvd"
      },
      "execution_count": 52,
      "outputs": [
        {
          "output_type": "stream",
          "name": "stdout",
          "text": [
            "Performing stepwise search to minimize aic\n",
            " ARIMA(2,1,2)(0,0,0)[0] intercept   : AIC=2495.705, Time=3.60 sec\n",
            " ARIMA(0,1,0)(0,0,0)[0] intercept   : AIC=2499.343, Time=0.08 sec\n",
            " ARIMA(1,1,0)(0,0,0)[0] intercept   : AIC=2501.322, Time=0.14 sec\n",
            " ARIMA(0,1,1)(0,0,0)[0] intercept   : AIC=2501.324, Time=0.16 sec\n",
            " ARIMA(0,1,0)(0,0,0)[0]             : AIC=2497.854, Time=0.04 sec\n",
            " ARIMA(1,1,2)(0,0,0)[0] intercept   : AIC=2502.154, Time=0.46 sec\n",
            " ARIMA(2,1,1)(0,0,0)[0] intercept   : AIC=2502.294, Time=0.36 sec\n",
            " ARIMA(3,1,2)(0,0,0)[0] intercept   : AIC=2495.691, Time=2.74 sec\n",
            " ARIMA(3,1,1)(0,0,0)[0] intercept   : AIC=2504.196, Time=1.49 sec\n",
            " ARIMA(4,1,2)(0,0,0)[0] intercept   : AIC=2499.105, Time=8.79 sec\n",
            " ARIMA(3,1,3)(0,0,0)[0] intercept   : AIC=2502.639, Time=5.35 sec\n",
            " ARIMA(2,1,3)(0,0,0)[0] intercept   : AIC=2504.889, Time=4.03 sec\n",
            " ARIMA(4,1,1)(0,0,0)[0] intercept   : AIC=2504.037, Time=4.72 sec\n",
            " ARIMA(4,1,3)(0,0,0)[0] intercept   : AIC=2500.097, Time=6.75 sec\n",
            " ARIMA(3,1,2)(0,0,0)[0]             : AIC=2494.174, Time=2.71 sec\n",
            " ARIMA(2,1,2)(0,0,0)[0]             : AIC=2494.250, Time=2.13 sec\n",
            " ARIMA(3,1,1)(0,0,0)[0]             : AIC=2502.670, Time=0.63 sec\n",
            " ARIMA(4,1,2)(0,0,0)[0]             : AIC=2497.534, Time=3.37 sec\n",
            " ARIMA(3,1,3)(0,0,0)[0]             : AIC=2494.851, Time=1.38 sec\n",
            " ARIMA(2,1,1)(0,0,0)[0]             : AIC=2500.757, Time=0.19 sec\n",
            " ARIMA(2,1,3)(0,0,0)[0]             : AIC=2503.149, Time=0.52 sec\n",
            " ARIMA(4,1,1)(0,0,0)[0]             : AIC=2502.293, Time=0.54 sec\n",
            " ARIMA(4,1,3)(0,0,0)[0]             : AIC=2497.939, Time=1.64 sec\n",
            "\n",
            "Best model:  ARIMA(3,1,2)(0,0,0)[0]          \n",
            "Total fit time: 51.928 seconds\n"
          ]
        }
      ]
    },
    {
      "cell_type": "code",
      "source": [
        "# Khởi tạo mô hình ARIMAX với order=(p, d, q) và khai báo biến ngoại sinh\n",
        "model= SARIMAX(train_data['Close'],\n",
        " exog=train_exo,\n",
        " order=(p,d,q),\n",
        " enforce_invertibility=False, enforce_stationarity=False)\n",
        "\n",
        "# Fit mô hình bằng dữ liệu huấn luyện để tìm ra các giá trị tối ưu cho các tham số của mô hình\n",
        "model = model.fit()"
      ],
      "metadata": {
        "colab": {
          "base_uri": "https://localhost:8080/"
        },
        "outputId": "2b123353-4ffd-4274-d2cb-b151d6a4b28d",
        "id": "nIjqMJ48HOvd"
      },
      "execution_count": 53,
      "outputs": [
        {
          "output_type": "stream",
          "name": "stderr",
          "text": [
            "/usr/local/lib/python3.10/dist-packages/statsmodels/base/model.py:604: ConvergenceWarning: Maximum Likelihood optimization failed to converge. Check mle_retvals\n",
            "  warnings.warn(\"Maximum Likelihood optimization failed to \"\n"
          ]
        }
      ]
    },
    {
      "cell_type": "code",
      "source": [
        "# 4. Quá trình testing\n",
        "x_test = np.array(test_data.index).reshape(-1, 1)\n",
        "y_test = np.array(test_data['Close'])\n",
        "test_exo = test_data[['WTI Price']]\n",
        "y_pred = model.forecast(steps=len(y_test), exog=test_exo)\n",
        "\n",
        "# 5. Quá trình Validate\n",
        "x_val= np.array(val_data.index).reshape(-1, 1)\n",
        "y_val = np.array(val_data['Close'])\n",
        "val_exo = val_data[['WTI Price']]\n",
        "y_pred_val =  model.forecast(steps=len(y_val), exog=val_exo)"
      ],
      "metadata": {
        "id": "MoAS0BA6HOvd"
      },
      "execution_count": 54,
      "outputs": []
    },
    {
      "cell_type": "code",
      "source": [
        "# 6. Đánh giá độ chính xác thuật toán bằng RMSE\n",
        "# Tính MAPE\n",
        "def calculate_mape(y_true, y_pred):\n",
        "    return np.mean(np.abs((y_true - y_pred) / y_true)) * 100\n",
        "\n",
        "# Tính MDA\n",
        "def calculate_mda(y_true, y_pred):\n",
        "    y_true_diff = np.diff(y_true)\n",
        "    y_pred_diff = np.diff(y_pred)\n",
        "    correct_direction = np.sign(y_true_diff) == np.sign(y_pred_diff)\n",
        "    return np.mean(correct_direction) * 100\n",
        "\n",
        "# Tính toán RMSE, MAPE và MDA\n",
        "valid_rmse = np.sqrt(np.mean((y_val- y_pred_val) ** 2))\n",
        "test_rmse = np.sqrt(np.mean((y_test - y_pred) ** 2))\n",
        "\n",
        "valid_mape = calculate_mape(y_val, y_pred_val)\n",
        "test_mape = calculate_mape(y_test, y_pred)\n",
        "\n",
        "valid_mda = calculate_mda(np.squeeze(y_val), np.squeeze(y_pred_val))\n",
        "test_mda = calculate_mda(np.squeeze(y_test), np.squeeze(y_pred))\n",
        "\n",
        "# In kết quả\n",
        "print('Validation RMSE:', valid_rmse)\n",
        "print('Testing RMSE:', test_rmse)\n",
        "print('Validation MAPE:', valid_mape)\n",
        "print('Testing MAPE:', test_mape)\n",
        "print('Validation MDA:', valid_mda)\n",
        "print('Testing MDA:', test_mda)"
      ],
      "metadata": {
        "colab": {
          "base_uri": "https://localhost:8080/"
        },
        "outputId": "429abb79-4204-4323-9478-b407b736c6ee",
        "id": "JdSMS44SHOvd"
      },
      "execution_count": 55,
      "outputs": [
        {
          "output_type": "stream",
          "name": "stdout",
          "text": [
            "Validation RMSE: 39.1955046391863\n",
            "Testing RMSE: 7.953906623079399\n",
            "Validation MAPE: 36.48894320067116\n",
            "Testing MAPE: 8.29590794352634\n",
            "Validation MDA: 73.03370786516854\n",
            "Testing MDA: 70.30075187969925\n"
          ]
        }
      ]
    },
    {
      "cell_type": "code",
      "source": [
        "# 7.Vẽ hình\n",
        "plt.plot(train_data.index, train_data['Close'])\n",
        "plt.plot(test_data.index, test_data['Close'])\n",
        "plt.plot(val_data.index, val_data['Close'])\n",
        "plt.plot(test_data.index, y_pred)\n",
        "plt.plot(val_data.index, y_pred_val)\n",
        "plt.legend(['Train', 'ActualTest', 'PredictedTest','ActualValidate', 'PredictedValidate'])\n",
        "plt.title('ARIMAX 6:2:2 (XOM Stock Price)')\n",
        "plt.show()"
      ],
      "metadata": {
        "colab": {
          "base_uri": "https://localhost:8080/",
          "height": 452
        },
        "outputId": "147382aa-ecc5-483a-acf0-ffbbef802883",
        "id": "STWLvkAgHOvd"
      },
      "execution_count": 56,
      "outputs": [
        {
          "output_type": "display_data",
          "data": {
            "text/plain": [
              "<Figure size 640x480 with 1 Axes>"
            ],
            "image/png": "[encoded data removed]"
          },
          "metadata": {}
        }
      ]
    }
  ]
}