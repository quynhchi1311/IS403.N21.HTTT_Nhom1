{
  "nbformat": 4,
  "nbformat_minor": 0,
  "metadata": {
    "colab": {
      "provenance": []
    },
    "kernelspec": {
      "name": "python3",
      "display_name": "Python 3"
    },
    "language_info": {
      "name": "python"
    }
  },
  "cells": [
    {
      "cell_type": "code",
      "execution_count": 1,
      "metadata": {
        "id": "sP9QBXr_bfYE"
      },
      "outputs": [],
      "source": [
        "# 1. Các thư viện cần thiết\n",
        "import numpy as np\n",
        "import pandas as pd\n",
        "import seaborn as sns\n",
        "import matplotlib.pyplot as plt\n",
        "from sklearn.preprocessing import MinMaxScaler\n",
        "from sklearn.linear_model import LinearRegression\n",
        "from statsmodels.tsa.statespace.sarimax import SARIMAX"
      ]
    },
    {
      "cell_type": "code",
      "source": [
        "from google.colab import drive\n",
        "drive.mount('/content/drive')"
      ],
      "metadata": {
        "colab": {
          "base_uri": "https://localhost:8080/"
        },
        "id": "-6Zsgb7lbrpN",
        "outputId": "71cb6080-4efe-4498-8eba-8a1326c8af52"
      },
      "execution_count": 2,
      "outputs": [
        {
          "output_type": "stream",
          "name": "stdout",
          "text": [
            "Mounted at /content/drive\n"
          ]
        }
      ]
    },
    {
      "cell_type": "code",
      "source": [
        "# 2. Đọc file dữ liệu chứng khoán XOM\n",
        "df_input = pd.read_csv('/content/drive/MyDrive/StockData/CVX.csv')\n",
        "\n",
        "# 3. Đọc file dữ liệu trên tập dữ liệu dùng làm biến ngoại sinh (exogenous)\n",
        "df_exo = pd.read_csv('/content/drive/MyDrive/StockData/DCOILWTICO.csv')"
      ],
      "metadata": {
        "id": "bOzVvrhcbu2f"
      },
      "execution_count": 3,
      "outputs": []
    },
    {
      "cell_type": "code",
      "source": [
        "# Đổi tên các cột DATE và DCOILWTICO\n",
        "df_exo = df_exo.rename(columns={'DATE': 'Date', 'DCOILWTICO': 'WTI Price'})\n",
        "\n",
        "# Chỉ lưu giữ các dòng trong df_exo có mà df_xom cũng có dựa trên cột ngày\n",
        "df_exo = df_exo[df_exo['Date'].isin(df_input['Date'])]\n",
        "\n",
        "# Thay thế các ô có giá trị '.' bằng NaN\n",
        "df_exo.replace('.', np.nan, inplace=True)\n",
        "\n",
        "# Chuyển đổi kiểu dữ liệu của cột 'WTI Price' thành float64\n",
        "df_exo['WTI Price'] = df_exo['WTI Price'].astype(float)\n",
        "\n",
        "# Tính giá trị trung bình của cột 'WTI Price'\n",
        "mean_value = df_exo['WTI Price'].mean()\n",
        "\n",
        "# Thay thế các NaN bằng giá trị trung bình\n",
        "df_exo['WTI Price'].fillna(mean_value, inplace=True)"
      ],
      "metadata": {
        "id": "Ibmj0WzueM2d"
      },
      "execution_count": 4,
      "outputs": []
    },
    {
      "cell_type": "code",
      "source": [
        "df = pd.merge(df_input, df_exo, on='Date')\n",
        "df.head(10)"
      ],
      "metadata": {
        "colab": {
          "base_uri": "https://localhost:8080/",
          "height": 363
        },
        "id": "KvifjhBTb3yt",
        "outputId": "a1ff0576-9f69-449f-84f6-c3945a4d39d3"
      },
      "execution_count": 5,
      "outputs": [
        {
          "output_type": "execute_result",
          "data": {
            "text/plain": [
              "         Date        Open        High         Low       Close   Adj Close  \\\n",
              "0  2018-01-02  125.709999  127.739998  125.540001  127.580002  101.562248   \n",
              "1  2018-01-03  127.459999  128.940002  126.900002  128.509995  102.302574   \n",
              "2  2018-01-04  127.949997  128.350006  127.220001  128.110001  101.984169   \n",
              "3  2018-01-05  127.970001  128.100006  127.099998  127.900002  101.816994   \n",
              "4  2018-01-08  127.860001  128.630005  127.629997  128.529999  102.318512   \n",
              "5  2018-01-09  128.429993  128.940002  127.790001  127.839996  101.769211   \n",
              "6  2018-01-10  128.309998  128.759995  127.800003  128.660004  102.421997   \n",
              "7  2018-01-11  128.919998  133.320007  128.759995  132.570007  105.534622   \n",
              "8  2018-01-12  132.190002  133.850006  132.110001  133.600006  106.354576   \n",
              "9  2018-01-16  133.669998  133.880005  131.600006  132.009995  105.088814   \n",
              "\n",
              "     Volume  WTI Price  \n",
              "0   5626000      60.37  \n",
              "1   5805500      61.61  \n",
              "2   4598300      61.98  \n",
              "3   4189200      61.49  \n",
              "4   4826100      61.73  \n",
              "5   4422300      62.92  \n",
              "6   5292200      63.60  \n",
              "7  11641300      63.81  \n",
              "8   7232900      64.22  \n",
              "9   6254200      63.82  "
            ],
            "text/html": [
              "\n",
              "  <div id=\"df-e4f84814-f33b-4001-acdc-92c974c2736f\">\n",
              "    <div class=\"colab-df-container\">\n",
              "      <div>\n",
              "<style scoped>\n",
              "    .dataframe tbody tr th:only-of-type {\n",
              "        vertical-align: middle;\n",
              "    }\n",
              "\n",
              "    .dataframe tbody tr th {\n",
              "        vertical-align: top;\n",
              "    }\n",
              "\n",
              "    .dataframe thead th {\n",
              "        text-align: right;\n",
              "    }\n",
              "</style>\n",
              "<table border=\"1\" class=\"dataframe\">\n",
              "  <thead>\n",
              "    <tr style=\"text-align: right;\">\n",
              "      <th></th>\n",
              "      <th>Date</th>\n",
              "      <th>Open</th>\n",
              "      <th>High</th>\n",
              "      <th>Low</th>\n",
              "      <th>Close</th>\n",
              "      <th>Adj Close</th>\n",
              "      <th>Volume</th>\n",
              "      <th>WTI Price</th>\n",
              "    </tr>\n",
              "  </thead>\n",
              "  <tbody>\n",
              "    <tr>\n",
              "      <th>0</th>\n",
              "      <td>2018-01-02</td>\n",
              "      <td>125.709999</td>\n",
              "      <td>127.739998</td>\n",
              "      <td>125.540001</td>\n",
              "      <td>127.580002</td>\n",
              "      <td>101.562248</td>\n",
              "      <td>5626000</td>\n",
              "      <td>60.37</td>\n",
              "    </tr>\n",
              "    <tr>\n",
              "      <th>1</th>\n",
              "      <td>2018-01-03</td>\n",
              "      <td>127.459999</td>\n",
              "      <td>128.940002</td>\n",
              "      <td>126.900002</td>\n",
              "      <td>128.509995</td>\n",
              "      <td>102.302574</td>\n",
              "      <td>5805500</td>\n",
              "      <td>61.61</td>\n",
              "    </tr>\n",
              "    <tr>\n",
              "      <th>2</th>\n",
              "      <td>2018-01-04</td>\n",
              "      <td>127.949997</td>\n",
              "      <td>128.350006</td>\n",
              "      <td>127.220001</td>\n",
              "      <td>128.110001</td>\n",
              "      <td>101.984169</td>\n",
              "      <td>4598300</td>\n",
              "      <td>61.98</td>\n",
              "    </tr>\n",
              "    <tr>\n",
              "      <th>3</th>\n",
              "      <td>2018-01-05</td>\n",
              "      <td>127.970001</td>\n",
              "      <td>128.100006</td>\n",
              "      <td>127.099998</td>\n",
              "      <td>127.900002</td>\n",
              "      <td>101.816994</td>\n",
              "      <td>4189200</td>\n",
              "      <td>61.49</td>\n",
              "    </tr>\n",
              "    <tr>\n",
              "      <th>4</th>\n",
              "      <td>2018-01-08</td>\n",
              "      <td>127.860001</td>\n",
              "      <td>128.630005</td>\n",
              "      <td>127.629997</td>\n",
              "      <td>128.529999</td>\n",
              "      <td>102.318512</td>\n",
              "      <td>4826100</td>\n",
              "      <td>61.73</td>\n",
              "    </tr>\n",
              "    <tr>\n",
              "      <th>5</th>\n",
              "      <td>2018-01-09</td>\n",
              "      <td>128.429993</td>\n",
              "      <td>128.940002</td>\n",
              "      <td>127.790001</td>\n",
              "      <td>127.839996</td>\n",
              "      <td>101.769211</td>\n",
              "      <td>4422300</td>\n",
              "      <td>62.92</td>\n",
              "    </tr>\n",
              "    <tr>\n",
              "      <th>6</th>\n",
              "      <td>2018-01-10</td>\n",
              "      <td>128.309998</td>\n",
              "      <td>128.759995</td>\n",
              "      <td>127.800003</td>\n",
              "      <td>128.660004</td>\n",
              "      <td>102.421997</td>\n",
              "      <td>5292200</td>\n",
              "      <td>63.60</td>\n",
              "    </tr>\n",
              "    <tr>\n",
              "      <th>7</th>\n",
              "      <td>2018-01-11</td>\n",
              "      <td>128.919998</td>\n",
              "      <td>133.320007</td>\n",
              "      <td>128.759995</td>\n",
              "      <td>132.570007</td>\n",
              "      <td>105.534622</td>\n",
              "      <td>11641300</td>\n",
              "      <td>63.81</td>\n",
              "    </tr>\n",
              "    <tr>\n",
              "      <th>8</th>\n",
              "      <td>2018-01-12</td>\n",
              "      <td>132.190002</td>\n",
              "      <td>133.850006</td>\n",
              "      <td>132.110001</td>\n",
              "      <td>133.600006</td>\n",
              "      <td>106.354576</td>\n",
              "      <td>7232900</td>\n",
              "      <td>64.22</td>\n",
              "    </tr>\n",
              "    <tr>\n",
              "      <th>9</th>\n",
              "      <td>2018-01-16</td>\n",
              "      <td>133.669998</td>\n",
              "      <td>133.880005</td>\n",
              "      <td>131.600006</td>\n",
              "      <td>132.009995</td>\n",
              "      <td>105.088814</td>\n",
              "      <td>6254200</td>\n",
              "      <td>63.82</td>\n",
              "    </tr>\n",
              "  </tbody>\n",
              "</table>\n",
              "</div>\n",
              "      <button class=\"colab-df-convert\" onclick=\"convertToInteractive('df-e4f84814-f33b-4001-acdc-92c974c2736f')\"\n",
              "              title=\"Convert this dataframe to an interactive table.\"\n",
              "              style=\"display:none;\">\n",
              "        \n",
              "  <svg xmlns=\"http://www.w3.org/2000/svg\" height=\"24px\"viewBox=\"0 0 24 24\"\n",
              "       width=\"24px\">\n",
              "    <path d=\"M0 0h24v24H0V0z\" fill=\"none\"/>\n",
              "    <path d=\"M18.56 5.44l.94 2.06.94-2.06 2.06-.94-2.06-.94-.94-2.06-.94 2.06-2.06.94zm-11 1L8.5 8.5l.94-2.06 2.06-.94-2.06-.94L8.5 2.5l-.94 2.06-2.06.94zm10 10l.94 2.06.94-2.06 2.06-.94-2.06-.94-.94-2.06-.94 2.06-2.06.94z\"/><path d=\"M17.41 7.96l-1.37-1.37c-.4-.4-.92-.59-1.43-.59-.52 0-1.04.2-1.43.59L10.3 9.45l-7.72 7.72c-.78.78-.78 2.05 0 2.83L4 21.41c.39.39.9.59 1.41.59.51 0 1.02-.2 1.41-.59l7.78-7.78 2.81-2.81c.8-.78.8-2.07 0-2.86zM5.41 20L4 18.59l7.72-7.72 1.47 1.35L5.41 20z\"/>\n",
              "  </svg>\n",
              "      </button>\n",
              "      \n",
              "  <style>\n",
              "    .colab-df-container {\n",
              "      display:flex;\n",
              "      flex-wrap:wrap;\n",
              "      gap: 12px;\n",
              "    }\n",
              "\n",
              "    .colab-df-convert {\n",
              "      background-color: #E8F0FE;\n",
              "      border: none;\n",
              "      border-radius: 50%;\n",
              "      cursor: pointer;\n",
              "      display: none;\n",
              "      fill: #1967D2;\n",
              "      height: 32px;\n",
              "      padding: 0 0 0 0;\n",
              "      width: 32px;\n",
              "    }\n",
              "\n",
              "    .colab-df-convert:hover {\n",
              "      background-color: #E2EBFA;\n",
              "      box-shadow: 0px 1px 2px rgba(60, 64, 67, 0.3), 0px 1px 3px 1px rgba(60, 64, 67, 0.15);\n",
              "      fill: #174EA6;\n",
              "    }\n",
              "\n",
              "    [theme=dark] .colab-df-convert {\n",
              "      background-color: #3B4455;\n",
              "      fill: #D2E3FC;\n",
              "    }\n",
              "\n",
              "    [theme=dark] .colab-df-convert:hover {\n",
              "      background-color: #434B5C;\n",
              "      box-shadow: 0px 1px 3px 1px rgba(0, 0, 0, 0.15);\n",
              "      filter: drop-shadow(0px 1px 2px rgba(0, 0, 0, 0.3));\n",
              "      fill: #FFFFFF;\n",
              "    }\n",
              "  </style>\n",
              "\n",
              "      <script>\n",
              "        const buttonEl =\n",
              "          document.querySelector('#df-e4f84814-f33b-4001-acdc-92c974c2736f button.colab-df-convert');\n",
              "        buttonEl.style.display =\n",
              "          google.colab.kernel.accessAllowed ? 'block' : 'none';\n",
              "\n",
              "        async function convertToInteractive(key) {\n",
              "          const element = document.querySelector('#df-e4f84814-f33b-4001-acdc-92c974c2736f');\n",
              "          const dataTable =\n",
              "            await google.colab.kernel.invokeFunction('convertToInteractive',\n",
              "                                                     [key], {});\n",
              "          if (!dataTable) return;\n",
              "\n",
              "          const docLinkHtml = 'Like what you see? Visit the ' +\n",
              "            '<a target=\"_blank\" href=https://colab.research.google.com/notebooks/data_table.ipynb>data table notebook</a>'\n",
              "            + ' to learn more about interactive tables.';\n",
              "          element.innerHTML = '';\n",
              "          dataTable['output_type'] = 'display_data';\n",
              "          await google.colab.output.renderOutput(dataTable, element);\n",
              "          const docLink = document.createElement('div');\n",
              "          docLink.innerHTML = docLinkHtml;\n",
              "          element.appendChild(docLink);\n",
              "        }\n",
              "      </script>\n",
              "    </div>\n",
              "  </div>\n",
              "  "
            ]
          },
          "metadata": {},
          "execution_count": 5
        }
      ]
    },
    {
      "cell_type": "code",
      "source": [
        "# 4. Chia train test validate theo tỉ lệ 6:2:2\n",
        "df = df[['Close', 'WTI Price']]\n",
        "df = df.dropna() # Drop missing values\n",
        "df = df.reset_index(drop=True) # Reset the index\n",
        "\n",
        "# Split the data into training, testing, and validation sets\n",
        "train_size = int(0.6 * len(df))\n",
        "test_size = int(0.2 * len(df))\n",
        "val_size = len(df) - train_size - test_size\n",
        "\n",
        "train_data = df[:train_size]\n",
        "test_data = df[train_size:train_size+test_size]\n",
        "val_data = df[train_size+test_size:]\n",
        "\n",
        "print(len(train_data))\n",
        "print(len(test_data))\n",
        "print(len(val_data))"
      ],
      "metadata": {
        "colab": {
          "base_uri": "https://localhost:8080/"
        },
        "id": "CGYTVXocd1yq",
        "outputId": "0fafc1ba-9b55-4d3d-e169-e50e75bb8dfc"
      },
      "execution_count": 6,
      "outputs": [
        {
          "output_type": "stream",
          "name": "stdout",
          "text": [
            "801\n",
            "267\n",
            "268\n"
          ]
        }
      ]
    },
    {
      "cell_type": "code",
      "source": [
        "exo_arr = np.array(train_data['WTI Price'])\n",
        "data_arr = np.array(train_data['Close'])\n",
        "# vẽ biểu đồ scatter plot để xem sự tương quan giữa giá cổ phiếu XOM và giá trị biến ngoại sinh\n",
        "plt.scatter(x = data_arr, y = exo_arr)\n",
        "plt.show()"
      ],
      "metadata": {
        "colab": {
          "base_uri": "https://localhost:8080/",
          "height": 430
        },
        "id": "O5U3Bi-JhiXe",
        "outputId": "d53a6232-6e5b-4f88-9c04-3d2df40c1050"
      },
      "execution_count": 7,
      "outputs": [
        {
          "output_type": "display_data",
          "data": {
            "text/plain": [
              "<Figure size 640x480 with 1 Axes>"
            ],
            "image/png": "[encoded data removed]"
          },
          "metadata": {}
        }
      ]
    },
    {
      "cell_type": "code",
      "source": [
        "# Tìm hệ số tương quan giữa 2 cột Close và giá trị biến ngoại sinh\n",
        "correlation = np.corrcoef(data_arr, exo_arr)[0, 1]\n",
        "\n",
        "# In kết quả\n",
        "print(\"Hệ số tương quan: \", correlation)"
      ],
      "metadata": {
        "colab": {
          "base_uri": "https://localhost:8080/"
        },
        "id": "g6I26Dn7kWj1",
        "outputId": "9ec7fb94-cbad-4cdc-ca9c-b9cf2c031fee"
      },
      "execution_count": 8,
      "outputs": [
        {
          "output_type": "stream",
          "name": "stdout",
          "text": [
            "Hệ số tương quan:  0.7993292879246885\n"
          ]
        }
      ]
    },
    {
      "cell_type": "code",
      "source": [
        "!pip install pmdarima"
      ],
      "metadata": {
        "colab": {
          "base_uri": "https://localhost:8080/"
        },
        "id": "Fki0udbIkhIO",
        "outputId": "6376f2c3-ea2d-49b3-88d4-a63c608ea67a"
      },
      "execution_count": 9,
      "outputs": [
        {
          "output_type": "stream",
          "name": "stdout",
          "text": [
            "Looking in indexes: https://pypi.org/simple, https://us-python.pkg.dev/colab-wheels/public/simple/\n",
            "Collecting pmdarima\n",
            "  Downloading pmdarima-2.0.3-cp310-cp310-manylinux_2_17_x86_64.manylinux2014_x86_64.manylinux_2_28_x86_64.whl (1.8 MB)\n",
            "\u001b[2K     \u001b[90m━━━━━━━━━━━━━━━━━━━━━━━━━━━━━━━━━━━━━━━━\u001b[0m \u001b[32m1.8/1.8 MB\u001b[0m \u001b[31m20.7 MB/s\u001b[0m eta \u001b[36m0:00:00\u001b[0m\n",
            "\u001b[?25hRequirement already satisfied: joblib>=0.11 in /usr/local/lib/python3.10/dist-packages (from pmdarima) (1.2.0)\n",
            "Requirement already satisfied: Cython!=0.29.18,!=0.29.31,>=0.29 in /usr/local/lib/python3.10/dist-packages (from pmdarima) (0.29.34)\n",
            "Requirement already satisfied: numpy>=1.21.2 in /usr/local/lib/python3.10/dist-packages (from pmdarima) (1.22.4)\n",
            "Requirement already satisfied: pandas>=0.19 in /usr/local/lib/python3.10/dist-packages (from pmdarima) (1.5.3)\n",
            "Requirement already satisfied: scikit-learn>=0.22 in /usr/local/lib/python3.10/dist-packages (from pmdarima) (1.2.2)\n",
            "Requirement already satisfied: scipy>=1.3.2 in /usr/local/lib/python3.10/dist-packages (from pmdarima) (1.10.1)\n",
            "Requirement already satisfied: statsmodels>=0.13.2 in /usr/local/lib/python3.10/dist-packages (from pmdarima) (0.13.5)\n",
            "Requirement already satisfied: urllib3 in /usr/local/lib/python3.10/dist-packages (from pmdarima) (1.26.15)\n",
            "Requirement already satisfied: setuptools!=50.0.0,>=38.6.0 in /usr/local/lib/python3.10/dist-packages (from pmdarima) (67.7.2)\n",
            "Requirement already satisfied: python-dateutil>=2.8.1 in /usr/local/lib/python3.10/dist-packages (from pandas>=0.19->pmdarima) (2.8.2)\n",
            "Requirement already satisfied: pytz>=2020.1 in /usr/local/lib/python3.10/dist-packages (from pandas>=0.19->pmdarima) (2022.7.1)\n",
            "Requirement already satisfied: threadpoolctl>=2.0.0 in /usr/local/lib/python3.10/dist-packages (from scikit-learn>=0.22->pmdarima) (3.1.0)\n",
            "Requirement already satisfied: patsy>=0.5.2 in /usr/local/lib/python3.10/dist-packages (from statsmodels>=0.13.2->pmdarima) (0.5.3)\n",
            "Requirement already satisfied: packaging>=21.3 in /usr/local/lib/python3.10/dist-packages (from statsmodels>=0.13.2->pmdarima) (23.1)\n",
            "Requirement already satisfied: six in /usr/local/lib/python3.10/dist-packages (from patsy>=0.5.2->statsmodels>=0.13.2->pmdarima) (1.16.0)\n",
            "Installing collected packages: pmdarima\n",
            "Successfully installed pmdarima-2.0.3\n"
          ]
        }
      ]
    },
    {
      "cell_type": "code",
      "source": [
        "# 3. Quá trình Training\n",
        "train_exo = train_data[[\"WTI Price\"]]\n",
        "\n",
        "# Sử dụng auto_arima kèm biến ngoại sinh tìm ra model tốt nhất\n",
        "from pmdarima.arima import auto_arima\n",
        "model = auto_arima(train_data['Close'],\n",
        "                      trace=True,\n",
        "                      error_action='ignore',\n",
        "                      suppress_warnings=True,\n",
        "                      exogenous= train_exo)\n",
        "\n",
        "# Gán các giá trị p, d, q vào các biến tương ứng\n",
        "p = model.order[0]\n",
        "d = model.order[1]\n",
        "q = model.order[2]"
      ],
      "metadata": {
        "colab": {
          "base_uri": "https://localhost:8080/"
        },
        "id": "upEPZhaOlHbs",
        "outputId": "b01002cb-5680-47c1-c766-22161c0bdc1b"
      },
      "execution_count": 10,
      "outputs": [
        {
          "output_type": "stream",
          "name": "stdout",
          "text": [
            "Performing stepwise search to minimize aic\n",
            " ARIMA(2,1,2)(0,0,0)[0] intercept   : AIC=3472.510, Time=1.71 sec\n",
            " ARIMA(0,1,0)(0,0,0)[0] intercept   : AIC=3507.683, Time=0.04 sec\n",
            " ARIMA(1,1,0)(0,0,0)[0] intercept   : AIC=3498.407, Time=0.11 sec\n",
            " ARIMA(0,1,1)(0,0,0)[0] intercept   : AIC=3500.029, Time=0.32 sec\n",
            " ARIMA(0,1,0)(0,0,0)[0]             : AIC=3505.770, Time=0.11 sec\n",
            " ARIMA(1,1,2)(0,0,0)[0] intercept   : AIC=3497.298, Time=0.93 sec\n",
            " ARIMA(2,1,1)(0,0,0)[0] intercept   : AIC=3497.514, Time=1.03 sec\n",
            " ARIMA(3,1,2)(0,0,0)[0] intercept   : AIC=3501.281, Time=1.63 sec\n",
            " ARIMA(2,1,3)(0,0,0)[0] intercept   : AIC=3501.265, Time=2.14 sec\n",
            " ARIMA(1,1,1)(0,0,0)[0] intercept   : AIC=3497.439, Time=0.66 sec\n",
            " ARIMA(1,1,3)(0,0,0)[0] intercept   : AIC=3499.247, Time=1.94 sec\n",
            " ARIMA(3,1,1)(0,0,0)[0] intercept   : AIC=3487.563, Time=2.41 sec\n",
            " ARIMA(3,1,3)(0,0,0)[0] intercept   : AIC=inf, Time=6.32 sec\n",
            " ARIMA(2,1,2)(0,0,0)[0]             : AIC=3470.616, Time=2.50 sec\n",
            " ARIMA(1,1,2)(0,0,0)[0]             : AIC=3495.393, Time=0.96 sec\n",
            " ARIMA(2,1,1)(0,0,0)[0]             : AIC=3495.607, Time=0.58 sec\n",
            " ARIMA(3,1,2)(0,0,0)[0]             : AIC=3499.377, Time=0.79 sec\n",
            " ARIMA(2,1,3)(0,0,0)[0]             : AIC=3499.361, Time=1.38 sec\n",
            " ARIMA(1,1,1)(0,0,0)[0]             : AIC=3495.546, Time=0.32 sec\n",
            " ARIMA(1,1,3)(0,0,0)[0]             : AIC=3497.368, Time=0.52 sec\n",
            " ARIMA(3,1,1)(0,0,0)[0]             : AIC=3485.649, Time=1.32 sec\n",
            " ARIMA(3,1,3)(0,0,0)[0]             : AIC=inf, Time=3.65 sec\n",
            "\n",
            "Best model:  ARIMA(2,1,2)(0,0,0)[0]          \n",
            "Total fit time: 31.462 seconds\n"
          ]
        }
      ]
    },
    {
      "cell_type": "code",
      "source": [
        "# Khởi tạo mô hình ARIMAX với order=(p, d, q) và khai báo biến ngoại sinh\n",
        "model= SARIMAX(train_data['Close'],\n",
        " exog=train_exo,\n",
        " order=(p,d,q),\n",
        " enforce_invertibility=False, enforce_stationarity=False)\n",
        "\n",
        "# Fit mô hình bằng dữ liệu huấn luyện để tìm ra các giá trị tối ưu cho các tham số của mô hình\n",
        "model = model.fit()"
      ],
      "metadata": {
        "id": "wbsyLGjTvw9w"
      },
      "execution_count": 11,
      "outputs": []
    },
    {
      "cell_type": "code",
      "source": [
        "# 4. Quá trình testing\n",
        "x_test = np.array(test_data.index).reshape(-1, 1)\n",
        "y_test = np.array(test_data['Close'])\n",
        "test_exo = test_data[['WTI Price']]\n",
        "y_pred = model.forecast(steps=len(y_test), exog=test_exo)\n",
        "\n",
        "# 5. Quá trình Validate\n",
        "x_val= np.array(val_data.index).reshape(-1, 1)\n",
        "y_val = np.array(val_data['Close'])\n",
        "val_exo = val_data[['WTI Price']]\n",
        "y_pred_val =  model.forecast(steps=len(y_val), exog=val_exo)"
      ],
      "metadata": {
        "id": "3oroFPUqpUjk"
      },
      "execution_count": 12,
      "outputs": []
    },
    {
      "cell_type": "code",
      "source": [
        "# 6. Đánh giá độ chính xác thuật toán bằng RMSE\n",
        "# Tính MAPE\n",
        "def calculate_mape(y_true, y_pred):\n",
        "    return np.mean(np.abs((y_true - y_pred) / y_true)) * 100\n",
        "\n",
        "# Tính MDA\n",
        "def calculate_mda(y_true, y_pred):\n",
        "    y_true_diff = np.diff(y_true)\n",
        "    y_pred_diff = np.diff(y_pred)\n",
        "    correct_direction = np.sign(y_true_diff) == np.sign(y_pred_diff)\n",
        "    return np.mean(correct_direction) * 100\n",
        "\n",
        "# Tính toán RMSE, MAPE và MDA\n",
        "valid_rmse = np.sqrt(np.mean((y_val- y_pred_val) ** 2))\n",
        "test_rmse = np.sqrt(np.mean((y_test - y_pred) ** 2))\n",
        "\n",
        "valid_mape = calculate_mape(y_val, y_pred_val)\n",
        "test_mape = calculate_mape(y_test, y_pred)\n",
        "\n",
        "valid_mda = calculate_mda(np.squeeze(y_val), np.squeeze(y_pred_val))\n",
        "test_mda = calculate_mda(np.squeeze(y_test), np.squeeze(y_pred))\n",
        "\n",
        "# In kết quả\n",
        "print('Validation RMSE:', valid_rmse)\n",
        "print('Testing RMSE:', test_rmse)\n",
        "print('Validation MAPE:', valid_mape)\n",
        "print('Testing MAPE:', test_mape)\n",
        "print('Validation MDA:', valid_mda)\n",
        "print('Testing MDA:', test_mda)"
      ],
      "metadata": {
        "colab": {
          "base_uri": "https://localhost:8080/"
        },
        "id": "wkDjOQuKpZ-3",
        "outputId": "35f06241-8938-4615-b79d-2c2b0a2332c5"
      },
      "execution_count": 13,
      "outputs": [
        {
          "output_type": "stream",
          "name": "stdout",
          "text": [
            "Validation RMSE: 54.396733181342455\n",
            "Testing RMSE: 17.086392359072324\n",
            "Validation MAPE: 31.76150232013457\n",
            "Testing MAPE: 9.115716042301031\n",
            "Validation MDA: 71.53558052434457\n",
            "Testing MDA: 71.42857142857143\n"
          ]
        }
      ]
    },
    {
      "cell_type": "code",
      "source": [
        "# 7.Vẽ hình\n",
        "plt.plot(train_data.index, train_data['Close'])\n",
        "plt.plot(test_data.index, test_data['Close'])\n",
        "plt.plot(val_data.index, val_data['Close'])\n",
        "plt.plot(test_data.index, y_pred)\n",
        "plt.plot(val_data.index, y_pred_val)\n",
        "plt.legend(['Train', 'ActualTest', 'PredictedTest','ActualValidate', 'PredictedValidate'])\n",
        "plt.title('ARIMAX 6:2:2 (CVX Stock Price)')\n",
        "plt.show()"
      ],
      "metadata": {
        "colab": {
          "base_uri": "https://localhost:8080/",
          "height": 452
        },
        "id": "nxIjc_6Ipf4Q",
        "outputId": "ad9ebb9f-52d2-4058-f3f5-7c1a91ed17b8"
      },
      "execution_count": 14,
      "outputs": [
        {
          "output_type": "display_data",
          "data": {
            "text/plain": [
              "<Figure size 640x480 with 1 Axes>"
            ],
            "image/png": "[encoded data removed]"
          },
          "metadata": {}
        }
      ]
    }
  ]
}