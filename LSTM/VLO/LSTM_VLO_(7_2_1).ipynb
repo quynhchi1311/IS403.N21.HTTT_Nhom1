{
  "nbformat": 4,
  "nbformat_minor": 0,
  "metadata": {
    "colab": {
      "provenance": []
    },
    "kernelspec": {
      "name": "python3",
      "display_name": "Python 3"
    },
    "language_info": {
      "name": "python"
    }
  },
  "cells": [
    {
      "cell_type": "markdown",
      "source": [
        "**DATA PREPARATION**"
      ],
      "metadata": {
        "id": "4w7KzhlSASHN"
      }
    },
    {
      "cell_type": "markdown",
      "source": [
        "\n",
        "\n",
        "*   Import Packages\n",
        "\n"
      ],
      "metadata": {
        "id": "UzfCedliy6kB"
      }
    },
    {
      "cell_type": "code",
      "execution_count": null,
      "metadata": {
        "id": "DJvq4_oIyN4X"
      },
      "outputs": [],
      "source": [
        "import numpy as np\n",
        "import pandas as pd\n",
        "from sklearn.preprocessing import MinMaxScaler\n",
        "import matplotlib.pyplot as plt\n",
        "import math"
      ]
    },
    {
      "cell_type": "markdown",
      "source": [
        "\n",
        "\n",
        "*   Read data from a CSV file\n",
        "\n"
      ],
      "metadata": {
        "id": "2MOt0XOczD8J"
      }
    },
    {
      "cell_type": "code",
      "source": [
        "data = pd.read_csv('/content/drive/MyDrive/Colab Notebooks/VLO.csv')"
      ],
      "metadata": {
        "id": "ONvCXaTJzJtn"
      },
      "execution_count": null,
      "outputs": []
    },
    {
      "cell_type": "code",
      "source": [
        "data.head()"
      ],
      "metadata": {
        "colab": {
          "base_uri": "https://localhost:8080/",
          "height": 206
        },
        "id": "Zr8u2xNp1CIz",
        "outputId": "bc252864-617e-4540-ab6b-ed84cacdf2be"
      },
      "execution_count": null,
      "outputs": [
        {
          "output_type": "execute_result",
          "data": {
            "text/plain": [
              "         Date       Open       High        Low      Close  Adj Close   Volume\n",
              "0  2018-01-02  92.190002  93.139999  91.709999  92.800003  72.733238  3582900\n",
              "1  2018-01-03  92.580002  93.470001  92.500000  93.290001  73.117294  3057600\n",
              "2  2018-01-04  93.410004  93.620003  92.639999  93.589996  73.352425  2977000\n",
              "3  2018-01-05  93.599998  94.300003  93.430000  94.029999  73.697281  2973800\n",
              "4  2018-01-08  94.129997  94.370003  93.400002  94.220001  73.846207  2493400"
            ],
            "text/html": [
              "\n",
              "  <div id=\"df-d88beed3-83c3-4432-b0ed-2974d70daf24\">\n",
              "    <div class=\"colab-df-container\">\n",
              "      <div>\n",
              "<style scoped>\n",
              "    .dataframe tbody tr th:only-of-type {\n",
              "        vertical-align: middle;\n",
              "    }\n",
              "\n",
              "    .dataframe tbody tr th {\n",
              "        vertical-align: top;\n",
              "    }\n",
              "\n",
              "    .dataframe thead th {\n",
              "        text-align: right;\n",
              "    }\n",
              "</style>\n",
              "<table border=\"1\" class=\"dataframe\">\n",
              "  <thead>\n",
              "    <tr style=\"text-align: right;\">\n",
              "      <th></th>\n",
              "      <th>Date</th>\n",
              "      <th>Open</th>\n",
              "      <th>High</th>\n",
              "      <th>Low</th>\n",
              "      <th>Close</th>\n",
              "      <th>Adj Close</th>\n",
              "      <th>Volume</th>\n",
              "    </tr>\n",
              "  </thead>\n",
              "  <tbody>\n",
              "    <tr>\n",
              "      <th>0</th>\n",
              "      <td>2018-01-02</td>\n",
              "      <td>92.190002</td>\n",
              "      <td>93.139999</td>\n",
              "      <td>91.709999</td>\n",
              "      <td>92.800003</td>\n",
              "      <td>72.733238</td>\n",
              "      <td>3582900</td>\n",
              "    </tr>\n",
              "    <tr>\n",
              "      <th>1</th>\n",
              "      <td>2018-01-03</td>\n",
              "      <td>92.580002</td>\n",
              "      <td>93.470001</td>\n",
              "      <td>92.500000</td>\n",
              "      <td>93.290001</td>\n",
              "      <td>73.117294</td>\n",
              "      <td>3057600</td>\n",
              "    </tr>\n",
              "    <tr>\n",
              "      <th>2</th>\n",
              "      <td>2018-01-04</td>\n",
              "      <td>93.410004</td>\n",
              "      <td>93.620003</td>\n",
              "      <td>92.639999</td>\n",
              "      <td>93.589996</td>\n",
              "      <td>73.352425</td>\n",
              "      <td>2977000</td>\n",
              "    </tr>\n",
              "    <tr>\n",
              "      <th>3</th>\n",
              "      <td>2018-01-05</td>\n",
              "      <td>93.599998</td>\n",
              "      <td>94.300003</td>\n",
              "      <td>93.430000</td>\n",
              "      <td>94.029999</td>\n",
              "      <td>73.697281</td>\n",
              "      <td>2973800</td>\n",
              "    </tr>\n",
              "    <tr>\n",
              "      <th>4</th>\n",
              "      <td>2018-01-08</td>\n",
              "      <td>94.129997</td>\n",
              "      <td>94.370003</td>\n",
              "      <td>93.400002</td>\n",
              "      <td>94.220001</td>\n",
              "      <td>73.846207</td>\n",
              "      <td>2493400</td>\n",
              "    </tr>\n",
              "  </tbody>\n",
              "</table>\n",
              "</div>\n",
              "      <button class=\"colab-df-convert\" onclick=\"convertToInteractive('df-d88beed3-83c3-4432-b0ed-2974d70daf24')\"\n",
              "              title=\"Convert this dataframe to an interactive table.\"\n",
              "              style=\"display:none;\">\n",
              "        \n",
              "  <svg xmlns=\"http://www.w3.org/2000/svg\" height=\"24px\"viewBox=\"0 0 24 24\"\n",
              "       width=\"24px\">\n",
              "    <path d=\"M0 0h24v24H0V0z\" fill=\"none\"/>\n",
              "    <path d=\"M18.56 5.44l.94 2.06.94-2.06 2.06-.94-2.06-.94-.94-2.06-.94 2.06-2.06.94zm-11 1L8.5 8.5l.94-2.06 2.06-.94-2.06-.94L8.5 2.5l-.94 2.06-2.06.94zm10 10l.94 2.06.94-2.06 2.06-.94-2.06-.94-.94-2.06-.94 2.06-2.06.94z\"/><path d=\"M17.41 7.96l-1.37-1.37c-.4-.4-.92-.59-1.43-.59-.52 0-1.04.2-1.43.59L10.3 9.45l-7.72 7.72c-.78.78-.78 2.05 0 2.83L4 21.41c.39.39.9.59 1.41.59.51 0 1.02-.2 1.41-.59l7.78-7.78 2.81-2.81c.8-.78.8-2.07 0-2.86zM5.41 20L4 18.59l7.72-7.72 1.47 1.35L5.41 20z\"/>\n",
              "  </svg>\n",
              "      </button>\n",
              "      \n",
              "  <style>\n",
              "    .colab-df-container {\n",
              "      display:flex;\n",
              "      flex-wrap:wrap;\n",
              "      gap: 12px;\n",
              "    }\n",
              "\n",
              "    .colab-df-convert {\n",
              "      background-color: #E8F0FE;\n",
              "      border: none;\n",
              "      border-radius: 50%;\n",
              "      cursor: pointer;\n",
              "      display: none;\n",
              "      fill: #1967D2;\n",
              "      height: 32px;\n",
              "      padding: 0 0 0 0;\n",
              "      width: 32px;\n",
              "    }\n",
              "\n",
              "    .colab-df-convert:hover {\n",
              "      background-color: #E2EBFA;\n",
              "      box-shadow: 0px 1px 2px rgba(60, 64, 67, 0.3), 0px 1px 3px 1px rgba(60, 64, 67, 0.15);\n",
              "      fill: #174EA6;\n",
              "    }\n",
              "\n",
              "    [theme=dark] .colab-df-convert {\n",
              "      background-color: #3B4455;\n",
              "      fill: #D2E3FC;\n",
              "    }\n",
              "\n",
              "    [theme=dark] .colab-df-convert:hover {\n",
              "      background-color: #434B5C;\n",
              "      box-shadow: 0px 1px 3px 1px rgba(0, 0, 0, 0.15);\n",
              "      filter: drop-shadow(0px 1px 2px rgba(0, 0, 0, 0.3));\n",
              "      fill: #FFFFFF;\n",
              "    }\n",
              "  </style>\n",
              "\n",
              "      <script>\n",
              "        const buttonEl =\n",
              "          document.querySelector('#df-d88beed3-83c3-4432-b0ed-2974d70daf24 button.colab-df-convert');\n",
              "        buttonEl.style.display =\n",
              "          google.colab.kernel.accessAllowed ? 'block' : 'none';\n",
              "\n",
              "        async function convertToInteractive(key) {\n",
              "          const element = document.querySelector('#df-d88beed3-83c3-4432-b0ed-2974d70daf24');\n",
              "          const dataTable =\n",
              "            await google.colab.kernel.invokeFunction('convertToInteractive',\n",
              "                                                     [key], {});\n",
              "          if (!dataTable) return;\n",
              "\n",
              "          const docLinkHtml = 'Like what you see? Visit the ' +\n",
              "            '<a target=\"_blank\" href=https://colab.research.google.com/notebooks/data_table.ipynb>data table notebook</a>'\n",
              "            + ' to learn more about interactive tables.';\n",
              "          element.innerHTML = '';\n",
              "          dataTable['output_type'] = 'display_data';\n",
              "          await google.colab.output.renderOutput(dataTable, element);\n",
              "          const docLink = document.createElement('div');\n",
              "          docLink.innerHTML = docLinkHtml;\n",
              "          element.appendChild(docLink);\n",
              "        }\n",
              "      </script>\n",
              "    </div>\n",
              "  </div>\n",
              "  "
            ]
          },
          "metadata": {},
          "execution_count": 3
        }
      ]
    },
    {
      "cell_type": "markdown",
      "source": [
        "\n",
        "\n",
        "*   Visualize the stock price history\n"
      ],
      "metadata": {
        "id": "uHHB9NrG_v4q"
      }
    },
    {
      "cell_type": "code",
      "source": [
        "data['Date'] = pd.to_datetime(data['Date'])\n",
        "data.set_index('Date', inplace=True)\n",
        "\n",
        "plt.figure(figsize=(15, 8))\n",
        "plt.title('VLO Stock Prices History')\n",
        "plt.plot(data['Close'])\n",
        "plt.xlabel('Date')\n",
        "plt.ylabel('Prices ($)')"
      ],
      "metadata": {
        "colab": {
          "base_uri": "https://localhost:8080/",
          "height": 735
        },
        "id": "-H8E_vWd_0fK",
        "outputId": "c2789cd5-fd9a-4a1d-862c-c15706533594"
      },
      "execution_count": null,
      "outputs": [
        {
          "output_type": "execute_result",
          "data": {
            "text/plain": [
              "Text(0, 0.5, 'Prices ($)')"
            ]
          },
          "metadata": {},
          "execution_count": 4
        },
        {
          "output_type": "display_data",
          "data": {
            "text/plain": [
              "<Figure size 1500x800 with 1 Axes>"
            ],
            "image/png": "[encoded data removed]"
          },
          "metadata": {}
        }
      ]
    },
    {
      "cell_type": "markdown",
      "source": [
        "**DATA PREPROCESSING**"
      ],
      "metadata": {
        "id": "qebVzTumyx6O"
      }
    },
    {
      "cell_type": "markdown",
      "source": [
        "\n",
        "\n",
        "*   Normalize data using the MinMaxScaler method\n",
        "\n",
        "\n"
      ],
      "metadata": {
        "id": "slDhNXid1hGd"
      }
    },
    {
      "cell_type": "code",
      "source": [
        "close_prices = data['Close']\n",
        "values = close_prices.values\n",
        "scaler = MinMaxScaler(feature_range=(0,1))\n",
        "scaled_data = scaler.fit_transform(values.reshape(-1,1))"
      ],
      "metadata": {
        "id": "FOgsefivFzDZ"
      },
      "execution_count": null,
      "outputs": []
    },
    {
      "cell_type": "markdown",
      "source": [
        "\n",
        "\n",
        "*   Split data into train, test, and validation sets with a ratio of 7:2:1\n",
        "\n",
        "\n"
      ],
      "metadata": {
        "id": "8_03S3p_1RxZ"
      }
    },
    {
      "cell_type": "code",
      "source": [
        "train_size = int(len(scaled_data) * 0.7)\n",
        "test_size = int(len(scaled_data) * 0.2)\n",
        "val_size = len(scaled_data) - train_size - test_size\n",
        "\n",
        "time_step = 60\n",
        "train_data = scaled_data[:train_size, :]\n",
        "test_data = scaled_data[train_size-time_step:train_size+test_size, :]\n",
        "val_data = scaled_data[train_size+test_size-time_step:, :]"
      ],
      "metadata": {
        "id": "o862GL5Z1ZBw"
      },
      "execution_count": null,
      "outputs": []
    },
    {
      "cell_type": "code",
      "source": [
        "print(\"Dataset size: \", len(values), \"\\n\")\n",
        "\n",
        "print(\"Train size: \", train_size)\n",
        "print(\"Test size: \", test_size)\n",
        "print(\"Valate size: \", val_size)"
      ],
      "metadata": {
        "colab": {
          "base_uri": "https://localhost:8080/"
        },
        "id": "VCW1wDSO4Fcp",
        "outputId": "a4262b39-10eb-4f82-dec3-6433d6faa756"
      },
      "execution_count": null,
      "outputs": [
        {
          "output_type": "stream",
          "name": "stdout",
          "text": [
            "Dataset size:  1337 \n",
            "\n",
            "Train size:  935\n",
            "Test size:  267\n",
            "Valate size:  135\n"
          ]
        }
      ]
    },
    {
      "cell_type": "markdown",
      "source": [
        "\n",
        "\n",
        "*   Define the Create Dataset function\n"
      ],
      "metadata": {
        "id": "0spI-OJbFcmp"
      }
    },
    {
      "cell_type": "code",
      "source": [
        "def create_dataset(dataset, time_step):\n",
        "\tdataX, dataY = [], []\n",
        "\tfor i in range(len(dataset)-time_step):\n",
        "\t\ta = dataset[i:(i+time_step), 0]   ###i=0, X=0,1,2,3-----59   Y=60\n",
        "\t\tdataX.append(a)\n",
        "\t\tdataY.append(dataset[i + time_step, 0])\n",
        "\treturn np.array(dataX), np.array(dataY)"
      ],
      "metadata": {
        "id": "VqphtBgzFjH8"
      },
      "execution_count": null,
      "outputs": []
    },
    {
      "cell_type": "markdown",
      "source": [
        "\n",
        "\n",
        "*   Create train, test, and validation datasets\n",
        "\n"
      ],
      "metadata": {
        "id": "eb7YO7jaEV-r"
      }
    },
    {
      "cell_type": "code",
      "source": [
        "X_train, y_train = create_dataset(train_data, time_step)\n",
        "X_val, y_val = create_dataset(val_data, time_step)\n",
        "X_test, y_test = create_dataset(test_data, time_step)"
      ],
      "metadata": {
        "id": "yi7pOx3o6Qs7"
      },
      "execution_count": null,
      "outputs": []
    },
    {
      "cell_type": "markdown",
      "source": [
        "\n",
        "\n",
        "*   Reshape train, test, and validation data (required for LSTM)\n",
        "\n"
      ],
      "metadata": {
        "id": "PMSCGBZYE3fK"
      }
    },
    {
      "cell_type": "code",
      "source": [
        "X_train = np.reshape(X_train, (X_train.shape[0], X_train.shape[1], 1))\n",
        "X_val = np.reshape(X_val, (X_val.shape[0], X_val.shape[1], 1))\n",
        "X_test = np.reshape(X_test, (X_test.shape[0], X_test.shape[1], 1))"
      ],
      "metadata": {
        "id": "AY3lYGe5E45C"
      },
      "execution_count": null,
      "outputs": []
    },
    {
      "cell_type": "markdown",
      "source": [
        "**BUILD LSTM MODEL**"
      ],
      "metadata": {
        "id": "j8MaaR2k61-u"
      }
    },
    {
      "cell_type": "markdown",
      "source": [
        "\n",
        "\n",
        "*   Import Packages\n"
      ],
      "metadata": {
        "id": "E6wE5u6Y636f"
      }
    },
    {
      "cell_type": "code",
      "source": [
        "from keras.models import Sequential\n",
        "from keras.layers import LSTM\n",
        "from keras.layers import Dropout\n",
        "from keras.layers import Dense"
      ],
      "metadata": {
        "id": "M0AYf7Wy67zO"
      },
      "execution_count": null,
      "outputs": []
    },
    {
      "cell_type": "code",
      "source": [
        "model = Sequential()\n",
        "model.add(LSTM(100, return_sequences=True, input_shape=(X_train.shape[1], 1)))\n",
        "model.add(LSTM(100, return_sequences=False))\n",
        "model.add(Dense(50))\n",
        "model.add(Dense(1))\n",
        "model.summary()"
      ],
      "metadata": {
        "colab": {
          "base_uri": "https://localhost:8080/"
        },
        "id": "2-mlUXpz7QNy",
        "outputId": "030b58d9-090c-471e-a5af-cd022a40c0b9"
      },
      "execution_count": null,
      "outputs": [
        {
          "output_type": "stream",
          "name": "stdout",
          "text": [
            "Model: \"sequential\"\n",
            "_________________________________________________________________\n",
            " Layer (type)                Output Shape              Param #   \n",
            "=================================================================\n",
            " lstm (LSTM)                 (None, 60, 100)           40800     \n",
            "                                                                 \n",
            " lstm_1 (LSTM)               (None, 100)               80400     \n",
            "                                                                 \n",
            " dense (Dense)               (None, 50)                5050      \n",
            "                                                                 \n",
            " dense_1 (Dense)             (None, 1)                 51        \n",
            "                                                                 \n",
            "=================================================================\n",
            "Total params: 126,301\n",
            "Trainable params: 126,301\n",
            "Non-trainable params: 0\n",
            "_________________________________________________________________\n"
          ]
        }
      ]
    },
    {
      "cell_type": "markdown",
      "source": [
        "*This LSTM model has two LSTM layers with 100 units each, connected to two Dense layers with 50 and 1 unit, respectively.*"
      ],
      "metadata": {
        "id": "KgnQRfzJINHi"
      }
    },
    {
      "cell_type": "markdown",
      "source": [
        "**TRAIN THE MODEL**"
      ],
      "metadata": {
        "id": "Io5GqBkA-bP3"
      }
    },
    {
      "cell_type": "markdown",
      "source": [
        "\n",
        "\n",
        "*   Fit the model with the train data\n",
        "\n"
      ],
      "metadata": {
        "id": "fsNQsjVeJBFw"
      }
    },
    {
      "cell_type": "code",
      "source": [
        "model.compile(optimizer='adam', loss='mean_squared_error')\n",
        "model.fit(X_train, y_train, batch_size=32, epochs=50)"
      ],
      "metadata": {
        "colab": {
          "base_uri": "https://localhost:8080/"
        },
        "id": "NdD1TVYz-l5I",
        "outputId": "074a8c76-03dc-476c-8595-04b29dc54e0a"
      },
      "execution_count": null,
      "outputs": [
        {
          "output_type": "stream",
          "name": "stdout",
          "text": [
            "Epoch 1/50\n",
            "28/28 [==============================] - 18s 261ms/step - loss: 0.0214\n",
            "Epoch 2/50\n",
            "28/28 [==============================] - 6s 215ms/step - loss: 0.0022\n",
            "Epoch 3/50\n",
            "28/28 [==============================] - 6s 210ms/step - loss: 0.0015\n",
            "Epoch 4/50\n",
            "28/28 [==============================] - 5s 171ms/step - loss: 0.0015\n",
            "Epoch 5/50\n",
            "28/28 [==============================] - 3s 98ms/step - loss: 0.0014\n",
            "Epoch 6/50\n",
            "28/28 [==============================] - 3s 98ms/step - loss: 0.0013\n",
            "Epoch 7/50\n",
            "28/28 [==============================] - 3s 106ms/step - loss: 0.0012\n",
            "Epoch 8/50\n",
            "28/28 [==============================] - 4s 156ms/step - loss: 0.0010\n",
            "Epoch 9/50\n",
            "28/28 [==============================] - 3s 98ms/step - loss: 9.7736e-04\n",
            "Epoch 10/50\n",
            "28/28 [==============================] - 3s 99ms/step - loss: 9.6873e-04\n",
            "Epoch 11/50\n",
            "28/28 [==============================] - 3s 98ms/step - loss: 9.4934e-04\n",
            "Epoch 12/50\n",
            "28/28 [==============================] - 4s 133ms/step - loss: 9.5472e-04\n",
            "Epoch 13/50\n",
            "28/28 [==============================] - 4s 130ms/step - loss: 9.0766e-04\n",
            "Epoch 14/50\n",
            "28/28 [==============================] - 3s 98ms/step - loss: 8.3061e-04\n",
            "Epoch 15/50\n",
            "28/28 [==============================] - 3s 98ms/step - loss: 7.9181e-04\n",
            "Epoch 16/50\n",
            "28/28 [==============================] - 3s 100ms/step - loss: 7.8689e-04\n",
            "Epoch 17/50\n",
            "28/28 [==============================] - 4s 163ms/step - loss: 0.0010\n",
            "Epoch 18/50\n",
            "28/28 [==============================] - 3s 101ms/step - loss: 7.4721e-04\n",
            "Epoch 19/50\n",
            "28/28 [==============================] - 3s 99ms/step - loss: 9.0866e-04\n",
            "Epoch 20/50\n",
            "28/28 [==============================] - 3s 100ms/step - loss: 8.2664e-04\n",
            "Epoch 21/50\n",
            "28/28 [==============================] - 3s 123ms/step - loss: 6.6950e-04\n",
            "Epoch 22/50\n",
            "28/28 [==============================] - 4s 141ms/step - loss: 6.3881e-04\n",
            "Epoch 23/50\n",
            "28/28 [==============================] - 3s 99ms/step - loss: 6.2481e-04\n",
            "Epoch 24/50\n",
            "28/28 [==============================] - 3s 98ms/step - loss: 6.4277e-04\n",
            "Epoch 25/50\n",
            "28/28 [==============================] - 3s 99ms/step - loss: 6.2572e-04\n",
            "Epoch 26/50\n",
            "28/28 [==============================] - 4s 150ms/step - loss: 5.9052e-04\n",
            "Epoch 27/50\n",
            "28/28 [==============================] - 3s 111ms/step - loss: 5.7646e-04\n",
            "Epoch 28/50\n",
            "28/28 [==============================] - 3s 98ms/step - loss: 5.9373e-04\n",
            "Epoch 29/50\n",
            "28/28 [==============================] - 3s 99ms/step - loss: 5.8544e-04\n",
            "Epoch 30/50\n",
            "28/28 [==============================] - 3s 111ms/step - loss: 5.6509e-04\n",
            "Epoch 31/50\n",
            "28/28 [==============================] - 4s 153ms/step - loss: 5.5861e-04\n",
            "Epoch 32/50\n",
            "28/28 [==============================] - 3s 99ms/step - loss: 5.2709e-04\n",
            "Epoch 33/50\n",
            "28/28 [==============================] - 3s 97ms/step - loss: 5.6402e-04\n",
            "Epoch 34/50\n",
            "28/28 [==============================] - 3s 99ms/step - loss: 5.6131e-04\n",
            "Epoch 35/50\n",
            "28/28 [==============================] - 5s 178ms/step - loss: 5.0259e-04\n",
            "Epoch 36/50\n",
            "28/28 [==============================] - 3s 110ms/step - loss: 4.7251e-04\n",
            "Epoch 37/50\n",
            "28/28 [==============================] - 3s 98ms/step - loss: 4.5411e-04\n",
            "Epoch 38/50\n",
            "28/28 [==============================] - 3s 98ms/step - loss: 4.4548e-04\n",
            "Epoch 39/50\n",
            "28/28 [==============================] - 3s 105ms/step - loss: 4.2484e-04\n",
            "Epoch 40/50\n",
            "28/28 [==============================] - 4s 154ms/step - loss: 4.8861e-04\n",
            "Epoch 41/50\n",
            "28/28 [==============================] - 3s 97ms/step - loss: 4.3717e-04\n",
            "Epoch 42/50\n",
            "28/28 [==============================] - 3s 96ms/step - loss: 4.1222e-04\n",
            "Epoch 43/50\n",
            "28/28 [==============================] - 3s 98ms/step - loss: 3.9561e-04\n",
            "Epoch 44/50\n",
            "28/28 [==============================] - 4s 126ms/step - loss: 3.8516e-04\n",
            "Epoch 45/50\n",
            "28/28 [==============================] - 4s 134ms/step - loss: 4.1976e-04\n",
            "Epoch 46/50\n",
            "28/28 [==============================] - 3s 97ms/step - loss: 3.7105e-04\n",
            "Epoch 47/50\n",
            "28/28 [==============================] - 3s 99ms/step - loss: 3.9283e-04\n",
            "Epoch 48/50\n",
            "28/28 [==============================] - 3s 97ms/step - loss: 3.7748e-04\n",
            "Epoch 49/50\n",
            "28/28 [==============================] - 4s 151ms/step - loss: 3.7129e-04\n",
            "Epoch 50/50\n",
            "28/28 [==============================] - 3s 109ms/step - loss: 4.2074e-04\n"
          ]
        },
        {
          "output_type": "execute_result",
          "data": {
            "text/plain": [
              "<keras.callbacks.History at 0x7f2114456650>"
            ]
          },
          "metadata": {},
          "execution_count": 13
        }
      ]
    },
    {
      "cell_type": "markdown",
      "source": [
        "\n",
        "\n",
        "*   PLotting loss, it shows that loss has decreased significantly and model trained well\n",
        "\n"
      ],
      "metadata": {
        "id": "7V2Kwc9sJXFK"
      }
    },
    {
      "cell_type": "code",
      "source": [
        "loss = model.history.history['loss']\n",
        "plt.plot(loss)"
      ],
      "metadata": {
        "colab": {
          "base_uri": "https://localhost:8080/",
          "height": 447
        },
        "id": "OBTBo-32tfXc",
        "outputId": "06dd13e6-0313-4a22-c41f-a8cc8921f027"
      },
      "execution_count": null,
      "outputs": [
        {
          "output_type": "execute_result",
          "data": {
            "text/plain": [
              "[<matplotlib.lines.Line2D at 0x7f21075d4940>]"
            ]
          },
          "metadata": {},
          "execution_count": 14
        },
        {
          "output_type": "display_data",
          "data": {
            "text/plain": [
              "<Figure size 640x480 with 1 Axes>"
            ],
            "image/png": "[encoded data removed]"
          },
          "metadata": {}
        }
      ]
    },
    {
      "cell_type": "markdown",
      "source": [
        "**PREDICTION AND EVALUATION ON TEST DATA**"
      ],
      "metadata": {
        "id": "rJ51q4Ewwafk"
      }
    },
    {
      "cell_type": "markdown",
      "source": [
        "\n",
        "\n",
        "*   Make predictions on test and validation data\n",
        "\n"
      ],
      "metadata": {
        "id": "F7tiWcRktA5G"
      }
    },
    {
      "cell_type": "code",
      "source": [
        "y_pred=model.predict(X_test)\n",
        "y_pred_val=model.predict(X_val)"
      ],
      "metadata": {
        "colab": {
          "base_uri": "https://localhost:8080/"
        },
        "id": "0MoMNpa1FRJW",
        "outputId": "5ce25a2a-6e0e-45ae-ec64-685bf2be2c2e"
      },
      "execution_count": null,
      "outputs": [
        {
          "output_type": "stream",
          "name": "stdout",
          "text": [
            "9/9 [==============================] - 1s 31ms/step\n",
            "5/5 [==============================] - 0s 26ms/step\n"
          ]
        }
      ]
    },
    {
      "cell_type": "markdown",
      "source": [
        "\n",
        "\n",
        "*   Convert the predictions back to the original values\n",
        "\n"
      ],
      "metadata": {
        "id": "uoKYcePvFTJ9"
      }
    },
    {
      "cell_type": "code",
      "source": [
        "y_pred=scaler.inverse_transform(y_pred)\n",
        "y_test = scaler.inverse_transform(y_test.reshape(-1, 1))\n",
        "\n",
        "y_pred_val=scaler.inverse_transform(y_pred_val)\n",
        "y_val = scaler.inverse_transform(y_val.reshape(-1, 1))"
      ],
      "metadata": {
        "id": "DKfMNwjSFVyT"
      },
      "execution_count": null,
      "outputs": []
    },
    {
      "cell_type": "markdown",
      "source": [
        "\n",
        "\n",
        "*   Evaluate the algorithm's accuracy using RMSE, MAPE, MDA\n",
        "\n"
      ],
      "metadata": {
        "id": "ppy3h9JWLxCA"
      }
    },
    {
      "cell_type": "code",
      "source": [
        "# MAPE\n",
        "def calculate_mape(y_true, y_pred):\n",
        "    return np.mean(np.abs((y_true - y_pred) / y_true)) * 100\n",
        "\n",
        "# MDA\n",
        "def calculate_mda(y_true, y_pred):\n",
        "    y_true_diff = np.diff(y_true)\n",
        "    y_pred_diff = np.diff(y_pred)\n",
        "    correct_direction = np.sign(y_true_diff) == np.sign(y_pred_diff)\n",
        "    return np.mean(correct_direction) * 100\n",
        "\n",
        "# Using RMSE, MAPE và MDA\n",
        "valid_rmse = np.sqrt(np.mean((y_val - y_pred_val) ** 2))\n",
        "test_rmse = np.sqrt(np.mean((y_test - y_pred) ** 2))\n",
        "\n",
        "valid_mape = calculate_mape(y_val, y_pred_val)\n",
        "test_mape = calculate_mape(y_test, y_pred)\n",
        "\n",
        "valid_mda = calculate_mda(np.squeeze(y_val), np.squeeze(y_pred_val)) # Squeeze y_val and y_pred_val to 1D arrays\n",
        "test_mda = calculate_mda(np.squeeze(y_test), np.squeeze(y_pred)) # Squeeze y_test and y_pred to 1D arrays\n",
        "\n",
        "# Print results\n",
        "print('Validation RMSE:', valid_rmse)\n",
        "print('Testing RMSE:', test_rmse)\n",
        "print('Validation MAPE:', valid_mape)\n",
        "print('Testing MAPE:', test_mape)\n",
        "print('Validation MDA:', valid_mda)\n",
        "print('Testing MDA:', test_mda)"
      ],
      "metadata": {
        "colab": {
          "base_uri": "https://localhost:8080/"
        },
        "id": "Acc1OQf7G7VD",
        "outputId": "38e8d8a6-790f-4af6-c443-0fd35e96ed75"
      },
      "execution_count": null,
      "outputs": [
        {
          "output_type": "stream",
          "name": "stdout",
          "text": [
            "Validation RMSE: 3.368149669310285\n",
            "Testing RMSE: 3.051048278266371\n",
            "Validation MAPE: 2.0487630407149453\n",
            "Testing MAPE: 2.3199396448198515\n",
            "Validation MDA: 52.98507462686567\n",
            "Testing MDA: 53.00751879699248\n"
          ]
        }
      ]
    },
    {
      "cell_type": "code",
      "source": [
        "np.squeeze(y_val)"
      ],
      "metadata": {
        "colab": {
          "base_uri": "https://localhost:8080/"
        },
        "id": "Mr-UxWtfC7If",
        "outputId": "01994001-faaa-43fc-9794-54a635b2a12e"
      },
      "execution_count": null,
      "outputs": [
        {
          "output_type": "execute_result",
          "data": {
            "text/plain": [
              "array([109.690002, 115.199997, 120.860001, 114.120003, 115.5     ,\n",
              "       117.699997, 123.959999, 124.440002, 127.739998, 129.220001,\n",
              "       126.800003, 126.739998, 128.270004, 125.980003, 125.550003,\n",
              "       130.      , 125.830002, 129.710007, 128.720001, 131.779999,\n",
              "       132.25    , 128.      , 132.449997, 133.960007, 136.800003,\n",
              "       140.710007, 135.529999, 137.910004, 137.619995, 135.960007,\n",
              "       141.979996, 139.210007, 138.399994, 134.839996, 135.199997,\n",
              "       133.619995, 132.029999, 127.07    , 120.959999, 118.860001,\n",
              "       120.190002, 116.900002, 114.650002, 120.660004, 120.529999,\n",
              "       119.730003, 119.919998, 119.370003, 119.709999, 121.879997,\n",
              "       122.68    , 119.620003, 124.370003, 126.410004, 125.349998,\n",
              "       126.32    , 126.860001, 120.040001, 119.620003, 126.589996,\n",
              "       127.559998, 128.580002, 132.009995, 133.600006, 135.320007,\n",
              "       136.130005, 137.610001, 135.520004, 138.470001, 142.729996,\n",
              "       143.080002, 145.029999, 143.350006, 149.960007, 143.210007,\n",
              "       140.190002, 140.029999, 136.229996, 133.050003, 131.729996,\n",
              "       128.089996, 134.520004, 134.119995, 132.619995, 140.729996,\n",
              "       139.800003, 139.690002, 136.369995, 133.970001, 129.610001,\n",
              "       132.199997, 130.690002, 132.429993, 132.75    , 135.050003,\n",
              "       131.729996, 139.289993, 139.229996, 141.169998, 139.690002,\n",
              "       136.960007, 132.770004, 132.279999, 132.160004, 128.110001,\n",
              "       131.619995, 124.330002, 127.169998, 126.370003, 128.910004,\n",
              "       132.190002, 131.770004, 130.380005, 129.259995, 131.880005,\n",
              "       136.020004, 136.949997, 137.020004, 139.600006, 138.529999,\n",
              "       127.43    , 135.089996, 132.589996, 135.100006, 136.710007,\n",
              "       133.720001, 133.130005, 131.860001, 128.300003, 127.110001,\n",
              "       124.400002, 122.949997, 119.629997, 120.      , 117.849998])"
            ]
          },
          "metadata": {},
          "execution_count": 18
        }
      ]
    },
    {
      "cell_type": "markdown",
      "source": [
        "**FORECAST FOR THE NEXT 30 DAYS IN THE FUTURE**"
      ],
      "metadata": {
        "id": "1IkXSXAA6Aiy"
      }
    },
    {
      "cell_type": "code",
      "source": [
        "n_days = 30\n",
        "\n",
        "x_input=scaled_data[-time_step:].reshape(1,-1)\n",
        "\n",
        "temp_input=list(x_input)\n",
        "temp_input=temp_input[0].tolist()\n",
        "\n",
        "from numpy import array\n",
        "\n",
        "lst_output=[]\n",
        "i=0\n",
        "while(i<n_days):\n",
        "\n",
        "    if(len(temp_input)>time_step):\n",
        "        x_input=np.array(temp_input[1:])\n",
        "        print(\"{} day input {}\".format(i,x_input))\n",
        "        x_input=x_input.reshape(1,-1)\n",
        "        x_input = x_input.reshape((1, time_step, 1))\n",
        "        yhat = model.predict(x_input, verbose=0)\n",
        "        print(\"{} day output {}\".format(i,yhat))\n",
        "        temp_input.extend(yhat[0].tolist())\n",
        "        temp_input=temp_input[1:]\n",
        "        #print(temp_input)\n",
        "        lst_output.extend(yhat.tolist())\n",
        "        i=i+1\n",
        "    else:\n",
        "        x_input = x_input.reshape((1, time_step,1))\n",
        "        yhat = model.predict(x_input, verbose=0)\n",
        "        print(yhat[0])\n",
        "        temp_input.extend(yhat[0].tolist())\n",
        "        print(len(temp_input))\n",
        "        lst_output.extend(yhat.tolist())\n",
        "        i=i+1"
      ],
      "metadata": {
        "colab": {
          "base_uri": "https://localhost:8080/"
        },
        "id": "YL28ztzhjl5Z",
        "outputId": "9900b5f9-5db3-46c6-e6d4-8f72f887d669"
      },
      "execution_count": null,
      "outputs": [
        {
          "output_type": "stream",
          "name": "stdout",
          "text": [
            "[0.7230809]\n",
            "61\n",
            "1 day input [0.91537406 0.88298952 0.85588885 0.84463943 0.81361846 0.86841655\n",
            " 0.86500758 0.85222421 0.92133961 0.91341398 0.91247653 0.88418262\n",
            " 0.86372929 0.82657231 0.84864489 0.83577634 0.85060497 0.85333215\n",
            " 0.87293333 0.84463943 0.90906755 0.90855624 0.92508941 0.91247653\n",
            " 0.88921085 0.85350263 0.84932668 0.84830406 0.81378895 0.84370197\n",
            " 0.78157488 0.80577802 0.79896027 0.82060677 0.84855971 0.84498038\n",
            " 0.83313448 0.82358948 0.84591784 0.88119991 0.88912554 0.88972216\n",
            " 0.91170956 0.9025907  0.80799382 0.87327416 0.85196855 0.87335947\n",
            " 0.88708029 0.86159873 0.85657064 0.84574736 0.81540819 0.80526671\n",
            " 0.78217144 0.76981415 0.7415203  0.74467356 0.72635072 0.72308087]\n",
            "1 day output [[0.7173258]]\n",
            "2 day input [0.88298952 0.85588885 0.84463943 0.81361846 0.86841655 0.86500758\n",
            " 0.85222421 0.92133961 0.91341398 0.91247653 0.88418262 0.86372929\n",
            " 0.82657231 0.84864489 0.83577634 0.85060497 0.85333215 0.87293333\n",
            " 0.84463943 0.90906755 0.90855624 0.92508941 0.91247653 0.88921085\n",
            " 0.85350263 0.84932668 0.84830406 0.81378895 0.84370197 0.78157488\n",
            " 0.80577802 0.79896027 0.82060677 0.84855971 0.84498038 0.83313448\n",
            " 0.82358948 0.84591784 0.88119991 0.88912554 0.88972216 0.91170956\n",
            " 0.9025907  0.80799382 0.87327416 0.85196855 0.87335947 0.88708029\n",
            " 0.86159873 0.85657064 0.84574736 0.81540819 0.80526671 0.78217144\n",
            " 0.76981415 0.7415203  0.74467356 0.72635072 0.72308087 0.71732581]\n",
            "2 day output [[0.7123009]]\n",
            "3 day input [0.85588885 0.84463943 0.81361846 0.86841655 0.86500758 0.85222421\n",
            " 0.92133961 0.91341398 0.91247653 0.88418262 0.86372929 0.82657231\n",
            " 0.84864489 0.83577634 0.85060497 0.85333215 0.87293333 0.84463943\n",
            " 0.90906755 0.90855624 0.92508941 0.91247653 0.88921085 0.85350263\n",
            " 0.84932668 0.84830406 0.81378895 0.84370197 0.78157488 0.80577802\n",
            " 0.79896027 0.82060677 0.84855971 0.84498038 0.83313448 0.82358948\n",
            " 0.84591784 0.88119991 0.88912554 0.88972216 0.91170956 0.9025907\n",
            " 0.80799382 0.87327416 0.85196855 0.87335947 0.88708029 0.86159873\n",
            " 0.85657064 0.84574736 0.81540819 0.80526671 0.78217144 0.76981415\n",
            " 0.7415203  0.74467356 0.72635072 0.72308087 0.71732581 0.7123009 ]\n",
            "3 day output [[0.70724124]]\n",
            "4 day input [0.84463943 0.81361846 0.86841655 0.86500758 0.85222421 0.92133961\n",
            " 0.91341398 0.91247653 0.88418262 0.86372929 0.82657231 0.84864489\n",
            " 0.83577634 0.85060497 0.85333215 0.87293333 0.84463943 0.90906755\n",
            " 0.90855624 0.92508941 0.91247653 0.88921085 0.85350263 0.84932668\n",
            " 0.84830406 0.81378895 0.84370197 0.78157488 0.80577802 0.79896027\n",
            " 0.82060677 0.84855971 0.84498038 0.83313448 0.82358948 0.84591784\n",
            " 0.88119991 0.88912554 0.88972216 0.91170956 0.9025907  0.80799382\n",
            " 0.87327416 0.85196855 0.87335947 0.88708029 0.86159873 0.85657064\n",
            " 0.84574736 0.81540819 0.80526671 0.78217144 0.76981415 0.7415203\n",
            " 0.74467356 0.72635072 0.72308087 0.71732581 0.7123009  0.70724124]\n",
            "4 day output [[0.70180506]]\n",
            "5 day input [0.81361846 0.86841655 0.86500758 0.85222421 0.92133961 0.91341398\n",
            " 0.91247653 0.88418262 0.86372929 0.82657231 0.84864489 0.83577634\n",
            " 0.85060497 0.85333215 0.87293333 0.84463943 0.90906755 0.90855624\n",
            " 0.92508941 0.91247653 0.88921085 0.85350263 0.84932668 0.84830406\n",
            " 0.81378895 0.84370197 0.78157488 0.80577802 0.79896027 0.82060677\n",
            " 0.84855971 0.84498038 0.83313448 0.82358948 0.84591784 0.88119991\n",
            " 0.88912554 0.88972216 0.91170956 0.9025907  0.80799382 0.87327416\n",
            " 0.85196855 0.87335947 0.88708029 0.86159873 0.85657064 0.84574736\n",
            " 0.81540819 0.80526671 0.78217144 0.76981415 0.7415203  0.74467356\n",
            " 0.72635072 0.72308087 0.71732581 0.7123009  0.70724124 0.70180506]\n",
            "5 day output [[0.69581425]]\n",
            "6 day input [0.86841655 0.86500758 0.85222421 0.92133961 0.91341398 0.91247653\n",
            " 0.88418262 0.86372929 0.82657231 0.84864489 0.83577634 0.85060497\n",
            " 0.85333215 0.87293333 0.84463943 0.90906755 0.90855624 0.92508941\n",
            " 0.91247653 0.88921085 0.85350263 0.84932668 0.84830406 0.81378895\n",
            " 0.84370197 0.78157488 0.80577802 0.79896027 0.82060677 0.84855971\n",
            " 0.84498038 0.83313448 0.82358948 0.84591784 0.88119991 0.88912554\n",
            " 0.88972216 0.91170956 0.9025907  0.80799382 0.87327416 0.85196855\n",
            " 0.87335947 0.88708029 0.86159873 0.85657064 0.84574736 0.81540819\n",
            " 0.80526671 0.78217144 0.76981415 0.7415203  0.74467356 0.72635072\n",
            " 0.72308087 0.71732581 0.7123009  0.70724124 0.70180506 0.69581425]\n",
            "6 day output [[0.6892342]]\n",
            "7 day input [0.86500758 0.85222421 0.92133961 0.91341398 0.91247653 0.88418262\n",
            " 0.86372929 0.82657231 0.84864489 0.83577634 0.85060497 0.85333215\n",
            " 0.87293333 0.84463943 0.90906755 0.90855624 0.92508941 0.91247653\n",
            " 0.88921085 0.85350263 0.84932668 0.84830406 0.81378895 0.84370197\n",
            " 0.78157488 0.80577802 0.79896027 0.82060677 0.84855971 0.84498038\n",
            " 0.83313448 0.82358948 0.84591784 0.88119991 0.88912554 0.88972216\n",
            " 0.91170956 0.9025907  0.80799382 0.87327416 0.85196855 0.87335947\n",
            " 0.88708029 0.86159873 0.85657064 0.84574736 0.81540819 0.80526671\n",
            " 0.78217144 0.76981415 0.7415203  0.74467356 0.72635072 0.72308087\n",
            " 0.71732581 0.7123009  0.70724124 0.70180506 0.69581425 0.6892342 ]\n",
            "7 day output [[0.6821399]]\n",
            "8 day input [0.85222421 0.92133961 0.91341398 0.91247653 0.88418262 0.86372929\n",
            " 0.82657231 0.84864489 0.83577634 0.85060497 0.85333215 0.87293333\n",
            " 0.84463943 0.90906755 0.90855624 0.92508941 0.91247653 0.88921085\n",
            " 0.85350263 0.84932668 0.84830406 0.81378895 0.84370197 0.78157488\n",
            " 0.80577802 0.79896027 0.82060677 0.84855971 0.84498038 0.83313448\n",
            " 0.82358948 0.84591784 0.88119991 0.88912554 0.88972216 0.91170956\n",
            " 0.9025907  0.80799382 0.87327416 0.85196855 0.87335947 0.88708029\n",
            " 0.86159873 0.85657064 0.84574736 0.81540819 0.80526671 0.78217144\n",
            " 0.76981415 0.7415203  0.74467356 0.72635072 0.72308087 0.71732581\n",
            " 0.7123009  0.70724124 0.70180506 0.69581425 0.6892342  0.68213987]\n",
            "8 day output [[0.67467505]]\n",
            "9 day input [0.92133961 0.91341398 0.91247653 0.88418262 0.86372929 0.82657231\n",
            " 0.84864489 0.83577634 0.85060497 0.85333215 0.87293333 0.84463943\n",
            " 0.90906755 0.90855624 0.92508941 0.91247653 0.88921085 0.85350263\n",
            " 0.84932668 0.84830406 0.81378895 0.84370197 0.78157488 0.80577802\n",
            " 0.79896027 0.82060677 0.84855971 0.84498038 0.83313448 0.82358948\n",
            " 0.84591784 0.88119991 0.88912554 0.88972216 0.91170956 0.9025907\n",
            " 0.80799382 0.87327416 0.85196855 0.87335947 0.88708029 0.86159873\n",
            " 0.85657064 0.84574736 0.81540819 0.80526671 0.78217144 0.76981415\n",
            " 0.7415203  0.74467356 0.72635072 0.72308087 0.71732581 0.7123009\n",
            " 0.70724124 0.70180506 0.69581425 0.6892342  0.68213987 0.67467505]\n",
            "9 day output [[0.6670142]]\n",
            "10 day input [0.91341398 0.91247653 0.88418262 0.86372929 0.82657231 0.84864489\n",
            " 0.83577634 0.85060497 0.85333215 0.87293333 0.84463943 0.90906755\n",
            " 0.90855624 0.92508941 0.91247653 0.88921085 0.85350263 0.84932668\n",
            " 0.84830406 0.81378895 0.84370197 0.78157488 0.80577802 0.79896027\n",
            " 0.82060677 0.84855971 0.84498038 0.83313448 0.82358948 0.84591784\n",
            " 0.88119991 0.88912554 0.88972216 0.91170956 0.9025907  0.80799382\n",
            " 0.87327416 0.85196855 0.87335947 0.88708029 0.86159873 0.85657064\n",
            " 0.84574736 0.81540819 0.80526671 0.78217144 0.76981415 0.7415203\n",
            " 0.74467356 0.72635072 0.72308087 0.71732581 0.7123009  0.70724124\n",
            " 0.70180506 0.69581425 0.6892342  0.68213987 0.67467505 0.66701418]\n",
            "10 day output [[0.6593298]]\n",
            "11 day input [0.91247653 0.88418262 0.86372929 0.82657231 0.84864489 0.83577634\n",
            " 0.85060497 0.85333215 0.87293333 0.84463943 0.90906755 0.90855624\n",
            " 0.92508941 0.91247653 0.88921085 0.85350263 0.84932668 0.84830406\n",
            " 0.81378895 0.84370197 0.78157488 0.80577802 0.79896027 0.82060677\n",
            " 0.84855971 0.84498038 0.83313448 0.82358948 0.84591784 0.88119991\n",
            " 0.88912554 0.88972216 0.91170956 0.9025907  0.80799382 0.87327416\n",
            " 0.85196855 0.87335947 0.88708029 0.86159873 0.85657064 0.84574736\n",
            " 0.81540819 0.80526671 0.78217144 0.76981415 0.7415203  0.74467356\n",
            " 0.72635072 0.72308087 0.71732581 0.7123009  0.70724124 0.70180506\n",
            " 0.69581425 0.6892342  0.68213987 0.67467505 0.66701418 0.65932977]\n",
            "11 day output [[0.65176976]]\n",
            "12 day input [0.88418262 0.86372929 0.82657231 0.84864489 0.83577634 0.85060497\n",
            " 0.85333215 0.87293333 0.84463943 0.90906755 0.90855624 0.92508941\n",
            " 0.91247653 0.88921085 0.85350263 0.84932668 0.84830406 0.81378895\n",
            " 0.84370197 0.78157488 0.80577802 0.79896027 0.82060677 0.84855971\n",
            " 0.84498038 0.83313448 0.82358948 0.84591784 0.88119991 0.88912554\n",
            " 0.88972216 0.91170956 0.9025907  0.80799382 0.87327416 0.85196855\n",
            " 0.87335947 0.88708029 0.86159873 0.85657064 0.84574736 0.81540819\n",
            " 0.80526671 0.78217144 0.76981415 0.7415203  0.74467356 0.72635072\n",
            " 0.72308087 0.71732581 0.7123009  0.70724124 0.70180506 0.69581425\n",
            " 0.6892342  0.68213987 0.67467505 0.66701418 0.65932977 0.65176976]\n",
            "12 day output [[0.6444442]]\n",
            "13 day input [0.86372929 0.82657231 0.84864489 0.83577634 0.85060497 0.85333215\n",
            " 0.87293333 0.84463943 0.90906755 0.90855624 0.92508941 0.91247653\n",
            " 0.88921085 0.85350263 0.84932668 0.84830406 0.81378895 0.84370197\n",
            " 0.78157488 0.80577802 0.79896027 0.82060677 0.84855971 0.84498038\n",
            " 0.83313448 0.82358948 0.84591784 0.88119991 0.88912554 0.88972216\n",
            " 0.91170956 0.9025907  0.80799382 0.87327416 0.85196855 0.87335947\n",
            " 0.88708029 0.86159873 0.85657064 0.84574736 0.81540819 0.80526671\n",
            " 0.78217144 0.76981415 0.7415203  0.74467356 0.72635072 0.72308087\n",
            " 0.71732581 0.7123009  0.70724124 0.70180506 0.69581425 0.6892342\n",
            " 0.68213987 0.67467505 0.66701418 0.65932977 0.65176976 0.64444423]\n",
            "13 day output [[0.6374211]]\n",
            "14 day input [0.82657231 0.84864489 0.83577634 0.85060497 0.85333215 0.87293333\n",
            " 0.84463943 0.90906755 0.90855624 0.92508941 0.91247653 0.88921085\n",
            " 0.85350263 0.84932668 0.84830406 0.81378895 0.84370197 0.78157488\n",
            " 0.80577802 0.79896027 0.82060677 0.84855971 0.84498038 0.83313448\n",
            " 0.82358948 0.84591784 0.88119991 0.88912554 0.88972216 0.91170956\n",
            " 0.9025907  0.80799382 0.87327416 0.85196855 0.87335947 0.88708029\n",
            " 0.86159873 0.85657064 0.84574736 0.81540819 0.80526671 0.78217144\n",
            " 0.76981415 0.7415203  0.74467356 0.72635072 0.72308087 0.71732581\n",
            " 0.7123009  0.70724124 0.70180506 0.69581425 0.6892342  0.68213987\n",
            " 0.67467505 0.66701418 0.65932977 0.65176976 0.64444423 0.63742107]\n",
            "14 day output [[0.63072765]]\n",
            "15 day input [0.84864489 0.83577634 0.85060497 0.85333215 0.87293333 0.84463943\n",
            " 0.90906755 0.90855624 0.92508941 0.91247653 0.88921085 0.85350263\n",
            " 0.84932668 0.84830406 0.81378895 0.84370197 0.78157488 0.80577802\n",
            " 0.79896027 0.82060677 0.84855971 0.84498038 0.83313448 0.82358948\n",
            " 0.84591784 0.88119991 0.88912554 0.88972216 0.91170956 0.9025907\n",
            " 0.80799382 0.87327416 0.85196855 0.87335947 0.88708029 0.86159873\n",
            " 0.85657064 0.84574736 0.81540819 0.80526671 0.78217144 0.76981415\n",
            " 0.7415203  0.74467356 0.72635072 0.72308087 0.71732581 0.7123009\n",
            " 0.70724124 0.70180506 0.69581425 0.6892342  0.68213987 0.67467505\n",
            " 0.66701418 0.65932977 0.65176976 0.64444423 0.63742107 0.63072765]\n",
            "15 day output [[0.6243585]]\n",
            "16 day input [0.83577634 0.85060497 0.85333215 0.87293333 0.84463943 0.90906755\n",
            " 0.90855624 0.92508941 0.91247653 0.88921085 0.85350263 0.84932668\n",
            " 0.84830406 0.81378895 0.84370197 0.78157488 0.80577802 0.79896027\n",
            " 0.82060677 0.84855971 0.84498038 0.83313448 0.82358948 0.84591784\n",
            " 0.88119991 0.88912554 0.88972216 0.91170956 0.9025907  0.80799382\n",
            " 0.87327416 0.85196855 0.87335947 0.88708029 0.86159873 0.85657064\n",
            " 0.84574736 0.81540819 0.80526671 0.78217144 0.76981415 0.7415203\n",
            " 0.74467356 0.72635072 0.72308087 0.71732581 0.7123009  0.70724124\n",
            " 0.70180506 0.69581425 0.6892342  0.68213987 0.67467505 0.66701418\n",
            " 0.65932977 0.65176976 0.64444423 0.63742107 0.63072765 0.62435848]\n",
            "16 day output [[0.6182845]]\n",
            "17 day input [0.85060497 0.85333215 0.87293333 0.84463943 0.90906755 0.90855624\n",
            " 0.92508941 0.91247653 0.88921085 0.85350263 0.84932668 0.84830406\n",
            " 0.81378895 0.84370197 0.78157488 0.80577802 0.79896027 0.82060677\n",
            " 0.84855971 0.84498038 0.83313448 0.82358948 0.84591784 0.88119991\n",
            " 0.88912554 0.88972216 0.91170956 0.9025907  0.80799382 0.87327416\n",
            " 0.85196855 0.87335947 0.88708029 0.86159873 0.85657064 0.84574736\n",
            " 0.81540819 0.80526671 0.78217144 0.76981415 0.7415203  0.74467356\n",
            " 0.72635072 0.72308087 0.71732581 0.7123009  0.70724124 0.70180506\n",
            " 0.69581425 0.6892342  0.68213987 0.67467505 0.66701418 0.65932977\n",
            " 0.65176976 0.64444423 0.63742107 0.63072765 0.62435848 0.61828452]\n",
            "17 day output [[0.61246294]]\n",
            "18 day input [0.85333215 0.87293333 0.84463943 0.90906755 0.90855624 0.92508941\n",
            " 0.91247653 0.88921085 0.85350263 0.84932668 0.84830406 0.81378895\n",
            " 0.84370197 0.78157488 0.80577802 0.79896027 0.82060677 0.84855971\n",
            " 0.84498038 0.83313448 0.82358948 0.84591784 0.88119991 0.88912554\n",
            " 0.88972216 0.91170956 0.9025907  0.80799382 0.87327416 0.85196855\n",
            " 0.87335947 0.88708029 0.86159873 0.85657064 0.84574736 0.81540819\n",
            " 0.80526671 0.78217144 0.76981415 0.7415203  0.74467356 0.72635072\n",
            " 0.72308087 0.71732581 0.7123009  0.70724124 0.70180506 0.69581425\n",
            " 0.6892342  0.68213987 0.67467505 0.66701418 0.65932977 0.65176976\n",
            " 0.64444423 0.63742107 0.63072765 0.62435848 0.61828452 0.61246294]\n",
            "18 day output [[0.6068456]]\n",
            "19 day input [0.87293333 0.84463943 0.90906755 0.90855624 0.92508941 0.91247653\n",
            " 0.88921085 0.85350263 0.84932668 0.84830406 0.81378895 0.84370197\n",
            " 0.78157488 0.80577802 0.79896027 0.82060677 0.84855971 0.84498038\n",
            " 0.83313448 0.82358948 0.84591784 0.88119991 0.88912554 0.88972216\n",
            " 0.91170956 0.9025907  0.80799382 0.87327416 0.85196855 0.87335947\n",
            " 0.88708029 0.86159873 0.85657064 0.84574736 0.81540819 0.80526671\n",
            " 0.78217144 0.76981415 0.7415203  0.74467356 0.72635072 0.72308087\n",
            " 0.71732581 0.7123009  0.70724124 0.70180506 0.69581425 0.6892342\n",
            " 0.68213987 0.67467505 0.66701418 0.65932977 0.65176976 0.64444423\n",
            " 0.63742107 0.63072765 0.62435848 0.61828452 0.61246294 0.60684562]\n",
            "19 day output [[0.6013869]]\n",
            "20 day input [0.84463943 0.90906755 0.90855624 0.92508941 0.91247653 0.88921085\n",
            " 0.85350263 0.84932668 0.84830406 0.81378895 0.84370197 0.78157488\n",
            " 0.80577802 0.79896027 0.82060677 0.84855971 0.84498038 0.83313448\n",
            " 0.82358948 0.84591784 0.88119991 0.88912554 0.88972216 0.91170956\n",
            " 0.9025907  0.80799382 0.87327416 0.85196855 0.87335947 0.88708029\n",
            " 0.86159873 0.85657064 0.84574736 0.81540819 0.80526671 0.78217144\n",
            " 0.76981415 0.7415203  0.74467356 0.72635072 0.72308087 0.71732581\n",
            " 0.7123009  0.70724124 0.70180506 0.69581425 0.6892342  0.68213987\n",
            " 0.67467505 0.66701418 0.65932977 0.65176976 0.64444423 0.63742107\n",
            " 0.63072765 0.62435848 0.61828452 0.61246294 0.60684562 0.6013869 ]\n",
            "20 day output [[0.5960478]]\n",
            "21 day input [0.90906755 0.90855624 0.92508941 0.91247653 0.88921085 0.85350263\n",
            " 0.84932668 0.84830406 0.81378895 0.84370197 0.78157488 0.80577802\n",
            " 0.79896027 0.82060677 0.84855971 0.84498038 0.83313448 0.82358948\n",
            " 0.84591784 0.88119991 0.88912554 0.88972216 0.91170956 0.9025907\n",
            " 0.80799382 0.87327416 0.85196855 0.87335947 0.88708029 0.86159873\n",
            " 0.85657064 0.84574736 0.81540819 0.80526671 0.78217144 0.76981415\n",
            " 0.7415203  0.74467356 0.72635072 0.72308087 0.71732581 0.7123009\n",
            " 0.70724124 0.70180506 0.69581425 0.6892342  0.68213987 0.67467505\n",
            " 0.66701418 0.65932977 0.65176976 0.64444423 0.63742107 0.63072765\n",
            " 0.62435848 0.61828452 0.61246294 0.60684562 0.6013869  0.59604782]\n",
            "21 day output [[0.59079915]]\n",
            "22 day input [0.90855624 0.92508941 0.91247653 0.88921085 0.85350263 0.84932668\n",
            " 0.84830406 0.81378895 0.84370197 0.78157488 0.80577802 0.79896027\n",
            " 0.82060677 0.84855971 0.84498038 0.83313448 0.82358948 0.84591784\n",
            " 0.88119991 0.88912554 0.88972216 0.91170956 0.9025907  0.80799382\n",
            " 0.87327416 0.85196855 0.87335947 0.88708029 0.86159873 0.85657064\n",
            " 0.84574736 0.81540819 0.80526671 0.78217144 0.76981415 0.7415203\n",
            " 0.74467356 0.72635072 0.72308087 0.71732581 0.7123009  0.70724124\n",
            " 0.70180506 0.69581425 0.6892342  0.68213987 0.67467505 0.66701418\n",
            " 0.65932977 0.65176976 0.64444423 0.63742107 0.63072765 0.62435848\n",
            " 0.61828452 0.61246294 0.60684562 0.6013869  0.59604782 0.59079915]\n",
            "22 day output [[0.585621]]\n",
            "23 day input [0.92508941 0.91247653 0.88921085 0.85350263 0.84932668 0.84830406\n",
            " 0.81378895 0.84370197 0.78157488 0.80577802 0.79896027 0.82060677\n",
            " 0.84855971 0.84498038 0.83313448 0.82358948 0.84591784 0.88119991\n",
            " 0.88912554 0.88972216 0.91170956 0.9025907  0.80799382 0.87327416\n",
            " 0.85196855 0.87335947 0.88708029 0.86159873 0.85657064 0.84574736\n",
            " 0.81540819 0.80526671 0.78217144 0.76981415 0.7415203  0.74467356\n",
            " 0.72635072 0.72308087 0.71732581 0.7123009  0.70724124 0.70180506\n",
            " 0.69581425 0.6892342  0.68213987 0.67467505 0.66701418 0.65932977\n",
            " 0.65176976 0.64444423 0.63742107 0.63072765 0.62435848 0.61828452\n",
            " 0.61246294 0.60684562 0.6013869  0.59604782 0.59079915 0.585621  ]\n",
            "23 day output [[0.58050364]]\n",
            "24 day input [0.91247653 0.88921085 0.85350263 0.84932668 0.84830406 0.81378895\n",
            " 0.84370197 0.78157488 0.80577802 0.79896027 0.82060677 0.84855971\n",
            " 0.84498038 0.83313448 0.82358948 0.84591784 0.88119991 0.88912554\n",
            " 0.88972216 0.91170956 0.9025907  0.80799382 0.87327416 0.85196855\n",
            " 0.87335947 0.88708029 0.86159873 0.85657064 0.84574736 0.81540819\n",
            " 0.80526671 0.78217144 0.76981415 0.7415203  0.74467356 0.72635072\n",
            " 0.72308087 0.71732581 0.7123009  0.70724124 0.70180506 0.69581425\n",
            " 0.6892342  0.68213987 0.67467505 0.66701418 0.65932977 0.65176976\n",
            " 0.64444423 0.63742107 0.63072765 0.62435848 0.61828452 0.61246294\n",
            " 0.60684562 0.6013869  0.59604782 0.59079915 0.585621   0.58050364]\n",
            "24 day output [[0.5754445]]\n",
            "25 day input [0.88921085 0.85350263 0.84932668 0.84830406 0.81378895 0.84370197\n",
            " 0.78157488 0.80577802 0.79896027 0.82060677 0.84855971 0.84498038\n",
            " 0.83313448 0.82358948 0.84591784 0.88119991 0.88912554 0.88972216\n",
            " 0.91170956 0.9025907  0.80799382 0.87327416 0.85196855 0.87335947\n",
            " 0.88708029 0.86159873 0.85657064 0.84574736 0.81540819 0.80526671\n",
            " 0.78217144 0.76981415 0.7415203  0.74467356 0.72635072 0.72308087\n",
            " 0.71732581 0.7123009  0.70724124 0.70180506 0.69581425 0.6892342\n",
            " 0.68213987 0.67467505 0.66701418 0.65932977 0.65176976 0.64444423\n",
            " 0.63742107 0.63072765 0.62435848 0.61828452 0.61246294 0.60684562\n",
            " 0.6013869  0.59604782 0.59079915 0.585621   0.58050364 0.57544452]\n",
            "25 day output [[0.5704469]]\n",
            "26 day input [0.85350263 0.84932668 0.84830406 0.81378895 0.84370197 0.78157488\n",
            " 0.80577802 0.79896027 0.82060677 0.84855971 0.84498038 0.83313448\n",
            " 0.82358948 0.84591784 0.88119991 0.88912554 0.88972216 0.91170956\n",
            " 0.9025907  0.80799382 0.87327416 0.85196855 0.87335947 0.88708029\n",
            " 0.86159873 0.85657064 0.84574736 0.81540819 0.80526671 0.78217144\n",
            " 0.76981415 0.7415203  0.74467356 0.72635072 0.72308087 0.71732581\n",
            " 0.7123009  0.70724124 0.70180506 0.69581425 0.6892342  0.68213987\n",
            " 0.67467505 0.66701418 0.65932977 0.65176976 0.64444423 0.63742107\n",
            " 0.63072765 0.62435848 0.61828452 0.61246294 0.60684562 0.6013869\n",
            " 0.59604782 0.59079915 0.585621   0.58050364 0.57544452 0.57044691]\n",
            "26 day output [[0.5655167]]\n",
            "27 day input [0.84932668 0.84830406 0.81378895 0.84370197 0.78157488 0.80577802\n",
            " 0.79896027 0.82060677 0.84855971 0.84498038 0.83313448 0.82358948\n",
            " 0.84591784 0.88119991 0.88912554 0.88972216 0.91170956 0.9025907\n",
            " 0.80799382 0.87327416 0.85196855 0.87335947 0.88708029 0.86159873\n",
            " 0.85657064 0.84574736 0.81540819 0.80526671 0.78217144 0.76981415\n",
            " 0.7415203  0.74467356 0.72635072 0.72308087 0.71732581 0.7123009\n",
            " 0.70724124 0.70180506 0.69581425 0.6892342  0.68213987 0.67467505\n",
            " 0.66701418 0.65932977 0.65176976 0.64444423 0.63742107 0.63072765\n",
            " 0.62435848 0.61828452 0.61246294 0.60684562 0.6013869  0.59604782\n",
            " 0.59079915 0.585621   0.58050364 0.57544452 0.57044691 0.56551671]\n",
            "27 day output [[0.56066114]]\n",
            "28 day input [0.84830406 0.81378895 0.84370197 0.78157488 0.80577802 0.79896027\n",
            " 0.82060677 0.84855971 0.84498038 0.83313448 0.82358948 0.84591784\n",
            " 0.88119991 0.88912554 0.88972216 0.91170956 0.9025907  0.80799382\n",
            " 0.87327416 0.85196855 0.87335947 0.88708029 0.86159873 0.85657064\n",
            " 0.84574736 0.81540819 0.80526671 0.78217144 0.76981415 0.7415203\n",
            " 0.74467356 0.72635072 0.72308087 0.71732581 0.7123009  0.70724124\n",
            " 0.70180506 0.69581425 0.6892342  0.68213987 0.67467505 0.66701418\n",
            " 0.65932977 0.65176976 0.64444423 0.63742107 0.63072765 0.62435848\n",
            " 0.61828452 0.61246294 0.60684562 0.6013869  0.59604782 0.59079915\n",
            " 0.585621   0.58050364 0.57544452 0.57044691 0.56551671 0.56066114]\n",
            "28 day output [[0.55588704]]\n",
            "29 day input [0.81378895 0.84370197 0.78157488 0.80577802 0.79896027 0.82060677\n",
            " 0.84855971 0.84498038 0.83313448 0.82358948 0.84591784 0.88119991\n",
            " 0.88912554 0.88972216 0.91170956 0.9025907  0.80799382 0.87327416\n",
            " 0.85196855 0.87335947 0.88708029 0.86159873 0.85657064 0.84574736\n",
            " 0.81540819 0.80526671 0.78217144 0.76981415 0.7415203  0.74467356\n",
            " 0.72635072 0.72308087 0.71732581 0.7123009  0.70724124 0.70180506\n",
            " 0.69581425 0.6892342  0.68213987 0.67467505 0.66701418 0.65932977\n",
            " 0.65176976 0.64444423 0.63742107 0.63072765 0.62435848 0.61828452\n",
            " 0.61246294 0.60684562 0.6013869  0.59604782 0.59079915 0.585621\n",
            " 0.58050364 0.57544452 0.57044691 0.56551671 0.56066114 0.55588704]\n",
            "29 day output [[0.5511999]]\n"
          ]
        }
      ]
    },
    {
      "cell_type": "markdown",
      "source": [
        "\n",
        "\n",
        "*   List of predicted stock prices for the next 30 days\n",
        "\n"
      ],
      "metadata": {
        "id": "4knvSKmcw1LW"
      }
    },
    {
      "cell_type": "code",
      "source": [
        "for i in range(1, n_days+1):\n",
        "    print(f\"Ngày thứ {i}: {scaler.inverse_transform(lst_output)[i-1]}\")\n",
        "    # scaler.inverse_transform(lst_output)"
      ],
      "metadata": {
        "colab": {
          "base_uri": "https://localhost:8080/"
        },
        "id": "5K-SAlW1yl4V",
        "outputId": "dcce9e98-b335-400b-c8c1-8be04461729b"
      },
      "execution_count": null,
      "outputs": [
        {
          "output_type": "stream",
          "name": "stdout",
          "text": [
            "Ngày thứ 1: [117.46631448]\n",
            "Ngày thứ 2: [116.79101489]\n",
            "Ngày thứ 3: [116.20139191]\n",
            "Ngày thứ 4: [115.60769143]\n",
            "Ngày thứ 5: [114.96980978]\n",
            "Ngày thứ 6: [114.26684888]\n",
            "Ngày thứ 7: [113.49474521]\n",
            "Ngày thứ 8: [112.66229721]\n",
            "Ngày thứ 9: [111.78637446]\n",
            "Ngày thứ 10: [110.88744841]\n",
            "Ngày thứ 11: [109.98575972]\n",
            "Ngày thứ 12: [109.09866753]\n",
            "Ngày thứ 13: [108.23908978]\n",
            "Ngày thứ 14: [107.41499263]\n",
            "Ngày thứ 15: [106.62958635]\n",
            "Ngày thứ 16: [105.88222748]\n",
            "Ngày thứ 17: [105.16950993]\n",
            "Ngày thứ 18: [104.48640502]\n",
            "Ngày thứ 19: [103.82726859]\n",
            "Ngày thứ 20: [103.18674321]\n",
            "Ngày thứ 21: [102.56025481]\n",
            "Ngày thứ 22: [101.94437632]\n",
            "Ngày thứ 23: [101.33677175]\n",
            "Ngày thứ 24: [100.73630106]\n",
            "Ngày thứ 25: [100.14266352]\n",
            "Ngày thứ 26: [99.5562438]\n",
            "Ngày thứ 27: [98.97773431]\n",
            "Ngày thứ 28: [98.40798131]\n",
            "Ngày thứ 29: [97.84778913]\n",
            "Ngày thứ 30: [97.2978012]\n"
          ]
        }
      ]
    },
    {
      "cell_type": "markdown",
      "source": [
        "**VISUALIZATION OF PREDICTIONS**"
      ],
      "metadata": {
        "id": "ccC1L-1pHCtd"
      }
    },
    {
      "cell_type": "markdown",
      "source": [
        "\n",
        "\n",
        "*   Plot 1\n",
        "\n"
      ],
      "metadata": {
        "id": "wVuNMOZiws53"
      }
    },
    {
      "cell_type": "code",
      "source": [
        "train_data_index = pd.RangeIndex(start=0, stop=train_size, step=1)\n",
        "plt.title('LSTM 7:2:1 (VLO Stock Price)')\n",
        "plt.plot(scaler.inverse_transform(train_data))\n",
        "test_data_index = pd.RangeIndex(start=train_size, stop=train_size+test_size, step=1)\n",
        "plt.plot(test_data_index,y_test)\n",
        "plt.plot(test_data_index,y_pred)\n",
        "val_data_index = pd.RangeIndex(start=train_size+test_size, stop=train_size+test_size+val_size, step=1)\n",
        "plt.plot(val_data_index,y_val)\n",
        "plt.plot(val_data_index,y_pred_val)\n",
        "prediect_data_index = pd.RangeIndex(start=len(close_prices), stop=len(close_prices)+n_days, step=1)\n",
        "plt.plot(prediect_data_index,scaler.inverse_transform(lst_output))\n",
        "plt.legend(['Train','ActualTest','PredictedTest','ActualValidate','PredictedValidate','Next30Days'])\n",
        "plt.show()"
      ],
      "metadata": {
        "colab": {
          "base_uri": "https://localhost:8080/",
          "height": 452
        },
        "id": "V2gj23QPyd5h",
        "outputId": "2788d58e-b41a-4408-95bc-192b4a06b235"
      },
      "execution_count": null,
      "outputs": [
        {
          "output_type": "display_data",
          "data": {
            "text/plain": [
              "<Figure size 640x480 with 1 Axes>"
            ],
            "image/png": "[encoded data removed]"
          },
          "metadata": {}
        }
      ]
    },
    {
      "cell_type": "markdown",
      "source": [
        "\n",
        "\n",
        "*   Plot 2\n",
        "\n"
      ],
      "metadata": {
        "id": "4eXJyVdmww1n"
      }
    },
    {
      "cell_type": "code",
      "source": [
        "import plotly\n",
        "import plotly.graph_objs as go\n",
        "import plotly.express as px\n",
        "from plotly.subplots import make_subplots\n",
        "\n",
        "fig = go.Figure()\n",
        "fig.add_trace(go.Scatter(x=train_data_index, y=scaler.inverse_transform(train_data)[:, 0], mode='lines+markers', marker=dict(size=4),  name='Train', marker_color='#1F77B4'))\n",
        "fig.add_trace(go.Scatter(x=test_data_index,y=y_test[:, 0], mode='lines+markers', marker=dict(size=4), name='ActualTest', marker_color='#FF7F0E'))\n",
        "fig.add_trace(go.Scatter(x=test_data_index,y=y_pred[:, 0], mode='lines+markers', marker=dict(size=4), name='PredictedTest', marker_color='#2CA02C'))\n",
        "fig.add_trace(go.Scatter(x=val_data_index, y=y_val[:, 0], mode='lines+markers', marker=dict(size=4), name='ActualValidate', marker_color='#D62728'))\n",
        "fig.add_trace(go.Scatter(x=val_data_index, y=y_pred_val[:, 0], mode='lines+markers', marker=dict(size=4), name='PredictedValidate', marker_color='#9569BE'))\n",
        "fig.add_trace(go.Scatter(x=prediect_data_index, y=scaler.inverse_transform(lst_output)[:, 0], mode='lines+markers', marker=dict(size=4), name='Next30Days', marker_color='#000000'))\n",
        "fig.update_layout(legend_orientation=\"h\",\n",
        "                  legend=dict(x=.5, xanchor=\"center\"),\n",
        "                  plot_bgcolor='#FFFFFF',\n",
        "                  xaxis=dict(gridcolor = 'lightgrey'),\n",
        "                  yaxis=dict(gridcolor = 'lightgrey'),\n",
        "                  title_text = f'LSTM 7:2:1 (VLO Stock Price)', title_x = 0.5,\n",
        "                  xaxis_title=\"Timestep\",\n",
        "                  yaxis_title=\"Stock price\",\n",
        "                  margin=dict(l=0, r=0, t=30, b=0))\n",
        "fig.show()"
      ],
      "metadata": {
        "colab": {
          "base_uri": "https://localhost:8080/",
          "height": 542
        },
        "id": "YLioSa_GpPcc",
        "outputId": "d628b8ff-f24a-45a7-bd87-4bb67e17ab7a"
      },
      "execution_count": null,
      "outputs": [
        {
          "output_type": "display_data",
          "data": {
            "text/html": [
              "<html>\n",
              "<head><meta charset=\"utf-8\" /></head>\n",
              "<body>\n",
              "    <div>            <script src=\"https://cdnjs.cloudflare.com/ajax/libs/mathjax/2.7.5/MathJax.js?config=TeX-AMS-MML_SVG\"></script><script type=\"text/javascript\">if (window.MathJax && window.MathJax.Hub && window.MathJax.Hub.Config) {window.MathJax.Hub.Config({SVG: {font: \"STIX-Web\"}});}</script>                <script type=\"text/javascript\">window.PlotlyConfig = {MathJaxConfig: 'local'};</script>\n",
              "        <script src=\"https://cdn.plot.ly/plotly-2.18.2.min.js\"></script>                <div id=\"4e321494-5f58-43a5-b5b1-ddbd3e7ed9d2\" class=\"plotly-graph-div\" style=\"height:525px; width:100%;\"></div>            <script type=\"text/javascript\">                                    window.PLOTLYENV=window.PLOTLYENV || {};                                    if (document.getElementById(\"4e321494-5f58-43a5-b5b1-ddbd3e7ed9d2\")) {                    Plotly.newPlot(                        \"4e321494-5f58-43a5-b5b1-ddbd3e7ed9d2\",                        [{\"marker\":{\"color\":\"#1F77B4\",\"size\":4},\"mode\":\"lines+markers\",\"name\":\"Train\",\"x\":[0,1,2,3,4,5,6,7,8,9,10,11,12,13,14,15,16,17,18,19,20,21,22,23,24,25,26,27,28,29,30,31,32,33,34,35,36,37,38,39,40,41,42,43,44,45,46,47,48,49,50,51,52,53,54,55,56,57,58,59,60,61,62,63,64,65,66,67,68,69,70,71,72,73,74,75,76,77,78,79,80,81,82,83,84,85,86,87,88,89,90,91,92,93,94,95,96,97,98,99,100,101,102,103,104,105,106,107,108,109,110,111,112,113,114,115,116,117,118,119,120,121,122,123,124,125,126,127,128,129,130,131,132,133,134,135,136,137,138,139,140,141,142,143,144,145,146,147,148,149,150,151,152,153,154,155,156,157,158,159,160,161,162,163,164,165,166,167,168,169,170,171,172,173,174,175,176,177,178,179,180,181,182,183,184,185,186,187,188,189,190,191,192,193,194,195,196,197,198,199,200,201,202,203,204,205,206,207,208,209,210,211,212,213,214,215,216,217,218,219,220,221,222,223,224,225,226,227,228,229,230,231,232,233,234,235,236,237,238,239,240,241,242,243,244,245,246,247,248,249,250,251,252,253,254,255,256,257,258,259,260,261,262,263,264,265,266,267,268,269,270,271,272,273,274,275,276,277,278,279,280,281,282,283,284,285,286,287,288,289,290,291,292,293,294,295,296,297,298,299,300,301,302,303,304,305,306,307,308,309,310,311,312,313,314,315,316,317,318,319,320,321,322,323,324,325,326,327,328,329,330,331,332,333,334,335,336,337,338,339,340,341,342,343,344,345,346,347,348,349,350,351,352,353,354,355,356,357,358,359,360,361,362,363,364,365,366,367,368,369,370,371,372,373,374,375,376,377,378,379,380,381,382,383,384,385,386,387,388,389,390,391,392,393,394,395,396,397,398,399,400,401,402,403,404,405,406,407,408,409,410,411,412,413,414,415,416,417,418,419,420,421,422,423,424,425,426,427,428,429,430,431,432,433,434,435,436,437,438,439,440,441,442,443,444,445,446,447,448,449,450,451,452,453,454,455,456,457,458,459,460,461,462,463,464,465,466,467,468,469,470,471,472,473,474,475,476,477,478,479,480,481,482,483,484,485,486,487,488,489,490,491,492,493,494,495,496,497,498,499,500,501,502,503,504,505,506,507,508,509,510,511,512,513,514,515,516,517,518,519,520,521,522,523,524,525,526,527,528,529,530,531,532,533,534,535,536,537,538,539,540,541,542,543,544,545,546,547,548,549,550,551,552,553,554,555,556,557,558,559,560,561,562,563,564,565,566,567,568,569,570,571,572,573,574,575,576,577,578,579,580,581,582,583,584,585,586,587,588,589,590,591,592,593,594,595,596,597,598,599,600,601,602,603,604,605,606,607,608,609,610,611,612,613,614,615,616,617,618,619,620,621,622,623,624,625,626,627,628,629,630,631,632,633,634,635,636,637,638,639,640,641,642,643,644,645,646,647,648,649,650,651,652,653,654,655,656,657,658,659,660,661,662,663,664,665,666,667,668,669,670,671,672,673,674,675,676,677,678,679,680,681,682,683,684,685,686,687,688,689,690,691,692,693,694,695,696,697,698,699,700,701,702,703,704,705,706,707,708,709,710,711,712,713,714,715,716,717,718,719,720,721,722,723,724,725,726,727,728,729,730,731,732,733,734,735,736,737,738,739,740,741,742,743,744,745,746,747,748,749,750,751,752,753,754,755,756,757,758,759,760,761,762,763,764,765,766,767,768,769,770,771,772,773,774,775,776,777,778,779,780,781,782,783,784,785,786,787,788,789,790,791,792,793,794,795,796,797,798,799,800,801,802,803,804,805,806,807,808,809,810,811,812,813,814,815,816,817,818,819,820,821,822,823,824,825,826,827,828,829,830,831,832,833,834,835,836,837,838,839,840,841,842,843,844,845,846,847,848,849,850,851,852,853,854,855,856,857,858,859,860,861,862,863,864,865,866,867,868,869,870,871,872,873,874,875,876,877,878,879,880,881,882,883,884,885,886,887,888,889,890,891,892,893,894,895,896,897,898,899,900,901,902,903,904,905,906,907,908,909,910,911,912,913,914,915,916,917,918,919,920,921,922,923,924,925,926,927,928,929,930,931,932,933,934],\"y\":[92.800003,93.290001,93.589996,94.029999,94.22000100000001,94.09999800000001,94.150002,94.55000300000002,96.75000000000001,96.15000200000001,97.559998,96.459999,97.260002,98.94999700000001,98.690002,97.660004,97.18000000000002,98.690002,96.38999900000002,94.33999600000001,95.970001,94.690002,93.19000200000002,89.769997,90.459999,89.839996,86.769997,88.220001,88.839996,89.480003,92.62999700000002,93.00000000000001,93.26999700000002,91.58000200000001,90.830002,92.050003,92.459999,93.30999800000001,92.76999700000002,90.419998,90.82,92.19999700000001,91.559998,91.72000100000001,92.04000100000002,93.30999800000001,94.32,92.690002,93.48999800000001,92.660004,92.33000200000001,93.790001,92.94000200000002,94.47000100000001,95.44999700000001,93.040001,91.220001,94.25,92.26999700000002,90.279999,92.76999700000002,91.559998,92.69999700000001,93.349998,95.860001,95.18,96.01000200000001,98.88999900000002,100.30999800000001,100.529999,101.83000200000001,105.48999800000001,106.690002,107.540001,108.199997,108.55000300000002,109.260002,108.290001,108.68000000000002,111.540001,109.77999900000002,110.93,110.720001,112.25000000000001,113.370003,113.389999,113.66999800000002,113.190002,114.82000000000001,114.489998,114.62999700000002,115.87000300000001,115.900002,114.98999800000001,119.709999,120.559998,122.05999800000001,120.150002,121.05000300000002,121.87999699999999,118.730003,119.47000099999998,122.209999,121.19999700000001,123.779999,124.440002,123.330002,121.19999700000001,121.489998,119.72000099999998,120.57,118.01999699999999,117.87999699999999,116.82,115.18,116.54000100000002,116.620003,115.73000300000001,111.220001,112.23999800000001,109.260002,110.25,109.519997,109.11000100000001,110.830002,109.23000300000001,108.169998,107.529999,107.830002,109.269997,108.62000300000001,106.360001,106.79000100000002,107.339996,106.30000300000002,106.08999600000001,106.65000200000001,107.00000000000001,106.20999900000001,106.27999900000002,107.26999700000002,109.33000200000001,116.83000200000001,116.34999800000001,117.260002,118.349998,116.77999900000002,115.330002,115.37999700000002,114.88999900000002,116.70999900000001,115.900002,115.13999900000002,115.37000300000001,114.790001,115.050003,111.51999700000002,111.32,111.00000000000001,113.40000200000001,114.13999900000002,115.68000000000002,118.05999799999998,120.55000300000002,121.20999900000001,120.389999,120.610001,119.050003,117.87999699999999,120.239998,116.91000400000001,116.07,115.080002,115.25000000000001,115.099998,116.309998,116.83000200000001,117.129997,115.459999,115.330002,109.69999700000001,110.480003,112.23999800000001,114.959999,116.760002,116.519997,115.290001,113.75,113.879997,115.519997,119.98999800000001,117.22000100000001,117.110001,116.18000000000002,115.660004,110.839996,106.88999900000002,108.25000000000001,103.790001,105.91000400000001,103.739998,103.38999900000002,92.76000200000001,92.849998,91.66000400000001,86.690002,87.379997,85.790001,87.379997,90.099998,91.089996,92.51000200000001,91.83000200000001,91.150002,91.279999,92.589996,88.699997,87.580002,85.970001,83.57,82.339996,83.269997,83.949997,80.690002,78.610001,79.199997,77.029999,78.779999,77.43,79.419998,79.470001,79.900002,81.300003,79.510002,78.839996,75.989998,73.379997,73.269997,73.639999,73.459999,73.300003,72.580002,71.059998,70.980003,70.610001,71.639999,68.940002,73.309998,74.629997,73.480003,74.970001,75.559998,74.199997,77.010002,77.089996,77.360001,77.290001,77.419998,78.470001,78.949997,78.769997,79.0,80.489998,82.589996,82.010002,79.779999,78.949997,82.190002,81.029999,81.139999,83.279999,87.82,85.260002,84.790001,85.959999,85.919998,83.910004,84.139999,83.339996,82.330002,83.459999,83.610001,84.400002,84.790001,85.43,84.480003,85.32,84.980003,84.410004,83.089996,81.559998,82.889999,82.529999,81.150002,81.349998,80.589996,79.75,83.480003,83.849998,84.220001,84.940002,85.080002,86.75,86.43,86.440002,86.379997,84.629997,85.480003,87.0,86.019997,84.830002,84.830002,86.43,84.449997,84.260002,84.349998,86.690002,86.199997,85.110001,88.43,89.040001,88.410004,87.650002,88.32,89.419998,88.040001,91.150002,90.279999,87.730003,90.830002,90.080002,89.599998,90.660004,89.769997,88.25,88.440002,86.389999,84.360001,82.400002,81.739998,83.730003,81.410004,82.959999,83.370003,85.470001,83.709999,82.080002,82.470001,80.349998,75.410004,76.220001,75.089996,74.860001,72.870003,70.400002,72.0,73.849998,73.139999,74.470001,74.730003,75.860001,76.360001,76.5,77.260002,76.760002,76.93,77.800003,78.160004,79.75,81.910004,80.760002,81.629997,84.93,83.93,85.610001,84.25,80.699997,81.980003,81.839996,81.360001,82.239998,83.400002,84.43,84.75,84.32,84.209999,83.239998,83.349998,83.650002,84.349998,84.769997,86.169998,83.449997,84.309998,84.029999,84.790001,85.25,84.339996,82.07,75.779999,76.839996,75.809998,78.760002,78.849998,77.150002,78.739998,76.0,76.720001,78.120003,79.699997,78.010002,78.400002,77.419998,74.18,73.709999,71.709999,72.760002,75.239998,75.279999,74.57,74.779999,76.790001,78.129997,79.379997,81.68,82.669998,83.699997,85.529999,82.389999,84.309998,83.599998,83.550003,82.849998,84.139999,83.099998,83.660004,83.120003,84.440002,85.239998,85.220001,82.800003,83.540001,84.519997,83.419998,83.32,85.07,85.800003,88.0,88.529999,89.449997,89.089996,90.099998,91.059998,93.209999,94.16999800000002,93.84999800000001,96.910004,99.26999700000002,100.07000000000001,100.82,98.809998,96.98000300000001,99.860001,101.23999800000001,101.089996,100.349998,101.400002,100.86000100000001,100.68,100.48000300000001,100.25000000000001,100.82,100.61000100000001,101.059998,97.62000300000001,97.19000200000002,98.41000400000001,97.510002,97.34999800000001,97.44000200000002,97.09999800000001,95.489998,95.599998,93.889999,93.209999,92.98999800000001,93.61000100000001,92.51999700000002,94.57,92.88999900000002,94.529999,93.809998,95.139999,95.68,94.510002,94.58999600000001,95.26999700000002,95.239998,95.09999800000001,94.41999800000002,93.199997,92.87999700000002,93.650002,95.129997,91.519997,91.52999900000002,92.730003,93.089996,95.18,96.88999900000002,96.25000000000001,95.40000200000001,92.26000200000001,91.980003,91.220001,90.25,89.620003,89.510002,89.260002,85.050003,85.949997,86.459999,88.190002,84.309998,80.25,81.239998,83.779999,83.269997,84.040001,84.370003,84.239998,85.040001,83.699997,82.639999,82.519997,83.230003,84.169998,82.900002,78.099998,74.440002,71.720001,66.190002,66.25,67.870003,64.440002,64.150002,61.700001,63.09,58.400002,60.45000099999999,54.419998,43.959999,49.900002,41.630001,39.02,35.02,37.41,38.66,32.619999,34.650002,39.630001,45.599998,45.040001,47.189999,45.360001,41.0,41.5,40.34,46.099998,48.009998,51.599998,50.099998,49.700001,50.950001,46.700001,45.0,51.759998,50.310001,49.450001,50.57,52.07,52.5,55.57,57.869999,66.279999,63.349998,58.759997999999996,63.66,63.02,60.910000000000004,61.259998,65.919998,65.57,63.339999999999996,59.049999,59.41,58.77999899999999,64.349998,64.050003,67.339996,65.730003,65.68,68.699997,70.18,67.129997,66.639999,66.580002,68.190002,70.540001,70.050003,74.639999,75.620003,71.269997,69.050003,60.68,63.79000099999999,63.589999999999996,66.160004,62.32,64.629997,63.16,62.660000000000004,62.650002,58.02,57.279999,56.32,56.950001,58.81999999999999,56.439999,56.34,56.470001,53.119999,52.98,50.220001,53.650002,53.23,54.400002,57.23,56.580002,55.470001,54.330002,57.580002,57.07,57.669998,57.98,58.029999,56.889999,59.68999900000001,56.330002,56.23,53.91,53.02,51.619999,51.48,52.66,53.549999,53.650002,55.119999,53.189999,54.459999,55.599998,54.740002,54.259998,52.700001,52.619999,54.990002,54.25,53.700001,53.439999,54.889999,52.59,52.470001,52.91,52.330002,51.220001,48.73,47.75,45.630001,46.389999,47.509998,46.560001,49.099998,49.0,48.709999,47.360001,47.419998,44.509998,44.580002,43.919998,44.82,43.41,43.32,40.279999,40.73,43.07,42.330002,42.349998,44.360001,43.639999,43.09,41.43,41.709999,41.560001,40.220001,39.290001,40.700001,40.540001,41.279999,41.970001,39.540001,38.259998,36.189999,37.529999,38.610001,39.900002,39.48,38.970001,39.529999,38.169998,50.080002,49.959999,49.790001,47.279999,50.919998,55.669998,54.150002,51.25,51.209999,50.82,56.09,58.490002,56.43,56.619999,53.77,54.400002,58.07,57.91,61.27,59.459999,58.980000000000004,58.799999,59.86999900000001,59.02999899999999,56.389999,57.48,56.919998,56.34,54.77,54.049999,53.700001,55.790001,55.68,55.09,55.450001,56.720001,56.57,55.73,57.32,58.599998,59.669998,57.709999,58.639999,59.509998,57.700001,60.27000000000001,58.299999,60.540001000000004,60.57,58.860001,59.450001,59.41,58.150002,58.730000000000004,58.330002,56.43,56.240002,57.77,60.09999799999999,61.06000099999999,61.72000100000001,64.790001,64.589996,65.110001,64.550003,64.739998,66.959999,68.120003,67.830002,71.529999,74.25,75.809998,78.160004,78.150002,76.980003,77.800003,76.629997,77.529999,76.370003,79.029999,80.559998,76.580002,81.370003,82.480003,82.419998,81.830002,79.32,79.139999,73.699997,73.699997,72.279999,70.080002,71.779999,72.419998,73.110001,71.860001,71.779999,71.599998,75.300003,74.620003,74.18,74.410004,72.879997,71.089996,70.300003,70.279999,72.279999,71.389999,72.5,70.849998,68.68,70.300003,68.480003,70.18,70.519997,71.82,74.120003,74.860001,73.959999,78.150002,78.160004,80.059998,80.459999,80.489998,79.639999,77.690002,79.970001,78.5,81.209999,81.620003,79.580002,77.279999,76.989998,77.199997,78.309998,77.330002,79.089996,80.790001,80.400002,82.18,84.389999,83.32,83.239998,82.690002,83.260002,81.93,81.940002,81.290001,81.949997,82.300003,81.459999,78.580002,76.019997,79.980003,80.980003,80.849998,81.730003,82.089996,77.720001,76.919998,78.080002,77.809998,78.07,74.699997,72.309998,70.260002,72.300003,71.68,70.470001,67.669998,66.800003,64.879997,61.91999799999999,62.56999999999999,64.910004,63.48,63.709998999999996,65.540001,65.580002,67.300003,67.639999,66.970001,66.400002,69.010002,64.18,65.709999,66.5,66.0,66.900002,66.839996,67.25,66.25,64.540001,63.509998,62.240002,60.240002000000004,60.200001,63.110001,65.230003,66.339996,65.459999,67.110001,66.019997,66.309998,63.950001,65.199997,64.699997,65.519997,63.700001,63.540001,63.41,66.18,64.699997,66.510002,65.459999,65.599998],\"type\":\"scatter\"},{\"marker\":{\"color\":\"#FF7F0E\",\"size\":4},\"mode\":\"lines+markers\",\"name\":\"ActualTest\",\"x\":[935,936,937,938,939,940,941,942,943,944,945,946,947,948,949,950,951,952,953,954,955,956,957,958,959,960,961,962,963,964,965,966,967,968,969,970,971,972,973,974,975,976,977,978,979,980,981,982,983,984,985,986,987,988,989,990,991,992,993,994,995,996,997,998,999,1000,1001,1002,1003,1004,1005,1006,1007,1008,1009,1010,1011,1012,1013,1014,1015,1016,1017,1018,1019,1020,1021,1022,1023,1024,1025,1026,1027,1028,1029,1030,1031,1032,1033,1034,1035,1036,1037,1038,1039,1040,1041,1042,1043,1044,1045,1046,1047,1048,1049,1050,1051,1052,1053,1054,1055,1056,1057,1058,1059,1060,1061,1062,1063,1064,1065,1066,1067,1068,1069,1070,1071,1072,1073,1074,1075,1076,1077,1078,1079,1080,1081,1082,1083,1084,1085,1086,1087,1088,1089,1090,1091,1092,1093,1094,1095,1096,1097,1098,1099,1100,1101,1102,1103,1104,1105,1106,1107,1108,1109,1110,1111,1112,1113,1114,1115,1116,1117,1118,1119,1120,1121,1122,1123,1124,1125,1126,1127,1128,1129,1130,1131,1132,1133,1134,1135,1136,1137,1138,1139,1140,1141,1142,1143,1144,1145,1146,1147,1148,1149,1150,1151,1152,1153,1154,1155,1156,1157,1158,1159,1160,1161,1162,1163,1164,1165,1166,1167,1168,1169,1170,1171,1172,1173,1174,1175,1176,1177,1178,1179,1180,1181,1182,1183,1184,1185,1186,1187,1188,1189,1190,1191,1192,1193,1194,1195,1196,1197,1198,1199,1200,1201],\"y\":[62.970000999999996,63.32,65.32,67.169998,67.629997,70.779999,71.169998,70.309998,70.57,73.620003,75.019997,74.300003,75.370003,75.900002,78.599998,77.800003,78.919998,78.139999,79.169998,78.660004,78.129997,80.150002,81.040001,82.0,80.989998,82.690002,81.879997,78.669998,78.459999,77.330002,78.019997,75.860001,75.879997,76.349998,77.919998,77.779999,78.25,76.860001,77.220001,76.580002,77.349998,77.940002,73.449997,72.959999,69.07,70.650002,72.550003,72.949997,68.010002,68.169998,66.940002,67.309998,71.169998,69.709999,70.410004,71.629997,70.720001,70.309998,70.849998,68.220001,68.190002,68.239998,68.75,68.690002,68.690002,71.32,71.300003,71.730003,73.129997,74.5,74.650002,74.279999,75.110001,77.139999,78.510002,78.199997,80.160004,81.0,81.029999,83.849998,84.370003,83.360001,85.199997,85.639999,84.209999,81.410004,79.290001,78.589996,81.160004,81.300003,81.980003,81.410004,82.970001,86.550003,86.610001,85.089996,86.699997,89.629997,88.489998,88.839996,89.889999,92.0,89.720001,88.529999,88.040001,87.040001,86.720001,85.839996,86.349998,83.839996,84.870003,83.510002,80.629997,83.620003,84.190002,85.980003,84.010002,90.540001,87.139999,89.580002,91.66999800000002,90.550003,84.410004,84.940002,89.089996,90.43,94.260002,93.589996,95.51999700000002,96.440002,97.25000000000001,96.37000300000001,96.68,100.50000000000001,101.54000100000002,101.269997,100.73999800000001,101.45999900000001,103.300003,103.33000200000001,103.220001,100.900002,100.790001,103.94000200000002,104.86000100000001,110.349998,107.73999800000001,108.07,104.910004,103.050003,100.87999700000002,105.139999,109.510002,115.529999,111.48000300000001,116.59999800000001,121.40000199999999,128.229996,125.830002,129.179993,118.449997,120.97000100000001,120.41999799999999,120.41000399999999,124.69999699999998,127.77999899999999,128.059998,124.68,124.260002,122.98000299999998,123.95999899999998,124.20999899999998,127.33999599999999,128.119995,131.809998,129.600006,132.550003,133.619995,135.419998,138.690002,145.080002,143.770004,143.410004,140.509995,131.610001,133.75,128.300003,118.73999799999999,112.44000200000002,116.47000100000001,113.129997,104.529999,103.93,112.23999800000001,116.25,108.84999800000001,106.27999900000002,107.98000300000001,103.589996,101.70999900000001,106.33999600000001,107.02999900000002,107.790001,104.86000100000001,102.389999,100.779999,104.589996,106.309998,108.73999800000001,109.279999,104.150002,104.01999700000002,109.32,107.62999700000002,111.50000000000001,109.510002,110.76999700000002,110.65000200000001,112.989998,107.80999800000001,104.330002,104.98999800000001,106.38999900000002,110.669998,111.76000200000001,114.089996,115.19000200000002,111.949997,113.309998,117.75,118.790001,118.550003,119.12999700000002,122.110001,122.12000299999998,123.36000100000001,121.87999699999999,123.41999799999999,118.02999900000002,117.120003,110.63999900000002,113.82000000000001,112.779999,112.62000300000001,111.93000000000002,113.32000000000001,114.25,111.330002,109.58999600000001,105.160004,104.459999,104.669998,107.419998,105.529999,107.589996,100.57,97.889999,101.169998,108.80000300000002,107.239998,106.849998,112.309998,117.58000200000001,118.089996,119.220001,113.77999900000002,110.860001],\"type\":\"scatter\"},{\"marker\":{\"color\":\"#2CA02C\",\"size\":4},\"mode\":\"lines+markers\",\"name\":\"PredictedTest\",\"x\":[935,936,937,938,939,940,941,942,943,944,945,946,947,948,949,950,951,952,953,954,955,956,957,958,959,960,961,962,963,964,965,966,967,968,969,970,971,972,973,974,975,976,977,978,979,980,981,982,983,984,985,986,987,988,989,990,991,992,993,994,995,996,997,998,999,1000,1001,1002,1003,1004,1005,1006,1007,1008,1009,1010,1011,1012,1013,1014,1015,1016,1017,1018,1019,1020,1021,1022,1023,1024,1025,1026,1027,1028,1029,1030,1031,1032,1033,1034,1035,1036,1037,1038,1039,1040,1041,1042,1043,1044,1045,1046,1047,1048,1049,1050,1051,1052,1053,1054,1055,1056,1057,1058,1059,1060,1061,1062,1063,1064,1065,1066,1067,1068,1069,1070,1071,1072,1073,1074,1075,1076,1077,1078,1079,1080,1081,1082,1083,1084,1085,1086,1087,1088,1089,1090,1091,1092,1093,1094,1095,1096,1097,1098,1099,1100,1101,1102,1103,1104,1105,1106,1107,1108,1109,1110,1111,1112,1113,1114,1115,1116,1117,1118,1119,1120,1121,1122,1123,1124,1125,1126,1127,1128,1129,1130,1131,1132,1133,1134,1135,1136,1137,1138,1139,1140,1141,1142,1143,1144,1145,1146,1147,1148,1149,1150,1151,1152,1153,1154,1155,1156,1157,1158,1159,1160,1161,1162,1163,1164,1165,1166,1167,1168,1169,1170,1171,1172,1173,1174,1175,1176,1177,1178,1179,1180,1181,1182,1183,1184,1185,1186,1187,1188,1189,1190,1191,1192,1193,1194,1195,1196,1197,1198,1199,1200,1201],\"y\":[65.78607940673828,64.16597747802734,63.31959533691406,64.1796646118164,65.98905181884766,67.32667541503906,69.66728210449219,71.1156997680664,71.02962493896484,70.76061248779297,72.31710815429688,74.14248657226562,74.56092834472656,75.10916900634766,75.64495086669922,77.49797821044922,78.01519012451172,78.68331146240234,78.46456909179688,78.83718872070312,78.75399017333984,78.31778717041016,79.34363555908203,80.58301544189453,81.7534408569336,81.55828094482422,82.28487396240234,82.14871215820312,79.8786392211914,78.46318054199219,77.30978393554688,77.37225341796875,76.32999420166016,75.80174255371094,75.98625946044922,77.18192291259766,77.78067779541016,78.20243835449219,77.42184448242188,77.05329132080078,76.51618957519531,76.7267074584961,77.31108856201172,74.86688995361328,73.06022644042969,70.05783081054688,69.57855987548828,71.0123519897461,72.34187316894531,70.0394058227539,68.48726654052734,67.1583251953125,66.8272705078125,69.13200378417969,69.85226440429688,70.31584167480469,71.13787841796875,70.97049713134766,70.42475128173828,70.38764953613281,68.90418243408203,67.99140167236328,67.7389144897461,68.10116577148438,68.40802764892578,68.58428192138672,70.18914794921875,71.16154479980469,71.7190170288086,72.66693115234375,73.91498565673828,74.55682373046875,74.45482635498047,74.73042297363281,76.11568450927734,77.74136352539062,78.28482818603516,79.51885223388672,80.632080078125,81.05665588378906,82.86064147949219,84.11551666259766,83.84986114501953,84.63121032714844,85.34469604492188,84.67430114746094,82.37162017822266,79.85218048095703,78.40609741210938,79.70582580566406,80.88896942138672,81.88388061523438,81.89277648925781,82.67315673828125,85.33103942871094,86.66035461425781,85.88370513916016,86.1708984375,88.26945495605469,88.57158660888672,88.62257385253906,89.25576782226562,90.97885131835938,90.2572250366211,88.82227325439453,87.8296890258789,86.87964630126953,86.38626861572266,85.76505279541016,85.92097473144531,84.4971694946289,84.41990661621094,83.70768737792969,81.48664855957031,82.31571197509766,83.49261474609375,85.21903228759766,84.68186950683594,88.32796478271484,88.05826568603516,88.89102935791016,90.64199829101562,90.618896484375,86.18389129638672,84.19670867919922,86.55287170410156,89.16891479492188,92.945556640625,94.10887908935547,95.37091827392578,96.30472564697266,97.00758361816406,96.49612426757812,96.286865234375,98.9009780883789,100.9701156616211,101.44041442871094,100.95194244384766,101.09661865234375,102.50995635986328,103.1791763305664,103.22866821289062,101.4572525024414,100.53224182128906,102.60623168945312,104.41568756103516,109.04139709472656,108.9291763305664,108.38591003417969,105.6016616821289,102.9651107788086,100.55066680908203,103.01261901855469,107.82008361816406,114.32176208496094,113.5025634765625,115.9515609741211,120.40935516357422,127.05839538574219,127.07860565185547,128.69525146484375,120.39153289794922,119.07123565673828,119.04337310791016,119.53910827636719,123.46576690673828,127.57685852050781,128.96730041503906,126.13546752929688,124.34557342529297,122.751220703125,123.12096405029297,123.692626953125,126.46952819824219,128.08456420898438,131.320556640625,130.3471221923828,131.8887481689453,133.19021606445312,134.8675994873047,137.93328857421875,144.06985473632812,144.5535125732422,143.61001586914062,140.50633239746094,131.9498748779297,131.49057006835938,127.8247299194336,119.31644439697266,112.11910247802734,113.90388488769531,113.13720703125,106.40689086914062,103.46405029296875,109.22271728515625,115.15789031982422,111.2997817993164,106.73106384277344,106.14347839355469,103.01873779296875,100.44429779052734,103.20742797851562,105.4571762084961,106.85484313964844,105.03760528564453,102.18194580078125,99.91492462158203,102.07775115966797,104.7568359375,107.64125061035156,109.0107650756836,105.3519058227539,103.34765625,106.73418426513672,107.3321533203125,110.16777801513672,109.83356475830078,110.23816680908203,110.2685317993164,111.9578628540039,108.75113677978516,104.6061019897461,103.71573638916016,104.99329376220703,109.06197357177734,111.6588134765625,114.02198028564453,115.36064147949219,112.92431640625,112.56209564208984,115.94573211669922,118.20181274414062,118.55885314941406,118.81295013427734,121.10321807861328,121.93304443359375,122.95043182373047,122.01144409179688,122.72098541259766,118.79252624511719,116.56942749023438,111.14833068847656,111.93373107910156,112.25912475585938,112.45023345947266,112.06110382080078,112.92633819580078,113.96371459960938,111.95967864990234,109.5673828125,105.35713958740234,103.35794067382812,103.25196838378906,105.67504119873047,105.52301025390625,106.74020385742188,102.05145263671875,97.83849334716797,98.84264373779297,105.49260711669922,107.48356628417969,107.2408218383789,110.70850372314453,116.02631378173828,118.13396453857422,119.01277923583984,114.65502166748047],\"type\":\"scatter\"},{\"marker\":{\"color\":\"#D62728\",\"size\":4},\"mode\":\"lines+markers\",\"name\":\"ActualValidate\",\"x\":[1202,1203,1204,1205,1206,1207,1208,1209,1210,1211,1212,1213,1214,1215,1216,1217,1218,1219,1220,1221,1222,1223,1224,1225,1226,1227,1228,1229,1230,1231,1232,1233,1234,1235,1236,1237,1238,1239,1240,1241,1242,1243,1244,1245,1246,1247,1248,1249,1250,1251,1252,1253,1254,1255,1256,1257,1258,1259,1260,1261,1262,1263,1264,1265,1266,1267,1268,1269,1270,1271,1272,1273,1274,1275,1276,1277,1278,1279,1280,1281,1282,1283,1284,1285,1286,1287,1288,1289,1290,1291,1292,1293,1294,1295,1296,1297,1298,1299,1300,1301,1302,1303,1304,1305,1306,1307,1308,1309,1310,1311,1312,1313,1314,1315,1316,1317,1318,1319,1320,1321,1322,1323,1324,1325,1326,1327,1328,1329,1330,1331,1332,1333,1334,1335,1336],\"y\":[109.690002,115.199997,120.860001,114.120003,115.50000000000001,117.69999700000001,123.95999899999998,124.440002,127.739998,129.220001,126.80000299999999,126.73999800000001,128.270004,125.980003,125.550003,130.0,125.830002,129.710007,128.720001,131.779999,132.25,128.0,132.449997,133.960007,136.800003,140.710007,135.529999,137.910004,137.619995,135.960007,141.979996,139.210007,138.399994,134.839996,135.199997,133.619995,132.029999,127.07,120.95999900000001,118.86000099999998,120.19000200000002,116.900002,114.65000200000001,120.66000399999999,120.52999899999999,119.73000300000001,119.91999799999999,119.37000300000001,119.709999,121.87999699999999,122.68,119.62000300000001,124.370003,126.410004,125.349998,126.32,126.86000099999998,120.04000099999999,119.62000300000001,126.589996,127.559998,128.580002,132.009995,133.600006,135.320007,136.130005,137.610001,135.520004,138.470001,142.729996,143.080002,145.029999,143.350006,149.960007,143.210007,140.190002,140.029999,136.229996,133.050003,131.729996,128.089996,134.520004,134.119995,132.619995,140.729996,139.800003,139.690002,136.369995,133.970001,129.610001,132.199997,130.690002,132.429993,132.75,135.050003,131.729996,139.289993,139.229996,141.169998,139.690002,136.960007,132.770004,132.279999,132.160004,128.110001,131.619995,124.33000199999998,127.16999799999999,126.37000299999998,128.910004,132.190002,131.770004,130.380005,129.259995,131.880005,136.020004,136.949997,137.020004,139.600006,138.529999,127.43000000000002,135.089996,132.589996,135.100006,136.710007,133.720001,133.130005,131.860001,128.300003,127.11000100000001,124.40000199999999,122.949997,119.629997,120.0,117.849998],\"type\":\"scatter\"},{\"marker\":{\"color\":\"#9569BE\",\"size\":4},\"mode\":\"lines+markers\",\"name\":\"PredictedValidate\",\"x\":[1202,1203,1204,1205,1206,1207,1208,1209,1210,1211,1212,1213,1214,1215,1216,1217,1218,1219,1220,1221,1222,1223,1224,1225,1226,1227,1228,1229,1230,1231,1232,1233,1234,1235,1236,1237,1238,1239,1240,1241,1242,1243,1244,1245,1246,1247,1248,1249,1250,1251,1252,1253,1254,1255,1256,1257,1258,1259,1260,1261,1262,1263,1264,1265,1266,1267,1268,1269,1270,1271,1272,1273,1274,1275,1276,1277,1278,1279,1280,1281,1282,1283,1284,1285,1286,1287,1288,1289,1290,1291,1292,1293,1294,1295,1296,1297,1298,1299,1300,1301,1302,1303,1304,1305,1306,1307,1308,1309,1310,1311,1312,1313,1314,1315,1316,1317,1318,1319,1320,1321,1322,1323,1324,1325,1326,1327,1328,1329,1330,1331,1332,1333,1334,1335,1336],\"y\":[110.4089584350586,108.29434967041016,112.3270263671875,118.9541244506836,116.27904510498047,115.48185729980469,116.95966339111328,122.45719146728516,124.83551788330078,127.63536834716797,129.35321044921875,127.46968078613281,126.32967376708984,127.22472381591797,125.85443115234375,125.04183959960938,128.58656311035156,126.67613220214844,128.85748291015625,128.9597930908203,131.25137329101562,132.33555603027344,128.8845672607422,131.09811401367188,133.3502960205078,136.28945922851562,140.263427734375,136.79330444335938,137.07618713378906,137.03822326660156,135.61573791503906,140.29351806640625,139.6452178955078,138.37620544433594,134.92347717285156,134.23175048828125,133.06492614746094,131.59019470214844,127.2273941040039,121.02649688720703,117.76554870605469,118.5013198852539,116.79690551757812,114.53988647460938,118.62020874023438,120.3532485961914,119.89396667480469,119.44502258300781,118.64869689941406,118.51640319824219,120.20687866210938,121.51771545410156,119.43793487548828,122.2534408569336,125.16879272460938,125.17330169677734,125.60074615478516,126.10228729248047,120.73186492919922,118.42431640625,123.75081634521484,127.03131103515625,128.69332885742188,131.64361572265625,133.6200408935547,135.20220947265625,135.97579956054688,137.1107177734375,135.52273559570312,137.3011474609375,141.61282348632812,143.20364379882812,144.94573974609375,143.74546813964844,148.77984619140625,144.4412078857422,140.08648681640625,138.936767578125,135.85972595214844,132.6087646484375,131.00035095214844,127.98452758789062,132.70697021484375,134.3790740966797,133.27291870117188,139.28738403320312,140.33055114746094,139.74465942382812,136.2798309326172,132.9772491455078,128.55108642578125,129.7633056640625,129.63014221191406,131.2584991455078,132.25341796875,134.39443969726562,132.18739318847656,137.41424560546875,139.1716766357422,140.79046630859375,139.65997314453125,136.63986206054688,132.1464385986328,130.64730834960938,130.7013702392578,127.83443450927734,130.04681396484375,125.22761535644531,125.83222961425781,125.86664581298828,127.98348999023438,131.40377807617188,131.9638671875,130.4727783203125,128.7286376953125,130.269287109375,134.37521362304688,136.46395874023438,136.7920684814453,138.712890625,138.26600646972656,128.5500030517578,131.8459014892578,131.8642120361328,134.05154418945312,136.28598022460938,134.35765075683594,132.93142700195312,131.45172119140625,128.12591552734375,126.23196411132812,123.79661560058594,122.14146423339844,119.2971420288086,118.89842987060547],\"type\":\"scatter\"},{\"marker\":{\"color\":\"#000000\",\"size\":4},\"mode\":\"lines+markers\",\"name\":\"Next30Days\",\"x\":[1337,1338,1339,1340,1341,1342,1343,1344,1345,1346,1347,1348,1349,1350,1351,1352,1353,1354,1355,1356,1357,1358,1359,1360,1361,1362,1363,1364,1365,1366],\"y\":[117.46631447989081,116.79101488713168,116.20139191068361,115.6076914267001,114.96980978473805,114.26684888442706,113.49474520625066,112.66229721415327,111.78637445903634,110.88744840669106,109.98575972059534,109.09866753231525,108.2390897773876,107.41499263262699,106.62958634839153,105.88222747580765,105.16950993225144,104.48640502489613,103.82726858807943,103.18674321052836,102.56025481003331,101.94437632194185,101.3367717470827,100.73630106190824,100.14266352401017,99.55624380391072,98.97773430854987,98.40798131307649,97.84778912858246,97.29780120394133],\"type\":\"scatter\"}],                        {\"template\":{\"data\":{\"histogram2dcontour\":[{\"type\":\"histogram2dcontour\",\"colorbar\":{\"outlinewidth\":0,\"ticks\":\"\"},\"colorscale\":[[0.0,\"#0d0887\"],[0.1111111111111111,\"#46039f\"],[0.2222222222222222,\"#7201a8\"],[0.3333333333333333,\"#9c179e\"],[0.4444444444444444,\"#bd3786\"],[0.5555555555555556,\"#d8576b\"],[0.6666666666666666,\"#ed7953\"],[0.7777777777777778,\"#fb9f3a\"],[0.8888888888888888,\"#fdca26\"],[1.0,\"#f0f921\"]]}],\"choropleth\":[{\"type\":\"choropleth\",\"colorbar\":{\"outlinewidth\":0,\"ticks\":\"\"}}],\"histogram2d\":[{\"type\":\"histogram2d\",\"colorbar\":{\"outlinewidth\":0,\"ticks\":\"\"},\"colorscale\":[[0.0,\"#0d0887\"],[0.1111111111111111,\"#46039f\"],[0.2222222222222222,\"#7201a8\"],[0.3333333333333333,\"#9c179e\"],[0.4444444444444444,\"#bd3786\"],[0.5555555555555556,\"#d8576b\"],[0.6666666666666666,\"#ed7953\"],[0.7777777777777778,\"#fb9f3a\"],[0.8888888888888888,\"#fdca26\"],[1.0,\"#f0f921\"]]}],\"heatmap\":[{\"type\":\"heatmap\",\"colorbar\":{\"outlinewidth\":0,\"ticks\":\"\"},\"colorscale\":[[0.0,\"#0d0887\"],[0.1111111111111111,\"#46039f\"],[0.2222222222222222,\"#7201a8\"],[0.3333333333333333,\"#9c179e\"],[0.4444444444444444,\"#bd3786\"],[0.5555555555555556,\"#d8576b\"],[0.6666666666666666,\"#ed7953\"],[0.7777777777777778,\"#fb9f3a\"],[0.8888888888888888,\"#fdca26\"],[1.0,\"#f0f921\"]]}],\"heatmapgl\":[{\"type\":\"heatmapgl\",\"colorbar\":{\"outlinewidth\":0,\"ticks\":\"\"},\"colorscale\":[[0.0,\"#0d0887\"],[0.1111111111111111,\"#46039f\"],[0.2222222222222222,\"#7201a8\"],[0.3333333333333333,\"#9c179e\"],[0.4444444444444444,\"#bd3786\"],[0.5555555555555556,\"#d8576b\"],[0.6666666666666666,\"#ed7953\"],[0.7777777777777778,\"#fb9f3a\"],[0.8888888888888888,\"#fdca26\"],[1.0,\"#f0f921\"]]}],\"contourcarpet\":[{\"type\":\"contourcarpet\",\"colorbar\":{\"outlinewidth\":0,\"ticks\":\"\"}}],\"contour\":[{\"type\":\"contour\",\"colorbar\":{\"outlinewidth\":0,\"ticks\":\"\"},\"colorscale\":[[0.0,\"#0d0887\"],[0.1111111111111111,\"#46039f\"],[0.2222222222222222,\"#7201a8\"],[0.3333333333333333,\"#9c179e\"],[0.4444444444444444,\"#bd3786\"],[0.5555555555555556,\"#d8576b\"],[0.6666666666666666,\"#ed7953\"],[0.7777777777777778,\"#fb9f3a\"],[0.8888888888888888,\"#fdca26\"],[1.0,\"#f0f921\"]]}],\"surface\":[{\"type\":\"surface\",\"colorbar\":{\"outlinewidth\":0,\"ticks\":\"\"},\"colorscale\":[[0.0,\"#0d0887\"],[0.1111111111111111,\"#46039f\"],[0.2222222222222222,\"#7201a8\"],[0.3333333333333333,\"#9c179e\"],[0.4444444444444444,\"#bd3786\"],[0.5555555555555556,\"#d8576b\"],[0.6666666666666666,\"#ed7953\"],[0.7777777777777778,\"#fb9f3a\"],[0.8888888888888888,\"#fdca26\"],[1.0,\"#f0f921\"]]}],\"mesh3d\":[{\"type\":\"mesh3d\",\"colorbar\":{\"outlinewidth\":0,\"ticks\":\"\"}}],\"scatter\":[{\"fillpattern\":{\"fillmode\":\"overlay\",\"size\":10,\"solidity\":0.2},\"type\":\"scatter\"}],\"parcoords\":[{\"type\":\"parcoords\",\"line\":{\"colorbar\":{\"outlinewidth\":0,\"ticks\":\"\"}}}],\"scatterpolargl\":[{\"type\":\"scatterpolargl\",\"marker\":{\"colorbar\":{\"outlinewidth\":0,\"ticks\":\"\"}}}],\"bar\":[{\"error_x\":{\"color\":\"#2a3f5f\"},\"error_y\":{\"color\":\"#2a3f5f\"},\"marker\":{\"line\":{\"color\":\"#E5ECF6\",\"width\":0.5},\"pattern\":{\"fillmode\":\"overlay\",\"size\":10,\"solidity\":0.2}},\"type\":\"bar\"}],\"scattergeo\":[{\"type\":\"scattergeo\",\"marker\":{\"colorbar\":{\"outlinewidth\":0,\"ticks\":\"\"}}}],\"scatterpolar\":[{\"type\":\"scatterpolar\",\"marker\":{\"colorbar\":{\"outlinewidth\":0,\"ticks\":\"\"}}}],\"histogram\":[{\"marker\":{\"pattern\":{\"fillmode\":\"overlay\",\"size\":10,\"solidity\":0.2}},\"type\":\"histogram\"}],\"scattergl\":[{\"type\":\"scattergl\",\"marker\":{\"colorbar\":{\"outlinewidth\":0,\"ticks\":\"\"}}}],\"scatter3d\":[{\"type\":\"scatter3d\",\"line\":{\"colorbar\":{\"outlinewidth\":0,\"ticks\":\"\"}},\"marker\":{\"colorbar\":{\"outlinewidth\":0,\"ticks\":\"\"}}}],\"scattermapbox\":[{\"type\":\"scattermapbox\",\"marker\":{\"colorbar\":{\"outlinewidth\":0,\"ticks\":\"\"}}}],\"scatterternary\":[{\"type\":\"scatterternary\",\"marker\":{\"colorbar\":{\"outlinewidth\":0,\"ticks\":\"\"}}}],\"scattercarpet\":[{\"type\":\"scattercarpet\",\"marker\":{\"colorbar\":{\"outlinewidth\":0,\"ticks\":\"\"}}}],\"carpet\":[{\"aaxis\":{\"endlinecolor\":\"#2a3f5f\",\"gridcolor\":\"white\",\"linecolor\":\"white\",\"minorgridcolor\":\"white\",\"startlinecolor\":\"#2a3f5f\"},\"baxis\":{\"endlinecolor\":\"#2a3f5f\",\"gridcolor\":\"white\",\"linecolor\":\"white\",\"minorgridcolor\":\"white\",\"startlinecolor\":\"#2a3f5f\"},\"type\":\"carpet\"}],\"table\":[{\"cells\":{\"fill\":{\"color\":\"#EBF0F8\"},\"line\":{\"color\":\"white\"}},\"header\":{\"fill\":{\"color\":\"#C8D4E3\"},\"line\":{\"color\":\"white\"}},\"type\":\"table\"}],\"barpolar\":[{\"marker\":{\"line\":{\"color\":\"#E5ECF6\",\"width\":0.5},\"pattern\":{\"fillmode\":\"overlay\",\"size\":10,\"solidity\":0.2}},\"type\":\"barpolar\"}],\"pie\":[{\"automargin\":true,\"type\":\"pie\"}]},\"layout\":{\"autotypenumbers\":\"strict\",\"colorway\":[\"#636efa\",\"#EF553B\",\"#00cc96\",\"#ab63fa\",\"#FFA15A\",\"#19d3f3\",\"#FF6692\",\"#B6E880\",\"#FF97FF\",\"#FECB52\"],\"font\":{\"color\":\"#2a3f5f\"},\"hovermode\":\"closest\",\"hoverlabel\":{\"align\":\"left\"},\"paper_bgcolor\":\"white\",\"plot_bgcolor\":\"#E5ECF6\",\"polar\":{\"bgcolor\":\"#E5ECF6\",\"angularaxis\":{\"gridcolor\":\"white\",\"linecolor\":\"white\",\"ticks\":\"\"},\"radialaxis\":{\"gridcolor\":\"white\",\"linecolor\":\"white\",\"ticks\":\"\"}},\"ternary\":{\"bgcolor\":\"#E5ECF6\",\"aaxis\":{\"gridcolor\":\"white\",\"linecolor\":\"white\",\"ticks\":\"\"},\"baxis\":{\"gridcolor\":\"white\",\"linecolor\":\"white\",\"ticks\":\"\"},\"caxis\":{\"gridcolor\":\"white\",\"linecolor\":\"white\",\"ticks\":\"\"}},\"coloraxis\":{\"colorbar\":{\"outlinewidth\":0,\"ticks\":\"\"}},\"colorscale\":{\"sequential\":[[0.0,\"#0d0887\"],[0.1111111111111111,\"#46039f\"],[0.2222222222222222,\"#7201a8\"],[0.3333333333333333,\"#9c179e\"],[0.4444444444444444,\"#bd3786\"],[0.5555555555555556,\"#d8576b\"],[0.6666666666666666,\"#ed7953\"],[0.7777777777777778,\"#fb9f3a\"],[0.8888888888888888,\"#fdca26\"],[1.0,\"#f0f921\"]],\"sequentialminus\":[[0.0,\"#0d0887\"],[0.1111111111111111,\"#46039f\"],[0.2222222222222222,\"#7201a8\"],[0.3333333333333333,\"#9c179e\"],[0.4444444444444444,\"#bd3786\"],[0.5555555555555556,\"#d8576b\"],[0.6666666666666666,\"#ed7953\"],[0.7777777777777778,\"#fb9f3a\"],[0.8888888888888888,\"#fdca26\"],[1.0,\"#f0f921\"]],\"diverging\":[[0,\"#8e0152\"],[0.1,\"#c51b7d\"],[0.2,\"#de77ae\"],[0.3,\"#f1b6da\"],[0.4,\"#fde0ef\"],[0.5,\"#f7f7f7\"],[0.6,\"#e6f5d0\"],[0.7,\"#b8e186\"],[0.8,\"#7fbc41\"],[0.9,\"#4d9221\"],[1,\"#276419\"]]},\"xaxis\":{\"gridcolor\":\"white\",\"linecolor\":\"white\",\"ticks\":\"\",\"title\":{\"standoff\":15},\"zerolinecolor\":\"white\",\"automargin\":true,\"zerolinewidth\":2},\"yaxis\":{\"gridcolor\":\"white\",\"linecolor\":\"white\",\"ticks\":\"\",\"title\":{\"standoff\":15},\"zerolinecolor\":\"white\",\"automargin\":true,\"zerolinewidth\":2},\"scene\":{\"xaxis\":{\"backgroundcolor\":\"#E5ECF6\",\"gridcolor\":\"white\",\"linecolor\":\"white\",\"showbackground\":true,\"ticks\":\"\",\"zerolinecolor\":\"white\",\"gridwidth\":2},\"yaxis\":{\"backgroundcolor\":\"#E5ECF6\",\"gridcolor\":\"white\",\"linecolor\":\"white\",\"showbackground\":true,\"ticks\":\"\",\"zerolinecolor\":\"white\",\"gridwidth\":2},\"zaxis\":{\"backgroundcolor\":\"#E5ECF6\",\"gridcolor\":\"white\",\"linecolor\":\"white\",\"showbackground\":true,\"ticks\":\"\",\"zerolinecolor\":\"white\",\"gridwidth\":2}},\"shapedefaults\":{\"line\":{\"color\":\"#2a3f5f\"}},\"annotationdefaults\":{\"arrowcolor\":\"#2a3f5f\",\"arrowhead\":0,\"arrowwidth\":1},\"geo\":{\"bgcolor\":\"white\",\"landcolor\":\"#E5ECF6\",\"subunitcolor\":\"white\",\"showland\":true,\"showlakes\":true,\"lakecolor\":\"white\"},\"title\":{\"x\":0.05},\"mapbox\":{\"style\":\"light\"}}},\"legend\":{\"orientation\":\"h\",\"x\":0.5,\"xanchor\":\"center\"},\"xaxis\":{\"gridcolor\":\"lightgrey\",\"title\":{\"text\":\"Timestep\"}},\"yaxis\":{\"gridcolor\":\"lightgrey\",\"title\":{\"text\":\"Stock price\"}},\"title\":{\"text\":\"LSTM 7:2:1 (VLO Stock Price)\",\"x\":0.5},\"margin\":{\"l\":0,\"r\":0,\"t\":30,\"b\":0},\"plot_bgcolor\":\"#FFFFFF\"},                        {\"responsive\": true}                    ).then(function(){\n",
              "                            \n",
              "var gd = document.getElementById('4e321494-5f58-43a5-b5b1-ddbd3e7ed9d2');\n",
              "var x = new MutationObserver(function (mutations, observer) {{\n",
              "        var display = window.getComputedStyle(gd).display;\n",
              "        if (!display || display === 'none') {{\n",
              "            console.log([gd, 'removed!']);\n",
              "            Plotly.purge(gd);\n",
              "            observer.disconnect();\n",
              "        }}\n",
              "}});\n",
              "\n",
              "// Listen for the removal of the full notebook cells\n",
              "var notebookContainer = gd.closest('#notebook-container');\n",
              "if (notebookContainer) {{\n",
              "    x.observe(notebookContainer, {childList: true});\n",
              "}}\n",
              "\n",
              "// Listen for the clearing of the current output cell\n",
              "var outputEl = gd.closest('.output');\n",
              "if (outputEl) {{\n",
              "    x.observe(outputEl, {childList: true});\n",
              "}}\n",
              "\n",
              "                        })                };                            </script>        </div>\n",
              "</body>\n",
              "</html>"
            ]
          },
          "metadata": {}
        }
      ]
    },
    {
      "cell_type": "markdown",
      "source": [
        "\n",
        "\n",
        "*   Plot 3\n",
        "\n"
      ],
      "metadata": {
        "id": "_xdmjnSgf96v"
      }
    },
    {
      "cell_type": "code",
      "source": [
        "prediect_index = pd.RangeIndex(start=1, stop=1+n_days, step=1)\n",
        "\n",
        "fig2 = go.Figure()\n",
        "fig2.add_trace(go.Scatter(x=prediect_index, y=scaler.inverse_transform(lst_output)[:, 0], mode='lines+markers', marker=dict(size=4), name='Next30Days', marker_color='#FF7F0E'))\n",
        "for i in range(len(prediect_index)):\n",
        "  fig2.add_annotation(\n",
        "      x=prediect_index[i],\n",
        "      y=scaler.inverse_transform(lst_output)[i, 0],\n",
        "      text=f\"{scaler.inverse_transform(lst_output)[i, 0]:.2f}\",\n",
        "      showarrow=False,\n",
        "      font=dict(color='black'),\n",
        "      align='center',\n",
        "      yshift=10)\n",
        "\n",
        "fig2.update_layout(legend_orientation=\"h\",\n",
        "                  legend=dict(x=.5, xanchor=\"center\"),\n",
        "                  plot_bgcolor='#FFFFFF',\n",
        "                  xaxis=dict(gridcolor = 'lightgrey'),\n",
        "                  yaxis=dict(gridcolor = 'lightgrey'),\n",
        "                  title_text = f'LSTM Prediction 7:2:1 (VLO Stock Price)', title_x = 0.5,\n",
        "                  xaxis_title=\"Day\",\n",
        "                  yaxis_title=\"Stock price\",\n",
        "                  margin=dict(l=0, r=0, t=30, b=0))\n",
        "fig2.show()"
      ],
      "metadata": {
        "colab": {
          "base_uri": "https://localhost:8080/",
          "height": 542
        },
        "id": "9pGr8nBbfaU9",
        "outputId": "425fdd54-eb83-484a-d9e9-fe29abf6056d"
      },
      "execution_count": null,
      "outputs": [
        {
          "output_type": "display_data",
          "data": {
            "text/html": [
              "<html>\n",
              "<head><meta charset=\"utf-8\" /></head>\n",
              "<body>\n",
              "    <div>            <script src=\"https://cdnjs.cloudflare.com/ajax/libs/mathjax/2.7.5/MathJax.js?config=TeX-AMS-MML_SVG\"></script><script type=\"text/javascript\">if (window.MathJax && window.MathJax.Hub && window.MathJax.Hub.Config) {window.MathJax.Hub.Config({SVG: {font: \"STIX-Web\"}});}</script>                <script type=\"text/javascript\">window.PlotlyConfig = {MathJaxConfig: 'local'};</script>\n",
              "        <script src=\"https://cdn.plot.ly/plotly-2.18.2.min.js\"></script>                <div id=\"2f9614f6-64ac-4a44-b2b3-027069726aa3\" class=\"plotly-graph-div\" style=\"height:525px; width:100%;\"></div>            <script type=\"text/javascript\">                                    window.PLOTLYENV=window.PLOTLYENV || {};                                    if (document.getElementById(\"2f9614f6-64ac-4a44-b2b3-027069726aa3\")) {                    Plotly.newPlot(                        \"2f9614f6-64ac-4a44-b2b3-027069726aa3\",                        [{\"marker\":{\"color\":\"#FF7F0E\",\"size\":4},\"mode\":\"lines+markers\",\"name\":\"Next30Days\",\"x\":[1,2,3,4,5,6,7,8,9,10,11,12,13,14,15,16,17,18,19,20,21,22,23,24,25,26,27,28,29,30],\"y\":[117.46631447989081,116.79101488713168,116.20139191068361,115.6076914267001,114.96980978473805,114.26684888442706,113.49474520625066,112.66229721415327,111.78637445903634,110.88744840669106,109.98575972059534,109.09866753231525,108.2390897773876,107.41499263262699,106.62958634839153,105.88222747580765,105.16950993225144,104.48640502489613,103.82726858807943,103.18674321052836,102.56025481003331,101.94437632194185,101.3367717470827,100.73630106190824,100.14266352401017,99.55624380391072,98.97773430854987,98.40798131307649,97.84778912858246,97.29780120394133],\"type\":\"scatter\"}],                        {\"template\":{\"data\":{\"histogram2dcontour\":[{\"type\":\"histogram2dcontour\",\"colorbar\":{\"outlinewidth\":0,\"ticks\":\"\"},\"colorscale\":[[0.0,\"#0d0887\"],[0.1111111111111111,\"#46039f\"],[0.2222222222222222,\"#7201a8\"],[0.3333333333333333,\"#9c179e\"],[0.4444444444444444,\"#bd3786\"],[0.5555555555555556,\"#d8576b\"],[0.6666666666666666,\"#ed7953\"],[0.7777777777777778,\"#fb9f3a\"],[0.8888888888888888,\"#fdca26\"],[1.0,\"#f0f921\"]]}],\"choropleth\":[{\"type\":\"choropleth\",\"colorbar\":{\"outlinewidth\":0,\"ticks\":\"\"}}],\"histogram2d\":[{\"type\":\"histogram2d\",\"colorbar\":{\"outlinewidth\":0,\"ticks\":\"\"},\"colorscale\":[[0.0,\"#0d0887\"],[0.1111111111111111,\"#46039f\"],[0.2222222222222222,\"#7201a8\"],[0.3333333333333333,\"#9c179e\"],[0.4444444444444444,\"#bd3786\"],[0.5555555555555556,\"#d8576b\"],[0.6666666666666666,\"#ed7953\"],[0.7777777777777778,\"#fb9f3a\"],[0.8888888888888888,\"#fdca26\"],[1.0,\"#f0f921\"]]}],\"heatmap\":[{\"type\":\"heatmap\",\"colorbar\":{\"outlinewidth\":0,\"ticks\":\"\"},\"colorscale\":[[0.0,\"#0d0887\"],[0.1111111111111111,\"#46039f\"],[0.2222222222222222,\"#7201a8\"],[0.3333333333333333,\"#9c179e\"],[0.4444444444444444,\"#bd3786\"],[0.5555555555555556,\"#d8576b\"],[0.6666666666666666,\"#ed7953\"],[0.7777777777777778,\"#fb9f3a\"],[0.8888888888888888,\"#fdca26\"],[1.0,\"#f0f921\"]]}],\"heatmapgl\":[{\"type\":\"heatmapgl\",\"colorbar\":{\"outlinewidth\":0,\"ticks\":\"\"},\"colorscale\":[[0.0,\"#0d0887\"],[0.1111111111111111,\"#46039f\"],[0.2222222222222222,\"#7201a8\"],[0.3333333333333333,\"#9c179e\"],[0.4444444444444444,\"#bd3786\"],[0.5555555555555556,\"#d8576b\"],[0.6666666666666666,\"#ed7953\"],[0.7777777777777778,\"#fb9f3a\"],[0.8888888888888888,\"#fdca26\"],[1.0,\"#f0f921\"]]}],\"contourcarpet\":[{\"type\":\"contourcarpet\",\"colorbar\":{\"outlinewidth\":0,\"ticks\":\"\"}}],\"contour\":[{\"type\":\"contour\",\"colorbar\":{\"outlinewidth\":0,\"ticks\":\"\"},\"colorscale\":[[0.0,\"#0d0887\"],[0.1111111111111111,\"#46039f\"],[0.2222222222222222,\"#7201a8\"],[0.3333333333333333,\"#9c179e\"],[0.4444444444444444,\"#bd3786\"],[0.5555555555555556,\"#d8576b\"],[0.6666666666666666,\"#ed7953\"],[0.7777777777777778,\"#fb9f3a\"],[0.8888888888888888,\"#fdca26\"],[1.0,\"#f0f921\"]]}],\"surface\":[{\"type\":\"surface\",\"colorbar\":{\"outlinewidth\":0,\"ticks\":\"\"},\"colorscale\":[[0.0,\"#0d0887\"],[0.1111111111111111,\"#46039f\"],[0.2222222222222222,\"#7201a8\"],[0.3333333333333333,\"#9c179e\"],[0.4444444444444444,\"#bd3786\"],[0.5555555555555556,\"#d8576b\"],[0.6666666666666666,\"#ed7953\"],[0.7777777777777778,\"#fb9f3a\"],[0.8888888888888888,\"#fdca26\"],[1.0,\"#f0f921\"]]}],\"mesh3d\":[{\"type\":\"mesh3d\",\"colorbar\":{\"outlinewidth\":0,\"ticks\":\"\"}}],\"scatter\":[{\"fillpattern\":{\"fillmode\":\"overlay\",\"size\":10,\"solidity\":0.2},\"type\":\"scatter\"}],\"parcoords\":[{\"type\":\"parcoords\",\"line\":{\"colorbar\":{\"outlinewidth\":0,\"ticks\":\"\"}}}],\"scatterpolargl\":[{\"type\":\"scatterpolargl\",\"marker\":{\"colorbar\":{\"outlinewidth\":0,\"ticks\":\"\"}}}],\"bar\":[{\"error_x\":{\"color\":\"#2a3f5f\"},\"error_y\":{\"color\":\"#2a3f5f\"},\"marker\":{\"line\":{\"color\":\"#E5ECF6\",\"width\":0.5},\"pattern\":{\"fillmode\":\"overlay\",\"size\":10,\"solidity\":0.2}},\"type\":\"bar\"}],\"scattergeo\":[{\"type\":\"scattergeo\",\"marker\":{\"colorbar\":{\"outlinewidth\":0,\"ticks\":\"\"}}}],\"scatterpolar\":[{\"type\":\"scatterpolar\",\"marker\":{\"colorbar\":{\"outlinewidth\":0,\"ticks\":\"\"}}}],\"histogram\":[{\"marker\":{\"pattern\":{\"fillmode\":\"overlay\",\"size\":10,\"solidity\":0.2}},\"type\":\"histogram\"}],\"scattergl\":[{\"type\":\"scattergl\",\"marker\":{\"colorbar\":{\"outlinewidth\":0,\"ticks\":\"\"}}}],\"scatter3d\":[{\"type\":\"scatter3d\",\"line\":{\"colorbar\":{\"outlinewidth\":0,\"ticks\":\"\"}},\"marker\":{\"colorbar\":{\"outlinewidth\":0,\"ticks\":\"\"}}}],\"scattermapbox\":[{\"type\":\"scattermapbox\",\"marker\":{\"colorbar\":{\"outlinewidth\":0,\"ticks\":\"\"}}}],\"scatterternary\":[{\"type\":\"scatterternary\",\"marker\":{\"colorbar\":{\"outlinewidth\":0,\"ticks\":\"\"}}}],\"scattercarpet\":[{\"type\":\"scattercarpet\",\"marker\":{\"colorbar\":{\"outlinewidth\":0,\"ticks\":\"\"}}}],\"carpet\":[{\"aaxis\":{\"endlinecolor\":\"#2a3f5f\",\"gridcolor\":\"white\",\"linecolor\":\"white\",\"minorgridcolor\":\"white\",\"startlinecolor\":\"#2a3f5f\"},\"baxis\":{\"endlinecolor\":\"#2a3f5f\",\"gridcolor\":\"white\",\"linecolor\":\"white\",\"minorgridcolor\":\"white\",\"startlinecolor\":\"#2a3f5f\"},\"type\":\"carpet\"}],\"table\":[{\"cells\":{\"fill\":{\"color\":\"#EBF0F8\"},\"line\":{\"color\":\"white\"}},\"header\":{\"fill\":{\"color\":\"#C8D4E3\"},\"line\":{\"color\":\"white\"}},\"type\":\"table\"}],\"barpolar\":[{\"marker\":{\"line\":{\"color\":\"#E5ECF6\",\"width\":0.5},\"pattern\":{\"fillmode\":\"overlay\",\"size\":10,\"solidity\":0.2}},\"type\":\"barpolar\"}],\"pie\":[{\"automargin\":true,\"type\":\"pie\"}]},\"layout\":{\"autotypenumbers\":\"strict\",\"colorway\":[\"#636efa\",\"#EF553B\",\"#00cc96\",\"#ab63fa\",\"#FFA15A\",\"#19d3f3\",\"#FF6692\",\"#B6E880\",\"#FF97FF\",\"#FECB52\"],\"font\":{\"color\":\"#2a3f5f\"},\"hovermode\":\"closest\",\"hoverlabel\":{\"align\":\"left\"},\"paper_bgcolor\":\"white\",\"plot_bgcolor\":\"#E5ECF6\",\"polar\":{\"bgcolor\":\"#E5ECF6\",\"angularaxis\":{\"gridcolor\":\"white\",\"linecolor\":\"white\",\"ticks\":\"\"},\"radialaxis\":{\"gridcolor\":\"white\",\"linecolor\":\"white\",\"ticks\":\"\"}},\"ternary\":{\"bgcolor\":\"#E5ECF6\",\"aaxis\":{\"gridcolor\":\"white\",\"linecolor\":\"white\",\"ticks\":\"\"},\"baxis\":{\"gridcolor\":\"white\",\"linecolor\":\"white\",\"ticks\":\"\"},\"caxis\":{\"gridcolor\":\"white\",\"linecolor\":\"white\",\"ticks\":\"\"}},\"coloraxis\":{\"colorbar\":{\"outlinewidth\":0,\"ticks\":\"\"}},\"colorscale\":{\"sequential\":[[0.0,\"#0d0887\"],[0.1111111111111111,\"#46039f\"],[0.2222222222222222,\"#7201a8\"],[0.3333333333333333,\"#9c179e\"],[0.4444444444444444,\"#bd3786\"],[0.5555555555555556,\"#d8576b\"],[0.6666666666666666,\"#ed7953\"],[0.7777777777777778,\"#fb9f3a\"],[0.8888888888888888,\"#fdca26\"],[1.0,\"#f0f921\"]],\"sequentialminus\":[[0.0,\"#0d0887\"],[0.1111111111111111,\"#46039f\"],[0.2222222222222222,\"#7201a8\"],[0.3333333333333333,\"#9c179e\"],[0.4444444444444444,\"#bd3786\"],[0.5555555555555556,\"#d8576b\"],[0.6666666666666666,\"#ed7953\"],[0.7777777777777778,\"#fb9f3a\"],[0.8888888888888888,\"#fdca26\"],[1.0,\"#f0f921\"]],\"diverging\":[[0,\"#8e0152\"],[0.1,\"#c51b7d\"],[0.2,\"#de77ae\"],[0.3,\"#f1b6da\"],[0.4,\"#fde0ef\"],[0.5,\"#f7f7f7\"],[0.6,\"#e6f5d0\"],[0.7,\"#b8e186\"],[0.8,\"#7fbc41\"],[0.9,\"#4d9221\"],[1,\"#276419\"]]},\"xaxis\":{\"gridcolor\":\"white\",\"linecolor\":\"white\",\"ticks\":\"\",\"title\":{\"standoff\":15},\"zerolinecolor\":\"white\",\"automargin\":true,\"zerolinewidth\":2},\"yaxis\":{\"gridcolor\":\"white\",\"linecolor\":\"white\",\"ticks\":\"\",\"title\":{\"standoff\":15},\"zerolinecolor\":\"white\",\"automargin\":true,\"zerolinewidth\":2},\"scene\":{\"xaxis\":{\"backgroundcolor\":\"#E5ECF6\",\"gridcolor\":\"white\",\"linecolor\":\"white\",\"showbackground\":true,\"ticks\":\"\",\"zerolinecolor\":\"white\",\"gridwidth\":2},\"yaxis\":{\"backgroundcolor\":\"#E5ECF6\",\"gridcolor\":\"white\",\"linecolor\":\"white\",\"showbackground\":true,\"ticks\":\"\",\"zerolinecolor\":\"white\",\"gridwidth\":2},\"zaxis\":{\"backgroundcolor\":\"#E5ECF6\",\"gridcolor\":\"white\",\"linecolor\":\"white\",\"showbackground\":true,\"ticks\":\"\",\"zerolinecolor\":\"white\",\"gridwidth\":2}},\"shapedefaults\":{\"line\":{\"color\":\"#2a3f5f\"}},\"annotationdefaults\":{\"arrowcolor\":\"#2a3f5f\",\"arrowhead\":0,\"arrowwidth\":1},\"geo\":{\"bgcolor\":\"white\",\"landcolor\":\"#E5ECF6\",\"subunitcolor\":\"white\",\"showland\":true,\"showlakes\":true,\"lakecolor\":\"white\"},\"title\":{\"x\":0.05},\"mapbox\":{\"style\":\"light\"}}},\"annotations\":[{\"align\":\"center\",\"font\":{\"color\":\"black\"},\"showarrow\":false,\"text\":\"117.47\",\"x\":1,\"y\":117.46631447989081,\"yshift\":10},{\"align\":\"center\",\"font\":{\"color\":\"black\"},\"showarrow\":false,\"text\":\"116.79\",\"x\":2,\"y\":116.79101488713168,\"yshift\":10},{\"align\":\"center\",\"font\":{\"color\":\"black\"},\"showarrow\":false,\"text\":\"116.20\",\"x\":3,\"y\":116.20139191068361,\"yshift\":10},{\"align\":\"center\",\"font\":{\"color\":\"black\"},\"showarrow\":false,\"text\":\"115.61\",\"x\":4,\"y\":115.6076914267001,\"yshift\":10},{\"align\":\"center\",\"font\":{\"color\":\"black\"},\"showarrow\":false,\"text\":\"114.97\",\"x\":5,\"y\":114.96980978473805,\"yshift\":10},{\"align\":\"center\",\"font\":{\"color\":\"black\"},\"showarrow\":false,\"text\":\"114.27\",\"x\":6,\"y\":114.26684888442706,\"yshift\":10},{\"align\":\"center\",\"font\":{\"color\":\"black\"},\"showarrow\":false,\"text\":\"113.49\",\"x\":7,\"y\":113.49474520625066,\"yshift\":10},{\"align\":\"center\",\"font\":{\"color\":\"black\"},\"showarrow\":false,\"text\":\"112.66\",\"x\":8,\"y\":112.66229721415327,\"yshift\":10},{\"align\":\"center\",\"font\":{\"color\":\"black\"},\"showarrow\":false,\"text\":\"111.79\",\"x\":9,\"y\":111.78637445903634,\"yshift\":10},{\"align\":\"center\",\"font\":{\"color\":\"black\"},\"showarrow\":false,\"text\":\"110.89\",\"x\":10,\"y\":110.88744840669106,\"yshift\":10},{\"align\":\"center\",\"font\":{\"color\":\"black\"},\"showarrow\":false,\"text\":\"109.99\",\"x\":11,\"y\":109.98575972059534,\"yshift\":10},{\"align\":\"center\",\"font\":{\"color\":\"black\"},\"showarrow\":false,\"text\":\"109.10\",\"x\":12,\"y\":109.09866753231525,\"yshift\":10},{\"align\":\"center\",\"font\":{\"color\":\"black\"},\"showarrow\":false,\"text\":\"108.24\",\"x\":13,\"y\":108.2390897773876,\"yshift\":10},{\"align\":\"center\",\"font\":{\"color\":\"black\"},\"showarrow\":false,\"text\":\"107.41\",\"x\":14,\"y\":107.41499263262699,\"yshift\":10},{\"align\":\"center\",\"font\":{\"color\":\"black\"},\"showarrow\":false,\"text\":\"106.63\",\"x\":15,\"y\":106.62958634839153,\"yshift\":10},{\"align\":\"center\",\"font\":{\"color\":\"black\"},\"showarrow\":false,\"text\":\"105.88\",\"x\":16,\"y\":105.88222747580765,\"yshift\":10},{\"align\":\"center\",\"font\":{\"color\":\"black\"},\"showarrow\":false,\"text\":\"105.17\",\"x\":17,\"y\":105.16950993225144,\"yshift\":10},{\"align\":\"center\",\"font\":{\"color\":\"black\"},\"showarrow\":false,\"text\":\"104.49\",\"x\":18,\"y\":104.48640502489613,\"yshift\":10},{\"align\":\"center\",\"font\":{\"color\":\"black\"},\"showarrow\":false,\"text\":\"103.83\",\"x\":19,\"y\":103.82726858807943,\"yshift\":10},{\"align\":\"center\",\"font\":{\"color\":\"black\"},\"showarrow\":false,\"text\":\"103.19\",\"x\":20,\"y\":103.18674321052836,\"yshift\":10},{\"align\":\"center\",\"font\":{\"color\":\"black\"},\"showarrow\":false,\"text\":\"102.56\",\"x\":21,\"y\":102.56025481003331,\"yshift\":10},{\"align\":\"center\",\"font\":{\"color\":\"black\"},\"showarrow\":false,\"text\":\"101.94\",\"x\":22,\"y\":101.94437632194185,\"yshift\":10},{\"align\":\"center\",\"font\":{\"color\":\"black\"},\"showarrow\":false,\"text\":\"101.34\",\"x\":23,\"y\":101.3367717470827,\"yshift\":10},{\"align\":\"center\",\"font\":{\"color\":\"black\"},\"showarrow\":false,\"text\":\"100.74\",\"x\":24,\"y\":100.73630106190824,\"yshift\":10},{\"align\":\"center\",\"font\":{\"color\":\"black\"},\"showarrow\":false,\"text\":\"100.14\",\"x\":25,\"y\":100.14266352401017,\"yshift\":10},{\"align\":\"center\",\"font\":{\"color\":\"black\"},\"showarrow\":false,\"text\":\"99.56\",\"x\":26,\"y\":99.55624380391072,\"yshift\":10},{\"align\":\"center\",\"font\":{\"color\":\"black\"},\"showarrow\":false,\"text\":\"98.98\",\"x\":27,\"y\":98.97773430854987,\"yshift\":10},{\"align\":\"center\",\"font\":{\"color\":\"black\"},\"showarrow\":false,\"text\":\"98.41\",\"x\":28,\"y\":98.40798131307649,\"yshift\":10},{\"align\":\"center\",\"font\":{\"color\":\"black\"},\"showarrow\":false,\"text\":\"97.85\",\"x\":29,\"y\":97.84778912858246,\"yshift\":10},{\"align\":\"center\",\"font\":{\"color\":\"black\"},\"showarrow\":false,\"text\":\"97.30\",\"x\":30,\"y\":97.29780120394133,\"yshift\":10}],\"legend\":{\"orientation\":\"h\",\"x\":0.5,\"xanchor\":\"center\"},\"xaxis\":{\"gridcolor\":\"lightgrey\",\"title\":{\"text\":\"Day\"}},\"yaxis\":{\"gridcolor\":\"lightgrey\",\"title\":{\"text\":\"Stock price\"}},\"title\":{\"text\":\"LSTM Prediction 7:2:1 (VLO Stock Price)\",\"x\":0.5},\"margin\":{\"l\":0,\"r\":0,\"t\":30,\"b\":0},\"plot_bgcolor\":\"#FFFFFF\"},                        {\"responsive\": true}                    ).then(function(){\n",
              "                            \n",
              "var gd = document.getElementById('2f9614f6-64ac-4a44-b2b3-027069726aa3');\n",
              "var x = new MutationObserver(function (mutations, observer) {{\n",
              "        var display = window.getComputedStyle(gd).display;\n",
              "        if (!display || display === 'none') {{\n",
              "            console.log([gd, 'removed!']);\n",
              "            Plotly.purge(gd);\n",
              "            observer.disconnect();\n",
              "        }}\n",
              "}});\n",
              "\n",
              "// Listen for the removal of the full notebook cells\n",
              "var notebookContainer = gd.closest('#notebook-container');\n",
              "if (notebookContainer) {{\n",
              "    x.observe(notebookContainer, {childList: true});\n",
              "}}\n",
              "\n",
              "// Listen for the clearing of the current output cell\n",
              "var outputEl = gd.closest('.output');\n",
              "if (outputEl) {{\n",
              "    x.observe(outputEl, {childList: true});\n",
              "}}\n",
              "\n",
              "                        })                };                            </script>        </div>\n",
              "</body>\n",
              "</html>"
            ]
          },
          "metadata": {}
        }
      ]
    }
  ]
}