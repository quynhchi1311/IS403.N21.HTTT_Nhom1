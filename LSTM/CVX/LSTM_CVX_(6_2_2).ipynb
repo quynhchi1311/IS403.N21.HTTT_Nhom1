{
  "nbformat": 4,
  "nbformat_minor": 0,
  "metadata": {
    "colab": {
      "provenance": []
    },
    "kernelspec": {
      "name": "python3",
      "display_name": "Python 3"
    },
    "language_info": {
      "name": "python"
    }
  },
  "cells": [
    {
      "cell_type": "markdown",
      "source": [
        "**DATA PREPARATION**"
      ],
      "metadata": {
        "id": "4w7KzhlSASHN"
      }
    },
    {
      "cell_type": "markdown",
      "source": [
        "\n",
        "\n",
        "*   Import Packages\n",
        "\n"
      ],
      "metadata": {
        "id": "UzfCedliy6kB"
      }
    },
    {
      "cell_type": "code",
      "execution_count": null,
      "metadata": {
        "id": "DJvq4_oIyN4X"
      },
      "outputs": [],
      "source": [
        "import numpy as np\n",
        "import pandas as pd\n",
        "from sklearn.preprocessing import MinMaxScaler\n",
        "import matplotlib.pyplot as plt\n",
        "import math"
      ]
    },
    {
      "cell_type": "markdown",
      "source": [
        "\n",
        "\n",
        "*   Read data from a CSV file\n",
        "\n"
      ],
      "metadata": {
        "id": "2MOt0XOczD8J"
      }
    },
    {
      "cell_type": "code",
      "source": [
        "data = pd.read_csv('/content/drive/MyDrive/Colab Notebooks/CVX.csv')"
      ],
      "metadata": {
        "id": "ONvCXaTJzJtn"
      },
      "execution_count": null,
      "outputs": []
    },
    {
      "cell_type": "code",
      "source": [
        "data.head()"
      ],
      "metadata": {
        "colab": {
          "base_uri": "https://localhost:8080/",
          "height": 206
        },
        "id": "Zr8u2xNp1CIz",
        "outputId": "da6c8eff-2139-47ae-c5aa-73cfdd415037"
      },
      "execution_count": null,
      "outputs": [
        {
          "output_type": "execute_result",
          "data": {
            "text/plain": [
              "         Date        Open        High         Low       Close   Adj Close  \\\n",
              "0  2018-01-02  125.709999  127.739998  125.540001  127.580002  100.577354   \n",
              "1  2018-01-03  127.459999  128.940002  126.900002  128.509995  101.310501   \n",
              "2  2018-01-04  127.949997  128.350006  127.220001  128.110001  100.995163   \n",
              "3  2018-01-05  127.970001  128.100006  127.099998  127.900002  100.829620   \n",
              "4  2018-01-08  127.860001  128.630005  127.629997  128.529999  101.326271   \n",
              "\n",
              "    Volume  \n",
              "0  5626000  \n",
              "1  5805500  \n",
              "2  4598300  \n",
              "3  4189200  \n",
              "4  4826100  "
            ],
            "text/html": [
              "\n",
              "  <div id=\"df-4a073712-5077-48b8-950c-d978ca978c6c\">\n",
              "    <div class=\"colab-df-container\">\n",
              "      <div>\n",
              "<style scoped>\n",
              "    .dataframe tbody tr th:only-of-type {\n",
              "        vertical-align: middle;\n",
              "    }\n",
              "\n",
              "    .dataframe tbody tr th {\n",
              "        vertical-align: top;\n",
              "    }\n",
              "\n",
              "    .dataframe thead th {\n",
              "        text-align: right;\n",
              "    }\n",
              "</style>\n",
              "<table border=\"1\" class=\"dataframe\">\n",
              "  <thead>\n",
              "    <tr style=\"text-align: right;\">\n",
              "      <th></th>\n",
              "      <th>Date</th>\n",
              "      <th>Open</th>\n",
              "      <th>High</th>\n",
              "      <th>Low</th>\n",
              "      <th>Close</th>\n",
              "      <th>Adj Close</th>\n",
              "      <th>Volume</th>\n",
              "    </tr>\n",
              "  </thead>\n",
              "  <tbody>\n",
              "    <tr>\n",
              "      <th>0</th>\n",
              "      <td>2018-01-02</td>\n",
              "      <td>125.709999</td>\n",
              "      <td>127.739998</td>\n",
              "      <td>125.540001</td>\n",
              "      <td>127.580002</td>\n",
              "      <td>100.577354</td>\n",
              "      <td>5626000</td>\n",
              "    </tr>\n",
              "    <tr>\n",
              "      <th>1</th>\n",
              "      <td>2018-01-03</td>\n",
              "      <td>127.459999</td>\n",
              "      <td>128.940002</td>\n",
              "      <td>126.900002</td>\n",
              "      <td>128.509995</td>\n",
              "      <td>101.310501</td>\n",
              "      <td>5805500</td>\n",
              "    </tr>\n",
              "    <tr>\n",
              "      <th>2</th>\n",
              "      <td>2018-01-04</td>\n",
              "      <td>127.949997</td>\n",
              "      <td>128.350006</td>\n",
              "      <td>127.220001</td>\n",
              "      <td>128.110001</td>\n",
              "      <td>100.995163</td>\n",
              "      <td>4598300</td>\n",
              "    </tr>\n",
              "    <tr>\n",
              "      <th>3</th>\n",
              "      <td>2018-01-05</td>\n",
              "      <td>127.970001</td>\n",
              "      <td>128.100006</td>\n",
              "      <td>127.099998</td>\n",
              "      <td>127.900002</td>\n",
              "      <td>100.829620</td>\n",
              "      <td>4189200</td>\n",
              "    </tr>\n",
              "    <tr>\n",
              "      <th>4</th>\n",
              "      <td>2018-01-08</td>\n",
              "      <td>127.860001</td>\n",
              "      <td>128.630005</td>\n",
              "      <td>127.629997</td>\n",
              "      <td>128.529999</td>\n",
              "      <td>101.326271</td>\n",
              "      <td>4826100</td>\n",
              "    </tr>\n",
              "  </tbody>\n",
              "</table>\n",
              "</div>\n",
              "      <button class=\"colab-df-convert\" onclick=\"convertToInteractive('df-4a073712-5077-48b8-950c-d978ca978c6c')\"\n",
              "              title=\"Convert this dataframe to an interactive table.\"\n",
              "              style=\"display:none;\">\n",
              "        \n",
              "  <svg xmlns=\"http://www.w3.org/2000/svg\" height=\"24px\"viewBox=\"0 0 24 24\"\n",
              "       width=\"24px\">\n",
              "    <path d=\"M0 0h24v24H0V0z\" fill=\"none\"/>\n",
              "    <path d=\"M18.56 5.44l.94 2.06.94-2.06 2.06-.94-2.06-.94-.94-2.06-.94 2.06-2.06.94zm-11 1L8.5 8.5l.94-2.06 2.06-.94-2.06-.94L8.5 2.5l-.94 2.06-2.06.94zm10 10l.94 2.06.94-2.06 2.06-.94-2.06-.94-.94-2.06-.94 2.06-2.06.94z\"/><path d=\"M17.41 7.96l-1.37-1.37c-.4-.4-.92-.59-1.43-.59-.52 0-1.04.2-1.43.59L10.3 9.45l-7.72 7.72c-.78.78-.78 2.05 0 2.83L4 21.41c.39.39.9.59 1.41.59.51 0 1.02-.2 1.41-.59l7.78-7.78 2.81-2.81c.8-.78.8-2.07 0-2.86zM5.41 20L4 18.59l7.72-7.72 1.47 1.35L5.41 20z\"/>\n",
              "  </svg>\n",
              "      </button>\n",
              "      \n",
              "  <style>\n",
              "    .colab-df-container {\n",
              "      display:flex;\n",
              "      flex-wrap:wrap;\n",
              "      gap: 12px;\n",
              "    }\n",
              "\n",
              "    .colab-df-convert {\n",
              "      background-color: #E8F0FE;\n",
              "      border: none;\n",
              "      border-radius: 50%;\n",
              "      cursor: pointer;\n",
              "      display: none;\n",
              "      fill: #1967D2;\n",
              "      height: 32px;\n",
              "      padding: 0 0 0 0;\n",
              "      width: 32px;\n",
              "    }\n",
              "\n",
              "    .colab-df-convert:hover {\n",
              "      background-color: #E2EBFA;\n",
              "      box-shadow: 0px 1px 2px rgba(60, 64, 67, 0.3), 0px 1px 3px 1px rgba(60, 64, 67, 0.15);\n",
              "      fill: #174EA6;\n",
              "    }\n",
              "\n",
              "    [theme=dark] .colab-df-convert {\n",
              "      background-color: #3B4455;\n",
              "      fill: #D2E3FC;\n",
              "    }\n",
              "\n",
              "    [theme=dark] .colab-df-convert:hover {\n",
              "      background-color: #434B5C;\n",
              "      box-shadow: 0px 1px 3px 1px rgba(0, 0, 0, 0.15);\n",
              "      filter: drop-shadow(0px 1px 2px rgba(0, 0, 0, 0.3));\n",
              "      fill: #FFFFFF;\n",
              "    }\n",
              "  </style>\n",
              "\n",
              "      <script>\n",
              "        const buttonEl =\n",
              "          document.querySelector('#df-4a073712-5077-48b8-950c-d978ca978c6c button.colab-df-convert');\n",
              "        buttonEl.style.display =\n",
              "          google.colab.kernel.accessAllowed ? 'block' : 'none';\n",
              "\n",
              "        async function convertToInteractive(key) {\n",
              "          const element = document.querySelector('#df-4a073712-5077-48b8-950c-d978ca978c6c');\n",
              "          const dataTable =\n",
              "            await google.colab.kernel.invokeFunction('convertToInteractive',\n",
              "                                                     [key], {});\n",
              "          if (!dataTable) return;\n",
              "\n",
              "          const docLinkHtml = 'Like what you see? Visit the ' +\n",
              "            '<a target=\"_blank\" href=https://colab.research.google.com/notebooks/data_table.ipynb>data table notebook</a>'\n",
              "            + ' to learn more about interactive tables.';\n",
              "          element.innerHTML = '';\n",
              "          dataTable['output_type'] = 'display_data';\n",
              "          await google.colab.output.renderOutput(dataTable, element);\n",
              "          const docLink = document.createElement('div');\n",
              "          docLink.innerHTML = docLinkHtml;\n",
              "          element.appendChild(docLink);\n",
              "        }\n",
              "      </script>\n",
              "    </div>\n",
              "  </div>\n",
              "  "
            ]
          },
          "metadata": {},
          "execution_count": 3
        }
      ]
    },
    {
      "cell_type": "markdown",
      "source": [
        "\n",
        "\n",
        "*   Visualize the stock price history\n"
      ],
      "metadata": {
        "id": "uHHB9NrG_v4q"
      }
    },
    {
      "cell_type": "code",
      "source": [
        "data['Date'] = pd.to_datetime(data['Date'])\n",
        "data.set_index('Date', inplace=True)\n",
        "\n",
        "plt.figure(figsize=(15, 8))\n",
        "plt.title(' CVX Stock Prices History')\n",
        "plt.plot(data['Close'])\n",
        "plt.xlabel('Date')\n",
        "plt.ylabel('Prices ($)')"
      ],
      "metadata": {
        "colab": {
          "base_uri": "https://localhost:8080/",
          "height": 735
        },
        "id": "-H8E_vWd_0fK",
        "outputId": "5bdc2239-3c05-47d1-9c4d-e919902c2c5a"
      },
      "execution_count": null,
      "outputs": [
        {
          "output_type": "execute_result",
          "data": {
            "text/plain": [
              "Text(0, 0.5, 'Prices ($)')"
            ]
          },
          "metadata": {},
          "execution_count": 4
        },
        {
          "output_type": "display_data",
          "data": {
            "text/plain": [
              "<Figure size 1500x800 with 1 Axes>"
            ],
            "image/png": "[encoded data removed]"
          },
          "metadata": {}
        }
      ]
    },
    {
      "cell_type": "markdown",
      "source": [
        "**DATA PREPROCESSING**"
      ],
      "metadata": {
        "id": "qebVzTumyx6O"
      }
    },
    {
      "cell_type": "markdown",
      "source": [
        "\n",
        "\n",
        "*   Normalize data using the MinMaxScaler method\n",
        "\n",
        "\n"
      ],
      "metadata": {
        "id": "slDhNXid1hGd"
      }
    },
    {
      "cell_type": "code",
      "source": [
        "close_prices = data['Close']\n",
        "values = close_prices.values\n",
        "scaler = MinMaxScaler(feature_range=(0,1))\n",
        "scaled_data = scaler.fit_transform(values.reshape(-1,1))"
      ],
      "metadata": {
        "id": "FOgsefivFzDZ"
      },
      "execution_count": null,
      "outputs": []
    },
    {
      "cell_type": "markdown",
      "source": [
        "\n",
        "\n",
        "*   Split data into train, test, and validation sets with a ratio of 6:2:2\n",
        "\n",
        "\n"
      ],
      "metadata": {
        "id": "8_03S3p_1RxZ"
      }
    },
    {
      "cell_type": "code",
      "source": [
        "train_size = int(len(scaled_data) * 0.6)\n",
        "test_size = int(len(scaled_data) * 0.2)\n",
        "val_size = len(scaled_data) - train_size - test_size\n",
        "\n",
        "time_step = 60\n",
        "train_data = scaled_data[:train_size, :]\n",
        "test_data = scaled_data[train_size-time_step:train_size+test_size, :]\n",
        "val_data = scaled_data[train_size+test_size-time_step:, :]"
      ],
      "metadata": {
        "id": "o862GL5Z1ZBw"
      },
      "execution_count": null,
      "outputs": []
    },
    {
      "cell_type": "code",
      "source": [
        "print(\"Dataset size: \", len(values), \"\\n\")\n",
        "\n",
        "print(\"Train size: \", train_size)\n",
        "print(\"Test size: \", test_size)\n",
        "print(\"Valate size: \", val_size)"
      ],
      "metadata": {
        "colab": {
          "base_uri": "https://localhost:8080/"
        },
        "id": "VCW1wDSO4Fcp",
        "outputId": "1ccc9801-44ad-41bd-be56-af4c512e549b"
      },
      "execution_count": null,
      "outputs": [
        {
          "output_type": "stream",
          "name": "stdout",
          "text": [
            "Dataset size:  1337 \n",
            "\n",
            "Train size:  802\n",
            "Test size:  267\n",
            "Valate size:  268\n"
          ]
        }
      ]
    },
    {
      "cell_type": "markdown",
      "source": [
        "\n",
        "\n",
        "*   Define the Create Dataset function\n"
      ],
      "metadata": {
        "id": "0spI-OJbFcmp"
      }
    },
    {
      "cell_type": "code",
      "source": [
        "def create_dataset(dataset, time_step):\n",
        "\tdataX, dataY = [], []\n",
        "\tfor i in range(len(dataset)-time_step):\n",
        "\t\ta = dataset[i:(i+time_step), 0]   ###i=0, X=0,1,2,3-----59   Y=60\n",
        "\t\tdataX.append(a)\n",
        "\t\tdataY.append(dataset[i + time_step, 0])\n",
        "\treturn np.array(dataX), np.array(dataY)"
      ],
      "metadata": {
        "id": "VqphtBgzFjH8"
      },
      "execution_count": null,
      "outputs": []
    },
    {
      "cell_type": "markdown",
      "source": [
        "\n",
        "\n",
        "*   Create train, test, and validation datasets\n",
        "\n"
      ],
      "metadata": {
        "id": "eb7YO7jaEV-r"
      }
    },
    {
      "cell_type": "code",
      "source": [
        "X_train, y_train = create_dataset(train_data, time_step)\n",
        "X_val, y_val = create_dataset(val_data, time_step)\n",
        "X_test, y_test = create_dataset(test_data, time_step)"
      ],
      "metadata": {
        "id": "yi7pOx3o6Qs7"
      },
      "execution_count": null,
      "outputs": []
    },
    {
      "cell_type": "markdown",
      "source": [
        "\n",
        "\n",
        "*   Reshape train, test, and validation data (required for LSTM)\n",
        "\n"
      ],
      "metadata": {
        "id": "PMSCGBZYE3fK"
      }
    },
    {
      "cell_type": "code",
      "source": [
        "X_train = np.reshape(X_train, (X_train.shape[0], X_train.shape[1], 1))\n",
        "X_val = np.reshape(X_val, (X_val.shape[0], X_val.shape[1], 1))\n",
        "X_test = np.reshape(X_test, (X_test.shape[0], X_test.shape[1], 1))"
      ],
      "metadata": {
        "id": "AY3lYGe5E45C"
      },
      "execution_count": null,
      "outputs": []
    },
    {
      "cell_type": "markdown",
      "source": [
        "**BUILD LSTM MODEL**"
      ],
      "metadata": {
        "id": "j8MaaR2k61-u"
      }
    },
    {
      "cell_type": "markdown",
      "source": [
        "\n",
        "\n",
        "*   Import Packages\n"
      ],
      "metadata": {
        "id": "E6wE5u6Y636f"
      }
    },
    {
      "cell_type": "code",
      "source": [
        "from keras.models import Sequential\n",
        "from keras.layers import LSTM\n",
        "from keras.layers import Dropout\n",
        "from keras.layers import Dense"
      ],
      "metadata": {
        "id": "M0AYf7Wy67zO"
      },
      "execution_count": null,
      "outputs": []
    },
    {
      "cell_type": "code",
      "source": [
        "model = Sequential()\n",
        "model.add(LSTM(100, return_sequences=True, input_shape=(X_train.shape[1], 1)))\n",
        "model.add(LSTM(100, return_sequences=False))\n",
        "model.add(Dense(50))\n",
        "model.add(Dense(1))\n",
        "model.summary()"
      ],
      "metadata": {
        "colab": {
          "base_uri": "https://localhost:8080/"
        },
        "id": "2-mlUXpz7QNy",
        "outputId": "d714d507-07fc-41ab-c38b-a63d082e6b21"
      },
      "execution_count": null,
      "outputs": [
        {
          "output_type": "stream",
          "name": "stdout",
          "text": [
            "Model: \"sequential\"\n",
            "_________________________________________________________________\n",
            " Layer (type)                Output Shape              Param #   \n",
            "=================================================================\n",
            " lstm (LSTM)                 (None, 60, 100)           40800     \n",
            "                                                                 \n",
            " lstm_1 (LSTM)               (None, 100)               80400     \n",
            "                                                                 \n",
            " dense (Dense)               (None, 50)                5050      \n",
            "                                                                 \n",
            " dense_1 (Dense)             (None, 1)                 51        \n",
            "                                                                 \n",
            "=================================================================\n",
            "Total params: 126,301\n",
            "Trainable params: 126,301\n",
            "Non-trainable params: 0\n",
            "_________________________________________________________________\n"
          ]
        }
      ]
    },
    {
      "cell_type": "markdown",
      "source": [
        "*This LSTM model has two LSTM layers with 100 units each, connected to two Dense layers with 50 and 1 unit, respectively.*"
      ],
      "metadata": {
        "id": "KgnQRfzJINHi"
      }
    },
    {
      "cell_type": "markdown",
      "source": [
        "**TRAIN THE MODEL**"
      ],
      "metadata": {
        "id": "Io5GqBkA-bP3"
      }
    },
    {
      "cell_type": "markdown",
      "source": [
        "\n",
        "\n",
        "*   Fit the model with the train data\n",
        "\n"
      ],
      "metadata": {
        "id": "fsNQsjVeJBFw"
      }
    },
    {
      "cell_type": "code",
      "source": [
        "model.compile(optimizer='adam', loss='mean_squared_error')\n",
        "model.fit(X_train, y_train, batch_size=32, epochs=50)"
      ],
      "metadata": {
        "colab": {
          "base_uri": "https://localhost:8080/"
        },
        "id": "NdD1TVYz-l5I",
        "outputId": "b07137f8-85fc-401d-868e-2927c7ca1029"
      },
      "execution_count": null,
      "outputs": [
        {
          "output_type": "stream",
          "name": "stdout",
          "text": [
            "Epoch 1/50\n",
            "24/24 [==============================] - 15s 265ms/step - loss: 0.0209\n",
            "Epoch 2/50\n",
            "24/24 [==============================] - 4s 168ms/step - loss: 0.0024\n",
            "Epoch 3/50\n",
            "24/24 [==============================] - 5s 201ms/step - loss: 0.0014\n",
            "Epoch 4/50\n",
            "24/24 [==============================] - 5s 222ms/step - loss: 0.0012\n",
            "Epoch 5/50\n",
            "24/24 [==============================] - 4s 143ms/step - loss: 0.0011\n",
            "Epoch 6/50\n",
            "24/24 [==============================] - 2s 90ms/step - loss: 0.0010\n",
            "Epoch 7/50\n",
            "24/24 [==============================] - 2s 89ms/step - loss: 0.0010\n",
            "Epoch 8/50\n",
            "24/24 [==============================] - 2s 89ms/step - loss: 9.5461e-04\n",
            "Epoch 9/50\n",
            "24/24 [==============================] - 3s 107ms/step - loss: 9.0746e-04\n",
            "Epoch 10/50\n",
            "24/24 [==============================] - 4s 150ms/step - loss: 8.8454e-04\n",
            "Epoch 11/50\n",
            "24/24 [==============================] - 2s 96ms/step - loss: 7.9997e-04\n",
            "Epoch 12/50\n",
            "24/24 [==============================] - 2s 89ms/step - loss: 7.6830e-04\n",
            "Epoch 13/50\n",
            "24/24 [==============================] - 2s 90ms/step - loss: 8.0576e-04\n",
            "Epoch 14/50\n",
            "24/24 [==============================] - 2s 90ms/step - loss: 7.3540e-04\n",
            "Epoch 15/50\n",
            "24/24 [==============================] - 2s 103ms/step - loss: 7.1489e-04\n",
            "Epoch 16/50\n",
            "24/24 [==============================] - 4s 150ms/step - loss: 6.7199e-04\n",
            "Epoch 17/50\n",
            "24/24 [==============================] - 3s 103ms/step - loss: 6.7110e-04\n",
            "Epoch 18/50\n",
            "24/24 [==============================] - 2s 90ms/step - loss: 6.5238e-04\n",
            "Epoch 19/50\n",
            "24/24 [==============================] - 2s 89ms/step - loss: 7.1090e-04\n",
            "Epoch 20/50\n",
            "24/24 [==============================] - 2s 89ms/step - loss: 6.4942e-04\n",
            "Epoch 21/50\n",
            "24/24 [==============================] - 2s 95ms/step - loss: 6.4262e-04\n",
            "Epoch 22/50\n",
            "24/24 [==============================] - 4s 154ms/step - loss: 5.9600e-04\n",
            "Epoch 23/50\n",
            "24/24 [==============================] - 3s 110ms/step - loss: 5.5579e-04\n",
            "Epoch 24/50\n",
            "24/24 [==============================] - 2s 90ms/step - loss: 5.5251e-04\n",
            "Epoch 25/50\n",
            "24/24 [==============================] - 2s 91ms/step - loss: 5.3397e-04\n",
            "Epoch 26/50\n",
            "24/24 [==============================] - 2s 92ms/step - loss: 5.4198e-04\n",
            "Epoch 27/50\n",
            "24/24 [==============================] - 2s 94ms/step - loss: 5.6698e-04\n",
            "Epoch 28/50\n",
            "24/24 [==============================] - 4s 149ms/step - loss: 5.3592e-04\n",
            "Epoch 29/50\n",
            "24/24 [==============================] - 3s 111ms/step - loss: 5.0069e-04\n",
            "Epoch 30/50\n",
            "24/24 [==============================] - 2s 90ms/step - loss: 5.6549e-04\n",
            "Epoch 31/50\n",
            "24/24 [==============================] - 2s 91ms/step - loss: 5.8822e-04\n",
            "Epoch 32/50\n",
            "24/24 [==============================] - 2s 89ms/step - loss: 5.2630e-04\n",
            "Epoch 33/50\n",
            "24/24 [==============================] - 2s 90ms/step - loss: 5.1054e-04\n",
            "Epoch 34/50\n",
            "24/24 [==============================] - 4s 149ms/step - loss: 5.1672e-04\n",
            "Epoch 35/50\n",
            "24/24 [==============================] - 3s 115ms/step - loss: 4.5998e-04\n",
            "Epoch 36/50\n",
            "24/24 [==============================] - 2s 91ms/step - loss: 5.3882e-04\n",
            "Epoch 37/50\n",
            "24/24 [==============================] - 2s 92ms/step - loss: 4.6001e-04\n",
            "Epoch 38/50\n",
            "24/24 [==============================] - 2s 90ms/step - loss: 4.6905e-04\n",
            "Epoch 39/50\n",
            "24/24 [==============================] - 2s 90ms/step - loss: 4.5603e-04\n",
            "Epoch 40/50\n",
            "24/24 [==============================] - 3s 146ms/step - loss: 4.3570e-04\n",
            "Epoch 41/50\n",
            "24/24 [==============================] - 4s 138ms/step - loss: 4.2094e-04\n",
            "Epoch 42/50\n",
            "24/24 [==============================] - 2s 88ms/step - loss: 4.5172e-04\n",
            "Epoch 43/50\n",
            "24/24 [==============================] - 2s 88ms/step - loss: 5.2484e-04\n",
            "Epoch 44/50\n",
            "24/24 [==============================] - 2s 91ms/step - loss: 4.4510e-04\n",
            "Epoch 45/50\n",
            "24/24 [==============================] - 2s 93ms/step - loss: 4.1369e-04\n",
            "Epoch 46/50\n",
            "24/24 [==============================] - 4s 149ms/step - loss: 3.9746e-04\n",
            "Epoch 47/50\n",
            "24/24 [==============================] - 3s 112ms/step - loss: 4.0177e-04\n",
            "Epoch 48/50\n",
            "24/24 [==============================] - 2s 90ms/step - loss: 3.9902e-04\n",
            "Epoch 49/50\n",
            "24/24 [==============================] - 2s 90ms/step - loss: 4.0429e-04\n",
            "Epoch 50/50\n",
            "24/24 [==============================] - 2s 89ms/step - loss: 4.6541e-04\n"
          ]
        },
        {
          "output_type": "execute_result",
          "data": {
            "text/plain": [
              "<keras.callbacks.History at 0x7f6a504a9fc0>"
            ]
          },
          "metadata": {},
          "execution_count": 13
        }
      ]
    },
    {
      "cell_type": "markdown",
      "source": [
        "\n",
        "\n",
        "*   PLotting loss, it shows that loss has decreased significantly and model trained well\n",
        "\n"
      ],
      "metadata": {
        "id": "7V2Kwc9sJXFK"
      }
    },
    {
      "cell_type": "code",
      "source": [
        "loss = model.history.history['loss']\n",
        "plt.plot(loss)"
      ],
      "metadata": {
        "colab": {
          "base_uri": "https://localhost:8080/",
          "height": 447
        },
        "id": "OBTBo-32tfXc",
        "outputId": "a32051fa-5187-4319-f1c7-1e3c5b708a4f"
      },
      "execution_count": null,
      "outputs": [
        {
          "output_type": "execute_result",
          "data": {
            "text/plain": [
              "[<matplotlib.lines.Line2D at 0x7f6a4a5b6c20>]"
            ]
          },
          "metadata": {},
          "execution_count": 14
        },
        {
          "output_type": "display_data",
          "data": {
            "text/plain": [
              "<Figure size 640x480 with 1 Axes>"
            ],
            "image/png": "[encoded data removed]"
          },
          "metadata": {}
        }
      ]
    },
    {
      "cell_type": "markdown",
      "source": [
        "**PREDICTION AND EVALUATION ON TEST DATA**"
      ],
      "metadata": {
        "id": "rJ51q4Ewwafk"
      }
    },
    {
      "cell_type": "markdown",
      "source": [
        "\n",
        "\n",
        "*   Make predictions on test and validation data\n",
        "\n"
      ],
      "metadata": {
        "id": "F7tiWcRktA5G"
      }
    },
    {
      "cell_type": "code",
      "source": [
        "y_pred=model.predict(X_test)\n",
        "y_pred_val=model.predict(X_val)"
      ],
      "metadata": {
        "colab": {
          "base_uri": "https://localhost:8080/"
        },
        "id": "0MoMNpa1FRJW",
        "outputId": "ae8589c0-f958-40b0-bf22-8148c6ec5889"
      },
      "execution_count": null,
      "outputs": [
        {
          "output_type": "stream",
          "name": "stdout",
          "text": [
            "9/9 [==============================] - 2s 35ms/step\n",
            "9/9 [==============================] - 0s 29ms/step\n"
          ]
        }
      ]
    },
    {
      "cell_type": "markdown",
      "source": [
        "\n",
        "\n",
        "*   Convert the predictions back to the original values\n",
        "\n"
      ],
      "metadata": {
        "id": "uoKYcePvFTJ9"
      }
    },
    {
      "cell_type": "code",
      "source": [
        "y_pred=scaler.inverse_transform(y_pred)\n",
        "y_test = scaler.inverse_transform(y_test.reshape(-1, 1))\n",
        "\n",
        "y_pred_val=scaler.inverse_transform(y_pred_val)\n",
        "y_val = scaler.inverse_transform(y_val.reshape(-1, 1))"
      ],
      "metadata": {
        "id": "DKfMNwjSFVyT"
      },
      "execution_count": null,
      "outputs": []
    },
    {
      "cell_type": "markdown",
      "source": [
        "\n",
        "\n",
        "*   Evaluate the algorithm's accuracy using RMSE, MAPE, MDA\n",
        "\n"
      ],
      "metadata": {
        "id": "ppy3h9JWLxCA"
      }
    },
    {
      "cell_type": "code",
      "source": [
        "# MAPE\n",
        "def calculate_mape(y_true, y_pred):\n",
        "    return np.mean(np.abs((y_true - y_pred) / y_true)) * 100\n",
        "\n",
        "# MDA\n",
        "def calculate_mda(y_true, y_pred):\n",
        "    y_true_diff = np.diff(y_true)\n",
        "    y_pred_diff = np.diff(y_pred)\n",
        "    correct_direction = np.sign(y_true_diff) == np.sign(y_pred_diff)\n",
        "    return np.mean(correct_direction) * 100\n",
        "\n",
        "# Using RMSE, MAPE và MDA\n",
        "valid_rmse = np.sqrt(np.mean((y_val- y_pred_val) ** 2))\n",
        "test_rmse = np.sqrt(np.mean((y_test - y_pred) ** 2))\n",
        "\n",
        "valid_mape = calculate_mape(y_val, y_pred_val)\n",
        "test_mape = calculate_mape(y_test, y_pred)\n",
        "\n",
        "valid_mda = calculate_mda(np.squeeze(y_val), np.squeeze(y_pred_val)) # Squeeze y_val and y_pred_val to 1D arrays\n",
        "test_mda = calculate_mda(np.squeeze(y_test), np.squeeze(y_pred)) # Squeeze y_test and y_pred to 1D arrays\n",
        "\n",
        "# Print results\n",
        "print('Validation RMSE:', valid_rmse)\n",
        "print('Testing RMSE:', test_rmse)\n",
        "print('Validation MAPE:', valid_mape)\n",
        "print('Testing MAPE:', test_mape)\n",
        "print('Validation MDA:', valid_mda)\n",
        "print('Testing MDA:', test_mda)"
      ],
      "metadata": {
        "colab": {
          "base_uri": "https://localhost:8080/"
        },
        "id": "Acc1OQf7G7VD",
        "outputId": "2fbca172-2496-4f60-93c9-1f3120e81ac7"
      },
      "execution_count": null,
      "outputs": [
        {
          "output_type": "stream",
          "name": "stdout",
          "text": [
            "Validation RMSE: 3.8824461989112713\n",
            "Testing RMSE: 2.477745188863004\n",
            "Validation MAPE: 1.8201225494209876\n",
            "Testing MAPE: 1.582609427005956\n",
            "Validation MDA: 49.812734082397\n",
            "Testing MDA: 48.49624060150376\n"
          ]
        }
      ]
    },
    {
      "cell_type": "markdown",
      "source": [
        "**FORECAST FOR THE NEXT 30 DAYS IN THE FUTURE**"
      ],
      "metadata": {
        "id": "1IkXSXAA6Aiy"
      }
    },
    {
      "cell_type": "code",
      "source": [
        "n_days = 30\n",
        "\n",
        "x_input=scaled_data[-time_step:].reshape(1,-1)\n",
        "\n",
        "temp_input=list(x_input)\n",
        "temp_input=temp_input[0].tolist()\n",
        "\n",
        "from numpy import array\n",
        "\n",
        "lst_output=[]\n",
        "i=0\n",
        "while(i<n_days):\n",
        "\n",
        "    if(len(temp_input)>time_step):\n",
        "        x_input=np.array(temp_input[1:])\n",
        "        print(\"{} day input {}\".format(i,x_input))\n",
        "        x_input=x_input.reshape(1,-1)\n",
        "        x_input = x_input.reshape((1, time_step, 1))\n",
        "        yhat = model.predict(x_input, verbose=0)\n",
        "        print(\"{} day output {}\".format(i,yhat))\n",
        "        temp_input.extend(yhat[0].tolist())\n",
        "        temp_input=temp_input[1:]\n",
        "        #print(temp_input)\n",
        "        lst_output.extend(yhat.tolist())\n",
        "        i=i+1\n",
        "    else:\n",
        "        x_input = x_input.reshape((1, time_step,1))\n",
        "        yhat = model.predict(x_input, verbose=0)\n",
        "        print(yhat[0])\n",
        "        temp_input.extend(yhat[0].tolist())\n",
        "        print(len(temp_input))\n",
        "        lst_output.extend(yhat.tolist())\n",
        "        i=i+1"
      ],
      "metadata": {
        "colab": {
          "base_uri": "https://localhost:8080/"
        },
        "id": "YL28ztzhjl5Z",
        "outputId": "5043ca90-fa17-4a69-cf04-da46435aacfc"
      },
      "execution_count": null,
      "outputs": [
        {
          "output_type": "stream",
          "name": "stdout",
          "text": [
            "[0.868023]\n",
            "61\n",
            "1 day input [0.89516552 0.87528953 0.8577299  0.86101767 0.86243739 0.89568851\n",
            " 0.86512738 0.85347082 0.87984755 0.87267423 0.88246286 0.8577299\n",
            " 0.8394979  0.81170144 0.79787789 0.79302102 0.80482695 0.80841367\n",
            " 0.81147728 0.79615932 0.80572368 0.80953445 0.82746772 0.83650897\n",
            " 0.82051854 0.81274753 0.79421649 0.78793989 0.78076668 0.79608453\n",
            " 0.74407831 0.7477396  0.7331689  0.74990659 0.78524991 0.76104016\n",
            " 0.74945828 0.76096537 0.77284608 0.78659495 0.79683179 0.80826419\n",
            " 0.81401779 0.86475375 0.85795405 0.86423076 0.84756774 0.85234992\n",
            " 0.8592991  0.86378244 0.88074418 0.88335948 0.87200176 0.86901294\n",
            " 0.8702084  0.8640066  0.85855184 0.87618616 0.85758053 0.86802298]\n",
            "1 day output [[0.8697043]]\n",
            "2 day input [0.87528953 0.8577299  0.86101767 0.86243739 0.89568851 0.86512738\n",
            " 0.85347082 0.87984755 0.87267423 0.88246286 0.8577299  0.8394979\n",
            " 0.81170144 0.79787789 0.79302102 0.80482695 0.80841367 0.81147728\n",
            " 0.79615932 0.80572368 0.80953445 0.82746772 0.83650897 0.82051854\n",
            " 0.81274753 0.79421649 0.78793989 0.78076668 0.79608453 0.74407831\n",
            " 0.7477396  0.7331689  0.74990659 0.78524991 0.76104016 0.74945828\n",
            " 0.76096537 0.77284608 0.78659495 0.79683179 0.80826419 0.81401779\n",
            " 0.86475375 0.85795405 0.86423076 0.84756774 0.85234992 0.8592991\n",
            " 0.86378244 0.88074418 0.88335948 0.87200176 0.86901294 0.8702084\n",
            " 0.8640066  0.85855184 0.87618616 0.85758053 0.86802298 0.86970431]\n",
            "2 day output [[0.87269294]]\n",
            "3 day input [0.8577299  0.86101767 0.86243739 0.89568851 0.86512738 0.85347082\n",
            " 0.87984755 0.87267423 0.88246286 0.8577299  0.8394979  0.81170144\n",
            " 0.79787789 0.79302102 0.80482695 0.80841367 0.81147728 0.79615932\n",
            " 0.80572368 0.80953445 0.82746772 0.83650897 0.82051854 0.81274753\n",
            " 0.79421649 0.78793989 0.78076668 0.79608453 0.74407831 0.7477396\n",
            " 0.7331689  0.74990659 0.78524991 0.76104016 0.74945828 0.76096537\n",
            " 0.77284608 0.78659495 0.79683179 0.80826419 0.81401779 0.86475375\n",
            " 0.85795405 0.86423076 0.84756774 0.85234992 0.8592991  0.86378244\n",
            " 0.88074418 0.88335948 0.87200176 0.86901294 0.8702084  0.8640066\n",
            " 0.85855184 0.87618616 0.85758053 0.86802298 0.86970431 0.87269294]\n",
            "3 day output [[0.87636304]]\n",
            "4 day input [0.86101767 0.86243739 0.89568851 0.86512738 0.85347082 0.87984755\n",
            " 0.87267423 0.88246286 0.8577299  0.8394979  0.81170144 0.79787789\n",
            " 0.79302102 0.80482695 0.80841367 0.81147728 0.79615932 0.80572368\n",
            " 0.80953445 0.82746772 0.83650897 0.82051854 0.81274753 0.79421649\n",
            " 0.78793989 0.78076668 0.79608453 0.74407831 0.7477396  0.7331689\n",
            " 0.74990659 0.78524991 0.76104016 0.74945828 0.76096537 0.77284608\n",
            " 0.78659495 0.79683179 0.80826419 0.81401779 0.86475375 0.85795405\n",
            " 0.86423076 0.84756774 0.85234992 0.8592991  0.86378244 0.88074418\n",
            " 0.88335948 0.87200176 0.86901294 0.8702084  0.8640066  0.85855184\n",
            " 0.87618616 0.85758053 0.86802298 0.86970431 0.87269294 0.87636304]\n",
            "4 day output [[0.8804598]]\n",
            "5 day input [0.86243739 0.89568851 0.86512738 0.85347082 0.87984755 0.87267423\n",
            " 0.88246286 0.8577299  0.8394979  0.81170144 0.79787789 0.79302102\n",
            " 0.80482695 0.80841367 0.81147728 0.79615932 0.80572368 0.80953445\n",
            " 0.82746772 0.83650897 0.82051854 0.81274753 0.79421649 0.78793989\n",
            " 0.78076668 0.79608453 0.74407831 0.7477396  0.7331689  0.74990659\n",
            " 0.78524991 0.76104016 0.74945828 0.76096537 0.77284608 0.78659495\n",
            " 0.79683179 0.80826419 0.81401779 0.86475375 0.85795405 0.86423076\n",
            " 0.84756774 0.85234992 0.8592991  0.86378244 0.88074418 0.88335948\n",
            " 0.87200176 0.86901294 0.8702084  0.8640066  0.85855184 0.87618616\n",
            " 0.85758053 0.86802298 0.86970431 0.87269294 0.87636304 0.88045979]\n",
            "5 day output [[0.88484484]]\n",
            "6 day input [0.89568851 0.86512738 0.85347082 0.87984755 0.87267423 0.88246286\n",
            " 0.8577299  0.8394979  0.81170144 0.79787789 0.79302102 0.80482695\n",
            " 0.80841367 0.81147728 0.79615932 0.80572368 0.80953445 0.82746772\n",
            " 0.83650897 0.82051854 0.81274753 0.79421649 0.78793989 0.78076668\n",
            " 0.79608453 0.74407831 0.7477396  0.7331689  0.74990659 0.78524991\n",
            " 0.76104016 0.74945828 0.76096537 0.77284608 0.78659495 0.79683179\n",
            " 0.80826419 0.81401779 0.86475375 0.85795405 0.86423076 0.84756774\n",
            " 0.85234992 0.8592991  0.86378244 0.88074418 0.88335948 0.87200176\n",
            " 0.86901294 0.8702084  0.8640066  0.85855184 0.87618616 0.85758053\n",
            " 0.86802298 0.86970431 0.87269294 0.87636304 0.88045979 0.88484484]\n",
            "6 day output [[0.88942796]]\n",
            "7 day input [0.86512738 0.85347082 0.87984755 0.87267423 0.88246286 0.8577299\n",
            " 0.8394979  0.81170144 0.79787789 0.79302102 0.80482695 0.80841367\n",
            " 0.81147728 0.79615932 0.80572368 0.80953445 0.82746772 0.83650897\n",
            " 0.82051854 0.81274753 0.79421649 0.78793989 0.78076668 0.79608453\n",
            " 0.74407831 0.7477396  0.7331689  0.74990659 0.78524991 0.76104016\n",
            " 0.74945828 0.76096537 0.77284608 0.78659495 0.79683179 0.80826419\n",
            " 0.81401779 0.86475375 0.85795405 0.86423076 0.84756774 0.85234992\n",
            " 0.8592991  0.86378244 0.88074418 0.88335948 0.87200176 0.86901294\n",
            " 0.8702084  0.8640066  0.85855184 0.87618616 0.85758053 0.86802298\n",
            " 0.86970431 0.87269294 0.87636304 0.88045979 0.88484484 0.88942796]\n",
            "7 day output [[0.894147]]\n",
            "8 day input [0.85347082 0.87984755 0.87267423 0.88246286 0.8577299  0.8394979\n",
            " 0.81170144 0.79787789 0.79302102 0.80482695 0.80841367 0.81147728\n",
            " 0.79615932 0.80572368 0.80953445 0.82746772 0.83650897 0.82051854\n",
            " 0.81274753 0.79421649 0.78793989 0.78076668 0.79608453 0.74407831\n",
            " 0.7477396  0.7331689  0.74990659 0.78524991 0.76104016 0.74945828\n",
            " 0.76096537 0.77284608 0.78659495 0.79683179 0.80826419 0.81401779\n",
            " 0.86475375 0.85795405 0.86423076 0.84756774 0.85234992 0.8592991\n",
            " 0.86378244 0.88074418 0.88335948 0.87200176 0.86901294 0.8702084\n",
            " 0.8640066  0.85855184 0.87618616 0.85758053 0.86802298 0.86970431\n",
            " 0.87269294 0.87636304 0.88045979 0.88484484 0.88942796 0.89414698]\n",
            "8 day output [[0.898961]]\n",
            "9 day input [0.87984755 0.87267423 0.88246286 0.8577299  0.8394979  0.81170144\n",
            " 0.79787789 0.79302102 0.80482695 0.80841367 0.81147728 0.79615932\n",
            " 0.80572368 0.80953445 0.82746772 0.83650897 0.82051854 0.81274753\n",
            " 0.79421649 0.78793989 0.78076668 0.79608453 0.74407831 0.7477396\n",
            " 0.7331689  0.74990659 0.78524991 0.76104016 0.74945828 0.76096537\n",
            " 0.77284608 0.78659495 0.79683179 0.80826419 0.81401779 0.86475375\n",
            " 0.85795405 0.86423076 0.84756774 0.85234992 0.8592991  0.86378244\n",
            " 0.88074418 0.88335948 0.87200176 0.86901294 0.8702084  0.8640066\n",
            " 0.85855184 0.87618616 0.85758053 0.86802298 0.86970431 0.87269294\n",
            " 0.87636304 0.88045979 0.88484484 0.88942796 0.89414698 0.89896101]\n",
            "9 day output [[0.90384597]]\n",
            "10 day input [0.87267423 0.88246286 0.8577299  0.8394979  0.81170144 0.79787789\n",
            " 0.79302102 0.80482695 0.80841367 0.81147728 0.79615932 0.80572368\n",
            " 0.80953445 0.82746772 0.83650897 0.82051854 0.81274753 0.79421649\n",
            " 0.78793989 0.78076668 0.79608453 0.74407831 0.7477396  0.7331689\n",
            " 0.74990659 0.78524991 0.76104016 0.74945828 0.76096537 0.77284608\n",
            " 0.78659495 0.79683179 0.80826419 0.81401779 0.86475375 0.85795405\n",
            " 0.86423076 0.84756774 0.85234992 0.8592991  0.86378244 0.88074418\n",
            " 0.88335948 0.87200176 0.86901294 0.8702084  0.8640066  0.85855184\n",
            " 0.87618616 0.85758053 0.86802298 0.86970431 0.87269294 0.87636304\n",
            " 0.88045979 0.88484484 0.88942796 0.89414698 0.89896101 0.90384597]\n",
            "10 day output [[0.9087931]]\n",
            "11 day input [0.88246286 0.8577299  0.8394979  0.81170144 0.79787789 0.79302102\n",
            " 0.80482695 0.80841367 0.81147728 0.79615932 0.80572368 0.80953445\n",
            " 0.82746772 0.83650897 0.82051854 0.81274753 0.79421649 0.78793989\n",
            " 0.78076668 0.79608453 0.74407831 0.7477396  0.7331689  0.74990659\n",
            " 0.78524991 0.76104016 0.74945828 0.76096537 0.77284608 0.78659495\n",
            " 0.79683179 0.80826419 0.81401779 0.86475375 0.85795405 0.86423076\n",
            " 0.84756774 0.85234992 0.8592991  0.86378244 0.88074418 0.88335948\n",
            " 0.87200176 0.86901294 0.8702084  0.8640066  0.85855184 0.87618616\n",
            " 0.85758053 0.86802298 0.86970431 0.87269294 0.87636304 0.88045979\n",
            " 0.88484484 0.88942796 0.89414698 0.89896101 0.90384597 0.90879309]\n",
            "11 day output [[0.913805]]\n",
            "12 day input [0.8577299  0.8394979  0.81170144 0.79787789 0.79302102 0.80482695\n",
            " 0.80841367 0.81147728 0.79615932 0.80572368 0.80953445 0.82746772\n",
            " 0.83650897 0.82051854 0.81274753 0.79421649 0.78793989 0.78076668\n",
            " 0.79608453 0.74407831 0.7477396  0.7331689  0.74990659 0.78524991\n",
            " 0.76104016 0.74945828 0.76096537 0.77284608 0.78659495 0.79683179\n",
            " 0.80826419 0.81401779 0.86475375 0.85795405 0.86423076 0.84756774\n",
            " 0.85234992 0.8592991  0.86378244 0.88074418 0.88335948 0.87200176\n",
            " 0.86901294 0.8702084  0.8640066  0.85855184 0.87618616 0.85758053\n",
            " 0.86802298 0.86970431 0.87269294 0.87636304 0.88045979 0.88484484\n",
            " 0.88942796 0.89414698 0.89896101 0.90384597 0.90879309 0.91380501]\n",
            "12 day output [[0.9188926]]\n",
            "13 day input [0.8394979  0.81170144 0.79787789 0.79302102 0.80482695 0.80841367\n",
            " 0.81147728 0.79615932 0.80572368 0.80953445 0.82746772 0.83650897\n",
            " 0.82051854 0.81274753 0.79421649 0.78793989 0.78076668 0.79608453\n",
            " 0.74407831 0.7477396  0.7331689  0.74990659 0.78524991 0.76104016\n",
            " 0.74945828 0.76096537 0.77284608 0.78659495 0.79683179 0.80826419\n",
            " 0.81401779 0.86475375 0.85795405 0.86423076 0.84756774 0.85234992\n",
            " 0.8592991  0.86378244 0.88074418 0.88335948 0.87200176 0.86901294\n",
            " 0.8702084  0.8640066  0.85855184 0.87618616 0.85758053 0.86802298\n",
            " 0.86970431 0.87269294 0.87636304 0.88045979 0.88484484 0.88942796\n",
            " 0.89414698 0.89896101 0.90384597 0.90879309 0.91380501 0.91889262]\n",
            "13 day output [[0.92407316]]\n",
            "14 day input [0.81170144 0.79787789 0.79302102 0.80482695 0.80841367 0.81147728\n",
            " 0.79615932 0.80572368 0.80953445 0.82746772 0.83650897 0.82051854\n",
            " 0.81274753 0.79421649 0.78793989 0.78076668 0.79608453 0.74407831\n",
            " 0.7477396  0.7331689  0.74990659 0.78524991 0.76104016 0.74945828\n",
            " 0.76096537 0.77284608 0.78659495 0.79683179 0.80826419 0.81401779\n",
            " 0.86475375 0.85795405 0.86423076 0.84756774 0.85234992 0.8592991\n",
            " 0.86378244 0.88074418 0.88335948 0.87200176 0.86901294 0.8702084\n",
            " 0.8640066  0.85855184 0.87618616 0.85758053 0.86802298 0.86970431\n",
            " 0.87269294 0.87636304 0.88045979 0.88484484 0.88942796 0.89414698\n",
            " 0.89896101 0.90384597 0.90879309 0.91380501 0.91889262 0.92407316]\n",
            "14 day output [[0.9293677]]\n",
            "15 day input [0.79787789 0.79302102 0.80482695 0.80841367 0.81147728 0.79615932\n",
            " 0.80572368 0.80953445 0.82746772 0.83650897 0.82051854 0.81274753\n",
            " 0.79421649 0.78793989 0.78076668 0.79608453 0.74407831 0.7477396\n",
            " 0.7331689  0.74990659 0.78524991 0.76104016 0.74945828 0.76096537\n",
            " 0.77284608 0.78659495 0.79683179 0.80826419 0.81401779 0.86475375\n",
            " 0.85795405 0.86423076 0.84756774 0.85234992 0.8592991  0.86378244\n",
            " 0.88074418 0.88335948 0.87200176 0.86901294 0.8702084  0.8640066\n",
            " 0.85855184 0.87618616 0.85758053 0.86802298 0.86970431 0.87269294\n",
            " 0.87636304 0.88045979 0.88484484 0.88942796 0.89414698 0.89896101\n",
            " 0.90384597 0.90879309 0.91380501 0.91889262 0.92407316 0.92936772]\n",
            "15 day output [[0.9347987]]\n",
            "16 day input [0.79302102 0.80482695 0.80841367 0.81147728 0.79615932 0.80572368\n",
            " 0.80953445 0.82746772 0.83650897 0.82051854 0.81274753 0.79421649\n",
            " 0.78793989 0.78076668 0.79608453 0.74407831 0.7477396  0.7331689\n",
            " 0.74990659 0.78524991 0.76104016 0.74945828 0.76096537 0.77284608\n",
            " 0.78659495 0.79683179 0.80826419 0.81401779 0.86475375 0.85795405\n",
            " 0.86423076 0.84756774 0.85234992 0.8592991  0.86378244 0.88074418\n",
            " 0.88335948 0.87200176 0.86901294 0.8702084  0.8640066  0.85855184\n",
            " 0.87618616 0.85758053 0.86802298 0.86970431 0.87269294 0.87636304\n",
            " 0.88045979 0.88484484 0.88942796 0.89414698 0.89896101 0.90384597\n",
            " 0.90879309 0.91380501 0.91889262 0.92407316 0.92936772 0.93479872]\n",
            "16 day output [[0.9403885]]\n",
            "17 day input [0.80482695 0.80841367 0.81147728 0.79615932 0.80572368 0.80953445\n",
            " 0.82746772 0.83650897 0.82051854 0.81274753 0.79421649 0.78793989\n",
            " 0.78076668 0.79608453 0.74407831 0.7477396  0.7331689  0.74990659\n",
            " 0.78524991 0.76104016 0.74945828 0.76096537 0.77284608 0.78659495\n",
            " 0.79683179 0.80826419 0.81401779 0.86475375 0.85795405 0.86423076\n",
            " 0.84756774 0.85234992 0.8592991  0.86378244 0.88074418 0.88335948\n",
            " 0.87200176 0.86901294 0.8702084  0.8640066  0.85855184 0.87618616\n",
            " 0.85758053 0.86802298 0.86970431 0.87269294 0.87636304 0.88045979\n",
            " 0.88484484 0.88942796 0.89414698 0.89896101 0.90384597 0.90879309\n",
            " 0.91380501 0.91889262 0.92407316 0.92936772 0.93479872 0.9403885 ]\n",
            "17 day output [[0.9461596]]\n",
            "18 day input [0.80841367 0.81147728 0.79615932 0.80572368 0.80953445 0.82746772\n",
            " 0.83650897 0.82051854 0.81274753 0.79421649 0.78793989 0.78076668\n",
            " 0.79608453 0.74407831 0.7477396  0.7331689  0.74990659 0.78524991\n",
            " 0.76104016 0.74945828 0.76096537 0.77284608 0.78659495 0.79683179\n",
            " 0.80826419 0.81401779 0.86475375 0.85795405 0.86423076 0.84756774\n",
            " 0.85234992 0.8592991  0.86378244 0.88074418 0.88335948 0.87200176\n",
            " 0.86901294 0.8702084  0.8640066  0.85855184 0.87618616 0.85758053\n",
            " 0.86802298 0.86970431 0.87269294 0.87636304 0.88045979 0.88484484\n",
            " 0.88942796 0.89414698 0.89896101 0.90384597 0.90879309 0.91380501\n",
            " 0.91889262 0.92407316 0.92936772 0.93479872 0.9403885  0.9461596 ]\n",
            "18 day output [[0.9521327]]\n",
            "19 day input [0.81147728 0.79615932 0.80572368 0.80953445 0.82746772 0.83650897\n",
            " 0.82051854 0.81274753 0.79421649 0.78793989 0.78076668 0.79608453\n",
            " 0.74407831 0.7477396  0.7331689  0.74990659 0.78524991 0.76104016\n",
            " 0.74945828 0.76096537 0.77284608 0.78659495 0.79683179 0.80826419\n",
            " 0.81401779 0.86475375 0.85795405 0.86423076 0.84756774 0.85234992\n",
            " 0.8592991  0.86378244 0.88074418 0.88335948 0.87200176 0.86901294\n",
            " 0.8702084  0.8640066  0.85855184 0.87618616 0.85758053 0.86802298\n",
            " 0.86970431 0.87269294 0.87636304 0.88045979 0.88484484 0.88942796\n",
            " 0.89414698 0.89896101 0.90384597 0.90879309 0.91380501 0.91889262\n",
            " 0.92407316 0.92936772 0.93479872 0.9403885  0.9461596  0.9521327 ]\n",
            "19 day output [[0.95832705]]\n",
            "20 day input [0.79615932 0.80572368 0.80953445 0.82746772 0.83650897 0.82051854\n",
            " 0.81274753 0.79421649 0.78793989 0.78076668 0.79608453 0.74407831\n",
            " 0.7477396  0.7331689  0.74990659 0.78524991 0.76104016 0.74945828\n",
            " 0.76096537 0.77284608 0.78659495 0.79683179 0.80826419 0.81401779\n",
            " 0.86475375 0.85795405 0.86423076 0.84756774 0.85234992 0.8592991\n",
            " 0.86378244 0.88074418 0.88335948 0.87200176 0.86901294 0.8702084\n",
            " 0.8640066  0.85855184 0.87618616 0.85758053 0.86802298 0.86970431\n",
            " 0.87269294 0.87636304 0.88045979 0.88484484 0.88942796 0.89414698\n",
            " 0.89896101 0.90384597 0.90879309 0.91380501 0.91889262 0.92407316\n",
            " 0.92936772 0.93479872 0.9403885  0.9461596  0.9521327  0.95832705]\n",
            "20 day output [[0.9647599]]\n",
            "21 day input [0.80572368 0.80953445 0.82746772 0.83650897 0.82051854 0.81274753\n",
            " 0.79421649 0.78793989 0.78076668 0.79608453 0.74407831 0.7477396\n",
            " 0.7331689  0.74990659 0.78524991 0.76104016 0.74945828 0.76096537\n",
            " 0.77284608 0.78659495 0.79683179 0.80826419 0.81401779 0.86475375\n",
            " 0.85795405 0.86423076 0.84756774 0.85234992 0.8592991  0.86378244\n",
            " 0.88074418 0.88335948 0.87200176 0.86901294 0.8702084  0.8640066\n",
            " 0.85855184 0.87618616 0.85758053 0.86802298 0.86970431 0.87269294\n",
            " 0.87636304 0.88045979 0.88484484 0.88942796 0.89414698 0.89896101\n",
            " 0.90384597 0.90879309 0.91380501 0.91889262 0.92407316 0.92936772\n",
            " 0.93479872 0.9403885  0.9461596  0.9521327  0.95832705 0.96475989]\n",
            "21 day output [[0.9714476]]\n",
            "22 day input [0.80953445 0.82746772 0.83650897 0.82051854 0.81274753 0.79421649\n",
            " 0.78793989 0.78076668 0.79608453 0.74407831 0.7477396  0.7331689\n",
            " 0.74990659 0.78524991 0.76104016 0.74945828 0.76096537 0.77284608\n",
            " 0.78659495 0.79683179 0.80826419 0.81401779 0.86475375 0.85795405\n",
            " 0.86423076 0.84756774 0.85234992 0.8592991  0.86378244 0.88074418\n",
            " 0.88335948 0.87200176 0.86901294 0.8702084  0.8640066  0.85855184\n",
            " 0.87618616 0.85758053 0.86802298 0.86970431 0.87269294 0.87636304\n",
            " 0.88045979 0.88484484 0.88942796 0.89414698 0.89896101 0.90384597\n",
            " 0.90879309 0.91380501 0.91889262 0.92407316 0.92936772 0.93479872\n",
            " 0.9403885  0.9461596  0.9521327  0.95832705 0.96475989 0.97144759]\n",
            "22 day output [[0.9784048]]\n",
            "23 day input [0.82746772 0.83650897 0.82051854 0.81274753 0.79421649 0.78793989\n",
            " 0.78076668 0.79608453 0.74407831 0.7477396  0.7331689  0.74990659\n",
            " 0.78524991 0.76104016 0.74945828 0.76096537 0.77284608 0.78659495\n",
            " 0.79683179 0.80826419 0.81401779 0.86475375 0.85795405 0.86423076\n",
            " 0.84756774 0.85234992 0.8592991  0.86378244 0.88074418 0.88335948\n",
            " 0.87200176 0.86901294 0.8702084  0.8640066  0.85855184 0.87618616\n",
            " 0.85758053 0.86802298 0.86970431 0.87269294 0.87636304 0.88045979\n",
            " 0.88484484 0.88942796 0.89414698 0.89896101 0.90384597 0.90879309\n",
            " 0.91380501 0.91889262 0.92407316 0.92936772 0.93479872 0.9403885\n",
            " 0.9461596  0.9521327  0.95832705 0.96475989 0.97144759 0.97840482]\n",
            "23 day output [[0.9856468]]\n",
            "24 day input [0.83650897 0.82051854 0.81274753 0.79421649 0.78793989 0.78076668\n",
            " 0.79608453 0.74407831 0.7477396  0.7331689  0.74990659 0.78524991\n",
            " 0.76104016 0.74945828 0.76096537 0.77284608 0.78659495 0.79683179\n",
            " 0.80826419 0.81401779 0.86475375 0.85795405 0.86423076 0.84756774\n",
            " 0.85234992 0.8592991  0.86378244 0.88074418 0.88335948 0.87200176\n",
            " 0.86901294 0.8702084  0.8640066  0.85855184 0.87618616 0.85758053\n",
            " 0.86802298 0.86970431 0.87269294 0.87636304 0.88045979 0.88484484\n",
            " 0.88942796 0.89414698 0.89896101 0.90384597 0.90879309 0.91380501\n",
            " 0.91889262 0.92407316 0.92936772 0.93479872 0.9403885  0.9461596\n",
            " 0.9521327  0.95832705 0.96475989 0.97144759 0.97840482 0.98564678]\n",
            "24 day output [[0.99318665]]\n",
            "25 day input [0.82051854 0.81274753 0.79421649 0.78793989 0.78076668 0.79608453\n",
            " 0.74407831 0.7477396  0.7331689  0.74990659 0.78524991 0.76104016\n",
            " 0.74945828 0.76096537 0.77284608 0.78659495 0.79683179 0.80826419\n",
            " 0.81401779 0.86475375 0.85795405 0.86423076 0.84756774 0.85234992\n",
            " 0.8592991  0.86378244 0.88074418 0.88335948 0.87200176 0.86901294\n",
            " 0.8702084  0.8640066  0.85855184 0.87618616 0.85758053 0.86802298\n",
            " 0.86970431 0.87269294 0.87636304 0.88045979 0.88484484 0.88942796\n",
            " 0.89414698 0.89896101 0.90384597 0.90879309 0.91380501 0.91889262\n",
            " 0.92407316 0.92936772 0.93479872 0.9403885  0.9461596  0.9521327\n",
            " 0.95832705 0.96475989 0.97144759 0.97840482 0.98564678 0.99318665]\n",
            "25 day output [[1.0010393]]\n",
            "26 day input [0.81274753 0.79421649 0.78793989 0.78076668 0.79608453 0.74407831\n",
            " 0.7477396  0.7331689  0.74990659 0.78524991 0.76104016 0.74945828\n",
            " 0.76096537 0.77284608 0.78659495 0.79683179 0.80826419 0.81401779\n",
            " 0.86475375 0.85795405 0.86423076 0.84756774 0.85234992 0.8592991\n",
            " 0.86378244 0.88074418 0.88335948 0.87200176 0.86901294 0.8702084\n",
            " 0.8640066  0.85855184 0.87618616 0.85758053 0.86802298 0.86970431\n",
            " 0.87269294 0.87636304 0.88045979 0.88484484 0.88942796 0.89414698\n",
            " 0.89896101 0.90384597 0.90879309 0.91380501 0.91889262 0.92407316\n",
            " 0.92936772 0.93479872 0.9403885  0.9461596  0.9521327  0.95832705\n",
            " 0.96475989 0.97144759 0.97840482 0.98564678 0.99318665 1.00103927]\n",
            "26 day output [[1.0092186]]\n",
            "27 day input [0.79421649 0.78793989 0.78076668 0.79608453 0.74407831 0.7477396\n",
            " 0.7331689  0.74990659 0.78524991 0.76104016 0.74945828 0.76096537\n",
            " 0.77284608 0.78659495 0.79683179 0.80826419 0.81401779 0.86475375\n",
            " 0.85795405 0.86423076 0.84756774 0.85234992 0.8592991  0.86378244\n",
            " 0.88074418 0.88335948 0.87200176 0.86901294 0.8702084  0.8640066\n",
            " 0.85855184 0.87618616 0.85758053 0.86802298 0.86970431 0.87269294\n",
            " 0.87636304 0.88045979 0.88484484 0.88942796 0.89414698 0.89896101\n",
            " 0.90384597 0.90879309 0.91380501 0.91889262 0.92407316 0.92936772\n",
            " 0.93479872 0.9403885  0.9461596  0.9521327  0.95832705 0.96475989\n",
            " 0.97144759 0.97840482 0.98564678 0.99318665 1.00103927 1.00921857]\n",
            "27 day output [[1.0177412]]\n",
            "28 day input [0.78793989 0.78076668 0.79608453 0.74407831 0.7477396  0.7331689\n",
            " 0.74990659 0.78524991 0.76104016 0.74945828 0.76096537 0.77284608\n",
            " 0.78659495 0.79683179 0.80826419 0.81401779 0.86475375 0.85795405\n",
            " 0.86423076 0.84756774 0.85234992 0.8592991  0.86378244 0.88074418\n",
            " 0.88335948 0.87200176 0.86901294 0.8702084  0.8640066  0.85855184\n",
            " 0.87618616 0.85758053 0.86802298 0.86970431 0.87269294 0.87636304\n",
            " 0.88045979 0.88484484 0.88942796 0.89414698 0.89896101 0.90384597\n",
            " 0.90879309 0.91380501 0.91889262 0.92407316 0.92936772 0.93479872\n",
            " 0.9403885  0.9461596  0.9521327  0.95832705 0.96475989 0.97144759\n",
            " 0.97840482 0.98564678 0.99318665 1.00103927 1.00921857 1.0177412 ]\n",
            "28 day output [[1.0266232]]\n",
            "29 day input [0.78076668 0.79608453 0.74407831 0.7477396  0.7331689  0.74990659\n",
            " 0.78524991 0.76104016 0.74945828 0.76096537 0.77284608 0.78659495\n",
            " 0.79683179 0.80826419 0.81401779 0.86475375 0.85795405 0.86423076\n",
            " 0.84756774 0.85234992 0.8592991  0.86378244 0.88074418 0.88335948\n",
            " 0.87200176 0.86901294 0.8702084  0.8640066  0.85855184 0.87618616\n",
            " 0.85758053 0.86802298 0.86970431 0.87269294 0.87636304 0.88045979\n",
            " 0.88484484 0.88942796 0.89414698 0.89896101 0.90384597 0.90879309\n",
            " 0.91380501 0.91889262 0.92407316 0.92936772 0.93479872 0.9403885\n",
            " 0.9461596  0.9521327  0.95832705 0.96475989 0.97144759 0.97840482\n",
            " 0.98564678 0.99318665 1.00103927 1.00921857 1.0177412  1.02662325]\n",
            "29 day output [[1.0358831]]\n"
          ]
        }
      ]
    },
    {
      "cell_type": "markdown",
      "source": [
        "\n",
        "\n",
        "*   List of predicted stock prices for the next 30 days\n",
        "\n"
      ],
      "metadata": {
        "id": "4knvSKmcw1LW"
      }
    },
    {
      "cell_type": "code",
      "source": [
        "for i in range(1, n_days+1):\n",
        "    print(f\"Ngày thứ {i}: {scaler.inverse_transform(lst_output)[i-1]}\")\n",
        "    # scaler.inverse_transform(lst_output)"
      ],
      "metadata": {
        "colab": {
          "base_uri": "https://localhost:8080/"
        },
        "id": "5K-SAlW1yl4V",
        "outputId": "6e0070fc-f27f-4b5e-be60-eb9445cf0c36"
      },
      "execution_count": null,
      "outputs": [
        {
          "output_type": "stream",
          "name": "stdout",
          "text": [
            "Ngày thứ 1: [170.38751792]\n",
            "Ngày thứ 2: [170.61253003]\n",
            "Ngày thứ 3: [171.01249926]\n",
            "Ngày thứ 4: [171.50366826]\n",
            "Ngày thứ 5: [172.05193585]\n",
            "Ngày thứ 6: [172.63878765]\n",
            "Ngày thứ 7: [173.25214665]\n",
            "Ngày thứ 8: [173.88369297]\n",
            "Ngày thứ 9: [174.52795444]\n",
            "Ngày thứ 10: [175.18170842]\n",
            "Ngày thứ 11: [175.84378229]\n",
            "Ngày thứ 12: [176.51452704]\n",
            "Ngày thứ 13: [177.19540244]\n",
            "Ngày thứ 14: [177.88871381]\n",
            "Ngày thứ 15: [178.59728497]\n",
            "Ngày thứ 16: [179.32411523]\n",
            "Ngày thứ 17: [180.07219593]\n",
            "Ngày thứ 18: [180.84454232]\n",
            "Ngày thứ 19: [181.6439224]\n",
            "Ngày thứ 20: [182.47291268]\n",
            "Ngày thứ 21: [183.33381851]\n",
            "Ngày thứ 22: [184.22883351]\n",
            "Ngày thứ 23: [185.15992001]\n",
            "Ngày thứ 24: [186.12911211]\n",
            "Ngày thứ 25: [187.13817271]\n",
            "Ngày thứ 26: [188.18908805]\n",
            "Ngày thứ 27: [189.28372472]\n",
            "Ngày thứ 28: [190.42430827]\n",
            "Ngày thứ 29: [191.61299247]\n",
            "Ngày thứ 30: [192.8522342]\n"
          ]
        }
      ]
    },
    {
      "cell_type": "markdown",
      "source": [
        "**VISUALIZATION OF PREDICTIONS**"
      ],
      "metadata": {
        "id": "ccC1L-1pHCtd"
      }
    },
    {
      "cell_type": "markdown",
      "source": [
        "\n",
        "\n",
        "*   Plot 1\n",
        "\n"
      ],
      "metadata": {
        "id": "wVuNMOZiws53"
      }
    },
    {
      "cell_type": "code",
      "source": [
        "train_data_index = pd.RangeIndex(start=0, stop=train_size, step=1)\n",
        "plt.title('LSTM 6:2:2 (CVX Stock Price)')\n",
        "plt.plot(scaler.inverse_transform(train_data))\n",
        "test_data_index = pd.RangeIndex(start=train_size, stop=train_size+test_size, step=1)\n",
        "plt.plot(test_data_index,y_test)\n",
        "plt.plot(test_data_index,y_pred)\n",
        "val_data_index = pd.RangeIndex(start=train_size+test_size, stop=train_size+test_size+val_size, step=1)\n",
        "plt.plot(val_data_index,y_val)\n",
        "plt.plot(val_data_index,y_pred_val)\n",
        "prediect_data_index = pd.RangeIndex(start=len(close_prices), stop=len(close_prices)+n_days, step=1)\n",
        "plt.plot(prediect_data_index,scaler.inverse_transform(lst_output))\n",
        "plt.legend(['Train','ActualTest','PredictedTest','ActualValidate','PredictedValidate','Next30Days'])\n",
        "plt.show()"
      ],
      "metadata": {
        "colab": {
          "base_uri": "https://localhost:8080/",
          "height": 452
        },
        "id": "V2gj23QPyd5h",
        "outputId": "d1204287-e383-4a5c-ce86-12e40a066b56"
      },
      "execution_count": null,
      "outputs": [
        {
          "output_type": "display_data",
          "data": {
            "text/plain": [
              "<Figure size 640x480 with 1 Axes>"
            ],
            "image/png": "[encoded data removed]"
          },
          "metadata": {}
        }
      ]
    },
    {
      "cell_type": "markdown",
      "source": [
        "\n",
        "\n",
        "*   Plot 2\n",
        "\n"
      ],
      "metadata": {
        "id": "4eXJyVdmww1n"
      }
    },
    {
      "cell_type": "code",
      "source": [
        "import plotly\n",
        "import plotly.graph_objs as go\n",
        "import plotly.express as px\n",
        "from plotly.subplots import make_subplots\n",
        "\n",
        "fig = go.Figure()\n",
        "fig.add_trace(go.Scatter(x=train_data_index, y=scaler.inverse_transform(train_data)[:, 0], mode='lines+markers', marker=dict(size=4),  name='Train', marker_color='#1F77B4'))\n",
        "fig.add_trace(go.Scatter(x=test_data_index,y=y_test[:, 0], mode='lines+markers', marker=dict(size=4), name='ActualTest', marker_color='#FF7F0E'))\n",
        "fig.add_trace(go.Scatter(x=test_data_index,y=y_pred[:, 0], mode='lines+markers', marker=dict(size=4), name='PredictedTest', marker_color='#2CA02C'))\n",
        "fig.add_trace(go.Scatter(x=val_data_index, y=y_val[:, 0], mode='lines+markers', marker=dict(size=4), name='ActualValidate', marker_color='#D62728'))\n",
        "fig.add_trace(go.Scatter(x=val_data_index, y=y_pred_val[:, 0], mode='lines+markers', marker=dict(size=4), name='PredictedValidate', marker_color='#9569BE'))\n",
        "fig.add_trace(go.Scatter(x=prediect_data_index, y=scaler.inverse_transform(lst_output)[:, 0], mode='lines+markers', marker=dict(size=4), name='Next30Days', marker_color='#000000'))\n",
        "fig.update_layout(legend_orientation=\"h\",\n",
        "                  legend=dict(x=.5, xanchor=\"center\"),\n",
        "                  plot_bgcolor='#FFFFFF',\n",
        "                  xaxis=dict(gridcolor = 'lightgrey'),\n",
        "                  yaxis=dict(gridcolor = 'lightgrey'),\n",
        "                  title_text = f'LSTM 6:2:2 (CVX Stock Price)', title_x = 0.5,\n",
        "                  xaxis_title=\"Timestep\",\n",
        "                  yaxis_title=\"Stock price\",\n",
        "                  margin=dict(l=0, r=0, t=30, b=0))\n",
        "fig.show()"
      ],
      "metadata": {
        "colab": {
          "base_uri": "https://localhost:8080/",
          "height": 542
        },
        "id": "YLioSa_GpPcc",
        "outputId": "bb2cd922-a6cb-4fba-9980-ed03b171a91a"
      },
      "execution_count": null,
      "outputs": [
        {
          "output_type": "display_data",
          "data": {
            "text/html": [
              "<html>\n",
              "<head><meta charset=\"utf-8\" /></head>\n",
              "<body>\n",
              "    <div>            <script src=\"https://cdnjs.cloudflare.com/ajax/libs/mathjax/2.7.5/MathJax.js?config=TeX-AMS-MML_SVG\"></script><script type=\"text/javascript\">if (window.MathJax && window.MathJax.Hub && window.MathJax.Hub.Config) {window.MathJax.Hub.Config({SVG: {font: \"STIX-Web\"}});}</script>                <script type=\"text/javascript\">window.PlotlyConfig = {MathJaxConfig: 'local'};</script>\n",
              "        <script src=\"https://cdn.plot.ly/plotly-2.18.2.min.js\"></script>                <div id=\"f53b7b2e-d2f6-4380-9092-7bddfbbd97f0\" class=\"plotly-graph-div\" style=\"height:525px; width:100%;\"></div>            <script type=\"text/javascript\">                                    window.PLOTLYENV=window.PLOTLYENV || {};                                    if (document.getElementById(\"f53b7b2e-d2f6-4380-9092-7bddfbbd97f0\")) {                    Plotly.newPlot(                        \"f53b7b2e-d2f6-4380-9092-7bddfbbd97f0\",                        [{\"marker\":{\"color\":\"#1F77B4\",\"size\":4},\"mode\":\"lines+markers\",\"name\":\"Train\",\"x\":[0,1,2,3,4,5,6,7,8,9,10,11,12,13,14,15,16,17,18,19,20,21,22,23,24,25,26,27,28,29,30,31,32,33,34,35,36,37,38,39,40,41,42,43,44,45,46,47,48,49,50,51,52,53,54,55,56,57,58,59,60,61,62,63,64,65,66,67,68,69,70,71,72,73,74,75,76,77,78,79,80,81,82,83,84,85,86,87,88,89,90,91,92,93,94,95,96,97,98,99,100,101,102,103,104,105,106,107,108,109,110,111,112,113,114,115,116,117,118,119,120,121,122,123,124,125,126,127,128,129,130,131,132,133,134,135,136,137,138,139,140,141,142,143,144,145,146,147,148,149,150,151,152,153,154,155,156,157,158,159,160,161,162,163,164,165,166,167,168,169,170,171,172,173,174,175,176,177,178,179,180,181,182,183,184,185,186,187,188,189,190,191,192,193,194,195,196,197,198,199,200,201,202,203,204,205,206,207,208,209,210,211,212,213,214,215,216,217,218,219,220,221,222,223,224,225,226,227,228,229,230,231,232,233,234,235,236,237,238,239,240,241,242,243,244,245,246,247,248,249,250,251,252,253,254,255,256,257,258,259,260,261,262,263,264,265,266,267,268,269,270,271,272,273,274,275,276,277,278,279,280,281,282,283,284,285,286,287,288,289,290,291,292,293,294,295,296,297,298,299,300,301,302,303,304,305,306,307,308,309,310,311,312,313,314,315,316,317,318,319,320,321,322,323,324,325,326,327,328,329,330,331,332,333,334,335,336,337,338,339,340,341,342,343,344,345,346,347,348,349,350,351,352,353,354,355,356,357,358,359,360,361,362,363,364,365,366,367,368,369,370,371,372,373,374,375,376,377,378,379,380,381,382,383,384,385,386,387,388,389,390,391,392,393,394,395,396,397,398,399,400,401,402,403,404,405,406,407,408,409,410,411,412,413,414,415,416,417,418,419,420,421,422,423,424,425,426,427,428,429,430,431,432,433,434,435,436,437,438,439,440,441,442,443,444,445,446,447,448,449,450,451,452,453,454,455,456,457,458,459,460,461,462,463,464,465,466,467,468,469,470,471,472,473,474,475,476,477,478,479,480,481,482,483,484,485,486,487,488,489,490,491,492,493,494,495,496,497,498,499,500,501,502,503,504,505,506,507,508,509,510,511,512,513,514,515,516,517,518,519,520,521,522,523,524,525,526,527,528,529,530,531,532,533,534,535,536,537,538,539,540,541,542,543,544,545,546,547,548,549,550,551,552,553,554,555,556,557,558,559,560,561,562,563,564,565,566,567,568,569,570,571,572,573,574,575,576,577,578,579,580,581,582,583,584,585,586,587,588,589,590,591,592,593,594,595,596,597,598,599,600,601,602,603,604,605,606,607,608,609,610,611,612,613,614,615,616,617,618,619,620,621,622,623,624,625,626,627,628,629,630,631,632,633,634,635,636,637,638,639,640,641,642,643,644,645,646,647,648,649,650,651,652,653,654,655,656,657,658,659,660,661,662,663,664,665,666,667,668,669,670,671,672,673,674,675,676,677,678,679,680,681,682,683,684,685,686,687,688,689,690,691,692,693,694,695,696,697,698,699,700,701,702,703,704,705,706,707,708,709,710,711,712,713,714,715,716,717,718,719,720,721,722,723,724,725,726,727,728,729,730,731,732,733,734,735,736,737,738,739,740,741,742,743,744,745,746,747,748,749,750,751,752,753,754,755,756,757,758,759,760,761,762,763,764,765,766,767,768,769,770,771,772,773,774,775,776,777,778,779,780,781,782,783,784,785,786,787,788,789,790,791,792,793,794,795,796,797,798,799,800,801],\"y\":[127.580002,128.509995,128.110001,127.900002,128.529999,127.839996,128.660004,132.570007,133.600006,132.009995,132.360001,131.589996,131.300003,132.559998,131.020004,131.389999,130.649994,131.190002,128.479996,125.230003,125.349998,125.57,118.580002,112.620003,117.18,115.290001,112.300003,113.5,113.980003,113.290001,113.629997,112.529999,112.139999,110.980003,109.059998,109.889999,112.589996,114.599998,113.610001,111.919998,112.040001,111.639999,113.150002,113.650002,113.839996,113.349998,117.220001,116.790001,116.459999,115.129997,115.580002,115.400002,113.889999,114.5,117.040001,113.69999699999998,112.980003,115.349998,114.660004,112.099998,114.040001,112.239998,114.830002,114.480003,117.290001,114.760002,115.980003,118.849998,119.25,119.230003,119.919998,120.699997,121.459999,123.82,123.709999,122.309998,123.580002,122.540001,122.720001,124.220001,126.620003,125.110001,124.860001,125.489998,126.010002,125.529999,124.940002,126.57000000000001,128.720001,128.820007,129.839996,130.389999,129.740005,129.559998,129.460007,127.860001,129.369995,128.229996,128.699997,126.610001,122.190002,121.389999,125.160004,124.300003,123.849998,122.26000200000001,122.730003,123.379997,126.959999,126.440002,127.559998,127.080002,127.06999999999998,126.510002,124.04000100000002,125.970001,125.540001,125.290001,122.589996,125.099998,122.610001,124.160004,126.0,125.660004,126.43,124.25,124.730003,123.980003,124.139999,125.989998,127.589996,123.519997,124.260002,124.04000100000002,122.980003,121.910004,121.52999900000002,121.669998,122.269997,121.330002,123.849998,124.900002,123.949997,125.970001,127.830002,126.269997,125.38999899999999,123.760002,124.050003,124.300003,125.18,123.879997,122.529999,123.339996,122.440002,122.580002,117.940002,117.660004,117.800003,117.75,117.940002,118.919998,118.099998,119.010002,120.349998,119.860001,120.220001,119.809998,118.459999,118.870003,118.919998,115.230003,114.599998,114.480003,115.019997,115.790001,116.300003,117.379997,117.510002,118.129997,119.510002,119.419998,121.129997,122.620003,123.370003,121.949997,122.470001,122.279999,124.389999,124.739998,125.309998,124.949997,125.330002,124.839996,126.81999999999998,122.599998,118.43,117.769997,116.940002,117.510002,117.290001,117.470001,118.139999,117.209999,113.400002,110.209999,111.580002,111.529999,108.93,110.849998,111.650002,111.16999799999999,114.730003,118.940002,118.90000200000001,120.870003,119.360001,119.510002,117.389999,115.349998,115.720001,116.949997,119.059998,119.419998,116.099998,117.57,113.599998,114.980003,115.209999,118.139999,118.849998,118.940002,120.669998,117.239998,115.910004,115.489998,114.940002,115.470001,115.620003,115.94000199999999,113.830002,112.449997,109.739998,107.830002,104.980003,104.209999,100.989998,107.389999,109.32,108.650002,108.790001,110.690002,108.57,110.81999999999998,112.260002,111.769997,113.269997,113.44999700000001,112.540001,111.720001,112.120003,111.400002,111.959999,114.370003,112.339996,111.389999,113.510002,113.220001,112.169998,111.830002,113.010002,114.650002,118.370003,119.739998,119.480003,118.879997,118.230003,117.580002,116.949997,118.720001,119.57,118.160004,119.349998,119.309998,120.279999,119.139999,119.389999,119.620003,119.940002,120.080002,119.580002,122.02999899999999,122.120003,123.290001,123.529999,121.940002,121.620003,123.620003,123.900002,124.669998,124.599998,125.309998,125.879997,125.279999,124.690002,125.860001,123.089996,122.889999,124.129997,122.790001,123.019997,123.18,124.940002,124.93,123.889999,124.800003,126.419998,126.68,125.540001,125.489998,125.989998,119.760002,120.139999,121.169998,120.269997,119.860001,121.900002,122.019997,118.279999,117.900002,117.099998,117.720001,120.059998,117.809998,116.379997,117.269997,118.400002,118.269997,117.5,121.190002,121.989998,120.440002,121.639999,122.139999,120.800003,120.519997,120.839996,121.339996,120.57,117.870003,118.709999,118.309998,116.769997,115.379997,113.849998,115.989998,117.300003,117.650002,120.68,121.480003,122.290001,121.169998,120.190002,120.910004,120.809998,121.389999,122.93,122.889999,124.279999,124.93,124.910004,123.639999,123.93,123.110001,124.440002,124.839996,122.93,123.349998,123.540001,123.599998,123.349998,125.440002,125.43,125.980003,125.720001,124.760002,124.139999,124.68,125.040001,125.309998,125.82,126.540001,125.629997,123.720001,124.230003,124.339996,123.110001,120.739998,120.73000299999998,118.739998,119.379997,119.099998,123.230003,122.419998,121.550003,122.389999,117.73999799999999,116.949997,115.809998,117.309998,116.129997,117.879997,117.730003,115.18,115.739998,115.830002,116.830002,117.519997,117.720001,116.269997,117.25,117.639999,118.260002,119.389999,121.849998,121.279999,121.419998,121.5,124.120003,123.889999,124.18,123.660004,124.32,124.900002,123.739998,123.510002,120.160004,118.599998,118.599998,116.010002,112.290001,113.150002,113.849998,113.260002,111.709999,113.139999,114.589996,116.150002,116.18,116.309998,115.11000099999998,115.349998,114.739998,116.610001,117.800003,117.980003,117.580002,118.669998,118.480003,118.129997,116.360001,116.139999,116.209999,121.57,121.940002,119.900002,121.889999,120.93,120.809998,120.959999,122.279999,121.959999,120.639999,118.550003,116.449997,117.339996,118.769997,118.629997,118.379997,117.790001,118.07,117.129997,116.800003,115.889999,116.940002,116.330002,118.010002,117.300003,117.889999,116.230003,118.809998,117.959999,119.360001,118.599998,118.550003,118.129997,119.68,120.330002,120.339996,120.59999800000001,120.300003,119.849998,120.510002,121.43,121.010002,120.59999800000001,119.059998,117.699997,117.510002,116.440002,116.660004,116.300003,116.129997,116.889999,115.580002,113.309998,112.900002,113.099998,111.849998,110.389999,111.120003,110.370003,111.400002,107.139999,106.279999,106.849998,110.279999,109.489998,108.940002,109.790001,111.209999,112.040001,111.660004,110.080002,110.239998,110.739998,109.809998,109.010002,104.709999,100.709999,98.040001,94.129997,93.339996,96.589996,94.389999,98.529999,97.190002,95.32,80.669998,84.980003,83.029999,76.260002,83.419998,69.699997,70.690002,55.049999,57.389999,59.389999,54.220001,66.550003,69.269997,76.379997,68.779999,71.949997,72.459999,68.559998,76.120003,75.110001,80.389999,80.919998,85.980003,84.309998,84.910004,84.610001,82.489998,79.989998,87.169998,83.57,81.639999,84.440002,86.800003,87.010002,89.709999,89.910004,94.620003,92.0,89.440002,91.440002,92.88999900000002,90.050003,92.639999,95.470001,93.370003,91.099998,88.699997,90.050003,89.16000400000001,92.550003,89.620003,93.0,92.04000100000002,90.279999,93.300003,93.900002,90.870003,91.699997,92.790001,94.690002,97.18000000000002,96.279999,100.809998,103.239998,101.529999,97.580002,89.370003,92.389999,91.230003,94.029999,91.540001,91.940002,90.62999700000002,91.589996,91.440002,87.639999,89.209999,86.459999,87.669998,89.230003,87.620003,88.309998,88.57,86.309998,86.349998,82.739998,85.230003,85.400002,88.349998,88.889999,88.360001,87.190002,85.269997,91.389999,91.040001,91.010002,90.129997,91.040001,89.110001,90.07,86.269997,83.94000199999999,84.809998,86.489998,87.199997,87.470001,86.800003,89.730003,89.620003,90.720001,89.82,90.349998,90.769997,87.629997,86.389999,84.809998,85.080002,87.199997,86.129997,84.779999,84.910004,85.629997,83.93,83.080002,83.190002,82.279999,81.93,78.970001,80.029999,78.150002,77.690002,77.290001,76.349998,78.559998,78.790001,78.209999,76.300003,75.529999,71.949997,71.800003,71.830002,73.93,71.900002,72.00000000000001,70.419998,71.190002,72.699997,72.300003,73.77999900000002,75.220001,74.0,74.51000199999999,73.400002,72.949997,73.510002,72.889999,71.279999,71.68,70.870003,73.400002,72.57,70.940002,69.510002,66.879997,68.800003,69.5,72.150002,71.739998,71.76999699999999,72.139999,71.15000199999999,79.400002,83.07,82.459999,80.669998,83.029999,88.959999,87.040001,84.279999,85.730003,85.790001,91.029999,95.620003,92.139999,91.309998,87.18,87.449997,89.870003,89.800003,93.279999,90.760002,91.540001,90.440002,93.349998,92.449997,89.440002,89.370003,88.690002,88.410004,87.190002,86.089996,84.360001,85.690002,85.330002,84.900002,84.610001,85.330002,84.449997,84.709999,87.0,89.800003,90.220001,91.080002,91.599998,93.339996,93.25,95.489998,92.089996,94.510002,95.379997,92.010002,91.730003,90.900002,89.360001,88.199997,89.019997,85.199997,86.410004,87.059998,88.959999,89.0,89.260002,91.480003,90.959999,92.519997,92.019997,92.550003,93.129997,95.919998,95.0,95.800003,98.389999,99.629997,103.309998,102.349998,100.0,102.050003,102.440002,103.589996,104.5,109.0,109.75,109.5,111.370003],\"type\":\"scatter\"},{\"marker\":{\"color\":\"#FF7F0E\",\"size\":4},\"mode\":\"lines+markers\",\"name\":\"ActualTest\",\"x\":[802,803,804,805,806,807,808,809,810,811,812,813,814,815,816,817,818,819,820,821,822,823,824,825,826,827,828,829,830,831,832,833,834,835,836,837,838,839,840,841,842,843,844,845,846,847,848,849,850,851,852,853,854,855,856,857,858,859,860,861,862,863,864,865,866,867,868,869,870,871,872,873,874,875,876,877,878,879,880,881,882,883,884,885,886,887,888,889,890,891,892,893,894,895,896,897,898,899,900,901,902,903,904,905,906,907,908,909,910,911,912,913,914,915,916,917,918,919,920,921,922,923,924,925,926,927,928,929,930,931,932,933,934,935,936,937,938,939,940,941,942,943,944,945,946,947,948,949,950,951,952,953,954,955,956,957,958,959,960,961,962,963,964,965,966,967,968,969,970,971,972,973,974,975,976,977,978,979,980,981,982,983,984,985,986,987,988,989,990,991,992,993,994,995,996,997,998,999,1000,1001,1002,1003,1004,1005,1006,1007,1008,1009,1010,1011,1012,1013,1014,1015,1016,1017,1018,1019,1020,1021,1022,1023,1024,1025,1026,1027,1028,1029,1030,1031,1032,1033,1034,1035,1036,1037,1038,1039,1040,1041,1042,1043,1044,1045,1046,1047,1048,1049,1050,1051,1052,1053,1054,1055,1056,1057,1058,1059,1060,1061,1062,1063,1064,1065,1066,1067,1068],\"y\":[111.190002,111.559998,110.25,107.639999,108.029999,104.120003,103.379997,102.540001,101.97000100000001,104.699997,105.07,107.480003,106.919998,105.93,104.790001,105.75,104.510002,103.580002,104.190002,103.019997,102.919998,101.779999,102.239998,104.269997,103.419998,102.959999,103.260002,101.330002,102.730003,100.949997,101.550003,101.519997,102.699997,105.220001,106.900002,103.07,105.52999900000002,106.110001,108.959999,109.019997,110.019997,109.57,106.699997,107.370003,106.68,109.470001,110.809998,106.18,103.199997,103.559998,104.120003,105.599998,103.870003,104.120003,103.010002,103.790001,106.650002,108.080002,107.589996,108.449997,107.75,108.730003,107.779999,108.410004,107.910004,107.970001,110.30000300000002,109.669998,107.07,103.029999,106.050003,106.400002,106.269997,107.139999,107.300003,103.989998,103.760002,104.739998,106.209999,106.07,103.989998,102.93,102.599998,104.07,104.279999,103.93,101.97000100000001,101.300003,98.620003,95.959999,96.529999,99.82,98.82,98.86000100000001,100.949997,100.610001,101.18,102.57,101.809998,101.629997,102.599998,100.300003,101.230003,101.949997,100.25,102.080002,102.849998,102.639999,101.959999,100.919998,100.730003,96.699997,94.290001,94.30000300000002,96.730003,97.839996,98.510002,97.220001,98.639999,98.389999,96.769997,95.709999,97.709999,97.489998,97.059998,96.389999,96.0,96.07,97.970001,96.199997,98.239998,97.32,96.760002,94.779999,94.849998,97.639999,100.059998,100.599998,102.970001,103.360001,103.330002,101.449997,104.330002,104.720001,105.860001,104.93,105.68,108.050003,107.129997,107.150002,107.790001,108.809998,109.610001,109.559998,111.699997,113.160004,111.739998,112.800003,113.849998,114.099998,112.07,113.120003,114.489998,114.529999,113.830002,113.010002,113.510002,114.739998,115.150002,116.0,114.150002,114.160004,114.230003,116.82,117.279999,115.419998,114.449997,111.910004,113.910004,116.300003,117.190002,114.510002,114.849998,112.870003,112.099998,115.139999,114.410004,116.199997,117.919998,118.449997,118.139999,118.33999600000001,115.879997,116.220001,115.559998,116.639999,113.599998,113.650002,115.470001,116.129997,116.410004,118.790001,118.559998,117.949997,117.43,117.349998,119.260002,121.43,122.220001,123.260002,125.029999,125.110001,127.970001,127.330002,126.80000299999999,128.960007,129.380005,128.910004,128.449997,126.910004,127.18,132.589996,132.690002,135.369995,130.610001,131.330002,134.78999300000004,135.410004,134.199997,135.880005,138.550003,136.440002,137.789993,136.039993,138.809998,136.669998,134.259995,134.30000300000003,133.610001,133.419998,132.399994,135.550003,134.850006,140.380005,144.00000000000003,149.720001,154.139999,156.220001,158.649994,162.039993,170.529999,166.270004,170.82000700000003,170.899994,166.720001,158.279999,157.710007,160.440002,161.729996,164.639999,164.089996,165.860001,166.30000300000003,169.309998,166.350006,164.320007,165.479996],\"type\":\"scatter\"},{\"marker\":{\"color\":\"#2CA02C\",\"size\":4},\"mode\":\"lines+markers\",\"name\":\"PredictedTest\",\"x\":[802,803,804,805,806,807,808,809,810,811,812,813,814,815,816,817,818,819,820,821,822,823,824,825,826,827,828,829,830,831,832,833,834,835,836,837,838,839,840,841,842,843,844,845,846,847,848,849,850,851,852,853,854,855,856,857,858,859,860,861,862,863,864,865,866,867,868,869,870,871,872,873,874,875,876,877,878,879,880,881,882,883,884,885,886,887,888,889,890,891,892,893,894,895,896,897,898,899,900,901,902,903,904,905,906,907,908,909,910,911,912,913,914,915,916,917,918,919,920,921,922,923,924,925,926,927,928,929,930,931,932,933,934,935,936,937,938,939,940,941,942,943,944,945,946,947,948,949,950,951,952,953,954,955,956,957,958,959,960,961,962,963,964,965,966,967,968,969,970,971,972,973,974,975,976,977,978,979,980,981,982,983,984,985,986,987,988,989,990,991,992,993,994,995,996,997,998,999,1000,1001,1002,1003,1004,1005,1006,1007,1008,1009,1010,1011,1012,1013,1014,1015,1016,1017,1018,1019,1020,1021,1022,1023,1024,1025,1026,1027,1028,1029,1030,1031,1032,1033,1034,1035,1036,1037,1038,1039,1040,1041,1042,1043,1044,1045,1046,1047,1048,1049,1050,1051,1052,1053,1054,1055,1056,1057,1058,1059,1060,1061,1062,1063,1064,1065,1066,1067,1068],\"y\":[110.38587188720703,111.03543090820312,111.33126068115234,110.85418701171875,109.26885223388672,107.99187469482422,105.80470275878906,103.84750366210938,102.37921142578125,101.44625091552734,102.08882141113281,103.25817108154297,105.1644515991211,106.4905776977539,106.79703521728516,106.18829345703125,105.77609252929688,105.06896209716797,104.1517105102539,103.69500732421875,103.12960052490234,102.71018981933594,102.08978271484375,101.80472564697266,102.48571014404297,102.97979736328125,103.100830078125,103.159423828125,102.46366882324219,102.24732208251953,101.6090316772461,101.27149963378906,101.14186096191406,101.56827545166016,102.96647644042969,104.8482437133789,104.85789489746094,105.10540771484375,105.49613189697266,106.8224868774414,108.00902557373047,109.09605407714844,109.56678771972656,108.55599975585938,107.60871887207031,106.71502685546875,107.18943786621094,108.47844696044922,107.90817260742188,105.83824157714844,104.10002136230469,103.27385711669922,103.62297058105469,103.67570495605469,103.75845336914062,103.43714141845703,103.38671875,104.49055480957031,106.14107513427734,107.23912811279297,108.07193756103516,108.21742248535156,108.39592742919922,108.11941528320312,107.99186706542969,107.74762725830078,107.5670166015625,108.33782196044922,108.9307632446289,108.3050765991211,105.99071502685547,105.0175552368164,104.94961547851562,105.21707916259766,105.87702941894531,106.53070068359375,105.7507553100586,104.67428588867188,104.20317840576172,104.63758850097656,105.19951629638672,104.87174987792969,103.97335052490234,103.05620574951172,102.9773941040039,103.29830932617188,103.54618072509766,102.98804473876953,102.10835266113281,100.4457778930664,98.14260864257812,96.61883544921875,97.0683364868164,97.75376892089844,98.37918090820312,99.54562377929688,100.38801574707031,101.03211212158203,101.85653686523438,102.1526107788086,102.06805419921875,102.18891906738281,101.47787475585938,101.04523468017578,101.09429168701172,100.68873596191406,100.93954467773438,101.61127471923828,102.1425552368164,102.20846557617188,101.7103271484375,101.10594940185547,99.217041015625,96.68678283691406,94.80000305175781,94.64785766601562,95.60210418701172,96.94124603271484,97.56544494628906,98.24781799316406,98.61034393310547,98.14530181884766,97.1463851928711,96.9676513671875,97.0384750366211,97.0345687866211,96.77861785888672,96.38619995117188,96.1020736694336,96.62084197998047,96.63417053222656,97.20126342773438,97.44076538085938,97.29269409179688,96.35222625732422,95.46382141113281,95.85353088378906,97.42171478271484,99.10253143310547,101.1215591430664,102.69906616210938,103.541015625,103.10197448730469,103.34690856933594,103.82099914550781,104.60979461669922,104.88150787353516,105.14657592773438,106.1654281616211,106.7384262084961,106.96890258789062,107.21806335449219,107.74497985839844,108.46907043457031,108.98308563232422,110.03878784179688,111.43836975097656,111.9136734008789,112.29180908203125,112.85652160644531,113.34957885742188,112.85137939453125,112.58332824707031,112.98261260986328,113.480224609375,113.58110046386719,113.2051010131836,112.99005126953125,113.36935424804688,113.9760971069336,114.78394317626953,114.6605453491211,114.27339172363281,113.93828582763672,114.7257308959961,115.78118896484375,115.845703125,115.18291473388672,113.51426696777344,112.86383819580078,113.69056701660156,115.09342956542969,115.19519805908203,114.97628021240234,113.9370346069336,112.69290924072266,112.97723388671875,113.3946533203125,114.43942260742188,115.99529266357422,117.37411499023438,118.06375122070312,118.31461334228516,117.3173828125,116.36285400390625,115.47042083740234,115.34053039550781,114.35123443603516,113.49662017822266,113.70701599121094,114.47970581054688,115.31495666503906,116.81714630126953,117.9061508178711,118.21737670898438,117.916015625,117.44153594970703,117.78834533691406,119.11003112792969,120.58889770507812,121.99577331542969,123.54469299316406,124.56114959716797,126.13388061523438,126.98308563232422,127.0257568359375,127.60991668701172,128.266845703125,128.49221801757812,128.29092407226562,127.38163757324219,126.69158172607422,128.54202270507812,130.57350158691406,133.0670928955078,132.770263671875,131.97607421875,132.6714630126953,133.78985595703125,134.1194305419922,134.77394104003906,136.37118530273438,136.74142456054688,137.15145874023438,136.6233673095703,137.16188049316406,136.88394165039062,135.45846557617188,134.24095153808594,133.2655792236328,132.7008819580078,132.10415649414062,133.1007080078125,133.956787109375,136.82794189453125,140.7679443359375,145.99105834960938,151.4495849609375,155.6270751953125,158.64169311523438,161.38308715820312,166.6034698486328,168.23220825195312,170.13031005859375,171.1330108642578,169.37017822265625,163.5260009765625,158.6993408203125,157.47772216796875,158.58726501464844,161.52322387695312,163.7045440673828,165.69252014160156,166.98658752441406,168.90687561035156,168.71554565429688,166.97830200195312],\"type\":\"scatter\"},{\"marker\":{\"color\":\"#D62728\",\"size\":4},\"mode\":\"lines+markers\",\"name\":\"ActualValidate\",\"x\":[1069,1070,1071,1072,1073,1074,1075,1076,1077,1078,1079,1080,1081,1082,1083,1084,1085,1086,1087,1088,1089,1090,1091,1092,1093,1094,1095,1096,1097,1098,1099,1100,1101,1102,1103,1104,1105,1106,1107,1108,1109,1110,1111,1112,1113,1114,1115,1116,1117,1118,1119,1120,1121,1122,1123,1124,1125,1126,1127,1128,1129,1130,1131,1132,1133,1134,1135,1136,1137,1138,1139,1140,1141,1142,1143,1144,1145,1146,1147,1148,1149,1150,1151,1152,1153,1154,1155,1156,1157,1158,1159,1160,1161,1162,1163,1164,1165,1166,1167,1168,1169,1170,1171,1172,1173,1174,1175,1176,1177,1178,1179,1180,1181,1182,1183,1184,1185,1186,1187,1188,1189,1190,1191,1192,1193,1194,1195,1196,1197,1198,1199,1200,1201,1202,1203,1204,1205,1206,1207,1208,1209,1210,1211,1212,1213,1214,1215,1216,1217,1218,1219,1220,1221,1222,1223,1224,1225,1226,1227,1228,1229,1230,1231,1232,1233,1234,1235,1236,1237,1238,1239,1240,1241,1242,1243,1244,1245,1246,1247,1248,1249,1250,1251,1252,1253,1254,1255,1256,1257,1258,1259,1260,1261,1262,1263,1264,1265,1266,1267,1268,1269,1270,1271,1272,1273,1274,1275,1276,1277,1278,1279,1280,1281,1282,1283,1284,1285,1286,1287,1288,1289,1290,1291,1292,1293,1294,1295,1296,1297,1298,1299,1300,1301,1302,1303,1304,1305,1306,1307,1308,1309,1310,1311,1312,1313,1314,1315,1316,1317,1318,1319,1320,1321,1322,1323,1324,1325,1326,1327,1328,1329,1330,1331,1332,1333,1334,1335,1336],\"y\":[162.830002,164.220001,164.369995,163.360001,164.809998,167.100006,169.929993,165.559998,169.009995,171.669998,171.589996,173.889999,171.830002,172.529999,164.580002,160.949997,157.490005,156.529999,156.240005,161.789993,156.669998,159.75,162.49000500000002,167.589996,166.259995,170.690002,159.25,160.779999,163.160004,164.710007,167.869995,173.009995,174.029999,168.059998,166.860001,167.820007,171.720001,172.639999,175.410004,176.589996,178.279999,174.660004,176.320007,175.99999999999997,177.600006,176.830002,180.199997,181.130005,177.520004,175.399994,167.330002,167.550003,164.259995,155.479996,148.380005,154.589996,147.869995,142.429993,144.770004,147.570007,149.940002,146.979996,144.779999,146.509995,142.660004,140.779999,143.520004,142.770004,141.509995,138.919998,137.990005,135.940002,137.649994,139.580002,144.610001,146.520004,145.399994,144.190002,148.479996,147.320007,149.259995,150.38999899999996,163.779999,160.509995,159.139999,155.360001,151.139999,153.639999,153.410004,155.410004,155.820007,159.619995,159.850006,156.809998,156.410004,157.699997,159.020004,157.690002,156.899994,161.990005,163.190002,164.619995,163.410004,164.630005,160.619995,158.059998,155.539993,157.850006,157.119995,155.110001,155.949997,159.970001,162.5,159.410004,163.270004,160.619995,156.449997,156.899994,156.279999,155.009995,154.889999,144.770004,140.960007,141.020004,145.779999,144.770004,143.669998,151.729996,157.630005,158.529999,161.419998,160.029999,157.139999,157.169998,157.639999,165.279999,160.139999,161.309998,162.720001,168.0,168.960007,173.190002,173.130005,174.929993,177.089996,177.899994,179.979996,180.899994,182.220001,178.5,181.130005,183.419998,185.610001,185.339996,177.929993,181.300003,186.460007,186.550003,188.050003,184.990005,184.089996,182.990005,181.240005,185.889999,184.240005,183.699997,178.360001,181.029999,183.309998,182.490005,181.029999,176.559998,172.009995,172.520004,173.539993,168.0,169.75,173.529999,172.330002,171.039993,168.720001,169.880005,172.669998,174.699997,172.080002,177.399994,179.630005,176.979996,178.320007,179.490005,173.990005,172.139999,175.240005,176.559998,175.179993,176.039993,175.199997,177.080002,177.559998,180.490005,177.229996,179.0,180.899994,180.660004,180.830002,179.080002,187.789993,179.449997,174.199997,174.020004,171.360001,169.009995,169.449997,169.639999,174.089996,170.0,168.440002,171.970001,171.009995,172.320007,169.009995,166.570007,162.850006,161.0,160.350006,161.929993,162.41000399999996,162.820007,160.770004,162.050003,162.559998,164.960007,166.169998,164.029999,162.99000499999997,160.509995,159.669998,158.710007,160.759995,153.800003,154.289993,152.339996,154.580002,159.309998,156.070007,154.520004,156.059998,157.649994,159.490005,160.860001,162.389999,163.160004,169.949997,169.039993,169.880005,167.649994,168.289993,169.220001,169.820007,172.089996,172.44000199999996,170.919998,170.520004,170.679993,169.850006,169.119995,171.47999599999997,168.990005],\"type\":\"scatter\"},{\"marker\":{\"color\":\"#9569BE\",\"size\":4},\"mode\":\"lines+markers\",\"name\":\"PredictedValidate\",\"x\":[1069,1070,1071,1072,1073,1074,1075,1076,1077,1078,1079,1080,1081,1082,1083,1084,1085,1086,1087,1088,1089,1090,1091,1092,1093,1094,1095,1096,1097,1098,1099,1100,1101,1102,1103,1104,1105,1106,1107,1108,1109,1110,1111,1112,1113,1114,1115,1116,1117,1118,1119,1120,1121,1122,1123,1124,1125,1126,1127,1128,1129,1130,1131,1132,1133,1134,1135,1136,1137,1138,1139,1140,1141,1142,1143,1144,1145,1146,1147,1148,1149,1150,1151,1152,1153,1154,1155,1156,1157,1158,1159,1160,1161,1162,1163,1164,1165,1166,1167,1168,1169,1170,1171,1172,1173,1174,1175,1176,1177,1178,1179,1180,1181,1182,1183,1184,1185,1186,1187,1188,1189,1190,1191,1192,1193,1194,1195,1196,1197,1198,1199,1200,1201,1202,1203,1204,1205,1206,1207,1208,1209,1210,1211,1212,1213,1214,1215,1216,1217,1218,1219,1220,1221,1222,1223,1224,1225,1226,1227,1228,1229,1230,1231,1232,1233,1234,1235,1236,1237,1238,1239,1240,1241,1242,1243,1244,1245,1246,1247,1248,1249,1250,1251,1252,1253,1254,1255,1256,1257,1258,1259,1260,1261,1262,1263,1264,1265,1266,1267,1268,1269,1270,1271,1272,1273,1274,1275,1276,1277,1278,1279,1280,1281,1282,1283,1284,1285,1286,1287,1288,1289,1290,1291,1292,1293,1294,1295,1296,1297,1298,1299,1300,1301,1302,1303,1304,1305,1306,1307,1308,1309,1310,1311,1312,1313,1314,1315,1316,1317,1318,1319,1320,1321,1322,1323,1324,1325,1326,1327,1328,1329,1330,1331,1332,1333,1334,1335,1336],\"y\":[165.98167419433594,164.31298828125,163.8330535888672,163.989990234375,163.8578643798828,164.432373046875,166.06768798828125,168.68014526367188,168.40635681152344,169.03126525878906,170.80552673339844,172.08303833007812,173.74850463867188,173.75897216796875,173.5823211669922,169.5498046875,164.4322052001953,159.54315185546875,156.42784118652344,155.15438842773438,157.71568298339844,158.1480255126953,159.37045288085938,161.5710906982422,165.5092010498047,167.6389923095703,170.3589324951172,166.53323364257812,163.05282592773438,162.0467987060547,162.89682006835938,165.5026092529297,170.03286743164062,173.73138427734375,172.74473571777344,170.16294860839844,168.5148468017578,169.6252899169922,171.5237274169922,174.24822998046875,176.6316680908203,178.69491577148438,177.95016479492188,177.4683380126953,177.00741577148438,177.5126190185547,177.6998748779297,179.39418029785156,181.2347869873047,180.56837463378906,178.44699096679688,172.87403869628906,168.88345336914062,165.50534057617188,159.769287109375,152.71217346191406,151.24578857421875,149.10159301757812,145.5057373046875,144.1509552001953,145.33685302734375,147.98660278320312,148.7777862548828,147.7195587158203,147.1937713623047,145.22393798828125,142.7406463623047,142.2333984375,142.18438720703125,141.801025390625,140.37396240234375,138.80206298828125,136.92373657226562,136.44546508789062,137.44107055664062,140.73101806640625,144.3228302001953,146.1244354248047,146.0635986328125,147.20066833496094,147.60452270507812,148.42501831054688,149.4706573486328,156.1289825439453,160.27725219726562,161.364990234375,159.18858337402344,154.84934997558594,152.6754150390625,151.89952087402344,152.87966918945312,154.29356384277344,157.1046142578125,159.33218383789062,159.09327697753906,157.99398803710938,157.5938262939453,158.12423706054688,158.1051788330078,157.5924072265625,159.48208618164062,161.84410095214844,164.06552124023438,164.7288818359375,165.1678009033203,163.39016723632812,160.48008728027344,157.2493896484375,156.35260009765625,156.24191284179688,155.62449645996094,155.5994873046875,157.6524658203125,160.68316650390625,161.35772705078125,162.82693481445312,162.56927490234375,159.92739868164062,157.82025146484375,156.3972930908203,155.21875,154.61431884765625,149.9126434326172,144.34359741210938,140.83123779296875,141.53237915039062,142.9575958251953,143.75625610351562,147.6798095703125,153.61712646484375,158.1880340576172,161.7069549560547,162.6014862060547,160.78138732910156,158.69842529296875,157.4495086669922,160.4353790283203,161.08383178710938,161.4234161376953,162.14996337890625,165.14039611816406,167.99449157714844,171.62640380859375,173.85549926757812,175.51507568359375,177.2095947265625,178.4661102294922,179.98373413085938,181.2913360595703,182.57037353515625,181.41363525390625,181.35264587402344,182.7043914794922,184.97789001464844,186.4203643798828,183.34478759765625,182.0311279296875,184.26438903808594,186.60862731933594,188.79580688476562,188.4397735595703,187.05880737304688,185.38421630859375,183.47860717773438,184.68919372558594,185.4443359375,185.57589721679688,182.8465576171875,181.86659240722656,182.89785766601562,183.68995666503906,183.41091918945312,180.75729370117188,176.37356567382812,173.668212890625,173.13194274902344,170.8788299560547,170.10426330566406,171.94456481933594,173.2369842529297,173.26852416992188,171.7861785888672,171.0067138671875,172.0355682373047,174.10520935058594,174.33079528808594,176.48684692382812,179.25045776367188,179.66360473632812,179.8214111328125,180.2860107421875,177.88259887695312,174.8109588623047,174.35072326660156,175.49879455566406,176.05177307128906,176.70547485351562,176.71240234375,177.45677185058594,178.2998046875,180.2334747314453,180.0095977783203,180.12957763671875,181.1438446044922,181.81871032714844,182.17825317382812,181.400634765625,184.92031860351562,183.92117309570312,179.5953369140625,176.0836944580078,173.00912475585938,170.36431884765625,169.3325958251953,169.42933654785156,172.08665466308594,172.4562225341797,171.3421173095703,171.91648864746094,172.19622802734375,172.89991760253906,171.79226684570312,169.45523071289062,165.95193481445312,162.73236083984375,160.68722534179688,160.67132568359375,161.5911102294922,162.70748901367188,162.515869140625,162.63095092773438,162.97796630859375,164.34414672851562,165.96949768066406,165.95408630371094,164.9325714111328,162.8076629638672,160.82081604003906,159.2481231689453,159.44580078125,156.9258270263672,154.99273681640625,153.1519012451172,153.1949920654297,156.00498962402344,157.08319091796875,156.56504821777344,156.4346160888672,157.12440490722656,158.5848846435547,160.28099060058594,162.021484375,163.3542022705078,167.1128387451172,169.49087524414062,170.81272888183594,170.08091735839844,169.25851440429688,169.1024932861328,169.46897888183594,170.9364471435547,172.2918701171875,172.3412322998047,171.80453491210938,171.37962341308594,170.76573181152344,170.03460693359375,170.7379150390625],\"type\":\"scatter\"},{\"marker\":{\"color\":\"#000000\",\"size\":4},\"mode\":\"lines+markers\",\"name\":\"Next30Days\",\"x\":[1337,1338,1339,1340,1341,1342,1343,1344,1345,1346,1347,1348,1349,1350,1351,1352,1353,1354,1355,1356,1357,1358,1359,1360,1361,1362,1363,1364,1365,1366],\"y\":[170.3875179227134,170.61253002820314,171.01249925612998,171.5036682643342,172.0519358492222,172.63878764973177,173.25214665481246,173.88369296847642,174.52795444436921,175.1817084190401,175.84378228969885,176.51452703949357,177.19540243924476,177.88871381008423,178.59728497097623,179.32411523245906,180.0721959281813,180.84454232246065,181.6439223960333,182.47291268428182,183.3338185083381,184.2288335128777,185.1599200127741,186.12911211490834,187.1381727119106,188.18908804932357,189.28372471934392,190.42430827420617,191.61299247413731,192.85223420117404],\"type\":\"scatter\"}],                        {\"template\":{\"data\":{\"histogram2dcontour\":[{\"type\":\"histogram2dcontour\",\"colorbar\":{\"outlinewidth\":0,\"ticks\":\"\"},\"colorscale\":[[0.0,\"#0d0887\"],[0.1111111111111111,\"#46039f\"],[0.2222222222222222,\"#7201a8\"],[0.3333333333333333,\"#9c179e\"],[0.4444444444444444,\"#bd3786\"],[0.5555555555555556,\"#d8576b\"],[0.6666666666666666,\"#ed7953\"],[0.7777777777777778,\"#fb9f3a\"],[0.8888888888888888,\"#fdca26\"],[1.0,\"#f0f921\"]]}],\"choropleth\":[{\"type\":\"choropleth\",\"colorbar\":{\"outlinewidth\":0,\"ticks\":\"\"}}],\"histogram2d\":[{\"type\":\"histogram2d\",\"colorbar\":{\"outlinewidth\":0,\"ticks\":\"\"},\"colorscale\":[[0.0,\"#0d0887\"],[0.1111111111111111,\"#46039f\"],[0.2222222222222222,\"#7201a8\"],[0.3333333333333333,\"#9c179e\"],[0.4444444444444444,\"#bd3786\"],[0.5555555555555556,\"#d8576b\"],[0.6666666666666666,\"#ed7953\"],[0.7777777777777778,\"#fb9f3a\"],[0.8888888888888888,\"#fdca26\"],[1.0,\"#f0f921\"]]}],\"heatmap\":[{\"type\":\"heatmap\",\"colorbar\":{\"outlinewidth\":0,\"ticks\":\"\"},\"colorscale\":[[0.0,\"#0d0887\"],[0.1111111111111111,\"#46039f\"],[0.2222222222222222,\"#7201a8\"],[0.3333333333333333,\"#9c179e\"],[0.4444444444444444,\"#bd3786\"],[0.5555555555555556,\"#d8576b\"],[0.6666666666666666,\"#ed7953\"],[0.7777777777777778,\"#fb9f3a\"],[0.8888888888888888,\"#fdca26\"],[1.0,\"#f0f921\"]]}],\"heatmapgl\":[{\"type\":\"heatmapgl\",\"colorbar\":{\"outlinewidth\":0,\"ticks\":\"\"},\"colorscale\":[[0.0,\"#0d0887\"],[0.1111111111111111,\"#46039f\"],[0.2222222222222222,\"#7201a8\"],[0.3333333333333333,\"#9c179e\"],[0.4444444444444444,\"#bd3786\"],[0.5555555555555556,\"#d8576b\"],[0.6666666666666666,\"#ed7953\"],[0.7777777777777778,\"#fb9f3a\"],[0.8888888888888888,\"#fdca26\"],[1.0,\"#f0f921\"]]}],\"contourcarpet\":[{\"type\":\"contourcarpet\",\"colorbar\":{\"outlinewidth\":0,\"ticks\":\"\"}}],\"contour\":[{\"type\":\"contour\",\"colorbar\":{\"outlinewidth\":0,\"ticks\":\"\"},\"colorscale\":[[0.0,\"#0d0887\"],[0.1111111111111111,\"#46039f\"],[0.2222222222222222,\"#7201a8\"],[0.3333333333333333,\"#9c179e\"],[0.4444444444444444,\"#bd3786\"],[0.5555555555555556,\"#d8576b\"],[0.6666666666666666,\"#ed7953\"],[0.7777777777777778,\"#fb9f3a\"],[0.8888888888888888,\"#fdca26\"],[1.0,\"#f0f921\"]]}],\"surface\":[{\"type\":\"surface\",\"colorbar\":{\"outlinewidth\":0,\"ticks\":\"\"},\"colorscale\":[[0.0,\"#0d0887\"],[0.1111111111111111,\"#46039f\"],[0.2222222222222222,\"#7201a8\"],[0.3333333333333333,\"#9c179e\"],[0.4444444444444444,\"#bd3786\"],[0.5555555555555556,\"#d8576b\"],[0.6666666666666666,\"#ed7953\"],[0.7777777777777778,\"#fb9f3a\"],[0.8888888888888888,\"#fdca26\"],[1.0,\"#f0f921\"]]}],\"mesh3d\":[{\"type\":\"mesh3d\",\"colorbar\":{\"outlinewidth\":0,\"ticks\":\"\"}}],\"scatter\":[{\"fillpattern\":{\"fillmode\":\"overlay\",\"size\":10,\"solidity\":0.2},\"type\":\"scatter\"}],\"parcoords\":[{\"type\":\"parcoords\",\"line\":{\"colorbar\":{\"outlinewidth\":0,\"ticks\":\"\"}}}],\"scatterpolargl\":[{\"type\":\"scatterpolargl\",\"marker\":{\"colorbar\":{\"outlinewidth\":0,\"ticks\":\"\"}}}],\"bar\":[{\"error_x\":{\"color\":\"#2a3f5f\"},\"error_y\":{\"color\":\"#2a3f5f\"},\"marker\":{\"line\":{\"color\":\"#E5ECF6\",\"width\":0.5},\"pattern\":{\"fillmode\":\"overlay\",\"size\":10,\"solidity\":0.2}},\"type\":\"bar\"}],\"scattergeo\":[{\"type\":\"scattergeo\",\"marker\":{\"colorbar\":{\"outlinewidth\":0,\"ticks\":\"\"}}}],\"scatterpolar\":[{\"type\":\"scatterpolar\",\"marker\":{\"colorbar\":{\"outlinewidth\":0,\"ticks\":\"\"}}}],\"histogram\":[{\"marker\":{\"pattern\":{\"fillmode\":\"overlay\",\"size\":10,\"solidity\":0.2}},\"type\":\"histogram\"}],\"scattergl\":[{\"type\":\"scattergl\",\"marker\":{\"colorbar\":{\"outlinewidth\":0,\"ticks\":\"\"}}}],\"scatter3d\":[{\"type\":\"scatter3d\",\"line\":{\"colorbar\":{\"outlinewidth\":0,\"ticks\":\"\"}},\"marker\":{\"colorbar\":{\"outlinewidth\":0,\"ticks\":\"\"}}}],\"scattermapbox\":[{\"type\":\"scattermapbox\",\"marker\":{\"colorbar\":{\"outlinewidth\":0,\"ticks\":\"\"}}}],\"scatterternary\":[{\"type\":\"scatterternary\",\"marker\":{\"colorbar\":{\"outlinewidth\":0,\"ticks\":\"\"}}}],\"scattercarpet\":[{\"type\":\"scattercarpet\",\"marker\":{\"colorbar\":{\"outlinewidth\":0,\"ticks\":\"\"}}}],\"carpet\":[{\"aaxis\":{\"endlinecolor\":\"#2a3f5f\",\"gridcolor\":\"white\",\"linecolor\":\"white\",\"minorgridcolor\":\"white\",\"startlinecolor\":\"#2a3f5f\"},\"baxis\":{\"endlinecolor\":\"#2a3f5f\",\"gridcolor\":\"white\",\"linecolor\":\"white\",\"minorgridcolor\":\"white\",\"startlinecolor\":\"#2a3f5f\"},\"type\":\"carpet\"}],\"table\":[{\"cells\":{\"fill\":{\"color\":\"#EBF0F8\"},\"line\":{\"color\":\"white\"}},\"header\":{\"fill\":{\"color\":\"#C8D4E3\"},\"line\":{\"color\":\"white\"}},\"type\":\"table\"}],\"barpolar\":[{\"marker\":{\"line\":{\"color\":\"#E5ECF6\",\"width\":0.5},\"pattern\":{\"fillmode\":\"overlay\",\"size\":10,\"solidity\":0.2}},\"type\":\"barpolar\"}],\"pie\":[{\"automargin\":true,\"type\":\"pie\"}]},\"layout\":{\"autotypenumbers\":\"strict\",\"colorway\":[\"#636efa\",\"#EF553B\",\"#00cc96\",\"#ab63fa\",\"#FFA15A\",\"#19d3f3\",\"#FF6692\",\"#B6E880\",\"#FF97FF\",\"#FECB52\"],\"font\":{\"color\":\"#2a3f5f\"},\"hovermode\":\"closest\",\"hoverlabel\":{\"align\":\"left\"},\"paper_bgcolor\":\"white\",\"plot_bgcolor\":\"#E5ECF6\",\"polar\":{\"bgcolor\":\"#E5ECF6\",\"angularaxis\":{\"gridcolor\":\"white\",\"linecolor\":\"white\",\"ticks\":\"\"},\"radialaxis\":{\"gridcolor\":\"white\",\"linecolor\":\"white\",\"ticks\":\"\"}},\"ternary\":{\"bgcolor\":\"#E5ECF6\",\"aaxis\":{\"gridcolor\":\"white\",\"linecolor\":\"white\",\"ticks\":\"\"},\"baxis\":{\"gridcolor\":\"white\",\"linecolor\":\"white\",\"ticks\":\"\"},\"caxis\":{\"gridcolor\":\"white\",\"linecolor\":\"white\",\"ticks\":\"\"}},\"coloraxis\":{\"colorbar\":{\"outlinewidth\":0,\"ticks\":\"\"}},\"colorscale\":{\"sequential\":[[0.0,\"#0d0887\"],[0.1111111111111111,\"#46039f\"],[0.2222222222222222,\"#7201a8\"],[0.3333333333333333,\"#9c179e\"],[0.4444444444444444,\"#bd3786\"],[0.5555555555555556,\"#d8576b\"],[0.6666666666666666,\"#ed7953\"],[0.7777777777777778,\"#fb9f3a\"],[0.8888888888888888,\"#fdca26\"],[1.0,\"#f0f921\"]],\"sequentialminus\":[[0.0,\"#0d0887\"],[0.1111111111111111,\"#46039f\"],[0.2222222222222222,\"#7201a8\"],[0.3333333333333333,\"#9c179e\"],[0.4444444444444444,\"#bd3786\"],[0.5555555555555556,\"#d8576b\"],[0.6666666666666666,\"#ed7953\"],[0.7777777777777778,\"#fb9f3a\"],[0.8888888888888888,\"#fdca26\"],[1.0,\"#f0f921\"]],\"diverging\":[[0,\"#8e0152\"],[0.1,\"#c51b7d\"],[0.2,\"#de77ae\"],[0.3,\"#f1b6da\"],[0.4,\"#fde0ef\"],[0.5,\"#f7f7f7\"],[0.6,\"#e6f5d0\"],[0.7,\"#b8e186\"],[0.8,\"#7fbc41\"],[0.9,\"#4d9221\"],[1,\"#276419\"]]},\"xaxis\":{\"gridcolor\":\"white\",\"linecolor\":\"white\",\"ticks\":\"\",\"title\":{\"standoff\":15},\"zerolinecolor\":\"white\",\"automargin\":true,\"zerolinewidth\":2},\"yaxis\":{\"gridcolor\":\"white\",\"linecolor\":\"white\",\"ticks\":\"\",\"title\":{\"standoff\":15},\"zerolinecolor\":\"white\",\"automargin\":true,\"zerolinewidth\":2},\"scene\":{\"xaxis\":{\"backgroundcolor\":\"#E5ECF6\",\"gridcolor\":\"white\",\"linecolor\":\"white\",\"showbackground\":true,\"ticks\":\"\",\"zerolinecolor\":\"white\",\"gridwidth\":2},\"yaxis\":{\"backgroundcolor\":\"#E5ECF6\",\"gridcolor\":\"white\",\"linecolor\":\"white\",\"showbackground\":true,\"ticks\":\"\",\"zerolinecolor\":\"white\",\"gridwidth\":2},\"zaxis\":{\"backgroundcolor\":\"#E5ECF6\",\"gridcolor\":\"white\",\"linecolor\":\"white\",\"showbackground\":true,\"ticks\":\"\",\"zerolinecolor\":\"white\",\"gridwidth\":2}},\"shapedefaults\":{\"line\":{\"color\":\"#2a3f5f\"}},\"annotationdefaults\":{\"arrowcolor\":\"#2a3f5f\",\"arrowhead\":0,\"arrowwidth\":1},\"geo\":{\"bgcolor\":\"white\",\"landcolor\":\"#E5ECF6\",\"subunitcolor\":\"white\",\"showland\":true,\"showlakes\":true,\"lakecolor\":\"white\"},\"title\":{\"x\":0.05},\"mapbox\":{\"style\":\"light\"}}},\"legend\":{\"orientation\":\"h\",\"x\":0.5,\"xanchor\":\"center\"},\"xaxis\":{\"gridcolor\":\"lightgrey\",\"title\":{\"text\":\"Timestep\"}},\"yaxis\":{\"gridcolor\":\"lightgrey\",\"title\":{\"text\":\"Stock price\"}},\"title\":{\"text\":\"LSTM 6:2:2 (CVX Stock Price)\",\"x\":0.5},\"margin\":{\"l\":0,\"r\":0,\"t\":30,\"b\":0},\"plot_bgcolor\":\"#FFFFFF\"},                        {\"responsive\": true}                    ).then(function(){\n",
              "                            \n",
              "var gd = document.getElementById('f53b7b2e-d2f6-4380-9092-7bddfbbd97f0');\n",
              "var x = new MutationObserver(function (mutations, observer) {{\n",
              "        var display = window.getComputedStyle(gd).display;\n",
              "        if (!display || display === 'none') {{\n",
              "            console.log([gd, 'removed!']);\n",
              "            Plotly.purge(gd);\n",
              "            observer.disconnect();\n",
              "        }}\n",
              "}});\n",
              "\n",
              "// Listen for the removal of the full notebook cells\n",
              "var notebookContainer = gd.closest('#notebook-container');\n",
              "if (notebookContainer) {{\n",
              "    x.observe(notebookContainer, {childList: true});\n",
              "}}\n",
              "\n",
              "// Listen for the clearing of the current output cell\n",
              "var outputEl = gd.closest('.output');\n",
              "if (outputEl) {{\n",
              "    x.observe(outputEl, {childList: true});\n",
              "}}\n",
              "\n",
              "                        })                };                            </script>        </div>\n",
              "</body>\n",
              "</html>"
            ]
          },
          "metadata": {}
        }
      ]
    },
    {
      "cell_type": "markdown",
      "source": [
        "\n",
        "\n",
        "*   Plot 3\n",
        "\n"
      ],
      "metadata": {
        "id": "_xdmjnSgf96v"
      }
    },
    {
      "cell_type": "code",
      "source": [
        "prediect_index = pd.RangeIndex(start=1, stop=1+n_days, step=1)\n",
        "\n",
        "fig2 = go.Figure()\n",
        "fig2.add_trace(go.Scatter(x=prediect_index, y=scaler.inverse_transform(lst_output)[:, 0], mode='lines+markers', marker=dict(size=4), name='Next30Days', marker_color='#FF7F0E'))\n",
        "for i in range(len(prediect_index)):\n",
        "  fig2.add_annotation(\n",
        "      x=prediect_index[i],\n",
        "      y=scaler.inverse_transform(lst_output)[i, 0],\n",
        "      text=f\"{scaler.inverse_transform(lst_output)[i, 0]:.2f}\",\n",
        "      showarrow=False,\n",
        "      font=dict(color='black'),\n",
        "      align='center',\n",
        "      yshift=10)\n",
        "\n",
        "fig2.update_layout(legend_orientation=\"h\",\n",
        "                  legend=dict(x=.5, xanchor=\"center\"),\n",
        "                  plot_bgcolor='#FFFFFF',\n",
        "                  xaxis=dict(gridcolor = 'lightgrey'),\n",
        "                  yaxis=dict(gridcolor = 'lightgrey'),\n",
        "                  title_text = f'LSTM Prediction 6:2:2 (CVX Stock Price)', title_x = 0.5,\n",
        "                  xaxis_title=\"Day\",\n",
        "                  yaxis_title=\"Stock price\",\n",
        "                  margin=dict(l=0, r=0, t=30, b=0))\n",
        "fig2.show()"
      ],
      "metadata": {
        "colab": {
          "base_uri": "https://localhost:8080/",
          "height": 542
        },
        "id": "9pGr8nBbfaU9",
        "outputId": "6446045b-6294-4629-84d4-bec5d9952321"
      },
      "execution_count": null,
      "outputs": [
        {
          "output_type": "display_data",
          "data": {
            "text/html": [
              "<html>\n",
              "<head><meta charset=\"utf-8\" /></head>\n",
              "<body>\n",
              "    <div>            <script src=\"https://cdnjs.cloudflare.com/ajax/libs/mathjax/2.7.5/MathJax.js?config=TeX-AMS-MML_SVG\"></script><script type=\"text/javascript\">if (window.MathJax && window.MathJax.Hub && window.MathJax.Hub.Config) {window.MathJax.Hub.Config({SVG: {font: \"STIX-Web\"}});}</script>                <script type=\"text/javascript\">window.PlotlyConfig = {MathJaxConfig: 'local'};</script>\n",
              "        <script src=\"https://cdn.plot.ly/plotly-2.18.2.min.js\"></script>                <div id=\"e78cded1-95ac-4cb4-9c3d-4d1b59c6c174\" class=\"plotly-graph-div\" style=\"height:525px; width:100%;\"></div>            <script type=\"text/javascript\">                                    window.PLOTLYENV=window.PLOTLYENV || {};                                    if (document.getElementById(\"e78cded1-95ac-4cb4-9c3d-4d1b59c6c174\")) {                    Plotly.newPlot(                        \"e78cded1-95ac-4cb4-9c3d-4d1b59c6c174\",                        [{\"marker\":{\"color\":\"#FF7F0E\",\"size\":4},\"mode\":\"lines+markers\",\"name\":\"Next30Days\",\"x\":[1,2,3,4,5,6,7,8,9,10,11,12,13,14,15,16,17,18,19,20,21,22,23,24,25,26,27,28,29,30],\"y\":[170.3875179227134,170.61253002820314,171.01249925612998,171.5036682643342,172.0519358492222,172.63878764973177,173.25214665481246,173.88369296847642,174.52795444436921,175.1817084190401,175.84378228969885,176.51452703949357,177.19540243924476,177.88871381008423,178.59728497097623,179.32411523245906,180.0721959281813,180.84454232246065,181.6439223960333,182.47291268428182,183.3338185083381,184.2288335128777,185.1599200127741,186.12911211490834,187.1381727119106,188.18908804932357,189.28372471934392,190.42430827420617,191.61299247413731,192.85223420117404],\"type\":\"scatter\"}],                        {\"template\":{\"data\":{\"histogram2dcontour\":[{\"type\":\"histogram2dcontour\",\"colorbar\":{\"outlinewidth\":0,\"ticks\":\"\"},\"colorscale\":[[0.0,\"#0d0887\"],[0.1111111111111111,\"#46039f\"],[0.2222222222222222,\"#7201a8\"],[0.3333333333333333,\"#9c179e\"],[0.4444444444444444,\"#bd3786\"],[0.5555555555555556,\"#d8576b\"],[0.6666666666666666,\"#ed7953\"],[0.7777777777777778,\"#fb9f3a\"],[0.8888888888888888,\"#fdca26\"],[1.0,\"#f0f921\"]]}],\"choropleth\":[{\"type\":\"choropleth\",\"colorbar\":{\"outlinewidth\":0,\"ticks\":\"\"}}],\"histogram2d\":[{\"type\":\"histogram2d\",\"colorbar\":{\"outlinewidth\":0,\"ticks\":\"\"},\"colorscale\":[[0.0,\"#0d0887\"],[0.1111111111111111,\"#46039f\"],[0.2222222222222222,\"#7201a8\"],[0.3333333333333333,\"#9c179e\"],[0.4444444444444444,\"#bd3786\"],[0.5555555555555556,\"#d8576b\"],[0.6666666666666666,\"#ed7953\"],[0.7777777777777778,\"#fb9f3a\"],[0.8888888888888888,\"#fdca26\"],[1.0,\"#f0f921\"]]}],\"heatmap\":[{\"type\":\"heatmap\",\"colorbar\":{\"outlinewidth\":0,\"ticks\":\"\"},\"colorscale\":[[0.0,\"#0d0887\"],[0.1111111111111111,\"#46039f\"],[0.2222222222222222,\"#7201a8\"],[0.3333333333333333,\"#9c179e\"],[0.4444444444444444,\"#bd3786\"],[0.5555555555555556,\"#d8576b\"],[0.6666666666666666,\"#ed7953\"],[0.7777777777777778,\"#fb9f3a\"],[0.8888888888888888,\"#fdca26\"],[1.0,\"#f0f921\"]]}],\"heatmapgl\":[{\"type\":\"heatmapgl\",\"colorbar\":{\"outlinewidth\":0,\"ticks\":\"\"},\"colorscale\":[[0.0,\"#0d0887\"],[0.1111111111111111,\"#46039f\"],[0.2222222222222222,\"#7201a8\"],[0.3333333333333333,\"#9c179e\"],[0.4444444444444444,\"#bd3786\"],[0.5555555555555556,\"#d8576b\"],[0.6666666666666666,\"#ed7953\"],[0.7777777777777778,\"#fb9f3a\"],[0.8888888888888888,\"#fdca26\"],[1.0,\"#f0f921\"]]}],\"contourcarpet\":[{\"type\":\"contourcarpet\",\"colorbar\":{\"outlinewidth\":0,\"ticks\":\"\"}}],\"contour\":[{\"type\":\"contour\",\"colorbar\":{\"outlinewidth\":0,\"ticks\":\"\"},\"colorscale\":[[0.0,\"#0d0887\"],[0.1111111111111111,\"#46039f\"],[0.2222222222222222,\"#7201a8\"],[0.3333333333333333,\"#9c179e\"],[0.4444444444444444,\"#bd3786\"],[0.5555555555555556,\"#d8576b\"],[0.6666666666666666,\"#ed7953\"],[0.7777777777777778,\"#fb9f3a\"],[0.8888888888888888,\"#fdca26\"],[1.0,\"#f0f921\"]]}],\"surface\":[{\"type\":\"surface\",\"colorbar\":{\"outlinewidth\":0,\"ticks\":\"\"},\"colorscale\":[[0.0,\"#0d0887\"],[0.1111111111111111,\"#46039f\"],[0.2222222222222222,\"#7201a8\"],[0.3333333333333333,\"#9c179e\"],[0.4444444444444444,\"#bd3786\"],[0.5555555555555556,\"#d8576b\"],[0.6666666666666666,\"#ed7953\"],[0.7777777777777778,\"#fb9f3a\"],[0.8888888888888888,\"#fdca26\"],[1.0,\"#f0f921\"]]}],\"mesh3d\":[{\"type\":\"mesh3d\",\"colorbar\":{\"outlinewidth\":0,\"ticks\":\"\"}}],\"scatter\":[{\"fillpattern\":{\"fillmode\":\"overlay\",\"size\":10,\"solidity\":0.2},\"type\":\"scatter\"}],\"parcoords\":[{\"type\":\"parcoords\",\"line\":{\"colorbar\":{\"outlinewidth\":0,\"ticks\":\"\"}}}],\"scatterpolargl\":[{\"type\":\"scatterpolargl\",\"marker\":{\"colorbar\":{\"outlinewidth\":0,\"ticks\":\"\"}}}],\"bar\":[{\"error_x\":{\"color\":\"#2a3f5f\"},\"error_y\":{\"color\":\"#2a3f5f\"},\"marker\":{\"line\":{\"color\":\"#E5ECF6\",\"width\":0.5},\"pattern\":{\"fillmode\":\"overlay\",\"size\":10,\"solidity\":0.2}},\"type\":\"bar\"}],\"scattergeo\":[{\"type\":\"scattergeo\",\"marker\":{\"colorbar\":{\"outlinewidth\":0,\"ticks\":\"\"}}}],\"scatterpolar\":[{\"type\":\"scatterpolar\",\"marker\":{\"colorbar\":{\"outlinewidth\":0,\"ticks\":\"\"}}}],\"histogram\":[{\"marker\":{\"pattern\":{\"fillmode\":\"overlay\",\"size\":10,\"solidity\":0.2}},\"type\":\"histogram\"}],\"scattergl\":[{\"type\":\"scattergl\",\"marker\":{\"colorbar\":{\"outlinewidth\":0,\"ticks\":\"\"}}}],\"scatter3d\":[{\"type\":\"scatter3d\",\"line\":{\"colorbar\":{\"outlinewidth\":0,\"ticks\":\"\"}},\"marker\":{\"colorbar\":{\"outlinewidth\":0,\"ticks\":\"\"}}}],\"scattermapbox\":[{\"type\":\"scattermapbox\",\"marker\":{\"colorbar\":{\"outlinewidth\":0,\"ticks\":\"\"}}}],\"scatterternary\":[{\"type\":\"scatterternary\",\"marker\":{\"colorbar\":{\"outlinewidth\":0,\"ticks\":\"\"}}}],\"scattercarpet\":[{\"type\":\"scattercarpet\",\"marker\":{\"colorbar\":{\"outlinewidth\":0,\"ticks\":\"\"}}}],\"carpet\":[{\"aaxis\":{\"endlinecolor\":\"#2a3f5f\",\"gridcolor\":\"white\",\"linecolor\":\"white\",\"minorgridcolor\":\"white\",\"startlinecolor\":\"#2a3f5f\"},\"baxis\":{\"endlinecolor\":\"#2a3f5f\",\"gridcolor\":\"white\",\"linecolor\":\"white\",\"minorgridcolor\":\"white\",\"startlinecolor\":\"#2a3f5f\"},\"type\":\"carpet\"}],\"table\":[{\"cells\":{\"fill\":{\"color\":\"#EBF0F8\"},\"line\":{\"color\":\"white\"}},\"header\":{\"fill\":{\"color\":\"#C8D4E3\"},\"line\":{\"color\":\"white\"}},\"type\":\"table\"}],\"barpolar\":[{\"marker\":{\"line\":{\"color\":\"#E5ECF6\",\"width\":0.5},\"pattern\":{\"fillmode\":\"overlay\",\"size\":10,\"solidity\":0.2}},\"type\":\"barpolar\"}],\"pie\":[{\"automargin\":true,\"type\":\"pie\"}]},\"layout\":{\"autotypenumbers\":\"strict\",\"colorway\":[\"#636efa\",\"#EF553B\",\"#00cc96\",\"#ab63fa\",\"#FFA15A\",\"#19d3f3\",\"#FF6692\",\"#B6E880\",\"#FF97FF\",\"#FECB52\"],\"font\":{\"color\":\"#2a3f5f\"},\"hovermode\":\"closest\",\"hoverlabel\":{\"align\":\"left\"},\"paper_bgcolor\":\"white\",\"plot_bgcolor\":\"#E5ECF6\",\"polar\":{\"bgcolor\":\"#E5ECF6\",\"angularaxis\":{\"gridcolor\":\"white\",\"linecolor\":\"white\",\"ticks\":\"\"},\"radialaxis\":{\"gridcolor\":\"white\",\"linecolor\":\"white\",\"ticks\":\"\"}},\"ternary\":{\"bgcolor\":\"#E5ECF6\",\"aaxis\":{\"gridcolor\":\"white\",\"linecolor\":\"white\",\"ticks\":\"\"},\"baxis\":{\"gridcolor\":\"white\",\"linecolor\":\"white\",\"ticks\":\"\"},\"caxis\":{\"gridcolor\":\"white\",\"linecolor\":\"white\",\"ticks\":\"\"}},\"coloraxis\":{\"colorbar\":{\"outlinewidth\":0,\"ticks\":\"\"}},\"colorscale\":{\"sequential\":[[0.0,\"#0d0887\"],[0.1111111111111111,\"#46039f\"],[0.2222222222222222,\"#7201a8\"],[0.3333333333333333,\"#9c179e\"],[0.4444444444444444,\"#bd3786\"],[0.5555555555555556,\"#d8576b\"],[0.6666666666666666,\"#ed7953\"],[0.7777777777777778,\"#fb9f3a\"],[0.8888888888888888,\"#fdca26\"],[1.0,\"#f0f921\"]],\"sequentialminus\":[[0.0,\"#0d0887\"],[0.1111111111111111,\"#46039f\"],[0.2222222222222222,\"#7201a8\"],[0.3333333333333333,\"#9c179e\"],[0.4444444444444444,\"#bd3786\"],[0.5555555555555556,\"#d8576b\"],[0.6666666666666666,\"#ed7953\"],[0.7777777777777778,\"#fb9f3a\"],[0.8888888888888888,\"#fdca26\"],[1.0,\"#f0f921\"]],\"diverging\":[[0,\"#8e0152\"],[0.1,\"#c51b7d\"],[0.2,\"#de77ae\"],[0.3,\"#f1b6da\"],[0.4,\"#fde0ef\"],[0.5,\"#f7f7f7\"],[0.6,\"#e6f5d0\"],[0.7,\"#b8e186\"],[0.8,\"#7fbc41\"],[0.9,\"#4d9221\"],[1,\"#276419\"]]},\"xaxis\":{\"gridcolor\":\"white\",\"linecolor\":\"white\",\"ticks\":\"\",\"title\":{\"standoff\":15},\"zerolinecolor\":\"white\",\"automargin\":true,\"zerolinewidth\":2},\"yaxis\":{\"gridcolor\":\"white\",\"linecolor\":\"white\",\"ticks\":\"\",\"title\":{\"standoff\":15},\"zerolinecolor\":\"white\",\"automargin\":true,\"zerolinewidth\":2},\"scene\":{\"xaxis\":{\"backgroundcolor\":\"#E5ECF6\",\"gridcolor\":\"white\",\"linecolor\":\"white\",\"showbackground\":true,\"ticks\":\"\",\"zerolinecolor\":\"white\",\"gridwidth\":2},\"yaxis\":{\"backgroundcolor\":\"#E5ECF6\",\"gridcolor\":\"white\",\"linecolor\":\"white\",\"showbackground\":true,\"ticks\":\"\",\"zerolinecolor\":\"white\",\"gridwidth\":2},\"zaxis\":{\"backgroundcolor\":\"#E5ECF6\",\"gridcolor\":\"white\",\"linecolor\":\"white\",\"showbackground\":true,\"ticks\":\"\",\"zerolinecolor\":\"white\",\"gridwidth\":2}},\"shapedefaults\":{\"line\":{\"color\":\"#2a3f5f\"}},\"annotationdefaults\":{\"arrowcolor\":\"#2a3f5f\",\"arrowhead\":0,\"arrowwidth\":1},\"geo\":{\"bgcolor\":\"white\",\"landcolor\":\"#E5ECF6\",\"subunitcolor\":\"white\",\"showland\":true,\"showlakes\":true,\"lakecolor\":\"white\"},\"title\":{\"x\":0.05},\"mapbox\":{\"style\":\"light\"}}},\"annotations\":[{\"align\":\"center\",\"font\":{\"color\":\"black\"},\"showarrow\":false,\"text\":\"170.39\",\"x\":1,\"y\":170.3875179227134,\"yshift\":10},{\"align\":\"center\",\"font\":{\"color\":\"black\"},\"showarrow\":false,\"text\":\"170.61\",\"x\":2,\"y\":170.61253002820314,\"yshift\":10},{\"align\":\"center\",\"font\":{\"color\":\"black\"},\"showarrow\":false,\"text\":\"171.01\",\"x\":3,\"y\":171.01249925612998,\"yshift\":10},{\"align\":\"center\",\"font\":{\"color\":\"black\"},\"showarrow\":false,\"text\":\"171.50\",\"x\":4,\"y\":171.5036682643342,\"yshift\":10},{\"align\":\"center\",\"font\":{\"color\":\"black\"},\"showarrow\":false,\"text\":\"172.05\",\"x\":5,\"y\":172.0519358492222,\"yshift\":10},{\"align\":\"center\",\"font\":{\"color\":\"black\"},\"showarrow\":false,\"text\":\"172.64\",\"x\":6,\"y\":172.63878764973177,\"yshift\":10},{\"align\":\"center\",\"font\":{\"color\":\"black\"},\"showarrow\":false,\"text\":\"173.25\",\"x\":7,\"y\":173.25214665481246,\"yshift\":10},{\"align\":\"center\",\"font\":{\"color\":\"black\"},\"showarrow\":false,\"text\":\"173.88\",\"x\":8,\"y\":173.88369296847642,\"yshift\":10},{\"align\":\"center\",\"font\":{\"color\":\"black\"},\"showarrow\":false,\"text\":\"174.53\",\"x\":9,\"y\":174.52795444436921,\"yshift\":10},{\"align\":\"center\",\"font\":{\"color\":\"black\"},\"showarrow\":false,\"text\":\"175.18\",\"x\":10,\"y\":175.1817084190401,\"yshift\":10},{\"align\":\"center\",\"font\":{\"color\":\"black\"},\"showarrow\":false,\"text\":\"175.84\",\"x\":11,\"y\":175.84378228969885,\"yshift\":10},{\"align\":\"center\",\"font\":{\"color\":\"black\"},\"showarrow\":false,\"text\":\"176.51\",\"x\":12,\"y\":176.51452703949357,\"yshift\":10},{\"align\":\"center\",\"font\":{\"color\":\"black\"},\"showarrow\":false,\"text\":\"177.20\",\"x\":13,\"y\":177.19540243924476,\"yshift\":10},{\"align\":\"center\",\"font\":{\"color\":\"black\"},\"showarrow\":false,\"text\":\"177.89\",\"x\":14,\"y\":177.88871381008423,\"yshift\":10},{\"align\":\"center\",\"font\":{\"color\":\"black\"},\"showarrow\":false,\"text\":\"178.60\",\"x\":15,\"y\":178.59728497097623,\"yshift\":10},{\"align\":\"center\",\"font\":{\"color\":\"black\"},\"showarrow\":false,\"text\":\"179.32\",\"x\":16,\"y\":179.32411523245906,\"yshift\":10},{\"align\":\"center\",\"font\":{\"color\":\"black\"},\"showarrow\":false,\"text\":\"180.07\",\"x\":17,\"y\":180.0721959281813,\"yshift\":10},{\"align\":\"center\",\"font\":{\"color\":\"black\"},\"showarrow\":false,\"text\":\"180.84\",\"x\":18,\"y\":180.84454232246065,\"yshift\":10},{\"align\":\"center\",\"font\":{\"color\":\"black\"},\"showarrow\":false,\"text\":\"181.64\",\"x\":19,\"y\":181.6439223960333,\"yshift\":10},{\"align\":\"center\",\"font\":{\"color\":\"black\"},\"showarrow\":false,\"text\":\"182.47\",\"x\":20,\"y\":182.47291268428182,\"yshift\":10},{\"align\":\"center\",\"font\":{\"color\":\"black\"},\"showarrow\":false,\"text\":\"183.33\",\"x\":21,\"y\":183.3338185083381,\"yshift\":10},{\"align\":\"center\",\"font\":{\"color\":\"black\"},\"showarrow\":false,\"text\":\"184.23\",\"x\":22,\"y\":184.2288335128777,\"yshift\":10},{\"align\":\"center\",\"font\":{\"color\":\"black\"},\"showarrow\":false,\"text\":\"185.16\",\"x\":23,\"y\":185.1599200127741,\"yshift\":10},{\"align\":\"center\",\"font\":{\"color\":\"black\"},\"showarrow\":false,\"text\":\"186.13\",\"x\":24,\"y\":186.12911211490834,\"yshift\":10},{\"align\":\"center\",\"font\":{\"color\":\"black\"},\"showarrow\":false,\"text\":\"187.14\",\"x\":25,\"y\":187.1381727119106,\"yshift\":10},{\"align\":\"center\",\"font\":{\"color\":\"black\"},\"showarrow\":false,\"text\":\"188.19\",\"x\":26,\"y\":188.18908804932357,\"yshift\":10},{\"align\":\"center\",\"font\":{\"color\":\"black\"},\"showarrow\":false,\"text\":\"189.28\",\"x\":27,\"y\":189.28372471934392,\"yshift\":10},{\"align\":\"center\",\"font\":{\"color\":\"black\"},\"showarrow\":false,\"text\":\"190.42\",\"x\":28,\"y\":190.42430827420617,\"yshift\":10},{\"align\":\"center\",\"font\":{\"color\":\"black\"},\"showarrow\":false,\"text\":\"191.61\",\"x\":29,\"y\":191.61299247413731,\"yshift\":10},{\"align\":\"center\",\"font\":{\"color\":\"black\"},\"showarrow\":false,\"text\":\"192.85\",\"x\":30,\"y\":192.85223420117404,\"yshift\":10}],\"legend\":{\"orientation\":\"h\",\"x\":0.5,\"xanchor\":\"center\"},\"xaxis\":{\"gridcolor\":\"lightgrey\",\"title\":{\"text\":\"Day\"}},\"yaxis\":{\"gridcolor\":\"lightgrey\",\"title\":{\"text\":\"Stock price\"}},\"title\":{\"text\":\"LSTM Prediction 6:2:2 (CVX Stock Price)\",\"x\":0.5},\"margin\":{\"l\":0,\"r\":0,\"t\":30,\"b\":0},\"plot_bgcolor\":\"#FFFFFF\"},                        {\"responsive\": true}                    ).then(function(){\n",
              "                            \n",
              "var gd = document.getElementById('e78cded1-95ac-4cb4-9c3d-4d1b59c6c174');\n",
              "var x = new MutationObserver(function (mutations, observer) {{\n",
              "        var display = window.getComputedStyle(gd).display;\n",
              "        if (!display || display === 'none') {{\n",
              "            console.log([gd, 'removed!']);\n",
              "            Plotly.purge(gd);\n",
              "            observer.disconnect();\n",
              "        }}\n",
              "}});\n",
              "\n",
              "// Listen for the removal of the full notebook cells\n",
              "var notebookContainer = gd.closest('#notebook-container');\n",
              "if (notebookContainer) {{\n",
              "    x.observe(notebookContainer, {childList: true});\n",
              "}}\n",
              "\n",
              "// Listen for the clearing of the current output cell\n",
              "var outputEl = gd.closest('.output');\n",
              "if (outputEl) {{\n",
              "    x.observe(outputEl, {childList: true});\n",
              "}}\n",
              "\n",
              "                        })                };                            </script>        </div>\n",
              "</body>\n",
              "</html>"
            ]
          },
          "metadata": {}
        }
      ]
    }
  ]
}