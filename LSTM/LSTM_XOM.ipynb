{
  "nbformat": 4,
  "nbformat_minor": 0,
  "metadata": {
    "colab": {
      "provenance": []
    },
    "kernelspec": {
      "name": "python3",
      "display_name": "Python 3"
    },
    "language_info": {
      "name": "python"
    }
  },
  "cells": [
    {
      "cell_type": "markdown",
      "source": [
        "**DATA PREPARATION**"
      ],
      "metadata": {
        "id": "4w7KzhlSASHN"
      }
    },
    {
      "cell_type": "markdown",
      "source": [
        "\n",
        "\n",
        "*   Import Packages\n",
        "\n"
      ],
      "metadata": {
        "id": "UzfCedliy6kB"
      }
    },
    {
      "cell_type": "code",
      "execution_count": 1,
      "metadata": {
        "id": "DJvq4_oIyN4X"
      },
      "outputs": [],
      "source": [
        "import numpy as np\n",
        "import pandas as pd\n",
        "from sklearn.preprocessing import MinMaxScaler\n",
        "import matplotlib.pyplot as plt\n",
        "import math"
      ]
    },
    {
      "cell_type": "markdown",
      "source": [
        "\n",
        "\n",
        "*   Read data from a CSV file\n",
        "\n"
      ],
      "metadata": {
        "id": "2MOt0XOczD8J"
      }
    },
    {
      "cell_type": "code",
      "source": [
        "data = pd.read_csv('/content/drive/MyDrive/Colab Notebooks/XOM.csv')"
      ],
      "metadata": {
        "id": "ONvCXaTJzJtn"
      },
      "execution_count": 2,
      "outputs": []
    },
    {
      "cell_type": "code",
      "source": [
        "data.head()"
      ],
      "metadata": {
        "colab": {
          "base_uri": "https://localhost:8080/",
          "height": 206
        },
        "id": "Zr8u2xNp1CIz",
        "outputId": "844cb732-6094-4c0f-9d91-96b3191b7d7f"
      },
      "execution_count": 3,
      "outputs": [
        {
          "output_type": "execute_result",
          "data": {
            "text/plain": [
              "         Date       Open       High        Low      Close  Adj Close    Volume\n",
              "0  2018-01-02  83.820000  85.199997  83.660004  85.029999  64.879845  11469300\n",
              "1  2018-01-03  85.160004  86.970001  84.820000  86.699997  66.154083  13957700\n",
              "2  2018-01-04  86.790001  87.220001  86.430000  86.820000  66.245667  10863000\n",
              "3  2018-01-05  86.750000  86.879997  85.709999  86.750000  66.192230  11047600\n",
              "4  2018-01-08  86.699997  87.150002  86.599998  87.139999  66.489830  10927100"
            ],
            "text/html": [
              "\n",
              "  <div id=\"df-fb673e0a-a7ce-4a3a-b423-e576ed11f875\">\n",
              "    <div class=\"colab-df-container\">\n",
              "      <div>\n",
              "<style scoped>\n",
              "    .dataframe tbody tr th:only-of-type {\n",
              "        vertical-align: middle;\n",
              "    }\n",
              "\n",
              "    .dataframe tbody tr th {\n",
              "        vertical-align: top;\n",
              "    }\n",
              "\n",
              "    .dataframe thead th {\n",
              "        text-align: right;\n",
              "    }\n",
              "</style>\n",
              "<table border=\"1\" class=\"dataframe\">\n",
              "  <thead>\n",
              "    <tr style=\"text-align: right;\">\n",
              "      <th></th>\n",
              "      <th>Date</th>\n",
              "      <th>Open</th>\n",
              "      <th>High</th>\n",
              "      <th>Low</th>\n",
              "      <th>Close</th>\n",
              "      <th>Adj Close</th>\n",
              "      <th>Volume</th>\n",
              "    </tr>\n",
              "  </thead>\n",
              "  <tbody>\n",
              "    <tr>\n",
              "      <th>0</th>\n",
              "      <td>2018-01-02</td>\n",
              "      <td>83.820000</td>\n",
              "      <td>85.199997</td>\n",
              "      <td>83.660004</td>\n",
              "      <td>85.029999</td>\n",
              "      <td>64.879845</td>\n",
              "      <td>11469300</td>\n",
              "    </tr>\n",
              "    <tr>\n",
              "      <th>1</th>\n",
              "      <td>2018-01-03</td>\n",
              "      <td>85.160004</td>\n",
              "      <td>86.970001</td>\n",
              "      <td>84.820000</td>\n",
              "      <td>86.699997</td>\n",
              "      <td>66.154083</td>\n",
              "      <td>13957700</td>\n",
              "    </tr>\n",
              "    <tr>\n",
              "      <th>2</th>\n",
              "      <td>2018-01-04</td>\n",
              "      <td>86.790001</td>\n",
              "      <td>87.220001</td>\n",
              "      <td>86.430000</td>\n",
              "      <td>86.820000</td>\n",
              "      <td>66.245667</td>\n",
              "      <td>10863000</td>\n",
              "    </tr>\n",
              "    <tr>\n",
              "      <th>3</th>\n",
              "      <td>2018-01-05</td>\n",
              "      <td>86.750000</td>\n",
              "      <td>86.879997</td>\n",
              "      <td>85.709999</td>\n",
              "      <td>86.750000</td>\n",
              "      <td>66.192230</td>\n",
              "      <td>11047600</td>\n",
              "    </tr>\n",
              "    <tr>\n",
              "      <th>4</th>\n",
              "      <td>2018-01-08</td>\n",
              "      <td>86.699997</td>\n",
              "      <td>87.150002</td>\n",
              "      <td>86.599998</td>\n",
              "      <td>87.139999</td>\n",
              "      <td>66.489830</td>\n",
              "      <td>10927100</td>\n",
              "    </tr>\n",
              "  </tbody>\n",
              "</table>\n",
              "</div>\n",
              "      <button class=\"colab-df-convert\" onclick=\"convertToInteractive('df-fb673e0a-a7ce-4a3a-b423-e576ed11f875')\"\n",
              "              title=\"Convert this dataframe to an interactive table.\"\n",
              "              style=\"display:none;\">\n",
              "        \n",
              "  <svg xmlns=\"http://www.w3.org/2000/svg\" height=\"24px\"viewBox=\"0 0 24 24\"\n",
              "       width=\"24px\">\n",
              "    <path d=\"M0 0h24v24H0V0z\" fill=\"none\"/>\n",
              "    <path d=\"M18.56 5.44l.94 2.06.94-2.06 2.06-.94-2.06-.94-.94-2.06-.94 2.06-2.06.94zm-11 1L8.5 8.5l.94-2.06 2.06-.94-2.06-.94L8.5 2.5l-.94 2.06-2.06.94zm10 10l.94 2.06.94-2.06 2.06-.94-2.06-.94-.94-2.06-.94 2.06-2.06.94z\"/><path d=\"M17.41 7.96l-1.37-1.37c-.4-.4-.92-.59-1.43-.59-.52 0-1.04.2-1.43.59L10.3 9.45l-7.72 7.72c-.78.78-.78 2.05 0 2.83L4 21.41c.39.39.9.59 1.41.59.51 0 1.02-.2 1.41-.59l7.78-7.78 2.81-2.81c.8-.78.8-2.07 0-2.86zM5.41 20L4 18.59l7.72-7.72 1.47 1.35L5.41 20z\"/>\n",
              "  </svg>\n",
              "      </button>\n",
              "      \n",
              "  <style>\n",
              "    .colab-df-container {\n",
              "      display:flex;\n",
              "      flex-wrap:wrap;\n",
              "      gap: 12px;\n",
              "    }\n",
              "\n",
              "    .colab-df-convert {\n",
              "      background-color: #E8F0FE;\n",
              "      border: none;\n",
              "      border-radius: 50%;\n",
              "      cursor: pointer;\n",
              "      display: none;\n",
              "      fill: #1967D2;\n",
              "      height: 32px;\n",
              "      padding: 0 0 0 0;\n",
              "      width: 32px;\n",
              "    }\n",
              "\n",
              "    .colab-df-convert:hover {\n",
              "      background-color: #E2EBFA;\n",
              "      box-shadow: 0px 1px 2px rgba(60, 64, 67, 0.3), 0px 1px 3px 1px rgba(60, 64, 67, 0.15);\n",
              "      fill: #174EA6;\n",
              "    }\n",
              "\n",
              "    [theme=dark] .colab-df-convert {\n",
              "      background-color: #3B4455;\n",
              "      fill: #D2E3FC;\n",
              "    }\n",
              "\n",
              "    [theme=dark] .colab-df-convert:hover {\n",
              "      background-color: #434B5C;\n",
              "      box-shadow: 0px 1px 3px 1px rgba(0, 0, 0, 0.15);\n",
              "      filter: drop-shadow(0px 1px 2px rgba(0, 0, 0, 0.3));\n",
              "      fill: #FFFFFF;\n",
              "    }\n",
              "  </style>\n",
              "\n",
              "      <script>\n",
              "        const buttonEl =\n",
              "          document.querySelector('#df-fb673e0a-a7ce-4a3a-b423-e576ed11f875 button.colab-df-convert');\n",
              "        buttonEl.style.display =\n",
              "          google.colab.kernel.accessAllowed ? 'block' : 'none';\n",
              "\n",
              "        async function convertToInteractive(key) {\n",
              "          const element = document.querySelector('#df-fb673e0a-a7ce-4a3a-b423-e576ed11f875');\n",
              "          const dataTable =\n",
              "            await google.colab.kernel.invokeFunction('convertToInteractive',\n",
              "                                                     [key], {});\n",
              "          if (!dataTable) return;\n",
              "\n",
              "          const docLinkHtml = 'Like what you see? Visit the ' +\n",
              "            '<a target=\"_blank\" href=https://colab.research.google.com/notebooks/data_table.ipynb>data table notebook</a>'\n",
              "            + ' to learn more about interactive tables.';\n",
              "          element.innerHTML = '';\n",
              "          dataTable['output_type'] = 'display_data';\n",
              "          await google.colab.output.renderOutput(dataTable, element);\n",
              "          const docLink = document.createElement('div');\n",
              "          docLink.innerHTML = docLinkHtml;\n",
              "          element.appendChild(docLink);\n",
              "        }\n",
              "      </script>\n",
              "    </div>\n",
              "  </div>\n",
              "  "
            ]
          },
          "metadata": {},
          "execution_count": 3
        }
      ]
    },
    {
      "cell_type": "markdown",
      "source": [
        "\n",
        "\n",
        "*   Visualize the stock price history\n"
      ],
      "metadata": {
        "id": "uHHB9NrG_v4q"
      }
    },
    {
      "cell_type": "code",
      "source": [
        "data['Date'] = pd.to_datetime(data['Date'])\n",
        "data.set_index('Date', inplace=True)\n",
        "\n",
        "plt.figure(figsize=(15, 8))\n",
        "plt.title(' XOM Stock Prices History')\n",
        "plt.plot(data['Close'])\n",
        "plt.xlabel('Date')\n",
        "plt.ylabel('Prices ($)')"
      ],
      "metadata": {
        "colab": {
          "base_uri": "https://localhost:8080/",
          "height": 701
        },
        "id": "-H8E_vWd_0fK",
        "outputId": "52ac4d2c-3e8e-434f-bae1-8aaa999b5e1a"
      },
      "execution_count": 4,
      "outputs": [
        {
          "output_type": "execute_result",
          "data": {
            "text/plain": [
              "Text(0, 0.5, 'Prices ($)')"
            ]
          },
          "metadata": {},
          "execution_count": 4
        },
        {
          "output_type": "display_data",
          "data": {
            "text/plain": [
              "<Figure size 1500x800 with 1 Axes>"
            ],
            "image/png": "[encoded data removed]"
          },
          "metadata": {}
        }
      ]
    },
    {
      "cell_type": "markdown",
      "source": [
        "**DATA PREPROCESSING**"
      ],
      "metadata": {
        "id": "qebVzTumyx6O"
      }
    },
    {
      "cell_type": "markdown",
      "source": [
        "\n",
        "\n",
        "*   Normalize data using the MinMaxScaler method\n",
        "\n",
        "\n"
      ],
      "metadata": {
        "id": "slDhNXid1hGd"
      }
    },
    {
      "cell_type": "code",
      "source": [
        "close_prices = data['Close']\n",
        "values = close_prices.values\n",
        "scaler = MinMaxScaler(feature_range=(0,1))\n",
        "scaled_data = scaler.fit_transform(values.reshape(-1,1))"
      ],
      "metadata": {
        "id": "FOgsefivFzDZ"
      },
      "execution_count": 5,
      "outputs": []
    },
    {
      "cell_type": "markdown",
      "source": [
        "\n",
        "\n",
        "*   Split data into train, test, and validation sets with a ratio of 7:2:1\n",
        "\n",
        "\n"
      ],
      "metadata": {
        "id": "8_03S3p_1RxZ"
      }
    },
    {
      "cell_type": "code",
      "source": [
        "train_size = int(len(scaled_data) * 0.7)\n",
        "test_size = int(len(scaled_data) * 0.2)\n",
        "val_size = len(scaled_data) - train_size - test_size\n",
        "\n",
        "train_data = scaled_data[:train_size, :]\n",
        "test_data = scaled_data[train_size:train_size+test_size, :]\n",
        "val_data = scaled_data[train_size+test_size:, :]"
      ],
      "metadata": {
        "id": "o862GL5Z1ZBw"
      },
      "execution_count": 6,
      "outputs": []
    },
    {
      "cell_type": "code",
      "source": [
        "print(\"Dataset size: \", len(values), \"\\n\")\n",
        "\n",
        "print(\"Train size: \", train_size)\n",
        "print(\"Test size: \", test_size)\n",
        "print(\"Valate size: \", val_size)"
      ],
      "metadata": {
        "colab": {
          "base_uri": "https://localhost:8080/"
        },
        "id": "VCW1wDSO4Fcp",
        "outputId": "eb3cecfa-e101-452a-8973-b41fb26a50b7"
      },
      "execution_count": 7,
      "outputs": [
        {
          "output_type": "stream",
          "name": "stdout",
          "text": [
            "Dataset size:  1337 \n",
            "\n",
            "Train size:  935\n",
            "Test size:  267\n",
            "Valate size:  135\n"
          ]
        }
      ]
    },
    {
      "cell_type": "markdown",
      "source": [
        "\n",
        "\n",
        "*   Define the Create Dataset function\n"
      ],
      "metadata": {
        "id": "0spI-OJbFcmp"
      }
    },
    {
      "cell_type": "code",
      "source": [
        "def create_dataset(dataset, time_step=1):\n",
        "\tdataX, dataY = [], []\n",
        "\tfor i in range(len(dataset)-time_step-1):\n",
        "\t\ta = dataset[i:(i+time_step), 0]   ###i=0, X=0,1,2,3-----59   Y=60 \n",
        "\t\tdataX.append(a)\n",
        "\t\tdataY.append(dataset[i + time_step, 0])\n",
        "\treturn np.array(dataX), np.array(dataY)"
      ],
      "metadata": {
        "id": "VqphtBgzFjH8"
      },
      "execution_count": 8,
      "outputs": []
    },
    {
      "cell_type": "markdown",
      "source": [
        "\n",
        "\n",
        "*   Create train, test, and validation datasets\n",
        "\n"
      ],
      "metadata": {
        "id": "eb7YO7jaEV-r"
      }
    },
    {
      "cell_type": "code",
      "source": [
        "time_step = 60\n",
        "\n",
        "X_train, y_train = create_dataset(train_data, time_step)\n",
        "X_val, y_val = create_dataset(val_data, time_step)\n",
        "X_test, y_test = create_dataset(test_data, time_step)"
      ],
      "metadata": {
        "id": "yi7pOx3o6Qs7"
      },
      "execution_count": 9,
      "outputs": []
    },
    {
      "cell_type": "markdown",
      "source": [
        "\n",
        "\n",
        "*   Reshape train, test, and validation data (required for LSTM)\n",
        "\n"
      ],
      "metadata": {
        "id": "PMSCGBZYE3fK"
      }
    },
    {
      "cell_type": "code",
      "source": [
        "X_train = np.reshape(X_train, (X_train.shape[0], X_train.shape[1], 1))\n",
        "X_val = np.reshape(X_val, (X_val.shape[0], X_val.shape[1], 1))\n",
        "X_test = np.reshape(X_test, (X_test.shape[0], X_test.shape[1], 1))"
      ],
      "metadata": {
        "id": "AY3lYGe5E45C"
      },
      "execution_count": 10,
      "outputs": []
    },
    {
      "cell_type": "markdown",
      "source": [
        "**BUILD LSTM MODEL**"
      ],
      "metadata": {
        "id": "j8MaaR2k61-u"
      }
    },
    {
      "cell_type": "markdown",
      "source": [
        "\n",
        "\n",
        "*   Import Packages\n"
      ],
      "metadata": {
        "id": "E6wE5u6Y636f"
      }
    },
    {
      "cell_type": "code",
      "source": [
        "from keras.models import Sequential\n",
        "from keras.layers import LSTM\n",
        "from keras.layers import Dropout\n",
        "from keras.layers import Dense"
      ],
      "metadata": {
        "id": "M0AYf7Wy67zO"
      },
      "execution_count": 11,
      "outputs": []
    },
    {
      "cell_type": "code",
      "source": [
        "model = Sequential()\n",
        "model.add(LSTM(100, return_sequences=True, input_shape=(X_train.shape[1], 1)))\n",
        "model.add(LSTM(100, return_sequences=False))\n",
        "model.add(Dense(50))\n",
        "model.add(Dense(1))\n",
        "model.summary()"
      ],
      "metadata": {
        "colab": {
          "base_uri": "https://localhost:8080/"
        },
        "id": "2-mlUXpz7QNy",
        "outputId": "02936091-7034-4d04-afdc-7284daa5f678"
      },
      "execution_count": 12,
      "outputs": [
        {
          "output_type": "stream",
          "name": "stdout",
          "text": [
            "Model: \"sequential\"\n",
            "_________________________________________________________________\n",
            " Layer (type)                Output Shape              Param #   \n",
            "=================================================================\n",
            " lstm (LSTM)                 (None, 60, 100)           40800     \n",
            "                                                                 \n",
            " lstm_1 (LSTM)               (None, 100)               80400     \n",
            "                                                                 \n",
            " dense (Dense)               (None, 50)                5050      \n",
            "                                                                 \n",
            " dense_1 (Dense)             (None, 1)                 51        \n",
            "                                                                 \n",
            "=================================================================\n",
            "Total params: 126,301\n",
            "Trainable params: 126,301\n",
            "Non-trainable params: 0\n",
            "_________________________________________________________________\n"
          ]
        }
      ]
    },
    {
      "cell_type": "markdown",
      "source": [
        "*This LSTM model has two LSTM layers with 100 units each, connected to two Dense layers with 50 and 1 unit, respectively.*"
      ],
      "metadata": {
        "id": "KgnQRfzJINHi"
      }
    },
    {
      "cell_type": "markdown",
      "source": [
        "**TRAIN THE MODEL**"
      ],
      "metadata": {
        "id": "Io5GqBkA-bP3"
      }
    },
    {
      "cell_type": "markdown",
      "source": [
        "\n",
        "\n",
        "*   Fit the model with the train data\n",
        "\n"
      ],
      "metadata": {
        "id": "fsNQsjVeJBFw"
      }
    },
    {
      "cell_type": "code",
      "source": [
        "model.compile(optimizer='adam', loss='mean_squared_error')\n",
        "model.fit(X_train, y_train, batch_size=32, epochs=50)"
      ],
      "metadata": {
        "colab": {
          "base_uri": "https://localhost:8080/"
        },
        "id": "NdD1TVYz-l5I",
        "outputId": "df688ae6-4fc4-4632-88a0-d16f0b04402e"
      },
      "execution_count": 13,
      "outputs": [
        {
          "output_type": "stream",
          "name": "stdout",
          "text": [
            "Epoch 1/50\n",
            "28/28 [==============================] - 17s 217ms/step - loss: 0.0170\n",
            "Epoch 2/50\n",
            "28/28 [==============================] - 7s 270ms/step - loss: 0.0012\n",
            "Epoch 3/50\n",
            "28/28 [==============================] - 6s 224ms/step - loss: 8.5097e-04\n",
            "Epoch 4/50\n",
            "28/28 [==============================] - 6s 212ms/step - loss: 7.6167e-04\n",
            "Epoch 5/50\n",
            "28/28 [==============================] - 3s 110ms/step - loss: 7.2583e-04\n",
            "Epoch 6/50\n",
            "28/28 [==============================] - 3s 100ms/step - loss: 6.8615e-04\n",
            "Epoch 7/50\n",
            "28/28 [==============================] - 3s 102ms/step - loss: 6.1989e-04\n",
            "Epoch 8/50\n",
            "28/28 [==============================] - 3s 120ms/step - loss: 6.0137e-04\n",
            "Epoch 9/50\n",
            "28/28 [==============================] - 4s 148ms/step - loss: 5.5660e-04\n",
            "Epoch 10/50\n",
            "28/28 [==============================] - 3s 99ms/step - loss: 5.4121e-04\n",
            "Epoch 11/50\n",
            "28/28 [==============================] - 3s 100ms/step - loss: 5.3934e-04\n",
            "Epoch 12/50\n",
            "28/28 [==============================] - 3s 101ms/step - loss: 5.3004e-04\n",
            "Epoch 13/50\n",
            "28/28 [==============================] - 4s 149ms/step - loss: 4.8903e-04\n",
            "Epoch 14/50\n",
            "28/28 [==============================] - 3s 119ms/step - loss: 5.2536e-04\n",
            "Epoch 15/50\n",
            "28/28 [==============================] - 3s 102ms/step - loss: 4.7146e-04\n",
            "Epoch 16/50\n",
            "28/28 [==============================] - 3s 104ms/step - loss: 5.0328e-04\n",
            "Epoch 17/50\n",
            "28/28 [==============================] - 3s 113ms/step - loss: 4.6672e-04\n",
            "Epoch 18/50\n",
            "28/28 [==============================] - 4s 156ms/step - loss: 4.6010e-04\n",
            "Epoch 19/50\n",
            "28/28 [==============================] - 3s 101ms/step - loss: 4.4642e-04\n",
            "Epoch 20/50\n",
            "28/28 [==============================] - 3s 100ms/step - loss: 4.0979e-04\n",
            "Epoch 21/50\n",
            "28/28 [==============================] - 3s 101ms/step - loss: 4.9234e-04\n",
            "Epoch 22/50\n",
            "28/28 [==============================] - 4s 142ms/step - loss: 4.2065e-04\n",
            "Epoch 23/50\n",
            "28/28 [==============================] - 4s 125ms/step - loss: 4.0780e-04\n",
            "Epoch 24/50\n",
            "28/28 [==============================] - 3s 104ms/step - loss: 4.1751e-04\n",
            "Epoch 25/50\n",
            "28/28 [==============================] - 3s 102ms/step - loss: 3.8638e-04\n",
            "Epoch 26/50\n",
            "28/28 [==============================] - 3s 108ms/step - loss: 3.9079e-04\n",
            "Epoch 27/50\n",
            "28/28 [==============================] - 5s 162ms/step - loss: 3.9361e-04\n",
            "Epoch 28/50\n",
            "28/28 [==============================] - 3s 101ms/step - loss: 3.9917e-04\n",
            "Epoch 29/50\n",
            "28/28 [==============================] - 4s 151ms/step - loss: 4.3477e-04\n",
            "Epoch 30/50\n",
            "28/28 [==============================] - 4s 134ms/step - loss: 3.3689e-04\n",
            "Epoch 31/50\n",
            "28/28 [==============================] - 4s 157ms/step - loss: 3.2599e-04\n",
            "Epoch 32/50\n",
            "28/28 [==============================] - 3s 98ms/step - loss: 3.2686e-04\n",
            "Epoch 33/50\n",
            "28/28 [==============================] - 3s 124ms/step - loss: 3.9780e-04\n",
            "Epoch 34/50\n",
            "28/28 [==============================] - 3s 101ms/step - loss: 3.2386e-04\n",
            "Epoch 35/50\n",
            "28/28 [==============================] - 4s 162ms/step - loss: 3.2504e-04\n",
            "Epoch 36/50\n",
            "28/28 [==============================] - 3s 107ms/step - loss: 2.9771e-04\n",
            "Epoch 37/50\n",
            "28/28 [==============================] - 3s 99ms/step - loss: 3.8712e-04\n",
            "Epoch 38/50\n",
            "28/28 [==============================] - 3s 98ms/step - loss: 3.2416e-04\n",
            "Epoch 39/50\n",
            "28/28 [==============================] - 5s 199ms/step - loss: 3.2630e-04\n",
            "Epoch 40/50\n",
            "28/28 [==============================] - 3s 115ms/step - loss: 3.0433e-04\n",
            "Epoch 41/50\n",
            "28/28 [==============================] - 3s 101ms/step - loss: 2.9837e-04\n",
            "Epoch 42/50\n",
            "28/28 [==============================] - 3s 101ms/step - loss: 2.8113e-04\n",
            "Epoch 43/50\n",
            "28/28 [==============================] - 3s 114ms/step - loss: 2.9109e-04\n",
            "Epoch 44/50\n",
            "28/28 [==============================] - 4s 154ms/step - loss: 2.5515e-04\n",
            "Epoch 45/50\n",
            "28/28 [==============================] - 3s 101ms/step - loss: 2.6152e-04\n",
            "Epoch 46/50\n",
            "28/28 [==============================] - 3s 99ms/step - loss: 2.7882e-04\n",
            "Epoch 47/50\n",
            "28/28 [==============================] - 3s 99ms/step - loss: 2.5809e-04\n",
            "Epoch 48/50\n",
            "28/28 [==============================] - 4s 146ms/step - loss: 2.7647e-04\n",
            "Epoch 49/50\n",
            "28/28 [==============================] - 3s 123ms/step - loss: 2.6420e-04\n",
            "Epoch 50/50\n",
            "28/28 [==============================] - 3s 101ms/step - loss: 2.4348e-04\n"
          ]
        },
        {
          "output_type": "execute_result",
          "data": {
            "text/plain": [
              "<keras.callbacks.History at 0x7f1808507310>"
            ]
          },
          "metadata": {},
          "execution_count": 13
        }
      ]
    },
    {
      "cell_type": "markdown",
      "source": [
        "\n",
        "\n",
        "*   PLotting loss, it shows that loss has decreased significantly and model trained well\n",
        "\n"
      ],
      "metadata": {
        "id": "7V2Kwc9sJXFK"
      }
    },
    {
      "cell_type": "code",
      "source": [
        "loss = model.history.history['loss']\n",
        "plt.plot(loss)"
      ],
      "metadata": {
        "colab": {
          "base_uri": "https://localhost:8080/",
          "height": 447
        },
        "id": "OBTBo-32tfXc",
        "outputId": "95f172f1-582e-4600-c6b5-56666ac51817"
      },
      "execution_count": 14,
      "outputs": [
        {
          "output_type": "execute_result",
          "data": {
            "text/plain": [
              "[<matplotlib.lines.Line2D at 0x7f1801ca97e0>]"
            ]
          },
          "metadata": {},
          "execution_count": 14
        },
        {
          "output_type": "display_data",
          "data": {
            "text/plain": [
              "<Figure size 640x480 with 1 Axes>"
            ],
            "image/png": "[encoded data removed]"
          },
          "metadata": {}
        }
      ]
    },
    {
      "cell_type": "markdown",
      "source": [
        "**PREDICTION AND EVALUATION ON TEST DATA**"
      ],
      "metadata": {
        "id": "rJ51q4Ewwafk"
      }
    },
    {
      "cell_type": "markdown",
      "source": [
        "\n",
        "\n",
        "*   Make predictions on test and validation data\n",
        "\n"
      ],
      "metadata": {
        "id": "F7tiWcRktA5G"
      }
    },
    {
      "cell_type": "code",
      "source": [
        "y_pred=model.predict(X_test)\n",
        "y_pred_val=model.predict(X_val)"
      ],
      "metadata": {
        "colab": {
          "base_uri": "https://localhost:8080/"
        },
        "id": "0MoMNpa1FRJW",
        "outputId": "56f74cf0-25eb-4ec0-e8b7-1b682f6fbf82"
      },
      "execution_count": 15,
      "outputs": [
        {
          "output_type": "stream",
          "name": "stdout",
          "text": [
            "7/7 [==============================] - 1s 36ms/step\n",
            "3/3 [==============================] - 0s 22ms/step\n"
          ]
        }
      ]
    },
    {
      "cell_type": "markdown",
      "source": [
        "\n",
        "\n",
        "*   Convert the predictions back to the original values\n",
        "\n"
      ],
      "metadata": {
        "id": "uoKYcePvFTJ9"
      }
    },
    {
      "cell_type": "code",
      "source": [
        "y_pred=scaler.inverse_transform(y_pred)\n",
        "y_test = scaler.inverse_transform(y_test.reshape(-1, 1))\n",
        "\n",
        "y_pred_val=scaler.inverse_transform(y_pred_val)\n",
        "y_val = scaler.inverse_transform(y_val.reshape(-1, 1))"
      ],
      "metadata": {
        "id": "DKfMNwjSFVyT"
      },
      "execution_count": 16,
      "outputs": []
    },
    {
      "cell_type": "markdown",
      "source": [
        "\n",
        "\n",
        "*   Evaluate the algorithm's accuracy using RMSE, MAPE, MDA\n",
        "\n"
      ],
      "metadata": {
        "id": "ppy3h9JWLxCA"
      }
    },
    {
      "cell_type": "code",
      "source": [
        "# MAPE\n",
        "def calculate_mape(y_true, y_pred):\n",
        "    return np.mean(np.abs((y_true - y_pred) / y_true)) * 100\n",
        "\n",
        "# MDA\n",
        "def calculate_mda(y_true, y_pred):\n",
        "    y_true_diff = np.diff(y_true)\n",
        "    y_pred_diff = np.diff(y_pred)\n",
        "    correct_direction = np.sign(y_true_diff) == np.sign(y_pred_diff)\n",
        "    return np.mean(correct_direction) * 100\n",
        "\n",
        "# Using RMSE, MAPE và MDA\n",
        "valid_rmse = np.sqrt(np.mean((y_val- y_pred_val) ** 2))\n",
        "test_rmse = np.sqrt(np.mean((y_test - y_pred) ** 2))\n",
        "\n",
        "valid_mape = calculate_mape(y_val, y_pred_val)\n",
        "test_mape = calculate_mape(y_test, y_pred)\n",
        "\n",
        "valid_mda = calculate_mda(np.squeeze(y_val), np.squeeze(y_pred_val)) # Squeeze y_val and y_pred_val to 1D arrays\n",
        "test_mda = calculate_mda(np.squeeze(y_test), np.squeeze(y_pred)) # Squeeze y_test and y_pred to 1D arrays\n",
        "\n",
        "# Print results\n",
        "print('Validation RMSE:', valid_rmse)\n",
        "print('Testing RMSE:', test_rmse)\n",
        "print('Validation MAPE:', valid_mape)\n",
        "print('Testing MAPE:', test_mape)\n",
        "print('Validation MDA:', valid_mda)\n",
        "print('Testing MDA:', test_mda)"
      ],
      "metadata": {
        "colab": {
          "base_uri": "https://localhost:8080/"
        },
        "id": "Acc1OQf7G7VD",
        "outputId": "41e91c9c-49b0-45c5-cb7a-7e54f8591a3a"
      },
      "execution_count": 17,
      "outputs": [
        {
          "output_type": "stream",
          "name": "stdout",
          "text": [
            "Validation RMSE: 2.243349296309593\n",
            "Testing RMSE: 2.3970077867810695\n",
            "Validation MAPE: 1.5568639914033904\n",
            "Testing MAPE: 2.226541449048641\n",
            "Validation MDA: 49.31506849315068\n",
            "Testing MDA: 56.09756097560976\n"
          ]
        }
      ]
    },
    {
      "cell_type": "markdown",
      "source": [
        "**FORECAST FOR THE NEXT 30 DAYS IN THE FUTURE**"
      ],
      "metadata": {
        "id": "1IkXSXAA6Aiy"
      }
    },
    {
      "cell_type": "code",
      "source": [
        "n_days = 30\n",
        "\n",
        "x_input=scaled_data[-time_step:].reshape(1,-1)\n",
        "\n",
        "temp_input=list(x_input)\n",
        "temp_input=temp_input[0].tolist()\n",
        "\n",
        "from numpy import array\n",
        "\n",
        "lst_output=[]\n",
        "i=0\n",
        "while(i<n_days):\n",
        "    \n",
        "    if(len(temp_input)>time_step):\n",
        "        x_input=np.array(temp_input[1:])\n",
        "        print(\"{} day input {}\".format(i,x_input))\n",
        "        x_input=x_input.reshape(1,-1)\n",
        "        x_input = x_input.reshape((1, time_step, 1))\n",
        "        yhat = model.predict(x_input, verbose=0)\n",
        "        print(\"{} day output {}\".format(i,yhat))\n",
        "        temp_input.extend(yhat[0].tolist())\n",
        "        temp_input=temp_input[1:]\n",
        "        #print(temp_input)\n",
        "        lst_output.extend(yhat.tolist())\n",
        "        i=i+1\n",
        "    else:\n",
        "        x_input = x_input.reshape((1, time_step,1))\n",
        "        yhat = model.predict(x_input, verbose=0)\n",
        "        print(yhat[0])\n",
        "        temp_input.extend(yhat[0].tolist())\n",
        "        print(len(temp_input))\n",
        "        lst_output.extend(yhat.tolist())\n",
        "        i=i+1"
      ],
      "metadata": {
        "colab": {
          "base_uri": "https://localhost:8080/"
        },
        "id": "YL28ztzhjl5Z",
        "outputId": "876d7827-873b-4b64-d8e3-03dfd6117ddc"
      },
      "execution_count": 18,
      "outputs": [
        {
          "output_type": "stream",
          "name": "stdout",
          "text": [
            "[0.9697944]\n",
            "61\n",
            "1 day input [0.96397633 0.9494984  0.90857277 0.91735066 0.91518473 0.95155039\n",
            " 0.94015048 0.94505244 1.         0.98438218 0.96865025 0.9646603\n",
            " 0.96078437 0.91005473 0.90880073 0.89238491 0.90389877 0.90401279\n",
            " 0.90173284 0.89443691 0.90560876 0.91142275 0.92749658 0.93889649\n",
            " 0.91381672 0.89523489 0.8855449  0.87015505 0.85601918 0.86057916\n",
            " 0.79993165 0.79320566 0.77963973 0.80939351 0.86171914 0.8337893\n",
            " 0.8203375  0.82170543 0.84758327 0.86263115 0.88360694 0.88964888\n",
            " 0.89158693 0.96534426 0.95269037 0.9751482  0.95303243 0.94721845\n",
            " 0.95645235 0.95508441 0.9612403  0.96443234 0.94904239 0.97457825\n",
            " 0.97036026 0.95975833 0.96397633 0.98894208 0.96979023 0.96979439]\n",
            "1 day output [[0.96566486]]\n",
            "2 day input [0.9494984  0.90857277 0.91735066 0.91518473 0.95155039 0.94015048\n",
            " 0.94505244 1.         0.98438218 0.96865025 0.9646603  0.96078437\n",
            " 0.91005473 0.90880073 0.89238491 0.90389877 0.90401279 0.90173284\n",
            " 0.89443691 0.90560876 0.91142275 0.92749658 0.93889649 0.91381672\n",
            " 0.89523489 0.8855449  0.87015505 0.85601918 0.86057916 0.79993165\n",
            " 0.79320566 0.77963973 0.80939351 0.86171914 0.8337893  0.8203375\n",
            " 0.82170543 0.84758327 0.86263115 0.88360694 0.88964888 0.89158693\n",
            " 0.96534426 0.95269037 0.9751482  0.95303243 0.94721845 0.95645235\n",
            " 0.95508441 0.9612403  0.96443234 0.94904239 0.97457825 0.97036026\n",
            " 0.95975833 0.96397633 0.98894208 0.96979023 0.96979439 0.96566486]\n",
            "2 day output [[0.96060663]]\n",
            "3 day input [0.90857277 0.91735066 0.91518473 0.95155039 0.94015048 0.94505244\n",
            " 1.         0.98438218 0.96865025 0.9646603  0.96078437 0.91005473\n",
            " 0.90880073 0.89238491 0.90389877 0.90401279 0.90173284 0.89443691\n",
            " 0.90560876 0.91142275 0.92749658 0.93889649 0.91381672 0.89523489\n",
            " 0.8855449  0.87015505 0.85601918 0.86057916 0.79993165 0.79320566\n",
            " 0.77963973 0.80939351 0.86171914 0.8337893  0.8203375  0.82170543\n",
            " 0.84758327 0.86263115 0.88360694 0.88964888 0.89158693 0.96534426\n",
            " 0.95269037 0.9751482  0.95303243 0.94721845 0.95645235 0.95508441\n",
            " 0.9612403  0.96443234 0.94904239 0.97457825 0.97036026 0.95975833\n",
            " 0.96397633 0.98894208 0.96979023 0.96979439 0.96566486 0.96060663]\n",
            "3 day output [[0.9549783]]\n",
            "4 day input [0.91735066 0.91518473 0.95155039 0.94015048 0.94505244 1.\n",
            " 0.98438218 0.96865025 0.9646603  0.96078437 0.91005473 0.90880073\n",
            " 0.89238491 0.90389877 0.90401279 0.90173284 0.89443691 0.90560876\n",
            " 0.91142275 0.92749658 0.93889649 0.91381672 0.89523489 0.8855449\n",
            " 0.87015505 0.85601918 0.86057916 0.79993165 0.79320566 0.77963973\n",
            " 0.80939351 0.86171914 0.8337893  0.8203375  0.82170543 0.84758327\n",
            " 0.86263115 0.88360694 0.88964888 0.89158693 0.96534426 0.95269037\n",
            " 0.9751482  0.95303243 0.94721845 0.95645235 0.95508441 0.9612403\n",
            " 0.96443234 0.94904239 0.97457825 0.97036026 0.95975833 0.96397633\n",
            " 0.98894208 0.96979023 0.96979439 0.96566486 0.96060663 0.95497829]\n",
            "4 day output [[0.94903505]]\n",
            "5 day input [0.91518473 0.95155039 0.94015048 0.94505244 1.         0.98438218\n",
            " 0.96865025 0.9646603  0.96078437 0.91005473 0.90880073 0.89238491\n",
            " 0.90389877 0.90401279 0.90173284 0.89443691 0.90560876 0.91142275\n",
            " 0.92749658 0.93889649 0.91381672 0.89523489 0.8855449  0.87015505\n",
            " 0.85601918 0.86057916 0.79993165 0.79320566 0.77963973 0.80939351\n",
            " 0.86171914 0.8337893  0.8203375  0.82170543 0.84758327 0.86263115\n",
            " 0.88360694 0.88964888 0.89158693 0.96534426 0.95269037 0.9751482\n",
            " 0.95303243 0.94721845 0.95645235 0.95508441 0.9612403  0.96443234\n",
            " 0.94904239 0.97457825 0.97036026 0.95975833 0.96397633 0.98894208\n",
            " 0.96979023 0.96979439 0.96566486 0.96060663 0.95497829 0.94903505]\n",
            "5 day output [[0.94297594]]\n",
            "6 day input [0.95155039 0.94015048 0.94505244 1.         0.98438218 0.96865025\n",
            " 0.9646603  0.96078437 0.91005473 0.90880073 0.89238491 0.90389877\n",
            " 0.90401279 0.90173284 0.89443691 0.90560876 0.91142275 0.92749658\n",
            " 0.93889649 0.91381672 0.89523489 0.8855449  0.87015505 0.85601918\n",
            " 0.86057916 0.79993165 0.79320566 0.77963973 0.80939351 0.86171914\n",
            " 0.8337893  0.8203375  0.82170543 0.84758327 0.86263115 0.88360694\n",
            " 0.88964888 0.89158693 0.96534426 0.95269037 0.9751482  0.95303243\n",
            " 0.94721845 0.95645235 0.95508441 0.9612403  0.96443234 0.94904239\n",
            " 0.97457825 0.97036026 0.95975833 0.96397633 0.98894208 0.96979023\n",
            " 0.96979439 0.96566486 0.96060663 0.95497829 0.94903505 0.94297594]\n",
            "6 day output [[0.9369462]]\n",
            "7 day input [0.94015048 0.94505244 1.         0.98438218 0.96865025 0.9646603\n",
            " 0.96078437 0.91005473 0.90880073 0.89238491 0.90389877 0.90401279\n",
            " 0.90173284 0.89443691 0.90560876 0.91142275 0.92749658 0.93889649\n",
            " 0.91381672 0.89523489 0.8855449  0.87015505 0.85601918 0.86057916\n",
            " 0.79993165 0.79320566 0.77963973 0.80939351 0.86171914 0.8337893\n",
            " 0.8203375  0.82170543 0.84758327 0.86263115 0.88360694 0.88964888\n",
            " 0.89158693 0.96534426 0.95269037 0.9751482  0.95303243 0.94721845\n",
            " 0.95645235 0.95508441 0.9612403  0.96443234 0.94904239 0.97457825\n",
            " 0.97036026 0.95975833 0.96397633 0.98894208 0.96979023 0.96979439\n",
            " 0.96566486 0.96060663 0.95497829 0.94903505 0.94297594 0.93694621]\n",
            "7 day output [[0.9310413]]\n",
            "8 day input [0.94505244 1.         0.98438218 0.96865025 0.9646603  0.96078437\n",
            " 0.91005473 0.90880073 0.89238491 0.90389877 0.90401279 0.90173284\n",
            " 0.89443691 0.90560876 0.91142275 0.92749658 0.93889649 0.91381672\n",
            " 0.89523489 0.8855449  0.87015505 0.85601918 0.86057916 0.79993165\n",
            " 0.79320566 0.77963973 0.80939351 0.86171914 0.8337893  0.8203375\n",
            " 0.82170543 0.84758327 0.86263115 0.88360694 0.88964888 0.89158693\n",
            " 0.96534426 0.95269037 0.9751482  0.95303243 0.94721845 0.95645235\n",
            " 0.95508441 0.9612403  0.96443234 0.94904239 0.97457825 0.97036026\n",
            " 0.95975833 0.96397633 0.98894208 0.96979023 0.96979439 0.96566486\n",
            " 0.96060663 0.95497829 0.94903505 0.94297594 0.93694621 0.9310413 ]\n",
            "8 day output [[0.92531115]]\n",
            "9 day input [1.         0.98438218 0.96865025 0.9646603  0.96078437 0.91005473\n",
            " 0.90880073 0.89238491 0.90389877 0.90401279 0.90173284 0.89443691\n",
            " 0.90560876 0.91142275 0.92749658 0.93889649 0.91381672 0.89523489\n",
            " 0.8855449  0.87015505 0.85601918 0.86057916 0.79993165 0.79320566\n",
            " 0.77963973 0.80939351 0.86171914 0.8337893  0.8203375  0.82170543\n",
            " 0.84758327 0.86263115 0.88360694 0.88964888 0.89158693 0.96534426\n",
            " 0.95269037 0.9751482  0.95303243 0.94721845 0.95645235 0.95508441\n",
            " 0.9612403  0.96443234 0.94904239 0.97457825 0.97036026 0.95975833\n",
            " 0.96397633 0.98894208 0.96979023 0.96979439 0.96566486 0.96060663\n",
            " 0.95497829 0.94903505 0.94297594 0.93694621 0.9310413  0.92531115]\n",
            "9 day output [[0.9197705]]\n",
            "10 day input [0.98438218 0.96865025 0.9646603  0.96078437 0.91005473 0.90880073\n",
            " 0.89238491 0.90389877 0.90401279 0.90173284 0.89443691 0.90560876\n",
            " 0.91142275 0.92749658 0.93889649 0.91381672 0.89523489 0.8855449\n",
            " 0.87015505 0.85601918 0.86057916 0.79993165 0.79320566 0.77963973\n",
            " 0.80939351 0.86171914 0.8337893  0.8203375  0.82170543 0.84758327\n",
            " 0.86263115 0.88360694 0.88964888 0.89158693 0.96534426 0.95269037\n",
            " 0.9751482  0.95303243 0.94721845 0.95645235 0.95508441 0.9612403\n",
            " 0.96443234 0.94904239 0.97457825 0.97036026 0.95975833 0.96397633\n",
            " 0.98894208 0.96979023 0.96979439 0.96566486 0.96060663 0.95497829\n",
            " 0.94903505 0.94297594 0.93694621 0.9310413  0.92531115 0.91977048]\n",
            "10 day output [[0.9144064]]\n",
            "11 day input [0.96865025 0.9646603  0.96078437 0.91005473 0.90880073 0.89238491\n",
            " 0.90389877 0.90401279 0.90173284 0.89443691 0.90560876 0.91142275\n",
            " 0.92749658 0.93889649 0.91381672 0.89523489 0.8855449  0.87015505\n",
            " 0.85601918 0.86057916 0.79993165 0.79320566 0.77963973 0.80939351\n",
            " 0.86171914 0.8337893  0.8203375  0.82170543 0.84758327 0.86263115\n",
            " 0.88360694 0.88964888 0.89158693 0.96534426 0.95269037 0.9751482\n",
            " 0.95303243 0.94721845 0.95645235 0.95508441 0.9612403  0.96443234\n",
            " 0.94904239 0.97457825 0.97036026 0.95975833 0.96397633 0.98894208\n",
            " 0.96979023 0.96979439 0.96566486 0.96060663 0.95497829 0.94903505\n",
            " 0.94297594 0.93694621 0.9310413  0.92531115 0.91977048 0.91440642]\n",
            "11 day output [[0.9091891]]\n",
            "12 day input [0.9646603  0.96078437 0.91005473 0.90880073 0.89238491 0.90389877\n",
            " 0.90401279 0.90173284 0.89443691 0.90560876 0.91142275 0.92749658\n",
            " 0.93889649 0.91381672 0.89523489 0.8855449  0.87015505 0.85601918\n",
            " 0.86057916 0.79993165 0.79320566 0.77963973 0.80939351 0.86171914\n",
            " 0.8337893  0.8203375  0.82170543 0.84758327 0.86263115 0.88360694\n",
            " 0.88964888 0.89158693 0.96534426 0.95269037 0.9751482  0.95303243\n",
            " 0.94721845 0.95645235 0.95508441 0.9612403  0.96443234 0.94904239\n",
            " 0.97457825 0.97036026 0.95975833 0.96397633 0.98894208 0.96979023\n",
            " 0.96979439 0.96566486 0.96060663 0.95497829 0.94903505 0.94297594\n",
            " 0.93694621 0.9310413  0.92531115 0.91977048 0.91440642 0.90918911]\n",
            "12 day output [[0.90407866]]\n",
            "13 day input [0.96078437 0.91005473 0.90880073 0.89238491 0.90389877 0.90401279\n",
            " 0.90173284 0.89443691 0.90560876 0.91142275 0.92749658 0.93889649\n",
            " 0.91381672 0.89523489 0.8855449  0.87015505 0.85601918 0.86057916\n",
            " 0.79993165 0.79320566 0.77963973 0.80939351 0.86171914 0.8337893\n",
            " 0.8203375  0.82170543 0.84758327 0.86263115 0.88360694 0.88964888\n",
            " 0.89158693 0.96534426 0.95269037 0.9751482  0.95303243 0.94721845\n",
            " 0.95645235 0.95508441 0.9612403  0.96443234 0.94904239 0.97457825\n",
            " 0.97036026 0.95975833 0.96397633 0.98894208 0.96979023 0.96979439\n",
            " 0.96566486 0.96060663 0.95497829 0.94903505 0.94297594 0.93694621\n",
            " 0.9310413  0.92531115 0.91977048 0.91440642 0.90918911 0.90407866]\n",
            "13 day output [[0.89903337]]\n",
            "14 day input [0.91005473 0.90880073 0.89238491 0.90389877 0.90401279 0.90173284\n",
            " 0.89443691 0.90560876 0.91142275 0.92749658 0.93889649 0.91381672\n",
            " 0.89523489 0.8855449  0.87015505 0.85601918 0.86057916 0.79993165\n",
            " 0.79320566 0.77963973 0.80939351 0.86171914 0.8337893  0.8203375\n",
            " 0.82170543 0.84758327 0.86263115 0.88360694 0.88964888 0.89158693\n",
            " 0.96534426 0.95269037 0.9751482  0.95303243 0.94721845 0.95645235\n",
            " 0.95508441 0.9612403  0.96443234 0.94904239 0.97457825 0.97036026\n",
            " 0.95975833 0.96397633 0.98894208 0.96979023 0.96979439 0.96566486\n",
            " 0.96060663 0.95497829 0.94903505 0.94297594 0.93694621 0.9310413\n",
            " 0.92531115 0.91977048 0.91440642 0.90918911 0.90407866 0.89903337]\n",
            "14 day output [[0.89401287]]\n",
            "15 day input [0.90880073 0.89238491 0.90389877 0.90401279 0.90173284 0.89443691\n",
            " 0.90560876 0.91142275 0.92749658 0.93889649 0.91381672 0.89523489\n",
            " 0.8855449  0.87015505 0.85601918 0.86057916 0.79993165 0.79320566\n",
            " 0.77963973 0.80939351 0.86171914 0.8337893  0.8203375  0.82170543\n",
            " 0.84758327 0.86263115 0.88360694 0.88964888 0.89158693 0.96534426\n",
            " 0.95269037 0.9751482  0.95303243 0.94721845 0.95645235 0.95508441\n",
            " 0.9612403  0.96443234 0.94904239 0.97457825 0.97036026 0.95975833\n",
            " 0.96397633 0.98894208 0.96979023 0.96979439 0.96566486 0.96060663\n",
            " 0.95497829 0.94903505 0.94297594 0.93694621 0.9310413  0.92531115\n",
            " 0.91977048 0.91440642 0.90918911 0.90407866 0.89903337 0.89401287]\n",
            "15 day output [[0.88898385]]\n",
            "16 day input [0.89238491 0.90389877 0.90401279 0.90173284 0.89443691 0.90560876\n",
            " 0.91142275 0.92749658 0.93889649 0.91381672 0.89523489 0.8855449\n",
            " 0.87015505 0.85601918 0.86057916 0.79993165 0.79320566 0.77963973\n",
            " 0.80939351 0.86171914 0.8337893  0.8203375  0.82170543 0.84758327\n",
            " 0.86263115 0.88360694 0.88964888 0.89158693 0.96534426 0.95269037\n",
            " 0.9751482  0.95303243 0.94721845 0.95645235 0.95508441 0.9612403\n",
            " 0.96443234 0.94904239 0.97457825 0.97036026 0.95975833 0.96397633\n",
            " 0.98894208 0.96979023 0.96979439 0.96566486 0.96060663 0.95497829\n",
            " 0.94903505 0.94297594 0.93694621 0.9310413  0.92531115 0.91977048\n",
            " 0.91440642 0.90918911 0.90407866 0.89903337 0.89401287 0.88898385]\n",
            "16 day output [[0.8839199]]\n",
            "17 day input [0.90389877 0.90401279 0.90173284 0.89443691 0.90560876 0.91142275\n",
            " 0.92749658 0.93889649 0.91381672 0.89523489 0.8855449  0.87015505\n",
            " 0.85601918 0.86057916 0.79993165 0.79320566 0.77963973 0.80939351\n",
            " 0.86171914 0.8337893  0.8203375  0.82170543 0.84758327 0.86263115\n",
            " 0.88360694 0.88964888 0.89158693 0.96534426 0.95269037 0.9751482\n",
            " 0.95303243 0.94721845 0.95645235 0.95508441 0.9612403  0.96443234\n",
            " 0.94904239 0.97457825 0.97036026 0.95975833 0.96397633 0.98894208\n",
            " 0.96979023 0.96979439 0.96566486 0.96060663 0.95497829 0.94903505\n",
            " 0.94297594 0.93694621 0.9310413  0.92531115 0.91977048 0.91440642\n",
            " 0.90918911 0.90407866 0.89903337 0.89401287 0.88898385 0.88391989]\n",
            "17 day output [[0.8788036]]\n",
            "18 day input [0.90401279 0.90173284 0.89443691 0.90560876 0.91142275 0.92749658\n",
            " 0.93889649 0.91381672 0.89523489 0.8855449  0.87015505 0.85601918\n",
            " 0.86057916 0.79993165 0.79320566 0.77963973 0.80939351 0.86171914\n",
            " 0.8337893  0.8203375  0.82170543 0.84758327 0.86263115 0.88360694\n",
            " 0.88964888 0.89158693 0.96534426 0.95269037 0.9751482  0.95303243\n",
            " 0.94721845 0.95645235 0.95508441 0.9612403  0.96443234 0.94904239\n",
            " 0.97457825 0.97036026 0.95975833 0.96397633 0.98894208 0.96979023\n",
            " 0.96979439 0.96566486 0.96060663 0.95497829 0.94903505 0.94297594\n",
            " 0.93694621 0.9310413  0.92531115 0.91977048 0.91440642 0.90918911\n",
            " 0.90407866 0.89903337 0.89401287 0.88898385 0.88391989 0.87880361]\n",
            "18 day output [[0.87362546]]\n",
            "19 day input [0.90173284 0.89443691 0.90560876 0.91142275 0.92749658 0.93889649\n",
            " 0.91381672 0.89523489 0.8855449  0.87015505 0.85601918 0.86057916\n",
            " 0.79993165 0.79320566 0.77963973 0.80939351 0.86171914 0.8337893\n",
            " 0.8203375  0.82170543 0.84758327 0.86263115 0.88360694 0.88964888\n",
            " 0.89158693 0.96534426 0.95269037 0.9751482  0.95303243 0.94721845\n",
            " 0.95645235 0.95508441 0.9612403  0.96443234 0.94904239 0.97457825\n",
            " 0.97036026 0.95975833 0.96397633 0.98894208 0.96979023 0.96979439\n",
            " 0.96566486 0.96060663 0.95497829 0.94903505 0.94297594 0.93694621\n",
            " 0.9310413  0.92531115 0.91977048 0.91440642 0.90918911 0.90407866\n",
            " 0.89903337 0.89401287 0.88898385 0.88391989 0.87880361 0.87362546]\n",
            "19 day output [[0.8683825]]\n",
            "20 day input [0.89443691 0.90560876 0.91142275 0.92749658 0.93889649 0.91381672\n",
            " 0.89523489 0.8855449  0.87015505 0.85601918 0.86057916 0.79993165\n",
            " 0.79320566 0.77963973 0.80939351 0.86171914 0.8337893  0.8203375\n",
            " 0.82170543 0.84758327 0.86263115 0.88360694 0.88964888 0.89158693\n",
            " 0.96534426 0.95269037 0.9751482  0.95303243 0.94721845 0.95645235\n",
            " 0.95508441 0.9612403  0.96443234 0.94904239 0.97457825 0.97036026\n",
            " 0.95975833 0.96397633 0.98894208 0.96979023 0.96979439 0.96566486\n",
            " 0.96060663 0.95497829 0.94903505 0.94297594 0.93694621 0.9310413\n",
            " 0.92531115 0.91977048 0.91440642 0.90918911 0.90407866 0.89903337\n",
            " 0.89401287 0.88898385 0.88391989 0.87880361 0.87362546 0.86838251]\n",
            "20 day output [[0.8630779]]\n",
            "21 day input [0.90560876 0.91142275 0.92749658 0.93889649 0.91381672 0.89523489\n",
            " 0.8855449  0.87015505 0.85601918 0.86057916 0.79993165 0.79320566\n",
            " 0.77963973 0.80939351 0.86171914 0.8337893  0.8203375  0.82170543\n",
            " 0.84758327 0.86263115 0.88360694 0.88964888 0.89158693 0.96534426\n",
            " 0.95269037 0.9751482  0.95303243 0.94721845 0.95645235 0.95508441\n",
            " 0.9612403  0.96443234 0.94904239 0.97457825 0.97036026 0.95975833\n",
            " 0.96397633 0.98894208 0.96979023 0.96979439 0.96566486 0.96060663\n",
            " 0.95497829 0.94903505 0.94297594 0.93694621 0.9310413  0.92531115\n",
            " 0.91977048 0.91440642 0.90918911 0.90407866 0.89903337 0.89401287\n",
            " 0.88898385 0.88391989 0.87880361 0.87362546 0.86838251 0.86307788]\n",
            "21 day output [[0.8577184]]\n",
            "22 day input [0.91142275 0.92749658 0.93889649 0.91381672 0.89523489 0.8855449\n",
            " 0.87015505 0.85601918 0.86057916 0.79993165 0.79320566 0.77963973\n",
            " 0.80939351 0.86171914 0.8337893  0.8203375  0.82170543 0.84758327\n",
            " 0.86263115 0.88360694 0.88964888 0.89158693 0.96534426 0.95269037\n",
            " 0.9751482  0.95303243 0.94721845 0.95645235 0.95508441 0.9612403\n",
            " 0.96443234 0.94904239 0.97457825 0.97036026 0.95975833 0.96397633\n",
            " 0.98894208 0.96979023 0.96979439 0.96566486 0.96060663 0.95497829\n",
            " 0.94903505 0.94297594 0.93694621 0.9310413  0.92531115 0.91977048\n",
            " 0.91440642 0.90918911 0.90407866 0.89903337 0.89401287 0.88898385\n",
            " 0.88391989 0.87880361 0.87362546 0.86838251 0.86307788 0.85771841]\n",
            "22 day output [[0.85231334]]\n",
            "23 day input [0.92749658 0.93889649 0.91381672 0.89523489 0.8855449  0.87015505\n",
            " 0.85601918 0.86057916 0.79993165 0.79320566 0.77963973 0.80939351\n",
            " 0.86171914 0.8337893  0.8203375  0.82170543 0.84758327 0.86263115\n",
            " 0.88360694 0.88964888 0.89158693 0.96534426 0.95269037 0.9751482\n",
            " 0.95303243 0.94721845 0.95645235 0.95508441 0.9612403  0.96443234\n",
            " 0.94904239 0.97457825 0.97036026 0.95975833 0.96397633 0.98894208\n",
            " 0.96979023 0.96979439 0.96566486 0.96060663 0.95497829 0.94903505\n",
            " 0.94297594 0.93694621 0.9310413  0.92531115 0.91977048 0.91440642\n",
            " 0.90918911 0.90407866 0.89903337 0.89401287 0.88898385 0.88391989\n",
            " 0.87880361 0.87362546 0.86838251 0.86307788 0.85771841 0.85231334]\n",
            "23 day output [[0.84687334]]\n",
            "24 day input [0.93889649 0.91381672 0.89523489 0.8855449  0.87015505 0.85601918\n",
            " 0.86057916 0.79993165 0.79320566 0.77963973 0.80939351 0.86171914\n",
            " 0.8337893  0.8203375  0.82170543 0.84758327 0.86263115 0.88360694\n",
            " 0.88964888 0.89158693 0.96534426 0.95269037 0.9751482  0.95303243\n",
            " 0.94721845 0.95645235 0.95508441 0.9612403  0.96443234 0.94904239\n",
            " 0.97457825 0.97036026 0.95975833 0.96397633 0.98894208 0.96979023\n",
            " 0.96979439 0.96566486 0.96060663 0.95497829 0.94903505 0.94297594\n",
            " 0.93694621 0.9310413  0.92531115 0.91977048 0.91440642 0.90918911\n",
            " 0.90407866 0.89903337 0.89401287 0.88898385 0.88391989 0.87880361\n",
            " 0.87362546 0.86838251 0.86307788 0.85771841 0.85231334 0.84687334]\n",
            "24 day output [[0.84140855]]\n",
            "25 day input [0.91381672 0.89523489 0.8855449  0.87015505 0.85601918 0.86057916\n",
            " 0.79993165 0.79320566 0.77963973 0.80939351 0.86171914 0.8337893\n",
            " 0.8203375  0.82170543 0.84758327 0.86263115 0.88360694 0.88964888\n",
            " 0.89158693 0.96534426 0.95269037 0.9751482  0.95303243 0.94721845\n",
            " 0.95645235 0.95508441 0.9612403  0.96443234 0.94904239 0.97457825\n",
            " 0.97036026 0.95975833 0.96397633 0.98894208 0.96979023 0.96979439\n",
            " 0.96566486 0.96060663 0.95497829 0.94903505 0.94297594 0.93694621\n",
            " 0.9310413  0.92531115 0.91977048 0.91440642 0.90918911 0.90407866\n",
            " 0.89903337 0.89401287 0.88898385 0.88391989 0.87880361 0.87362546\n",
            " 0.86838251 0.86307788 0.85771841 0.85231334 0.84687334 0.84140855]\n",
            "25 day output [[0.8359283]]\n",
            "26 day input [0.89523489 0.8855449  0.87015505 0.85601918 0.86057916 0.79993165\n",
            " 0.79320566 0.77963973 0.80939351 0.86171914 0.8337893  0.8203375\n",
            " 0.82170543 0.84758327 0.86263115 0.88360694 0.88964888 0.89158693\n",
            " 0.96534426 0.95269037 0.9751482  0.95303243 0.94721845 0.95645235\n",
            " 0.95508441 0.9612403  0.96443234 0.94904239 0.97457825 0.97036026\n",
            " 0.95975833 0.96397633 0.98894208 0.96979023 0.96979439 0.96566486\n",
            " 0.96060663 0.95497829 0.94903505 0.94297594 0.93694621 0.9310413\n",
            " 0.92531115 0.91977048 0.91440642 0.90918911 0.90407866 0.89903337\n",
            " 0.89401287 0.88898385 0.88391989 0.87880361 0.87362546 0.86838251\n",
            " 0.86307788 0.85771841 0.85231334 0.84687334 0.84140855 0.83592832]\n",
            "26 day output [[0.83044094]]\n",
            "27 day input [0.8855449  0.87015505 0.85601918 0.86057916 0.79993165 0.79320566\n",
            " 0.77963973 0.80939351 0.86171914 0.8337893  0.8203375  0.82170543\n",
            " 0.84758327 0.86263115 0.88360694 0.88964888 0.89158693 0.96534426\n",
            " 0.95269037 0.9751482  0.95303243 0.94721845 0.95645235 0.95508441\n",
            " 0.9612403  0.96443234 0.94904239 0.97457825 0.97036026 0.95975833\n",
            " 0.96397633 0.98894208 0.96979023 0.96979439 0.96566486 0.96060663\n",
            " 0.95497829 0.94903505 0.94297594 0.93694621 0.9310413  0.92531115\n",
            " 0.91977048 0.91440642 0.90918911 0.90407866 0.89903337 0.89401287\n",
            " 0.88898385 0.88391989 0.87880361 0.87362546 0.86838251 0.86307788\n",
            " 0.85771841 0.85231334 0.84687334 0.84140855 0.83592832 0.83044094]\n",
            "27 day output [[0.82495266]]\n",
            "28 day input [0.87015505 0.85601918 0.86057916 0.79993165 0.79320566 0.77963973\n",
            " 0.80939351 0.86171914 0.8337893  0.8203375  0.82170543 0.84758327\n",
            " 0.86263115 0.88360694 0.88964888 0.89158693 0.96534426 0.95269037\n",
            " 0.9751482  0.95303243 0.94721845 0.95645235 0.95508441 0.9612403\n",
            " 0.96443234 0.94904239 0.97457825 0.97036026 0.95975833 0.96397633\n",
            " 0.98894208 0.96979023 0.96979439 0.96566486 0.96060663 0.95497829\n",
            " 0.94903505 0.94297594 0.93694621 0.9310413  0.92531115 0.91977048\n",
            " 0.91440642 0.90918911 0.90407866 0.89903337 0.89401287 0.88898385\n",
            " 0.88391989 0.87880361 0.87362546 0.86838251 0.86307788 0.85771841\n",
            " 0.85231334 0.84687334 0.84140855 0.83592832 0.83044094 0.82495266]\n",
            "28 day output [[0.8194682]]\n",
            "29 day input [0.85601918 0.86057916 0.79993165 0.79320566 0.77963973 0.80939351\n",
            " 0.86171914 0.8337893  0.8203375  0.82170543 0.84758327 0.86263115\n",
            " 0.88360694 0.88964888 0.89158693 0.96534426 0.95269037 0.9751482\n",
            " 0.95303243 0.94721845 0.95645235 0.95508441 0.9612403  0.96443234\n",
            " 0.94904239 0.97457825 0.97036026 0.95975833 0.96397633 0.98894208\n",
            " 0.96979023 0.96979439 0.96566486 0.96060663 0.95497829 0.94903505\n",
            " 0.94297594 0.93694621 0.9310413  0.92531115 0.91977048 0.91440642\n",
            " 0.90918911 0.90407866 0.89903337 0.89401287 0.88898385 0.88391989\n",
            " 0.87880361 0.87362546 0.86838251 0.86307788 0.85771841 0.85231334\n",
            " 0.84687334 0.84140855 0.83592832 0.83044094 0.82495266 0.8194682 ]\n",
            "29 day output [[0.81399065]]\n"
          ]
        }
      ]
    },
    {
      "cell_type": "markdown",
      "source": [
        "\n",
        "\n",
        "*   List of predicted stock prices for the next 30 days\n",
        "\n"
      ],
      "metadata": {
        "id": "4knvSKmcw1LW"
      }
    },
    {
      "cell_type": "code",
      "source": [
        "for i in range(1, n_days+1):\n",
        "    print(f\"Ngày thứ {i}: {scaler.inverse_transform(lst_output)[i-1]}\")\n",
        "    # scaler.inverse_transform(lst_output)"
      ],
      "metadata": {
        "colab": {
          "base_uri": "https://localhost:8080/"
        },
        "id": "5K-SAlW1yl4V",
        "outputId": "67022c44-bc90-4afa-d15b-5cc84b3bfae9"
      },
      "execution_count": 19,
      "outputs": [
        {
          "output_type": "stream",
          "name": "stdout",
          "text": [
            "Ngày thứ 1: [116.52036221]\n",
            "Ngày thứ 2: [116.15811994]\n",
            "Ngày thứ 3: [115.71441211]\n",
            "Ngày thứ 4: [115.22069349]\n",
            "Ngày thứ 5: [114.69935261]\n",
            "Ngày thứ 6: [114.16784748]\n",
            "Ngày thứ 7: [113.63892002]\n",
            "Ngày thứ 8: [113.12094107]\n",
            "Ngày thứ 9: [112.61829214]\n",
            "Ngày thứ 10: [112.13226468]\n",
            "Ngày thứ 11: [111.66172931]\n",
            "Ngày thứ 12: [111.20406657]\n",
            "Ngày thứ 13: [110.75577855]\n",
            "Ngày thứ 14: [110.31320531]\n",
            "Ngày thứ 15: [109.87280713]\n",
            "Ngày thứ 16: [109.43166128]\n",
            "Ngày thứ 17: [108.98745151]\n",
            "Ngày thứ 18: [108.5386511]\n",
            "Ngày thứ 19: [108.08442349]\n",
            "Ngày thứ 20: [107.62451248]\n",
            "Ngày thứ 21: [107.15918995]\n",
            "Ngày thứ 22: [106.68905719]\n",
            "Ngày thứ 23: [106.2149246]\n",
            "Ngày thứ 24: [105.73772811]\n",
            "Ngày thứ 25: [105.25835655]\n",
            "Ngày thứ 26: [104.7776308]\n",
            "Ngày thứ 27: [104.29627763]\n",
            "Ngày thứ 28: [103.81484604]\n",
            "Ngày thứ 29: [103.33374906]\n",
            "Ngày thứ 30: [102.8532586]\n"
          ]
        }
      ]
    },
    {
      "cell_type": "markdown",
      "source": [
        "**VISUALIZATION OF PREDICTIONS**"
      ],
      "metadata": {
        "id": "ccC1L-1pHCtd"
      }
    },
    {
      "cell_type": "markdown",
      "source": [
        "\n",
        "\n",
        "*   Plot 1\n",
        "\n"
      ],
      "metadata": {
        "id": "wVuNMOZiws53"
      }
    },
    {
      "cell_type": "code",
      "source": [
        "train_data_index = pd.RangeIndex(start=0, stop=train_size, step=1)\n",
        "plt.title('XOM LSTM data')\n",
        "plt.plot(scaler.inverse_transform(train_data))\n",
        "test_data_index = pd.RangeIndex(start=train_size, stop=train_size+test_size, step=1)\n",
        "plt.plot(test_data_index,scaler.inverse_transform(test_data))\n",
        "test_pre_data_index = pd.RangeIndex(start=train_size+time_step+1, stop=train_size+test_size, step=1)\n",
        "plt.plot(test_pre_data_index,(y_pred))\n",
        "val_data_index = pd.RangeIndex(start=train_size+test_size, stop=train_size+test_size+val_size, step=1)\n",
        "plt.plot(val_data_index,scaler.inverse_transform(val_data))\n",
        "val_pre_data_index = pd.RangeIndex(start=train_size+test_size+time_step+1, stop=train_size+test_size+val_size, step=1)\n",
        "plt.plot(val_pre_data_index,y_pred_val)\n",
        "prediect_data_index = pd.RangeIndex(start=len(close_prices), stop=len(close_prices)+n_days, step=1)\n",
        "plt.plot(prediect_data_index,scaler.inverse_transform(lst_output))\n",
        "plt.legend(['Train','Test','Predictions','Validate','ValidatePred','Next30Days'])\n",
        "plt.show()"
      ],
      "metadata": {
        "colab": {
          "base_uri": "https://localhost:8080/",
          "height": 452
        },
        "id": "V2gj23QPyd5h",
        "outputId": "ff75c108-4310-4549-ca73-37e5000fee69"
      },
      "execution_count": 22,
      "outputs": [
        {
          "output_type": "display_data",
          "data": {
            "text/plain": [
              "<Figure size 640x480 with 1 Axes>"
            ],
            "image/png": "[encoded data removed]"
          },
          "metadata": {}
        }
      ]
    },
    {
      "cell_type": "markdown",
      "source": [
        "\n",
        "\n",
        "*   Plot 2\n",
        "\n"
      ],
      "metadata": {
        "id": "4eXJyVdmww1n"
      }
    },
    {
      "cell_type": "code",
      "source": [
        "import plotly\n",
        "import plotly.graph_objs as go\n",
        "import plotly.express as px\n",
        "from plotly.subplots import make_subplots\n",
        "\n",
        "fig = go.Figure()\n",
        "fig.add_trace(go.Scatter(x=train_data_index, y=scaler.inverse_transform(train_data)[:, 0], mode='lines+markers', marker=dict(size=4),  name='Train', marker_color='#1F77B4'))\n",
        "fig.add_trace(go.Scatter(x=test_data_index,y=scaler.inverse_transform(test_data)[:, 0], mode='lines+markers', marker=dict(size=4), name='Test', marker_color='#FF7F0E'))\n",
        "fig.add_trace(go.Scatter(x=test_pre_data_index,y=y_pred[:, 0], mode='lines+markers', marker=dict(size=4), name='Predictions', marker_color='#2CA02C'))\n",
        "fig.add_trace(go.Scatter(x=val_data_index, y=scaler.inverse_transform(val_data)[:, 0], mode='lines+markers', marker=dict(size=4), name='Validate', marker_color='#D62728'))\n",
        "fig.add_trace(go.Scatter(x=val_pre_data_index, y=y_pred_val[:, 0], mode='lines+markers', marker=dict(size=4), name='ValidatePred', marker_color='#9569BE'))\n",
        "fig.add_trace(go.Scatter(x=prediect_data_index, y=scaler.inverse_transform(lst_output)[:, 0], mode='lines+markers', marker=dict(size=4), name='Next30Days', marker_color='#000000'))\n",
        "fig.update_layout(legend_orientation=\"h\",\n",
        "                  legend=dict(x=.5, xanchor=\"center\"),\n",
        "                  plot_bgcolor='#FFFFFF',  \n",
        "                  xaxis=dict(gridcolor = 'lightgrey'),\n",
        "                  yaxis=dict(gridcolor = 'lightgrey'),    \n",
        "                  title_text = f'XOM LSTM data', title_x = 0.5,\n",
        "                  xaxis_title=\"Timestep\",\n",
        "                  yaxis_title=\"Stock price\",\n",
        "                  margin=dict(l=0, r=0, t=30, b=0))\n",
        "fig.show()"
      ],
      "metadata": {
        "colab": {
          "base_uri": "https://localhost:8080/",
          "height": 542
        },
        "id": "YLioSa_GpPcc",
        "outputId": "c341c386-6540-4d89-ba2d-8777508fcac2"
      },
      "execution_count": 21,
      "outputs": [
        {
          "output_type": "display_data",
          "data": {
            "text/html": [
              "<html>\n",
              "<head><meta charset=\"utf-8\" /></head>\n",
              "<body>\n",
              "    <div>            <script src=\"https://cdnjs.cloudflare.com/ajax/libs/mathjax/2.7.5/MathJax.js?config=TeX-AMS-MML_SVG\"></script><script type=\"text/javascript\">if (window.MathJax && window.MathJax.Hub && window.MathJax.Hub.Config) {window.MathJax.Hub.Config({SVG: {font: \"STIX-Web\"}});}</script>                <script type=\"text/javascript\">window.PlotlyConfig = {MathJaxConfig: 'local'};</script>\n",
              "        <script src=\"https://cdn.plot.ly/plotly-2.18.2.min.js\"></script>                <div id=\"fca9fb27-9cb6-47f5-8f66-4445f3e1cca7\" class=\"plotly-graph-div\" style=\"height:525px; width:100%;\"></div>            <script type=\"text/javascript\">                                    window.PLOTLYENV=window.PLOTLYENV || {};                                    if (document.getElementById(\"fca9fb27-9cb6-47f5-8f66-4445f3e1cca7\")) {                    Plotly.newPlot(                        \"fca9fb27-9cb6-47f5-8f66-4445f3e1cca7\",                        [{\"marker\":{\"color\":\"#1F77B4\",\"size\":4},\"mode\":\"lines+markers\",\"name\":\"Train\",\"x\":[0,1,2,3,4,5,6,7,8,9,10,11,12,13,14,15,16,17,18,19,20,21,22,23,24,25,26,27,28,29,30,31,32,33,34,35,36,37,38,39,40,41,42,43,44,45,46,47,48,49,50,51,52,53,54,55,56,57,58,59,60,61,62,63,64,65,66,67,68,69,70,71,72,73,74,75,76,77,78,79,80,81,82,83,84,85,86,87,88,89,90,91,92,93,94,95,96,97,98,99,100,101,102,103,104,105,106,107,108,109,110,111,112,113,114,115,116,117,118,119,120,121,122,123,124,125,126,127,128,129,130,131,132,133,134,135,136,137,138,139,140,141,142,143,144,145,146,147,148,149,150,151,152,153,154,155,156,157,158,159,160,161,162,163,164,165,166,167,168,169,170,171,172,173,174,175,176,177,178,179,180,181,182,183,184,185,186,187,188,189,190,191,192,193,194,195,196,197,198,199,200,201,202,203,204,205,206,207,208,209,210,211,212,213,214,215,216,217,218,219,220,221,222,223,224,225,226,227,228,229,230,231,232,233,234,235,236,237,238,239,240,241,242,243,244,245,246,247,248,249,250,251,252,253,254,255,256,257,258,259,260,261,262,263,264,265,266,267,268,269,270,271,272,273,274,275,276,277,278,279,280,281,282,283,284,285,286,287,288,289,290,291,292,293,294,295,296,297,298,299,300,301,302,303,304,305,306,307,308,309,310,311,312,313,314,315,316,317,318,319,320,321,322,323,324,325,326,327,328,329,330,331,332,333,334,335,336,337,338,339,340,341,342,343,344,345,346,347,348,349,350,351,352,353,354,355,356,357,358,359,360,361,362,363,364,365,366,367,368,369,370,371,372,373,374,375,376,377,378,379,380,381,382,383,384,385,386,387,388,389,390,391,392,393,394,395,396,397,398,399,400,401,402,403,404,405,406,407,408,409,410,411,412,413,414,415,416,417,418,419,420,421,422,423,424,425,426,427,428,429,430,431,432,433,434,435,436,437,438,439,440,441,442,443,444,445,446,447,448,449,450,451,452,453,454,455,456,457,458,459,460,461,462,463,464,465,466,467,468,469,470,471,472,473,474,475,476,477,478,479,480,481,482,483,484,485,486,487,488,489,490,491,492,493,494,495,496,497,498,499,500,501,502,503,504,505,506,507,508,509,510,511,512,513,514,515,516,517,518,519,520,521,522,523,524,525,526,527,528,529,530,531,532,533,534,535,536,537,538,539,540,541,542,543,544,545,546,547,548,549,550,551,552,553,554,555,556,557,558,559,560,561,562,563,564,565,566,567,568,569,570,571,572,573,574,575,576,577,578,579,580,581,582,583,584,585,586,587,588,589,590,591,592,593,594,595,596,597,598,599,600,601,602,603,604,605,606,607,608,609,610,611,612,613,614,615,616,617,618,619,620,621,622,623,624,625,626,627,628,629,630,631,632,633,634,635,636,637,638,639,640,641,642,643,644,645,646,647,648,649,650,651,652,653,654,655,656,657,658,659,660,661,662,663,664,665,666,667,668,669,670,671,672,673,674,675,676,677,678,679,680,681,682,683,684,685,686,687,688,689,690,691,692,693,694,695,696,697,698,699,700,701,702,703,704,705,706,707,708,709,710,711,712,713,714,715,716,717,718,719,720,721,722,723,724,725,726,727,728,729,730,731,732,733,734,735,736,737,738,739,740,741,742,743,744,745,746,747,748,749,750,751,752,753,754,755,756,757,758,759,760,761,762,763,764,765,766,767,768,769,770,771,772,773,774,775,776,777,778,779,780,781,782,783,784,785,786,787,788,789,790,791,792,793,794,795,796,797,798,799,800,801,802,803,804,805,806,807,808,809,810,811,812,813,814,815,816,817,818,819,820,821,822,823,824,825,826,827,828,829,830,831,832,833,834,835,836,837,838,839,840,841,842,843,844,845,846,847,848,849,850,851,852,853,854,855,856,857,858,859,860,861,862,863,864,865,866,867,868,869,870,871,872,873,874,875,876,877,878,879,880,881,882,883,884,885,886,887,888,889,890,891,892,893,894,895,896,897,898,899,900,901,902,903,904,905,906,907,908,909,910,911,912,913,914,915,916,917,918,919,920,921,922,923,924,925,926,927,928,929,930,931,932,933,934],\"y\":[85.029999,86.699997,86.82000000000001,86.75,87.139999,86.769997,86.08000200000001,86.93000000000002,87.519997,86.970001,88.0,87.43,87.150002,88.25,88.30000299999999,88.529999,88.370003,89.0,88.010002,86.779999,87.30000300000002,89.07,84.52999900000002,79.720001,78.349998,76.94000200000002,76.07,75.779999,76.419998,76.30000300000002,76.45999900000001,76.209999,76.540001,75.75,74.889999,75.860001,77.529999,78.839996,77.50000000000001,75.73999800000001,75.199997,75.55000300000002,76.269997,76.18000000000002,74.260002,74.120003,74.559998,75.239998,74.529999,73.599998,74.419998,75.120003,74.150002,73.989998,75.040001,73.5,72.889999,74.0,73.699997,72.809998,74.610001,73.220001,75.019997,74.870003,76.01999700000002,74.870003,74.870003,77.07,77.43,77.220001,77.83999600000001,78.540001,78.33000200000001,79.22000100000001,79.41999800000002,79.0,79.57,78.349998,79.5,80.860001,77.79000100000002,77.75000000000001,76.949997,76.800003,76.540001,76.900002,77.739998,78.089996,79.93,81.72000100000001,81.27999900000002,81.83000200000001,81.790001,82.01999700000002,81.879997,81.30000300000002,82.279999,81.63999900000002,82.150002,80.26999700000002,78.709999,78.41999800000002,81.5,81.239998,81.83000200000001,80.97000100000001,80.68,82.059998,82.879997,83.599998,83.09999800000001,82.419998,81.510002,81.889999,80.66000400000001,80.82000000000001,80.69999700000001,80.44999700000001,79.69000200000002,81.37999700000002,79.739998,80.639999,81.709999,81.970001,82.73000300000001,81.760002,82.239998,82.30999800000001,82.330002,82.900002,83.660004,82.589996,82.690002,83.30999800000001,82.48999800000001,82.30999800000001,82.220001,82.01000200000001,81.40000200000001,81.40000200000001,83.010002,83.58999600000001,84.23999800000001,81.91999800000002,81.73999800000001,81.510002,80.389999,79.91000400000001,80.199997,80.18000000000002,81.269997,80.730003,80.32,79.41999800000002,78.559998,78.30999800000001,76.94000200000002,78.0,78.260002,78.809998,78.830002,79.95999900000001,79.080002,79.62000300000001,80.400002,80.27999900000002,80.860001,80.510002,80.16999800000002,80.290001,81.360001,80.459999,81.83000200000001,81.709999,82.86000100000001,83.12999700000002,82.32,82.919998,83.41000400000001,83.629997,84.629997,84.82,85.16999800000002,86.599998,86.5,85.779999,85.769997,85.019997,85.80999800000001,86.45999900000001,86.150002,85.580002,85.33999600000001,86.129997,86.510002,84.51999700000002,81.599998,81.37999700000002,80.82000000000001,81.199997,81.5,81.849998,81.970001,81.150002,79.839996,77.620003,78.30999800000001,77.529999,77.050003,78.77999900000002,79.68,80.669998,81.949997,81.63999900000002,81.989998,83.02999900000002,81.709999,80.870003,79.830002,78.0,77.38999900000002,78.190002,78.95999900000001,79.22000100000001,76.970001,77.559998,75.489998,76.980003,77.050003,78.449997,79.05999800000001,79.5,81.220001,79.43000000000002,78.38999900000002,77.639999,76.540001,76.68,76.01999700000002,76.980003,75.580002,74.040001,72.0,70.779999,68.629997,68.120003,65.510002,68.639999,68.940002,68.169998,68.190002,69.690002,68.620003,71.150002,71.519997,72.040001,72.419998,72.050003,71.720001,71.629997,71.669998,71.639999,72.129997,72.989998,71.889999,71.300003,71.400002,71.720001,71.239998,71.510002,72.290001,73.279999,75.91999800000002,74.82,75.589996,75.260002,74.68,73.980003,74.099998,75.400002,76.25,76.269997,77.709999,78.230003,78.52999900000002,77.82,78.41999800000002,78.50000000000001,78.660004,79.470001,79.029999,80.00000000000001,80.309998,80.190002,79.279999,80.160004,79.010002,79.779999,80.00000000000001,80.70999900000001,80.44000200000002,80.150002,81.08000200000001,80.870003,81.32,81.790001,80.480003,79.919998,80.959999,80.33999600000001,80.73999800000001,80.800003,81.73000300000001,81.37999700000002,80.900002,82.050003,82.48999800000001,83.0,81.93000000000002,81.55999800000001,81.949997,80.91999800000002,80.65000200000001,81.199997,81.43,81.129997,82.900002,83.379997,81.760002,82.220001,80.489998,79.97000100000001,80.27999900000002,78.669998,77.290001,77.47000100000001,77.12999700000002,76.72000100000001,76.83999600000001,76.76999700000002,76.55999800000001,75.70999900000001,75.809998,76.37000300000001,76.360001,75.910004,75.900002,76.25,75.55999800000001,73.790001,74.099998,72.610001,72.160004,71.970001,70.769997,71.879997,73.589996,72.980003,74.309998,74.580002,74.910004,74.839996,74.029999,74.68,74.349998,75.089996,75.73999800000001,75.32,76.610001,77.690002,76.949997,76.269997,76.599998,75.82000000000001,76.629997,76.55999800000001,75.72000100000001,76.440002,76.129997,76.480003,76.43,77.510002,77.57000000000001,77.629997,77.080002,75.93000000000002,75.480003,74.839996,74.989998,75.07,75.37000300000001,75.36000100000001,74.93,74.809998,75.33999600000001,75.34999800000001,74.360001,72.459999,71.75,70.279999,70.959999,70.5,72.379997,70.839996,69.629997,70.489998,67.650002,67.25,68.300003,69.449997,69.029999,69.720001,69.57,67.489998,67.849998,67.190002,67.68,68.43,68.480003,68.559998,69.290001,70.269997,70.93,71.489998,72.07,71.93,71.980003,72.639999,73.730003,73.169998,72.82,72.330002,72.080002,72.129997,71.139999,71.349998,70.970001,71.480003,70.610001,68.949997,67.150002,67.980003,68.970001,68.019997,66.699997,67.440002,68.25,68.980003,69.18,69.419998,68.230003,68.139999,67.610001,68.739998,69.089996,69.75,69.089996,69.25,68.639999,68.440002,67.720001,67.57,69.599998,71.669998,73.089996,71.489998,73.010002,70.769997,70.339996,69.370003,68.800003,68.5,69.190002,68.519997,67.82,68.029999,69.669998,69.370003,68.910004,68.739998,68.699997,68.129997,68.419998,67.879997,68.650002,68.410004,69.510002,69.660004,69.059998,68.959999,70.339996,69.230003,70.0,69.68,69.870003,69.389999,69.940002,70.290001,70.019997,70.129997,69.889999,69.480003,69.779999,70.900002,70.330002,70.870003,70.290001,69.230003,69.760002,69.139999,69.800003,69.199997,69.089996,68.82,68.559998,67.580002,67.190002,66.769997,66.32,64.739998,64.650002,64.110001,64.790001,62.119999,60.73,59.970001,62.73,61.880001,61.470001,59.95999900000001,60.529999,61.27,60.93,60.650002,59.880001,60.34,59.860001,59.130001,56.36000099999999,54.200001,53.009998,49.82,51.439999,53.880001,51.29999899999999,52.41999800000001,50.110001,47.689999,41.860001,43.41,41.98,37.18,38.119999,34.490002,36.810001,33.119999,34.43,32.740002,31.450001,35.439999,37.290001,38.82,36.950001,37.5,37.970001,37.529999,40.400002,39.209999,40.470001,41.240002,43.849998,43.130001,42.759998,42.43,40.48,39.150002,43.220001,41.18,40.959999,42.130001,43.450001,43.73,43.93999900000001,44.970001,47.459999,46.470001,43.139999,44.880001,44.830002,43.990002,44.240002,46.18000000000001,45.740002,44.119999,41.93,42.299999,42.0,45.34,43.93999900000001,45.369999,44.56000100000001,44.59999800000001,45.910000000000004,46.240002000000004,45.040001,45.470001,46.27999899999999,47.310001,49.24000199999999,49.099998,53.08000200000001,54.74000199999999,53.519999999999996,50.650002,46.18000000000001,47.169998,47.139999,48.200001,46.630001,46.91999800000001,45.98,46.419998,46.70000099999999,44.5,45.169998,43.619999,44.32,44.720001,43.709999,44.080002,44.389999,43.240002,43.139999,41.360001,42.650002,42.66,44.06999999999999,44.630001,44.279999,43.52,42.5,44.650002,43.610001,43.700001,43.43,44.06999999999999,43.549999,44.029999,41.869999,42.080002,42.25,43.470001,43.849998,43.639999,43.439999,44.509997999999996,44.970001,44.09,43.009998,43.200001,42.639999,42.43,41.959999,41.32,41.009998,42.220001,40.880001,40.009998,39.740002,40.689999,39.939999,39.43,39.189999,39.110001,39.080002,38.18,37.950001,37.0,36.900002,36.66,36.27,37.810001,37.799999,37.189999,36.43,35.529999,34.389999,34.32,34.639999,35.310001,34.279999,34.330002,33.130001,32.98,33.740002,33.389999,33.5,35.259998,34.740002,34.630001,34.220001,34.150002,34.450001,34.099998,33.419998,33.700001,33.16,34.860001,34.16,33.349998,32.82,31.57,32.970001,32.619999,33.990002,33.41,33.23,33.169998,32.779999,36.93,36.860001,36.48,35.23,36.080002,38.16,38.669998,37.209999,37.400002,36.939999,39.360001,41.98,40.810001,40.189999,38.130001,38.5,39.939999,40.209999,41.68,40.900002,42.240002,42.799999,44.00999800000001,43.799999,42.220001,43.040001,43.700001,43.48,42.73,41.950001,41.240002,41.77,41.599998,41.740002,41.27,41.599998,41.220001,41.5,43.5,44.610001,44.959999,45.459999,46.84,47.880001,48.419998,50.310001,47.88999900000001,48.84,49.529999,48.110001,47.43,46.90000200000001,45.86999900000001,45.349998,46.060001,44.84,44.919998,45.63000100000001,47.419998,48.330002,49.950001,52.099998,50.630001,51.119999,49.84000000000001,50.52000000000001,52.040001,52.849998,52.02,52.369999,54.299999,55.04999900000001,56.700001,55.759998,54.36999900000001,56.400002,56.07,56.519999999999996,58.709998999999996,60.93,60.869999,59.93,61.77,61.310001,61.970001,60.389999,59.110001,59.369999,56.810001,56.490002,55.91,55.220001,56.34,56.18,57.709999,57.400002,56.68999900000001,55.830002,57.389999,56.5,56.34,56.59000000000001,56.0,55.869999,55.5,55.70999900000001,57.32,56.98,56.66,56.48,55.290001000000004,56.0,55.27,55.57,55.68,56.41,58.110001,58.939999,57.240002000000004,58.82,59.18999900000001,60.970000999999996,61.549999,62.43,62.580002,60.59,60.040001,59.29999899999999,60.77,62.18999900000001,60.43,58.98,58.84,58.919998,59.610001,58.259998,58.939999,58.56000100000001,58.369999,60.459999,60.93999899999999,61.18,61.45000100000001,61.049999,62.13000100000001,62.65000199999999,62.75,62.16999800000001,62.07,64.330002,64.099998,61.990002,60.400002,62.589999999999996,63.790001000000004,64.260002,64.519997,64.660004,63.009998,62.619999,63.080002,63.259998,63.169998,61.369999,60.41,60.139999,61.23,61.169998,60.88000100000001,59.529999,58.95000100000001,57.32,55.349998,55.959999,57.759998,57.110001,57.04000099999999,58.48,57.830002,58.220001,58.93000000000001,57.57000000000001,57.580002,58.200001,56.84,57.200001,57.860001,57.200001,58.18,58.349998,57.34999799999999,56.77,55.939999,55.560001,54.389999,52.73,52.740002,54.91,55.360001,55.459999,54.709999,55.77,55.16,54.52,53.77,55.080002,54.86999899999999,54.549999,54.049999,54.09000000000001,53.98,55.369999,54.580002,56.419998,55.82,55.16],\"type\":\"scatter\"},{\"marker\":{\"color\":\"#FF7F0E\",\"size\":4},\"mode\":\"lines+markers\",\"name\":\"Test\",\"x\":[935,936,937,938,939,940,941,942,943,944,945,946,947,948,949,950,951,952,953,954,955,956,957,958,959,960,961,962,963,964,965,966,967,968,969,970,971,972,973,974,975,976,977,978,979,980,981,982,983,984,985,986,987,988,989,990,991,992,993,994,995,996,997,998,999,1000,1001,1002,1003,1004,1005,1006,1007,1008,1009,1010,1011,1012,1013,1014,1015,1016,1017,1018,1019,1020,1021,1022,1023,1024,1025,1026,1027,1028,1029,1030,1031,1032,1033,1034,1035,1036,1037,1038,1039,1040,1041,1042,1043,1044,1045,1046,1047,1048,1049,1050,1051,1052,1053,1054,1055,1056,1057,1058,1059,1060,1061,1062,1063,1064,1065,1066,1067,1068,1069,1070,1071,1072,1073,1074,1075,1076,1077,1078,1079,1080,1081,1082,1083,1084,1085,1086,1087,1088,1089,1090,1091,1092,1093,1094,1095,1096,1097,1098,1099,1100,1101,1102,1103,1104,1105,1106,1107,1108,1109,1110,1111,1112,1113,1114,1115,1116,1117,1118,1119,1120,1121,1122,1123,1124,1125,1126,1127,1128,1129,1130,1131,1132,1133,1134,1135,1136,1137,1138,1139,1140,1141,1142,1143,1144,1145,1146,1147,1148,1149,1150,1151,1152,1153,1154,1155,1156,1157,1158,1159,1160,1161,1162,1163,1164,1165,1166,1167,1168,1169,1170,1171,1172,1173,1174,1175,1176,1177,1178,1179,1180,1181,1182,1183,1184,1185,1186,1187,1188,1189,1190,1191,1192,1193,1194,1195,1196,1197,1198,1199,1200,1201],\"y\":[53.68999900000001,53.639999,55.209999,57.080002,57.59,59.29999899999999,59.919998,59.880001,58.82,60.93,61.720001,61.61999899999999,60.490002,60.66,62.18,61.56000099999999,61.240002,61.07,62.0,62.589999999999996,62.560001,63.5,63.849998,62.689999,63.119999,64.349998,65.839996,64.129997,64.309998,64.470001,65.629997,64.82,63.93,64.410004,65.019997,65.720001,66.360001,64.190002,64.309998,63.82,64.370003,65.019997,64.309998,63.61000099999999,60.669998,61.509998,63.130001,63.480000000000004,61.24999999999999,61.59,59.84,59.790001,61.279999,60.889999,61.58000199999999,62.27,62.450001,62.610001,63.009998,61.630001,61.540001,61.27,61.369999,60.029999,59.16,60.5,60.990002,61.02,61.88999900000001,61.689999,61.150002,60.790001000000004,61.189999,63.540001,65.93,66.75,68.32,68.879997,68.470001,71.349998,71.139999,70.629997,71.870003,73.080002,73.110001,73.269997,72.169998,72.790001,74.93,74.169998,75.120003,75.279999,75.959999,80.830002,80.62000300000001,79.68,81.410004,82.38999900000002,80.26000200000001,79.0,78.23999800000001,80.209999,78.980003,77.989998,78.349998,78.230003,77.360001,76.45999900000001,76.76999700000002,75.800003,77.83999600000001,78.41999800000002,79.16999800000002,80.529999,81.040001,84.089996,87.12000300000001,87.779999,82.790001,85.36000100000001,84.919998,81.879997,77.220001,76.93000000000002,78.980003,78.669998,82.19999700000001,81.839996,83.12999700000002,83.379997,85.199997,82.809998,82.370003,83.77999900000002,82.589996,83.12000300000001,83.160004,82.73000300000001,83.650002,85.050003,86.839996,83.84999800000001,85.59999800000001,86.80999800000001,87.83000199999998,88.550003,87.760002,87.959999,87.02999900000002,85.129997,82.260002,82.29000100000002,84.639999,87.19999700000001,85.25000000000001,86.410004,88.190002,91.699997,90.309998,91.690002,84.459999,85.019997,86.790001,86.300003,88.86000099999998,90.949997,92.11000100000001,90.650002,91.139999,91.860001,93.889999,94.400002,96.300003,96.639999,97.589996,96.0,97.839996,97.669998,99.089996,98.83999600000001,103.37000299999998,104.589996,102.330002,100.459999,95.849998,96.099998,94.889999,91.389999,86.120003,91.480003,87.86000100000001,85.209999,86.900002,89.029999,91.5,88.12000299999998,85.639999,87.55000300000002,84.80999800000001,83.279999,85.940002,86.08000200000001,85.639999,84.50000000000001,84.839996,83.139999,84.540001,86.099998,88.269997,89.23999800000001,87.74999999999999,87.08000200000001,89.980003,89.629997,91.57,92.63999899999999,96.93,94.48000300000001,94.07,91.019997,87.19000200000002,88.449997,88.94999700000001,90.589996,91.44999700000001,93.19000199999999,94.0,92.32,91.459999,92.199997,94.379997,94.080002,94.010002,97.99999999999999,98.580002,99.089996,97.870003,100.120003,96.309998,95.58999599999999,93.870003,95.58999599999999,94.94999699999998,94.139999,94.910004,96.5,97.610001,95.33000200000001,97.669998,94.830002,93.209999,93.19999700000001,92.440002,90.949997,90.57,85.75,83.980003,85.739998,88.86000099999998,88.68000000000002,87.309998,91.91999800000002,95.269997,99.12000299999998,102.059998,101.029999,98.83999600000001],\"type\":\"scatter\"},{\"marker\":{\"color\":\"#2CA02C\",\"size\":4},\"mode\":\"lines+markers\",\"name\":\"Predictions\",\"x\":[996,997,998,999,1000,1001,1002,1003,1004,1005,1006,1007,1008,1009,1010,1011,1012,1013,1014,1015,1016,1017,1018,1019,1020,1021,1022,1023,1024,1025,1026,1027,1028,1029,1030,1031,1032,1033,1034,1035,1036,1037,1038,1039,1040,1041,1042,1043,1044,1045,1046,1047,1048,1049,1050,1051,1052,1053,1054,1055,1056,1057,1058,1059,1060,1061,1062,1063,1064,1065,1066,1067,1068,1069,1070,1071,1072,1073,1074,1075,1076,1077,1078,1079,1080,1081,1082,1083,1084,1085,1086,1087,1088,1089,1090,1091,1092,1093,1094,1095,1096,1097,1098,1099,1100,1101,1102,1103,1104,1105,1106,1107,1108,1109,1110,1111,1112,1113,1114,1115,1116,1117,1118,1119,1120,1121,1122,1123,1124,1125,1126,1127,1128,1129,1130,1131,1132,1133,1134,1135,1136,1137,1138,1139,1140,1141,1142,1143,1144,1145,1146,1147,1148,1149,1150,1151,1152,1153,1154,1155,1156,1157,1158,1159,1160,1161,1162,1163,1164,1165,1166,1167,1168,1169,1170,1171,1172,1173,1174,1175,1176,1177,1178,1179,1180,1181,1182,1183,1184,1185,1186,1187,1188,1189,1190,1191,1192,1193,1194,1195,1196,1197,1198,1199,1200,1201],\"y\":[62.20552444458008,61.64584732055664,61.14638137817383,60.90498733520508,60.246334075927734,59.38134765625,59.418060302734375,59.92417526245117,60.40684509277344,61.100189208984375,61.48619842529297,61.384971618652344,61.01105880737305,60.86638641357422,61.86997985839844,63.848323822021484,65.66104888916016,67.38538360595703,68.56785583496094,68.83814239501953,70.01513671875,70.73577880859375,70.73240661621094,71.07794189453125,71.89102935791016,72.4603042602539,72.7836685180664,72.35277557373047,72.20460510253906,73.21105194091797,73.69853210449219,74.32110595703125,74.76630401611328,75.28673553466797,77.97982788085938,79.8656005859375,80.1955337524414,80.7887954711914,81.5650863647461,80.86637115478516,79.45507049560547,78.10324096679688,78.38105773925781,78.33386993408203,77.80571746826172,77.6321792602539,77.59278106689453,77.2014389038086,76.48146057128906,76.18024444580078,75.64783477783203,76.3396987915039,77.32014465332031,78.32430267333984,79.5537109375,80.49649047851562,82.43978118896484,85.21426391601562,87.15386199951172,85.25922393798828,84.60907745361328,84.1889419555664,82.4177017211914,78.81067657470703,76.38469696044922,76.45991516113281,77.07372283935547,79.48407745361328,81.13697814941406,82.55278015136719,83.33499145507812,84.45883178710938,83.78550720214844,82.69794464111328,82.66773986816406,82.23809051513672,82.20365142822266,82.308837890625,82.19963836669922,82.59085845947266,83.65398406982422,85.31919860839844,84.76408386230469,84.85574340820312,85.62139892578125,86.68727111816406,87.67366790771484,87.7154769897461,87.58702850341797,86.93683624267578,85.45207214355469,82.98749542236328,81.52745056152344,82.2637939453125,84.59529876708984,85.27152252197266,85.90499114990234,87.12606048583984,89.71343231201172,90.54931640625,91.24952697753906,87.56407165527344,84.94657897949219,84.69834899902344,84.8951644897461,86.57303619384766,88.98251342773438,91.06729125976562,91.25208282470703,91.11009216308594,91.24494171142578,92.40247344970703,93.44297790527344,94.95703125,95.95436096191406,96.81159973144531,96.24363708496094,96.63179016113281,96.87384796142578,97.75270080566406,98.16699981689453,100.84288024902344,103.2843246459961,103.06985473632812,101.26487731933594,97.35140991210938,95.16574096679688,93.81936645507812,91.53150177001953,87.48954772949219,88.16341400146484,87.69276428222656,85.97974395751953,85.8270263671875,87.27803039550781,89.76715087890625,89.46952056884766,87.32414245605469,86.72501373291016,85.22087097167969,83.44109344482422,83.86477661132812,84.69873046875,85.07088470458984,84.59578704833984,84.33264923095703,83.33705139160156,83.38178253173828,84.4603042602539,86.43138885498047,88.19184875488281,88.236572265625,87.44629669189453,88.30670166015625,88.86876678466797,90.12120819091797,91.46530151367188,94.48474884033203,94.96955108642578,94.36920928955078,92.04672241210938,88.3741683959961,86.91659545898438,86.98724365234375,88.39214324951172,90.0136947631836,91.92394256591797,93.41011810302734,93.09476470947266,91.98442840576172,91.55826568603516,92.62613677978516,93.31014251708984,93.53817749023438,95.74271392822266,97.55176544189453,98.61279296875,98.20386505126953,98.87298583984375,97.18354034423828,95.4472427368164,93.61277770996094,93.70105743408203,93.8790283203125,93.65007019042969,93.95270538330078,95.13945770263672,96.55815124511719,96.0260009765625,96.62206268310547,95.48745727539062,93.63516998291016,92.53461456298828,91.73955535888672,90.65142059326172,89.91011810302734,87.06970977783203,84.31644439697266,83.91804504394531,85.9909896850586,87.6580810546875,87.78042602539062,89.9516830444336,93.26750946044922,97.25553131103516,100.91194152832031],\"type\":\"scatter\"},{\"marker\":{\"color\":\"#D62728\",\"size\":4},\"mode\":\"lines+markers\",\"name\":\"Validate\",\"x\":[1202,1203,1204,1205,1206,1207,1208,1209,1210,1211,1212,1213,1214,1215,1216,1217,1218,1219,1220,1221,1222,1223,1224,1225,1226,1227,1228,1229,1230,1231,1232,1233,1234,1235,1236,1237,1238,1239,1240,1241,1242,1243,1244,1245,1246,1247,1248,1249,1250,1251,1252,1253,1254,1255,1256,1257,1258,1259,1260,1261,1262,1263,1264,1265,1266,1267,1268,1269,1270,1271,1272,1273,1274,1275,1276,1277,1278,1279,1280,1281,1282,1283,1284,1285,1286,1287,1288,1289,1290,1291,1292,1293,1294,1295,1296,1297,1298,1299,1300,1301,1302,1303,1304,1305,1306,1307,1308,1309,1310,1311,1312,1313,1314,1315,1316,1317,1318,1319,1320,1321,1322,1323,1324,1325,1326,1327,1328,1329,1330,1331,1332,1333,1334,1335,1336],\"y\":[97.99999999999999,98.43,101.870003,99.190002,100.620003,100.80000300000002,103.790001,103.93000000000002,105.860001,106.599998,105.879997,107.13999899999999,107.550003,110.699997,110.809998,111.910004,109.610001,111.099998,112.309998,113.639999,114.00000000000001,108.900002,110.5,113.949997,113.370003,114.129997,112.91000400000001,113.059998,112.080002,110.970001,114.17999999999999,113.610001,113.209999,109.809998,110.540001,111.339996,110.800003,109.86000100000001,106.849998,103.879997,103.650002,104.419998,103.540001,106.089996,107.24999999999999,106.459999,105.440002,104.699997,105.169998,106.69000199999999,108.059998,105.879997,108.68,110.190002,108.379997,109.19999700000001,110.30000299999999,106.51000200000001,106.82,109.209999,110.529999,108.470001,110.089996,111.370003,113.220001,113.150002,112.93,110.610001,111.32000000000001,113.349998,112.760002,113.80999799999998,113.209999,117.760002,115.610001,113.559998,116.010002,114.73999799999999,111.15000199999999,111.919998,111.730003,114.91999799999999,113.91999800000002,114.34999800000001,119.16999799999999,117.80000300000002,116.419998,116.07,115.73000299999998,111.279999,111.169998,109.73000300000001,110.739998,110.75,110.550003,109.910004,110.889999,111.400002,112.80999800000001,113.80999799999998,111.61000100000001,109.980003,109.129997,107.779999,106.540001,106.940002,101.62000300000001,101.029999,99.83999599999999,102.44999700000001,107.040001,104.589996,103.410004,103.529999,105.800003,107.120003,108.959999,109.489998,109.66000399999999,116.12999700000002,115.019997,116.989998,115.050003,114.540001,115.349998,115.230003,115.76999699999999,116.050003,114.699997,116.94000199999999,116.57,115.639999,116.010002,118.199997,116.51999700000002],\"type\":\"scatter\"},{\"marker\":{\"color\":\"#9569BE\",\"size\":4},\"mode\":\"lines+markers\",\"name\":\"ValidatePred\",\"x\":[1263,1264,1265,1266,1267,1268,1269,1270,1271,1272,1273,1274,1275,1276,1277,1278,1279,1280,1281,1282,1283,1284,1285,1286,1287,1288,1289,1290,1291,1292,1293,1294,1295,1296,1297,1298,1299,1300,1301,1302,1303,1304,1305,1306,1307,1308,1309,1310,1311,1312,1313,1314,1315,1316,1317,1318,1319,1320,1321,1322,1323,1324,1325,1326,1327,1328,1329,1330,1331,1332,1333,1334,1335,1336],\"y\":[107.14952850341797,108.88347625732422,108.64881896972656,109.14562225341797,110.24128723144531,111.94154357910156,112.74382781982422,112.73954772949219,111.10027313232422,110.42976379394531,111.51322174072266,112.00587463378906,112.79688262939453,112.84367370605469,115.48993682861328,115.79306030273438,114.20545196533203,114.5825424194336,114.2798080444336,111.84662628173828,110.87456512451172,110.63557434082031,112.69923400878906,113.52401733398438,113.9681396484375,117.01174926757812,117.92138671875,116.99617767333984,115.91527557373047,115.1104736328125,112.05677032470703,110.28523254394531,108.93448638916016,109.16088104248047,109.70680236816406,110.01387023925781,109.78180694580078,110.17439270019531,110.75798034667969,111.88390350341797,113.05349731445312,112.18904113769531,110.36287689208984,108.78462219238281,107.30143737792969,105.96368408203125,105.70865631103516,102.7618179321289,100.65223693847656,99.21965789794922,100.30917358398438,104.12207794189453,105.13646697998047,104.36085510253906,103.58912658691406,104.43170166015625,105.85015869140625,107.67415618896484,108.85655975341797,109.29337310791016,113.12203979492188,114.73456573486328,116.1407241821289,115.38381958007812,114.21328735351562,114.0323715209961,114.05623626708984,114.49005889892578,114.98991394042969,114.4468765258789,115.42987060546875,115.92900085449219,115.51016235351562,115.38121795654297],\"type\":\"scatter\"},{\"marker\":{\"color\":\"#000000\",\"size\":4},\"mode\":\"lines+markers\",\"name\":\"Next30Days\",\"x\":[1337,1338,1339,1340,1341,1342,1343,1344,1345,1346,1347,1348,1349,1350,1351,1352,1353,1354,1355,1356,1357,1358,1359,1360,1361,1362,1363,1364,1365,1366],\"y\":[116.52036220823922,116.1581199368067,115.71441210677035,115.22069349000367,114.69935260598173,114.16784748051663,113.63892001504715,113.12094106890996,112.61829214124567,112.13226467631175,111.66172931394782,111.20406656600417,110.7557785530953,110.31320531173857,109.87280713439436,109.43166127879586,108.98745151091047,108.53865110311402,108.08442349232479,107.62451248109896,107.15918995243813,106.68905718605728,106.21492460244187,105.73772810653956,105.25835654662474,104.77763080022135,104.29627763150664,103.81484603500303,103.3337490637321,102.85325860069544],\"type\":\"scatter\"}],                        {\"template\":{\"data\":{\"histogram2dcontour\":[{\"type\":\"histogram2dcontour\",\"colorbar\":{\"outlinewidth\":0,\"ticks\":\"\"},\"colorscale\":[[0.0,\"#0d0887\"],[0.1111111111111111,\"#46039f\"],[0.2222222222222222,\"#7201a8\"],[0.3333333333333333,\"#9c179e\"],[0.4444444444444444,\"#bd3786\"],[0.5555555555555556,\"#d8576b\"],[0.6666666666666666,\"#ed7953\"],[0.7777777777777778,\"#fb9f3a\"],[0.8888888888888888,\"#fdca26\"],[1.0,\"#f0f921\"]]}],\"choropleth\":[{\"type\":\"choropleth\",\"colorbar\":{\"outlinewidth\":0,\"ticks\":\"\"}}],\"histogram2d\":[{\"type\":\"histogram2d\",\"colorbar\":{\"outlinewidth\":0,\"ticks\":\"\"},\"colorscale\":[[0.0,\"#0d0887\"],[0.1111111111111111,\"#46039f\"],[0.2222222222222222,\"#7201a8\"],[0.3333333333333333,\"#9c179e\"],[0.4444444444444444,\"#bd3786\"],[0.5555555555555556,\"#d8576b\"],[0.6666666666666666,\"#ed7953\"],[0.7777777777777778,\"#fb9f3a\"],[0.8888888888888888,\"#fdca26\"],[1.0,\"#f0f921\"]]}],\"heatmap\":[{\"type\":\"heatmap\",\"colorbar\":{\"outlinewidth\":0,\"ticks\":\"\"},\"colorscale\":[[0.0,\"#0d0887\"],[0.1111111111111111,\"#46039f\"],[0.2222222222222222,\"#7201a8\"],[0.3333333333333333,\"#9c179e\"],[0.4444444444444444,\"#bd3786\"],[0.5555555555555556,\"#d8576b\"],[0.6666666666666666,\"#ed7953\"],[0.7777777777777778,\"#fb9f3a\"],[0.8888888888888888,\"#fdca26\"],[1.0,\"#f0f921\"]]}],\"heatmapgl\":[{\"type\":\"heatmapgl\",\"colorbar\":{\"outlinewidth\":0,\"ticks\":\"\"},\"colorscale\":[[0.0,\"#0d0887\"],[0.1111111111111111,\"#46039f\"],[0.2222222222222222,\"#7201a8\"],[0.3333333333333333,\"#9c179e\"],[0.4444444444444444,\"#bd3786\"],[0.5555555555555556,\"#d8576b\"],[0.6666666666666666,\"#ed7953\"],[0.7777777777777778,\"#fb9f3a\"],[0.8888888888888888,\"#fdca26\"],[1.0,\"#f0f921\"]]}],\"contourcarpet\":[{\"type\":\"contourcarpet\",\"colorbar\":{\"outlinewidth\":0,\"ticks\":\"\"}}],\"contour\":[{\"type\":\"contour\",\"colorbar\":{\"outlinewidth\":0,\"ticks\":\"\"},\"colorscale\":[[0.0,\"#0d0887\"],[0.1111111111111111,\"#46039f\"],[0.2222222222222222,\"#7201a8\"],[0.3333333333333333,\"#9c179e\"],[0.4444444444444444,\"#bd3786\"],[0.5555555555555556,\"#d8576b\"],[0.6666666666666666,\"#ed7953\"],[0.7777777777777778,\"#fb9f3a\"],[0.8888888888888888,\"#fdca26\"],[1.0,\"#f0f921\"]]}],\"surface\":[{\"type\":\"surface\",\"colorbar\":{\"outlinewidth\":0,\"ticks\":\"\"},\"colorscale\":[[0.0,\"#0d0887\"],[0.1111111111111111,\"#46039f\"],[0.2222222222222222,\"#7201a8\"],[0.3333333333333333,\"#9c179e\"],[0.4444444444444444,\"#bd3786\"],[0.5555555555555556,\"#d8576b\"],[0.6666666666666666,\"#ed7953\"],[0.7777777777777778,\"#fb9f3a\"],[0.8888888888888888,\"#fdca26\"],[1.0,\"#f0f921\"]]}],\"mesh3d\":[{\"type\":\"mesh3d\",\"colorbar\":{\"outlinewidth\":0,\"ticks\":\"\"}}],\"scatter\":[{\"fillpattern\":{\"fillmode\":\"overlay\",\"size\":10,\"solidity\":0.2},\"type\":\"scatter\"}],\"parcoords\":[{\"type\":\"parcoords\",\"line\":{\"colorbar\":{\"outlinewidth\":0,\"ticks\":\"\"}}}],\"scatterpolargl\":[{\"type\":\"scatterpolargl\",\"marker\":{\"colorbar\":{\"outlinewidth\":0,\"ticks\":\"\"}}}],\"bar\":[{\"error_x\":{\"color\":\"#2a3f5f\"},\"error_y\":{\"color\":\"#2a3f5f\"},\"marker\":{\"line\":{\"color\":\"#E5ECF6\",\"width\":0.5},\"pattern\":{\"fillmode\":\"overlay\",\"size\":10,\"solidity\":0.2}},\"type\":\"bar\"}],\"scattergeo\":[{\"type\":\"scattergeo\",\"marker\":{\"colorbar\":{\"outlinewidth\":0,\"ticks\":\"\"}}}],\"scatterpolar\":[{\"type\":\"scatterpolar\",\"marker\":{\"colorbar\":{\"outlinewidth\":0,\"ticks\":\"\"}}}],\"histogram\":[{\"marker\":{\"pattern\":{\"fillmode\":\"overlay\",\"size\":10,\"solidity\":0.2}},\"type\":\"histogram\"}],\"scattergl\":[{\"type\":\"scattergl\",\"marker\":{\"colorbar\":{\"outlinewidth\":0,\"ticks\":\"\"}}}],\"scatter3d\":[{\"type\":\"scatter3d\",\"line\":{\"colorbar\":{\"outlinewidth\":0,\"ticks\":\"\"}},\"marker\":{\"colorbar\":{\"outlinewidth\":0,\"ticks\":\"\"}}}],\"scattermapbox\":[{\"type\":\"scattermapbox\",\"marker\":{\"colorbar\":{\"outlinewidth\":0,\"ticks\":\"\"}}}],\"scatterternary\":[{\"type\":\"scatterternary\",\"marker\":{\"colorbar\":{\"outlinewidth\":0,\"ticks\":\"\"}}}],\"scattercarpet\":[{\"type\":\"scattercarpet\",\"marker\":{\"colorbar\":{\"outlinewidth\":0,\"ticks\":\"\"}}}],\"carpet\":[{\"aaxis\":{\"endlinecolor\":\"#2a3f5f\",\"gridcolor\":\"white\",\"linecolor\":\"white\",\"minorgridcolor\":\"white\",\"startlinecolor\":\"#2a3f5f\"},\"baxis\":{\"endlinecolor\":\"#2a3f5f\",\"gridcolor\":\"white\",\"linecolor\":\"white\",\"minorgridcolor\":\"white\",\"startlinecolor\":\"#2a3f5f\"},\"type\":\"carpet\"}],\"table\":[{\"cells\":{\"fill\":{\"color\":\"#EBF0F8\"},\"line\":{\"color\":\"white\"}},\"header\":{\"fill\":{\"color\":\"#C8D4E3\"},\"line\":{\"color\":\"white\"}},\"type\":\"table\"}],\"barpolar\":[{\"marker\":{\"line\":{\"color\":\"#E5ECF6\",\"width\":0.5},\"pattern\":{\"fillmode\":\"overlay\",\"size\":10,\"solidity\":0.2}},\"type\":\"barpolar\"}],\"pie\":[{\"automargin\":true,\"type\":\"pie\"}]},\"layout\":{\"autotypenumbers\":\"strict\",\"colorway\":[\"#636efa\",\"#EF553B\",\"#00cc96\",\"#ab63fa\",\"#FFA15A\",\"#19d3f3\",\"#FF6692\",\"#B6E880\",\"#FF97FF\",\"#FECB52\"],\"font\":{\"color\":\"#2a3f5f\"},\"hovermode\":\"closest\",\"hoverlabel\":{\"align\":\"left\"},\"paper_bgcolor\":\"white\",\"plot_bgcolor\":\"#E5ECF6\",\"polar\":{\"bgcolor\":\"#E5ECF6\",\"angularaxis\":{\"gridcolor\":\"white\",\"linecolor\":\"white\",\"ticks\":\"\"},\"radialaxis\":{\"gridcolor\":\"white\",\"linecolor\":\"white\",\"ticks\":\"\"}},\"ternary\":{\"bgcolor\":\"#E5ECF6\",\"aaxis\":{\"gridcolor\":\"white\",\"linecolor\":\"white\",\"ticks\":\"\"},\"baxis\":{\"gridcolor\":\"white\",\"linecolor\":\"white\",\"ticks\":\"\"},\"caxis\":{\"gridcolor\":\"white\",\"linecolor\":\"white\",\"ticks\":\"\"}},\"coloraxis\":{\"colorbar\":{\"outlinewidth\":0,\"ticks\":\"\"}},\"colorscale\":{\"sequential\":[[0.0,\"#0d0887\"],[0.1111111111111111,\"#46039f\"],[0.2222222222222222,\"#7201a8\"],[0.3333333333333333,\"#9c179e\"],[0.4444444444444444,\"#bd3786\"],[0.5555555555555556,\"#d8576b\"],[0.6666666666666666,\"#ed7953\"],[0.7777777777777778,\"#fb9f3a\"],[0.8888888888888888,\"#fdca26\"],[1.0,\"#f0f921\"]],\"sequentialminus\":[[0.0,\"#0d0887\"],[0.1111111111111111,\"#46039f\"],[0.2222222222222222,\"#7201a8\"],[0.3333333333333333,\"#9c179e\"],[0.4444444444444444,\"#bd3786\"],[0.5555555555555556,\"#d8576b\"],[0.6666666666666666,\"#ed7953\"],[0.7777777777777778,\"#fb9f3a\"],[0.8888888888888888,\"#fdca26\"],[1.0,\"#f0f921\"]],\"diverging\":[[0,\"#8e0152\"],[0.1,\"#c51b7d\"],[0.2,\"#de77ae\"],[0.3,\"#f1b6da\"],[0.4,\"#fde0ef\"],[0.5,\"#f7f7f7\"],[0.6,\"#e6f5d0\"],[0.7,\"#b8e186\"],[0.8,\"#7fbc41\"],[0.9,\"#4d9221\"],[1,\"#276419\"]]},\"xaxis\":{\"gridcolor\":\"white\",\"linecolor\":\"white\",\"ticks\":\"\",\"title\":{\"standoff\":15},\"zerolinecolor\":\"white\",\"automargin\":true,\"zerolinewidth\":2},\"yaxis\":{\"gridcolor\":\"white\",\"linecolor\":\"white\",\"ticks\":\"\",\"title\":{\"standoff\":15},\"zerolinecolor\":\"white\",\"automargin\":true,\"zerolinewidth\":2},\"scene\":{\"xaxis\":{\"backgroundcolor\":\"#E5ECF6\",\"gridcolor\":\"white\",\"linecolor\":\"white\",\"showbackground\":true,\"ticks\":\"\",\"zerolinecolor\":\"white\",\"gridwidth\":2},\"yaxis\":{\"backgroundcolor\":\"#E5ECF6\",\"gridcolor\":\"white\",\"linecolor\":\"white\",\"showbackground\":true,\"ticks\":\"\",\"zerolinecolor\":\"white\",\"gridwidth\":2},\"zaxis\":{\"backgroundcolor\":\"#E5ECF6\",\"gridcolor\":\"white\",\"linecolor\":\"white\",\"showbackground\":true,\"ticks\":\"\",\"zerolinecolor\":\"white\",\"gridwidth\":2}},\"shapedefaults\":{\"line\":{\"color\":\"#2a3f5f\"}},\"annotationdefaults\":{\"arrowcolor\":\"#2a3f5f\",\"arrowhead\":0,\"arrowwidth\":1},\"geo\":{\"bgcolor\":\"white\",\"landcolor\":\"#E5ECF6\",\"subunitcolor\":\"white\",\"showland\":true,\"showlakes\":true,\"lakecolor\":\"white\"},\"title\":{\"x\":0.05},\"mapbox\":{\"style\":\"light\"}}},\"legend\":{\"orientation\":\"h\",\"x\":0.5,\"xanchor\":\"center\"},\"xaxis\":{\"gridcolor\":\"lightgrey\",\"title\":{\"text\":\"Timestep\"}},\"yaxis\":{\"gridcolor\":\"lightgrey\",\"title\":{\"text\":\"Stock price\"}},\"title\":{\"text\":\"XOM LSTM data\",\"x\":0.5},\"margin\":{\"l\":0,\"r\":0,\"t\":30,\"b\":0},\"plot_bgcolor\":\"#FFFFFF\"},                        {\"responsive\": true}                    ).then(function(){\n",
              "                            \n",
              "var gd = document.getElementById('fca9fb27-9cb6-47f5-8f66-4445f3e1cca7');\n",
              "var x = new MutationObserver(function (mutations, observer) {{\n",
              "        var display = window.getComputedStyle(gd).display;\n",
              "        if (!display || display === 'none') {{\n",
              "            console.log([gd, 'removed!']);\n",
              "            Plotly.purge(gd);\n",
              "            observer.disconnect();\n",
              "        }}\n",
              "}});\n",
              "\n",
              "// Listen for the removal of the full notebook cells\n",
              "var notebookContainer = gd.closest('#notebook-container');\n",
              "if (notebookContainer) {{\n",
              "    x.observe(notebookContainer, {childList: true});\n",
              "}}\n",
              "\n",
              "// Listen for the clearing of the current output cell\n",
              "var outputEl = gd.closest('.output');\n",
              "if (outputEl) {{\n",
              "    x.observe(outputEl, {childList: true});\n",
              "}}\n",
              "\n",
              "                        })                };                            </script>        </div>\n",
              "</body>\n",
              "</html>"
            ]
          },
          "metadata": {}
        }
      ]
    }
  ]
}