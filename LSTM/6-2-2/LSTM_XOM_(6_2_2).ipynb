{
  "nbformat": 4,
  "nbformat_minor": 0,
  "metadata": {
    "colab": {
      "provenance": []
    },
    "kernelspec": {
      "name": "python3",
      "display_name": "Python 3"
    },
    "language_info": {
      "name": "python"
    }
  },
  "cells": [
    {
      "cell_type": "markdown",
      "source": [
        "**DATA PREPARATION**"
      ],
      "metadata": {
        "id": "4w7KzhlSASHN"
      }
    },
    {
      "cell_type": "markdown",
      "source": [
        "\n",
        "\n",
        "*   Import Packages\n",
        "\n"
      ],
      "metadata": {
        "id": "UzfCedliy6kB"
      }
    },
    {
      "cell_type": "code",
      "execution_count": 1,
      "metadata": {
        "id": "DJvq4_oIyN4X"
      },
      "outputs": [],
      "source": [
        "import numpy as np\n",
        "import pandas as pd\n",
        "from sklearn.preprocessing import MinMaxScaler\n",
        "import matplotlib.pyplot as plt\n",
        "import math"
      ]
    },
    {
      "cell_type": "markdown",
      "source": [
        "\n",
        "\n",
        "*   Read data from a CSV file\n",
        "\n"
      ],
      "metadata": {
        "id": "2MOt0XOczD8J"
      }
    },
    {
      "cell_type": "code",
      "source": [
        "data = pd.read_csv('/content/drive/MyDrive/Colab Notebooks/XOM.csv')"
      ],
      "metadata": {
        "id": "ONvCXaTJzJtn"
      },
      "execution_count": 2,
      "outputs": []
    },
    {
      "cell_type": "code",
      "source": [
        "data.head()"
      ],
      "metadata": {
        "colab": {
          "base_uri": "https://localhost:8080/",
          "height": 206
        },
        "id": "Zr8u2xNp1CIz",
        "outputId": "38b407a1-5178-4a6f-8e3c-d45b32a386cf"
      },
      "execution_count": 3,
      "outputs": [
        {
          "output_type": "execute_result",
          "data": {
            "text/plain": [
              "         Date       Open       High        Low      Close  Adj Close    Volume\n",
              "0  2018-01-02  83.820000  85.199997  83.660004  85.029999  64.879845  11469300\n",
              "1  2018-01-03  85.160004  86.970001  84.820000  86.699997  66.154083  13957700\n",
              "2  2018-01-04  86.790001  87.220001  86.430000  86.820000  66.245667  10863000\n",
              "3  2018-01-05  86.750000  86.879997  85.709999  86.750000  66.192230  11047600\n",
              "4  2018-01-08  86.699997  87.150002  86.599998  87.139999  66.489830  10927100"
            ],
            "text/html": [
              "\n",
              "  <div id=\"df-8f8eecc1-e58f-4e22-bc6c-c593c78fb680\">\n",
              "    <div class=\"colab-df-container\">\n",
              "      <div>\n",
              "<style scoped>\n",
              "    .dataframe tbody tr th:only-of-type {\n",
              "        vertical-align: middle;\n",
              "    }\n",
              "\n",
              "    .dataframe tbody tr th {\n",
              "        vertical-align: top;\n",
              "    }\n",
              "\n",
              "    .dataframe thead th {\n",
              "        text-align: right;\n",
              "    }\n",
              "</style>\n",
              "<table border=\"1\" class=\"dataframe\">\n",
              "  <thead>\n",
              "    <tr style=\"text-align: right;\">\n",
              "      <th></th>\n",
              "      <th>Date</th>\n",
              "      <th>Open</th>\n",
              "      <th>High</th>\n",
              "      <th>Low</th>\n",
              "      <th>Close</th>\n",
              "      <th>Adj Close</th>\n",
              "      <th>Volume</th>\n",
              "    </tr>\n",
              "  </thead>\n",
              "  <tbody>\n",
              "    <tr>\n",
              "      <th>0</th>\n",
              "      <td>2018-01-02</td>\n",
              "      <td>83.820000</td>\n",
              "      <td>85.199997</td>\n",
              "      <td>83.660004</td>\n",
              "      <td>85.029999</td>\n",
              "      <td>64.879845</td>\n",
              "      <td>11469300</td>\n",
              "    </tr>\n",
              "    <tr>\n",
              "      <th>1</th>\n",
              "      <td>2018-01-03</td>\n",
              "      <td>85.160004</td>\n",
              "      <td>86.970001</td>\n",
              "      <td>84.820000</td>\n",
              "      <td>86.699997</td>\n",
              "      <td>66.154083</td>\n",
              "      <td>13957700</td>\n",
              "    </tr>\n",
              "    <tr>\n",
              "      <th>2</th>\n",
              "      <td>2018-01-04</td>\n",
              "      <td>86.790001</td>\n",
              "      <td>87.220001</td>\n",
              "      <td>86.430000</td>\n",
              "      <td>86.820000</td>\n",
              "      <td>66.245667</td>\n",
              "      <td>10863000</td>\n",
              "    </tr>\n",
              "    <tr>\n",
              "      <th>3</th>\n",
              "      <td>2018-01-05</td>\n",
              "      <td>86.750000</td>\n",
              "      <td>86.879997</td>\n",
              "      <td>85.709999</td>\n",
              "      <td>86.750000</td>\n",
              "      <td>66.192230</td>\n",
              "      <td>11047600</td>\n",
              "    </tr>\n",
              "    <tr>\n",
              "      <th>4</th>\n",
              "      <td>2018-01-08</td>\n",
              "      <td>86.699997</td>\n",
              "      <td>87.150002</td>\n",
              "      <td>86.599998</td>\n",
              "      <td>87.139999</td>\n",
              "      <td>66.489830</td>\n",
              "      <td>10927100</td>\n",
              "    </tr>\n",
              "  </tbody>\n",
              "</table>\n",
              "</div>\n",
              "      <button class=\"colab-df-convert\" onclick=\"convertToInteractive('df-8f8eecc1-e58f-4e22-bc6c-c593c78fb680')\"\n",
              "              title=\"Convert this dataframe to an interactive table.\"\n",
              "              style=\"display:none;\">\n",
              "        \n",
              "  <svg xmlns=\"http://www.w3.org/2000/svg\" height=\"24px\"viewBox=\"0 0 24 24\"\n",
              "       width=\"24px\">\n",
              "    <path d=\"M0 0h24v24H0V0z\" fill=\"none\"/>\n",
              "    <path d=\"M18.56 5.44l.94 2.06.94-2.06 2.06-.94-2.06-.94-.94-2.06-.94 2.06-2.06.94zm-11 1L8.5 8.5l.94-2.06 2.06-.94-2.06-.94L8.5 2.5l-.94 2.06-2.06.94zm10 10l.94 2.06.94-2.06 2.06-.94-2.06-.94-.94-2.06-.94 2.06-2.06.94z\"/><path d=\"M17.41 7.96l-1.37-1.37c-.4-.4-.92-.59-1.43-.59-.52 0-1.04.2-1.43.59L10.3 9.45l-7.72 7.72c-.78.78-.78 2.05 0 2.83L4 21.41c.39.39.9.59 1.41.59.51 0 1.02-.2 1.41-.59l7.78-7.78 2.81-2.81c.8-.78.8-2.07 0-2.86zM5.41 20L4 18.59l7.72-7.72 1.47 1.35L5.41 20z\"/>\n",
              "  </svg>\n",
              "      </button>\n",
              "      \n",
              "  <style>\n",
              "    .colab-df-container {\n",
              "      display:flex;\n",
              "      flex-wrap:wrap;\n",
              "      gap: 12px;\n",
              "    }\n",
              "\n",
              "    .colab-df-convert {\n",
              "      background-color: #E8F0FE;\n",
              "      border: none;\n",
              "      border-radius: 50%;\n",
              "      cursor: pointer;\n",
              "      display: none;\n",
              "      fill: #1967D2;\n",
              "      height: 32px;\n",
              "      padding: 0 0 0 0;\n",
              "      width: 32px;\n",
              "    }\n",
              "\n",
              "    .colab-df-convert:hover {\n",
              "      background-color: #E2EBFA;\n",
              "      box-shadow: 0px 1px 2px rgba(60, 64, 67, 0.3), 0px 1px 3px 1px rgba(60, 64, 67, 0.15);\n",
              "      fill: #174EA6;\n",
              "    }\n",
              "\n",
              "    [theme=dark] .colab-df-convert {\n",
              "      background-color: #3B4455;\n",
              "      fill: #D2E3FC;\n",
              "    }\n",
              "\n",
              "    [theme=dark] .colab-df-convert:hover {\n",
              "      background-color: #434B5C;\n",
              "      box-shadow: 0px 1px 3px 1px rgba(0, 0, 0, 0.15);\n",
              "      filter: drop-shadow(0px 1px 2px rgba(0, 0, 0, 0.3));\n",
              "      fill: #FFFFFF;\n",
              "    }\n",
              "  </style>\n",
              "\n",
              "      <script>\n",
              "        const buttonEl =\n",
              "          document.querySelector('#df-8f8eecc1-e58f-4e22-bc6c-c593c78fb680 button.colab-df-convert');\n",
              "        buttonEl.style.display =\n",
              "          google.colab.kernel.accessAllowed ? 'block' : 'none';\n",
              "\n",
              "        async function convertToInteractive(key) {\n",
              "          const element = document.querySelector('#df-8f8eecc1-e58f-4e22-bc6c-c593c78fb680');\n",
              "          const dataTable =\n",
              "            await google.colab.kernel.invokeFunction('convertToInteractive',\n",
              "                                                     [key], {});\n",
              "          if (!dataTable) return;\n",
              "\n",
              "          const docLinkHtml = 'Like what you see? Visit the ' +\n",
              "            '<a target=\"_blank\" href=https://colab.research.google.com/notebooks/data_table.ipynb>data table notebook</a>'\n",
              "            + ' to learn more about interactive tables.';\n",
              "          element.innerHTML = '';\n",
              "          dataTable['output_type'] = 'display_data';\n",
              "          await google.colab.output.renderOutput(dataTable, element);\n",
              "          const docLink = document.createElement('div');\n",
              "          docLink.innerHTML = docLinkHtml;\n",
              "          element.appendChild(docLink);\n",
              "        }\n",
              "      </script>\n",
              "    </div>\n",
              "  </div>\n",
              "  "
            ]
          },
          "metadata": {},
          "execution_count": 3
        }
      ]
    },
    {
      "cell_type": "markdown",
      "source": [
        "\n",
        "\n",
        "*   Visualize the stock price history\n"
      ],
      "metadata": {
        "id": "uHHB9NrG_v4q"
      }
    },
    {
      "cell_type": "code",
      "source": [
        "data['Date'] = pd.to_datetime(data['Date'])\n",
        "data.set_index('Date', inplace=True)\n",
        "\n",
        "plt.figure(figsize=(15, 8))\n",
        "plt.title(' XOM Stock Prices History')\n",
        "plt.plot(data['Close'])\n",
        "plt.xlabel('Date')\n",
        "plt.ylabel('Prices ($)')"
      ],
      "metadata": {
        "colab": {
          "base_uri": "https://localhost:8080/",
          "height": 701
        },
        "id": "-H8E_vWd_0fK",
        "outputId": "3312cb51-5a38-4679-b42c-e652ee5b58fb"
      },
      "execution_count": 4,
      "outputs": [
        {
          "output_type": "execute_result",
          "data": {
            "text/plain": [
              "Text(0, 0.5, 'Prices ($)')"
            ]
          },
          "metadata": {},
          "execution_count": 4
        },
        {
          "output_type": "display_data",
          "data": {
            "text/plain": [
              "<Figure size 1500x800 with 1 Axes>"
            ],
            "image/png": "[encoded data removed]"
          },
          "metadata": {}
        }
      ]
    },
    {
      "cell_type": "markdown",
      "source": [
        "**DATA PREPROCESSING**"
      ],
      "metadata": {
        "id": "qebVzTumyx6O"
      }
    },
    {
      "cell_type": "markdown",
      "source": [
        "\n",
        "\n",
        "*   Normalize data using the MinMaxScaler method\n",
        "\n",
        "\n"
      ],
      "metadata": {
        "id": "slDhNXid1hGd"
      }
    },
    {
      "cell_type": "code",
      "source": [
        "close_prices = data['Close']\n",
        "values = close_prices.values\n",
        "scaler = MinMaxScaler(feature_range=(0,1))\n",
        "scaled_data = scaler.fit_transform(values.reshape(-1,1))"
      ],
      "metadata": {
        "id": "FOgsefivFzDZ"
      },
      "execution_count": 5,
      "outputs": []
    },
    {
      "cell_type": "markdown",
      "source": [
        "\n",
        "\n",
        "*   Split data into train, test, and validation sets with a ratio of 6:2:2\n",
        "\n",
        "\n"
      ],
      "metadata": {
        "id": "8_03S3p_1RxZ"
      }
    },
    {
      "cell_type": "code",
      "source": [
        "train_size = int(len(scaled_data) * 0.6)\n",
        "test_size = int(len(scaled_data) * 0.2)\n",
        "val_size = len(scaled_data) - train_size - test_size\n",
        "\n",
        "time_step = 60\n",
        "train_data = scaled_data[:train_size, :]\n",
        "test_data = scaled_data[train_size-time_step:train_size+test_size, :]\n",
        "val_data = scaled_data[train_size+test_size-time_step:, :]"
      ],
      "metadata": {
        "id": "o862GL5Z1ZBw"
      },
      "execution_count": 6,
      "outputs": []
    },
    {
      "cell_type": "code",
      "source": [
        "print(\"Dataset size: \", len(values), \"\\n\")\n",
        "\n",
        "print(\"Train size: \", train_size)\n",
        "print(\"Test size: \", test_size)\n",
        "print(\"Valate size: \", val_size)"
      ],
      "metadata": {
        "colab": {
          "base_uri": "https://localhost:8080/"
        },
        "id": "VCW1wDSO4Fcp",
        "outputId": "9b4675fd-0edc-4fa5-e089-456110de351a"
      },
      "execution_count": 7,
      "outputs": [
        {
          "output_type": "stream",
          "name": "stdout",
          "text": [
            "Dataset size:  1337 \n",
            "\n",
            "Train size:  802\n",
            "Test size:  267\n",
            "Valate size:  268\n"
          ]
        }
      ]
    },
    {
      "cell_type": "markdown",
      "source": [
        "\n",
        "\n",
        "*   Define the Create Dataset function\n"
      ],
      "metadata": {
        "id": "0spI-OJbFcmp"
      }
    },
    {
      "cell_type": "code",
      "source": [
        "def create_dataset(dataset, time_step):\n",
        "\tdataX, dataY = [], []\n",
        "\tfor i in range(len(dataset)-time_step):\n",
        "\t\ta = dataset[i:(i+time_step), 0]   ###i=0, X=0,1,2,3-----59   Y=60\n",
        "\t\tdataX.append(a)\n",
        "\t\tdataY.append(dataset[i + time_step, 0])\n",
        "\treturn np.array(dataX), np.array(dataY)"
      ],
      "metadata": {
        "id": "VqphtBgzFjH8"
      },
      "execution_count": 8,
      "outputs": []
    },
    {
      "cell_type": "markdown",
      "source": [
        "\n",
        "\n",
        "*   Create train, test, and validation datasets\n",
        "\n"
      ],
      "metadata": {
        "id": "eb7YO7jaEV-r"
      }
    },
    {
      "cell_type": "code",
      "source": [
        "X_train, y_train = create_dataset(train_data, time_step)\n",
        "X_val, y_val = create_dataset(val_data, time_step)\n",
        "X_test, y_test = create_dataset(test_data, time_step)"
      ],
      "metadata": {
        "id": "yi7pOx3o6Qs7"
      },
      "execution_count": 9,
      "outputs": []
    },
    {
      "cell_type": "markdown",
      "source": [
        "\n",
        "\n",
        "*   Reshape train, test, and validation data (required for LSTM)\n",
        "\n"
      ],
      "metadata": {
        "id": "PMSCGBZYE3fK"
      }
    },
    {
      "cell_type": "code",
      "source": [
        "X_train = np.reshape(X_train, (X_train.shape[0], X_train.shape[1], 1))\n",
        "X_val = np.reshape(X_val, (X_val.shape[0], X_val.shape[1], 1))\n",
        "X_test = np.reshape(X_test, (X_test.shape[0], X_test.shape[1], 1))"
      ],
      "metadata": {
        "id": "AY3lYGe5E45C"
      },
      "execution_count": 10,
      "outputs": []
    },
    {
      "cell_type": "markdown",
      "source": [
        "**BUILD LSTM MODEL**"
      ],
      "metadata": {
        "id": "j8MaaR2k61-u"
      }
    },
    {
      "cell_type": "markdown",
      "source": [
        "\n",
        "\n",
        "*   Import Packages\n"
      ],
      "metadata": {
        "id": "E6wE5u6Y636f"
      }
    },
    {
      "cell_type": "code",
      "source": [
        "from keras.models import Sequential\n",
        "from keras.layers import LSTM\n",
        "from keras.layers import Dropout\n",
        "from keras.layers import Dense"
      ],
      "metadata": {
        "id": "M0AYf7Wy67zO"
      },
      "execution_count": 11,
      "outputs": []
    },
    {
      "cell_type": "code",
      "source": [
        "model = Sequential()\n",
        "model.add(LSTM(100, return_sequences=True, input_shape=(X_train.shape[1], 1)))\n",
        "model.add(LSTM(100, return_sequences=False))\n",
        "model.add(Dense(50))\n",
        "model.add(Dense(1))\n",
        "model.summary()"
      ],
      "metadata": {
        "colab": {
          "base_uri": "https://localhost:8080/"
        },
        "id": "2-mlUXpz7QNy",
        "outputId": "ce3aa05c-fbcf-4d29-b224-75caceb1a7e0"
      },
      "execution_count": 12,
      "outputs": [
        {
          "output_type": "stream",
          "name": "stdout",
          "text": [
            "Model: \"sequential\"\n",
            "_________________________________________________________________\n",
            " Layer (type)                Output Shape              Param #   \n",
            "=================================================================\n",
            " lstm (LSTM)                 (None, 60, 100)           40800     \n",
            "                                                                 \n",
            " lstm_1 (LSTM)               (None, 100)               80400     \n",
            "                                                                 \n",
            " dense (Dense)               (None, 50)                5050      \n",
            "                                                                 \n",
            " dense_1 (Dense)             (None, 1)                 51        \n",
            "                                                                 \n",
            "=================================================================\n",
            "Total params: 126,301\n",
            "Trainable params: 126,301\n",
            "Non-trainable params: 0\n",
            "_________________________________________________________________\n"
          ]
        }
      ]
    },
    {
      "cell_type": "markdown",
      "source": [
        "*This LSTM model has two LSTM layers with 100 units each, connected to two Dense layers with 50 and 1 unit, respectively.*"
      ],
      "metadata": {
        "id": "KgnQRfzJINHi"
      }
    },
    {
      "cell_type": "markdown",
      "source": [
        "**TRAIN THE MODEL**"
      ],
      "metadata": {
        "id": "Io5GqBkA-bP3"
      }
    },
    {
      "cell_type": "markdown",
      "source": [
        "\n",
        "\n",
        "*   Fit the model with the train data\n",
        "\n"
      ],
      "metadata": {
        "id": "fsNQsjVeJBFw"
      }
    },
    {
      "cell_type": "code",
      "source": [
        "model.compile(optimizer='adam', loss='mean_squared_error')\n",
        "model.fit(X_train, y_train, batch_size=32, epochs=50)"
      ],
      "metadata": {
        "colab": {
          "base_uri": "https://localhost:8080/"
        },
        "id": "NdD1TVYz-l5I",
        "outputId": "ea1af722-90b0-4492-d90d-0ef3eea6a034"
      },
      "execution_count": 13,
      "outputs": [
        {
          "output_type": "stream",
          "name": "stdout",
          "text": [
            "Epoch 1/50\n",
            "24/24 [==============================] - 16s 225ms/step - loss: 0.0213\n",
            "Epoch 2/50\n",
            "24/24 [==============================] - 5s 195ms/step - loss: 0.0021\n",
            "Epoch 3/50\n",
            "24/24 [==============================] - 5s 221ms/step - loss: 0.0011\n",
            "Epoch 4/50\n",
            "24/24 [==============================] - 4s 141ms/step - loss: 9.1240e-04\n",
            "Epoch 5/50\n",
            "24/24 [==============================] - 2s 92ms/step - loss: 8.7293e-04\n",
            "Epoch 6/50\n",
            "24/24 [==============================] - 2s 89ms/step - loss: 8.4375e-04\n",
            "Epoch 7/50\n",
            "24/24 [==============================] - 2s 91ms/step - loss: 8.2422e-04\n",
            "Epoch 8/50\n",
            "24/24 [==============================] - 2s 96ms/step - loss: 7.4147e-04\n",
            "Epoch 9/50\n",
            "24/24 [==============================] - 4s 152ms/step - loss: 7.7102e-04\n",
            "Epoch 10/50\n",
            "24/24 [==============================] - 2s 94ms/step - loss: 7.0265e-04\n",
            "Epoch 11/50\n",
            "24/24 [==============================] - 2s 92ms/step - loss: 6.4804e-04\n",
            "Epoch 12/50\n",
            "24/24 [==============================] - 2s 91ms/step - loss: 6.7800e-04\n",
            "Epoch 13/50\n",
            "24/24 [==============================] - 2s 90ms/step - loss: 7.0333e-04\n",
            "Epoch 14/50\n",
            "24/24 [==============================] - 3s 114ms/step - loss: 6.1029e-04\n",
            "Epoch 15/50\n",
            "24/24 [==============================] - 3s 141ms/step - loss: 6.1529e-04\n",
            "Epoch 16/50\n",
            "24/24 [==============================] - 2s 97ms/step - loss: 6.1627e-04\n",
            "Epoch 17/50\n",
            "24/24 [==============================] - 2s 92ms/step - loss: 6.2451e-04\n",
            "Epoch 18/50\n",
            "24/24 [==============================] - 2s 95ms/step - loss: 6.2889e-04\n",
            "Epoch 19/50\n",
            "24/24 [==============================] - 2s 96ms/step - loss: 5.8060e-04\n",
            "Epoch 20/50\n",
            "24/24 [==============================] - 3s 141ms/step - loss: 5.3782e-04\n",
            "Epoch 21/50\n",
            "24/24 [==============================] - 3s 117ms/step - loss: 5.1543e-04\n",
            "Epoch 22/50\n",
            "24/24 [==============================] - 2s 90ms/step - loss: 5.1953e-04\n",
            "Epoch 23/50\n",
            "24/24 [==============================] - 2s 91ms/step - loss: 5.6722e-04\n",
            "Epoch 24/50\n",
            "24/24 [==============================] - 2s 90ms/step - loss: 5.3991e-04\n",
            "Epoch 25/50\n",
            "24/24 [==============================] - 2s 95ms/step - loss: 5.1315e-04\n",
            "Epoch 26/50\n",
            "24/24 [==============================] - 4s 150ms/step - loss: 4.8116e-04\n",
            "Epoch 27/50\n",
            "24/24 [==============================] - 2s 99ms/step - loss: 4.3620e-04\n",
            "Epoch 28/50\n",
            "24/24 [==============================] - 2s 90ms/step - loss: 4.5243e-04\n",
            "Epoch 29/50\n",
            "24/24 [==============================] - 2s 92ms/step - loss: 4.5571e-04\n",
            "Epoch 30/50\n",
            "24/24 [==============================] - 2s 91ms/step - loss: 6.8341e-04\n",
            "Epoch 31/50\n",
            "24/24 [==============================] - 3s 108ms/step - loss: 5.2486e-04\n",
            "Epoch 32/50\n",
            "24/24 [==============================] - 4s 147ms/step - loss: 4.1958e-04\n",
            "Epoch 33/50\n",
            "24/24 [==============================] - 2s 89ms/step - loss: 4.0716e-04\n",
            "Epoch 34/50\n",
            "24/24 [==============================] - 2s 90ms/step - loss: 4.0452e-04\n",
            "Epoch 35/50\n",
            "24/24 [==============================] - 2s 91ms/step - loss: 3.9584e-04\n",
            "Epoch 36/50\n",
            "24/24 [==============================] - 2s 91ms/step - loss: 4.1173e-04\n",
            "Epoch 37/50\n",
            "24/24 [==============================] - 3s 120ms/step - loss: 4.1639e-04\n",
            "Epoch 38/50\n",
            "24/24 [==============================] - 3s 139ms/step - loss: 4.2020e-04\n",
            "Epoch 39/50\n",
            "24/24 [==============================] - 3s 113ms/step - loss: 4.0671e-04\n",
            "Epoch 40/50\n",
            "24/24 [==============================] - 4s 146ms/step - loss: 4.2626e-04\n",
            "Epoch 41/50\n",
            "24/24 [==============================] - 2s 92ms/step - loss: 3.6446e-04\n",
            "Epoch 42/50\n",
            "24/24 [==============================] - 4s 168ms/step - loss: 4.1950e-04\n",
            "Epoch 43/50\n",
            "24/24 [==============================] - 3s 117ms/step - loss: 3.7704e-04\n",
            "Epoch 44/50\n",
            "24/24 [==============================] - 2s 92ms/step - loss: 3.4471e-04\n",
            "Epoch 45/50\n",
            "24/24 [==============================] - 2s 90ms/step - loss: 3.8346e-04\n",
            "Epoch 46/50\n",
            "24/24 [==============================] - 2s 91ms/step - loss: 3.6233e-04\n",
            "Epoch 47/50\n",
            "24/24 [==============================] - 2s 91ms/step - loss: 3.4566e-04\n",
            "Epoch 48/50\n",
            "24/24 [==============================] - 4s 151ms/step - loss: 3.4102e-04\n",
            "Epoch 49/50\n",
            "24/24 [==============================] - 2s 101ms/step - loss: 3.2132e-04\n",
            "Epoch 50/50\n",
            "24/24 [==============================] - 2s 90ms/step - loss: 3.0922e-04\n"
          ]
        },
        {
          "output_type": "execute_result",
          "data": {
            "text/plain": [
              "<keras.callbacks.History at 0x7f00e3701000>"
            ]
          },
          "metadata": {},
          "execution_count": 13
        }
      ]
    },
    {
      "cell_type": "markdown",
      "source": [
        "\n",
        "\n",
        "*   PLotting loss, it shows that loss has decreased significantly and model trained well\n",
        "\n"
      ],
      "metadata": {
        "id": "7V2Kwc9sJXFK"
      }
    },
    {
      "cell_type": "code",
      "source": [
        "loss = model.history.history['loss']\n",
        "plt.plot(loss)"
      ],
      "metadata": {
        "colab": {
          "base_uri": "https://localhost:8080/",
          "height": 447
        },
        "id": "OBTBo-32tfXc",
        "outputId": "eb756869-7e60-4b3a-cf26-1a6cf7e258c4"
      },
      "execution_count": 14,
      "outputs": [
        {
          "output_type": "execute_result",
          "data": {
            "text/plain": [
              "[<matplotlib.lines.Line2D at 0x7f00e28a9c30>]"
            ]
          },
          "metadata": {},
          "execution_count": 14
        },
        {
          "output_type": "display_data",
          "data": {
            "text/plain": [
              "<Figure size 640x480 with 1 Axes>"
            ],
            "image/png": "[encoded data removed]"
          },
          "metadata": {}
        }
      ]
    },
    {
      "cell_type": "markdown",
      "source": [
        "**PREDICTION AND EVALUATION ON TEST DATA**"
      ],
      "metadata": {
        "id": "rJ51q4Ewwafk"
      }
    },
    {
      "cell_type": "markdown",
      "source": [
        "\n",
        "\n",
        "*   Make predictions on test and validation data\n",
        "\n"
      ],
      "metadata": {
        "id": "F7tiWcRktA5G"
      }
    },
    {
      "cell_type": "code",
      "source": [
        "y_pred=model.predict(X_test)\n",
        "y_pred_val=model.predict(X_val)"
      ],
      "metadata": {
        "colab": {
          "base_uri": "https://localhost:8080/"
        },
        "id": "0MoMNpa1FRJW",
        "outputId": "1a9f75dc-acbd-4e9e-8c28-b64f5ac0da66"
      },
      "execution_count": 15,
      "outputs": [
        {
          "output_type": "stream",
          "name": "stdout",
          "text": [
            "9/9 [==============================] - 1s 28ms/step\n",
            "9/9 [==============================] - 0s 30ms/step\n"
          ]
        }
      ]
    },
    {
      "cell_type": "markdown",
      "source": [
        "\n",
        "\n",
        "*   Convert the predictions back to the original values\n",
        "\n"
      ],
      "metadata": {
        "id": "uoKYcePvFTJ9"
      }
    },
    {
      "cell_type": "code",
      "source": [
        "y_pred=scaler.inverse_transform(y_pred)\n",
        "y_test = scaler.inverse_transform(y_test.reshape(-1, 1))\n",
        "\n",
        "y_pred_val=scaler.inverse_transform(y_pred_val)\n",
        "y_val = scaler.inverse_transform(y_val.reshape(-1, 1))"
      ],
      "metadata": {
        "id": "DKfMNwjSFVyT"
      },
      "execution_count": 16,
      "outputs": []
    },
    {
      "cell_type": "markdown",
      "source": [
        "\n",
        "\n",
        "*   Evaluate the algorithm's accuracy using RMSE, MAPE, MDA\n",
        "\n"
      ],
      "metadata": {
        "id": "ppy3h9JWLxCA"
      }
    },
    {
      "cell_type": "code",
      "source": [
        "# MAPE\n",
        "def calculate_mape(y_true, y_pred):\n",
        "    return np.mean(np.abs((y_true - y_pred) / y_true)) * 100\n",
        "\n",
        "# MDA\n",
        "def calculate_mda(y_true, y_pred):\n",
        "    y_true_diff = np.diff(y_true)\n",
        "    y_pred_diff = np.diff(y_pred)\n",
        "    correct_direction = np.sign(y_true_diff) == np.sign(y_pred_diff)\n",
        "    return np.mean(correct_direction) * 100\n",
        "\n",
        "# Using RMSE, MAPE và MDA\n",
        "valid_rmse = np.sqrt(np.mean((y_val- y_pred_val) ** 2))\n",
        "test_rmse = np.sqrt(np.mean((y_test - y_pred) ** 2))\n",
        "\n",
        "valid_mape = calculate_mape(y_val, y_pred_val)\n",
        "test_mape = calculate_mape(y_test, y_pred)\n",
        "\n",
        "valid_mda = calculate_mda(np.squeeze(y_val), np.squeeze(y_pred_val)) # Squeeze y_val and y_pred_val to 1D arrays\n",
        "test_mda = calculate_mda(np.squeeze(y_test), np.squeeze(y_pred)) # Squeeze y_test and y_pred to 1D arrays\n",
        "\n",
        "# Print results\n",
        "print('Validation RMSE:', valid_rmse)\n",
        "print('Testing RMSE:', test_rmse)\n",
        "print('Validation MAPE:', valid_mape)\n",
        "print('Testing MAPE:', test_mape)\n",
        "print('Validation MDA:', valid_mda)\n",
        "print('Testing MDA:', test_mda)"
      ],
      "metadata": {
        "colab": {
          "base_uri": "https://localhost:8080/"
        },
        "id": "Acc1OQf7G7VD",
        "outputId": "6fd39915-4986-47a5-c3b9-2a045dbf3eaa"
      },
      "execution_count": 17,
      "outputs": [
        {
          "output_type": "stream",
          "name": "stdout",
          "text": [
            "Validation RMSE: 2.67630214740723\n",
            "Testing RMSE: 1.685426790220006\n",
            "Validation MAPE: 2.1182423761291593\n",
            "Testing MAPE: 1.9937862039430476\n",
            "Validation MDA: 49.43820224719101\n",
            "Testing MDA: 52.255639097744364\n"
          ]
        }
      ]
    },
    {
      "cell_type": "markdown",
      "source": [
        "**FORECAST FOR THE NEXT 30 DAYS IN THE FUTURE**"
      ],
      "metadata": {
        "id": "1IkXSXAA6Aiy"
      }
    },
    {
      "cell_type": "code",
      "source": [
        "n_days = 30\n",
        "\n",
        "x_input=scaled_data[-time_step:].reshape(1,-1)\n",
        "\n",
        "temp_input=list(x_input)\n",
        "temp_input=temp_input[0].tolist()\n",
        "\n",
        "from numpy import array\n",
        "\n",
        "lst_output=[]\n",
        "i=0\n",
        "while(i<n_days):\n",
        "\n",
        "    if(len(temp_input)>time_step):\n",
        "        x_input=np.array(temp_input[1:])\n",
        "        print(\"{} day input {}\".format(i,x_input))\n",
        "        x_input=x_input.reshape(1,-1)\n",
        "        x_input = x_input.reshape((1, time_step, 1))\n",
        "        yhat = model.predict(x_input, verbose=0)\n",
        "        print(\"{} day output {}\".format(i,yhat))\n",
        "        temp_input.extend(yhat[0].tolist())\n",
        "        temp_input=temp_input[1:]\n",
        "        #print(temp_input)\n",
        "        lst_output.extend(yhat.tolist())\n",
        "        i=i+1\n",
        "    else:\n",
        "        x_input = x_input.reshape((1, time_step,1))\n",
        "        yhat = model.predict(x_input, verbose=0)\n",
        "        print(yhat[0])\n",
        "        temp_input.extend(yhat[0].tolist())\n",
        "        print(len(temp_input))\n",
        "        lst_output.extend(yhat.tolist())\n",
        "        i=i+1"
      ],
      "metadata": {
        "colab": {
          "base_uri": "https://localhost:8080/"
        },
        "id": "YL28ztzhjl5Z",
        "outputId": "9b196daf-4328-492c-9299-eb446b611691"
      },
      "execution_count": 18,
      "outputs": [
        {
          "output_type": "stream",
          "name": "stdout",
          "text": [
            "[0.98064995]\n",
            "61\n",
            "1 day input [0.96397633 0.9494984  0.90857277 0.91735066 0.91518473 0.95155039\n",
            " 0.94015048 0.94505244 1.         0.98438218 0.96865025 0.9646603\n",
            " 0.96078437 0.91005473 0.90880073 0.89238491 0.90389877 0.90401279\n",
            " 0.90173284 0.89443691 0.90560876 0.91142275 0.92749658 0.93889649\n",
            " 0.91381672 0.89523489 0.8855449  0.87015505 0.85601918 0.86057916\n",
            " 0.79993165 0.79320566 0.77963973 0.80939351 0.86171914 0.8337893\n",
            " 0.8203375  0.82170543 0.84758327 0.86263115 0.88360694 0.88964888\n",
            " 0.89158693 0.96534426 0.95269037 0.9751482  0.95303243 0.94721845\n",
            " 0.95645235 0.95508441 0.9612403  0.96443234 0.94904239 0.97457825\n",
            " 0.97036026 0.95975833 0.96397633 0.98894208 0.96979023 0.98064995]\n",
            "1 day output [[0.98417753]]\n",
            "2 day input [0.9494984  0.90857277 0.91735066 0.91518473 0.95155039 0.94015048\n",
            " 0.94505244 1.         0.98438218 0.96865025 0.9646603  0.96078437\n",
            " 0.91005473 0.90880073 0.89238491 0.90389877 0.90401279 0.90173284\n",
            " 0.89443691 0.90560876 0.91142275 0.92749658 0.93889649 0.91381672\n",
            " 0.89523489 0.8855449  0.87015505 0.85601918 0.86057916 0.79993165\n",
            " 0.79320566 0.77963973 0.80939351 0.86171914 0.8337893  0.8203375\n",
            " 0.82170543 0.84758327 0.86263115 0.88360694 0.88964888 0.89158693\n",
            " 0.96534426 0.95269037 0.9751482  0.95303243 0.94721845 0.95645235\n",
            " 0.95508441 0.9612403  0.96443234 0.94904239 0.97457825 0.97036026\n",
            " 0.95975833 0.96397633 0.98894208 0.96979023 0.98064995 0.98417753]\n",
            "2 day output [[0.9880543]]\n",
            "3 day input [0.90857277 0.91735066 0.91518473 0.95155039 0.94015048 0.94505244\n",
            " 1.         0.98438218 0.96865025 0.9646603  0.96078437 0.91005473\n",
            " 0.90880073 0.89238491 0.90389877 0.90401279 0.90173284 0.89443691\n",
            " 0.90560876 0.91142275 0.92749658 0.93889649 0.91381672 0.89523489\n",
            " 0.8855449  0.87015505 0.85601918 0.86057916 0.79993165 0.79320566\n",
            " 0.77963973 0.80939351 0.86171914 0.8337893  0.8203375  0.82170543\n",
            " 0.84758327 0.86263115 0.88360694 0.88964888 0.89158693 0.96534426\n",
            " 0.95269037 0.9751482  0.95303243 0.94721845 0.95645235 0.95508441\n",
            " 0.9612403  0.96443234 0.94904239 0.97457825 0.97036026 0.95975833\n",
            " 0.96397633 0.98894208 0.96979023 0.98064995 0.98417753 0.98805428]\n",
            "3 day output [[0.99215096]]\n",
            "4 day input [0.91735066 0.91518473 0.95155039 0.94015048 0.94505244 1.\n",
            " 0.98438218 0.96865025 0.9646603  0.96078437 0.91005473 0.90880073\n",
            " 0.89238491 0.90389877 0.90401279 0.90173284 0.89443691 0.90560876\n",
            " 0.91142275 0.92749658 0.93889649 0.91381672 0.89523489 0.8855449\n",
            " 0.87015505 0.85601918 0.86057916 0.79993165 0.79320566 0.77963973\n",
            " 0.80939351 0.86171914 0.8337893  0.8203375  0.82170543 0.84758327\n",
            " 0.86263115 0.88360694 0.88964888 0.89158693 0.96534426 0.95269037\n",
            " 0.9751482  0.95303243 0.94721845 0.95645235 0.95508441 0.9612403\n",
            " 0.96443234 0.94904239 0.97457825 0.97036026 0.95975833 0.96397633\n",
            " 0.98894208 0.96979023 0.98064995 0.98417753 0.98805428 0.99215096]\n",
            "4 day output [[0.99640447]]\n",
            "5 day input [0.91518473 0.95155039 0.94015048 0.94505244 1.         0.98438218\n",
            " 0.96865025 0.9646603  0.96078437 0.91005473 0.90880073 0.89238491\n",
            " 0.90389877 0.90401279 0.90173284 0.89443691 0.90560876 0.91142275\n",
            " 0.92749658 0.93889649 0.91381672 0.89523489 0.8855449  0.87015505\n",
            " 0.85601918 0.86057916 0.79993165 0.79320566 0.77963973 0.80939351\n",
            " 0.86171914 0.8337893  0.8203375  0.82170543 0.84758327 0.86263115\n",
            " 0.88360694 0.88964888 0.89158693 0.96534426 0.95269037 0.9751482\n",
            " 0.95303243 0.94721845 0.95645235 0.95508441 0.9612403  0.96443234\n",
            " 0.94904239 0.97457825 0.97036026 0.95975833 0.96397633 0.98894208\n",
            " 0.96979023 0.98064995 0.98417753 0.98805428 0.99215096 0.99640447]\n",
            "5 day output [[1.0007739]]\n",
            "6 day input [0.95155039 0.94015048 0.94505244 1.         0.98438218 0.96865025\n",
            " 0.9646603  0.96078437 0.91005473 0.90880073 0.89238491 0.90389877\n",
            " 0.90401279 0.90173284 0.89443691 0.90560876 0.91142275 0.92749658\n",
            " 0.93889649 0.91381672 0.89523489 0.8855449  0.87015505 0.85601918\n",
            " 0.86057916 0.79993165 0.79320566 0.77963973 0.80939351 0.86171914\n",
            " 0.8337893  0.8203375  0.82170543 0.84758327 0.86263115 0.88360694\n",
            " 0.88964888 0.89158693 0.96534426 0.95269037 0.9751482  0.95303243\n",
            " 0.94721845 0.95645235 0.95508441 0.9612403  0.96443234 0.94904239\n",
            " 0.97457825 0.97036026 0.95975833 0.96397633 0.98894208 0.96979023\n",
            " 0.98064995 0.98417753 0.98805428 0.99215096 0.99640447 1.00077391]\n",
            "6 day output [[1.0052307]]\n",
            "7 day input [0.94015048 0.94505244 1.         0.98438218 0.96865025 0.9646603\n",
            " 0.96078437 0.91005473 0.90880073 0.89238491 0.90389877 0.90401279\n",
            " 0.90173284 0.89443691 0.90560876 0.91142275 0.92749658 0.93889649\n",
            " 0.91381672 0.89523489 0.8855449  0.87015505 0.85601918 0.86057916\n",
            " 0.79993165 0.79320566 0.77963973 0.80939351 0.86171914 0.8337893\n",
            " 0.8203375  0.82170543 0.84758327 0.86263115 0.88360694 0.88964888\n",
            " 0.89158693 0.96534426 0.95269037 0.9751482  0.95303243 0.94721845\n",
            " 0.95645235 0.95508441 0.9612403  0.96443234 0.94904239 0.97457825\n",
            " 0.97036026 0.95975833 0.96397633 0.98894208 0.96979023 0.98064995\n",
            " 0.98417753 0.98805428 0.99215096 0.99640447 1.00077391 1.00523067]\n",
            "7 day output [[1.009752]]\n",
            "8 day input [0.94505244 1.         0.98438218 0.96865025 0.9646603  0.96078437\n",
            " 0.91005473 0.90880073 0.89238491 0.90389877 0.90401279 0.90173284\n",
            " 0.89443691 0.90560876 0.91142275 0.92749658 0.93889649 0.91381672\n",
            " 0.89523489 0.8855449  0.87015505 0.85601918 0.86057916 0.79993165\n",
            " 0.79320566 0.77963973 0.80939351 0.86171914 0.8337893  0.8203375\n",
            " 0.82170543 0.84758327 0.86263115 0.88360694 0.88964888 0.89158693\n",
            " 0.96534426 0.95269037 0.9751482  0.95303243 0.94721845 0.95645235\n",
            " 0.95508441 0.9612403  0.96443234 0.94904239 0.97457825 0.97036026\n",
            " 0.95975833 0.96397633 0.98894208 0.96979023 0.98064995 0.98417753\n",
            " 0.98805428 0.99215096 0.99640447 1.00077391 1.00523067 1.00975204]\n",
            "8 day output [[1.0143209]]\n",
            "9 day input [1.         0.98438218 0.96865025 0.9646603  0.96078437 0.91005473\n",
            " 0.90880073 0.89238491 0.90389877 0.90401279 0.90173284 0.89443691\n",
            " 0.90560876 0.91142275 0.92749658 0.93889649 0.91381672 0.89523489\n",
            " 0.8855449  0.87015505 0.85601918 0.86057916 0.79993165 0.79320566\n",
            " 0.77963973 0.80939351 0.86171914 0.8337893  0.8203375  0.82170543\n",
            " 0.84758327 0.86263115 0.88360694 0.88964888 0.89158693 0.96534426\n",
            " 0.95269037 0.9751482  0.95303243 0.94721845 0.95645235 0.95508441\n",
            " 0.9612403  0.96443234 0.94904239 0.97457825 0.97036026 0.95975833\n",
            " 0.96397633 0.98894208 0.96979023 0.98064995 0.98417753 0.98805428\n",
            " 0.99215096 0.99640447 1.00077391 1.00523067 1.00975204 1.01432085]\n",
            "9 day output [[1.0189247]]\n",
            "10 day input [0.98438218 0.96865025 0.9646603  0.96078437 0.91005473 0.90880073\n",
            " 0.89238491 0.90389877 0.90401279 0.90173284 0.89443691 0.90560876\n",
            " 0.91142275 0.92749658 0.93889649 0.91381672 0.89523489 0.8855449\n",
            " 0.87015505 0.85601918 0.86057916 0.79993165 0.79320566 0.77963973\n",
            " 0.80939351 0.86171914 0.8337893  0.8203375  0.82170543 0.84758327\n",
            " 0.86263115 0.88360694 0.88964888 0.89158693 0.96534426 0.95269037\n",
            " 0.9751482  0.95303243 0.94721845 0.95645235 0.95508441 0.9612403\n",
            " 0.96443234 0.94904239 0.97457825 0.97036026 0.95975833 0.96397633\n",
            " 0.98894208 0.96979023 0.98064995 0.98417753 0.98805428 0.99215096\n",
            " 0.99640447 1.00077391 1.00523067 1.00975204 1.01432085 1.01892471]\n",
            "10 day output [[1.0235549]]\n",
            "11 day input [0.96865025 0.9646603  0.96078437 0.91005473 0.90880073 0.89238491\n",
            " 0.90389877 0.90401279 0.90173284 0.89443691 0.90560876 0.91142275\n",
            " 0.92749658 0.93889649 0.91381672 0.89523489 0.8855449  0.87015505\n",
            " 0.85601918 0.86057916 0.79993165 0.79320566 0.77963973 0.80939351\n",
            " 0.86171914 0.8337893  0.8203375  0.82170543 0.84758327 0.86263115\n",
            " 0.88360694 0.88964888 0.89158693 0.96534426 0.95269037 0.9751482\n",
            " 0.95303243 0.94721845 0.95645235 0.95508441 0.9612403  0.96443234\n",
            " 0.94904239 0.97457825 0.97036026 0.95975833 0.96397633 0.98894208\n",
            " 0.96979023 0.98064995 0.98417753 0.98805428 0.99215096 0.99640447\n",
            " 1.00077391 1.00523067 1.00975204 1.01432085 1.01892471 1.02355492]\n",
            "11 day output [[1.0282059]]\n",
            "12 day input [0.9646603  0.96078437 0.91005473 0.90880073 0.89238491 0.90389877\n",
            " 0.90401279 0.90173284 0.89443691 0.90560876 0.91142275 0.92749658\n",
            " 0.93889649 0.91381672 0.89523489 0.8855449  0.87015505 0.85601918\n",
            " 0.86057916 0.79993165 0.79320566 0.77963973 0.80939351 0.86171914\n",
            " 0.8337893  0.8203375  0.82170543 0.84758327 0.86263115 0.88360694\n",
            " 0.88964888 0.89158693 0.96534426 0.95269037 0.9751482  0.95303243\n",
            " 0.94721845 0.95645235 0.95508441 0.9612403  0.96443234 0.94904239\n",
            " 0.97457825 0.97036026 0.95975833 0.96397633 0.98894208 0.96979023\n",
            " 0.98064995 0.98417753 0.98805428 0.99215096 0.99640447 1.00077391\n",
            " 1.00523067 1.00975204 1.01432085 1.01892471 1.02355492 1.02820587]\n",
            "12 day output [[1.0328752]]\n",
            "13 day input [0.96078437 0.91005473 0.90880073 0.89238491 0.90389877 0.90401279\n",
            " 0.90173284 0.89443691 0.90560876 0.91142275 0.92749658 0.93889649\n",
            " 0.91381672 0.89523489 0.8855449  0.87015505 0.85601918 0.86057916\n",
            " 0.79993165 0.79320566 0.77963973 0.80939351 0.86171914 0.8337893\n",
            " 0.8203375  0.82170543 0.84758327 0.86263115 0.88360694 0.88964888\n",
            " 0.89158693 0.96534426 0.95269037 0.9751482  0.95303243 0.94721845\n",
            " 0.95645235 0.95508441 0.9612403  0.96443234 0.94904239 0.97457825\n",
            " 0.97036026 0.95975833 0.96397633 0.98894208 0.96979023 0.98064995\n",
            " 0.98417753 0.98805428 0.99215096 0.99640447 1.00077391 1.00523067\n",
            " 1.00975204 1.01432085 1.01892471 1.02355492 1.02820587 1.03287518]\n",
            "13 day output [[1.0375623]]\n",
            "14 day input [0.91005473 0.90880073 0.89238491 0.90389877 0.90401279 0.90173284\n",
            " 0.89443691 0.90560876 0.91142275 0.92749658 0.93889649 0.91381672\n",
            " 0.89523489 0.8855449  0.87015505 0.85601918 0.86057916 0.79993165\n",
            " 0.79320566 0.77963973 0.80939351 0.86171914 0.8337893  0.8203375\n",
            " 0.82170543 0.84758327 0.86263115 0.88360694 0.88964888 0.89158693\n",
            " 0.96534426 0.95269037 0.9751482  0.95303243 0.94721845 0.95645235\n",
            " 0.95508441 0.9612403  0.96443234 0.94904239 0.97457825 0.97036026\n",
            " 0.95975833 0.96397633 0.98894208 0.96979023 0.98064995 0.98417753\n",
            " 0.98805428 0.99215096 0.99640447 1.00077391 1.00523067 1.00975204\n",
            " 1.01432085 1.01892471 1.02355492 1.02820587 1.03287518 1.03756225]\n",
            "14 day output [[1.0422689]]\n",
            "15 day input [0.90880073 0.89238491 0.90389877 0.90401279 0.90173284 0.89443691\n",
            " 0.90560876 0.91142275 0.92749658 0.93889649 0.91381672 0.89523489\n",
            " 0.8855449  0.87015505 0.85601918 0.86057916 0.79993165 0.79320566\n",
            " 0.77963973 0.80939351 0.86171914 0.8337893  0.8203375  0.82170543\n",
            " 0.84758327 0.86263115 0.88360694 0.88964888 0.89158693 0.96534426\n",
            " 0.95269037 0.9751482  0.95303243 0.94721845 0.95645235 0.95508441\n",
            " 0.9612403  0.96443234 0.94904239 0.97457825 0.97036026 0.95975833\n",
            " 0.96397633 0.98894208 0.96979023 0.98064995 0.98417753 0.98805428\n",
            " 0.99215096 0.99640447 1.00077391 1.00523067 1.00975204 1.01432085\n",
            " 1.01892471 1.02355492 1.02820587 1.03287518 1.03756225 1.04226887]\n",
            "15 day output [[1.0469972]]\n",
            "16 day input [0.89238491 0.90389877 0.90401279 0.90173284 0.89443691 0.90560876\n",
            " 0.91142275 0.92749658 0.93889649 0.91381672 0.89523489 0.8855449\n",
            " 0.87015505 0.85601918 0.86057916 0.79993165 0.79320566 0.77963973\n",
            " 0.80939351 0.86171914 0.8337893  0.8203375  0.82170543 0.84758327\n",
            " 0.86263115 0.88360694 0.88964888 0.89158693 0.96534426 0.95269037\n",
            " 0.9751482  0.95303243 0.94721845 0.95645235 0.95508441 0.9612403\n",
            " 0.96443234 0.94904239 0.97457825 0.97036026 0.95975833 0.96397633\n",
            " 0.98894208 0.96979023 0.98064995 0.98417753 0.98805428 0.99215096\n",
            " 0.99640447 1.00077391 1.00523067 1.00975204 1.01432085 1.01892471\n",
            " 1.02355492 1.02820587 1.03287518 1.03756225 1.04226887 1.04699719]\n",
            "16 day output [[1.0517513]]\n",
            "17 day input [0.90389877 0.90401279 0.90173284 0.89443691 0.90560876 0.91142275\n",
            " 0.92749658 0.93889649 0.91381672 0.89523489 0.8855449  0.87015505\n",
            " 0.85601918 0.86057916 0.79993165 0.79320566 0.77963973 0.80939351\n",
            " 0.86171914 0.8337893  0.8203375  0.82170543 0.84758327 0.86263115\n",
            " 0.88360694 0.88964888 0.89158693 0.96534426 0.95269037 0.9751482\n",
            " 0.95303243 0.94721845 0.95645235 0.95508441 0.9612403  0.96443234\n",
            " 0.94904239 0.97457825 0.97036026 0.95975833 0.96397633 0.98894208\n",
            " 0.96979023 0.98064995 0.98417753 0.98805428 0.99215096 0.99640447\n",
            " 1.00077391 1.00523067 1.00975204 1.01432085 1.01892471 1.02355492\n",
            " 1.02820587 1.03287518 1.03756225 1.04226887 1.04699719 1.05175126]\n",
            "17 day output [[1.0565339]]\n",
            "18 day input [0.90401279 0.90173284 0.89443691 0.90560876 0.91142275 0.92749658\n",
            " 0.93889649 0.91381672 0.89523489 0.8855449  0.87015505 0.85601918\n",
            " 0.86057916 0.79993165 0.79320566 0.77963973 0.80939351 0.86171914\n",
            " 0.8337893  0.8203375  0.82170543 0.84758327 0.86263115 0.88360694\n",
            " 0.88964888 0.89158693 0.96534426 0.95269037 0.9751482  0.95303243\n",
            " 0.94721845 0.95645235 0.95508441 0.9612403  0.96443234 0.94904239\n",
            " 0.97457825 0.97036026 0.95975833 0.96397633 0.98894208 0.96979023\n",
            " 0.98064995 0.98417753 0.98805428 0.99215096 0.99640447 1.00077391\n",
            " 1.00523067 1.00975204 1.01432085 1.01892471 1.02355492 1.02820587\n",
            " 1.03287518 1.03756225 1.04226887 1.04699719 1.05175126 1.05653393]\n",
            "18 day output [[1.0613503]]\n",
            "19 day input [0.90173284 0.89443691 0.90560876 0.91142275 0.92749658 0.93889649\n",
            " 0.91381672 0.89523489 0.8855449  0.87015505 0.85601918 0.86057916\n",
            " 0.79993165 0.79320566 0.77963973 0.80939351 0.86171914 0.8337893\n",
            " 0.8203375  0.82170543 0.84758327 0.86263115 0.88360694 0.88964888\n",
            " 0.89158693 0.96534426 0.95269037 0.9751482  0.95303243 0.94721845\n",
            " 0.95645235 0.95508441 0.9612403  0.96443234 0.94904239 0.97457825\n",
            " 0.97036026 0.95975833 0.96397633 0.98894208 0.96979023 0.98064995\n",
            " 0.98417753 0.98805428 0.99215096 0.99640447 1.00077391 1.00523067\n",
            " 1.00975204 1.01432085 1.01892471 1.02355492 1.02820587 1.03287518\n",
            " 1.03756225 1.04226887 1.04699719 1.05175126 1.05653393 1.06135035]\n",
            "19 day output [[1.0662038]]\n",
            "20 day input [0.89443691 0.90560876 0.91142275 0.92749658 0.93889649 0.91381672\n",
            " 0.89523489 0.8855449  0.87015505 0.85601918 0.86057916 0.79993165\n",
            " 0.79320566 0.77963973 0.80939351 0.86171914 0.8337893  0.8203375\n",
            " 0.82170543 0.84758327 0.86263115 0.88360694 0.88964888 0.89158693\n",
            " 0.96534426 0.95269037 0.9751482  0.95303243 0.94721845 0.95645235\n",
            " 0.95508441 0.9612403  0.96443234 0.94904239 0.97457825 0.97036026\n",
            " 0.95975833 0.96397633 0.98894208 0.96979023 0.98064995 0.98417753\n",
            " 0.98805428 0.99215096 0.99640447 1.00077391 1.00523067 1.00975204\n",
            " 1.01432085 1.01892471 1.02355492 1.02820587 1.03287518 1.03756225\n",
            " 1.04226887 1.04699719 1.05175126 1.05653393 1.06135035 1.06620383]\n",
            "20 day output [[1.0710981]]\n",
            "21 day input [0.90560876 0.91142275 0.92749658 0.93889649 0.91381672 0.89523489\n",
            " 0.8855449  0.87015505 0.85601918 0.86057916 0.79993165 0.79320566\n",
            " 0.77963973 0.80939351 0.86171914 0.8337893  0.8203375  0.82170543\n",
            " 0.84758327 0.86263115 0.88360694 0.88964888 0.89158693 0.96534426\n",
            " 0.95269037 0.9751482  0.95303243 0.94721845 0.95645235 0.95508441\n",
            " 0.9612403  0.96443234 0.94904239 0.97457825 0.97036026 0.95975833\n",
            " 0.96397633 0.98894208 0.96979023 0.98064995 0.98417753 0.98805428\n",
            " 0.99215096 0.99640447 1.00077391 1.00523067 1.00975204 1.01432085\n",
            " 1.01892471 1.02355492 1.02820587 1.03287518 1.03756225 1.04226887\n",
            " 1.04699719 1.05175126 1.05653393 1.06135035 1.06620383 1.07109809]\n",
            "21 day output [[1.0760368]]\n",
            "22 day input [0.91142275 0.92749658 0.93889649 0.91381672 0.89523489 0.8855449\n",
            " 0.87015505 0.85601918 0.86057916 0.79993165 0.79320566 0.77963973\n",
            " 0.80939351 0.86171914 0.8337893  0.8203375  0.82170543 0.84758327\n",
            " 0.86263115 0.88360694 0.88964888 0.89158693 0.96534426 0.95269037\n",
            " 0.9751482  0.95303243 0.94721845 0.95645235 0.95508441 0.9612403\n",
            " 0.96443234 0.94904239 0.97457825 0.97036026 0.95975833 0.96397633\n",
            " 0.98894208 0.96979023 0.98064995 0.98417753 0.98805428 0.99215096\n",
            " 0.99640447 1.00077391 1.00523067 1.00975204 1.01432085 1.01892471\n",
            " 1.02355492 1.02820587 1.03287518 1.03756225 1.04226887 1.04699719\n",
            " 1.05175126 1.05653393 1.06135035 1.06620383 1.07109809 1.07603681]\n",
            "22 day output [[1.0810223]]\n",
            "23 day input [0.92749658 0.93889649 0.91381672 0.89523489 0.8855449  0.87015505\n",
            " 0.85601918 0.86057916 0.79993165 0.79320566 0.77963973 0.80939351\n",
            " 0.86171914 0.8337893  0.8203375  0.82170543 0.84758327 0.86263115\n",
            " 0.88360694 0.88964888 0.89158693 0.96534426 0.95269037 0.9751482\n",
            " 0.95303243 0.94721845 0.95645235 0.95508441 0.9612403  0.96443234\n",
            " 0.94904239 0.97457825 0.97036026 0.95975833 0.96397633 0.98894208\n",
            " 0.96979023 0.98064995 0.98417753 0.98805428 0.99215096 0.99640447\n",
            " 1.00077391 1.00523067 1.00975204 1.01432085 1.01892471 1.02355492\n",
            " 1.02820587 1.03287518 1.03756225 1.04226887 1.04699719 1.05175126\n",
            " 1.05653393 1.06135035 1.06620383 1.07109809 1.07603681 1.08102226]\n",
            "23 day output [[1.0860579]]\n",
            "24 day input [0.93889649 0.91381672 0.89523489 0.8855449  0.87015505 0.85601918\n",
            " 0.86057916 0.79993165 0.79320566 0.77963973 0.80939351 0.86171914\n",
            " 0.8337893  0.8203375  0.82170543 0.84758327 0.86263115 0.88360694\n",
            " 0.88964888 0.89158693 0.96534426 0.95269037 0.9751482  0.95303243\n",
            " 0.94721845 0.95645235 0.95508441 0.9612403  0.96443234 0.94904239\n",
            " 0.97457825 0.97036026 0.95975833 0.96397633 0.98894208 0.96979023\n",
            " 0.98064995 0.98417753 0.98805428 0.99215096 0.99640447 1.00077391\n",
            " 1.00523067 1.00975204 1.01432085 1.01892471 1.02355492 1.02820587\n",
            " 1.03287518 1.03756225 1.04226887 1.04699719 1.05175126 1.05653393\n",
            " 1.06135035 1.06620383 1.07109809 1.07603681 1.08102226 1.0860579 ]\n",
            "24 day output [[1.0911452]]\n",
            "25 day input [0.91381672 0.89523489 0.8855449  0.87015505 0.85601918 0.86057916\n",
            " 0.79993165 0.79320566 0.77963973 0.80939351 0.86171914 0.8337893\n",
            " 0.8203375  0.82170543 0.84758327 0.86263115 0.88360694 0.88964888\n",
            " 0.89158693 0.96534426 0.95269037 0.9751482  0.95303243 0.94721845\n",
            " 0.95645235 0.95508441 0.9612403  0.96443234 0.94904239 0.97457825\n",
            " 0.97036026 0.95975833 0.96397633 0.98894208 0.96979023 0.98064995\n",
            " 0.98417753 0.98805428 0.99215096 0.99640447 1.00077391 1.00523067\n",
            " 1.00975204 1.01432085 1.01892471 1.02355492 1.02820587 1.03287518\n",
            " 1.03756225 1.04226887 1.04699719 1.05175126 1.05653393 1.06135035\n",
            " 1.06620383 1.07109809 1.07603681 1.08102226 1.0860579  1.09114516]\n",
            "25 day output [[1.0962853]]\n",
            "26 day input [0.89523489 0.8855449  0.87015505 0.85601918 0.86057916 0.79993165\n",
            " 0.79320566 0.77963973 0.80939351 0.86171914 0.8337893  0.8203375\n",
            " 0.82170543 0.84758327 0.86263115 0.88360694 0.88964888 0.89158693\n",
            " 0.96534426 0.95269037 0.9751482  0.95303243 0.94721845 0.95645235\n",
            " 0.95508441 0.9612403  0.96443234 0.94904239 0.97457825 0.97036026\n",
            " 0.95975833 0.96397633 0.98894208 0.96979023 0.98064995 0.98417753\n",
            " 0.98805428 0.99215096 0.99640447 1.00077391 1.00523067 1.00975204\n",
            " 1.01432085 1.01892471 1.02355492 1.02820587 1.03287518 1.03756225\n",
            " 1.04226887 1.04699719 1.05175126 1.05653393 1.06135035 1.06620383\n",
            " 1.07109809 1.07603681 1.08102226 1.0860579  1.09114516 1.09628534]\n",
            "26 day output [[1.1014802]]\n",
            "27 day input [0.8855449  0.87015505 0.85601918 0.86057916 0.79993165 0.79320566\n",
            " 0.77963973 0.80939351 0.86171914 0.8337893  0.8203375  0.82170543\n",
            " 0.84758327 0.86263115 0.88360694 0.88964888 0.89158693 0.96534426\n",
            " 0.95269037 0.9751482  0.95303243 0.94721845 0.95645235 0.95508441\n",
            " 0.9612403  0.96443234 0.94904239 0.97457825 0.97036026 0.95975833\n",
            " 0.96397633 0.98894208 0.96979023 0.98064995 0.98417753 0.98805428\n",
            " 0.99215096 0.99640447 1.00077391 1.00523067 1.00975204 1.01432085\n",
            " 1.01892471 1.02355492 1.02820587 1.03287518 1.03756225 1.04226887\n",
            " 1.04699719 1.05175126 1.05653393 1.06135035 1.06620383 1.07109809\n",
            " 1.07603681 1.08102226 1.0860579  1.09114516 1.09628534 1.10148025]\n",
            "27 day output [[1.1067306]]\n",
            "28 day input [0.87015505 0.85601918 0.86057916 0.79993165 0.79320566 0.77963973\n",
            " 0.80939351 0.86171914 0.8337893  0.8203375  0.82170543 0.84758327\n",
            " 0.86263115 0.88360694 0.88964888 0.89158693 0.96534426 0.95269037\n",
            " 0.9751482  0.95303243 0.94721845 0.95645235 0.95508441 0.9612403\n",
            " 0.96443234 0.94904239 0.97457825 0.97036026 0.95975833 0.96397633\n",
            " 0.98894208 0.96979023 0.98064995 0.98417753 0.98805428 0.99215096\n",
            " 0.99640447 1.00077391 1.00523067 1.00975204 1.01432085 1.01892471\n",
            " 1.02355492 1.02820587 1.03287518 1.03756225 1.04226887 1.04699719\n",
            " 1.05175126 1.05653393 1.06135035 1.06620383 1.07109809 1.07603681\n",
            " 1.08102226 1.0860579  1.09114516 1.09628534 1.10148025 1.10673058]\n",
            "28 day output [[1.112037]]\n",
            "29 day input [0.85601918 0.86057916 0.79993165 0.79320566 0.77963973 0.80939351\n",
            " 0.86171914 0.8337893  0.8203375  0.82170543 0.84758327 0.86263115\n",
            " 0.88360694 0.88964888 0.89158693 0.96534426 0.95269037 0.9751482\n",
            " 0.95303243 0.94721845 0.95645235 0.95508441 0.9612403  0.96443234\n",
            " 0.94904239 0.97457825 0.97036026 0.95975833 0.96397633 0.98894208\n",
            " 0.96979023 0.98064995 0.98417753 0.98805428 0.99215096 0.99640447\n",
            " 1.00077391 1.00523067 1.00975204 1.01432085 1.01892471 1.02355492\n",
            " 1.02820587 1.03287518 1.03756225 1.04226887 1.04699719 1.05175126\n",
            " 1.05653393 1.06135035 1.06620383 1.07109809 1.07603681 1.08102226\n",
            " 1.0860579  1.09114516 1.09628534 1.10148025 1.10673058 1.11203694]\n",
            "29 day output [[1.1173997]]\n"
          ]
        }
      ]
    },
    {
      "cell_type": "markdown",
      "source": [
        "\n",
        "\n",
        "*   List of predicted stock prices for the next 30 days\n",
        "\n"
      ],
      "metadata": {
        "id": "4knvSKmcw1LW"
      }
    },
    {
      "cell_type": "code",
      "source": [
        "for i in range(1, n_days+1):\n",
        "    print(f\"Ngày thứ {i}: {scaler.inverse_transform(lst_output)[i-1]}\")\n",
        "    # scaler.inverse_transform(lst_output)"
      ],
      "metadata": {
        "colab": {
          "base_uri": "https://localhost:8080/"
        },
        "id": "5K-SAlW1yl4V",
        "outputId": "feed1e7f-f2d2-465c-e38a-b1a81bbdd9bf"
      },
      "execution_count": 19,
      "outputs": [
        {
          "output_type": "stream",
          "name": "stdout",
          "text": [
            "Ngày thứ 1: [117.47261151]\n",
            "Ngày thứ 2: [117.78205096]\n",
            "Ngày thứ 3: [118.12211908]\n",
            "Ngày thứ 4: [118.48148044]\n",
            "Ngày thứ 5: [118.85459803]\n",
            "Ngày thứ 6: [119.23788509]\n",
            "Ngày thứ 7: [119.62883194]\n",
            "Ngày thứ 8: [120.02544649]\n",
            "Ngày thứ 9: [120.42622295]\n",
            "Ngày thứ 10: [120.83007378]\n",
            "Ngày thứ 11: [121.23623561]\n",
            "Ngày thứ 12: [121.64421697]\n",
            "Ngày thứ 13: [122.05380871]\n",
            "Ngày thứ 14: [122.46495855]\n",
            "Ngày thứ 15: [122.87782335]\n",
            "Ngày thứ 16: [123.29259132]\n",
            "Ngày thứ 17: [123.70961802]\n",
            "Ngày thứ 18: [124.12915441]\n",
            "Ngày thứ 19: [124.55165013]\n",
            "Ngày thứ 20: [124.977398]\n",
            "Ngày thứ 21: [125.40672217]\n",
            "Ngày thứ 22: [125.83994682]\n",
            "Ngày thứ 23: [126.27727063]\n",
            "Ngày thứ 24: [126.71899685]\n",
            "Ngày thứ 25: [127.16525097]\n",
            "Ngày thứ 26: [127.61614801]\n",
            "Ngày thứ 27: [128.07184484]\n",
            "Ngày thứ 28: [128.53240419]\n",
            "Ngày thứ 29: [128.99787834]\n",
            "Ngày thứ 30: [129.46829868]\n"
          ]
        }
      ]
    },
    {
      "cell_type": "markdown",
      "source": [
        "**VISUALIZATION OF PREDICTIONS**"
      ],
      "metadata": {
        "id": "ccC1L-1pHCtd"
      }
    },
    {
      "cell_type": "markdown",
      "source": [
        "\n",
        "\n",
        "*   Plot 1\n",
        "\n"
      ],
      "metadata": {
        "id": "wVuNMOZiws53"
      }
    },
    {
      "cell_type": "code",
      "source": [
        "train_data_index = pd.RangeIndex(start=0, stop=train_size, step=1)\n",
        "plt.title('LSTM 6:2:2 (XOM Stock Price)')\n",
        "plt.plot(scaler.inverse_transform(train_data))\n",
        "test_data_index = pd.RangeIndex(start=train_size, stop=train_size+test_size, step=1)\n",
        "plt.plot(test_data_index,y_test)\n",
        "plt.plot(test_data_index,y_pred)\n",
        "val_data_index = pd.RangeIndex(start=train_size+test_size, stop=train_size+test_size+val_size, step=1)\n",
        "plt.plot(val_data_index,y_val)\n",
        "plt.plot(val_data_index,y_pred_val)\n",
        "prediect_data_index = pd.RangeIndex(start=len(close_prices), stop=len(close_prices)+n_days, step=1)\n",
        "plt.plot(prediect_data_index,scaler.inverse_transform(lst_output))\n",
        "plt.legend(['Train','Test','Predictions','Validate','ValidatePred','Next30Days'])\n",
        "plt.show()"
      ],
      "metadata": {
        "colab": {
          "base_uri": "https://localhost:8080/",
          "height": 452
        },
        "id": "V2gj23QPyd5h",
        "outputId": "2e3f13b4-aa43-4326-d917-adbfe0825699"
      },
      "execution_count": 20,
      "outputs": [
        {
          "output_type": "display_data",
          "data": {
            "text/plain": [
              "<Figure size 640x480 with 1 Axes>"
            ],
            "image/png": "[encoded data removed]"
          },
          "metadata": {}
        }
      ]
    },
    {
      "cell_type": "markdown",
      "source": [
        "\n",
        "\n",
        "*   Plot 2\n",
        "\n"
      ],
      "metadata": {
        "id": "4eXJyVdmww1n"
      }
    },
    {
      "cell_type": "code",
      "source": [
        "import plotly\n",
        "import plotly.graph_objs as go\n",
        "import plotly.express as px\n",
        "from plotly.subplots import make_subplots\n",
        "\n",
        "fig = go.Figure()\n",
        "fig.add_trace(go.Scatter(x=train_data_index, y=scaler.inverse_transform(train_data)[:, 0], mode='lines+markers', marker=dict(size=4),  name='Train', marker_color='#1F77B4'))\n",
        "fig.add_trace(go.Scatter(x=test_data_index,y=y_test[:, 0], mode='lines+markers', marker=dict(size=4), name='Test', marker_color='#FF7F0E'))\n",
        "fig.add_trace(go.Scatter(x=test_data_index,y=y_pred[:, 0], mode='lines+markers', marker=dict(size=4), name='Predictions', marker_color='#2CA02C'))\n",
        "fig.add_trace(go.Scatter(x=val_data_index, y=y_val[:, 0], mode='lines+markers', marker=dict(size=4), name='Validate', marker_color='#D62728'))\n",
        "fig.add_trace(go.Scatter(x=val_data_index, y=y_pred_val[:, 0], mode='lines+markers', marker=dict(size=4), name='ValidatePred', marker_color='#9569BE'))\n",
        "fig.add_trace(go.Scatter(x=prediect_data_index, y=scaler.inverse_transform(lst_output)[:, 0], mode='lines+markers', marker=dict(size=4), name='Next30Days', marker_color='#000000'))\n",
        "fig.update_layout(legend_orientation=\"h\",\n",
        "                  legend=dict(x=.5, xanchor=\"center\"),\n",
        "                  plot_bgcolor='#FFFFFF',\n",
        "                  xaxis=dict(gridcolor = 'lightgrey'),\n",
        "                  yaxis=dict(gridcolor = 'lightgrey'),\n",
        "                  title_text = f'LSTM 6:2:2 (XOM Stock Price)', title_x = 0.5,\n",
        "                  xaxis_title=\"Timestep\",\n",
        "                  yaxis_title=\"Stock price\",\n",
        "                  margin=dict(l=0, r=0, t=30, b=0))\n",
        "fig.show()"
      ],
      "metadata": {
        "colab": {
          "base_uri": "https://localhost:8080/",
          "height": 542
        },
        "id": "YLioSa_GpPcc",
        "outputId": "20b38b24-ba49-4479-d452-d02d39d6c4a2"
      },
      "execution_count": 21,
      "outputs": [
        {
          "output_type": "display_data",
          "data": {
            "text/html": [
              "<html>\n",
              "<head><meta charset=\"utf-8\" /></head>\n",
              "<body>\n",
              "    <div>            <script src=\"https://cdnjs.cloudflare.com/ajax/libs/mathjax/2.7.5/MathJax.js?config=TeX-AMS-MML_SVG\"></script><script type=\"text/javascript\">if (window.MathJax && window.MathJax.Hub && window.MathJax.Hub.Config) {window.MathJax.Hub.Config({SVG: {font: \"STIX-Web\"}});}</script>                <script type=\"text/javascript\">window.PlotlyConfig = {MathJaxConfig: 'local'};</script>\n",
              "        <script src=\"https://cdn.plot.ly/plotly-2.18.2.min.js\"></script>                <div id=\"3b392c56-e165-45a3-a1d2-51d537e6107a\" class=\"plotly-graph-div\" style=\"height:525px; width:100%;\"></div>            <script type=\"text/javascript\">                                    window.PLOTLYENV=window.PLOTLYENV || {};                                    if (document.getElementById(\"3b392c56-e165-45a3-a1d2-51d537e6107a\")) {                    Plotly.newPlot(                        \"3b392c56-e165-45a3-a1d2-51d537e6107a\",                        [{\"marker\":{\"color\":\"#1F77B4\",\"size\":4},\"mode\":\"lines+markers\",\"name\":\"Train\",\"x\":[0,1,2,3,4,5,6,7,8,9,10,11,12,13,14,15,16,17,18,19,20,21,22,23,24,25,26,27,28,29,30,31,32,33,34,35,36,37,38,39,40,41,42,43,44,45,46,47,48,49,50,51,52,53,54,55,56,57,58,59,60,61,62,63,64,65,66,67,68,69,70,71,72,73,74,75,76,77,78,79,80,81,82,83,84,85,86,87,88,89,90,91,92,93,94,95,96,97,98,99,100,101,102,103,104,105,106,107,108,109,110,111,112,113,114,115,116,117,118,119,120,121,122,123,124,125,126,127,128,129,130,131,132,133,134,135,136,137,138,139,140,141,142,143,144,145,146,147,148,149,150,151,152,153,154,155,156,157,158,159,160,161,162,163,164,165,166,167,168,169,170,171,172,173,174,175,176,177,178,179,180,181,182,183,184,185,186,187,188,189,190,191,192,193,194,195,196,197,198,199,200,201,202,203,204,205,206,207,208,209,210,211,212,213,214,215,216,217,218,219,220,221,222,223,224,225,226,227,228,229,230,231,232,233,234,235,236,237,238,239,240,241,242,243,244,245,246,247,248,249,250,251,252,253,254,255,256,257,258,259,260,261,262,263,264,265,266,267,268,269,270,271,272,273,274,275,276,277,278,279,280,281,282,283,284,285,286,287,288,289,290,291,292,293,294,295,296,297,298,299,300,301,302,303,304,305,306,307,308,309,310,311,312,313,314,315,316,317,318,319,320,321,322,323,324,325,326,327,328,329,330,331,332,333,334,335,336,337,338,339,340,341,342,343,344,345,346,347,348,349,350,351,352,353,354,355,356,357,358,359,360,361,362,363,364,365,366,367,368,369,370,371,372,373,374,375,376,377,378,379,380,381,382,383,384,385,386,387,388,389,390,391,392,393,394,395,396,397,398,399,400,401,402,403,404,405,406,407,408,409,410,411,412,413,414,415,416,417,418,419,420,421,422,423,424,425,426,427,428,429,430,431,432,433,434,435,436,437,438,439,440,441,442,443,444,445,446,447,448,449,450,451,452,453,454,455,456,457,458,459,460,461,462,463,464,465,466,467,468,469,470,471,472,473,474,475,476,477,478,479,480,481,482,483,484,485,486,487,488,489,490,491,492,493,494,495,496,497,498,499,500,501,502,503,504,505,506,507,508,509,510,511,512,513,514,515,516,517,518,519,520,521,522,523,524,525,526,527,528,529,530,531,532,533,534,535,536,537,538,539,540,541,542,543,544,545,546,547,548,549,550,551,552,553,554,555,556,557,558,559,560,561,562,563,564,565,566,567,568,569,570,571,572,573,574,575,576,577,578,579,580,581,582,583,584,585,586,587,588,589,590,591,592,593,594,595,596,597,598,599,600,601,602,603,604,605,606,607,608,609,610,611,612,613,614,615,616,617,618,619,620,621,622,623,624,625,626,627,628,629,630,631,632,633,634,635,636,637,638,639,640,641,642,643,644,645,646,647,648,649,650,651,652,653,654,655,656,657,658,659,660,661,662,663,664,665,666,667,668,669,670,671,672,673,674,675,676,677,678,679,680,681,682,683,684,685,686,687,688,689,690,691,692,693,694,695,696,697,698,699,700,701,702,703,704,705,706,707,708,709,710,711,712,713,714,715,716,717,718,719,720,721,722,723,724,725,726,727,728,729,730,731,732,733,734,735,736,737,738,739,740,741,742,743,744,745,746,747,748,749,750,751,752,753,754,755,756,757,758,759,760,761,762,763,764,765,766,767,768,769,770,771,772,773,774,775,776,777,778,779,780,781,782,783,784,785,786,787,788,789,790,791,792,793,794,795,796,797,798,799,800,801],\"y\":[85.029999,86.699997,86.82000000000001,86.75,87.139999,86.769997,86.08000200000001,86.93000000000002,87.519997,86.970001,88.0,87.43,87.150002,88.25,88.30000299999999,88.529999,88.370003,89.0,88.010002,86.779999,87.30000300000002,89.07,84.52999900000002,79.720001,78.349998,76.94000200000002,76.07,75.779999,76.419998,76.30000300000002,76.45999900000001,76.209999,76.540001,75.75,74.889999,75.860001,77.529999,78.839996,77.50000000000001,75.73999800000001,75.199997,75.55000300000002,76.269997,76.18000000000002,74.260002,74.120003,74.559998,75.239998,74.529999,73.599998,74.419998,75.120003,74.150002,73.989998,75.040001,73.5,72.889999,74.0,73.699997,72.809998,74.610001,73.220001,75.019997,74.870003,76.01999700000002,74.870003,74.870003,77.07,77.43,77.220001,77.83999600000001,78.540001,78.33000200000001,79.22000100000001,79.41999800000002,79.0,79.57,78.349998,79.5,80.860001,77.79000100000002,77.75000000000001,76.949997,76.800003,76.540001,76.900002,77.739998,78.089996,79.93,81.72000100000001,81.27999900000002,81.83000200000001,81.790001,82.01999700000002,81.879997,81.30000300000002,82.279999,81.63999900000002,82.150002,80.26999700000002,78.709999,78.41999800000002,81.5,81.239998,81.83000200000001,80.97000100000001,80.68,82.059998,82.879997,83.599998,83.09999800000001,82.419998,81.510002,81.889999,80.66000400000001,80.82000000000001,80.69999700000001,80.44999700000001,79.69000200000002,81.37999700000002,79.739998,80.639999,81.709999,81.970001,82.73000300000001,81.760002,82.239998,82.30999800000001,82.330002,82.900002,83.660004,82.589996,82.690002,83.30999800000001,82.48999800000001,82.30999800000001,82.220001,82.01000200000001,81.40000200000001,81.40000200000001,83.010002,83.58999600000001,84.23999800000001,81.91999800000002,81.73999800000001,81.510002,80.389999,79.91000400000001,80.199997,80.18000000000002,81.269997,80.730003,80.32,79.41999800000002,78.559998,78.30999800000001,76.94000200000002,78.0,78.260002,78.809998,78.830002,79.95999900000001,79.080002,79.62000300000001,80.400002,80.27999900000002,80.860001,80.510002,80.16999800000002,80.290001,81.360001,80.459999,81.83000200000001,81.709999,82.86000100000001,83.12999700000002,82.32,82.919998,83.41000400000001,83.629997,84.629997,84.82,85.16999800000002,86.599998,86.5,85.779999,85.769997,85.019997,85.80999800000001,86.45999900000001,86.150002,85.580002,85.33999600000001,86.129997,86.510002,84.51999700000002,81.599998,81.37999700000002,80.82000000000001,81.199997,81.5,81.849998,81.970001,81.150002,79.839996,77.620003,78.30999800000001,77.529999,77.050003,78.77999900000002,79.68,80.669998,81.949997,81.63999900000002,81.989998,83.02999900000002,81.709999,80.870003,79.830002,78.0,77.38999900000002,78.190002,78.95999900000001,79.22000100000001,76.970001,77.559998,75.489998,76.980003,77.050003,78.449997,79.05999800000001,79.5,81.220001,79.43000000000002,78.38999900000002,77.639999,76.540001,76.68,76.01999700000002,76.980003,75.580002,74.040001,72.0,70.779999,68.629997,68.120003,65.510002,68.639999,68.940002,68.169998,68.190002,69.690002,68.620003,71.150002,71.519997,72.040001,72.419998,72.050003,71.720001,71.629997,71.669998,71.639999,72.129997,72.989998,71.889999,71.300003,71.400002,71.720001,71.239998,71.510002,72.290001,73.279999,75.91999800000002,74.82,75.589996,75.260002,74.68,73.980003,74.099998,75.400002,76.25,76.269997,77.709999,78.230003,78.52999900000002,77.82,78.41999800000002,78.50000000000001,78.660004,79.470001,79.029999,80.00000000000001,80.309998,80.190002,79.279999,80.160004,79.010002,79.779999,80.00000000000001,80.70999900000001,80.44000200000002,80.150002,81.08000200000001,80.870003,81.32,81.790001,80.480003,79.919998,80.959999,80.33999600000001,80.73999800000001,80.800003,81.73000300000001,81.37999700000002,80.900002,82.050003,82.48999800000001,83.0,81.93000000000002,81.55999800000001,81.949997,80.91999800000002,80.65000200000001,81.199997,81.43,81.129997,82.900002,83.379997,81.760002,82.220001,80.489998,79.97000100000001,80.27999900000002,78.669998,77.290001,77.47000100000001,77.12999700000002,76.72000100000001,76.83999600000001,76.76999700000002,76.55999800000001,75.70999900000001,75.809998,76.37000300000001,76.360001,75.910004,75.900002,76.25,75.55999800000001,73.790001,74.099998,72.610001,72.160004,71.970001,70.769997,71.879997,73.589996,72.980003,74.309998,74.580002,74.910004,74.839996,74.029999,74.68,74.349998,75.089996,75.73999800000001,75.32,76.610001,77.690002,76.949997,76.269997,76.599998,75.82000000000001,76.629997,76.55999800000001,75.72000100000001,76.440002,76.129997,76.480003,76.43,77.510002,77.57000000000001,77.629997,77.080002,75.93000000000002,75.480003,74.839996,74.989998,75.07,75.37000300000001,75.36000100000001,74.93,74.809998,75.33999600000001,75.34999800000001,74.360001,72.459999,71.75,70.279999,70.959999,70.5,72.379997,70.839996,69.629997,70.489998,67.650002,67.25,68.300003,69.449997,69.029999,69.720001,69.57,67.489998,67.849998,67.190002,67.68,68.43,68.480003,68.559998,69.290001,70.269997,70.93,71.489998,72.07,71.93,71.980003,72.639999,73.730003,73.169998,72.82,72.330002,72.080002,72.129997,71.139999,71.349998,70.970001,71.480003,70.610001,68.949997,67.150002,67.980003,68.970001,68.019997,66.699997,67.440002,68.25,68.980003,69.18,69.419998,68.230003,68.139999,67.610001,68.739998,69.089996,69.75,69.089996,69.25,68.639999,68.440002,67.720001,67.57,69.599998,71.669998,73.089996,71.489998,73.010002,70.769997,70.339996,69.370003,68.800003,68.5,69.190002,68.519997,67.82,68.029999,69.669998,69.370003,68.910004,68.739998,68.699997,68.129997,68.419998,67.879997,68.650002,68.410004,69.510002,69.660004,69.059998,68.959999,70.339996,69.230003,70.0,69.68,69.870003,69.389999,69.940002,70.290001,70.019997,70.129997,69.889999,69.480003,69.779999,70.900002,70.330002,70.870003,70.290001,69.230003,69.760002,69.139999,69.800003,69.199997,69.089996,68.82,68.559998,67.580002,67.190002,66.769997,66.32,64.739998,64.650002,64.110001,64.790001,62.119999,60.73,59.970001,62.73,61.880001,61.470001,59.95999900000001,60.529999,61.27,60.93,60.650002,59.880001,60.34,59.860001,59.130001,56.36000099999999,54.200001,53.009998,49.82,51.439999,53.880001,51.29999899999999,52.41999800000001,50.110001,47.689999,41.860001,43.41,41.98,37.18,38.119999,34.490002,36.810001,33.119999,34.43,32.740002,31.450001,35.439999,37.290001,38.82,36.950001,37.5,37.970001,37.529999,40.400002,39.209999,40.470001,41.240002,43.849998,43.130001,42.759998,42.43,40.48,39.150002,43.220001,41.18,40.959999,42.130001,43.450001,43.73,43.93999900000001,44.970001,47.459999,46.470001,43.139999,44.880001,44.830002,43.990002,44.240002,46.18000000000001,45.740002,44.119999,41.93,42.299999,42.0,45.34,43.93999900000001,45.369999,44.56000100000001,44.59999800000001,45.910000000000004,46.240002000000004,45.040001,45.470001,46.27999899999999,47.310001,49.24000199999999,49.099998,53.08000200000001,54.74000199999999,53.519999999999996,50.650002,46.18000000000001,47.169998,47.139999,48.200001,46.630001,46.91999800000001,45.98,46.419998,46.70000099999999,44.5,45.169998,43.619999,44.32,44.720001,43.709999,44.080002,44.389999,43.240002,43.139999,41.360001,42.650002,42.66,44.06999999999999,44.630001,44.279999,43.52,42.5,44.650002,43.610001,43.700001,43.43,44.06999999999999,43.549999,44.029999,41.869999,42.080002,42.25,43.470001,43.849998,43.639999,43.439999,44.509997999999996,44.970001,44.09,43.009998,43.200001,42.639999,42.43,41.959999,41.32,41.009998,42.220001,40.880001,40.009998,39.740002,40.689999,39.939999,39.43,39.189999,39.110001,39.080002,38.18,37.950001,37.0,36.900002,36.66,36.27,37.810001,37.799999,37.189999,36.43,35.529999,34.389999,34.32,34.639999,35.310001,34.279999,34.330002,33.130001,32.98,33.740002,33.389999,33.5,35.259998,34.740002,34.630001,34.220001,34.150002,34.450001,34.099998,33.419998,33.700001,33.16,34.860001,34.16,33.349998,32.82,31.57,32.970001,32.619999,33.990002,33.41,33.23,33.169998,32.779999,36.93,36.860001,36.48,35.23,36.080002,38.16,38.669998,37.209999,37.400002,36.939999,39.360001,41.98,40.810001,40.189999,38.130001,38.5,39.939999,40.209999,41.68,40.900002,42.240002,42.799999,44.00999800000001,43.799999,42.220001,43.040001,43.700001,43.48,42.73,41.950001,41.240002,41.77,41.599998,41.740002,41.27,41.599998,41.220001,41.5,43.5,44.610001,44.959999,45.459999,46.84,47.880001,48.419998,50.310001,47.88999900000001,48.84,49.529999,48.110001,47.43,46.90000200000001,45.86999900000001,45.349998,46.060001,44.84,44.919998,45.63000100000001,47.419998,48.330002,49.950001,52.099998,50.630001,51.119999,49.84000000000001,50.52000000000001,52.040001,52.849998,52.02,52.369999,54.299999,55.04999900000001,56.700001,55.759998,54.36999900000001,56.400002,56.07,56.519999999999996,58.709998999999996,60.93,60.869999,59.93,61.77],\"type\":\"scatter\"},{\"marker\":{\"color\":\"#FF7F0E\",\"size\":4},\"mode\":\"lines+markers\",\"name\":\"Test\",\"x\":[802,803,804,805,806,807,808,809,810,811,812,813,814,815,816,817,818,819,820,821,822,823,824,825,826,827,828,829,830,831,832,833,834,835,836,837,838,839,840,841,842,843,844,845,846,847,848,849,850,851,852,853,854,855,856,857,858,859,860,861,862,863,864,865,866,867,868,869,870,871,872,873,874,875,876,877,878,879,880,881,882,883,884,885,886,887,888,889,890,891,892,893,894,895,896,897,898,899,900,901,902,903,904,905,906,907,908,909,910,911,912,913,914,915,916,917,918,919,920,921,922,923,924,925,926,927,928,929,930,931,932,933,934,935,936,937,938,939,940,941,942,943,944,945,946,947,948,949,950,951,952,953,954,955,956,957,958,959,960,961,962,963,964,965,966,967,968,969,970,971,972,973,974,975,976,977,978,979,980,981,982,983,984,985,986,987,988,989,990,991,992,993,994,995,996,997,998,999,1000,1001,1002,1003,1004,1005,1006,1007,1008,1009,1010,1011,1012,1013,1014,1015,1016,1017,1018,1019,1020,1021,1022,1023,1024,1025,1026,1027,1028,1029,1030,1031,1032,1033,1034,1035,1036,1037,1038,1039,1040,1041,1042,1043,1044,1045,1046,1047,1048,1049,1050,1051,1052,1053,1054,1055,1056,1057,1058,1059,1060,1061,1062,1063,1064,1065,1066,1067,1068],\"y\":[61.310001,61.970001,60.389999,59.110001,59.369999,56.810001,56.490002,55.91,55.220001,56.34,56.18,57.709999,57.400002,56.68999900000001,55.830002,57.389999,56.5,56.34,56.59000000000001,56.0,55.869999,55.5,55.70999900000001,57.32,56.98,56.66,56.48,55.290001000000004,56.0,55.27,55.57,55.68,56.41,58.110001,58.939999,57.240002000000004,58.82,59.18999900000001,60.970000999999996,61.549999,62.43,62.580002,60.59,60.040001,59.29999899999999,60.77,62.18999900000001,60.43,58.98,58.84,58.919998,59.610001,58.259998,58.939999,58.56000100000001,58.369999,60.459999,60.93999899999999,61.18,61.45000100000001,61.049999,62.13000100000001,62.65000199999999,62.75,62.16999800000001,62.07,64.330002,64.099998,61.990002,60.400002,62.589999999999996,63.790001000000004,64.260002,64.519997,64.660004,63.009998,62.619999,63.080002,63.259998,63.169998,61.369999,60.41,60.139999,61.23,61.169998,60.88000100000001,59.529999,58.95000100000001,57.32,55.349998,55.959999,57.759998,57.110001,57.04000099999999,58.48,57.830002,58.220001,58.93000000000001,57.57000000000001,57.580002,58.200001,56.84,57.200001,57.860001,57.200001,58.18,58.349998,57.34999799999999,56.77,55.939999,55.560001,54.389999,52.73,52.740002,54.91,55.360001,55.459999,54.709999,55.77,55.16,54.52,53.77,55.080002,54.86999899999999,54.549999,54.049999,54.09000000000001,53.98,55.369999,54.580002,56.419998,55.82,55.16,53.68999900000001,53.639999,55.209999,57.080002,57.59,59.29999899999999,59.919998,59.880001,58.82,60.93,61.720001,61.61999899999999,60.490002,60.66,62.18,61.56000099999999,61.240002,61.07,62.0,62.589999999999996,62.560001,63.5,63.849998,62.689999,63.119999,64.349998,65.839996,64.129997,64.309998,64.470001,65.629997,64.82,63.93,64.410004,65.019997,65.720001,66.360001,64.190002,64.309998,63.82,64.370003,65.019997,64.309998,63.61000099999999,60.669998,61.509998,63.130001,63.480000000000004,61.24999999999999,61.59,59.84,59.790001,61.279999,60.889999,61.58000199999999,62.27,62.450001,62.610001,63.009998,61.630001,61.540001,61.27,61.369999,60.029999,59.16,60.5,60.990002,61.02,61.88999900000001,61.689999,61.150002,60.790001000000004,61.189999,63.540001,65.93,66.75,68.32,68.879997,68.470001,71.349998,71.139999,70.629997,71.870003,73.080002,73.110001,73.269997,72.169998,72.790001,74.93,74.169998,75.120003,75.279999,75.959999,80.830002,80.62000300000001,79.68,81.410004,82.38999900000002,80.26000200000001,79.0,78.23999800000001,80.209999,78.980003,77.989998,78.349998,78.230003,77.360001,76.45999900000001,76.76999700000002,75.800003,77.83999600000001,78.41999800000002,79.16999800000002,80.529999,81.040001,84.089996,87.12000300000001,87.779999,82.790001,85.36000100000001,84.919998,81.879997,77.220001,76.93000000000002,78.980003,78.669998,82.19999700000001,81.839996,83.12999700000002,83.379997,85.199997,82.809998,82.370003,83.77999900000002],\"type\":\"scatter\"},{\"marker\":{\"color\":\"#2CA02C\",\"size\":4},\"mode\":\"lines+markers\",\"name\":\"Predictions\",\"x\":[802,803,804,805,806,807,808,809,810,811,812,813,814,815,816,817,818,819,820,821,822,823,824,825,826,827,828,829,830,831,832,833,834,835,836,837,838,839,840,841,842,843,844,845,846,847,848,849,850,851,852,853,854,855,856,857,858,859,860,861,862,863,864,865,866,867,868,869,870,871,872,873,874,875,876,877,878,879,880,881,882,883,884,885,886,887,888,889,890,891,892,893,894,895,896,897,898,899,900,901,902,903,904,905,906,907,908,909,910,911,912,913,914,915,916,917,918,919,920,921,922,923,924,925,926,927,928,929,930,931,932,933,934,935,936,937,938,939,940,941,942,943,944,945,946,947,948,949,950,951,952,953,954,955,956,957,958,959,960,961,962,963,964,965,966,967,968,969,970,971,972,973,974,975,976,977,978,979,980,981,982,983,984,985,986,987,988,989,990,991,992,993,994,995,996,997,998,999,1000,1001,1002,1003,1004,1005,1006,1007,1008,1009,1010,1011,1012,1013,1014,1015,1016,1017,1018,1019,1020,1021,1022,1023,1024,1025,1026,1027,1028,1029,1030,1031,1032,1033,1034,1035,1036,1037,1038,1039,1040,1041,1042,1043,1044,1045,1046,1047,1048,1049,1050,1051,1052,1053,1054,1055,1056,1057,1058,1059,1060,1061,1062,1063,1064,1065,1066,1067,1068],\"y\":[61.19953155517578,61.63557434082031,61.97701644897461,61.739219665527344,60.935760498046875,60.12422180175781,58.80394744873047,57.49293899536133,56.35202407836914,55.396820068359375,55.07721710205078,55.11091613769531,55.73982620239258,56.44050979614258,56.84845733642578,56.81474304199219,57.00445556640625,57.00486373901367,56.87337875366211,56.771305084228516,56.54201126098633,56.2707633972168,55.942928314208984,55.72153854370117,56.02592086791992,56.40841293334961,56.6595458984375,56.7476806640625,56.424930572509766,56.17798614501953,55.82322692871094,55.58252716064453,55.47917938232422,55.65898513793945,56.37870407104492,57.39802169799805,57.86500549316406,58.39260482788086,58.903968811035156,59.74644470214844,60.67317199707031,61.63580322265625,62.40226364135742,62.33452224731445,61.738929748535156,60.82268142700195,60.35683059692383,60.57067108154297,60.56575393676758,60.09126281738281,59.49430465698242,59.012550354003906,58.89098358154297,58.61217498779297,58.53076934814453,58.46821594238281,58.39302444458008,58.898826599121094,59.67901611328125,60.46936798095703,61.14931106567383,61.50117874145508,61.89868927001953,62.33940887451172,62.700809478759766,62.76438522338867,62.635719299316406,63.04666519165039,63.517967224121094,63.323997497558594,62.447998046875,62.06431579589844,62.30287170410156,62.89259719848633,63.57866287231445,64.18843078613281,64.16863250732422,63.766143798828125,63.40427017211914,63.18506622314453,63.05403518676758,62.5081672668457,61.659244537353516,60.81302261352539,60.47208023071289,60.433834075927734,60.483604431152344,60.21918869018555,59.740840911865234,58.85617446899414,57.48873519897461,56.40499496459961,56.19136047363281,56.267051696777344,56.4680061340332,57.084381103515625,57.58523178100586,58.031288146972656,58.53520584106445,58.57529067993164,58.391448974609375,58.299015045166016,57.89210510253906,57.52943420410156,57.43916702270508,57.314823150634766,57.46956253051758,57.76042938232422,57.7830810546875,57.53070068359375,56.9941520690918,56.35587692260742,55.5145149230957,54.3510627746582,53.3310432434082,53.19491958618164,53.62753677368164,54.272823333740234,54.69197463989258,55.20469284057617,55.48061752319336,55.41450881958008,55.004032135009766,54.86743927001953,54.81877136230469,54.734039306640625,54.52056121826172,54.30921936035156,54.119117736816406,54.34946823120117,54.510780334472656,55.09364318847656,55.572479248046875,55.72028350830078,55.29267883300781,54.685604095458984,54.54075622558594,55.12312316894531,56.034996032714844,57.341556549072266,58.68274688720703,59.70369338989258,60.0356559753418,60.51730728149414,61.125431060791016,61.58903884887695,61.54808044433594,61.31562423706055,61.43913269042969,61.505916595458984,61.440372467041016,61.28200149536133,61.3686408996582,61.701358795166016,62.05933380126953,62.601646423339844,63.190059661865234,63.34065246582031,63.373538970947266,63.667579650878906,64.40000915527344,64.67486572265625,64.72734069824219,64.6983642578125,64.94396209716797,65.0182876586914,64.75270080566406,64.52790069580078,64.53496551513672,64.83246612548828,65.36407470703125,65.27980041503906,64.98334503173828,64.52455139160156,64.25235748291016,64.30424499511719,64.2977066040039,64.08621978759766,63.0433349609375,62.12345504760742,61.916805267333984,62.18058776855469,62.00765609741211,61.798095703125,61.15924835205078,60.481712341308594,60.355201721191406,60.406856536865234,60.72770690917969,61.2893180847168,61.88064956665039,62.389801025390625,62.84366989135742,62.778507232666016,62.462379455566406,62.0197639465332,61.64078140258789,61.01177978515625,60.19065475463867,59.844200134277344,59.92884826660156,60.20999526977539,60.763790130615234,61.265289306640625,61.486305236816406,61.43282699584961,61.37118911743164,61.94475173950195,63.30162048339844,64.90071868896484,66.64593505859375,68.16653442382812,69.07221984863281,70.24222564697266,71.12710571289062,71.48261260986328,71.82064819335938,72.35972595214844,72.8252944946289,73.1637191772461,73.03129577636719,72.88677978515625,73.35818481445312,73.75363159179688,74.29080963134766,74.79698181152344,75.3537368774414,77.17289733886719,79.00541687011719,80.10739135742188,81.09298706054688,82.01643371582031,82.01658630371094,81.22501373291016,80.04142761230469,79.53133392333984,79.06392669677734,78.46297454833984,78.07969665527344,77.86991119384766,77.56262969970703,77.0605697631836,76.71347045898438,76.26049041748047,76.48025512695312,77.11190795898438,77.99624633789062,79.16854858398438,80.31448364257812,82.03165435791016,84.41156005859375,86.62577056884766,86.68879699707031,86.538330078125,86.11973571777344,84.75003814697266,81.94892883300781,79.17793273925781,77.70999908447266,77.10105895996094,78.09178161621094,79.47636413574219,81.1223373413086,82.57147216796875,84.11031341552734,84.57714080810547,84.31961059570312],\"type\":\"scatter\"},{\"marker\":{\"color\":\"#D62728\",\"size\":4},\"mode\":\"lines+markers\",\"name\":\"Validate\",\"x\":[1069,1070,1071,1072,1073,1074,1075,1076,1077,1078,1079,1080,1081,1082,1083,1084,1085,1086,1087,1088,1089,1090,1091,1092,1093,1094,1095,1096,1097,1098,1099,1100,1101,1102,1103,1104,1105,1106,1107,1108,1109,1110,1111,1112,1113,1114,1115,1116,1117,1118,1119,1120,1121,1122,1123,1124,1125,1126,1127,1128,1129,1130,1131,1132,1133,1134,1135,1136,1137,1138,1139,1140,1141,1142,1143,1144,1145,1146,1147,1148,1149,1150,1151,1152,1153,1154,1155,1156,1157,1158,1159,1160,1161,1162,1163,1164,1165,1166,1167,1168,1169,1170,1171,1172,1173,1174,1175,1176,1177,1178,1179,1180,1181,1182,1183,1184,1185,1186,1187,1188,1189,1190,1191,1192,1193,1194,1195,1196,1197,1198,1199,1200,1201,1202,1203,1204,1205,1206,1207,1208,1209,1210,1211,1212,1213,1214,1215,1216,1217,1218,1219,1220,1221,1222,1223,1224,1225,1226,1227,1228,1229,1230,1231,1232,1233,1234,1235,1236,1237,1238,1239,1240,1241,1242,1243,1244,1245,1246,1247,1248,1249,1250,1251,1252,1253,1254,1255,1256,1257,1258,1259,1260,1261,1262,1263,1264,1265,1266,1267,1268,1269,1270,1271,1272,1273,1274,1275,1276,1277,1278,1279,1280,1281,1282,1283,1284,1285,1286,1287,1288,1289,1290,1291,1292,1293,1294,1295,1296,1297,1298,1299,1300,1301,1302,1303,1304,1305,1306,1307,1308,1309,1310,1311,1312,1313,1314,1315,1316,1317,1318,1319,1320,1321,1322,1323,1324,1325,1326,1327,1328,1329,1330,1331,1332,1333,1334,1335,1336],\"y\":[82.589996,83.12000300000001,83.160004,82.73000300000001,83.650002,85.050003,86.839996,83.84999800000001,85.59999800000001,86.80999800000001,87.83000199999998,88.550003,87.760002,87.959999,87.02999900000002,85.129997,82.260002,82.29000100000002,84.639999,87.19999700000001,85.25000000000001,86.410004,88.190002,91.699997,90.309998,91.690002,84.459999,85.019997,86.790001,86.300003,88.86000099999998,90.949997,92.11000100000001,90.650002,91.139999,91.860001,93.889999,94.400002,96.300003,96.639999,97.589996,96.0,97.839996,97.669998,99.089996,98.83999600000001,103.37000299999998,104.589996,102.330002,100.459999,95.849998,96.099998,94.889999,91.389999,86.120003,91.480003,87.86000100000001,85.209999,86.900002,89.029999,91.5,88.12000299999998,85.639999,87.55000300000002,84.80999800000001,83.279999,85.940002,86.08000200000001,85.639999,84.50000000000001,84.839996,83.139999,84.540001,86.099998,88.269997,89.23999800000001,87.74999999999999,87.08000200000001,89.980003,89.629997,91.57,92.63999899999999,96.93,94.48000300000001,94.07,91.019997,87.19000200000002,88.449997,88.94999700000001,90.589996,91.44999700000001,93.19000199999999,94.0,92.32,91.459999,92.199997,94.379997,94.080002,94.010002,97.99999999999999,98.580002,99.089996,97.870003,100.120003,96.309998,95.58999599999999,93.870003,95.58999599999999,94.94999699999998,94.139999,94.910004,96.5,97.610001,95.33000200000001,97.669998,94.830002,93.209999,93.19999700000001,92.440002,90.949997,90.57,85.75,83.980003,85.739998,88.86000099999998,88.68000000000002,87.309998,91.91999800000002,95.269997,99.12000299999998,102.059998,101.029999,98.83999600000001,97.99999999999999,98.43,101.870003,99.190002,100.620003,100.80000300000002,103.790001,103.93000000000002,105.860001,106.599998,105.879997,107.13999899999999,107.550003,110.699997,110.809998,111.910004,109.610001,111.099998,112.309998,113.639999,114.00000000000001,108.900002,110.5,113.949997,113.370003,114.129997,112.91000400000001,113.059998,112.080002,110.970001,114.17999999999999,113.610001,113.209999,109.809998,110.540001,111.339996,110.800003,109.86000100000001,106.849998,103.879997,103.650002,104.419998,103.540001,106.089996,107.24999999999999,106.459999,105.440002,104.699997,105.169998,106.69000199999999,108.059998,105.879997,108.68,110.190002,108.379997,109.19999700000001,110.30000299999999,106.51000200000001,106.82,109.209999,110.529999,108.470001,110.089996,111.370003,113.220001,113.150002,112.93,110.610001,111.32000000000001,113.349998,112.760002,113.80999799999998,113.209999,117.760002,115.610001,113.559998,116.010002,114.73999799999999,111.15000199999999,111.919998,111.730003,114.91999799999999,113.91999800000002,114.34999800000001,119.16999799999999,117.80000300000002,116.419998,116.07,115.73000299999998,111.279999,111.169998,109.73000300000001,110.739998,110.75,110.550003,109.910004,110.889999,111.400002,112.80999800000001,113.80999799999998,111.61000100000001,109.980003,109.129997,107.779999,106.540001,106.940002,101.62000300000001,101.029999,99.83999599999999,102.44999700000001,107.040001,104.589996,103.410004,103.529999,105.800003,107.120003,108.959999,109.489998,109.66000399999999,116.12999700000002,115.019997,116.989998,115.050003,114.540001,115.349998,115.230003,115.76999699999999,116.050003,114.699997,116.94000199999999,116.57,115.639999,116.010002,118.199997,116.51999700000002],\"type\":\"scatter\"},{\"marker\":{\"color\":\"#9569BE\",\"size\":4},\"mode\":\"lines+markers\",\"name\":\"ValidatePred\",\"x\":[1069,1070,1071,1072,1073,1074,1075,1076,1077,1078,1079,1080,1081,1082,1083,1084,1085,1086,1087,1088,1089,1090,1091,1092,1093,1094,1095,1096,1097,1098,1099,1100,1101,1102,1103,1104,1105,1106,1107,1108,1109,1110,1111,1112,1113,1114,1115,1116,1117,1118,1119,1120,1121,1122,1123,1124,1125,1126,1127,1128,1129,1130,1131,1132,1133,1134,1135,1136,1137,1138,1139,1140,1141,1142,1143,1144,1145,1146,1147,1148,1149,1150,1151,1152,1153,1154,1155,1156,1157,1158,1159,1160,1161,1162,1163,1164,1165,1166,1167,1168,1169,1170,1171,1172,1173,1174,1175,1176,1177,1178,1179,1180,1181,1182,1183,1184,1185,1186,1187,1188,1189,1190,1191,1192,1193,1194,1195,1196,1197,1198,1199,1200,1201,1202,1203,1204,1205,1206,1207,1208,1209,1210,1211,1212,1213,1214,1215,1216,1217,1218,1219,1220,1221,1222,1223,1224,1225,1226,1227,1228,1229,1230,1231,1232,1233,1234,1235,1236,1237,1238,1239,1240,1241,1242,1243,1244,1245,1246,1247,1248,1249,1250,1251,1252,1253,1254,1255,1256,1257,1258,1259,1260,1261,1262,1263,1264,1265,1266,1267,1268,1269,1270,1271,1272,1273,1274,1275,1276,1277,1278,1279,1280,1281,1282,1283,1284,1285,1286,1287,1288,1289,1290,1291,1292,1293,1294,1295,1296,1297,1298,1299,1300,1301,1302,1303,1304,1305,1306,1307,1308,1309,1310,1311,1312,1313,1314,1315,1316,1317,1318,1319,1320,1321,1322,1323,1324,1325,1326,1327,1328,1329,1330,1331,1332,1333,1334,1335,1336],\"y\":[84.18917083740234,83.7507095336914,83.42504119873047,83.219482421875,82.98302459716797,83.06278991699219,83.66507720947266,84.86312103271484,85.13133239746094,85.4625244140625,86.06848907470703,86.91796112060547,87.84844207763672,88.3208999633789,88.51988983154297,88.24883270263672,87.26737213134766,85.38397979736328,83.61750793457031,83.04035949707031,83.87842559814453,84.56690216064453,85.40953826904297,86.64522552490234,88.77320861816406,90.30223846435547,91.58320617675781,90.22083282470703,88.26126098632812,87.02191162109375,86.22224426269531,86.57726287841797,87.95916748046875,89.78842163085938,90.91604614257812,91.61032104492188,92.133544921875,93.02465057373047,93.95033264160156,95.19206237792969,96.30317687988281,97.32254028320312,97.50736999511719,97.82798767089844,98.0174331665039,98.50896453857422,98.88854217529297,100.50021362304688,102.53247833251953,103.47885131835938,103.13533782958984,100.90348052978516,98.56793975830078,96.41352844238281,93.85691833496094,90.28211975097656,88.91349029541016,87.77495574951172,86.35881805419922,85.79431915283203,86.43162536621094,88.21022033691406,89.05876159667969,88.60636901855469,88.29627227783203,87.28298950195312,85.7806167602539,85.23271942138672,85.25264739990234,85.39203643798828,85.22916412353516,85.09528350830078,84.51111602783203,84.30668640136719,84.76805877685547,86.03408813476562,87.60508728027344,88.45791625976562,88.57962799072266,89.19273376464844,89.70130920410156,90.58708953857422,91.68583679199219,93.84921264648438,95.1086654663086,95.51679992675781,94.49396514892578,91.96167755126953,89.82584381103516,88.53215026855469,88.42990112304688,89.14794921875,90.59761810302734,92.26207733154297,93.10311126708984,93.13235473632812,93.02167510986328,93.50634002685547,93.98930358886719,94.31103515625,95.6734848022461,97.25170135498047,98.64241790771484,99.18436431884766,99.88957214355469,99.24726867675781,97.98583221435547,96.24825286865234,95.28998565673828,94.70510864257812,94.21537780761719,94.16827392578125,94.83207702636719,95.98229217529297,96.36156463623047,97.05896759033203,96.81951141357422,95.76854705810547,94.64659118652344,93.54627227783203,92.29972076416016,91.22666931152344,89.08895111083984,86.59790802001953,85.16413116455078,85.49950408935547,86.49519348144531,87.17872619628906,88.9735107421875,91.77750396728516,95.43467712402344,99.35498046875,101.96643829345703,102.5749282836914,101.82608032226562,100.73329162597656,100.7474594116211,100.30426788330078,100.22432708740234,100.34977722167969,101.4525146484375,102.69993591308594,104.28555297851562,105.80449676513672,106.64530181884766,107.35553741455078,107.90403747558594,109.1915283203125,110.41069030761719,111.59002685546875,111.65925598144531,111.71524047851562,112.08528137207031,112.86880493164062,113.69336700439453,112.66509246826172,111.71345520019531,112.12152099609375,112.75511932373047,113.5710220336914,113.85247802734375,113.90282440185547,113.52584838867188,112.72711944580078,113.00679779052734,113.43675994873047,113.6977767944336,112.74382781982422,111.8265151977539,111.42109680175781,111.16291046142578,110.75885009765625,109.47932434082031,107.30146789550781,105.32243347167969,104.2260971069336,103.5459213256836,104.07618713378906,105.35944366455078,106.39869689941406,106.76969909667969,106.54239654541016,106.26667022705078,106.4950942993164,107.26842498779297,107.34827423095703,108.00743865966797,109.16032409667969,109.60202026367188,109.88699340820312,110.34376525878906,109.5108642578125,108.48883819580078,108.39852142333984,109.10445404052734,109.29264831542969,109.76103210449219,110.6121597290039,111.96533203125,113.11170196533203,113.77703094482422,113.3001708984375,112.70684051513672,112.83821105957031,113.00245666503906,113.47161865234375,113.73345947265625,115.30216979980469,116.23381042480469,116.00479888916016,116.1584701538086,115.96656799316406,114.53054809570312,113.26058959960938,112.33417510986328,112.83504486083984,113.4570083618164,114.13884735107422,116.2243881225586,117.82929229736328,118.35749053955078,118.17743682861328,117.61430358886719,115.5838394165039,113.50981140136719,111.5188980102539,110.45744323730469,110.09422302246094,110.105224609375,110.12100982666016,110.4985122680664,111.10774993896484,112.11132049560547,113.31697845458984,113.55883026123047,112.82410430908203,111.6094741821289,110.08332824707031,108.45230102539062,107.36200714111328,105.1326904296875,102.94071960449219,101.02782440185547,100.61052703857422,102.38943481445312,103.88058471679688,104.5608139038086,104.78923034667969,105.46753692626953,106.52243041992188,107.99144744873047,109.35722351074219,110.3221664428711,112.86455535888672,114.89993286132812,116.75682067871094,117.31976318359375,116.9831314086914,116.56912231445312,116.13322448730469,115.9488754272461,115.98751831054688,115.66957092285156,116.0399169921875,116.4577865600586,116.49959564208984,116.51909637451172,117.23377227783203],\"type\":\"scatter\"},{\"marker\":{\"color\":\"#000000\",\"size\":4},\"mode\":\"lines+markers\",\"name\":\"Next30Days\",\"x\":[1337,1338,1339,1340,1341,1342,1343,1344,1345,1346,1347,1348,1349,1350,1351,1352,1353,1354,1355,1356,1357,1358,1359,1360,1361,1362,1363,1364,1365,1366],\"y\":[117.47261150714685,117.78205096256372,118.12211908381083,118.4814804411306,118.85459803262576,119.23788509408332,119.6288319362581,120.02544649331166,120.42622295169689,120.83007377940751,121.23623561263146,121.64421697055819,122.05380871241726,122.46495855301609,122.87782334793248,123.29259132385982,123.70961802010788,124.12915440560116,124.5516501329961,124.9773979993713,125.40672217292096,125.83994682183923,126.27727062985804,126.7189968510945,127.1652509700109,127.61614801403095,128.0718448387325,128.53240418634667,128.99787834206606,129.46829867700626],\"type\":\"scatter\"}],                        {\"template\":{\"data\":{\"histogram2dcontour\":[{\"type\":\"histogram2dcontour\",\"colorbar\":{\"outlinewidth\":0,\"ticks\":\"\"},\"colorscale\":[[0.0,\"#0d0887\"],[0.1111111111111111,\"#46039f\"],[0.2222222222222222,\"#7201a8\"],[0.3333333333333333,\"#9c179e\"],[0.4444444444444444,\"#bd3786\"],[0.5555555555555556,\"#d8576b\"],[0.6666666666666666,\"#ed7953\"],[0.7777777777777778,\"#fb9f3a\"],[0.8888888888888888,\"#fdca26\"],[1.0,\"#f0f921\"]]}],\"choropleth\":[{\"type\":\"choropleth\",\"colorbar\":{\"outlinewidth\":0,\"ticks\":\"\"}}],\"histogram2d\":[{\"type\":\"histogram2d\",\"colorbar\":{\"outlinewidth\":0,\"ticks\":\"\"},\"colorscale\":[[0.0,\"#0d0887\"],[0.1111111111111111,\"#46039f\"],[0.2222222222222222,\"#7201a8\"],[0.3333333333333333,\"#9c179e\"],[0.4444444444444444,\"#bd3786\"],[0.5555555555555556,\"#d8576b\"],[0.6666666666666666,\"#ed7953\"],[0.7777777777777778,\"#fb9f3a\"],[0.8888888888888888,\"#fdca26\"],[1.0,\"#f0f921\"]]}],\"heatmap\":[{\"type\":\"heatmap\",\"colorbar\":{\"outlinewidth\":0,\"ticks\":\"\"},\"colorscale\":[[0.0,\"#0d0887\"],[0.1111111111111111,\"#46039f\"],[0.2222222222222222,\"#7201a8\"],[0.3333333333333333,\"#9c179e\"],[0.4444444444444444,\"#bd3786\"],[0.5555555555555556,\"#d8576b\"],[0.6666666666666666,\"#ed7953\"],[0.7777777777777778,\"#fb9f3a\"],[0.8888888888888888,\"#fdca26\"],[1.0,\"#f0f921\"]]}],\"heatmapgl\":[{\"type\":\"heatmapgl\",\"colorbar\":{\"outlinewidth\":0,\"ticks\":\"\"},\"colorscale\":[[0.0,\"#0d0887\"],[0.1111111111111111,\"#46039f\"],[0.2222222222222222,\"#7201a8\"],[0.3333333333333333,\"#9c179e\"],[0.4444444444444444,\"#bd3786\"],[0.5555555555555556,\"#d8576b\"],[0.6666666666666666,\"#ed7953\"],[0.7777777777777778,\"#fb9f3a\"],[0.8888888888888888,\"#fdca26\"],[1.0,\"#f0f921\"]]}],\"contourcarpet\":[{\"type\":\"contourcarpet\",\"colorbar\":{\"outlinewidth\":0,\"ticks\":\"\"}}],\"contour\":[{\"type\":\"contour\",\"colorbar\":{\"outlinewidth\":0,\"ticks\":\"\"},\"colorscale\":[[0.0,\"#0d0887\"],[0.1111111111111111,\"#46039f\"],[0.2222222222222222,\"#7201a8\"],[0.3333333333333333,\"#9c179e\"],[0.4444444444444444,\"#bd3786\"],[0.5555555555555556,\"#d8576b\"],[0.6666666666666666,\"#ed7953\"],[0.7777777777777778,\"#fb9f3a\"],[0.8888888888888888,\"#fdca26\"],[1.0,\"#f0f921\"]]}],\"surface\":[{\"type\":\"surface\",\"colorbar\":{\"outlinewidth\":0,\"ticks\":\"\"},\"colorscale\":[[0.0,\"#0d0887\"],[0.1111111111111111,\"#46039f\"],[0.2222222222222222,\"#7201a8\"],[0.3333333333333333,\"#9c179e\"],[0.4444444444444444,\"#bd3786\"],[0.5555555555555556,\"#d8576b\"],[0.6666666666666666,\"#ed7953\"],[0.7777777777777778,\"#fb9f3a\"],[0.8888888888888888,\"#fdca26\"],[1.0,\"#f0f921\"]]}],\"mesh3d\":[{\"type\":\"mesh3d\",\"colorbar\":{\"outlinewidth\":0,\"ticks\":\"\"}}],\"scatter\":[{\"fillpattern\":{\"fillmode\":\"overlay\",\"size\":10,\"solidity\":0.2},\"type\":\"scatter\"}],\"parcoords\":[{\"type\":\"parcoords\",\"line\":{\"colorbar\":{\"outlinewidth\":0,\"ticks\":\"\"}}}],\"scatterpolargl\":[{\"type\":\"scatterpolargl\",\"marker\":{\"colorbar\":{\"outlinewidth\":0,\"ticks\":\"\"}}}],\"bar\":[{\"error_x\":{\"color\":\"#2a3f5f\"},\"error_y\":{\"color\":\"#2a3f5f\"},\"marker\":{\"line\":{\"color\":\"#E5ECF6\",\"width\":0.5},\"pattern\":{\"fillmode\":\"overlay\",\"size\":10,\"solidity\":0.2}},\"type\":\"bar\"}],\"scattergeo\":[{\"type\":\"scattergeo\",\"marker\":{\"colorbar\":{\"outlinewidth\":0,\"ticks\":\"\"}}}],\"scatterpolar\":[{\"type\":\"scatterpolar\",\"marker\":{\"colorbar\":{\"outlinewidth\":0,\"ticks\":\"\"}}}],\"histogram\":[{\"marker\":{\"pattern\":{\"fillmode\":\"overlay\",\"size\":10,\"solidity\":0.2}},\"type\":\"histogram\"}],\"scattergl\":[{\"type\":\"scattergl\",\"marker\":{\"colorbar\":{\"outlinewidth\":0,\"ticks\":\"\"}}}],\"scatter3d\":[{\"type\":\"scatter3d\",\"line\":{\"colorbar\":{\"outlinewidth\":0,\"ticks\":\"\"}},\"marker\":{\"colorbar\":{\"outlinewidth\":0,\"ticks\":\"\"}}}],\"scattermapbox\":[{\"type\":\"scattermapbox\",\"marker\":{\"colorbar\":{\"outlinewidth\":0,\"ticks\":\"\"}}}],\"scatterternary\":[{\"type\":\"scatterternary\",\"marker\":{\"colorbar\":{\"outlinewidth\":0,\"ticks\":\"\"}}}],\"scattercarpet\":[{\"type\":\"scattercarpet\",\"marker\":{\"colorbar\":{\"outlinewidth\":0,\"ticks\":\"\"}}}],\"carpet\":[{\"aaxis\":{\"endlinecolor\":\"#2a3f5f\",\"gridcolor\":\"white\",\"linecolor\":\"white\",\"minorgridcolor\":\"white\",\"startlinecolor\":\"#2a3f5f\"},\"baxis\":{\"endlinecolor\":\"#2a3f5f\",\"gridcolor\":\"white\",\"linecolor\":\"white\",\"minorgridcolor\":\"white\",\"startlinecolor\":\"#2a3f5f\"},\"type\":\"carpet\"}],\"table\":[{\"cells\":{\"fill\":{\"color\":\"#EBF0F8\"},\"line\":{\"color\":\"white\"}},\"header\":{\"fill\":{\"color\":\"#C8D4E3\"},\"line\":{\"color\":\"white\"}},\"type\":\"table\"}],\"barpolar\":[{\"marker\":{\"line\":{\"color\":\"#E5ECF6\",\"width\":0.5},\"pattern\":{\"fillmode\":\"overlay\",\"size\":10,\"solidity\":0.2}},\"type\":\"barpolar\"}],\"pie\":[{\"automargin\":true,\"type\":\"pie\"}]},\"layout\":{\"autotypenumbers\":\"strict\",\"colorway\":[\"#636efa\",\"#EF553B\",\"#00cc96\",\"#ab63fa\",\"#FFA15A\",\"#19d3f3\",\"#FF6692\",\"#B6E880\",\"#FF97FF\",\"#FECB52\"],\"font\":{\"color\":\"#2a3f5f\"},\"hovermode\":\"closest\",\"hoverlabel\":{\"align\":\"left\"},\"paper_bgcolor\":\"white\",\"plot_bgcolor\":\"#E5ECF6\",\"polar\":{\"bgcolor\":\"#E5ECF6\",\"angularaxis\":{\"gridcolor\":\"white\",\"linecolor\":\"white\",\"ticks\":\"\"},\"radialaxis\":{\"gridcolor\":\"white\",\"linecolor\":\"white\",\"ticks\":\"\"}},\"ternary\":{\"bgcolor\":\"#E5ECF6\",\"aaxis\":{\"gridcolor\":\"white\",\"linecolor\":\"white\",\"ticks\":\"\"},\"baxis\":{\"gridcolor\":\"white\",\"linecolor\":\"white\",\"ticks\":\"\"},\"caxis\":{\"gridcolor\":\"white\",\"linecolor\":\"white\",\"ticks\":\"\"}},\"coloraxis\":{\"colorbar\":{\"outlinewidth\":0,\"ticks\":\"\"}},\"colorscale\":{\"sequential\":[[0.0,\"#0d0887\"],[0.1111111111111111,\"#46039f\"],[0.2222222222222222,\"#7201a8\"],[0.3333333333333333,\"#9c179e\"],[0.4444444444444444,\"#bd3786\"],[0.5555555555555556,\"#d8576b\"],[0.6666666666666666,\"#ed7953\"],[0.7777777777777778,\"#fb9f3a\"],[0.8888888888888888,\"#fdca26\"],[1.0,\"#f0f921\"]],\"sequentialminus\":[[0.0,\"#0d0887\"],[0.1111111111111111,\"#46039f\"],[0.2222222222222222,\"#7201a8\"],[0.3333333333333333,\"#9c179e\"],[0.4444444444444444,\"#bd3786\"],[0.5555555555555556,\"#d8576b\"],[0.6666666666666666,\"#ed7953\"],[0.7777777777777778,\"#fb9f3a\"],[0.8888888888888888,\"#fdca26\"],[1.0,\"#f0f921\"]],\"diverging\":[[0,\"#8e0152\"],[0.1,\"#c51b7d\"],[0.2,\"#de77ae\"],[0.3,\"#f1b6da\"],[0.4,\"#fde0ef\"],[0.5,\"#f7f7f7\"],[0.6,\"#e6f5d0\"],[0.7,\"#b8e186\"],[0.8,\"#7fbc41\"],[0.9,\"#4d9221\"],[1,\"#276419\"]]},\"xaxis\":{\"gridcolor\":\"white\",\"linecolor\":\"white\",\"ticks\":\"\",\"title\":{\"standoff\":15},\"zerolinecolor\":\"white\",\"automargin\":true,\"zerolinewidth\":2},\"yaxis\":{\"gridcolor\":\"white\",\"linecolor\":\"white\",\"ticks\":\"\",\"title\":{\"standoff\":15},\"zerolinecolor\":\"white\",\"automargin\":true,\"zerolinewidth\":2},\"scene\":{\"xaxis\":{\"backgroundcolor\":\"#E5ECF6\",\"gridcolor\":\"white\",\"linecolor\":\"white\",\"showbackground\":true,\"ticks\":\"\",\"zerolinecolor\":\"white\",\"gridwidth\":2},\"yaxis\":{\"backgroundcolor\":\"#E5ECF6\",\"gridcolor\":\"white\",\"linecolor\":\"white\",\"showbackground\":true,\"ticks\":\"\",\"zerolinecolor\":\"white\",\"gridwidth\":2},\"zaxis\":{\"backgroundcolor\":\"#E5ECF6\",\"gridcolor\":\"white\",\"linecolor\":\"white\",\"showbackground\":true,\"ticks\":\"\",\"zerolinecolor\":\"white\",\"gridwidth\":2}},\"shapedefaults\":{\"line\":{\"color\":\"#2a3f5f\"}},\"annotationdefaults\":{\"arrowcolor\":\"#2a3f5f\",\"arrowhead\":0,\"arrowwidth\":1},\"geo\":{\"bgcolor\":\"white\",\"landcolor\":\"#E5ECF6\",\"subunitcolor\":\"white\",\"showland\":true,\"showlakes\":true,\"lakecolor\":\"white\"},\"title\":{\"x\":0.05},\"mapbox\":{\"style\":\"light\"}}},\"legend\":{\"orientation\":\"h\",\"x\":0.5,\"xanchor\":\"center\"},\"xaxis\":{\"gridcolor\":\"lightgrey\",\"title\":{\"text\":\"Timestep\"}},\"yaxis\":{\"gridcolor\":\"lightgrey\",\"title\":{\"text\":\"Stock price\"}},\"title\":{\"text\":\"LSTM 6:2:2 (XOM Stock Price)\",\"x\":0.5},\"margin\":{\"l\":0,\"r\":0,\"t\":30,\"b\":0},\"plot_bgcolor\":\"#FFFFFF\"},                        {\"responsive\": true}                    ).then(function(){\n",
              "                            \n",
              "var gd = document.getElementById('3b392c56-e165-45a3-a1d2-51d537e6107a');\n",
              "var x = new MutationObserver(function (mutations, observer) {{\n",
              "        var display = window.getComputedStyle(gd).display;\n",
              "        if (!display || display === 'none') {{\n",
              "            console.log([gd, 'removed!']);\n",
              "            Plotly.purge(gd);\n",
              "            observer.disconnect();\n",
              "        }}\n",
              "}});\n",
              "\n",
              "// Listen for the removal of the full notebook cells\n",
              "var notebookContainer = gd.closest('#notebook-container');\n",
              "if (notebookContainer) {{\n",
              "    x.observe(notebookContainer, {childList: true});\n",
              "}}\n",
              "\n",
              "// Listen for the clearing of the current output cell\n",
              "var outputEl = gd.closest('.output');\n",
              "if (outputEl) {{\n",
              "    x.observe(outputEl, {childList: true});\n",
              "}}\n",
              "\n",
              "                        })                };                            </script>        </div>\n",
              "</body>\n",
              "</html>"
            ]
          },
          "metadata": {}
        }
      ]
    }
  ]
}