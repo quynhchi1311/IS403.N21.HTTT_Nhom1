{
  "nbformat": 4,
  "nbformat_minor": 0,
  "metadata": {
    "colab": {
      "provenance": []
    },
    "kernelspec": {
      "name": "python3",
      "display_name": "Python 3"
    },
    "language_info": {
      "name": "python"
    }
  },
  "cells": [
    {
      "cell_type": "markdown",
      "source": [
        "**DATA PREPARATION**"
      ],
      "metadata": {
        "id": "4w7KzhlSASHN"
      }
    },
    {
      "cell_type": "markdown",
      "source": [
        "\n",
        "\n",
        "*   Import Packages\n",
        "\n"
      ],
      "metadata": {
        "id": "UzfCedliy6kB"
      }
    },
    {
      "cell_type": "code",
      "execution_count": null,
      "metadata": {
        "id": "DJvq4_oIyN4X"
      },
      "outputs": [],
      "source": [
        "import numpy as np\n",
        "import pandas as pd\n",
        "from sklearn.preprocessing import MinMaxScaler\n",
        "import matplotlib.pyplot as plt\n",
        "import math"
      ]
    },
    {
      "cell_type": "markdown",
      "source": [
        "\n",
        "\n",
        "*   Read data from a CSV file\n",
        "\n"
      ],
      "metadata": {
        "id": "2MOt0XOczD8J"
      }
    },
    {
      "cell_type": "code",
      "source": [
        "data = pd.read_csv('/content/drive/MyDrive/Colab Notebooks/XOM.csv')"
      ],
      "metadata": {
        "id": "ONvCXaTJzJtn"
      },
      "execution_count": null,
      "outputs": []
    },
    {
      "cell_type": "code",
      "source": [
        "data.head()"
      ],
      "metadata": {
        "colab": {
          "base_uri": "https://localhost:8080/"
        },
        "id": "Zr8u2xNp1CIz",
        "outputId": "35d4771b-47aa-47ae-aea5-b4d689883ccd"
      },
      "execution_count": null,
      "outputs": [
        {
          "output_type": "execute_result",
          "data": {
            "text/plain": [
              "         Date       Open       High        Low      Close  Adj Close    Volume\n",
              "0  2018-01-02  83.820000  85.199997  83.660004  85.029999  64.879845  11469300\n",
              "1  2018-01-03  85.160004  86.970001  84.820000  86.699997  66.154083  13957700\n",
              "2  2018-01-04  86.790001  87.220001  86.430000  86.820000  66.245667  10863000\n",
              "3  2018-01-05  86.750000  86.879997  85.709999  86.750000  66.192230  11047600\n",
              "4  2018-01-08  86.699997  87.150002  86.599998  87.139999  66.489830  10927100"
            ],
            "text/html": [
              "\n",
              "  <div id=\"df-d7bb6fa7-45f8-4cec-ac3a-81007651fbaf\">\n",
              "    <div class=\"colab-df-container\">\n",
              "      <div>\n",
              "<style scoped>\n",
              "    .dataframe tbody tr th:only-of-type {\n",
              "        vertical-align: middle;\n",
              "    }\n",
              "\n",
              "    .dataframe tbody tr th {\n",
              "        vertical-align: top;\n",
              "    }\n",
              "\n",
              "    .dataframe thead th {\n",
              "        text-align: right;\n",
              "    }\n",
              "</style>\n",
              "<table border=\"1\" class=\"dataframe\">\n",
              "  <thead>\n",
              "    <tr style=\"text-align: right;\">\n",
              "      <th></th>\n",
              "      <th>Date</th>\n",
              "      <th>Open</th>\n",
              "      <th>High</th>\n",
              "      <th>Low</th>\n",
              "      <th>Close</th>\n",
              "      <th>Adj Close</th>\n",
              "      <th>Volume</th>\n",
              "    </tr>\n",
              "  </thead>\n",
              "  <tbody>\n",
              "    <tr>\n",
              "      <th>0</th>\n",
              "      <td>2018-01-02</td>\n",
              "      <td>83.820000</td>\n",
              "      <td>85.199997</td>\n",
              "      <td>83.660004</td>\n",
              "      <td>85.029999</td>\n",
              "      <td>64.879845</td>\n",
              "      <td>11469300</td>\n",
              "    </tr>\n",
              "    <tr>\n",
              "      <th>1</th>\n",
              "      <td>2018-01-03</td>\n",
              "      <td>85.160004</td>\n",
              "      <td>86.970001</td>\n",
              "      <td>84.820000</td>\n",
              "      <td>86.699997</td>\n",
              "      <td>66.154083</td>\n",
              "      <td>13957700</td>\n",
              "    </tr>\n",
              "    <tr>\n",
              "      <th>2</th>\n",
              "      <td>2018-01-04</td>\n",
              "      <td>86.790001</td>\n",
              "      <td>87.220001</td>\n",
              "      <td>86.430000</td>\n",
              "      <td>86.820000</td>\n",
              "      <td>66.245667</td>\n",
              "      <td>10863000</td>\n",
              "    </tr>\n",
              "    <tr>\n",
              "      <th>3</th>\n",
              "      <td>2018-01-05</td>\n",
              "      <td>86.750000</td>\n",
              "      <td>86.879997</td>\n",
              "      <td>85.709999</td>\n",
              "      <td>86.750000</td>\n",
              "      <td>66.192230</td>\n",
              "      <td>11047600</td>\n",
              "    </tr>\n",
              "    <tr>\n",
              "      <th>4</th>\n",
              "      <td>2018-01-08</td>\n",
              "      <td>86.699997</td>\n",
              "      <td>87.150002</td>\n",
              "      <td>86.599998</td>\n",
              "      <td>87.139999</td>\n",
              "      <td>66.489830</td>\n",
              "      <td>10927100</td>\n",
              "    </tr>\n",
              "  </tbody>\n",
              "</table>\n",
              "</div>\n",
              "      <button class=\"colab-df-convert\" onclick=\"convertToInteractive('df-d7bb6fa7-45f8-4cec-ac3a-81007651fbaf')\"\n",
              "              title=\"Convert this dataframe to an interactive table.\"\n",
              "              style=\"display:none;\">\n",
              "        \n",
              "  <svg xmlns=\"http://www.w3.org/2000/svg\" height=\"24px\"viewBox=\"0 0 24 24\"\n",
              "       width=\"24px\">\n",
              "    <path d=\"M0 0h24v24H0V0z\" fill=\"none\"/>\n",
              "    <path d=\"M18.56 5.44l.94 2.06.94-2.06 2.06-.94-2.06-.94-.94-2.06-.94 2.06-2.06.94zm-11 1L8.5 8.5l.94-2.06 2.06-.94-2.06-.94L8.5 2.5l-.94 2.06-2.06.94zm10 10l.94 2.06.94-2.06 2.06-.94-2.06-.94-.94-2.06-.94 2.06-2.06.94z\"/><path d=\"M17.41 7.96l-1.37-1.37c-.4-.4-.92-.59-1.43-.59-.52 0-1.04.2-1.43.59L10.3 9.45l-7.72 7.72c-.78.78-.78 2.05 0 2.83L4 21.41c.39.39.9.59 1.41.59.51 0 1.02-.2 1.41-.59l7.78-7.78 2.81-2.81c.8-.78.8-2.07 0-2.86zM5.41 20L4 18.59l7.72-7.72 1.47 1.35L5.41 20z\"/>\n",
              "  </svg>\n",
              "      </button>\n",
              "      \n",
              "  <style>\n",
              "    .colab-df-container {\n",
              "      display:flex;\n",
              "      flex-wrap:wrap;\n",
              "      gap: 12px;\n",
              "    }\n",
              "\n",
              "    .colab-df-convert {\n",
              "      background-color: #E8F0FE;\n",
              "      border: none;\n",
              "      border-radius: 50%;\n",
              "      cursor: pointer;\n",
              "      display: none;\n",
              "      fill: #1967D2;\n",
              "      height: 32px;\n",
              "      padding: 0 0 0 0;\n",
              "      width: 32px;\n",
              "    }\n",
              "\n",
              "    .colab-df-convert:hover {\n",
              "      background-color: #E2EBFA;\n",
              "      box-shadow: 0px 1px 2px rgba(60, 64, 67, 0.3), 0px 1px 3px 1px rgba(60, 64, 67, 0.15);\n",
              "      fill: #174EA6;\n",
              "    }\n",
              "\n",
              "    [theme=dark] .colab-df-convert {\n",
              "      background-color: #3B4455;\n",
              "      fill: #D2E3FC;\n",
              "    }\n",
              "\n",
              "    [theme=dark] .colab-df-convert:hover {\n",
              "      background-color: #434B5C;\n",
              "      box-shadow: 0px 1px 3px 1px rgba(0, 0, 0, 0.15);\n",
              "      filter: drop-shadow(0px 1px 2px rgba(0, 0, 0, 0.3));\n",
              "      fill: #FFFFFF;\n",
              "    }\n",
              "  </style>\n",
              "\n",
              "      <script>\n",
              "        const buttonEl =\n",
              "          document.querySelector('#df-d7bb6fa7-45f8-4cec-ac3a-81007651fbaf button.colab-df-convert');\n",
              "        buttonEl.style.display =\n",
              "          google.colab.kernel.accessAllowed ? 'block' : 'none';\n",
              "\n",
              "        async function convertToInteractive(key) {\n",
              "          const element = document.querySelector('#df-d7bb6fa7-45f8-4cec-ac3a-81007651fbaf');\n",
              "          const dataTable =\n",
              "            await google.colab.kernel.invokeFunction('convertToInteractive',\n",
              "                                                     [key], {});\n",
              "          if (!dataTable) return;\n",
              "\n",
              "          const docLinkHtml = 'Like what you see? Visit the ' +\n",
              "            '<a target=\"_blank\" href=https://colab.research.google.com/notebooks/data_table.ipynb>data table notebook</a>'\n",
              "            + ' to learn more about interactive tables.';\n",
              "          element.innerHTML = '';\n",
              "          dataTable['output_type'] = 'display_data';\n",
              "          await google.colab.output.renderOutput(dataTable, element);\n",
              "          const docLink = document.createElement('div');\n",
              "          docLink.innerHTML = docLinkHtml;\n",
              "          element.appendChild(docLink);\n",
              "        }\n",
              "      </script>\n",
              "    </div>\n",
              "  </div>\n",
              "  "
            ]
          },
          "metadata": {},
          "execution_count": 3
        }
      ]
    },
    {
      "cell_type": "markdown",
      "source": [
        "\n",
        "\n",
        "*   Visualize the stock price history\n"
      ],
      "metadata": {
        "id": "uHHB9NrG_v4q"
      }
    },
    {
      "cell_type": "code",
      "source": [
        "data['Date'] = pd.to_datetime(data['Date'])\n",
        "data.set_index('Date', inplace=True)\n",
        "\n",
        "plt.figure(figsize=(15, 8))\n",
        "plt.title(' XOM Stock Prices History')\n",
        "plt.plot(data['Close'])\n",
        "plt.xlabel('Date')\n",
        "plt.ylabel('Prices ($)')"
      ],
      "metadata": {
        "colab": {
          "base_uri": "https://localhost:8080/"
        },
        "id": "-H8E_vWd_0fK",
        "outputId": "f987fbc7-8ac8-49df-ff54-e772d0758ea0"
      },
      "execution_count": null,
      "outputs": [
        {
          "output_type": "execute_result",
          "data": {
            "text/plain": [
              "Text(0, 0.5, 'Prices ($)')"
            ]
          },
          "metadata": {},
          "execution_count": 4
        },
        {
          "output_type": "display_data",
          "data": {
            "text/plain": [
              "<Figure size 1500x800 with 1 Axes>"
            ],
            "image/png": "[encoded data removed]"
          },
          "metadata": {}
        }
      ]
    },
    {
      "cell_type": "markdown",
      "source": [
        "**DATA PREPROCESSING**"
      ],
      "metadata": {
        "id": "qebVzTumyx6O"
      }
    },
    {
      "cell_type": "markdown",
      "source": [
        "\n",
        "\n",
        "*   Normalize data using the MinMaxScaler method\n",
        "\n",
        "\n"
      ],
      "metadata": {
        "id": "slDhNXid1hGd"
      }
    },
    {
      "cell_type": "code",
      "source": [
        "close_prices = data['Close']\n",
        "values = close_prices.values\n",
        "scaler = MinMaxScaler(feature_range=(0,1))\n",
        "scaled_data = scaler.fit_transform(values.reshape(-1,1))"
      ],
      "metadata": {
        "id": "FOgsefivFzDZ"
      },
      "execution_count": null,
      "outputs": []
    },
    {
      "cell_type": "markdown",
      "source": [
        "\n",
        "\n",
        "*   Split data into train, test, and validation sets with a ratio of 6:2:2\n",
        "\n",
        "\n"
      ],
      "metadata": {
        "id": "8_03S3p_1RxZ"
      }
    },
    {
      "cell_type": "code",
      "source": [
        "train_size = int(len(scaled_data) * 0.6)\n",
        "test_size = int(len(scaled_data) * 0.2)\n",
        "val_size = len(scaled_data) - train_size - test_size\n",
        "\n",
        "time_step = 60\n",
        "train_data = scaled_data[:train_size, :]\n",
        "test_data = scaled_data[train_size-time_step:train_size+test_size, :]\n",
        "val_data = scaled_data[train_size+test_size-time_step:, :]"
      ],
      "metadata": {
        "id": "o862GL5Z1ZBw"
      },
      "execution_count": null,
      "outputs": []
    },
    {
      "cell_type": "code",
      "source": [
        "print(\"Dataset size: \", len(values), \"\\n\")\n",
        "\n",
        "print(\"Train size: \", train_size)\n",
        "print(\"Test size: \", test_size)\n",
        "print(\"Valate size: \", val_size)"
      ],
      "metadata": {
        "colab": {
          "base_uri": "https://localhost:8080/"
        },
        "id": "VCW1wDSO4Fcp",
        "outputId": "ea6f3479-7ba4-437a-9974-7a932472956f"
      },
      "execution_count": null,
      "outputs": [
        {
          "output_type": "stream",
          "name": "stdout",
          "text": [
            "Dataset size:  1337 \n",
            "\n",
            "Train size:  802\n",
            "Test size:  267\n",
            "Valate size:  268\n"
          ]
        }
      ]
    },
    {
      "cell_type": "markdown",
      "source": [
        "\n",
        "\n",
        "*   Define the Create Dataset function\n"
      ],
      "metadata": {
        "id": "0spI-OJbFcmp"
      }
    },
    {
      "cell_type": "code",
      "source": [
        "def create_dataset(dataset, time_step):\n",
        "\tdataX, dataY = [], []\n",
        "\tfor i in range(len(dataset)-time_step):\n",
        "\t\ta = dataset[i:(i+time_step), 0]   ###i=0, X=0,1,2,3-----59   Y=60\n",
        "\t\tdataX.append(a)\n",
        "\t\tdataY.append(dataset[i + time_step, 0])\n",
        "\treturn np.array(dataX), np.array(dataY)"
      ],
      "metadata": {
        "id": "VqphtBgzFjH8"
      },
      "execution_count": null,
      "outputs": []
    },
    {
      "cell_type": "markdown",
      "source": [
        "\n",
        "\n",
        "*   Create train, test, and validation datasets\n",
        "\n"
      ],
      "metadata": {
        "id": "eb7YO7jaEV-r"
      }
    },
    {
      "cell_type": "code",
      "source": [
        "X_train, y_train = create_dataset(train_data, time_step)\n",
        "X_val, y_val = create_dataset(val_data, time_step)\n",
        "X_test, y_test = create_dataset(test_data, time_step)"
      ],
      "metadata": {
        "id": "yi7pOx3o6Qs7"
      },
      "execution_count": null,
      "outputs": []
    },
    {
      "cell_type": "markdown",
      "source": [
        "\n",
        "\n",
        "*   Reshape train, test, and validation data (required for LSTM)\n",
        "\n"
      ],
      "metadata": {
        "id": "PMSCGBZYE3fK"
      }
    },
    {
      "cell_type": "code",
      "source": [
        "X_train = np.reshape(X_train, (X_train.shape[0], X_train.shape[1], 1))\n",
        "X_val = np.reshape(X_val, (X_val.shape[0], X_val.shape[1], 1))\n",
        "X_test = np.reshape(X_test, (X_test.shape[0], X_test.shape[1], 1))"
      ],
      "metadata": {
        "id": "AY3lYGe5E45C"
      },
      "execution_count": null,
      "outputs": []
    },
    {
      "cell_type": "markdown",
      "source": [
        "**BUILD LSTM MODEL**"
      ],
      "metadata": {
        "id": "j8MaaR2k61-u"
      }
    },
    {
      "cell_type": "markdown",
      "source": [
        "\n",
        "\n",
        "*   Import Packages\n"
      ],
      "metadata": {
        "id": "E6wE5u6Y636f"
      }
    },
    {
      "cell_type": "code",
      "source": [
        "from keras.models import Sequential\n",
        "from keras.layers import LSTM\n",
        "from keras.layers import Dropout\n",
        "from keras.layers import Dense"
      ],
      "metadata": {
        "id": "M0AYf7Wy67zO"
      },
      "execution_count": null,
      "outputs": []
    },
    {
      "cell_type": "code",
      "source": [
        "model = Sequential()\n",
        "model.add(LSTM(100, return_sequences=True, input_shape=(X_train.shape[1], 1)))\n",
        "model.add(LSTM(100, return_sequences=False))\n",
        "model.add(Dense(50))\n",
        "model.add(Dense(1))\n",
        "model.summary()"
      ],
      "metadata": {
        "colab": {
          "base_uri": "https://localhost:8080/"
        },
        "id": "2-mlUXpz7QNy",
        "outputId": "c691e156-9f35-48fe-b2ea-337ead88c854"
      },
      "execution_count": null,
      "outputs": [
        {
          "output_type": "stream",
          "name": "stdout",
          "text": [
            "Model: \"sequential\"\n",
            "_________________________________________________________________\n",
            " Layer (type)                Output Shape              Param #   \n",
            "=================================================================\n",
            " lstm (LSTM)                 (None, 60, 100)           40800     \n",
            "                                                                 \n",
            " lstm_1 (LSTM)               (None, 100)               80400     \n",
            "                                                                 \n",
            " dense (Dense)               (None, 50)                5050      \n",
            "                                                                 \n",
            " dense_1 (Dense)             (None, 1)                 51        \n",
            "                                                                 \n",
            "=================================================================\n",
            "Total params: 126,301\n",
            "Trainable params: 126,301\n",
            "Non-trainable params: 0\n",
            "_________________________________________________________________\n"
          ]
        }
      ]
    },
    {
      "cell_type": "markdown",
      "source": [
        "*This LSTM model has two LSTM layers with 100 units each, connected to two Dense layers with 50 and 1 unit, respectively.*"
      ],
      "metadata": {
        "id": "KgnQRfzJINHi"
      }
    },
    {
      "cell_type": "markdown",
      "source": [
        "**TRAIN THE MODEL**"
      ],
      "metadata": {
        "id": "Io5GqBkA-bP3"
      }
    },
    {
      "cell_type": "markdown",
      "source": [
        "\n",
        "\n",
        "*   Fit the model with the train data\n",
        "\n"
      ],
      "metadata": {
        "id": "fsNQsjVeJBFw"
      }
    },
    {
      "cell_type": "code",
      "source": [
        "model.compile(optimizer='adam', loss='mean_squared_error')\n",
        "model.fit(X_train, y_train, batch_size=32, epochs=50)"
      ],
      "metadata": {
        "colab": {
          "base_uri": "https://localhost:8080/"
        },
        "id": "NdD1TVYz-l5I",
        "outputId": "0ffbb89e-4af2-4ffe-d72e-96ce3fdef8e5"
      },
      "execution_count": null,
      "outputs": [
        {
          "output_type": "stream",
          "name": "stdout",
          "text": [
            "Epoch 1/50\n",
            "24/24 [==============================] - 17s 243ms/step - loss: 0.0228\n",
            "Epoch 2/50\n",
            "24/24 [==============================] - 6s 231ms/step - loss: 0.0024\n",
            "Epoch 3/50\n",
            "24/24 [==============================] - 5s 210ms/step - loss: 0.0010\n",
            "Epoch 4/50\n",
            "24/24 [==============================] - 6s 253ms/step - loss: 9.3760e-04\n",
            "Epoch 5/50\n",
            "24/24 [==============================] - 3s 132ms/step - loss: 9.1693e-04\n",
            "Epoch 6/50\n",
            "24/24 [==============================] - 2s 103ms/step - loss: 8.4562e-04\n",
            "Epoch 7/50\n",
            "24/24 [==============================] - 2s 103ms/step - loss: 8.6846e-04\n",
            "Epoch 8/50\n",
            "24/24 [==============================] - 2s 104ms/step - loss: 7.6546e-04\n",
            "Epoch 9/50\n",
            "24/24 [==============================] - 4s 160ms/step - loss: 7.7095e-04\n",
            "Epoch 10/50\n",
            "24/24 [==============================] - 3s 121ms/step - loss: 6.9156e-04\n",
            "Epoch 11/50\n",
            "24/24 [==============================] - 2s 104ms/step - loss: 6.5620e-04\n",
            "Epoch 12/50\n",
            "24/24 [==============================] - 2s 103ms/step - loss: 6.7928e-04\n",
            "Epoch 13/50\n",
            "24/24 [==============================] - 2s 102ms/step - loss: 6.8002e-04\n",
            "Epoch 14/50\n",
            "24/24 [==============================] - 3s 146ms/step - loss: 5.8806e-04\n",
            "Epoch 15/50\n",
            "24/24 [==============================] - 3s 132ms/step - loss: 6.2968e-04\n",
            "Epoch 16/50\n",
            "24/24 [==============================] - 2s 102ms/step - loss: 6.3583e-04\n",
            "Epoch 17/50\n",
            "24/24 [==============================] - 2s 102ms/step - loss: 5.4210e-04\n",
            "Epoch 18/50\n",
            "24/24 [==============================] - 2s 101ms/step - loss: 6.1666e-04\n",
            "Epoch 19/50\n",
            "24/24 [==============================] - 3s 127ms/step - loss: 5.3363e-04\n",
            "Epoch 20/50\n",
            "24/24 [==============================] - 4s 154ms/step - loss: 5.0914e-04\n",
            "Epoch 21/50\n",
            "24/24 [==============================] - 2s 103ms/step - loss: 5.1272e-04\n",
            "Epoch 22/50\n",
            "24/24 [==============================] - 2s 103ms/step - loss: 6.0071e-04\n",
            "Epoch 23/50\n",
            "24/24 [==============================] - 2s 103ms/step - loss: 5.3164e-04\n",
            "Epoch 24/50\n",
            "24/24 [==============================] - 3s 112ms/step - loss: 5.4058e-04\n",
            "Epoch 25/50\n",
            "24/24 [==============================] - 4s 164ms/step - loss: 4.4955e-04\n",
            "Epoch 26/50\n",
            "24/24 [==============================] - 3s 106ms/step - loss: 4.7356e-04\n",
            "Epoch 27/50\n",
            "24/24 [==============================] - 2s 104ms/step - loss: 4.5672e-04\n",
            "Epoch 28/50\n",
            "24/24 [==============================] - 2s 103ms/step - loss: 4.4179e-04\n",
            "Epoch 29/50\n",
            "24/24 [==============================] - 2s 104ms/step - loss: 4.1906e-04\n",
            "Epoch 30/50\n",
            "24/24 [==============================] - 4s 161ms/step - loss: 4.0082e-04\n",
            "Epoch 31/50\n",
            "24/24 [==============================] - 3s 117ms/step - loss: 4.5358e-04\n",
            "Epoch 32/50\n",
            "24/24 [==============================] - 3s 103ms/step - loss: 4.6576e-04\n",
            "Epoch 33/50\n",
            "24/24 [==============================] - 2s 103ms/step - loss: 4.4790e-04\n",
            "Epoch 34/50\n",
            "24/24 [==============================] - 2s 103ms/step - loss: 3.7111e-04\n",
            "Epoch 35/50\n",
            "24/24 [==============================] - 4s 148ms/step - loss: 3.6875e-04\n",
            "Epoch 36/50\n",
            "24/24 [==============================] - 3s 131ms/step - loss: 4.2505e-04\n",
            "Epoch 37/50\n",
            "24/24 [==============================] - 2s 103ms/step - loss: 3.5744e-04\n",
            "Epoch 38/50\n",
            "24/24 [==============================] - 2s 103ms/step - loss: 4.1966e-04\n",
            "Epoch 39/50\n",
            "24/24 [==============================] - 2s 104ms/step - loss: 3.7263e-04\n",
            "Epoch 40/50\n",
            "24/24 [==============================] - 4s 174ms/step - loss: 3.9468e-04\n",
            "Epoch 41/50\n",
            "24/24 [==============================] - 3s 136ms/step - loss: 3.4666e-04\n",
            "Epoch 42/50\n",
            "24/24 [==============================] - 3s 105ms/step - loss: 3.4720e-04\n",
            "Epoch 43/50\n",
            "24/24 [==============================] - 2s 103ms/step - loss: 3.6346e-04\n",
            "Epoch 44/50\n",
            "24/24 [==============================] - 2s 103ms/step - loss: 3.5010e-04\n",
            "Epoch 45/50\n",
            "24/24 [==============================] - 3s 131ms/step - loss: 3.0911e-04\n",
            "Epoch 46/50\n",
            "24/24 [==============================] - 4s 149ms/step - loss: 3.0536e-04\n",
            "Epoch 47/50\n",
            "24/24 [==============================] - 2s 102ms/step - loss: 3.2289e-04\n",
            "Epoch 48/50\n",
            "24/24 [==============================] - 3s 105ms/step - loss: 3.1553e-04\n",
            "Epoch 49/50\n",
            "24/24 [==============================] - 2s 102ms/step - loss: 2.9192e-04\n",
            "Epoch 50/50\n",
            "24/24 [==============================] - 3s 119ms/step - loss: 3.9097e-04\n"
          ]
        },
        {
          "output_type": "execute_result",
          "data": {
            "text/plain": [
              "<keras.callbacks.History at 0x7fe860172980>"
            ]
          },
          "metadata": {},
          "execution_count": 13
        }
      ]
    },
    {
      "cell_type": "markdown",
      "source": [
        "\n",
        "\n",
        "*   PLotting loss, it shows that loss has decreased significantly and model trained well\n",
        "\n"
      ],
      "metadata": {
        "id": "7V2Kwc9sJXFK"
      }
    },
    {
      "cell_type": "code",
      "source": [
        "loss = model.history.history['loss']\n",
        "plt.plot(loss)"
      ],
      "metadata": {
        "colab": {
          "base_uri": "https://localhost:8080/"
        },
        "id": "OBTBo-32tfXc",
        "outputId": "5a178c65-5518-4d8f-e9c8-379ed43444e7"
      },
      "execution_count": null,
      "outputs": [
        {
          "output_type": "execute_result",
          "data": {
            "text/plain": [
              "[<matplotlib.lines.Line2D at 0x7fe85309f4c0>]"
            ]
          },
          "metadata": {},
          "execution_count": 14
        },
        {
          "output_type": "display_data",
          "data": {
            "text/plain": [
              "<Figure size 640x480 with 1 Axes>"
            ],
            "image/png": "[encoded data removed]"
          },
          "metadata": {}
        }
      ]
    },
    {
      "cell_type": "markdown",
      "source": [
        "**PREDICTION AND EVALUATION ON TEST DATA**"
      ],
      "metadata": {
        "id": "rJ51q4Ewwafk"
      }
    },
    {
      "cell_type": "markdown",
      "source": [
        "\n",
        "\n",
        "*   Make predictions on test and validation data\n",
        "\n"
      ],
      "metadata": {
        "id": "F7tiWcRktA5G"
      }
    },
    {
      "cell_type": "code",
      "source": [
        "y_pred=model.predict(X_test)\n",
        "y_pred_val=model.predict(X_val)"
      ],
      "metadata": {
        "colab": {
          "base_uri": "https://localhost:8080/"
        },
        "id": "0MoMNpa1FRJW",
        "outputId": "3575fa52-2f57-4c1f-ce30-35effe121e49"
      },
      "execution_count": null,
      "outputs": [
        {
          "output_type": "stream",
          "name": "stdout",
          "text": [
            "9/9 [==============================] - 1s 33ms/step\n",
            "9/9 [==============================] - 0s 42ms/step\n"
          ]
        }
      ]
    },
    {
      "cell_type": "markdown",
      "source": [
        "\n",
        "\n",
        "*   Convert the predictions back to the original values\n",
        "\n"
      ],
      "metadata": {
        "id": "uoKYcePvFTJ9"
      }
    },
    {
      "cell_type": "code",
      "source": [
        "y_pred=scaler.inverse_transform(y_pred)\n",
        "y_test = scaler.inverse_transform(y_test.reshape(-1, 1))\n",
        "\n",
        "y_pred_val=scaler.inverse_transform(y_pred_val)\n",
        "y_val = scaler.inverse_transform(y_val.reshape(-1, 1))"
      ],
      "metadata": {
        "id": "DKfMNwjSFVyT"
      },
      "execution_count": null,
      "outputs": []
    },
    {
      "cell_type": "markdown",
      "source": [
        "\n",
        "\n",
        "*   Evaluate the algorithm's accuracy using RMSE, MAPE, MDA\n",
        "\n"
      ],
      "metadata": {
        "id": "ppy3h9JWLxCA"
      }
    },
    {
      "cell_type": "code",
      "source": [
        "# MAPE\n",
        "def calculate_mape(y_true, y_pred):\n",
        "    return np.mean(np.abs((y_true - y_pred) / y_true)) * 100\n",
        "\n",
        "# MDA\n",
        "def calculate_mda(y_true, y_pred):\n",
        "    y_true_diff = np.diff(y_true)\n",
        "    y_pred_diff = np.diff(y_pred)\n",
        "    correct_direction = np.sign(y_true_diff) == np.sign(y_pred_diff)\n",
        "    return np.mean(correct_direction) * 100\n",
        "\n",
        "# Using RMSE, MAPE và MDA\n",
        "valid_rmse = np.sqrt(np.mean((y_val- y_pred_val) ** 2))\n",
        "test_rmse = np.sqrt(np.mean((y_test - y_pred) ** 2))\n",
        "\n",
        "valid_mape = calculate_mape(y_val, y_pred_val)\n",
        "test_mape = calculate_mape(y_test, y_pred)\n",
        "\n",
        "valid_mda = calculate_mda(np.squeeze(y_val), np.squeeze(y_pred_val)) # Squeeze y_val and y_pred_val to 1D arrays\n",
        "test_mda = calculate_mda(np.squeeze(y_test), np.squeeze(y_pred)) # Squeeze y_test and y_pred to 1D arrays\n",
        "\n",
        "# Print results\n",
        "print('Validation RMSE:', valid_rmse)\n",
        "print('Testing RMSE:', test_rmse)\n",
        "print('Validation MAPE:', valid_mape)\n",
        "print('Testing MAPE:', test_mape)\n",
        "print('Validation MDA:', valid_mda)\n",
        "print('Testing MDA:', test_mda)"
      ],
      "metadata": {
        "colab": {
          "base_uri": "https://localhost:8080/"
        },
        "id": "Acc1OQf7G7VD",
        "outputId": "f3f48a02-abdf-450e-ae19-d85e86b57be3"
      },
      "execution_count": null,
      "outputs": [
        {
          "output_type": "stream",
          "name": "stdout",
          "text": [
            "Validation RMSE: 2.539234761237854\n",
            "Testing RMSE: 1.6306960599672586\n",
            "Validation MAPE: 2.069442723182617\n",
            "Testing MAPE: 1.95976141119589\n",
            "Validation MDA: 49.063670411985015\n",
            "Testing MDA: 50.75187969924813\n"
          ]
        }
      ]
    },
    {
      "cell_type": "markdown",
      "source": [
        "**FORECAST FOR THE NEXT 30 DAYS IN THE FUTURE**"
      ],
      "metadata": {
        "id": "1IkXSXAA6Aiy"
      }
    },
    {
      "cell_type": "code",
      "source": [
        "n_days = 30\n",
        "\n",
        "x_input=scaled_data[-time_step:].reshape(1,-1)\n",
        "\n",
        "temp_input=list(x_input)\n",
        "temp_input=temp_input[0].tolist()\n",
        "\n",
        "from numpy import array\n",
        "\n",
        "lst_output=[]\n",
        "i=0\n",
        "while(i<n_days):\n",
        "\n",
        "    if(len(temp_input)>time_step):\n",
        "        x_input=np.array(temp_input[1:])\n",
        "        print(\"{} day input {}\".format(i,x_input))\n",
        "        x_input=x_input.reshape(1,-1)\n",
        "        x_input = x_input.reshape((1, time_step, 1))\n",
        "        yhat = model.predict(x_input, verbose=0)\n",
        "        print(\"{} day output {}\".format(i,yhat))\n",
        "        temp_input.extend(yhat[0].tolist())\n",
        "        temp_input=temp_input[1:]\n",
        "        #print(temp_input)\n",
        "        lst_output.extend(yhat.tolist())\n",
        "        i=i+1\n",
        "    else:\n",
        "        x_input = x_input.reshape((1, time_step,1))\n",
        "        yhat = model.predict(x_input, verbose=0)\n",
        "        print(yhat[0])\n",
        "        temp_input.extend(yhat[0].tolist())\n",
        "        print(len(temp_input))\n",
        "        lst_output.extend(yhat.tolist())\n",
        "        i=i+1"
      ],
      "metadata": {
        "colab": {
          "base_uri": "https://localhost:8080/"
        },
        "id": "YL28ztzhjl5Z",
        "outputId": "5ad61f78-0dfe-4a79-a946-30341b1fa4e0"
      },
      "execution_count": null,
      "outputs": [
        {
          "output_type": "stream",
          "name": "stdout",
          "text": [
            "[0.97193944]\n",
            "61\n",
            "1 day input [0.96397633 0.9494984  0.90857277 0.91735066 0.91518473 0.95155039\n",
            " 0.94015048 0.94505244 1.         0.98438218 0.96865025 0.9646603\n",
            " 0.96078437 0.91005473 0.90880073 0.89238491 0.90389877 0.90401279\n",
            " 0.90173284 0.89443691 0.90560876 0.91142275 0.92749658 0.93889649\n",
            " 0.91381672 0.89523489 0.8855449  0.87015505 0.85601918 0.86057916\n",
            " 0.79993165 0.79320566 0.77963973 0.80939351 0.86171914 0.8337893\n",
            " 0.8203375  0.82170543 0.84758327 0.86263115 0.88360694 0.88964888\n",
            " 0.89158693 0.96534426 0.95269037 0.9751482  0.95303243 0.94721845\n",
            " 0.95645235 0.95508441 0.9612403  0.96443234 0.94904239 0.97457825\n",
            " 0.97036026 0.95975833 0.96397633 0.98894208 0.96979023 0.97193944]\n",
            "1 day output [[0.97033614]]\n",
            "2 day input [0.9494984  0.90857277 0.91735066 0.91518473 0.95155039 0.94015048\n",
            " 0.94505244 1.         0.98438218 0.96865025 0.9646603  0.96078437\n",
            " 0.91005473 0.90880073 0.89238491 0.90389877 0.90401279 0.90173284\n",
            " 0.89443691 0.90560876 0.91142275 0.92749658 0.93889649 0.91381672\n",
            " 0.89523489 0.8855449  0.87015505 0.85601918 0.86057916 0.79993165\n",
            " 0.79320566 0.77963973 0.80939351 0.86171914 0.8337893  0.8203375\n",
            " 0.82170543 0.84758327 0.86263115 0.88360694 0.88964888 0.89158693\n",
            " 0.96534426 0.95269037 0.9751482  0.95303243 0.94721845 0.95645235\n",
            " 0.95508441 0.9612403  0.96443234 0.94904239 0.97457825 0.97036026\n",
            " 0.95975833 0.96397633 0.98894208 0.96979023 0.97193944 0.97033614]\n",
            "2 day output [[0.96781534]]\n",
            "3 day input [0.90857277 0.91735066 0.91518473 0.95155039 0.94015048 0.94505244\n",
            " 1.         0.98438218 0.96865025 0.9646603  0.96078437 0.91005473\n",
            " 0.90880073 0.89238491 0.90389877 0.90401279 0.90173284 0.89443691\n",
            " 0.90560876 0.91142275 0.92749658 0.93889649 0.91381672 0.89523489\n",
            " 0.8855449  0.87015505 0.85601918 0.86057916 0.79993165 0.79320566\n",
            " 0.77963973 0.80939351 0.86171914 0.8337893  0.8203375  0.82170543\n",
            " 0.84758327 0.86263115 0.88360694 0.88964888 0.89158693 0.96534426\n",
            " 0.95269037 0.9751482  0.95303243 0.94721845 0.95645235 0.95508441\n",
            " 0.9612403  0.96443234 0.94904239 0.97457825 0.97036026 0.95975833\n",
            " 0.96397633 0.98894208 0.96979023 0.97193944 0.97033614 0.96781534]\n",
            "3 day output [[0.9647952]]\n",
            "4 day input [0.91735066 0.91518473 0.95155039 0.94015048 0.94505244 1.\n",
            " 0.98438218 0.96865025 0.9646603  0.96078437 0.91005473 0.90880073\n",
            " 0.89238491 0.90389877 0.90401279 0.90173284 0.89443691 0.90560876\n",
            " 0.91142275 0.92749658 0.93889649 0.91381672 0.89523489 0.8855449\n",
            " 0.87015505 0.85601918 0.86057916 0.79993165 0.79320566 0.77963973\n",
            " 0.80939351 0.86171914 0.8337893  0.8203375  0.82170543 0.84758327\n",
            " 0.86263115 0.88360694 0.88964888 0.89158693 0.96534426 0.95269037\n",
            " 0.9751482  0.95303243 0.94721845 0.95645235 0.95508441 0.9612403\n",
            " 0.96443234 0.94904239 0.97457825 0.97036026 0.95975833 0.96397633\n",
            " 0.98894208 0.96979023 0.97193944 0.97033614 0.96781534 0.96479517]\n",
            "4 day output [[0.9614954]]\n",
            "5 day input [0.91518473 0.95155039 0.94015048 0.94505244 1.         0.98438218\n",
            " 0.96865025 0.9646603  0.96078437 0.91005473 0.90880073 0.89238491\n",
            " 0.90389877 0.90401279 0.90173284 0.89443691 0.90560876 0.91142275\n",
            " 0.92749658 0.93889649 0.91381672 0.89523489 0.8855449  0.87015505\n",
            " 0.85601918 0.86057916 0.79993165 0.79320566 0.77963973 0.80939351\n",
            " 0.86171914 0.8337893  0.8203375  0.82170543 0.84758327 0.86263115\n",
            " 0.88360694 0.88964888 0.89158693 0.96534426 0.95269037 0.9751482\n",
            " 0.95303243 0.94721845 0.95645235 0.95508441 0.9612403  0.96443234\n",
            " 0.94904239 0.97457825 0.97036026 0.95975833 0.96397633 0.98894208\n",
            " 0.96979023 0.97193944 0.97033614 0.96781534 0.96479517 0.9614954 ]\n",
            "5 day output [[0.95806146]]\n",
            "6 day input [0.95155039 0.94015048 0.94505244 1.         0.98438218 0.96865025\n",
            " 0.9646603  0.96078437 0.91005473 0.90880073 0.89238491 0.90389877\n",
            " 0.90401279 0.90173284 0.89443691 0.90560876 0.91142275 0.92749658\n",
            " 0.93889649 0.91381672 0.89523489 0.8855449  0.87015505 0.85601918\n",
            " 0.86057916 0.79993165 0.79320566 0.77963973 0.80939351 0.86171914\n",
            " 0.8337893  0.8203375  0.82170543 0.84758327 0.86263115 0.88360694\n",
            " 0.88964888 0.89158693 0.96534426 0.95269037 0.9751482  0.95303243\n",
            " 0.94721845 0.95645235 0.95508441 0.9612403  0.96443234 0.94904239\n",
            " 0.97457825 0.97036026 0.95975833 0.96397633 0.98894208 0.96979023\n",
            " 0.97193944 0.97033614 0.96781534 0.96479517 0.9614954  0.95806146]\n",
            "6 day output [[0.9545907]]\n",
            "7 day input [0.94015048 0.94505244 1.         0.98438218 0.96865025 0.9646603\n",
            " 0.96078437 0.91005473 0.90880073 0.89238491 0.90389877 0.90401279\n",
            " 0.90173284 0.89443691 0.90560876 0.91142275 0.92749658 0.93889649\n",
            " 0.91381672 0.89523489 0.8855449  0.87015505 0.85601918 0.86057916\n",
            " 0.79993165 0.79320566 0.77963973 0.80939351 0.86171914 0.8337893\n",
            " 0.8203375  0.82170543 0.84758327 0.86263115 0.88360694 0.88964888\n",
            " 0.89158693 0.96534426 0.95269037 0.9751482  0.95303243 0.94721845\n",
            " 0.95645235 0.95508441 0.9612403  0.96443234 0.94904239 0.97457825\n",
            " 0.97036026 0.95975833 0.96397633 0.98894208 0.96979023 0.97193944\n",
            " 0.97033614 0.96781534 0.96479517 0.9614954  0.95806146 0.95459068]\n",
            "7 day output [[0.95114225]]\n",
            "8 day input [0.94505244 1.         0.98438218 0.96865025 0.9646603  0.96078437\n",
            " 0.91005473 0.90880073 0.89238491 0.90389877 0.90401279 0.90173284\n",
            " 0.89443691 0.90560876 0.91142275 0.92749658 0.93889649 0.91381672\n",
            " 0.89523489 0.8855449  0.87015505 0.85601918 0.86057916 0.79993165\n",
            " 0.79320566 0.77963973 0.80939351 0.86171914 0.8337893  0.8203375\n",
            " 0.82170543 0.84758327 0.86263115 0.88360694 0.88964888 0.89158693\n",
            " 0.96534426 0.95269037 0.9751482  0.95303243 0.94721845 0.95645235\n",
            " 0.95508441 0.9612403  0.96443234 0.94904239 0.97457825 0.97036026\n",
            " 0.95975833 0.96397633 0.98894208 0.96979023 0.97193944 0.97033614\n",
            " 0.96781534 0.96479517 0.9614954  0.95806146 0.95459068 0.95114225]\n",
            "8 day output [[0.94774324]]\n",
            "9 day input [1.         0.98438218 0.96865025 0.9646603  0.96078437 0.91005473\n",
            " 0.90880073 0.89238491 0.90389877 0.90401279 0.90173284 0.89443691\n",
            " 0.90560876 0.91142275 0.92749658 0.93889649 0.91381672 0.89523489\n",
            " 0.8855449  0.87015505 0.85601918 0.86057916 0.79993165 0.79320566\n",
            " 0.77963973 0.80939351 0.86171914 0.8337893  0.8203375  0.82170543\n",
            " 0.84758327 0.86263115 0.88360694 0.88964888 0.89158693 0.96534426\n",
            " 0.95269037 0.9751482  0.95303243 0.94721845 0.95645235 0.95508441\n",
            " 0.9612403  0.96443234 0.94904239 0.97457825 0.97036026 0.95975833\n",
            " 0.96397633 0.98894208 0.96979023 0.97193944 0.97033614 0.96781534\n",
            " 0.96479517 0.9614954  0.95806146 0.95459068 0.95114225 0.94774324]\n",
            "9 day output [[0.94439536]]\n",
            "10 day input [0.98438218 0.96865025 0.9646603  0.96078437 0.91005473 0.90880073\n",
            " 0.89238491 0.90389877 0.90401279 0.90173284 0.89443691 0.90560876\n",
            " 0.91142275 0.92749658 0.93889649 0.91381672 0.89523489 0.8855449\n",
            " 0.87015505 0.85601918 0.86057916 0.79993165 0.79320566 0.77963973\n",
            " 0.80939351 0.86171914 0.8337893  0.8203375  0.82170543 0.84758327\n",
            " 0.86263115 0.88360694 0.88964888 0.89158693 0.96534426 0.95269037\n",
            " 0.9751482  0.95303243 0.94721845 0.95645235 0.95508441 0.9612403\n",
            " 0.96443234 0.94904239 0.97457825 0.97036026 0.95975833 0.96397633\n",
            " 0.98894208 0.96979023 0.97193944 0.97033614 0.96781534 0.96479517\n",
            " 0.9614954  0.95806146 0.95459068 0.95114225 0.94774324 0.94439536]\n",
            "10 day output [[0.9410833]]\n",
            "11 day input [0.96865025 0.9646603  0.96078437 0.91005473 0.90880073 0.89238491\n",
            " 0.90389877 0.90401279 0.90173284 0.89443691 0.90560876 0.91142275\n",
            " 0.92749658 0.93889649 0.91381672 0.89523489 0.8855449  0.87015505\n",
            " 0.85601918 0.86057916 0.79993165 0.79320566 0.77963973 0.80939351\n",
            " 0.86171914 0.8337893  0.8203375  0.82170543 0.84758327 0.86263115\n",
            " 0.88360694 0.88964888 0.89158693 0.96534426 0.95269037 0.9751482\n",
            " 0.95303243 0.94721845 0.95645235 0.95508441 0.9612403  0.96443234\n",
            " 0.94904239 0.97457825 0.97036026 0.95975833 0.96397633 0.98894208\n",
            " 0.96979023 0.97193944 0.97033614 0.96781534 0.96479517 0.9614954\n",
            " 0.95806146 0.95459068 0.95114225 0.94774324 0.94439536 0.94108331]\n",
            "11 day output [[0.93778235]]\n",
            "12 day input [0.9646603  0.96078437 0.91005473 0.90880073 0.89238491 0.90389877\n",
            " 0.90401279 0.90173284 0.89443691 0.90560876 0.91142275 0.92749658\n",
            " 0.93889649 0.91381672 0.89523489 0.8855449  0.87015505 0.85601918\n",
            " 0.86057916 0.79993165 0.79320566 0.77963973 0.80939351 0.86171914\n",
            " 0.8337893  0.8203375  0.82170543 0.84758327 0.86263115 0.88360694\n",
            " 0.88964888 0.89158693 0.96534426 0.95269037 0.9751482  0.95303243\n",
            " 0.94721845 0.95645235 0.95508441 0.9612403  0.96443234 0.94904239\n",
            " 0.97457825 0.97036026 0.95975833 0.96397633 0.98894208 0.96979023\n",
            " 0.97193944 0.97033614 0.96781534 0.96479517 0.9614954  0.95806146\n",
            " 0.95459068 0.95114225 0.94774324 0.94439536 0.94108331 0.93778235]\n",
            "12 day output [[0.93446404]]\n",
            "13 day input [0.96078437 0.91005473 0.90880073 0.89238491 0.90389877 0.90401279\n",
            " 0.90173284 0.89443691 0.90560876 0.91142275 0.92749658 0.93889649\n",
            " 0.91381672 0.89523489 0.8855449  0.87015505 0.85601918 0.86057916\n",
            " 0.79993165 0.79320566 0.77963973 0.80939351 0.86171914 0.8337893\n",
            " 0.8203375  0.82170543 0.84758327 0.86263115 0.88360694 0.88964888\n",
            " 0.89158693 0.96534426 0.95269037 0.9751482  0.95303243 0.94721845\n",
            " 0.95645235 0.95508441 0.9612403  0.96443234 0.94904239 0.97457825\n",
            " 0.97036026 0.95975833 0.96397633 0.98894208 0.96979023 0.97193944\n",
            " 0.97033614 0.96781534 0.96479517 0.9614954  0.95806146 0.95459068\n",
            " 0.95114225 0.94774324 0.94439536 0.94108331 0.93778235 0.93446404]\n",
            "13 day output [[0.93110144]]\n",
            "14 day input [0.91005473 0.90880073 0.89238491 0.90389877 0.90401279 0.90173284\n",
            " 0.89443691 0.90560876 0.91142275 0.92749658 0.93889649 0.91381672\n",
            " 0.89523489 0.8855449  0.87015505 0.85601918 0.86057916 0.79993165\n",
            " 0.79320566 0.77963973 0.80939351 0.86171914 0.8337893  0.8203375\n",
            " 0.82170543 0.84758327 0.86263115 0.88360694 0.88964888 0.89158693\n",
            " 0.96534426 0.95269037 0.9751482  0.95303243 0.94721845 0.95645235\n",
            " 0.95508441 0.9612403  0.96443234 0.94904239 0.97457825 0.97036026\n",
            " 0.95975833 0.96397633 0.98894208 0.96979023 0.97193944 0.97033614\n",
            " 0.96781534 0.96479517 0.9614954  0.95806146 0.95459068 0.95114225\n",
            " 0.94774324 0.94439536 0.94108331 0.93778235 0.93446404 0.93110144]\n",
            "14 day output [[0.9276721]]\n",
            "15 day input [0.90880073 0.89238491 0.90389877 0.90401279 0.90173284 0.89443691\n",
            " 0.90560876 0.91142275 0.92749658 0.93889649 0.91381672 0.89523489\n",
            " 0.8855449  0.87015505 0.85601918 0.86057916 0.79993165 0.79320566\n",
            " 0.77963973 0.80939351 0.86171914 0.8337893  0.8203375  0.82170543\n",
            " 0.84758327 0.86263115 0.88360694 0.88964888 0.89158693 0.96534426\n",
            " 0.95269037 0.9751482  0.95303243 0.94721845 0.95645235 0.95508441\n",
            " 0.9612403  0.96443234 0.94904239 0.97457825 0.97036026 0.95975833\n",
            " 0.96397633 0.98894208 0.96979023 0.97193944 0.97033614 0.96781534\n",
            " 0.96479517 0.9614954  0.95806146 0.95459068 0.95114225 0.94774324\n",
            " 0.94439536 0.94108331 0.93778235 0.93446404 0.93110144 0.92767209]\n",
            "15 day output [[0.9241604]]\n",
            "16 day input [0.89238491 0.90389877 0.90401279 0.90173284 0.89443691 0.90560876\n",
            " 0.91142275 0.92749658 0.93889649 0.91381672 0.89523489 0.8855449\n",
            " 0.87015505 0.85601918 0.86057916 0.79993165 0.79320566 0.77963973\n",
            " 0.80939351 0.86171914 0.8337893  0.8203375  0.82170543 0.84758327\n",
            " 0.86263115 0.88360694 0.88964888 0.89158693 0.96534426 0.95269037\n",
            " 0.9751482  0.95303243 0.94721845 0.95645235 0.95508441 0.9612403\n",
            " 0.96443234 0.94904239 0.97457825 0.97036026 0.95975833 0.96397633\n",
            " 0.98894208 0.96979023 0.97193944 0.97033614 0.96781534 0.96479517\n",
            " 0.9614954  0.95806146 0.95459068 0.95114225 0.94774324 0.94439536\n",
            " 0.94108331 0.93778235 0.93446404 0.93110144 0.92767209 0.92416042]\n",
            "16 day output [[0.9205572]]\n",
            "17 day input [0.90389877 0.90401279 0.90173284 0.89443691 0.90560876 0.91142275\n",
            " 0.92749658 0.93889649 0.91381672 0.89523489 0.8855449  0.87015505\n",
            " 0.85601918 0.86057916 0.79993165 0.79320566 0.77963973 0.80939351\n",
            " 0.86171914 0.8337893  0.8203375  0.82170543 0.84758327 0.86263115\n",
            " 0.88360694 0.88964888 0.89158693 0.96534426 0.95269037 0.9751482\n",
            " 0.95303243 0.94721845 0.95645235 0.95508441 0.9612403  0.96443234\n",
            " 0.94904239 0.97457825 0.97036026 0.95975833 0.96397633 0.98894208\n",
            " 0.96979023 0.97193944 0.97033614 0.96781534 0.96479517 0.9614954\n",
            " 0.95806146 0.95459068 0.95114225 0.94774324 0.94439536 0.94108331\n",
            " 0.93778235 0.93446404 0.93110144 0.92767209 0.92416042 0.9205572 ]\n",
            "17 day output [[0.91686094]]\n",
            "18 day input [0.90401279 0.90173284 0.89443691 0.90560876 0.91142275 0.92749658\n",
            " 0.93889649 0.91381672 0.89523489 0.8855449  0.87015505 0.85601918\n",
            " 0.86057916 0.79993165 0.79320566 0.77963973 0.80939351 0.86171914\n",
            " 0.8337893  0.8203375  0.82170543 0.84758327 0.86263115 0.88360694\n",
            " 0.88964888 0.89158693 0.96534426 0.95269037 0.9751482  0.95303243\n",
            " 0.94721845 0.95645235 0.95508441 0.9612403  0.96443234 0.94904239\n",
            " 0.97457825 0.97036026 0.95975833 0.96397633 0.98894208 0.96979023\n",
            " 0.97193944 0.97033614 0.96781534 0.96479517 0.9614954  0.95806146\n",
            " 0.95459068 0.95114225 0.94774324 0.94439536 0.94108331 0.93778235\n",
            " 0.93446404 0.93110144 0.92767209 0.92416042 0.9205572  0.91686094]\n",
            "18 day output [[0.91307396]]\n",
            "19 day input [0.90173284 0.89443691 0.90560876 0.91142275 0.92749658 0.93889649\n",
            " 0.91381672 0.89523489 0.8855449  0.87015505 0.85601918 0.86057916\n",
            " 0.79993165 0.79320566 0.77963973 0.80939351 0.86171914 0.8337893\n",
            " 0.8203375  0.82170543 0.84758327 0.86263115 0.88360694 0.88964888\n",
            " 0.89158693 0.96534426 0.95269037 0.9751482  0.95303243 0.94721845\n",
            " 0.95645235 0.95508441 0.9612403  0.96443234 0.94904239 0.97457825\n",
            " 0.97036026 0.95975833 0.96397633 0.98894208 0.96979023 0.97193944\n",
            " 0.97033614 0.96781534 0.96479517 0.9614954  0.95806146 0.95459068\n",
            " 0.95114225 0.94774324 0.94439536 0.94108331 0.93778235 0.93446404\n",
            " 0.93110144 0.92767209 0.92416042 0.9205572  0.91686094 0.91307396]\n",
            "19 day output [[0.90920323]]\n",
            "20 day input [0.89443691 0.90560876 0.91142275 0.92749658 0.93889649 0.91381672\n",
            " 0.89523489 0.8855449  0.87015505 0.85601918 0.86057916 0.79993165\n",
            " 0.79320566 0.77963973 0.80939351 0.86171914 0.8337893  0.8203375\n",
            " 0.82170543 0.84758327 0.86263115 0.88360694 0.88964888 0.89158693\n",
            " 0.96534426 0.95269037 0.9751482  0.95303243 0.94721845 0.95645235\n",
            " 0.95508441 0.9612403  0.96443234 0.94904239 0.97457825 0.97036026\n",
            " 0.95975833 0.96397633 0.98894208 0.96979023 0.97193944 0.97033614\n",
            " 0.96781534 0.96479517 0.9614954  0.95806146 0.95459068 0.95114225\n",
            " 0.94774324 0.94439536 0.94108331 0.93778235 0.93446404 0.93110144\n",
            " 0.92767209 0.92416042 0.9205572  0.91686094 0.91307396 0.90920323]\n",
            "20 day output [[0.9052582]]\n",
            "21 day input [0.90560876 0.91142275 0.92749658 0.93889649 0.91381672 0.89523489\n",
            " 0.8855449  0.87015505 0.85601918 0.86057916 0.79993165 0.79320566\n",
            " 0.77963973 0.80939351 0.86171914 0.8337893  0.8203375  0.82170543\n",
            " 0.84758327 0.86263115 0.88360694 0.88964888 0.89158693 0.96534426\n",
            " 0.95269037 0.9751482  0.95303243 0.94721845 0.95645235 0.95508441\n",
            " 0.9612403  0.96443234 0.94904239 0.97457825 0.97036026 0.95975833\n",
            " 0.96397633 0.98894208 0.96979023 0.97193944 0.97033614 0.96781534\n",
            " 0.96479517 0.9614954  0.95806146 0.95459068 0.95114225 0.94774324\n",
            " 0.94439536 0.94108331 0.93778235 0.93446404 0.93110144 0.92767209\n",
            " 0.92416042 0.9205572  0.91686094 0.91307396 0.90920323 0.90525818]\n",
            "21 day output [[0.90124905]]\n",
            "22 day input [0.91142275 0.92749658 0.93889649 0.91381672 0.89523489 0.8855449\n",
            " 0.87015505 0.85601918 0.86057916 0.79993165 0.79320566 0.77963973\n",
            " 0.80939351 0.86171914 0.8337893  0.8203375  0.82170543 0.84758327\n",
            " 0.86263115 0.88360694 0.88964888 0.89158693 0.96534426 0.95269037\n",
            " 0.9751482  0.95303243 0.94721845 0.95645235 0.95508441 0.9612403\n",
            " 0.96443234 0.94904239 0.97457825 0.97036026 0.95975833 0.96397633\n",
            " 0.98894208 0.96979023 0.97193944 0.97033614 0.96781534 0.96479517\n",
            " 0.9614954  0.95806146 0.95459068 0.95114225 0.94774324 0.94439536\n",
            " 0.94108331 0.93778235 0.93446404 0.93110144 0.92767209 0.92416042\n",
            " 0.9205572  0.91686094 0.91307396 0.90920323 0.90525818 0.90124905]\n",
            "22 day output [[0.8971857]]\n",
            "23 day input [0.92749658 0.93889649 0.91381672 0.89523489 0.8855449  0.87015505\n",
            " 0.85601918 0.86057916 0.79993165 0.79320566 0.77963973 0.80939351\n",
            " 0.86171914 0.8337893  0.8203375  0.82170543 0.84758327 0.86263115\n",
            " 0.88360694 0.88964888 0.89158693 0.96534426 0.95269037 0.9751482\n",
            " 0.95303243 0.94721845 0.95645235 0.95508441 0.9612403  0.96443234\n",
            " 0.94904239 0.97457825 0.97036026 0.95975833 0.96397633 0.98894208\n",
            " 0.96979023 0.97193944 0.97033614 0.96781534 0.96479517 0.9614954\n",
            " 0.95806146 0.95459068 0.95114225 0.94774324 0.94439536 0.94108331\n",
            " 0.93778235 0.93446404 0.93110144 0.92767209 0.92416042 0.9205572\n",
            " 0.91686094 0.91307396 0.90920323 0.90525818 0.90124905 0.89718568]\n",
            "23 day output [[0.8930774]]\n",
            "24 day input [0.93889649 0.91381672 0.89523489 0.8855449  0.87015505 0.85601918\n",
            " 0.86057916 0.79993165 0.79320566 0.77963973 0.80939351 0.86171914\n",
            " 0.8337893  0.8203375  0.82170543 0.84758327 0.86263115 0.88360694\n",
            " 0.88964888 0.89158693 0.96534426 0.95269037 0.9751482  0.95303243\n",
            " 0.94721845 0.95645235 0.95508441 0.9612403  0.96443234 0.94904239\n",
            " 0.97457825 0.97036026 0.95975833 0.96397633 0.98894208 0.96979023\n",
            " 0.97193944 0.97033614 0.96781534 0.96479517 0.9614954  0.95806146\n",
            " 0.95459068 0.95114225 0.94774324 0.94439536 0.94108331 0.93778235\n",
            " 0.93446404 0.93110144 0.92767209 0.92416042 0.9205572  0.91686094\n",
            " 0.91307396 0.90920323 0.90525818 0.90124905 0.89718568 0.89307737]\n",
            "24 day output [[0.88893163]]\n",
            "25 day input [0.91381672 0.89523489 0.8855449  0.87015505 0.85601918 0.86057916\n",
            " 0.79993165 0.79320566 0.77963973 0.80939351 0.86171914 0.8337893\n",
            " 0.8203375  0.82170543 0.84758327 0.86263115 0.88360694 0.88964888\n",
            " 0.89158693 0.96534426 0.95269037 0.9751482  0.95303243 0.94721845\n",
            " 0.95645235 0.95508441 0.9612403  0.96443234 0.94904239 0.97457825\n",
            " 0.97036026 0.95975833 0.96397633 0.98894208 0.96979023 0.97193944\n",
            " 0.97033614 0.96781534 0.96479517 0.9614954  0.95806146 0.95459068\n",
            " 0.95114225 0.94774324 0.94439536 0.94108331 0.93778235 0.93446404\n",
            " 0.93110144 0.92767209 0.92416042 0.9205572  0.91686094 0.91307396\n",
            " 0.90920323 0.90525818 0.90124905 0.89718568 0.89307737 0.88893163]\n",
            "25 day output [[0.88475424]]\n",
            "26 day input [0.89523489 0.8855449  0.87015505 0.85601918 0.86057916 0.79993165\n",
            " 0.79320566 0.77963973 0.80939351 0.86171914 0.8337893  0.8203375\n",
            " 0.82170543 0.84758327 0.86263115 0.88360694 0.88964888 0.89158693\n",
            " 0.96534426 0.95269037 0.9751482  0.95303243 0.94721845 0.95645235\n",
            " 0.95508441 0.9612403  0.96443234 0.94904239 0.97457825 0.97036026\n",
            " 0.95975833 0.96397633 0.98894208 0.96979023 0.97193944 0.97033614\n",
            " 0.96781534 0.96479517 0.9614954  0.95806146 0.95459068 0.95114225\n",
            " 0.94774324 0.94439536 0.94108331 0.93778235 0.93446404 0.93110144\n",
            " 0.92767209 0.92416042 0.9205572  0.91686094 0.91307396 0.90920323\n",
            " 0.90525818 0.90124905 0.89718568 0.89307737 0.88893163 0.88475424]\n",
            "26 day output [[0.88054943]]\n",
            "27 day input [0.8855449  0.87015505 0.85601918 0.86057916 0.79993165 0.79320566\n",
            " 0.77963973 0.80939351 0.86171914 0.8337893  0.8203375  0.82170543\n",
            " 0.84758327 0.86263115 0.88360694 0.88964888 0.89158693 0.96534426\n",
            " 0.95269037 0.9751482  0.95303243 0.94721845 0.95645235 0.95508441\n",
            " 0.9612403  0.96443234 0.94904239 0.97457825 0.97036026 0.95975833\n",
            " 0.96397633 0.98894208 0.96979023 0.97193944 0.97033614 0.96781534\n",
            " 0.96479517 0.9614954  0.95806146 0.95459068 0.95114225 0.94774324\n",
            " 0.94439536 0.94108331 0.93778235 0.93446404 0.93110144 0.92767209\n",
            " 0.92416042 0.9205572  0.91686094 0.91307396 0.90920323 0.90525818\n",
            " 0.90124905 0.89718568 0.89307737 0.88893163 0.88475424 0.88054943]\n",
            "27 day output [[0.87631965]]\n",
            "28 day input [0.87015505 0.85601918 0.86057916 0.79993165 0.79320566 0.77963973\n",
            " 0.80939351 0.86171914 0.8337893  0.8203375  0.82170543 0.84758327\n",
            " 0.86263115 0.88360694 0.88964888 0.89158693 0.96534426 0.95269037\n",
            " 0.9751482  0.95303243 0.94721845 0.95645235 0.95508441 0.9612403\n",
            " 0.96443234 0.94904239 0.97457825 0.97036026 0.95975833 0.96397633\n",
            " 0.98894208 0.96979023 0.97193944 0.97033614 0.96781534 0.96479517\n",
            " 0.9614954  0.95806146 0.95459068 0.95114225 0.94774324 0.94439536\n",
            " 0.94108331 0.93778235 0.93446404 0.93110144 0.92767209 0.92416042\n",
            " 0.9205572  0.91686094 0.91307396 0.90920323 0.90525818 0.90124905\n",
            " 0.89718568 0.89307737 0.88893163 0.88475424 0.88054943 0.87631965]\n",
            "28 day output [[0.87206644]]\n",
            "29 day input [0.85601918 0.86057916 0.79993165 0.79320566 0.77963973 0.80939351\n",
            " 0.86171914 0.8337893  0.8203375  0.82170543 0.84758327 0.86263115\n",
            " 0.88360694 0.88964888 0.89158693 0.96534426 0.95269037 0.9751482\n",
            " 0.95303243 0.94721845 0.95645235 0.95508441 0.9612403  0.96443234\n",
            " 0.94904239 0.97457825 0.97036026 0.95975833 0.96397633 0.98894208\n",
            " 0.96979023 0.97193944 0.97033614 0.96781534 0.96479517 0.9614954\n",
            " 0.95806146 0.95459068 0.95114225 0.94774324 0.94439536 0.94108331\n",
            " 0.93778235 0.93446404 0.93110144 0.92767209 0.92416042 0.9205572\n",
            " 0.91686094 0.91307396 0.90920323 0.90525818 0.90124905 0.89718568\n",
            " 0.89307737 0.88893163 0.88475424 0.88054943 0.87631965 0.87206644]\n",
            "29 day output [[0.8677904]]\n"
          ]
        }
      ]
    },
    {
      "cell_type": "markdown",
      "source": [
        "\n",
        "\n",
        "*   List of predicted stock prices for the next 30 days\n",
        "\n"
      ],
      "metadata": {
        "id": "4knvSKmcw1LW"
      }
    },
    {
      "cell_type": "code",
      "source": [
        "for i in range(1, n_days+1):\n",
        "    print(f\"Ngày thứ {i}: {scaler.inverse_transform(lst_output)[i-1]}\")\n",
        "    # scaler.inverse_transform(lst_output)"
      ],
      "metadata": {
        "colab": {
          "base_uri": "https://localhost:8080/"
        },
        "id": "5K-SAlW1yl4V",
        "outputId": "059e77c1-58cd-485c-8980-7dbbd4ab46cf"
      },
      "execution_count": null,
      "outputs": [
        {
          "output_type": "stream",
          "name": "stdout",
          "text": [
            "Ngày thứ 1: [116.70852616]\n",
            "Ngày thứ 2: [116.56788422]\n",
            "Ngày thứ 3: [116.34675968]\n",
            "Ngày thứ 4: [116.08183061]\n",
            "Ngày thứ 5: [115.79237456]\n",
            "Ngày thứ 6: [115.49114911]\n",
            "Ngày thứ 7: [115.18669243]\n",
            "Ngày thứ 8: [114.88419645]\n",
            "Ngày thứ 9: [114.58603491]\n",
            "Ngày thứ 10: [114.29235944]\n",
            "Ngày thứ 11: [114.00182631]\n",
            "Ngày thứ 12: [113.71226568]\n",
            "Ngày thứ 13: [113.42118356]\n",
            "Ngày thứ 14: [113.12621664]\n",
            "Ngày thứ 15: [112.82539379]\n",
            "Ngày thứ 16: [112.51735035]\n",
            "Ngày thứ 17: [112.2012759]\n",
            "Ngày thứ 18: [111.87703974]\n",
            "Ngày thứ 19: [111.54484577]\n",
            "Ngày thứ 20: [111.20530573]\n",
            "Ngày thứ 21: [110.85924572]\n",
            "Ngày thứ 22: [110.50756506]\n",
            "Ngày thứ 23: [110.15112644]\n",
            "Ngày thứ 24: [109.79074552]\n",
            "Ngày thứ 25: [109.4270811]\n",
            "Ngày thứ 26: [109.06064032]\n",
            "Ngày thứ 27: [108.69179443]\n",
            "Ngày thứ 28: [108.32075779]\n",
            "Ngày thứ 29: [107.94766634]\n",
            "Ngày thứ 30: [107.57257237]\n"
          ]
        }
      ]
    },
    {
      "cell_type": "markdown",
      "source": [
        "**VISUALIZATION OF PREDICTIONS**"
      ],
      "metadata": {
        "id": "ccC1L-1pHCtd"
      }
    },
    {
      "cell_type": "markdown",
      "source": [
        "\n",
        "\n",
        "*   Plot 1\n",
        "\n"
      ],
      "metadata": {
        "id": "wVuNMOZiws53"
      }
    },
    {
      "cell_type": "code",
      "source": [
        "train_data_index = pd.RangeIndex(start=0, stop=train_size, step=1)\n",
        "plt.title('LSTM 6:2:2 (XOM Stock Price)')\n",
        "plt.plot(scaler.inverse_transform(train_data))\n",
        "test_data_index = pd.RangeIndex(start=train_size, stop=train_size+test_size, step=1)\n",
        "plt.plot(test_data_index,y_test)\n",
        "plt.plot(test_data_index,y_pred)\n",
        "val_data_index = pd.RangeIndex(start=train_size+test_size, stop=train_size+test_size+val_size, step=1)\n",
        "plt.plot(val_data_index,y_val)\n",
        "plt.plot(val_data_index,y_pred_val)\n",
        "prediect_data_index = pd.RangeIndex(start=len(close_prices), stop=len(close_prices)+n_days, step=1)\n",
        "plt.plot(prediect_data_index,scaler.inverse_transform(lst_output))\n",
        "plt.legend(['Train','ActualTest','PredictedTest','ActualValidate','PredictedValidate','Next30Days'])\n",
        "plt.show()"
      ],
      "metadata": {
        "colab": {
          "base_uri": "https://localhost:8080/"
        },
        "id": "V2gj23QPyd5h",
        "outputId": "69630aea-d831-433e-8ca9-1a93b1bf755b"
      },
      "execution_count": null,
      "outputs": [
        {
          "output_type": "display_data",
          "data": {
            "text/plain": [
              "<Figure size 640x480 with 1 Axes>"
            ],
            "image/png": "[encoded data removed]"
          },
          "metadata": {}
        }
      ]
    },
    {
      "cell_type": "markdown",
      "source": [
        "\n",
        "\n",
        "*   Plot 2\n",
        "\n"
      ],
      "metadata": {
        "id": "4eXJyVdmww1n"
      }
    },
    {
      "cell_type": "code",
      "source": [
        "import plotly\n",
        "import plotly.graph_objs as go\n",
        "import plotly.express as px\n",
        "from plotly.subplots import make_subplots\n",
        "\n",
        "fig = go.Figure()\n",
        "fig.add_trace(go.Scatter(x=train_data_index, y=scaler.inverse_transform(train_data)[:, 0], mode='lines+markers', marker=dict(size=4),  name='Train', marker_color='#1F77B4'))\n",
        "fig.add_trace(go.Scatter(x=test_data_index,y=y_test[:, 0], mode='lines+markers', marker=dict(size=4), name='ActualTest', marker_color='#FF7F0E'))\n",
        "fig.add_trace(go.Scatter(x=test_data_index,y=y_pred[:, 0], mode='lines+markers', marker=dict(size=4), name='PredictedTest', marker_color='#2CA02C'))\n",
        "fig.add_trace(go.Scatter(x=val_data_index, y=y_val[:, 0], mode='lines+markers', marker=dict(size=4), name='ActualValidate', marker_color='#D62728'))\n",
        "fig.add_trace(go.Scatter(x=val_data_index, y=y_pred_val[:, 0], mode='lines+markers', marker=dict(size=4), name='PredictedValidate', marker_color='#9569BE'))\n",
        "fig.add_trace(go.Scatter(x=prediect_data_index, y=scaler.inverse_transform(lst_output)[:, 0], mode='lines+markers', marker=dict(size=4), name='Next30Days', marker_color='#000000'))\n",
        "fig.update_layout(legend_orientation=\"h\",\n",
        "                  legend=dict(x=.5, xanchor=\"center\"),\n",
        "                  plot_bgcolor='#FFFFFF',\n",
        "                  xaxis=dict(gridcolor = 'lightgrey'),\n",
        "                  yaxis=dict(gridcolor = 'lightgrey'),\n",
        "                  title_text = f'LSTM 6:2:2 (XOM Stock Price)', title_x = 0.5,\n",
        "                  xaxis_title=\"Timestep\",\n",
        "                  yaxis_title=\"Stock price\",\n",
        "                  margin=dict(l=0, r=0, t=30, b=0))\n",
        "fig.show()"
      ],
      "metadata": {
        "colab": {
          "base_uri": "https://localhost:8080/",
          "height": 542
        },
        "id": "YLioSa_GpPcc",
        "outputId": "b3a3a174-1ef4-465a-95df-096d8efaec73"
      },
      "execution_count": null,
      "outputs": [
        {
          "output_type": "display_data",
          "data": {
            "text/html": [
              "<html>\n",
              "<head><meta charset=\"utf-8\" /></head>\n",
              "<body>\n",
              "    <div>            <script src=\"https://cdnjs.cloudflare.com/ajax/libs/mathjax/2.7.5/MathJax.js?config=TeX-AMS-MML_SVG\"></script><script type=\"text/javascript\">if (window.MathJax && window.MathJax.Hub && window.MathJax.Hub.Config) {window.MathJax.Hub.Config({SVG: {font: \"STIX-Web\"}});}</script>                <script type=\"text/javascript\">window.PlotlyConfig = {MathJaxConfig: 'local'};</script>\n",
              "        <script src=\"https://cdn.plot.ly/plotly-2.18.2.min.js\"></script>                <div id=\"1d31b64e-a96c-428f-a09d-6028f060d6f8\" class=\"plotly-graph-div\" style=\"height:525px; width:100%;\"></div>            <script type=\"text/javascript\">                                    window.PLOTLYENV=window.PLOTLYENV || {};                                    if (document.getElementById(\"1d31b64e-a96c-428f-a09d-6028f060d6f8\")) {                    Plotly.newPlot(                        \"1d31b64e-a96c-428f-a09d-6028f060d6f8\",                        [{\"marker\":{\"color\":\"#1F77B4\",\"size\":4},\"mode\":\"lines+markers\",\"name\":\"Train\",\"x\":[0,1,2,3,4,5,6,7,8,9,10,11,12,13,14,15,16,17,18,19,20,21,22,23,24,25,26,27,28,29,30,31,32,33,34,35,36,37,38,39,40,41,42,43,44,45,46,47,48,49,50,51,52,53,54,55,56,57,58,59,60,61,62,63,64,65,66,67,68,69,70,71,72,73,74,75,76,77,78,79,80,81,82,83,84,85,86,87,88,89,90,91,92,93,94,95,96,97,98,99,100,101,102,103,104,105,106,107,108,109,110,111,112,113,114,115,116,117,118,119,120,121,122,123,124,125,126,127,128,129,130,131,132,133,134,135,136,137,138,139,140,141,142,143,144,145,146,147,148,149,150,151,152,153,154,155,156,157,158,159,160,161,162,163,164,165,166,167,168,169,170,171,172,173,174,175,176,177,178,179,180,181,182,183,184,185,186,187,188,189,190,191,192,193,194,195,196,197,198,199,200,201,202,203,204,205,206,207,208,209,210,211,212,213,214,215,216,217,218,219,220,221,222,223,224,225,226,227,228,229,230,231,232,233,234,235,236,237,238,239,240,241,242,243,244,245,246,247,248,249,250,251,252,253,254,255,256,257,258,259,260,261,262,263,264,265,266,267,268,269,270,271,272,273,274,275,276,277,278,279,280,281,282,283,284,285,286,287,288,289,290,291,292,293,294,295,296,297,298,299,300,301,302,303,304,305,306,307,308,309,310,311,312,313,314,315,316,317,318,319,320,321,322,323,324,325,326,327,328,329,330,331,332,333,334,335,336,337,338,339,340,341,342,343,344,345,346,347,348,349,350,351,352,353,354,355,356,357,358,359,360,361,362,363,364,365,366,367,368,369,370,371,372,373,374,375,376,377,378,379,380,381,382,383,384,385,386,387,388,389,390,391,392,393,394,395,396,397,398,399,400,401,402,403,404,405,406,407,408,409,410,411,412,413,414,415,416,417,418,419,420,421,422,423,424,425,426,427,428,429,430,431,432,433,434,435,436,437,438,439,440,441,442,443,444,445,446,447,448,449,450,451,452,453,454,455,456,457,458,459,460,461,462,463,464,465,466,467,468,469,470,471,472,473,474,475,476,477,478,479,480,481,482,483,484,485,486,487,488,489,490,491,492,493,494,495,496,497,498,499,500,501,502,503,504,505,506,507,508,509,510,511,512,513,514,515,516,517,518,519,520,521,522,523,524,525,526,527,528,529,530,531,532,533,534,535,536,537,538,539,540,541,542,543,544,545,546,547,548,549,550,551,552,553,554,555,556,557,558,559,560,561,562,563,564,565,566,567,568,569,570,571,572,573,574,575,576,577,578,579,580,581,582,583,584,585,586,587,588,589,590,591,592,593,594,595,596,597,598,599,600,601,602,603,604,605,606,607,608,609,610,611,612,613,614,615,616,617,618,619,620,621,622,623,624,625,626,627,628,629,630,631,632,633,634,635,636,637,638,639,640,641,642,643,644,645,646,647,648,649,650,651,652,653,654,655,656,657,658,659,660,661,662,663,664,665,666,667,668,669,670,671,672,673,674,675,676,677,678,679,680,681,682,683,684,685,686,687,688,689,690,691,692,693,694,695,696,697,698,699,700,701,702,703,704,705,706,707,708,709,710,711,712,713,714,715,716,717,718,719,720,721,722,723,724,725,726,727,728,729,730,731,732,733,734,735,736,737,738,739,740,741,742,743,744,745,746,747,748,749,750,751,752,753,754,755,756,757,758,759,760,761,762,763,764,765,766,767,768,769,770,771,772,773,774,775,776,777,778,779,780,781,782,783,784,785,786,787,788,789,790,791,792,793,794,795,796,797,798,799,800,801],\"y\":[85.029999,86.699997,86.82000000000001,86.75,87.139999,86.769997,86.08000200000001,86.93000000000002,87.519997,86.970001,88.0,87.43,87.150002,88.25,88.30000299999999,88.529999,88.370003,89.0,88.010002,86.779999,87.30000300000002,89.07,84.52999900000002,79.720001,78.349998,76.94000200000002,76.07,75.779999,76.419998,76.30000300000002,76.45999900000001,76.209999,76.540001,75.75,74.889999,75.860001,77.529999,78.839996,77.50000000000001,75.73999800000001,75.199997,75.55000300000002,76.269997,76.18000000000002,74.260002,74.120003,74.559998,75.239998,74.529999,73.599998,74.419998,75.120003,74.150002,73.989998,75.040001,73.5,72.889999,74.0,73.699997,72.809998,74.610001,73.220001,75.019997,74.870003,76.01999700000002,74.870003,74.870003,77.07,77.43,77.220001,77.83999600000001,78.540001,78.33000200000001,79.22000100000001,79.41999800000002,79.0,79.57,78.349998,79.5,80.860001,77.79000100000002,77.75000000000001,76.949997,76.800003,76.540001,76.900002,77.739998,78.089996,79.93,81.72000100000001,81.27999900000002,81.83000200000001,81.790001,82.01999700000002,81.879997,81.30000300000002,82.279999,81.63999900000002,82.150002,80.26999700000002,78.709999,78.41999800000002,81.5,81.239998,81.83000200000001,80.97000100000001,80.68,82.059998,82.879997,83.599998,83.09999800000001,82.419998,81.510002,81.889999,80.66000400000001,80.82000000000001,80.69999700000001,80.44999700000001,79.69000200000002,81.37999700000002,79.739998,80.639999,81.709999,81.970001,82.73000300000001,81.760002,82.239998,82.30999800000001,82.330002,82.900002,83.660004,82.589996,82.690002,83.30999800000001,82.48999800000001,82.30999800000001,82.220001,82.01000200000001,81.40000200000001,81.40000200000001,83.010002,83.58999600000001,84.23999800000001,81.91999800000002,81.73999800000001,81.510002,80.389999,79.91000400000001,80.199997,80.18000000000002,81.269997,80.730003,80.32,79.41999800000002,78.559998,78.30999800000001,76.94000200000002,78.0,78.260002,78.809998,78.830002,79.95999900000001,79.080002,79.62000300000001,80.400002,80.27999900000002,80.860001,80.510002,80.16999800000002,80.290001,81.360001,80.459999,81.83000200000001,81.709999,82.86000100000001,83.12999700000002,82.32,82.919998,83.41000400000001,83.629997,84.629997,84.82,85.16999800000002,86.599998,86.5,85.779999,85.769997,85.019997,85.80999800000001,86.45999900000001,86.150002,85.580002,85.33999600000001,86.129997,86.510002,84.51999700000002,81.599998,81.37999700000002,80.82000000000001,81.199997,81.5,81.849998,81.970001,81.150002,79.839996,77.620003,78.30999800000001,77.529999,77.050003,78.77999900000002,79.68,80.669998,81.949997,81.63999900000002,81.989998,83.02999900000002,81.709999,80.870003,79.830002,78.0,77.38999900000002,78.190002,78.95999900000001,79.22000100000001,76.970001,77.559998,75.489998,76.980003,77.050003,78.449997,79.05999800000001,79.5,81.220001,79.43000000000002,78.38999900000002,77.639999,76.540001,76.68,76.01999700000002,76.980003,75.580002,74.040001,72.0,70.779999,68.629997,68.120003,65.510002,68.639999,68.940002,68.169998,68.190002,69.690002,68.620003,71.150002,71.519997,72.040001,72.419998,72.050003,71.720001,71.629997,71.669998,71.639999,72.129997,72.989998,71.889999,71.300003,71.400002,71.720001,71.239998,71.510002,72.290001,73.279999,75.91999800000002,74.82,75.589996,75.260002,74.68,73.980003,74.099998,75.400002,76.25,76.269997,77.709999,78.230003,78.52999900000002,77.82,78.41999800000002,78.50000000000001,78.660004,79.470001,79.029999,80.00000000000001,80.309998,80.190002,79.279999,80.160004,79.010002,79.779999,80.00000000000001,80.70999900000001,80.44000200000002,80.150002,81.08000200000001,80.870003,81.32,81.790001,80.480003,79.919998,80.959999,80.33999600000001,80.73999800000001,80.800003,81.73000300000001,81.37999700000002,80.900002,82.050003,82.48999800000001,83.0,81.93000000000002,81.55999800000001,81.949997,80.91999800000002,80.65000200000001,81.199997,81.43,81.129997,82.900002,83.379997,81.760002,82.220001,80.489998,79.97000100000001,80.27999900000002,78.669998,77.290001,77.47000100000001,77.12999700000002,76.72000100000001,76.83999600000001,76.76999700000002,76.55999800000001,75.70999900000001,75.809998,76.37000300000001,76.360001,75.910004,75.900002,76.25,75.55999800000001,73.790001,74.099998,72.610001,72.160004,71.970001,70.769997,71.879997,73.589996,72.980003,74.309998,74.580002,74.910004,74.839996,74.029999,74.68,74.349998,75.089996,75.73999800000001,75.32,76.610001,77.690002,76.949997,76.269997,76.599998,75.82000000000001,76.629997,76.55999800000001,75.72000100000001,76.440002,76.129997,76.480003,76.43,77.510002,77.57000000000001,77.629997,77.080002,75.93000000000002,75.480003,74.839996,74.989998,75.07,75.37000300000001,75.36000100000001,74.93,74.809998,75.33999600000001,75.34999800000001,74.360001,72.459999,71.75,70.279999,70.959999,70.5,72.379997,70.839996,69.629997,70.489998,67.650002,67.25,68.300003,69.449997,69.029999,69.720001,69.57,67.489998,67.849998,67.190002,67.68,68.43,68.480003,68.559998,69.290001,70.269997,70.93,71.489998,72.07,71.93,71.980003,72.639999,73.730003,73.169998,72.82,72.330002,72.080002,72.129997,71.139999,71.349998,70.970001,71.480003,70.610001,68.949997,67.150002,67.980003,68.970001,68.019997,66.699997,67.440002,68.25,68.980003,69.18,69.419998,68.230003,68.139999,67.610001,68.739998,69.089996,69.75,69.089996,69.25,68.639999,68.440002,67.720001,67.57,69.599998,71.669998,73.089996,71.489998,73.010002,70.769997,70.339996,69.370003,68.800003,68.5,69.190002,68.519997,67.82,68.029999,69.669998,69.370003,68.910004,68.739998,68.699997,68.129997,68.419998,67.879997,68.650002,68.410004,69.510002,69.660004,69.059998,68.959999,70.339996,69.230003,70.0,69.68,69.870003,69.389999,69.940002,70.290001,70.019997,70.129997,69.889999,69.480003,69.779999,70.900002,70.330002,70.870003,70.290001,69.230003,69.760002,69.139999,69.800003,69.199997,69.089996,68.82,68.559998,67.580002,67.190002,66.769997,66.32,64.739998,64.650002,64.110001,64.790001,62.119999,60.73,59.970001,62.73,61.880001,61.470001,59.95999900000001,60.529999,61.27,60.93,60.650002,59.880001,60.34,59.860001,59.130001,56.36000099999999,54.200001,53.009998,49.82,51.439999,53.880001,51.29999899999999,52.41999800000001,50.110001,47.689999,41.860001,43.41,41.98,37.18,38.119999,34.490002,36.810001,33.119999,34.43,32.740002,31.450001,35.439999,37.290001,38.82,36.950001,37.5,37.970001,37.529999,40.400002,39.209999,40.470001,41.240002,43.849998,43.130001,42.759998,42.43,40.48,39.150002,43.220001,41.18,40.959999,42.130001,43.450001,43.73,43.93999900000001,44.970001,47.459999,46.470001,43.139999,44.880001,44.830002,43.990002,44.240002,46.18000000000001,45.740002,44.119999,41.93,42.299999,42.0,45.34,43.93999900000001,45.369999,44.56000100000001,44.59999800000001,45.910000000000004,46.240002000000004,45.040001,45.470001,46.27999899999999,47.310001,49.24000199999999,49.099998,53.08000200000001,54.74000199999999,53.519999999999996,50.650002,46.18000000000001,47.169998,47.139999,48.200001,46.630001,46.91999800000001,45.98,46.419998,46.70000099999999,44.5,45.169998,43.619999,44.32,44.720001,43.709999,44.080002,44.389999,43.240002,43.139999,41.360001,42.650002,42.66,44.06999999999999,44.630001,44.279999,43.52,42.5,44.650002,43.610001,43.700001,43.43,44.06999999999999,43.549999,44.029999,41.869999,42.080002,42.25,43.470001,43.849998,43.639999,43.439999,44.509997999999996,44.970001,44.09,43.009998,43.200001,42.639999,42.43,41.959999,41.32,41.009998,42.220001,40.880001,40.009998,39.740002,40.689999,39.939999,39.43,39.189999,39.110001,39.080002,38.18,37.950001,37.0,36.900002,36.66,36.27,37.810001,37.799999,37.189999,36.43,35.529999,34.389999,34.32,34.639999,35.310001,34.279999,34.330002,33.130001,32.98,33.740002,33.389999,33.5,35.259998,34.740002,34.630001,34.220001,34.150002,34.450001,34.099998,33.419998,33.700001,33.16,34.860001,34.16,33.349998,32.82,31.57,32.970001,32.619999,33.990002,33.41,33.23,33.169998,32.779999,36.93,36.860001,36.48,35.23,36.080002,38.16,38.669998,37.209999,37.400002,36.939999,39.360001,41.98,40.810001,40.189999,38.130001,38.5,39.939999,40.209999,41.68,40.900002,42.240002,42.799999,44.00999800000001,43.799999,42.220001,43.040001,43.700001,43.48,42.73,41.950001,41.240002,41.77,41.599998,41.740002,41.27,41.599998,41.220001,41.5,43.5,44.610001,44.959999,45.459999,46.84,47.880001,48.419998,50.310001,47.88999900000001,48.84,49.529999,48.110001,47.43,46.90000200000001,45.86999900000001,45.349998,46.060001,44.84,44.919998,45.63000100000001,47.419998,48.330002,49.950001,52.099998,50.630001,51.119999,49.84000000000001,50.52000000000001,52.040001,52.849998,52.02,52.369999,54.299999,55.04999900000001,56.700001,55.759998,54.36999900000001,56.400002,56.07,56.519999999999996,58.709998999999996,60.93,60.869999,59.93,61.77],\"type\":\"scatter\"},{\"marker\":{\"color\":\"#FF7F0E\",\"size\":4},\"mode\":\"lines+markers\",\"name\":\"ActualTest\",\"x\":[802,803,804,805,806,807,808,809,810,811,812,813,814,815,816,817,818,819,820,821,822,823,824,825,826,827,828,829,830,831,832,833,834,835,836,837,838,839,840,841,842,843,844,845,846,847,848,849,850,851,852,853,854,855,856,857,858,859,860,861,862,863,864,865,866,867,868,869,870,871,872,873,874,875,876,877,878,879,880,881,882,883,884,885,886,887,888,889,890,891,892,893,894,895,896,897,898,899,900,901,902,903,904,905,906,907,908,909,910,911,912,913,914,915,916,917,918,919,920,921,922,923,924,925,926,927,928,929,930,931,932,933,934,935,936,937,938,939,940,941,942,943,944,945,946,947,948,949,950,951,952,953,954,955,956,957,958,959,960,961,962,963,964,965,966,967,968,969,970,971,972,973,974,975,976,977,978,979,980,981,982,983,984,985,986,987,988,989,990,991,992,993,994,995,996,997,998,999,1000,1001,1002,1003,1004,1005,1006,1007,1008,1009,1010,1011,1012,1013,1014,1015,1016,1017,1018,1019,1020,1021,1022,1023,1024,1025,1026,1027,1028,1029,1030,1031,1032,1033,1034,1035,1036,1037,1038,1039,1040,1041,1042,1043,1044,1045,1046,1047,1048,1049,1050,1051,1052,1053,1054,1055,1056,1057,1058,1059,1060,1061,1062,1063,1064,1065,1066,1067,1068],\"y\":[61.310001,61.970001,60.389999,59.110001,59.369999,56.810001,56.490002,55.91,55.220001,56.34,56.18,57.709999,57.400002,56.68999900000001,55.830002,57.389999,56.5,56.34,56.59000000000001,56.0,55.869999,55.5,55.70999900000001,57.32,56.98,56.66,56.48,55.290001000000004,56.0,55.27,55.57,55.68,56.41,58.110001,58.939999,57.240002000000004,58.82,59.18999900000001,60.970000999999996,61.549999,62.43,62.580002,60.59,60.040001,59.29999899999999,60.77,62.18999900000001,60.43,58.98,58.84,58.919998,59.610001,58.259998,58.939999,58.56000100000001,58.369999,60.459999,60.93999899999999,61.18,61.45000100000001,61.049999,62.13000100000001,62.65000199999999,62.75,62.16999800000001,62.07,64.330002,64.099998,61.990002,60.400002,62.589999999999996,63.790001000000004,64.260002,64.519997,64.660004,63.009998,62.619999,63.080002,63.259998,63.169998,61.369999,60.41,60.139999,61.23,61.169998,60.88000100000001,59.529999,58.95000100000001,57.32,55.349998,55.959999,57.759998,57.110001,57.04000099999999,58.48,57.830002,58.220001,58.93000000000001,57.57000000000001,57.580002,58.200001,56.84,57.200001,57.860001,57.200001,58.18,58.349998,57.34999799999999,56.77,55.939999,55.560001,54.389999,52.73,52.740002,54.91,55.360001,55.459999,54.709999,55.77,55.16,54.52,53.77,55.080002,54.86999899999999,54.549999,54.049999,54.09000000000001,53.98,55.369999,54.580002,56.419998,55.82,55.16,53.68999900000001,53.639999,55.209999,57.080002,57.59,59.29999899999999,59.919998,59.880001,58.82,60.93,61.720001,61.61999899999999,60.490002,60.66,62.18,61.56000099999999,61.240002,61.07,62.0,62.589999999999996,62.560001,63.5,63.849998,62.689999,63.119999,64.349998,65.839996,64.129997,64.309998,64.470001,65.629997,64.82,63.93,64.410004,65.019997,65.720001,66.360001,64.190002,64.309998,63.82,64.370003,65.019997,64.309998,63.61000099999999,60.669998,61.509998,63.130001,63.480000000000004,61.24999999999999,61.59,59.84,59.790001,61.279999,60.889999,61.58000199999999,62.27,62.450001,62.610001,63.009998,61.630001,61.540001,61.27,61.369999,60.029999,59.16,60.5,60.990002,61.02,61.88999900000001,61.689999,61.150002,60.790001000000004,61.189999,63.540001,65.93,66.75,68.32,68.879997,68.470001,71.349998,71.139999,70.629997,71.870003,73.080002,73.110001,73.269997,72.169998,72.790001,74.93,74.169998,75.120003,75.279999,75.959999,80.830002,80.62000300000001,79.68,81.410004,82.38999900000002,80.26000200000001,79.0,78.23999800000001,80.209999,78.980003,77.989998,78.349998,78.230003,77.360001,76.45999900000001,76.76999700000002,75.800003,77.83999600000001,78.41999800000002,79.16999800000002,80.529999,81.040001,84.089996,87.12000300000001,87.779999,82.790001,85.36000100000001,84.919998,81.879997,77.220001,76.93000000000002,78.980003,78.669998,82.19999700000001,81.839996,83.12999700000002,83.379997,85.199997,82.809998,82.370003,83.77999900000002],\"type\":\"scatter\"},{\"marker\":{\"color\":\"#2CA02C\",\"size\":4},\"mode\":\"lines+markers\",\"name\":\"PredictedTest\",\"x\":[802,803,804,805,806,807,808,809,810,811,812,813,814,815,816,817,818,819,820,821,822,823,824,825,826,827,828,829,830,831,832,833,834,835,836,837,838,839,840,841,842,843,844,845,846,847,848,849,850,851,852,853,854,855,856,857,858,859,860,861,862,863,864,865,866,867,868,869,870,871,872,873,874,875,876,877,878,879,880,881,882,883,884,885,886,887,888,889,890,891,892,893,894,895,896,897,898,899,900,901,902,903,904,905,906,907,908,909,910,911,912,913,914,915,916,917,918,919,920,921,922,923,924,925,926,927,928,929,930,931,932,933,934,935,936,937,938,939,940,941,942,943,944,945,946,947,948,949,950,951,952,953,954,955,956,957,958,959,960,961,962,963,964,965,966,967,968,969,970,971,972,973,974,975,976,977,978,979,980,981,982,983,984,985,986,987,988,989,990,991,992,993,994,995,996,997,998,999,1000,1001,1002,1003,1004,1005,1006,1007,1008,1009,1010,1011,1012,1013,1014,1015,1016,1017,1018,1019,1020,1021,1022,1023,1024,1025,1026,1027,1028,1029,1030,1031,1032,1033,1034,1035,1036,1037,1038,1039,1040,1041,1042,1043,1044,1045,1046,1047,1048,1049,1050,1051,1052,1053,1054,1055,1056,1057,1058,1059,1060,1061,1062,1063,1064,1065,1066,1067,1068],\"y\":[60.8811149597168,61.18177795410156,61.45054244995117,61.08600997924805,60.17166519165039,59.408607482910156,58.11813735961914,56.944969177246094,56.00861358642578,55.25971221923828,55.18962097167969,55.38286590576172,56.12932205200195,56.7858772277832,56.992958068847656,56.68102264404297,56.728790283203125,56.595035552978516,56.371055603027344,56.24604797363281,56.00486755371094,55.75041961669922,55.45206832885742,55.29544448852539,55.74803924560547,56.203826904296875,56.43608856201172,56.45610427856445,56.008995056152344,55.73039627075195,55.36383819580078,55.16938018798828,55.137474060058594,55.41394805908203,56.268287658691406,57.36210632324219,57.686336517333984,58.10916519165039,58.53312683105469,59.3817253112793,60.30496597290039,61.24805450439453,61.938743591308594,61.64781951904297,60.879878997802734,59.90873336791992,59.629730224609375,60.16509246826172,60.298885345458984,59.80103302001953,59.18367004394531,58.737586975097656,58.72114944458008,58.452823638916016,58.40385818481445,58.33557891845703,58.22660827636719,58.804649353027344,59.6215934753418,60.36053466796875,60.921546936035156,61.091976165771484,61.390689849853516,61.78944396972656,62.119163513183594,62.11782455444336,61.95023727416992,62.507423400878906,63.080631256103516,62.79064178466797,61.7510986328125,61.46831130981445,61.94472885131836,62.73292541503906,63.498714447021484,64.069091796875,63.828853607177734,63.221107482910156,62.79954528808594,62.627769470214844,62.576988220214844,62.00364685058594,61.11427307128906,60.3021240234375,60.13361358642578,60.25520706176758,60.378334045410156,60.04167938232422,59.4553337097168,58.429386138916016,56.928707122802734,55.900638580322266,55.933265686035156,56.182498931884766,56.450279235839844,57.11421203613281,57.527488708496094,57.84092330932617,58.23015594482422,58.07853317260742,57.75431442260742,57.63919448852539,57.19774627685547,56.881378173828125,56.916961669921875,56.877498626708984,57.144840240478516,57.51062774658203,57.49559020996094,57.15927505493164,56.535545349121094,55.867427825927734,55.01926040649414,53.85260772705078,52.92570114135742,53.04094314575195,53.69143295288086,54.42345428466797,54.75712585449219,55.164432525634766,55.27504348754883,55.024776458740234,54.459190368652344,54.32693099975586,54.32777786254883,54.28693771362305,54.09353256225586,53.9141845703125,53.76217269897461,54.097930908203125,54.287628173828125,54.94233703613281,55.397987365722656,55.4370002746582,54.83808135986328,54.142539978027344,54.08564376831055,54.87289047241211,55.931617736816406,57.335235595703125,58.64999008178711,59.50819396972656,59.562217712402344,59.93574142456055,60.53424835205078,60.9853401184082,60.863243103027344,60.60796356201172,60.86375045776367,61.029502868652344,61.01819610595703,60.89449691772461,61.073856353759766,61.508216857910156,61.90180587768555,62.471458435058594,63.04043960571289,63.040016174316406,62.95868682861328,63.26063537597656,64.09575653076172,64.2905044555664,64.24645233154297,64.16386413574219,64.47010803222656,64.54522705078125,64.217041015625,64.00300598144531,64.09883117675781,64.51852416992188,65.14871215820312,64.93003845214844,64.51127624511719,63.972537994384766,63.739898681640625,63.91231155395508,63.95233154296875,63.709510803222656,62.467926025390625,61.531517028808594,61.52752685546875,62.00325393676758,61.80168914794922,61.540348052978516,60.7611198425293,60.016483306884766,59.99460220336914,60.13011169433594,60.52437210083008,61.12644577026367,61.68085861206055,62.09168243408203,62.43741226196289,62.17686462402344,61.72650909423828,61.2391242980957,60.91664123535156,60.3238525390625,59.546695709228516,59.38519287109375,59.67777633666992,60.08662033081055,60.71528244018555,61.17350769042969,61.24737548828125,61.02371597290039,60.870567321777344,61.54524612426758,63.1066780090332,64.79378509521484,66.52364349365234,67.8819351196289,68.48348236083984,69.55872344970703,70.32752227783203,70.52507781982422,70.85765838623047,71.52983856201172,72.10407257080078,72.51177978515625,72.33116149902344,72.22410583496094,72.93851470947266,73.4373550415039,74.05167388916016,74.55365753173828,75.08688354492188,77.21762084960938,79.08201599121094,79.84813690185547,80.56932067871094,81.32438659667969,80.97379302978516,79.87322998046875,78.60021209716797,78.45142364501953,78.2990493774414,77.88406372070312,77.69554901123047,77.62891387939453,77.32788848876953,76.73509216308594,76.36772155761719,75.84891510009766,76.21404266357422,76.9715805053711,77.8896484375,79.04325103759766,80.04176330566406,81.75418090820312,84.21562194824219,86.26053619384766,85.42945098876953,84.87842559814453,84.35953521728516,82.85648345947266,79.82928466796875,77.32486724853516,76.68879699707031,76.87561798095703,78.70397186279297,80.39181518554688,81.96781921386719,83.0149154663086,84.14764404296875,83.90039825439453,83.04666137695312],\"type\":\"scatter\"},{\"marker\":{\"color\":\"#D62728\",\"size\":4},\"mode\":\"lines+markers\",\"name\":\"ActualValidate\",\"x\":[1069,1070,1071,1072,1073,1074,1075,1076,1077,1078,1079,1080,1081,1082,1083,1084,1085,1086,1087,1088,1089,1090,1091,1092,1093,1094,1095,1096,1097,1098,1099,1100,1101,1102,1103,1104,1105,1106,1107,1108,1109,1110,1111,1112,1113,1114,1115,1116,1117,1118,1119,1120,1121,1122,1123,1124,1125,1126,1127,1128,1129,1130,1131,1132,1133,1134,1135,1136,1137,1138,1139,1140,1141,1142,1143,1144,1145,1146,1147,1148,1149,1150,1151,1152,1153,1154,1155,1156,1157,1158,1159,1160,1161,1162,1163,1164,1165,1166,1167,1168,1169,1170,1171,1172,1173,1174,1175,1176,1177,1178,1179,1180,1181,1182,1183,1184,1185,1186,1187,1188,1189,1190,1191,1192,1193,1194,1195,1196,1197,1198,1199,1200,1201,1202,1203,1204,1205,1206,1207,1208,1209,1210,1211,1212,1213,1214,1215,1216,1217,1218,1219,1220,1221,1222,1223,1224,1225,1226,1227,1228,1229,1230,1231,1232,1233,1234,1235,1236,1237,1238,1239,1240,1241,1242,1243,1244,1245,1246,1247,1248,1249,1250,1251,1252,1253,1254,1255,1256,1257,1258,1259,1260,1261,1262,1263,1264,1265,1266,1267,1268,1269,1270,1271,1272,1273,1274,1275,1276,1277,1278,1279,1280,1281,1282,1283,1284,1285,1286,1287,1288,1289,1290,1291,1292,1293,1294,1295,1296,1297,1298,1299,1300,1301,1302,1303,1304,1305,1306,1307,1308,1309,1310,1311,1312,1313,1314,1315,1316,1317,1318,1319,1320,1321,1322,1323,1324,1325,1326,1327,1328,1329,1330,1331,1332,1333,1334,1335,1336],\"y\":[82.589996,83.12000300000001,83.160004,82.73000300000001,83.650002,85.050003,86.839996,83.84999800000001,85.59999800000001,86.80999800000001,87.83000199999998,88.550003,87.760002,87.959999,87.02999900000002,85.129997,82.260002,82.29000100000002,84.639999,87.19999700000001,85.25000000000001,86.410004,88.190002,91.699997,90.309998,91.690002,84.459999,85.019997,86.790001,86.300003,88.86000099999998,90.949997,92.11000100000001,90.650002,91.139999,91.860001,93.889999,94.400002,96.300003,96.639999,97.589996,96.0,97.839996,97.669998,99.089996,98.83999600000001,103.37000299999998,104.589996,102.330002,100.459999,95.849998,96.099998,94.889999,91.389999,86.120003,91.480003,87.86000100000001,85.209999,86.900002,89.029999,91.5,88.12000299999998,85.639999,87.55000300000002,84.80999800000001,83.279999,85.940002,86.08000200000001,85.639999,84.50000000000001,84.839996,83.139999,84.540001,86.099998,88.269997,89.23999800000001,87.74999999999999,87.08000200000001,89.980003,89.629997,91.57,92.63999899999999,96.93,94.48000300000001,94.07,91.019997,87.19000200000002,88.449997,88.94999700000001,90.589996,91.44999700000001,93.19000199999999,94.0,92.32,91.459999,92.199997,94.379997,94.080002,94.010002,97.99999999999999,98.580002,99.089996,97.870003,100.120003,96.309998,95.58999599999999,93.870003,95.58999599999999,94.94999699999998,94.139999,94.910004,96.5,97.610001,95.33000200000001,97.669998,94.830002,93.209999,93.19999700000001,92.440002,90.949997,90.57,85.75,83.980003,85.739998,88.86000099999998,88.68000000000002,87.309998,91.91999800000002,95.269997,99.12000299999998,102.059998,101.029999,98.83999600000001,97.99999999999999,98.43,101.870003,99.190002,100.620003,100.80000300000002,103.790001,103.93000000000002,105.860001,106.599998,105.879997,107.13999899999999,107.550003,110.699997,110.809998,111.910004,109.610001,111.099998,112.309998,113.639999,114.00000000000001,108.900002,110.5,113.949997,113.370003,114.129997,112.91000400000001,113.059998,112.080002,110.970001,114.17999999999999,113.610001,113.209999,109.809998,110.540001,111.339996,110.800003,109.86000100000001,106.849998,103.879997,103.650002,104.419998,103.540001,106.089996,107.24999999999999,106.459999,105.440002,104.699997,105.169998,106.69000199999999,108.059998,105.879997,108.68,110.190002,108.379997,109.19999700000001,110.30000299999999,106.51000200000001,106.82,109.209999,110.529999,108.470001,110.089996,111.370003,113.220001,113.150002,112.93,110.610001,111.32000000000001,113.349998,112.760002,113.80999799999998,113.209999,117.760002,115.610001,113.559998,116.010002,114.73999799999999,111.15000199999999,111.919998,111.730003,114.91999799999999,113.91999800000002,114.34999800000001,119.16999799999999,117.80000300000002,116.419998,116.07,115.73000299999998,111.279999,111.169998,109.73000300000001,110.739998,110.75,110.550003,109.910004,110.889999,111.400002,112.80999800000001,113.80999799999998,111.61000100000001,109.980003,109.129997,107.779999,106.540001,106.940002,101.62000300000001,101.029999,99.83999599999999,102.44999700000001,107.040001,104.589996,103.410004,103.529999,105.800003,107.120003,108.959999,109.489998,109.66000399999999,116.12999700000002,115.019997,116.989998,115.050003,114.540001,115.349998,115.230003,115.76999699999999,116.050003,114.699997,116.94000199999999,116.57,115.639999,116.010002,118.199997,116.51999700000002],\"type\":\"scatter\"},{\"marker\":{\"color\":\"#9569BE\",\"size\":4},\"mode\":\"lines+markers\",\"name\":\"PredictedValidate\",\"x\":[1069,1070,1071,1072,1073,1074,1075,1076,1077,1078,1079,1080,1081,1082,1083,1084,1085,1086,1087,1088,1089,1090,1091,1092,1093,1094,1095,1096,1097,1098,1099,1100,1101,1102,1103,1104,1105,1106,1107,1108,1109,1110,1111,1112,1113,1114,1115,1116,1117,1118,1119,1120,1121,1122,1123,1124,1125,1126,1127,1128,1129,1130,1131,1132,1133,1134,1135,1136,1137,1138,1139,1140,1141,1142,1143,1144,1145,1146,1147,1148,1149,1150,1151,1152,1153,1154,1155,1156,1157,1158,1159,1160,1161,1162,1163,1164,1165,1166,1167,1168,1169,1170,1171,1172,1173,1174,1175,1176,1177,1178,1179,1180,1181,1182,1183,1184,1185,1186,1187,1188,1189,1190,1191,1192,1193,1194,1195,1196,1197,1198,1199,1200,1201,1202,1203,1204,1205,1206,1207,1208,1209,1210,1211,1212,1213,1214,1215,1216,1217,1218,1219,1220,1221,1222,1223,1224,1225,1226,1227,1228,1229,1230,1231,1232,1233,1234,1235,1236,1237,1238,1239,1240,1241,1242,1243,1244,1245,1246,1247,1248,1249,1250,1251,1252,1253,1254,1255,1256,1257,1258,1259,1260,1261,1262,1263,1264,1265,1266,1267,1268,1269,1270,1271,1272,1273,1274,1275,1276,1277,1278,1279,1280,1281,1282,1283,1284,1285,1286,1287,1288,1289,1290,1291,1292,1293,1294,1295,1296,1297,1298,1299,1300,1301,1302,1303,1304,1305,1306,1307,1308,1309,1310,1311,1312,1313,1314,1315,1316,1317,1318,1319,1320,1321,1322,1323,1324,1325,1326,1327,1328,1329,1330,1331,1332,1333,1334,1335,1336],\"y\":[82.76824951171875,82.28614044189453,82.1182632446289,82.14034271240234,82.07743835449219,82.38520812988281,83.25949096679688,84.71463775634766,84.68130493164062,84.83988952636719,85.42997741699219,86.32596588134766,87.26509857177734,87.54546356201172,87.56476593017578,87.09581756591797,85.88251495361328,83.76005554199219,82.15031433105469,82.22434997558594,83.8765869140625,84.77013397216797,85.58472442626953,86.75142669677734,88.9569091796875,90.08905792236328,90.95225524902344,88.43668365478516,85.96245574951172,85.05286407470703,84.8160171508789,85.96753692626953,88.04380798339844,90.17237091064453,90.94766998291016,91.15333557128906,91.3134536743164,92.15955352783203,93.0726089477539,94.41883850097656,95.50222778320312,96.45629119873047,96.30673217773438,96.60936737060547,96.83213806152344,97.53994750976562,98.02017974853516,100.16353607177734,102.48705291748047,102.9744873046875,101.87474822998047,98.72080993652344,96.2920913696289,94.54405212402344,92.32695007324219,88.79600524902344,88.46099090576172,87.87223815917969,86.4931640625,86.09317779541016,87.00659942626953,89.00320434570312,89.25135040283203,87.81816101074219,87.04515075683594,85.61311340332031,83.88802337646484,83.73167419433594,84.21609497070312,84.61519622802734,84.4300765991211,84.26194763183594,83.49409484863281,83.35108947753906,84.06476593017578,85.66221618652344,87.36160278320312,87.87505340576172,87.51274108886719,88.08963012695312,88.57319641113281,89.61563110351562,90.86630249023438,93.44778442382812,94.45639038085938,94.3946533203125,92.71337127685547,89.59101104736328,87.70884704589844,87.15556335449219,87.98155975341797,89.3873062133789,91.22903442382812,92.86727905273438,93.1111831665039,92.40938568115234,91.89558410644531,92.46370697021484,93.01420593261719,93.32626342773438,95.075439453125,96.82890319824219,98.11293029785156,98.200927734375,98.77742767333984,97.62354278564453,96.08753967285156,94.31133270263672,93.89686584472656,93.85315704345703,93.6898193359375,93.92598724365234,94.87947845458984,96.16249084472656,96.09972381591797,96.58654022216797,95.81168365478516,94.25265502929688,93.01956939697266,92.04657745361328,90.95446014404297,90.13447570800781,87.82098388671875,85.2662124633789,84.30647277832031,85.48518371582031,86.9286880493164,87.44024658203125,89.28089904785156,92.15933227539062,95.81385803222656,99.46038818359375,101.1335220336914,100.45967102050781,98.82610321044922,97.62659454345703,98.46619415283203,98.52090454101562,99.02064514160156,99.58963775634766,101.28020477294922,102.72820281982422,104.37041473388672,105.70014190673828,106.03854370117188,106.43560791015625,106.80538940429688,108.3676986694336,109.66316223144531,110.82769775390625,110.41443634033203,110.35594177246094,110.9284439086914,112.04329681396484,113.02247619628906,111.26598358154297,110.19244384765625,111.28428649902344,112.30523681640625,113.27014923095703,113.2599868774414,113.02499389648438,112.34638214111328,111.31281280517578,112.05703735351562,112.73970794677734,112.96904754638672,111.43975830078125,110.3784408569336,110.2349853515625,110.19342041015625,109.81401824951172,108.17741394042969,105.568359375,103.67439270019531,103.13044738769531,102.88372039794922,104.00049591064453,105.60112762451172,106.35302734375,106.06111145019531,105.18408966064453,104.62931823730469,105.01779174804688,106.11769104003906,106.03202819824219,106.86759948730469,108.26764678955078,108.4501953125,108.553955078125,109.04235076904297,107.74628448486328,106.6214370727539,107.06192779541016,108.39344024658203,108.57444763183594,109.09422302246094,110.04483032226562,111.53582763671875,112.5041275024414,112.78375244140625,111.6561279296875,110.88558197021484,111.42835998535156,111.8714828491211,112.61509704589844,112.87344360351562,114.95111083984375,115.66094207763672,114.74569702148438,114.83320617675781,114.54051971435547,112.64962005615234,111.48565673828125,110.9502944946289,112.31666564941406,113.24555206298828,113.89617919921875,116.36453247070312,117.6144027709961,117.30948638916016,116.45560455322266,115.5872802734375,113.03607177734375,111.0931396484375,109.53829193115234,109.29451751708984,109.62149810791016,109.96941375732422,109.9331283569336,110.24031829833984,110.7161865234375,111.64010620117188,112.70997619628906,112.33226776123047,110.92256927490234,109.38329315185547,107.83738708496094,106.41850280761719,105.86031341552734,103.51872253417969,101.4517593383789,99.83686828613281,100.19137573242188,103.02999877929688,104.46575164794922,104.39923858642578,103.87928771972656,104.32007598876953,105.37093353271484,106.94666290283203,108.23339080810547,108.94302368164062,112.01844024658203,113.94304656982422,115.59243774414062,115.50572967529297,114.67994689941406,114.32600402832031,114.2089614868164,114.50923919677734,114.98838806152344,114.75528717041016,115.48672485351562,116.01815795898438,115.8612289428711,115.74408721923828,116.67227172851562],\"type\":\"scatter\"},{\"marker\":{\"color\":\"#000000\",\"size\":4},\"mode\":\"lines+markers\",\"name\":\"Next30Days\",\"x\":[1337,1338,1339,1340,1341,1342,1343,1344,1345,1346,1347,1348,1349,1350,1351,1352,1353,1354,1355,1356,1357,1358,1359,1360,1361,1362,1363,1364,1365,1366],\"y\":[116.70852615939988,116.56788421980139,116.3467596832201,116.08183061227115,115.79237455746939,115.49114910581137,115.18669242925014,114.88419644741174,114.5860349080406,114.2923594381953,114.0018263084258,113.71226568323883,113.42118355894692,113.12621664484419,112.82539378916927,112.51735034839507,112.20127590203614,111.87703973711099,111.54484576587076,111.20530572506901,110.85924572074892,110.50756505822338,110.15112644317044,109.7907455245948,109.42708109592333,109.06064032352431,108.6917944322653,108.32075779143598,107.94766634253712,107.57257237076135],\"type\":\"scatter\"}],                        {\"template\":{\"data\":{\"histogram2dcontour\":[{\"type\":\"histogram2dcontour\",\"colorbar\":{\"outlinewidth\":0,\"ticks\":\"\"},\"colorscale\":[[0.0,\"#0d0887\"],[0.1111111111111111,\"#46039f\"],[0.2222222222222222,\"#7201a8\"],[0.3333333333333333,\"#9c179e\"],[0.4444444444444444,\"#bd3786\"],[0.5555555555555556,\"#d8576b\"],[0.6666666666666666,\"#ed7953\"],[0.7777777777777778,\"#fb9f3a\"],[0.8888888888888888,\"#fdca26\"],[1.0,\"#f0f921\"]]}],\"choropleth\":[{\"type\":\"choropleth\",\"colorbar\":{\"outlinewidth\":0,\"ticks\":\"\"}}],\"histogram2d\":[{\"type\":\"histogram2d\",\"colorbar\":{\"outlinewidth\":0,\"ticks\":\"\"},\"colorscale\":[[0.0,\"#0d0887\"],[0.1111111111111111,\"#46039f\"],[0.2222222222222222,\"#7201a8\"],[0.3333333333333333,\"#9c179e\"],[0.4444444444444444,\"#bd3786\"],[0.5555555555555556,\"#d8576b\"],[0.6666666666666666,\"#ed7953\"],[0.7777777777777778,\"#fb9f3a\"],[0.8888888888888888,\"#fdca26\"],[1.0,\"#f0f921\"]]}],\"heatmap\":[{\"type\":\"heatmap\",\"colorbar\":{\"outlinewidth\":0,\"ticks\":\"\"},\"colorscale\":[[0.0,\"#0d0887\"],[0.1111111111111111,\"#46039f\"],[0.2222222222222222,\"#7201a8\"],[0.3333333333333333,\"#9c179e\"],[0.4444444444444444,\"#bd3786\"],[0.5555555555555556,\"#d8576b\"],[0.6666666666666666,\"#ed7953\"],[0.7777777777777778,\"#fb9f3a\"],[0.8888888888888888,\"#fdca26\"],[1.0,\"#f0f921\"]]}],\"heatmapgl\":[{\"type\":\"heatmapgl\",\"colorbar\":{\"outlinewidth\":0,\"ticks\":\"\"},\"colorscale\":[[0.0,\"#0d0887\"],[0.1111111111111111,\"#46039f\"],[0.2222222222222222,\"#7201a8\"],[0.3333333333333333,\"#9c179e\"],[0.4444444444444444,\"#bd3786\"],[0.5555555555555556,\"#d8576b\"],[0.6666666666666666,\"#ed7953\"],[0.7777777777777778,\"#fb9f3a\"],[0.8888888888888888,\"#fdca26\"],[1.0,\"#f0f921\"]]}],\"contourcarpet\":[{\"type\":\"contourcarpet\",\"colorbar\":{\"outlinewidth\":0,\"ticks\":\"\"}}],\"contour\":[{\"type\":\"contour\",\"colorbar\":{\"outlinewidth\":0,\"ticks\":\"\"},\"colorscale\":[[0.0,\"#0d0887\"],[0.1111111111111111,\"#46039f\"],[0.2222222222222222,\"#7201a8\"],[0.3333333333333333,\"#9c179e\"],[0.4444444444444444,\"#bd3786\"],[0.5555555555555556,\"#d8576b\"],[0.6666666666666666,\"#ed7953\"],[0.7777777777777778,\"#fb9f3a\"],[0.8888888888888888,\"#fdca26\"],[1.0,\"#f0f921\"]]}],\"surface\":[{\"type\":\"surface\",\"colorbar\":{\"outlinewidth\":0,\"ticks\":\"\"},\"colorscale\":[[0.0,\"#0d0887\"],[0.1111111111111111,\"#46039f\"],[0.2222222222222222,\"#7201a8\"],[0.3333333333333333,\"#9c179e\"],[0.4444444444444444,\"#bd3786\"],[0.5555555555555556,\"#d8576b\"],[0.6666666666666666,\"#ed7953\"],[0.7777777777777778,\"#fb9f3a\"],[0.8888888888888888,\"#fdca26\"],[1.0,\"#f0f921\"]]}],\"mesh3d\":[{\"type\":\"mesh3d\",\"colorbar\":{\"outlinewidth\":0,\"ticks\":\"\"}}],\"scatter\":[{\"fillpattern\":{\"fillmode\":\"overlay\",\"size\":10,\"solidity\":0.2},\"type\":\"scatter\"}],\"parcoords\":[{\"type\":\"parcoords\",\"line\":{\"colorbar\":{\"outlinewidth\":0,\"ticks\":\"\"}}}],\"scatterpolargl\":[{\"type\":\"scatterpolargl\",\"marker\":{\"colorbar\":{\"outlinewidth\":0,\"ticks\":\"\"}}}],\"bar\":[{\"error_x\":{\"color\":\"#2a3f5f\"},\"error_y\":{\"color\":\"#2a3f5f\"},\"marker\":{\"line\":{\"color\":\"#E5ECF6\",\"width\":0.5},\"pattern\":{\"fillmode\":\"overlay\",\"size\":10,\"solidity\":0.2}},\"type\":\"bar\"}],\"scattergeo\":[{\"type\":\"scattergeo\",\"marker\":{\"colorbar\":{\"outlinewidth\":0,\"ticks\":\"\"}}}],\"scatterpolar\":[{\"type\":\"scatterpolar\",\"marker\":{\"colorbar\":{\"outlinewidth\":0,\"ticks\":\"\"}}}],\"histogram\":[{\"marker\":{\"pattern\":{\"fillmode\":\"overlay\",\"size\":10,\"solidity\":0.2}},\"type\":\"histogram\"}],\"scattergl\":[{\"type\":\"scattergl\",\"marker\":{\"colorbar\":{\"outlinewidth\":0,\"ticks\":\"\"}}}],\"scatter3d\":[{\"type\":\"scatter3d\",\"line\":{\"colorbar\":{\"outlinewidth\":0,\"ticks\":\"\"}},\"marker\":{\"colorbar\":{\"outlinewidth\":0,\"ticks\":\"\"}}}],\"scattermapbox\":[{\"type\":\"scattermapbox\",\"marker\":{\"colorbar\":{\"outlinewidth\":0,\"ticks\":\"\"}}}],\"scatterternary\":[{\"type\":\"scatterternary\",\"marker\":{\"colorbar\":{\"outlinewidth\":0,\"ticks\":\"\"}}}],\"scattercarpet\":[{\"type\":\"scattercarpet\",\"marker\":{\"colorbar\":{\"outlinewidth\":0,\"ticks\":\"\"}}}],\"carpet\":[{\"aaxis\":{\"endlinecolor\":\"#2a3f5f\",\"gridcolor\":\"white\",\"linecolor\":\"white\",\"minorgridcolor\":\"white\",\"startlinecolor\":\"#2a3f5f\"},\"baxis\":{\"endlinecolor\":\"#2a3f5f\",\"gridcolor\":\"white\",\"linecolor\":\"white\",\"minorgridcolor\":\"white\",\"startlinecolor\":\"#2a3f5f\"},\"type\":\"carpet\"}],\"table\":[{\"cells\":{\"fill\":{\"color\":\"#EBF0F8\"},\"line\":{\"color\":\"white\"}},\"header\":{\"fill\":{\"color\":\"#C8D4E3\"},\"line\":{\"color\":\"white\"}},\"type\":\"table\"}],\"barpolar\":[{\"marker\":{\"line\":{\"color\":\"#E5ECF6\",\"width\":0.5},\"pattern\":{\"fillmode\":\"overlay\",\"size\":10,\"solidity\":0.2}},\"type\":\"barpolar\"}],\"pie\":[{\"automargin\":true,\"type\":\"pie\"}]},\"layout\":{\"autotypenumbers\":\"strict\",\"colorway\":[\"#636efa\",\"#EF553B\",\"#00cc96\",\"#ab63fa\",\"#FFA15A\",\"#19d3f3\",\"#FF6692\",\"#B6E880\",\"#FF97FF\",\"#FECB52\"],\"font\":{\"color\":\"#2a3f5f\"},\"hovermode\":\"closest\",\"hoverlabel\":{\"align\":\"left\"},\"paper_bgcolor\":\"white\",\"plot_bgcolor\":\"#E5ECF6\",\"polar\":{\"bgcolor\":\"#E5ECF6\",\"angularaxis\":{\"gridcolor\":\"white\",\"linecolor\":\"white\",\"ticks\":\"\"},\"radialaxis\":{\"gridcolor\":\"white\",\"linecolor\":\"white\",\"ticks\":\"\"}},\"ternary\":{\"bgcolor\":\"#E5ECF6\",\"aaxis\":{\"gridcolor\":\"white\",\"linecolor\":\"white\",\"ticks\":\"\"},\"baxis\":{\"gridcolor\":\"white\",\"linecolor\":\"white\",\"ticks\":\"\"},\"caxis\":{\"gridcolor\":\"white\",\"linecolor\":\"white\",\"ticks\":\"\"}},\"coloraxis\":{\"colorbar\":{\"outlinewidth\":0,\"ticks\":\"\"}},\"colorscale\":{\"sequential\":[[0.0,\"#0d0887\"],[0.1111111111111111,\"#46039f\"],[0.2222222222222222,\"#7201a8\"],[0.3333333333333333,\"#9c179e\"],[0.4444444444444444,\"#bd3786\"],[0.5555555555555556,\"#d8576b\"],[0.6666666666666666,\"#ed7953\"],[0.7777777777777778,\"#fb9f3a\"],[0.8888888888888888,\"#fdca26\"],[1.0,\"#f0f921\"]],\"sequentialminus\":[[0.0,\"#0d0887\"],[0.1111111111111111,\"#46039f\"],[0.2222222222222222,\"#7201a8\"],[0.3333333333333333,\"#9c179e\"],[0.4444444444444444,\"#bd3786\"],[0.5555555555555556,\"#d8576b\"],[0.6666666666666666,\"#ed7953\"],[0.7777777777777778,\"#fb9f3a\"],[0.8888888888888888,\"#fdca26\"],[1.0,\"#f0f921\"]],\"diverging\":[[0,\"#8e0152\"],[0.1,\"#c51b7d\"],[0.2,\"#de77ae\"],[0.3,\"#f1b6da\"],[0.4,\"#fde0ef\"],[0.5,\"#f7f7f7\"],[0.6,\"#e6f5d0\"],[0.7,\"#b8e186\"],[0.8,\"#7fbc41\"],[0.9,\"#4d9221\"],[1,\"#276419\"]]},\"xaxis\":{\"gridcolor\":\"white\",\"linecolor\":\"white\",\"ticks\":\"\",\"title\":{\"standoff\":15},\"zerolinecolor\":\"white\",\"automargin\":true,\"zerolinewidth\":2},\"yaxis\":{\"gridcolor\":\"white\",\"linecolor\":\"white\",\"ticks\":\"\",\"title\":{\"standoff\":15},\"zerolinecolor\":\"white\",\"automargin\":true,\"zerolinewidth\":2},\"scene\":{\"xaxis\":{\"backgroundcolor\":\"#E5ECF6\",\"gridcolor\":\"white\",\"linecolor\":\"white\",\"showbackground\":true,\"ticks\":\"\",\"zerolinecolor\":\"white\",\"gridwidth\":2},\"yaxis\":{\"backgroundcolor\":\"#E5ECF6\",\"gridcolor\":\"white\",\"linecolor\":\"white\",\"showbackground\":true,\"ticks\":\"\",\"zerolinecolor\":\"white\",\"gridwidth\":2},\"zaxis\":{\"backgroundcolor\":\"#E5ECF6\",\"gridcolor\":\"white\",\"linecolor\":\"white\",\"showbackground\":true,\"ticks\":\"\",\"zerolinecolor\":\"white\",\"gridwidth\":2}},\"shapedefaults\":{\"line\":{\"color\":\"#2a3f5f\"}},\"annotationdefaults\":{\"arrowcolor\":\"#2a3f5f\",\"arrowhead\":0,\"arrowwidth\":1},\"geo\":{\"bgcolor\":\"white\",\"landcolor\":\"#E5ECF6\",\"subunitcolor\":\"white\",\"showland\":true,\"showlakes\":true,\"lakecolor\":\"white\"},\"title\":{\"x\":0.05},\"mapbox\":{\"style\":\"light\"}}},\"legend\":{\"orientation\":\"h\",\"x\":0.5,\"xanchor\":\"center\"},\"xaxis\":{\"gridcolor\":\"lightgrey\",\"title\":{\"text\":\"Timestep\"}},\"yaxis\":{\"gridcolor\":\"lightgrey\",\"title\":{\"text\":\"Stock price\"}},\"title\":{\"text\":\"LSTM 6:2:2 (XOM Stock Price)\",\"x\":0.5},\"margin\":{\"l\":0,\"r\":0,\"t\":30,\"b\":0},\"plot_bgcolor\":\"#FFFFFF\"},                        {\"responsive\": true}                    ).then(function(){\n",
              "                            \n",
              "var gd = document.getElementById('1d31b64e-a96c-428f-a09d-6028f060d6f8');\n",
              "var x = new MutationObserver(function (mutations, observer) {{\n",
              "        var display = window.getComputedStyle(gd).display;\n",
              "        if (!display || display === 'none') {{\n",
              "            console.log([gd, 'removed!']);\n",
              "            Plotly.purge(gd);\n",
              "            observer.disconnect();\n",
              "        }}\n",
              "}});\n",
              "\n",
              "// Listen for the removal of the full notebook cells\n",
              "var notebookContainer = gd.closest('#notebook-container');\n",
              "if (notebookContainer) {{\n",
              "    x.observe(notebookContainer, {childList: true});\n",
              "}}\n",
              "\n",
              "// Listen for the clearing of the current output cell\n",
              "var outputEl = gd.closest('.output');\n",
              "if (outputEl) {{\n",
              "    x.observe(outputEl, {childList: true});\n",
              "}}\n",
              "\n",
              "                        })                };                            </script>        </div>\n",
              "</body>\n",
              "</html>"
            ]
          },
          "metadata": {}
        }
      ]
    },
    {
      "cell_type": "markdown",
      "source": [
        "\n",
        "\n",
        "*   Plot 3\n",
        "\n"
      ],
      "metadata": {
        "id": "_xdmjnSgf96v"
      }
    },
    {
      "cell_type": "code",
      "source": [
        "prediect_index = pd.RangeIndex(start=1, stop=1+n_days, step=1)\n",
        "\n",
        "fig2 = go.Figure()\n",
        "fig2.add_trace(go.Scatter(x=prediect_index, y=scaler.inverse_transform(lst_output)[:, 0], mode='lines+markers', marker=dict(size=4), name='Next30Days', marker_color='#FF7F0E'))\n",
        "for i in range(len(prediect_index)):\n",
        "  fig2.add_annotation(\n",
        "      x=prediect_index[i],\n",
        "      y=scaler.inverse_transform(lst_output)[i, 0],\n",
        "      text=f\"{scaler.inverse_transform(lst_output)[i, 0]:.2f}\",\n",
        "      showarrow=False,\n",
        "      font=dict(color='black'),\n",
        "      align='center',\n",
        "      yshift=10)\n",
        "\n",
        "fig2.update_layout(legend_orientation=\"h\",\n",
        "                  legend=dict(x=.5, xanchor=\"center\"),\n",
        "                  plot_bgcolor='#FFFFFF',\n",
        "                  xaxis=dict(gridcolor = 'lightgrey'),\n",
        "                  yaxis=dict(gridcolor = 'lightgrey'),\n",
        "                  title_text = f'LSTM Prediction 6:2:2 (XOM Stock Price)', title_x = 0.5,\n",
        "                  xaxis_title=\"Day\",\n",
        "                  yaxis_title=\"Stock price\",\n",
        "                  margin=dict(l=0, r=0, t=30, b=0))\n",
        "fig2.show()"
      ],
      "metadata": {
        "colab": {
          "base_uri": "https://localhost:8080/",
          "height": 542
        },
        "id": "9pGr8nBbfaU9",
        "outputId": "143f96d9-831d-4eff-8314-27d64c2976e2"
      },
      "execution_count": null,
      "outputs": [
        {
          "output_type": "display_data",
          "data": {
            "text/html": [
              "<html>\n",
              "<head><meta charset=\"utf-8\" /></head>\n",
              "<body>\n",
              "    <div>            <script src=\"https://cdnjs.cloudflare.com/ajax/libs/mathjax/2.7.5/MathJax.js?config=TeX-AMS-MML_SVG\"></script><script type=\"text/javascript\">if (window.MathJax && window.MathJax.Hub && window.MathJax.Hub.Config) {window.MathJax.Hub.Config({SVG: {font: \"STIX-Web\"}});}</script>                <script type=\"text/javascript\">window.PlotlyConfig = {MathJaxConfig: 'local'};</script>\n",
              "        <script src=\"https://cdn.plot.ly/plotly-2.18.2.min.js\"></script>                <div id=\"63da6a20-9733-41ee-b27b-e5b46055a104\" class=\"plotly-graph-div\" style=\"height:525px; width:100%;\"></div>            <script type=\"text/javascript\">                                    window.PLOTLYENV=window.PLOTLYENV || {};                                    if (document.getElementById(\"63da6a20-9733-41ee-b27b-e5b46055a104\")) {                    Plotly.newPlot(                        \"63da6a20-9733-41ee-b27b-e5b46055a104\",                        [{\"marker\":{\"color\":\"#FF7F0E\",\"size\":4},\"mode\":\"lines+markers\",\"name\":\"Next30Days\",\"x\":[1,2,3,4,5,6,7,8,9,10,11,12,13,14,15,16,17,18,19,20,21,22,23,24,25,26,27,28,29,30],\"y\":[116.70852615939988,116.56788421980139,116.3467596832201,116.08183061227115,115.79237455746939,115.49114910581137,115.18669242925014,114.88419644741174,114.5860349080406,114.2923594381953,114.0018263084258,113.71226568323883,113.42118355894692,113.12621664484419,112.82539378916927,112.51735034839507,112.20127590203614,111.87703973711099,111.54484576587076,111.20530572506901,110.85924572074892,110.50756505822338,110.15112644317044,109.7907455245948,109.42708109592333,109.06064032352431,108.6917944322653,108.32075779143598,107.94766634253712,107.57257237076135],\"type\":\"scatter\"}],                        {\"template\":{\"data\":{\"histogram2dcontour\":[{\"type\":\"histogram2dcontour\",\"colorbar\":{\"outlinewidth\":0,\"ticks\":\"\"},\"colorscale\":[[0.0,\"#0d0887\"],[0.1111111111111111,\"#46039f\"],[0.2222222222222222,\"#7201a8\"],[0.3333333333333333,\"#9c179e\"],[0.4444444444444444,\"#bd3786\"],[0.5555555555555556,\"#d8576b\"],[0.6666666666666666,\"#ed7953\"],[0.7777777777777778,\"#fb9f3a\"],[0.8888888888888888,\"#fdca26\"],[1.0,\"#f0f921\"]]}],\"choropleth\":[{\"type\":\"choropleth\",\"colorbar\":{\"outlinewidth\":0,\"ticks\":\"\"}}],\"histogram2d\":[{\"type\":\"histogram2d\",\"colorbar\":{\"outlinewidth\":0,\"ticks\":\"\"},\"colorscale\":[[0.0,\"#0d0887\"],[0.1111111111111111,\"#46039f\"],[0.2222222222222222,\"#7201a8\"],[0.3333333333333333,\"#9c179e\"],[0.4444444444444444,\"#bd3786\"],[0.5555555555555556,\"#d8576b\"],[0.6666666666666666,\"#ed7953\"],[0.7777777777777778,\"#fb9f3a\"],[0.8888888888888888,\"#fdca26\"],[1.0,\"#f0f921\"]]}],\"heatmap\":[{\"type\":\"heatmap\",\"colorbar\":{\"outlinewidth\":0,\"ticks\":\"\"},\"colorscale\":[[0.0,\"#0d0887\"],[0.1111111111111111,\"#46039f\"],[0.2222222222222222,\"#7201a8\"],[0.3333333333333333,\"#9c179e\"],[0.4444444444444444,\"#bd3786\"],[0.5555555555555556,\"#d8576b\"],[0.6666666666666666,\"#ed7953\"],[0.7777777777777778,\"#fb9f3a\"],[0.8888888888888888,\"#fdca26\"],[1.0,\"#f0f921\"]]}],\"heatmapgl\":[{\"type\":\"heatmapgl\",\"colorbar\":{\"outlinewidth\":0,\"ticks\":\"\"},\"colorscale\":[[0.0,\"#0d0887\"],[0.1111111111111111,\"#46039f\"],[0.2222222222222222,\"#7201a8\"],[0.3333333333333333,\"#9c179e\"],[0.4444444444444444,\"#bd3786\"],[0.5555555555555556,\"#d8576b\"],[0.6666666666666666,\"#ed7953\"],[0.7777777777777778,\"#fb9f3a\"],[0.8888888888888888,\"#fdca26\"],[1.0,\"#f0f921\"]]}],\"contourcarpet\":[{\"type\":\"contourcarpet\",\"colorbar\":{\"outlinewidth\":0,\"ticks\":\"\"}}],\"contour\":[{\"type\":\"contour\",\"colorbar\":{\"outlinewidth\":0,\"ticks\":\"\"},\"colorscale\":[[0.0,\"#0d0887\"],[0.1111111111111111,\"#46039f\"],[0.2222222222222222,\"#7201a8\"],[0.3333333333333333,\"#9c179e\"],[0.4444444444444444,\"#bd3786\"],[0.5555555555555556,\"#d8576b\"],[0.6666666666666666,\"#ed7953\"],[0.7777777777777778,\"#fb9f3a\"],[0.8888888888888888,\"#fdca26\"],[1.0,\"#f0f921\"]]}],\"surface\":[{\"type\":\"surface\",\"colorbar\":{\"outlinewidth\":0,\"ticks\":\"\"},\"colorscale\":[[0.0,\"#0d0887\"],[0.1111111111111111,\"#46039f\"],[0.2222222222222222,\"#7201a8\"],[0.3333333333333333,\"#9c179e\"],[0.4444444444444444,\"#bd3786\"],[0.5555555555555556,\"#d8576b\"],[0.6666666666666666,\"#ed7953\"],[0.7777777777777778,\"#fb9f3a\"],[0.8888888888888888,\"#fdca26\"],[1.0,\"#f0f921\"]]}],\"mesh3d\":[{\"type\":\"mesh3d\",\"colorbar\":{\"outlinewidth\":0,\"ticks\":\"\"}}],\"scatter\":[{\"fillpattern\":{\"fillmode\":\"overlay\",\"size\":10,\"solidity\":0.2},\"type\":\"scatter\"}],\"parcoords\":[{\"type\":\"parcoords\",\"line\":{\"colorbar\":{\"outlinewidth\":0,\"ticks\":\"\"}}}],\"scatterpolargl\":[{\"type\":\"scatterpolargl\",\"marker\":{\"colorbar\":{\"outlinewidth\":0,\"ticks\":\"\"}}}],\"bar\":[{\"error_x\":{\"color\":\"#2a3f5f\"},\"error_y\":{\"color\":\"#2a3f5f\"},\"marker\":{\"line\":{\"color\":\"#E5ECF6\",\"width\":0.5},\"pattern\":{\"fillmode\":\"overlay\",\"size\":10,\"solidity\":0.2}},\"type\":\"bar\"}],\"scattergeo\":[{\"type\":\"scattergeo\",\"marker\":{\"colorbar\":{\"outlinewidth\":0,\"ticks\":\"\"}}}],\"scatterpolar\":[{\"type\":\"scatterpolar\",\"marker\":{\"colorbar\":{\"outlinewidth\":0,\"ticks\":\"\"}}}],\"histogram\":[{\"marker\":{\"pattern\":{\"fillmode\":\"overlay\",\"size\":10,\"solidity\":0.2}},\"type\":\"histogram\"}],\"scattergl\":[{\"type\":\"scattergl\",\"marker\":{\"colorbar\":{\"outlinewidth\":0,\"ticks\":\"\"}}}],\"scatter3d\":[{\"type\":\"scatter3d\",\"line\":{\"colorbar\":{\"outlinewidth\":0,\"ticks\":\"\"}},\"marker\":{\"colorbar\":{\"outlinewidth\":0,\"ticks\":\"\"}}}],\"scattermapbox\":[{\"type\":\"scattermapbox\",\"marker\":{\"colorbar\":{\"outlinewidth\":0,\"ticks\":\"\"}}}],\"scatterternary\":[{\"type\":\"scatterternary\",\"marker\":{\"colorbar\":{\"outlinewidth\":0,\"ticks\":\"\"}}}],\"scattercarpet\":[{\"type\":\"scattercarpet\",\"marker\":{\"colorbar\":{\"outlinewidth\":0,\"ticks\":\"\"}}}],\"carpet\":[{\"aaxis\":{\"endlinecolor\":\"#2a3f5f\",\"gridcolor\":\"white\",\"linecolor\":\"white\",\"minorgridcolor\":\"white\",\"startlinecolor\":\"#2a3f5f\"},\"baxis\":{\"endlinecolor\":\"#2a3f5f\",\"gridcolor\":\"white\",\"linecolor\":\"white\",\"minorgridcolor\":\"white\",\"startlinecolor\":\"#2a3f5f\"},\"type\":\"carpet\"}],\"table\":[{\"cells\":{\"fill\":{\"color\":\"#EBF0F8\"},\"line\":{\"color\":\"white\"}},\"header\":{\"fill\":{\"color\":\"#C8D4E3\"},\"line\":{\"color\":\"white\"}},\"type\":\"table\"}],\"barpolar\":[{\"marker\":{\"line\":{\"color\":\"#E5ECF6\",\"width\":0.5},\"pattern\":{\"fillmode\":\"overlay\",\"size\":10,\"solidity\":0.2}},\"type\":\"barpolar\"}],\"pie\":[{\"automargin\":true,\"type\":\"pie\"}]},\"layout\":{\"autotypenumbers\":\"strict\",\"colorway\":[\"#636efa\",\"#EF553B\",\"#00cc96\",\"#ab63fa\",\"#FFA15A\",\"#19d3f3\",\"#FF6692\",\"#B6E880\",\"#FF97FF\",\"#FECB52\"],\"font\":{\"color\":\"#2a3f5f\"},\"hovermode\":\"closest\",\"hoverlabel\":{\"align\":\"left\"},\"paper_bgcolor\":\"white\",\"plot_bgcolor\":\"#E5ECF6\",\"polar\":{\"bgcolor\":\"#E5ECF6\",\"angularaxis\":{\"gridcolor\":\"white\",\"linecolor\":\"white\",\"ticks\":\"\"},\"radialaxis\":{\"gridcolor\":\"white\",\"linecolor\":\"white\",\"ticks\":\"\"}},\"ternary\":{\"bgcolor\":\"#E5ECF6\",\"aaxis\":{\"gridcolor\":\"white\",\"linecolor\":\"white\",\"ticks\":\"\"},\"baxis\":{\"gridcolor\":\"white\",\"linecolor\":\"white\",\"ticks\":\"\"},\"caxis\":{\"gridcolor\":\"white\",\"linecolor\":\"white\",\"ticks\":\"\"}},\"coloraxis\":{\"colorbar\":{\"outlinewidth\":0,\"ticks\":\"\"}},\"colorscale\":{\"sequential\":[[0.0,\"#0d0887\"],[0.1111111111111111,\"#46039f\"],[0.2222222222222222,\"#7201a8\"],[0.3333333333333333,\"#9c179e\"],[0.4444444444444444,\"#bd3786\"],[0.5555555555555556,\"#d8576b\"],[0.6666666666666666,\"#ed7953\"],[0.7777777777777778,\"#fb9f3a\"],[0.8888888888888888,\"#fdca26\"],[1.0,\"#f0f921\"]],\"sequentialminus\":[[0.0,\"#0d0887\"],[0.1111111111111111,\"#46039f\"],[0.2222222222222222,\"#7201a8\"],[0.3333333333333333,\"#9c179e\"],[0.4444444444444444,\"#bd3786\"],[0.5555555555555556,\"#d8576b\"],[0.6666666666666666,\"#ed7953\"],[0.7777777777777778,\"#fb9f3a\"],[0.8888888888888888,\"#fdca26\"],[1.0,\"#f0f921\"]],\"diverging\":[[0,\"#8e0152\"],[0.1,\"#c51b7d\"],[0.2,\"#de77ae\"],[0.3,\"#f1b6da\"],[0.4,\"#fde0ef\"],[0.5,\"#f7f7f7\"],[0.6,\"#e6f5d0\"],[0.7,\"#b8e186\"],[0.8,\"#7fbc41\"],[0.9,\"#4d9221\"],[1,\"#276419\"]]},\"xaxis\":{\"gridcolor\":\"white\",\"linecolor\":\"white\",\"ticks\":\"\",\"title\":{\"standoff\":15},\"zerolinecolor\":\"white\",\"automargin\":true,\"zerolinewidth\":2},\"yaxis\":{\"gridcolor\":\"white\",\"linecolor\":\"white\",\"ticks\":\"\",\"title\":{\"standoff\":15},\"zerolinecolor\":\"white\",\"automargin\":true,\"zerolinewidth\":2},\"scene\":{\"xaxis\":{\"backgroundcolor\":\"#E5ECF6\",\"gridcolor\":\"white\",\"linecolor\":\"white\",\"showbackground\":true,\"ticks\":\"\",\"zerolinecolor\":\"white\",\"gridwidth\":2},\"yaxis\":{\"backgroundcolor\":\"#E5ECF6\",\"gridcolor\":\"white\",\"linecolor\":\"white\",\"showbackground\":true,\"ticks\":\"\",\"zerolinecolor\":\"white\",\"gridwidth\":2},\"zaxis\":{\"backgroundcolor\":\"#E5ECF6\",\"gridcolor\":\"white\",\"linecolor\":\"white\",\"showbackground\":true,\"ticks\":\"\",\"zerolinecolor\":\"white\",\"gridwidth\":2}},\"shapedefaults\":{\"line\":{\"color\":\"#2a3f5f\"}},\"annotationdefaults\":{\"arrowcolor\":\"#2a3f5f\",\"arrowhead\":0,\"arrowwidth\":1},\"geo\":{\"bgcolor\":\"white\",\"landcolor\":\"#E5ECF6\",\"subunitcolor\":\"white\",\"showland\":true,\"showlakes\":true,\"lakecolor\":\"white\"},\"title\":{\"x\":0.05},\"mapbox\":{\"style\":\"light\"}}},\"annotations\":[{\"align\":\"center\",\"font\":{\"color\":\"black\"},\"showarrow\":false,\"text\":\"116.71\",\"x\":1,\"y\":116.70852615939988,\"yshift\":10},{\"align\":\"center\",\"font\":{\"color\":\"black\"},\"showarrow\":false,\"text\":\"116.57\",\"x\":2,\"y\":116.56788421980139,\"yshift\":10},{\"align\":\"center\",\"font\":{\"color\":\"black\"},\"showarrow\":false,\"text\":\"116.35\",\"x\":3,\"y\":116.3467596832201,\"yshift\":10},{\"align\":\"center\",\"font\":{\"color\":\"black\"},\"showarrow\":false,\"text\":\"116.08\",\"x\":4,\"y\":116.08183061227115,\"yshift\":10},{\"align\":\"center\",\"font\":{\"color\":\"black\"},\"showarrow\":false,\"text\":\"115.79\",\"x\":5,\"y\":115.79237455746939,\"yshift\":10},{\"align\":\"center\",\"font\":{\"color\":\"black\"},\"showarrow\":false,\"text\":\"115.49\",\"x\":6,\"y\":115.49114910581137,\"yshift\":10},{\"align\":\"center\",\"font\":{\"color\":\"black\"},\"showarrow\":false,\"text\":\"115.19\",\"x\":7,\"y\":115.18669242925014,\"yshift\":10},{\"align\":\"center\",\"font\":{\"color\":\"black\"},\"showarrow\":false,\"text\":\"114.88\",\"x\":8,\"y\":114.88419644741174,\"yshift\":10},{\"align\":\"center\",\"font\":{\"color\":\"black\"},\"showarrow\":false,\"text\":\"114.59\",\"x\":9,\"y\":114.5860349080406,\"yshift\":10},{\"align\":\"center\",\"font\":{\"color\":\"black\"},\"showarrow\":false,\"text\":\"114.29\",\"x\":10,\"y\":114.2923594381953,\"yshift\":10},{\"align\":\"center\",\"font\":{\"color\":\"black\"},\"showarrow\":false,\"text\":\"114.00\",\"x\":11,\"y\":114.0018263084258,\"yshift\":10},{\"align\":\"center\",\"font\":{\"color\":\"black\"},\"showarrow\":false,\"text\":\"113.71\",\"x\":12,\"y\":113.71226568323883,\"yshift\":10},{\"align\":\"center\",\"font\":{\"color\":\"black\"},\"showarrow\":false,\"text\":\"113.42\",\"x\":13,\"y\":113.42118355894692,\"yshift\":10},{\"align\":\"center\",\"font\":{\"color\":\"black\"},\"showarrow\":false,\"text\":\"113.13\",\"x\":14,\"y\":113.12621664484419,\"yshift\":10},{\"align\":\"center\",\"font\":{\"color\":\"black\"},\"showarrow\":false,\"text\":\"112.83\",\"x\":15,\"y\":112.82539378916927,\"yshift\":10},{\"align\":\"center\",\"font\":{\"color\":\"black\"},\"showarrow\":false,\"text\":\"112.52\",\"x\":16,\"y\":112.51735034839507,\"yshift\":10},{\"align\":\"center\",\"font\":{\"color\":\"black\"},\"showarrow\":false,\"text\":\"112.20\",\"x\":17,\"y\":112.20127590203614,\"yshift\":10},{\"align\":\"center\",\"font\":{\"color\":\"black\"},\"showarrow\":false,\"text\":\"111.88\",\"x\":18,\"y\":111.87703973711099,\"yshift\":10},{\"align\":\"center\",\"font\":{\"color\":\"black\"},\"showarrow\":false,\"text\":\"111.54\",\"x\":19,\"y\":111.54484576587076,\"yshift\":10},{\"align\":\"center\",\"font\":{\"color\":\"black\"},\"showarrow\":false,\"text\":\"111.21\",\"x\":20,\"y\":111.20530572506901,\"yshift\":10},{\"align\":\"center\",\"font\":{\"color\":\"black\"},\"showarrow\":false,\"text\":\"110.86\",\"x\":21,\"y\":110.85924572074892,\"yshift\":10},{\"align\":\"center\",\"font\":{\"color\":\"black\"},\"showarrow\":false,\"text\":\"110.51\",\"x\":22,\"y\":110.50756505822338,\"yshift\":10},{\"align\":\"center\",\"font\":{\"color\":\"black\"},\"showarrow\":false,\"text\":\"110.15\",\"x\":23,\"y\":110.15112644317044,\"yshift\":10},{\"align\":\"center\",\"font\":{\"color\":\"black\"},\"showarrow\":false,\"text\":\"109.79\",\"x\":24,\"y\":109.7907455245948,\"yshift\":10},{\"align\":\"center\",\"font\":{\"color\":\"black\"},\"showarrow\":false,\"text\":\"109.43\",\"x\":25,\"y\":109.42708109592333,\"yshift\":10},{\"align\":\"center\",\"font\":{\"color\":\"black\"},\"showarrow\":false,\"text\":\"109.06\",\"x\":26,\"y\":109.06064032352431,\"yshift\":10},{\"align\":\"center\",\"font\":{\"color\":\"black\"},\"showarrow\":false,\"text\":\"108.69\",\"x\":27,\"y\":108.6917944322653,\"yshift\":10},{\"align\":\"center\",\"font\":{\"color\":\"black\"},\"showarrow\":false,\"text\":\"108.32\",\"x\":28,\"y\":108.32075779143598,\"yshift\":10},{\"align\":\"center\",\"font\":{\"color\":\"black\"},\"showarrow\":false,\"text\":\"107.95\",\"x\":29,\"y\":107.94766634253712,\"yshift\":10},{\"align\":\"center\",\"font\":{\"color\":\"black\"},\"showarrow\":false,\"text\":\"107.57\",\"x\":30,\"y\":107.57257237076135,\"yshift\":10}],\"legend\":{\"orientation\":\"h\",\"x\":0.5,\"xanchor\":\"center\"},\"xaxis\":{\"gridcolor\":\"lightgrey\",\"title\":{\"text\":\"Day\"}},\"yaxis\":{\"gridcolor\":\"lightgrey\",\"title\":{\"text\":\"Stock price\"}},\"title\":{\"text\":\"LSTM Prediction 6:2:2 (XOM Stock Price)\",\"x\":0.5},\"margin\":{\"l\":0,\"r\":0,\"t\":30,\"b\":0},\"plot_bgcolor\":\"#FFFFFF\"},                        {\"responsive\": true}                    ).then(function(){\n",
              "                            \n",
              "var gd = document.getElementById('63da6a20-9733-41ee-b27b-e5b46055a104');\n",
              "var x = new MutationObserver(function (mutations, observer) {{\n",
              "        var display = window.getComputedStyle(gd).display;\n",
              "        if (!display || display === 'none') {{\n",
              "            console.log([gd, 'removed!']);\n",
              "            Plotly.purge(gd);\n",
              "            observer.disconnect();\n",
              "        }}\n",
              "}});\n",
              "\n",
              "// Listen for the removal of the full notebook cells\n",
              "var notebookContainer = gd.closest('#notebook-container');\n",
              "if (notebookContainer) {{\n",
              "    x.observe(notebookContainer, {childList: true});\n",
              "}}\n",
              "\n",
              "// Listen for the clearing of the current output cell\n",
              "var outputEl = gd.closest('.output');\n",
              "if (outputEl) {{\n",
              "    x.observe(outputEl, {childList: true});\n",
              "}}\n",
              "\n",
              "                        })                };                            </script>        </div>\n",
              "</body>\n",
              "</html>"
            ]
          },
          "metadata": {}
        }
      ]
    }
  ]
}